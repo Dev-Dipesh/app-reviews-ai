{
 "cells": [
  {
   "cell_type": "markdown",
   "metadata": {},
   "source": [
    "# App Reviews AI - Enhanced Analysis Dashboard\n",
    "\n",
    "This notebook demonstrates how to use the App Reviews AI system to analyze app reviews from the Google Play Store and generate a comprehensive, insightful dashboard that's ready to share with stakeholders.\n",
    "\n",
    "## What's Included in the Enhanced Dashboard\n",
    "\n",
    "This notebook creates a fully comprehensive analysis dashboard that includes:\n",
    "\n",
    "1. **Interactive Visualizations**\n",
    "   - Rating distributions with trend analysis\n",
    "   - Sentiment analysis with distribution charts\n",
    "   - Topic modeling with detailed topic breakdowns\n",
    "   - Version-based analysis showing performance across app versions\n",
    "   - Keyword analysis and importance rankings\n",
    "\n",
    "2. **Explanatory Elements**\n",
    "   - Detailed explanations for each visualization\n",
    "   - Interpretation guidance for all metrics\n",
    "   - Context for why each chart matters and how to use the insights\n",
    "\n",
    "3. **Tabular Insights**\n",
    "   - Comprehensive metrics tables by version\n",
    "   - Topic details with representative keywords\n",
    "   - Keyword importance heatmaps\n",
    "   - Performance comparison across versions\n",
    "\n",
    "4. **AI-Generated Insights**\n",
    "   - Critical issues identification\n",
    "   - User pain points categorization\n",
    "   - Quick win opportunities\n",
    "   - Strengths to build upon\n",
    "   - Version-specific findings\n",
    "\n",
    "This enhanced dashboard provides a complete picture of app performance based on user reviews, with actionable insights that product managers, developers, and executives can use to drive improvements.\n",
    "\n",
    "## Options for Review Data\n",
    "\n",
    "This notebook provides multiple options for working with review data:\n",
    "\n",
    "1. **Fetch new reviews** from the Google Play Store API\n",
    "2. **Load existing reviews** from CSV storage\n",
    "3. **Retrieve reviews** from the vector database\n",
    "4. **Generate mock data** as a fallback\n",
    "\n",
    "This flexible approach allows you to run the analysis without repeatedly making API calls, which conserves API quotas and speeds up the workflow when iterating on the analysis."
   ]
  },
  {
   "cell_type": "markdown",
   "metadata": {},
   "source": [
    "# Setup\n",
    "\n",
    "First, let's set up the environment and import the necessary modules."
   ]
  },
  {
   "cell_type": "code",
   "execution_count": 1,
   "metadata": {},
   "outputs": [
    {
     "name": "stdout",
     "output_type": "stream",
     "text": [
      "Added /Users/dipesh/Local-Projects/indigo-reviews-ai to Python path\n"
     ]
    }
   ],
   "source": [
    "# Import required libraries\n",
    "import os\n",
    "import sys\n",
    "import pandas as pd\n",
    "import matplotlib.pyplot as plt\n",
    "import seaborn as sns\n",
    "from datetime import datetime\n",
    "from dotenv import load_dotenv\n",
    "\n",
    "# Add the project root to the path so we can import our modules\n",
    "# Get the absolute path to the project root\n",
    "project_root = os.path.abspath(os.path.join(os.path.dirname('__file__'), '..'))\n",
    "if project_root not in sys.path:\n",
    "    sys.path.insert(0, project_root)\n",
    "    print(f\"Added {project_root} to Python path\")\n",
    "\n",
    "# Load environment variables from .env file\n",
    "load_dotenv()\n",
    "\n",
    "# Check if OpenAI API key is available\n",
    "if not os.environ.get(\"OPENAI_API_KEY\"):\n",
    "    print(\"⚠️ WARNING: OPENAI_API_KEY not found in environment variables. Some features may not work.\")"
   ]
  },
  {
   "cell_type": "markdown",
   "metadata": {},
   "source": [
    "## Initialize the Runner\n",
    "\n",
    "Now let's import and initialize our review analysis runner."
   ]
  },
  {
   "cell_type": "code",
   "execution_count": null,
   "metadata": {},
   "outputs": [
    {
     "name": "stdout",
     "output_type": "stream",
     "text": [
      "DEBUG: Applying APP_ID from environment: 'in.goindigo.android  # Google Play Store app ID'\n",
      "2025-05-08 08:40:54,903 - app_reviews - INFO - Initializing modules...\n",
      "2025-05-08 08:40:54,905 - app_reviews - INFO - Initializing acquisition module...\n",
      "Acquisition module using APP_ID from environment: in.goindigo.android  # Google Play Store app ID\n",
      "2025-05-08 08:40:54,908 - app_reviews - INFO - Using app ID: in.goindigo.android  # Google Play Store app ID\n",
      "2025-05-08 08:40:54,909 - app_reviews - INFO - Using MAX_REVIEWS from environment: 11\n",
      "2025-05-08 08:40:54,926 - app_reviews - ERROR - Failed to fetch app information: URL can't contain control characters. '/store/apps/details?id=in.goindigo.android  ' (found at least ' ')\n",
      "2025-05-08 08:40:54,927 - app_reviews - WARNING - Using generic app information fallback\n",
      "2025-05-08 08:40:54,927 - app_reviews - INFO - Initializing storage module...\n",
      "Initialize: Using default file path: /Users/dipesh/Local-Projects/indigo-reviews-ai/src/data/reviews.csv\n",
      "2025-05-08 08:40:54,928 - app_reviews - INFO - Initializing preprocessor module...\n",
      "2025-05-08 08:40:54,932 - app_reviews - INFO - Initializing analyzer module...\n",
      "2025-05-08 08:40:55,170 - app_reviews - INFO - Initializing vector database module...\n",
      "2025-05-08 08:40:55,415 - chromadb.telemetry.product.posthog - INFO - Anonymized telemetry enabled. See                     https://docs.trychroma.com/telemetry for more information.\n",
      "DEBUG: Vector DB checking USE_MOCK_DATA: 'false          # Set to true to use mock data, false to fetch real data'\n",
      "DEBUG: Small test run detected (MAX_REVIEWS ≤ 50), using mock embeddings\n",
      "Using simple mock embedding function\n",
      "Using separate collection for mock data: app_reviews_mock\n",
      "Using existing collection: app_reviews_mock with 4282 documents\n",
      "2025-05-08 08:40:55,546 - app_reviews - INFO - Initializing LLM module...\n",
      "2025-05-08 08:40:56,043 - urllib3.connectionpool - WARNING - Retrying (Retry(total=1, connect=1, read=2, redirect=None, status=None)) after connection broken by 'NameResolutionError(\"<urllib3.connection.HTTPSConnection object at 0x147537d90>: Failed to resolve 'us.i.posthog.com' ([Errno 8] nodename nor servname provided, or not known)\")': /batch/\n",
      "2025-05-08 08:40:56,046 - urllib3.connectionpool - WARNING - Retrying (Retry(total=0, connect=0, read=2, redirect=None, status=None)) after connection broken by 'NameResolutionError(\"<urllib3.connection.HTTPSConnection object at 0x147544850>: Failed to resolve 'us.i.posthog.com' ([Errno 8] nodename nor servname provided, or not known)\")': /batch/\n",
      "2025-05-08 08:40:56,055 - backoff - INFO - Backing off send_request(...) for 0.8s (requests.exceptions.ConnectionError: HTTPSConnectionPool(host='us.i.posthog.com', port=443): Max retries exceeded with url: /batch/ (Caused by NameResolutionError(\"<urllib3.connection.HTTPSConnection object at 0x147545250>: Failed to resolve 'us.i.posthog.com' ([Errno 8] nodename nor servname provided, or not known)\")))\n",
      "2025-05-08 08:40:56,722 - httpx - INFO - HTTP Request: POST https://api.openai.com/v1/chat/completions \"HTTP/1.1 200 OK\"\n",
      "2025-05-08 08:40:56,737 - app_reviews - INFO - Initializing visualization module...\n",
      "2025-05-08 08:40:56,740 - app_reviews - INFO - All modules initialized successfully.\n"
     ]
    },
    {
     "name": "stdout",
     "output_type": "stream",
     "text": [
      "2025-05-08 08:40:56,876 - urllib3.connectionpool - WARNING - Retrying (Retry(total=1, connect=1, read=2, redirect=None, status=None)) after connection broken by 'NameResolutionError(\"<urllib3.connection.HTTPSConnection object at 0x147537690>: Failed to resolve 'us.i.posthog.com' ([Errno 8] nodename nor servname provided, or not known)\")': /batch/\n",
      "2025-05-08 08:40:56,878 - urllib3.connectionpool - WARNING - Retrying (Retry(total=0, connect=0, read=2, redirect=None, status=None)) after connection broken by 'NameResolutionError(\"<urllib3.connection.HTTPSConnection object at 0x106506e50>: Failed to resolve 'us.i.posthog.com' ([Errno 8] nodename nor servname provided, or not known)\")': /batch/\n",
      "2025-05-08 08:40:56,882 - backoff - INFO - Backing off send_request(...) for 1.4s (requests.exceptions.ConnectionError: HTTPSConnectionPool(host='us.i.posthog.com', port=443): Max retries exceeded with url: /batch/ (Caused by NameResolutionError(\"<urllib3.connection.HTTPSConnection object at 0x1475b3ed0>: Failed to resolve 'us.i.posthog.com' ([Errno 8] nodename nor servname provided, or not known)\")))\n",
      "2025-05-08 08:40:58,338 - urllib3.connectionpool - WARNING - Retrying (Retry(total=1, connect=1, read=2, redirect=None, status=None)) after connection broken by 'NameResolutionError(\"<urllib3.connection.HTTPSConnection object at 0x1475bc510>: Failed to resolve 'us.i.posthog.com' ([Errno 8] nodename nor servname provided, or not known)\")': /batch/\n",
      "2025-05-08 08:40:58,342 - urllib3.connectionpool - WARNING - Retrying (Retry(total=0, connect=0, read=2, redirect=None, status=None)) after connection broken by 'NameResolutionError(\"<urllib3.connection.HTTPSConnection object at 0x1475bd250>: Failed to resolve 'us.i.posthog.com' ([Errno 8] nodename nor servname provided, or not known)\")': /batch/\n",
      "2025-05-08 08:40:58,347 - backoff - INFO - Backing off send_request(...) for 1.6s (requests.exceptions.ConnectionError: HTTPSConnectionPool(host='us.i.posthog.com', port=443): Max retries exceeded with url: /batch/ (Caused by NameResolutionError(\"<urllib3.connection.HTTPSConnection object at 0x1475bdc50>: Failed to resolve 'us.i.posthog.com' ([Errno 8] nodename nor servname provided, or not known)\")))\n",
      "2025-05-08 08:40:59,918 - urllib3.connectionpool - WARNING - Retrying (Retry(total=1, connect=1, read=2, redirect=None, status=None)) after connection broken by 'NameResolutionError(\"<urllib3.connection.HTTPSConnection object at 0x1475be950>: Failed to resolve 'us.i.posthog.com' ([Errno 8] nodename nor servname provided, or not known)\")': /batch/\n",
      "2025-05-08 08:40:59,921 - urllib3.connectionpool - WARNING - Retrying (Retry(total=0, connect=0, read=2, redirect=None, status=None)) after connection broken by 'NameResolutionError(\"<urllib3.connection.HTTPSConnection object at 0x1475bf1d0>: Failed to resolve 'us.i.posthog.com' ([Errno 8] nodename nor servname provided, or not known)\")': /batch/\n",
      "2025-05-08 08:40:59,934 - backoff - ERROR - Giving up send_request(...) after 4 tries (requests.exceptions.ConnectionError: HTTPSConnectionPool(host='us.i.posthog.com', port=443): Max retries exceeded with url: /batch/ (Caused by NameResolutionError(\"<urllib3.connection.HTTPSConnection object at 0x1475bfb90>: Failed to resolve 'us.i.posthog.com' ([Errno 8] nodename nor servname provided, or not known)\")))\n"
     ]
    }
   ],
   "source": [
    "# Ensure all required directories exist\n",
    "import os\n",
    "os.makedirs(os.path.join('..', 'logs'), exist_ok=True)\n",
    "os.makedirs(os.path.join('..', 'data'), exist_ok=True)\n",
    "os.makedirs(os.path.join('..', 'reports'), exist_ok=True)\n",
    "\n",
    "from src.runner import ReviewAnalysisRunner\n",
    "\n",
    "# Initialize the runner\n",
    "runner = ReviewAnalysisRunner()\n",
    "\n",
    "# Initialize the modules\n",
    "runner._initialize_modules()"
   ]
  },
  {
   "cell_type": "markdown",
   "metadata": {},
   "source": [
    "## Fetch or Load App Reviews\n",
    "\n",
    "You can either fetch new reviews from the Google Play Store or load existing reviews from storage.\n",
    "Choose one of the options below based on your needs."
   ]
  },
  {
   "cell_type": "code",
   "execution_count": 3,
   "metadata": {},
   "outputs": [
    {
     "name": "stdout",
     "output_type": "stream",
     "text": [
      "Loading reviews from: /Users/dipesh/Local-Projects/indigo-reviews-ai/data/reviews.csv\n",
      "Successfully loaded 4398 reviews from CSV file\n",
      "App: Indigo      # Display name for app (used in reports and when in mock mode)\n",
      "Developer: App Developer\n",
      "Total reviews: 4398\n",
      "Average rating: 2.8967712596634834\n"
     ]
    },
    {
     "data": {
      "text/html": [
       "<div>\n",
       "<style scoped>\n",
       "    .dataframe tbody tr th:only-of-type {\n",
       "        vertical-align: middle;\n",
       "    }\n",
       "\n",
       "    .dataframe tbody tr th {\n",
       "        vertical-align: top;\n",
       "    }\n",
       "\n",
       "    .dataframe thead th {\n",
       "        text-align: right;\n",
       "    }\n",
       "</style>\n",
       "<table border=\"1\" class=\"dataframe\">\n",
       "  <thead>\n",
       "    <tr style=\"text-align: right;\">\n",
       "      <th></th>\n",
       "      <th>review_id</th>\n",
       "      <th>author</th>\n",
       "      <th>date</th>\n",
       "      <th>rating</th>\n",
       "      <th>text</th>\n",
       "      <th>version</th>\n",
       "      <th>timestamp</th>\n",
       "      <th>thumbsUpCount</th>\n",
       "      <th>replyContent</th>\n",
       "      <th>repliedAt</th>\n",
       "      <th>cleaned_text</th>\n",
       "      <th>normalized_text</th>\n",
       "      <th>primary_topic</th>\n",
       "      <th>topic_confidence</th>\n",
       "    </tr>\n",
       "  </thead>\n",
       "  <tbody>\n",
       "    <tr>\n",
       "      <th>0</th>\n",
       "      <td>54fb749d-9891-431c-aa67-74b62740ccb3</td>\n",
       "      <td>Vinay Thota</td>\n",
       "      <td>NaT</td>\n",
       "      <td>1</td>\n",
       "      <td>This app is too bad. To start with the perform...</td>\n",
       "      <td>7.2.4</td>\n",
       "      <td>NaN</td>\n",
       "      <td>0</td>\n",
       "      <td>NaN</td>\n",
       "      <td>NaN</td>\n",
       "      <td>this app is too bad to start with the performa...</td>\n",
       "      <td>app bad start performance slow end error somet...</td>\n",
       "      <td>9.0</td>\n",
       "      <td>0.710574</td>\n",
       "    </tr>\n",
       "    <tr>\n",
       "      <th>1</th>\n",
       "      <td>c42775b8-1f56-4b4c-b63a-12b6d88e60eb</td>\n",
       "      <td>Kd Koushik</td>\n",
       "      <td>NaT</td>\n",
       "      <td>2</td>\n",
       "      <td>glitches</td>\n",
       "      <td>7.2.4</td>\n",
       "      <td>NaN</td>\n",
       "      <td>0</td>\n",
       "      <td>NaN</td>\n",
       "      <td>NaN</td>\n",
       "      <td>glitches</td>\n",
       "      <td>glitch</td>\n",
       "      <td>1.0</td>\n",
       "      <td>0.550000</td>\n",
       "    </tr>\n",
       "    <tr>\n",
       "      <th>2</th>\n",
       "      <td>59028efa-8e33-4ac2-b28e-2e720da62f46</td>\n",
       "      <td>Vinay Didla</td>\n",
       "      <td>NaT</td>\n",
       "      <td>1</td>\n",
       "      <td>What a waste of time.. most annoying app ever....</td>\n",
       "      <td>NaN</td>\n",
       "      <td>NaN</td>\n",
       "      <td>0</td>\n",
       "      <td>NaN</td>\n",
       "      <td>NaN</td>\n",
       "      <td>what a waste of time most annoying app ever ca...</td>\n",
       "      <td>waste time annoying app ever cant even edit na...</td>\n",
       "      <td>4.0</td>\n",
       "      <td>0.475887</td>\n",
       "    </tr>\n",
       "    <tr>\n",
       "      <th>3</th>\n",
       "      <td>8985a281-1d75-4396-bb50-8f66b63ff2f3</td>\n",
       "      <td>Jason Mascarenhas</td>\n",
       "      <td>NaT</td>\n",
       "      <td>1</td>\n",
       "      <td>App has become unstable after the update, won'...</td>\n",
       "      <td>7.2.4</td>\n",
       "      <td>NaN</td>\n",
       "      <td>0</td>\n",
       "      <td>NaN</td>\n",
       "      <td>NaN</td>\n",
       "      <td>app has become unstable after the update wont ...</td>\n",
       "      <td>app become unstable update wont even allow login</td>\n",
       "      <td>7.0</td>\n",
       "      <td>0.608086</td>\n",
       "    </tr>\n",
       "    <tr>\n",
       "      <th>4</th>\n",
       "      <td>ff5ebf21-6d8c-4da8-84e1-666abb235846</td>\n",
       "      <td>Raghubir Biswas</td>\n",
       "      <td>NaT</td>\n",
       "      <td>1</td>\n",
       "      <td>There's reasons why it is amongst worst airlin...</td>\n",
       "      <td>3.0.4</td>\n",
       "      <td>NaN</td>\n",
       "      <td>1</td>\n",
       "      <td>NaN</td>\n",
       "      <td>NaN</td>\n",
       "      <td>theres reasons why it is amongst worst airline...</td>\n",
       "      <td>there reason amongst worst airline world</td>\n",
       "      <td>1.0</td>\n",
       "      <td>0.819992</td>\n",
       "    </tr>\n",
       "  </tbody>\n",
       "</table>\n",
       "</div>"
      ],
      "text/plain": [
       "                              review_id             author date  rating  \\\n",
       "0  54fb749d-9891-431c-aa67-74b62740ccb3        Vinay Thota  NaT       1   \n",
       "1  c42775b8-1f56-4b4c-b63a-12b6d88e60eb         Kd Koushik  NaT       2   \n",
       "2  59028efa-8e33-4ac2-b28e-2e720da62f46        Vinay Didla  NaT       1   \n",
       "3  8985a281-1d75-4396-bb50-8f66b63ff2f3  Jason Mascarenhas  NaT       1   \n",
       "4  ff5ebf21-6d8c-4da8-84e1-666abb235846    Raghubir Biswas  NaT       1   \n",
       "\n",
       "                                                text version  timestamp  \\\n",
       "0  This app is too bad. To start with the perform...   7.2.4        NaN   \n",
       "1                                           glitches   7.2.4        NaN   \n",
       "2  What a waste of time.. most annoying app ever....     NaN        NaN   \n",
       "3  App has become unstable after the update, won'...   7.2.4        NaN   \n",
       "4  There's reasons why it is amongst worst airlin...   3.0.4        NaN   \n",
       "\n",
       "   thumbsUpCount replyContent repliedAt  \\\n",
       "0              0          NaN       NaN   \n",
       "1              0          NaN       NaN   \n",
       "2              0          NaN       NaN   \n",
       "3              0          NaN       NaN   \n",
       "4              1          NaN       NaN   \n",
       "\n",
       "                                        cleaned_text  \\\n",
       "0  this app is too bad to start with the performa...   \n",
       "1                                           glitches   \n",
       "2  what a waste of time most annoying app ever ca...   \n",
       "3  app has become unstable after the update wont ...   \n",
       "4  theres reasons why it is amongst worst airline...   \n",
       "\n",
       "                                     normalized_text  primary_topic  \\\n",
       "0  app bad start performance slow end error somet...            9.0   \n",
       "1                                             glitch            1.0   \n",
       "2  waste time annoying app ever cant even edit na...            4.0   \n",
       "3   app become unstable update wont even allow login            7.0   \n",
       "4           there reason amongst worst airline world            1.0   \n",
       "\n",
       "   topic_confidence  \n",
       "0          0.710574  \n",
       "1          0.550000  \n",
       "2          0.475887  \n",
       "3          0.608086  \n",
       "4          0.819992  "
      ]
     },
     "execution_count": 3,
     "metadata": {},
     "output_type": "execute_result"
    }
   ],
   "source": [
    "# Option 1: Fetch new reviews from Google Play Store\n",
    "# Uncomment this section to fetch fresh reviews\n",
    "\n",
    "# app_id = \"com.example.app\"  # Example mobile app ID\n",
    "# start_date = \"6 months ago\"  # Fetch reviews from 6 months ago\n",
    "# end_date = \"now\"             # Up to today\n",
    "# max_reviews = 1000           # Limit to 1000 reviews for demonstration purposes\n",
    "\n",
    "# reviews_df = runner.fetch_reviews(\n",
    "#     app_id=app_id,\n",
    "#     start_date=start_date,\n",
    "#     end_date=end_date,\n",
    "#     max_reviews=max_reviews\n",
    "# )\n",
    "\n",
    "# Make sure data directory exists\n",
    "project_root = os.path.abspath(os.path.join(os.path.dirname('__file__'), '..'))\n",
    "data_dir = os.path.join(project_root, 'data')\n",
    "os.makedirs(data_dir, exist_ok=True)\n",
    "\n",
    "# Temporarily disable mock mode for data loading\n",
    "original_mock_value = os.environ.get(\"USE_MOCK_DATA\", \"\")\n",
    "os.environ[\"USE_MOCK_DATA\"] = \"false\"\n",
    "\n",
    "# Option 2: Load reviews from a previously saved CSV file\n",
    "# This is useful to avoid making API calls repeatedly\n",
    "use_storage = True  # Set to False to skip this option\n",
    "\n",
    "reviews_df = None\n",
    "if use_storage:\n",
    "    try:\n",
    "        # Direct load from the CSV file to bypass storage module issues\n",
    "        csv_path = os.path.join(project_root, 'data', 'reviews.csv')\n",
    "        if os.path.exists(csv_path):\n",
    "            print(f\"Loading reviews from: {csv_path}\")\n",
    "            reviews_df = pd.read_csv(csv_path)\n",
    "            \n",
    "            # Convert date column to datetime if it exists\n",
    "            if 'date' in reviews_df.columns:\n",
    "                reviews_df['date'] = pd.to_datetime(reviews_df['date'], errors='coerce')\n",
    "                \n",
    "            if reviews_df.empty:\n",
    "                raise ValueError(\"CSV file exists but contains no data\")\n",
    "                \n",
    "            print(f\"Successfully loaded {len(reviews_df)} reviews from CSV file\")\n",
    "        else:\n",
    "            # Fall back to storage module\n",
    "            print(\"CSV file not found, trying storage module...\")\n",
    "            reviews_df = runner.storage.retrieve_data()\n",
    "            \n",
    "            if reviews_df.empty:\n",
    "                raise ValueError(\"No reviews found in storage\")\n",
    "            \n",
    "            print(f\"Successfully loaded {len(reviews_df)} reviews from storage\")\n",
    "    except Exception as e:\n",
    "        print(f\"Error loading from storage: {e}\")\n",
    "        reviews_df = None\n",
    "\n",
    "# Option 3: Load reviews from Vector Database\n",
    "# Try vector DB if storage failed\n",
    "use_vector_db = (reviews_df is None)\n",
    "\n",
    "if use_vector_db:\n",
    "    try:\n",
    "        print(\"Loading reviews from vector database...\")\n",
    "        \n",
    "        # Force using the non-mock collection\n",
    "        if hasattr(runner.vector_db, '_collection_name'):\n",
    "            # Store the original collection name\n",
    "            original_collection = runner.vector_db._collection_name\n",
    "            \n",
    "            # Use the non-mock collection name\n",
    "            if original_collection.endswith('_mock'):\n",
    "                real_collection = original_collection.replace('_mock', '')\n",
    "            else:\n",
    "                real_collection = original_collection\n",
    "                \n",
    "            print(f\"Switching from {original_collection} to {real_collection}\")\n",
    "            runner.vector_db._collection_name = real_collection\n",
    "            \n",
    "            # Re-initialize collection with new name\n",
    "            runner.vector_db._collection = runner.vector_db._client.get_collection(\n",
    "                name=real_collection,\n",
    "                embedding_function=runner.vector_db._embedding_function\n",
    "            )\n",
    "        \n",
    "        # Get vector DB stats\n",
    "        stats = runner.vector_db.get_collection_stats()\n",
    "        print(f\"Vector DB collection: {stats['collection_name']}\")\n",
    "        print(f\"Document count: {stats['document_count']}\")\n",
    "        \n",
    "        if stats['document_count'] == 0:\n",
    "            raise ValueError(\"No documents found in vector database\")\n",
    "            \n",
    "        # Create a query that matches everything (we'll limit results)\n",
    "        all_docs = []\n",
    "        batch_size = 100\n",
    "        total_batches = (stats['document_count'] + batch_size - 1) // batch_size\n",
    "        \n",
    "        for i in range(total_batches):\n",
    "            # Use a different query for each batch to avoid duplicate results\n",
    "            query = f\"reviews batch {i+1}\"\n",
    "            batch_results = runner.vector_db.search(\n",
    "                query=query,\n",
    "                n_results=min(batch_size, stats['document_count'] - i*batch_size)\n",
    "            )\n",
    "            all_docs.extend(batch_results)\n",
    "            print(f\"Retrieved batch {i+1}/{total_batches} ({len(batch_results)} documents)\")\n",
    "        \n",
    "        # Convert to DataFrame\n",
    "        vector_df = pd.DataFrame(all_docs)\n",
    "        \n",
    "        # Process to match expected format\n",
    "        if 'id' in vector_df.columns and 'review_id' not in vector_df.columns:\n",
    "            vector_df = vector_df.rename(columns={'id': 'review_id'})\n",
    "        \n",
    "        # Convert date columns if needed\n",
    "        if 'date' in vector_df.columns and not pd.api.types.is_datetime64_dtype(vector_df['date']):\n",
    "            vector_df['date'] = pd.to_datetime(vector_df['date'], errors='coerce')\n",
    "        \n",
    "        reviews_df = vector_df\n",
    "        print(f\"Successfully loaded {len(reviews_df)} reviews from vector database\")\n",
    "    except Exception as e:\n",
    "        print(f\"Error loading from vector database: {e}\")\n",
    "        reviews_df = None\n",
    "        \n",
    "    # Reset collection name if we changed it\n",
    "    if use_vector_db and hasattr(runner.vector_db, '_collection_name') and 'original_collection' in locals():\n",
    "        runner.vector_db._collection_name = original_collection\n",
    "        # Re-initialize original collection\n",
    "        try:\n",
    "            runner.vector_db._collection = runner.vector_db._client.get_collection(\n",
    "                name=original_collection,\n",
    "                embedding_function=runner.vector_db._embedding_function\n",
    "            )\n",
    "            print(f\"Restored original collection: {original_collection}\")\n",
    "        except Exception as e:\n",
    "            print(f\"Warning: Could not restore original collection: {e}\")\n",
    "\n",
    "# Option 4: Use mock data if all else fails\n",
    "if reviews_df is None:\n",
    "    print(\"Falling back to mock data...\")\n",
    "    \n",
    "    # Generate mock data\n",
    "    from datetime import datetime, timedelta\n",
    "    import numpy as np\n",
    "    \n",
    "    # Create 100 mock reviews\n",
    "    mock_reviews = []\n",
    "    now = datetime.now()\n",
    "    \n",
    "    # Sample text content for app reviews\n",
    "    sample_texts = [\n",
    "        \"Really smooth experience using this app. Love how fast and easy it is to navigate.\",\n",
    "        \"App kept crashing during important tasks. Had to eventually use the website. Please fix this issue!\",\n",
    "        \"New UI is great but the payment gateway times out a lot. Had to try 3 times to complete my transaction.\",\n",
    "        \"Customer care is non-responsive. Tried contacting about account issues and waited hours with no response.\",\n",
    "        \"Best app in this category by far. Simple interface, quick loading, and rewards program is easy to track.\",\n",
    "        \"Cannot edit user details after registration. Had to call customer service which was a nightmare.\",\n",
    "        \"User interface is very intuitive. I love how you can see all options clearly.\",\n",
    "        \"App becomes unresponsive on my Android device. Takes forever to load search results.\",\n",
    "        \"The status tracking is excellent. Real-time updates about my orders are very helpful.\",\n",
    "        \"Using the website was cheaper than through the app. Why the price difference?\"\n",
    "    ]\n",
    "    \n",
    "    # Generate mock reviews\n",
    "    for i in range(100):\n",
    "        days_ago = np.random.randint(1, 180)  # Random date within last 6 months\n",
    "        review_date = now - timedelta(days=days_ago)\n",
    "        rating = np.random.choice([1, 2, 3, 4, 5], p=[0.1, 0.1, 0.2, 0.3, 0.3])  # Weighted ratings\n",
    "        text = np.random.choice(sample_texts)\n",
    "        \n",
    "        mock_reviews.append({\n",
    "            \"review_id\": f\"mock_{i}\",\n",
    "            \"author\": f\"User_{i}\",\n",
    "            \"date\": review_date,\n",
    "            \"rating\": rating,\n",
    "            \"text\": text,\n",
    "            \"version\": f\"1.{np.random.randint(0, 10)}\"\n",
    "        })\n",
    "    \n",
    "    # Convert to DataFrame\n",
    "    reviews_df = pd.DataFrame(mock_reviews)\n",
    "    print(f\"Created {len(reviews_df)} mock reviews for demonstration\")\n",
    "\n",
    "# Restore original mock data setting\n",
    "os.environ[\"USE_MOCK_DATA\"] = original_mock_value\n",
    "\n",
    "# Display app info\n",
    "app_info = runner.pipeline_metadata.get(\"app_info\", {})\n",
    "if not app_info:\n",
    "    # If no app info available (e.g., when using storage), create placeholder\n",
    "    app_name = os.environ.get(\"APP_NAME\", \"Mobile App\")\n",
    "    app_info = {\n",
    "        \"name\": app_name,\n",
    "        \"developer\": \"App Developer\",\n",
    "        \"total_reviews\": len(reviews_df),\n",
    "        \"average_rating\": reviews_df[\"rating\"].mean() if \"rating\" in reviews_df.columns else 0.0\n",
    "    }\n",
    "    # Update pipeline metadata\n",
    "    runner.pipeline_metadata[\"app_info\"] = app_info\n",
    "\n",
    "print(f\"App: {app_info.get('name')}\")\n",
    "print(f\"Developer: {app_info.get('developer')}\")\n",
    "print(f\"Total reviews: {app_info.get('total_reviews')}\")\n",
    "print(f\"Average rating: {app_info.get('average_rating')}\")\n",
    "\n",
    "# Show the first few reviews\n",
    "reviews_df.head()"
   ]
  },
  {
   "cell_type": "markdown",
   "metadata": {},
   "source": [
    "## Preprocess Reviews\n",
    "\n",
    "Now let's preprocess the reviews to clean and normalize the text."
   ]
  },
  {
   "cell_type": "code",
   "execution_count": 4,
   "metadata": {},
   "outputs": [
    {
     "name": "stdout",
     "output_type": "stream",
     "text": [
      "Reviews are already preprocessed. Skipping preprocessing step.\n"
     ]
    }
   ],
   "source": [
    "# Check if reviews are already preprocessed\n",
    "if 'cleaned_text' in reviews_df.columns and 'normalized_text' in reviews_df.columns:\n",
    "    print(\"Reviews are already preprocessed. Skipping preprocessing step.\")\n",
    "    processed_df = reviews_df\n",
    "else:\n",
    "    # Preprocess reviews\n",
    "    print(\"Preprocessing reviews...\")\n",
    "    processed_df = runner.preprocess_reviews(reviews_df)\n",
    "\n",
    "# Show the preprocessed data\n",
    "if 'cleaned_text' in processed_df.columns:\n",
    "    processed_df[[\"text\", \"cleaned_text\", \"normalized_text\"]].head()\n",
    "else:\n",
    "    print(\"No preprocessing columns found in data. May be using pre-analyzed data.\")\n",
    "    processed_df.head()"
   ]
  },
  {
   "cell_type": "markdown",
   "metadata": {},
   "source": [
    "# Analyze Reviews\n",
    "\n",
    "Let's run various analyses on the reviews."
   ]
  },
  {
   "cell_type": "markdown",
   "metadata": {},
   "source": [
    "## Sentiment Analysis and Topic Modeling"
   ]
  },
  {
   "cell_type": "code",
   "execution_count": 5,
   "metadata": {},
   "outputs": [
    {
     "name": "stdout",
     "output_type": "stream",
     "text": [
      "Preparing data for analysis...\n",
      "Found 30 rows with NaN values in 'cleaned_text' column. Filling with empty string.\n",
      "Found 116 rows with NaN values in 'normalized_text' column. Filling with empty string.\n",
      "Analyzing reviews...\n",
      "2025-05-08 08:41:14,522 - app_reviews - INFO - Analyzing reviews...\n",
      "Using resampled frequency: ME\n",
      "2025-05-08 08:41:20,147 - app_reviews - INFO - Successfully analyzed reviews.\n",
      "\n",
      "=== Topic Modeling ===\n",
      "\n",
      "Topic 0: indigo, flight, experience, excellent, best, airline, service, hour, offer, poor\n",
      "Topic 1: app, worst, bad, pathetic, experience, say, opening, discount, compatible, airline\n",
      "Topic 2: flight, application, number, phone, slow, check, option, super, available, booked\n",
      "Topic 3: booking, great, upcoming, trip, flight, day, staff, problem, ticket, indigo\n",
      "Topic 4: app, work, time, unable, able, booking, ticket, login, doesnt, user\n",
      "Topic 5: seat, delhi, awesome, select, click, selection, asks, sign, pls, change\n",
      "Topic 6: good, nice, boarding, pas, price, download, fare, high, service, superb\n",
      "Topic 7: app, booking, update, trip, add, easy, new, working, save, use\n",
      "Topic 8: service, customer, indigo, flight, time, worst, care, ticket, dont, bad\n",
      "Topic 9: version, new, app, error, getting, old, android, like, really, better\n"
     ]
    },
    {
     "data": {
      "text/html": [
       "<div>\n",
       "<style scoped>\n",
       "    .dataframe tbody tr th:only-of-type {\n",
       "        vertical-align: middle;\n",
       "    }\n",
       "\n",
       "    .dataframe tbody tr th {\n",
       "        vertical-align: top;\n",
       "    }\n",
       "\n",
       "    .dataframe thead th {\n",
       "        text-align: right;\n",
       "    }\n",
       "</style>\n",
       "<table border=\"1\" class=\"dataframe\">\n",
       "  <thead>\n",
       "    <tr style=\"text-align: right;\">\n",
       "      <th></th>\n",
       "      <th>text</th>\n",
       "      <th>primary_topic</th>\n",
       "      <th>rating</th>\n",
       "    </tr>\n",
       "  </thead>\n",
       "  <tbody>\n",
       "    <tr>\n",
       "      <th>0</th>\n",
       "      <td>This app is too bad. To start with the perform...</td>\n",
       "      <td>9.0</td>\n",
       "      <td>1</td>\n",
       "    </tr>\n",
       "    <tr>\n",
       "      <th>1</th>\n",
       "      <td>glitches</td>\n",
       "      <td>1.0</td>\n",
       "      <td>2</td>\n",
       "    </tr>\n",
       "    <tr>\n",
       "      <th>2</th>\n",
       "      <td>What a waste of time.. most annoying app ever....</td>\n",
       "      <td>4.0</td>\n",
       "      <td>1</td>\n",
       "    </tr>\n",
       "    <tr>\n",
       "      <th>3</th>\n",
       "      <td>App has become unstable after the update, won'...</td>\n",
       "      <td>7.0</td>\n",
       "      <td>1</td>\n",
       "    </tr>\n",
       "    <tr>\n",
       "      <th>4</th>\n",
       "      <td>There's reasons why it is amongst worst airlin...</td>\n",
       "      <td>1.0</td>\n",
       "      <td>1</td>\n",
       "    </tr>\n",
       "  </tbody>\n",
       "</table>\n",
       "</div>"
      ],
      "text/plain": [
       "                                                text  primary_topic  rating\n",
       "0  This app is too bad. To start with the perform...            9.0       1\n",
       "1                                           glitches            1.0       2\n",
       "2  What a waste of time.. most annoying app ever....            4.0       1\n",
       "3  App has become unstable after the update, won'...            7.0       1\n",
       "4  There's reasons why it is amongst worst airlin...            1.0       1"
      ]
     },
     "execution_count": 5,
     "metadata": {},
     "output_type": "execute_result"
    }
   ],
   "source": [
    "# Check if reviews are already analyzed\n",
    "already_analyzed = 'sentiment' in processed_df.columns and 'primary_topic' in processed_df.columns\n",
    "\n",
    "if already_analyzed:\n",
    "    print(\"Reviews are already analyzed. Skipping analysis step.\")\n",
    "    analyzed_df = processed_df\n",
    "    \n",
    "    # Create placeholder for analysis results\n",
    "    analysis_results = {}\n",
    "    if 'sentiment' in processed_df.columns:\n",
    "        analysis_results[\"sentiment\"] = processed_df\n",
    "    \n",
    "    if 'primary_topic' in processed_df.columns:\n",
    "        # Try to extract topic words from metadata if they exist\n",
    "        topic_words = runner.pipeline_metadata.get(\"topic_words\", {})\n",
    "        if not topic_words:\n",
    "            # Create dummy topic words if not available\n",
    "            unique_topics = processed_df['primary_topic'].dropna().unique()\n",
    "            topic_words = {str(topic): [f\"word{i}\" for i in range(5)] for topic in unique_topics}\n",
    "        \n",
    "        analysis_results[\"topics\"] = (processed_df, topic_words)\n",
    "else:\n",
    "    # Clean data before analysis to avoid NaN issues\n",
    "    print(\"Preparing data for analysis...\")\n",
    "    \n",
    "    # Make a copy to avoid modifying the original\n",
    "    analysis_df = processed_df.copy()\n",
    "    \n",
    "    # Check for and handle NaN values in 'text' column\n",
    "    if 'text' in analysis_df.columns:\n",
    "        # Count NaN values\n",
    "        nan_count = analysis_df['text'].isna().sum()\n",
    "        if nan_count > 0:\n",
    "            print(f\"Found {nan_count} rows with NaN values in 'text' column. Filling with empty string.\")\n",
    "            # Fill NaN values with empty string\n",
    "            analysis_df['text'] = analysis_df['text'].fillna(\"\")\n",
    "    \n",
    "    # If we have cleaned or normalized text, make sure they don't have NaNs either\n",
    "    for col in ['cleaned_text', 'normalized_text']:\n",
    "        if col in analysis_df.columns:\n",
    "            # Count NaN values\n",
    "            nan_count = analysis_df[col].isna().sum()\n",
    "            if nan_count > 0:\n",
    "                print(f\"Found {nan_count} rows with NaN values in '{col}' column. Filling with empty string.\")\n",
    "                # Fill NaN values with empty string\n",
    "                analysis_df[col] = analysis_df[col].fillna(\"\")\n",
    "    \n",
    "    # Analyze reviews\n",
    "    print(\"Analyzing reviews...\")\n",
    "    try:\n",
    "        analysis_output = runner.analyze_reviews(\n",
    "            reviews_df=analysis_df,\n",
    "            analysis_types=[\"sentiment\", \"topics\", \"keywords\", \"trends\"]\n",
    "        )\n",
    "\n",
    "        # Extract updated DataFrame and analysis results\n",
    "        analyzed_df = analysis_output[\"reviews_df\"]\n",
    "        analysis_results = analysis_output[\"analysis_results\"]\n",
    "    except Exception as e:\n",
    "        print(f\"Error during analysis: {e}\")\n",
    "        # Fall back to just sentiment analysis if topic modeling fails\n",
    "        print(\"Falling back to sentiment analysis only...\")\n",
    "        try:\n",
    "            analysis_output = runner.analyze_reviews(\n",
    "                reviews_df=analysis_df,\n",
    "                analysis_types=[\"sentiment\", \"keywords\", \"trends\"]\n",
    "            )\n",
    "            analyzed_df = analysis_output[\"reviews_df\"]\n",
    "            analysis_results = analysis_output[\"analysis_results\"]\n",
    "        except Exception as e2:\n",
    "            print(f\"Error during fallback analysis: {e2}\")\n",
    "            # If all else fails, just use the original data\n",
    "            analyzed_df = analysis_df\n",
    "            analysis_results = {}\n",
    "\n",
    "# Show sentiment analysis results\n",
    "if \"sentiment\" in analyzed_df.columns:\n",
    "    print(\"\\n=== Sentiment Analysis ===\\n\")\n",
    "    sentiment_counts = analyzed_df[\"sentiment\"].value_counts()\n",
    "    print(sentiment_counts)\n",
    "    if len(analyzed_df) > 0:  # Avoid division by zero\n",
    "        print(f\"\\nPositive percentage: {sentiment_counts.get('positive', 0) / len(analyzed_df) * 100:.2f}%\")\n",
    "        print(f\"Neutral percentage: {sentiment_counts.get('neutral', 0) / len(analyzed_df) * 100:.2f}%\")\n",
    "        print(f\"Negative percentage: {sentiment_counts.get('negative', 0) / len(analyzed_df) * 100:.2f}%\")\n",
    "\n",
    "# Show topic modeling results\n",
    "if \"topics\" in analysis_results:\n",
    "    print(\"\\n=== Topic Modeling ===\\n\")\n",
    "    _, topic_words = analysis_results[\"topics\"]\n",
    "    for topic_id, words in topic_words.items():\n",
    "        print(f\"Topic {topic_id}: {', '.join(words[:10])}\")\n",
    "\n",
    "# Show some analyzed reviews with sentiment and topics\n",
    "display_cols = [\"text\"]\n",
    "if \"sentiment\" in analyzed_df.columns:\n",
    "    display_cols.append(\"sentiment\")\n",
    "if \"primary_topic\" in analyzed_df.columns:\n",
    "    display_cols.append(\"primary_topic\")\n",
    "if \"rating\" in analyzed_df.columns:\n",
    "    display_cols.append(\"rating\")\n",
    "\n",
    "analyzed_df[display_cols].head()"
   ]
  },
  {
   "cell_type": "markdown",
   "metadata": {},
   "source": [
    "### Top 20 Keywords"
   ]
  },
  {
   "cell_type": "code",
   "execution_count": 6,
   "metadata": {},
   "outputs": [
    {
     "name": "stdout",
     "output_type": "stream",
     "text": [
      "Top 20 Keywords:\n"
     ]
    },
    {
     "data": {
      "text/html": [
       "<div>\n",
       "<style scoped>\n",
       "    .dataframe tbody tr th:only-of-type {\n",
       "        vertical-align: middle;\n",
       "    }\n",
       "\n",
       "    .dataframe tbody tr th {\n",
       "        vertical-align: top;\n",
       "    }\n",
       "\n",
       "    .dataframe thead th {\n",
       "        text-align: right;\n",
       "    }\n",
       "</style>\n",
       "<table border=\"1\" class=\"dataframe\">\n",
       "  <thead>\n",
       "    <tr style=\"text-align: right;\">\n",
       "      <th></th>\n",
       "      <th>keyword</th>\n",
       "      <th>score</th>\n",
       "      <th>frequency</th>\n",
       "      <th>doc_count</th>\n",
       "      <th>doc_pct</th>\n",
       "    </tr>\n",
       "  </thead>\n",
       "  <tbody>\n",
       "    <tr>\n",
       "      <th>0</th>\n",
       "      <td>good</td>\n",
       "      <td>696.031458</td>\n",
       "      <td>944</td>\n",
       "      <td>927</td>\n",
       "      <td>21.077763</td>\n",
       "    </tr>\n",
       "    <tr>\n",
       "      <th>1</th>\n",
       "      <td>app</td>\n",
       "      <td>282.497531</td>\n",
       "      <td>1734</td>\n",
       "      <td>1270</td>\n",
       "      <td>28.876762</td>\n",
       "    </tr>\n",
       "    <tr>\n",
       "      <th>2</th>\n",
       "      <td>nice</td>\n",
       "      <td>177.444263</td>\n",
       "      <td>216</td>\n",
       "      <td>216</td>\n",
       "      <td>4.911323</td>\n",
       "    </tr>\n",
       "    <tr>\n",
       "      <th>3</th>\n",
       "      <td>excellent</td>\n",
       "      <td>147.432737</td>\n",
       "      <td>174</td>\n",
       "      <td>174</td>\n",
       "      <td>3.956344</td>\n",
       "    </tr>\n",
       "    <tr>\n",
       "      <th>4</th>\n",
       "      <td>service</td>\n",
       "      <td>134.981266</td>\n",
       "      <td>372</td>\n",
       "      <td>337</td>\n",
       "      <td>7.662574</td>\n",
       "    </tr>\n",
       "    <tr>\n",
       "      <th>5</th>\n",
       "      <td>worst</td>\n",
       "      <td>100.745253</td>\n",
       "      <td>371</td>\n",
       "      <td>338</td>\n",
       "      <td>7.685312</td>\n",
       "    </tr>\n",
       "    <tr>\n",
       "      <th>6</th>\n",
       "      <td>flight</td>\n",
       "      <td>97.718228</td>\n",
       "      <td>565</td>\n",
       "      <td>414</td>\n",
       "      <td>9.413370</td>\n",
       "    </tr>\n",
       "    <tr>\n",
       "      <th>7</th>\n",
       "      <td>experience</td>\n",
       "      <td>96.429310</td>\n",
       "      <td>288</td>\n",
       "      <td>275</td>\n",
       "      <td>6.252842</td>\n",
       "    </tr>\n",
       "    <tr>\n",
       "      <th>8</th>\n",
       "      <td>booking</td>\n",
       "      <td>94.606515</td>\n",
       "      <td>479</td>\n",
       "      <td>376</td>\n",
       "      <td>8.549341</td>\n",
       "    </tr>\n",
       "    <tr>\n",
       "      <th>9</th>\n",
       "      <td>indigo</td>\n",
       "      <td>94.446358</td>\n",
       "      <td>578</td>\n",
       "      <td>445</td>\n",
       "      <td>10.118236</td>\n",
       "    </tr>\n",
       "    <tr>\n",
       "      <th>10</th>\n",
       "      <td>update</td>\n",
       "      <td>74.448263</td>\n",
       "      <td>331</td>\n",
       "      <td>271</td>\n",
       "      <td>6.161892</td>\n",
       "    </tr>\n",
       "    <tr>\n",
       "      <th>11</th>\n",
       "      <td>best</td>\n",
       "      <td>69.556992</td>\n",
       "      <td>111</td>\n",
       "      <td>109</td>\n",
       "      <td>2.478399</td>\n",
       "    </tr>\n",
       "    <tr>\n",
       "      <th>12</th>\n",
       "      <td>time</td>\n",
       "      <td>66.054724</td>\n",
       "      <td>369</td>\n",
       "      <td>311</td>\n",
       "      <td>7.071396</td>\n",
       "    </tr>\n",
       "    <tr>\n",
       "      <th>13</th>\n",
       "      <td>bad</td>\n",
       "      <td>59.639175</td>\n",
       "      <td>161</td>\n",
       "      <td>154</td>\n",
       "      <td>3.501592</td>\n",
       "    </tr>\n",
       "    <tr>\n",
       "      <th>14</th>\n",
       "      <td>great</td>\n",
       "      <td>56.905806</td>\n",
       "      <td>85</td>\n",
       "      <td>83</td>\n",
       "      <td>1.887221</td>\n",
       "    </tr>\n",
       "    <tr>\n",
       "      <th>15</th>\n",
       "      <td>working</td>\n",
       "      <td>55.361274</td>\n",
       "      <td>154</td>\n",
       "      <td>149</td>\n",
       "      <td>3.387904</td>\n",
       "    </tr>\n",
       "    <tr>\n",
       "      <th>16</th>\n",
       "      <td>trip</td>\n",
       "      <td>53.360050</td>\n",
       "      <td>264</td>\n",
       "      <td>200</td>\n",
       "      <td>4.547522</td>\n",
       "    </tr>\n",
       "    <tr>\n",
       "      <th>17</th>\n",
       "      <td>ticket</td>\n",
       "      <td>52.448814</td>\n",
       "      <td>241</td>\n",
       "      <td>205</td>\n",
       "      <td>4.661210</td>\n",
       "    </tr>\n",
       "    <tr>\n",
       "      <th>18</th>\n",
       "      <td>airline</td>\n",
       "      <td>50.596267</td>\n",
       "      <td>225</td>\n",
       "      <td>190</td>\n",
       "      <td>4.320146</td>\n",
       "    </tr>\n",
       "    <tr>\n",
       "      <th>19</th>\n",
       "      <td>easy</td>\n",
       "      <td>47.352574</td>\n",
       "      <td>96</td>\n",
       "      <td>94</td>\n",
       "      <td>2.137335</td>\n",
       "    </tr>\n",
       "  </tbody>\n",
       "</table>\n",
       "</div>"
      ],
      "text/plain": [
       "       keyword       score  frequency  doc_count    doc_pct\n",
       "0         good  696.031458        944        927  21.077763\n",
       "1          app  282.497531       1734       1270  28.876762\n",
       "2         nice  177.444263        216        216   4.911323\n",
       "3    excellent  147.432737        174        174   3.956344\n",
       "4      service  134.981266        372        337   7.662574\n",
       "5        worst  100.745253        371        338   7.685312\n",
       "6       flight   97.718228        565        414   9.413370\n",
       "7   experience   96.429310        288        275   6.252842\n",
       "8      booking   94.606515        479        376   8.549341\n",
       "9       indigo   94.446358        578        445  10.118236\n",
       "10      update   74.448263        331        271   6.161892\n",
       "11        best   69.556992        111        109   2.478399\n",
       "12        time   66.054724        369        311   7.071396\n",
       "13         bad   59.639175        161        154   3.501592\n",
       "14       great   56.905806         85         83   1.887221\n",
       "15     working   55.361274        154        149   3.387904\n",
       "16        trip   53.360050        264        200   4.547522\n",
       "17      ticket   52.448814        241        205   4.661210\n",
       "18     airline   50.596267        225        190   4.320146\n",
       "19        easy   47.352574         96         94   2.137335"
      ]
     },
     "metadata": {},
     "output_type": "display_data"
    }
   ],
   "source": [
    "# Display keyword analysis results\n",
    "if \"keywords\" in analysis_results:\n",
    "    keywords_df = analysis_results[\"keywords\"]\n",
    "    print(\"Top 20 Keywords:\")\n",
    "    \n",
    "    # Try different display methods since some environments handle outputs differently\n",
    "    try:\n",
    "        # IPython display function\n",
    "        from IPython.display import display\n",
    "        display(keywords_df.head(20))\n",
    "    except:\n",
    "        # Alternative: just return the DataFrame directly\n",
    "        keywords_df.head(20)\n",
    "else:\n",
    "    print(\"No keyword analysis available. This may be skipped when using pre-analyzed data.\")"
   ]
  },
  {
   "cell_type": "markdown",
   "metadata": {},
   "source": [
    "### Rating Distribution Visualization"
   ]
  },
  {
   "cell_type": "code",
   "execution_count": 7,
   "metadata": {},
   "outputs": [
    {
     "data": {
      "application/vnd.plotly.v1+json": {
       "config": {
        "plotlyServerURL": "https://plot.ly"
       },
       "data": [
        {
         "bingroup": "x",
         "hovertemplate": "Rating=%{x}<br>count=%{y}<extra></extra>",
         "legendgroup": "",
         "marker": {
          "color": "#440154",
          "pattern": {
           "shape": ""
          }
         },
         "name": "",
         "nbinsx": 5,
         "orientation": "v",
         "showlegend": false,
         "type": "histogram",
         "x": {
          "bdata": "AQIBAQEBAQUBAQMBAQEBAQEBAQEFAQEBAQUBAQIBAQEBBQEEBQEBAQEBAQECAQEBAQIFBQIBAQEBAQUBBQUBBQEFBQEBBQEBAQEFBQECAQUBBQEBAQUBBAEBAQUFBQEBAQEBAQEFAQEFAQUBAQEBAQECBQEBBQEBBQEBAQEBAwIDAgEBAQEBAQUFAgEBBQUDAQEBBQEFAgEBAQUDBQIBAQUBAQEFAQEFAQEBBQECAQEBBQEBAQEBAgEBBQEBAQEDAQEBAwQDBQEBBQECBQEBAQUBAQEBBQIBAQEBAQEFBQQBAQEFBQEFBQQFBQUBBQUBAQEBAQEBAQEBAQUBAQEBAQEBAQEBBQEBAQQDAgEBAQEBBQEBBAUBAgMFAQMFAQEFAQUCAQUBAQUFBQEBAQEFAQUFAQEBAQUBBQECAQICBAEBAQEBBQIFBQUBAwIBAQEBBQEBAQEFAQUBAQEBAQUBAQUDAQUBBQEBBAEBBQEBAQUFBQEBAwMBAQEBBQEBBQEFAQEBAQUBAQUFAQEBAQEBBQEFAQUBAQEBBQEFBQEBAQIBAQEFAQIFBAIBBQUCAQUBAQUBAQEFAQEBAQUBAQEBBQEBAQEBAQIBAQECAwEBAQEEAQEBAQUBAQEBAQEBAQEBAQIBAQEBAQEBBQEEAQEFAQEBBQUBBAUBAQEBAQUBAQIBAgEEBQUBAgUBBQEFAQEBAgEEBQEBAQEFAQEFAQUBBQECAgEFAQUBBQUBAgEFAQEBAQEBBQEBAQEDAgUFAQQBBQEBAQECAQEFAgEBAQIBAQEBAQEBBQIFAQUDAQEBBAUBAwEFAQEBAwUBAQIFAQEFAQEFAQEDBQEBAQUBAQUDAQEBAQUBBQEBAQUBBQECAQEBAQEBBQEBAQMBAQUBBQEBAQIBAQEFAQEBAQEBAgUBBQUBAQUBAQUCBQEFAQEBAQEFAQEFAQEBBQEDAQIBAQEBAQMBBAMBBQEFBQUFAQEBAQEBAwEBAQUBAQEBBQEBAQUFAQEBAQUBBAEBAQEBBQEBAQEBBAIBAgIBAQEBAQEFBQIFAQECAQEBBQEBAQUCAQEBAgEBAQEBAQUBAQMFAQIFAQEBAgEBBQEBBQEBAQEBBQUFAgUFAwUBBQUBAQIBAQUBAQEBAQUBAQEFAQEBAQEBAQQBBQEBAQEBAQEBAQEBAQEBAQEFAwECAQUFAQUCAQQBBQUBBQEBBQUBAQEBBQEBAQECAQUBAgEBAgEDAQEBAQEBBQUBBQEBAQEBAQEBBQEFAQEEAQECBAQDAQUBBQEBAQQBAQEBBQEDAgEBAQEBAQEFBQECAQEEAQEBBQQBAQEBAwEEBQEFAQEFBQEBBAEBAwEBAQECBQEDBQEBAQEBAQECBQEBBQEEAQEBBQIEAQUFAQUBAQUFAgEBAQEBBQUBAQUBAQEBAQUBBQEBBQEFAQEBAQEBAQEBAQEBAQEBAQEBAQIBBQMCAQEBAQEBAQEBAwEFBQEBBQEFAQMBAQUFAQEFAQUFBAEBAQEDBQEFAQEBBQEBAgEBAQIFAQEBAQEBAQEBBAEBAQEBAQUBAQUBAQEBBQUFAQEBAQUBBQIBAQUBAwMBAQQBBQECAQECAQQBAQEBAQEFAQUBAQEBAQECAQUFAQEEAQUDAwIBAQEBAQUFAQEBAgEBAQEBAQEFBQMFBQQFAQEFAQUFAQEBAQEBBQEBBQUFAQEFBQEBAQEBAQECAQUFAQUFAQEBAQEDAQEBAQEBAgIBAQECAQEBAQUBBQUBAQEBAQUBBQEBAQEFAQUBBQEEBQEEAQEBAwEBAQEBBQEFAQUBAQUFAQUBBQEBAQEBAQUFAgQBAQIBAwUBAQUBAQUEBQUBAQEBBQEBBQEBAQQBAQEFAQUBAQEBBQUFAQEBBQMBAgEFAgIBAQEFAQEFBQIFBAEBAQUEAQEFBAUBAQQFAwUBAQECAQEBAQEBAQEBBQUBBAEFAQEBAQEFBQEEAQUFAQUBAQEBBAEBAgIBAQEBBQEBAQUFAQECAQEFAQECBQUFBAUBAQEBBQUBAwEEAQEBBQEBBQEFAQEBAQEBAgEBAQUBAQQBBQUEAQUBAQEBAgQBBQIBBQUBAgEBBQMBAQMFAQIBAQEFAQUBAQEDAQMFAQEFBQEFAQIBAQQFAQEBAQEBAQIBAQUFBQEEBQUEAQEBAQUBBAEBAQQFAQUFAQEBAQEBBAEBAwEBAgUBBAEEAQEBBQEBAQEBAQEBAgUBAQUBBQEBBQEFBQEEAQEBAQUBBQEBAQEBBQUFAQEBBQUBAQUFAgEBBQQFAQEBAQEBAQUBAgECBQEBAQUFAQUFAQEBAQEBBQEBAQEEAQUEBQUBBQEBAQEBAQUCAQEBAQECAQEDAQEBAQMBBQEDAgEBAQEBAQEBAQUFAQEBAQEBAQEBBQEBAQEFAQMEAgEFAQEBBAEFAgEBAQEBBQUBBQEBAQUBAQEFAQEBBQEBAQMCAQUBBQUBBQQBAQEFAQUBAQUFAQUFAQEBAQEBAQEBBQQBAQEFBQEBAQEBAQQBAQUFBQEBAQUBBQEEAQEFAQUBBAQFAQEDAgMFAQEFBQEBAQUFBQQEAQQBAQUBAQUBAQEBBAUCBQUFAQEBBQQCAQEFBQUFAQUBBQEDAQUFAwUBAQUFBQUEBAEFAQEFBQUFAwEBAgUFBQEBBQUBBQMFBQEFBAIBAQQBAQMBAwUBBQIBBQEBAQUBAgEBBQEBAgQBAQUFAQECBQEBAQEFBQUFAQUFAQECAgEFAQEBAQUBAQEBBQUBBQMBBQUCAQUBBQEEAQUBBQUBBQEBAQEBBAEBAQECBQEBAQQFAQEBAgUCAgMFAQUBBQEBAQEBAgUBBQEBAQEBBQEBAwEEAQEBAQEFAQIBAgQFAQQBBQUFBQEFAQEFAQEEBAIDBQEBAwUBBAUBBQUDAQEEBQUDBQQBAQUBBQIBAQEBAgEBBAEBBQEFAQMBBAEBAQEBBQEBAgUEAQUCAwIBBQUEBQIBAQQFBAEFAgEBBQEFBQEFAQMFAQEDBAIBAQUDAwQEAQIBAQEBAgIFAQUEBQECAgECAgMCBAEFBQUBAQEBAgUFAQEFAwUCBQUBAQIBBAEBAQUBAQEBAQUBAQEFAQUBBQEBBQUBAQUFAQEFAgEBAQMCAwUBBQEBBQEEAQEBBQEBBQUBBQUFBQEFBQUBAQIBAQUBBQEBBQQCAQQFAQEFBQEFAQUBAwECBQMFAQEBBAEDAgUBAQUCAQUBAwEDBQMCBQQEBAECBQUEAQEBAQMFAQUCBAEDAQUBBQEBAQUFBAUFBQMCAQUFAQEBBQEBBQUDAQIBBQEEAgUBBQEFBQUBBQUFBAUDBQQFBQUEBQMFAQEFAQEBAQEBBQEBAQIFAgEEAQEFAgEBBQIBBQUBAQEBAwEBAQIFAwEBBQUBAQIBBAIFBQEFAQUCAQEFAQMFBQMDAQUFBQUBAgEFAQUBAQUFAwUDBQUEBQUBAQEFBQEBBQEBAQUBAgUFAQUBAQUFBQIDAQUBAgUFAQUBBQEFBAEBBQEFAQQFBQEDBQUCAQUFAQEFBQUBBQUBBQUFBQUFAQUFBQEEBQEFAQUBBQUBBQUBAwEFBQIFAQEFBQMDAQUFAgUFBQUFAgUBAQEFBQUFBQUDBAUEBQQFBQUFBQUEBQQBBQUFBQUFBQUBAQUFBQUBAQUFAwMFBAEBBAUBAQUEBQEFAQEBAwUBAQUFBAUFAQUFBQQCAQQFBQUFBQQDAQUFBQUBBQEBBQUFBQEFBQUFBQUEBQQFBQUDBQEFBQUEBQUFBQUFAQUFAQUFAgEFAQUFAQUFBQUCBQQFBQMFBQUFBAEFBQUEAQUFBQUFBQUFBQMFBQUFAQUBAQEFAwUBBQEBAQQDBAEFAgIBBQUFBQUFAwUDBQUCBQUBAQUFBQUBBQEFBQUFBQUFAQEFBQQFAQUEAwIFAwUFBQUBBQUFBQEFBQQEBQEFAQEBBAUFAQMBAQUFBQMFAQUBAQUEBQUDBAUBBAUFBAQEAQEFAQUFBQUFAQUBAQUFAQUFAQUFBQIFAQUBBQEBAQUCBAUBBQQBAQQBBQEDAgQFAwUBAQUFAwUDAQEBAQEFAQEBAQEBAQEFBAUBBQUBBQQFBQUFBQEFBQUEAwUBBQIFBAUFBQEFAwUFBQUFBQEFBQEBAwUFAQECAQUBAgUBAQUFBQMFBQEBAQUBBQEBBQUCAwECAQEBBQQBAQEFAQEBBQEBBQQDBQQBBQQFBQEFBQUFBQUFBAQBBQEFBQQFBAUBBQUFBQEFBQUBAQUBBQUDAQUEBAUBBQIFBQECBQUDAwUCBAUFBQUFBQUFBQUBBQEFAgQFBQEBBAUDBQUBBQUFAQUDAQUFAQUBBQUDBQUFBAUEBAQEBQUBBAUDAQUEBQQFBQUFBQEBAQQFBAEBBQUFBQUFBAEFBQEEBQUFBQUFAQUBBQUFAwUBAwUFBQEEAwEFBQUFAgUFBQMBBQQFBQUFBAMEBAUFBQECBQUBAQMFBAIFBQUFAQEFBQUFBQUFBQUBBQUFBQUFBQUBBAUFBQUBAQUFBQEBBAUFBQUBBQQBBQUCBQUBBAUFBQUFAQUFBQEEBQUFAQUFAQEEBQUBBQIFBQEFBAUFBQUBBQUCBQUFBQUFBQMFBQUFBAUFBQUFBQEFBQMFBAUFAwUFAgUFBQQFBQUFAQUFAQUFAQUBBQQBAQUDBQUFBAUEBQUDBQEEAQUFAQUBBQIFBQUBAQIBBQEEBQUFBQQEBQUFAgUFAQUFBQQFBQEFBQMFBAUBAwUFAQEFBQUFBQIFBQUFAQUBBQUBAQUFAQUBAQUFBQUFBQUFBAUEBQQBBQQEBQMFBQUFBQUFBQUBAQUBAQEFBQMDBQUFBAUDAwUDBQUFAwUFBQEEBQECBQUDBQUFAQUFBQEFAQEBBAEFAwUFAwEFAgUBBQUFBQUDBQUCBQUBAQEDBQUFBQEEBQUDBQUEAwUEAQUFBQEBBQEFBAUBBQEFAwUEBQIFBQQFBQUFBQUFAQQFAQUFBQEFBAUBBQUBBQUFAwQFAQECBQUDBQUFAwUFAQUFAQUFAwUFBQEDBQQEBAUFBQUFAQUBBQUFAQUFAwUBBQUFBAUFBQUFAQQDBQUFBQUDAwUFAQECAwEEAQEFBQUBAQUFBQUBBQEFAwIFBQEBBQUBBQIBBQEEBQUBAQUFBQUCAQUFBQUFBQUBAwMBBQEDAQUBBQEFBQMFAQUFAQUEBQUFBQUCAQIFAQIFAQEFBQIFBQEBBQUEBQQFBQUFAwUFAQEFBAUFBAEFAQEBAQEFBQEBBAUFAgEFBQUFAQIFBQEFBQEFBQUFBAUFBQEFBQUFAgUFBQUFAwEFBQMFBQUEBQUCAQUFBQMFBQUFBQUDBQQFAwUFBQUFBQUFBQQBBQUDAQQFBQEBBAUFBQEFBAUFBQEFBQEBBAEBBQUFAQEEAgEFAQEFBQUEAQUFBAIEBQUEBQMFAQUBBAUFBAUFAQEBAQEBBQEFBQUFBQUEAwUFAgUEAQUFBAUFAQUBBQUFBQUBBAUFBQEFAQEBAwUBBQUBBQUBBQUBBQEFBAUFBQUEAQQBBQUBAwIFBQUFBQMFAQUFBQQFBQUFBQUFAQMEBQUFBQUBAQMFBQUFBAUFBQQFBQEBBQUCAQUBBQEFBAEFBQEDAQQBBQUFAQEFAQEFBQUEBQUFBAUBAQQFBQUEBQEFBQUFAwUFBQUFAgUBBQUFBQUFBQEEAQUCBAUFAQUFBQUBBQQFBQMCBQIBAQUBBAQEAQUFAQQBBQUBBQUEBQEFBAEFBQUFAgMDBAEFBQUBBQECAgUFBQEFBQEFBQMFBQUEAQUBAwUBBAEFBQUBBQUFAQUBAQUBBAEBAQUEAQUFBQUBBQEFAwEFAwUBBQUFBQUFAQUFBQUFAwUFBAUBBQUF",
          "dtype": "i1"
         },
         "xaxis": "x",
         "yaxis": "y"
        }
       ],
       "layout": {
        "annotations": [
         {
          "showarrow": false,
          "text": "Avg: 2.90",
          "x": 2.8967712596634834,
          "xanchor": "left",
          "xref": "x",
          "y": 1,
          "yanchor": "top",
          "yref": "y domain"
         },
         {
          "showarrow": false,
          "text": "44.4%",
          "x": 1,
          "y": 1952,
          "yshift": 10
         },
         {
          "showarrow": false,
          "text": "5.5%",
          "x": 2,
          "y": 242,
          "yshift": 10
         },
         {
          "showarrow": false,
          "text": "4.8%",
          "x": 3,
          "y": 211,
          "yshift": 10
         },
         {
          "showarrow": false,
          "text": "6.7%",
          "x": 4,
          "y": 294,
          "yshift": 10
         },
         {
          "showarrow": false,
          "text": "38.6%",
          "x": 5,
          "y": 1699,
          "yshift": 10
         }
        ],
        "bargap": 0.2,
        "barmode": "relative",
        "legend": {
         "tracegroupgap": 0
        },
        "shapes": [
         {
          "line": {
           "color": "red",
           "dash": "dash"
          },
          "type": "line",
          "x0": 2.8967712596634834,
          "x1": 2.8967712596634834,
          "xref": "x",
          "y0": 0,
          "y1": 1,
          "yref": "y domain"
         }
        ],
        "template": {
         "data": {
          "bar": [
           {
            "error_x": {
             "color": "#f2f5fa"
            },
            "error_y": {
             "color": "#f2f5fa"
            },
            "marker": {
             "line": {
              "color": "rgb(17,17,17)",
              "width": 0.5
             },
             "pattern": {
              "fillmode": "overlay",
              "size": 10,
              "solidity": 0.2
             }
            },
            "type": "bar"
           }
          ],
          "barpolar": [
           {
            "marker": {
             "line": {
              "color": "rgb(17,17,17)",
              "width": 0.5
             },
             "pattern": {
              "fillmode": "overlay",
              "size": 10,
              "solidity": 0.2
             }
            },
            "type": "barpolar"
           }
          ],
          "carpet": [
           {
            "aaxis": {
             "endlinecolor": "#A2B1C6",
             "gridcolor": "#506784",
             "linecolor": "#506784",
             "minorgridcolor": "#506784",
             "startlinecolor": "#A2B1C6"
            },
            "baxis": {
             "endlinecolor": "#A2B1C6",
             "gridcolor": "#506784",
             "linecolor": "#506784",
             "minorgridcolor": "#506784",
             "startlinecolor": "#A2B1C6"
            },
            "type": "carpet"
           }
          ],
          "choropleth": [
           {
            "colorbar": {
             "outlinewidth": 0,
             "ticks": ""
            },
            "type": "choropleth"
           }
          ],
          "contour": [
           {
            "colorbar": {
             "outlinewidth": 0,
             "ticks": ""
            },
            "colorscale": [
             [
              0,
              "#0d0887"
             ],
             [
              0.1111111111111111,
              "#46039f"
             ],
             [
              0.2222222222222222,
              "#7201a8"
             ],
             [
              0.3333333333333333,
              "#9c179e"
             ],
             [
              0.4444444444444444,
              "#bd3786"
             ],
             [
              0.5555555555555556,
              "#d8576b"
             ],
             [
              0.6666666666666666,
              "#ed7953"
             ],
             [
              0.7777777777777778,
              "#fb9f3a"
             ],
             [
              0.8888888888888888,
              "#fdca26"
             ],
             [
              1,
              "#f0f921"
             ]
            ],
            "type": "contour"
           }
          ],
          "contourcarpet": [
           {
            "colorbar": {
             "outlinewidth": 0,
             "ticks": ""
            },
            "type": "contourcarpet"
           }
          ],
          "heatmap": [
           {
            "colorbar": {
             "outlinewidth": 0,
             "ticks": ""
            },
            "colorscale": [
             [
              0,
              "#0d0887"
             ],
             [
              0.1111111111111111,
              "#46039f"
             ],
             [
              0.2222222222222222,
              "#7201a8"
             ],
             [
              0.3333333333333333,
              "#9c179e"
             ],
             [
              0.4444444444444444,
              "#bd3786"
             ],
             [
              0.5555555555555556,
              "#d8576b"
             ],
             [
              0.6666666666666666,
              "#ed7953"
             ],
             [
              0.7777777777777778,
              "#fb9f3a"
             ],
             [
              0.8888888888888888,
              "#fdca26"
             ],
             [
              1,
              "#f0f921"
             ]
            ],
            "type": "heatmap"
           }
          ],
          "histogram": [
           {
            "marker": {
             "pattern": {
              "fillmode": "overlay",
              "size": 10,
              "solidity": 0.2
             }
            },
            "type": "histogram"
           }
          ],
          "histogram2d": [
           {
            "colorbar": {
             "outlinewidth": 0,
             "ticks": ""
            },
            "colorscale": [
             [
              0,
              "#0d0887"
             ],
             [
              0.1111111111111111,
              "#46039f"
             ],
             [
              0.2222222222222222,
              "#7201a8"
             ],
             [
              0.3333333333333333,
              "#9c179e"
             ],
             [
              0.4444444444444444,
              "#bd3786"
             ],
             [
              0.5555555555555556,
              "#d8576b"
             ],
             [
              0.6666666666666666,
              "#ed7953"
             ],
             [
              0.7777777777777778,
              "#fb9f3a"
             ],
             [
              0.8888888888888888,
              "#fdca26"
             ],
             [
              1,
              "#f0f921"
             ]
            ],
            "type": "histogram2d"
           }
          ],
          "histogram2dcontour": [
           {
            "colorbar": {
             "outlinewidth": 0,
             "ticks": ""
            },
            "colorscale": [
             [
              0,
              "#0d0887"
             ],
             [
              0.1111111111111111,
              "#46039f"
             ],
             [
              0.2222222222222222,
              "#7201a8"
             ],
             [
              0.3333333333333333,
              "#9c179e"
             ],
             [
              0.4444444444444444,
              "#bd3786"
             ],
             [
              0.5555555555555556,
              "#d8576b"
             ],
             [
              0.6666666666666666,
              "#ed7953"
             ],
             [
              0.7777777777777778,
              "#fb9f3a"
             ],
             [
              0.8888888888888888,
              "#fdca26"
             ],
             [
              1,
              "#f0f921"
             ]
            ],
            "type": "histogram2dcontour"
           }
          ],
          "mesh3d": [
           {
            "colorbar": {
             "outlinewidth": 0,
             "ticks": ""
            },
            "type": "mesh3d"
           }
          ],
          "parcoords": [
           {
            "line": {
             "colorbar": {
              "outlinewidth": 0,
              "ticks": ""
             }
            },
            "type": "parcoords"
           }
          ],
          "pie": [
           {
            "automargin": true,
            "type": "pie"
           }
          ],
          "scatter": [
           {
            "marker": {
             "line": {
              "color": "#283442"
             }
            },
            "type": "scatter"
           }
          ],
          "scatter3d": [
           {
            "line": {
             "colorbar": {
              "outlinewidth": 0,
              "ticks": ""
             }
            },
            "marker": {
             "colorbar": {
              "outlinewidth": 0,
              "ticks": ""
             }
            },
            "type": "scatter3d"
           }
          ],
          "scattercarpet": [
           {
            "marker": {
             "colorbar": {
              "outlinewidth": 0,
              "ticks": ""
             }
            },
            "type": "scattercarpet"
           }
          ],
          "scattergeo": [
           {
            "marker": {
             "colorbar": {
              "outlinewidth": 0,
              "ticks": ""
             }
            },
            "type": "scattergeo"
           }
          ],
          "scattergl": [
           {
            "marker": {
             "line": {
              "color": "#283442"
             }
            },
            "type": "scattergl"
           }
          ],
          "scattermap": [
           {
            "marker": {
             "colorbar": {
              "outlinewidth": 0,
              "ticks": ""
             }
            },
            "type": "scattermap"
           }
          ],
          "scattermapbox": [
           {
            "marker": {
             "colorbar": {
              "outlinewidth": 0,
              "ticks": ""
             }
            },
            "type": "scattermapbox"
           }
          ],
          "scatterpolar": [
           {
            "marker": {
             "colorbar": {
              "outlinewidth": 0,
              "ticks": ""
             }
            },
            "type": "scatterpolar"
           }
          ],
          "scatterpolargl": [
           {
            "marker": {
             "colorbar": {
              "outlinewidth": 0,
              "ticks": ""
             }
            },
            "type": "scatterpolargl"
           }
          ],
          "scatterternary": [
           {
            "marker": {
             "colorbar": {
              "outlinewidth": 0,
              "ticks": ""
             }
            },
            "type": "scatterternary"
           }
          ],
          "surface": [
           {
            "colorbar": {
             "outlinewidth": 0,
             "ticks": ""
            },
            "colorscale": [
             [
              0,
              "#0d0887"
             ],
             [
              0.1111111111111111,
              "#46039f"
             ],
             [
              0.2222222222222222,
              "#7201a8"
             ],
             [
              0.3333333333333333,
              "#9c179e"
             ],
             [
              0.4444444444444444,
              "#bd3786"
             ],
             [
              0.5555555555555556,
              "#d8576b"
             ],
             [
              0.6666666666666666,
              "#ed7953"
             ],
             [
              0.7777777777777778,
              "#fb9f3a"
             ],
             [
              0.8888888888888888,
              "#fdca26"
             ],
             [
              1,
              "#f0f921"
             ]
            ],
            "type": "surface"
           }
          ],
          "table": [
           {
            "cells": {
             "fill": {
              "color": "#506784"
             },
             "line": {
              "color": "rgb(17,17,17)"
             }
            },
            "header": {
             "fill": {
              "color": "#2a3f5f"
             },
             "line": {
              "color": "rgb(17,17,17)"
             }
            },
            "type": "table"
           }
          ]
         },
         "layout": {
          "annotationdefaults": {
           "arrowcolor": "#f2f5fa",
           "arrowhead": 0,
           "arrowwidth": 1
          },
          "autotypenumbers": "strict",
          "coloraxis": {
           "colorbar": {
            "outlinewidth": 0,
            "ticks": ""
           }
          },
          "colorscale": {
           "diverging": [
            [
             0,
             "#8e0152"
            ],
            [
             0.1,
             "#c51b7d"
            ],
            [
             0.2,
             "#de77ae"
            ],
            [
             0.3,
             "#f1b6da"
            ],
            [
             0.4,
             "#fde0ef"
            ],
            [
             0.5,
             "#f7f7f7"
            ],
            [
             0.6,
             "#e6f5d0"
            ],
            [
             0.7,
             "#b8e186"
            ],
            [
             0.8,
             "#7fbc41"
            ],
            [
             0.9,
             "#4d9221"
            ],
            [
             1,
             "#276419"
            ]
           ],
           "sequential": [
            [
             0,
             "#0d0887"
            ],
            [
             0.1111111111111111,
             "#46039f"
            ],
            [
             0.2222222222222222,
             "#7201a8"
            ],
            [
             0.3333333333333333,
             "#9c179e"
            ],
            [
             0.4444444444444444,
             "#bd3786"
            ],
            [
             0.5555555555555556,
             "#d8576b"
            ],
            [
             0.6666666666666666,
             "#ed7953"
            ],
            [
             0.7777777777777778,
             "#fb9f3a"
            ],
            [
             0.8888888888888888,
             "#fdca26"
            ],
            [
             1,
             "#f0f921"
            ]
           ],
           "sequentialminus": [
            [
             0,
             "#0d0887"
            ],
            [
             0.1111111111111111,
             "#46039f"
            ],
            [
             0.2222222222222222,
             "#7201a8"
            ],
            [
             0.3333333333333333,
             "#9c179e"
            ],
            [
             0.4444444444444444,
             "#bd3786"
            ],
            [
             0.5555555555555556,
             "#d8576b"
            ],
            [
             0.6666666666666666,
             "#ed7953"
            ],
            [
             0.7777777777777778,
             "#fb9f3a"
            ],
            [
             0.8888888888888888,
             "#fdca26"
            ],
            [
             1,
             "#f0f921"
            ]
           ]
          },
          "colorway": [
           "#636efa",
           "#EF553B",
           "#00cc96",
           "#ab63fa",
           "#FFA15A",
           "#19d3f3",
           "#FF6692",
           "#B6E880",
           "#FF97FF",
           "#FECB52"
          ],
          "font": {
           "color": "#f2f5fa"
          },
          "geo": {
           "bgcolor": "rgb(17,17,17)",
           "lakecolor": "rgb(17,17,17)",
           "landcolor": "rgb(17,17,17)",
           "showlakes": true,
           "showland": true,
           "subunitcolor": "#506784"
          },
          "hoverlabel": {
           "align": "left"
          },
          "hovermode": "closest",
          "mapbox": {
           "style": "dark"
          },
          "paper_bgcolor": "rgb(17,17,17)",
          "plot_bgcolor": "rgb(17,17,17)",
          "polar": {
           "angularaxis": {
            "gridcolor": "#506784",
            "linecolor": "#506784",
            "ticks": ""
           },
           "bgcolor": "rgb(17,17,17)",
           "radialaxis": {
            "gridcolor": "#506784",
            "linecolor": "#506784",
            "ticks": ""
           }
          },
          "scene": {
           "xaxis": {
            "backgroundcolor": "rgb(17,17,17)",
            "gridcolor": "#506784",
            "gridwidth": 2,
            "linecolor": "#506784",
            "showbackground": true,
            "ticks": "",
            "zerolinecolor": "#C8D4E3"
           },
           "yaxis": {
            "backgroundcolor": "rgb(17,17,17)",
            "gridcolor": "#506784",
            "gridwidth": 2,
            "linecolor": "#506784",
            "showbackground": true,
            "ticks": "",
            "zerolinecolor": "#C8D4E3"
           },
           "zaxis": {
            "backgroundcolor": "rgb(17,17,17)",
            "gridcolor": "#506784",
            "gridwidth": 2,
            "linecolor": "#506784",
            "showbackground": true,
            "ticks": "",
            "zerolinecolor": "#C8D4E3"
           }
          },
          "shapedefaults": {
           "line": {
            "color": "#f2f5fa"
           }
          },
          "sliderdefaults": {
           "bgcolor": "#C8D4E3",
           "bordercolor": "rgb(17,17,17)",
           "borderwidth": 1,
           "tickwidth": 0
          },
          "ternary": {
           "aaxis": {
            "gridcolor": "#506784",
            "linecolor": "#506784",
            "ticks": ""
           },
           "baxis": {
            "gridcolor": "#506784",
            "linecolor": "#506784",
            "ticks": ""
           },
           "bgcolor": "rgb(17,17,17)",
           "caxis": {
            "gridcolor": "#506784",
            "linecolor": "#506784",
            "ticks": ""
           }
          },
          "title": {
           "x": 0.05
          },
          "updatemenudefaults": {
           "bgcolor": "#506784",
           "borderwidth": 0
          },
          "xaxis": {
           "automargin": true,
           "gridcolor": "#283442",
           "linecolor": "#506784",
           "ticks": "",
           "title": {
            "standoff": 15
           },
           "zerolinecolor": "#283442",
           "zerolinewidth": 2
          },
          "yaxis": {
           "automargin": true,
           "gridcolor": "#283442",
           "linecolor": "#506784",
           "ticks": "",
           "title": {
            "standoff": 15
           },
           "zerolinecolor": "#283442",
           "zerolinewidth": 2
          }
         }
        },
        "title": {
         "text": "Mobile App - Rating Distribution"
        },
        "xaxis": {
         "anchor": "y",
         "domain": [
          0,
          1
         ],
         "dtick": 1,
         "tickmode": "linear",
         "title": {
          "text": "Rating"
         }
        },
        "yaxis": {
         "anchor": "x",
         "domain": [
          0,
          1
         ],
         "title": {
          "text": "Number of Reviews"
         }
        }
       }
      }
     },
     "metadata": {},
     "output_type": "display_data"
    }
   ],
   "source": [
    "# Create rating distribution visualization\n",
    "rating_viz = runner.visualizer.plot_rating_distribution(\n",
    "    data=analyzed_df,\n",
    "    title=\"Mobile App - Rating Distribution\",\n",
    "    use_plotly=True,\n",
    "    close_fig=False\n",
    ")\n",
    "\n",
    "# Display the figure\n",
    "rating_viz[\"figure\"].show()"
   ]
  },
  {
   "cell_type": "markdown",
   "metadata": {},
   "source": [
    "## Version-Based Analysis\n",
    "\n",
    "App version information is valuable for understanding how different releases impact user sentiment and feedback. This analysis allows us to track the evolution of user satisfaction across app updates and identify versions that introduced features or issues."
   ]
  },
  {
   "cell_type": "code",
   "execution_count": 8,
   "metadata": {},
   "outputs": [
    {
     "name": "stdout",
     "output_type": "stream",
     "text": [
      "Examining version distribution in the data:\n",
      "Version column has 610 null values (13.87%)\n",
      "Found 3788 reviews with valid version data (86.13%)\n",
      "\n",
      "Top 10 app versions by review count:\n"
     ]
    },
    {
     "data": {
      "text/html": [
       "<div>\n",
       "<style scoped>\n",
       "    .dataframe tbody tr th:only-of-type {\n",
       "        vertical-align: middle;\n",
       "    }\n",
       "\n",
       "    .dataframe tbody tr th {\n",
       "        vertical-align: top;\n",
       "    }\n",
       "\n",
       "    .dataframe thead th {\n",
       "        text-align: right;\n",
       "    }\n",
       "</style>\n",
       "<table border=\"1\" class=\"dataframe\">\n",
       "  <thead>\n",
       "    <tr style=\"text-align: right;\">\n",
       "      <th></th>\n",
       "      <th>version</th>\n",
       "      <th>count</th>\n",
       "    </tr>\n",
       "  </thead>\n",
       "  <tbody>\n",
       "    <tr>\n",
       "      <th>0</th>\n",
       "      <td>6.0.6</td>\n",
       "      <td>1161</td>\n",
       "    </tr>\n",
       "    <tr>\n",
       "      <th>1</th>\n",
       "      <td>6.0.4</td>\n",
       "      <td>699</td>\n",
       "    </tr>\n",
       "    <tr>\n",
       "      <th>2</th>\n",
       "      <td>6.0.5</td>\n",
       "      <td>382</td>\n",
       "    </tr>\n",
       "    <tr>\n",
       "      <th>3</th>\n",
       "      <td>7.0.7</td>\n",
       "      <td>348</td>\n",
       "    </tr>\n",
       "    <tr>\n",
       "      <th>4</th>\n",
       "      <td>7.0.9</td>\n",
       "      <td>323</td>\n",
       "    </tr>\n",
       "    <tr>\n",
       "      <th>5</th>\n",
       "      <td>7.2.0</td>\n",
       "      <td>306</td>\n",
       "    </tr>\n",
       "    <tr>\n",
       "      <th>6</th>\n",
       "      <td>7.0.8</td>\n",
       "      <td>161</td>\n",
       "    </tr>\n",
       "    <tr>\n",
       "      <th>7</th>\n",
       "      <td>7.2.3</td>\n",
       "      <td>119</td>\n",
       "    </tr>\n",
       "    <tr>\n",
       "      <th>8</th>\n",
       "      <td>7.2.2</td>\n",
       "      <td>82</td>\n",
       "    </tr>\n",
       "    <tr>\n",
       "      <th>9</th>\n",
       "      <td>7.2.4</td>\n",
       "      <td>52</td>\n",
       "    </tr>\n",
       "  </tbody>\n",
       "</table>\n",
       "</div>"
      ],
      "text/plain": [
       "  version  count\n",
       "0   6.0.6   1161\n",
       "1   6.0.4    699\n",
       "2   6.0.5    382\n",
       "3   7.0.7    348\n",
       "4   7.0.9    323\n",
       "5   7.2.0    306\n",
       "6   7.0.8    161\n",
       "7   7.2.3    119\n",
       "8   7.2.2     82\n",
       "9   7.2.4     52"
      ]
     },
     "metadata": {},
     "output_type": "display_data"
    },
    {
     "name": "stdout",
     "output_type": "stream",
     "text": [
      "\n",
      "Average rating by version (top 10 by review count):\n"
     ]
    },
    {
     "data": {
      "text/html": [
       "<div>\n",
       "<style scoped>\n",
       "    .dataframe tbody tr th:only-of-type {\n",
       "        vertical-align: middle;\n",
       "    }\n",
       "\n",
       "    .dataframe tbody tr th {\n",
       "        vertical-align: top;\n",
       "    }\n",
       "\n",
       "    .dataframe thead th {\n",
       "        text-align: right;\n",
       "    }\n",
       "</style>\n",
       "<table border=\"1\" class=\"dataframe\">\n",
       "  <thead>\n",
       "    <tr style=\"text-align: right;\">\n",
       "      <th></th>\n",
       "      <th>version</th>\n",
       "      <th>avg_rating</th>\n",
       "      <th>review_count</th>\n",
       "    </tr>\n",
       "  </thead>\n",
       "  <tbody>\n",
       "    <tr>\n",
       "      <th>43</th>\n",
       "      <td>6.0.6</td>\n",
       "      <td>3.56</td>\n",
       "      <td>1161</td>\n",
       "    </tr>\n",
       "    <tr>\n",
       "      <th>41</th>\n",
       "      <td>6.0.4</td>\n",
       "      <td>3.80</td>\n",
       "      <td>699</td>\n",
       "    </tr>\n",
       "    <tr>\n",
       "      <th>42</th>\n",
       "      <td>6.0.5</td>\n",
       "      <td>3.91</td>\n",
       "      <td>382</td>\n",
       "    </tr>\n",
       "    <tr>\n",
       "      <th>47</th>\n",
       "      <td>7.0.7</td>\n",
       "      <td>1.89</td>\n",
       "      <td>348</td>\n",
       "    </tr>\n",
       "    <tr>\n",
       "      <th>49</th>\n",
       "      <td>7.0.9</td>\n",
       "      <td>1.81</td>\n",
       "      <td>323</td>\n",
       "    </tr>\n",
       "    <tr>\n",
       "      <th>51</th>\n",
       "      <td>7.2.0</td>\n",
       "      <td>1.95</td>\n",
       "      <td>306</td>\n",
       "    </tr>\n",
       "    <tr>\n",
       "      <th>48</th>\n",
       "      <td>7.0.8</td>\n",
       "      <td>1.96</td>\n",
       "      <td>161</td>\n",
       "    </tr>\n",
       "    <tr>\n",
       "      <th>54</th>\n",
       "      <td>7.2.3</td>\n",
       "      <td>1.84</td>\n",
       "      <td>119</td>\n",
       "    </tr>\n",
       "    <tr>\n",
       "      <th>53</th>\n",
       "      <td>7.2.2</td>\n",
       "      <td>1.88</td>\n",
       "      <td>82</td>\n",
       "    </tr>\n",
       "    <tr>\n",
       "      <th>55</th>\n",
       "      <td>7.2.4</td>\n",
       "      <td>1.75</td>\n",
       "      <td>52</td>\n",
       "    </tr>\n",
       "  </tbody>\n",
       "</table>\n",
       "</div>"
      ],
      "text/plain": [
       "   version  avg_rating  review_count\n",
       "43   6.0.6        3.56          1161\n",
       "41   6.0.4        3.80           699\n",
       "42   6.0.5        3.91           382\n",
       "47   7.0.7        1.89           348\n",
       "49   7.0.9        1.81           323\n",
       "51   7.2.0        1.95           306\n",
       "48   7.0.8        1.96           161\n",
       "54   7.2.3        1.84           119\n",
       "53   7.2.2        1.88            82\n",
       "55   7.2.4        1.75            52"
      ]
     },
     "metadata": {},
     "output_type": "display_data"
    },
    {
     "data": {
      "application/vnd.plotly.v1+json": {
       "config": {
        "plotlyServerURL": "https://plot.ly"
       },
       "data": [
        {
         "alignmentgroup": "True",
         "bingroup": "x",
         "histnorm": "percent",
         "hovertemplate": "version=6.0.4<br>Rating=%{x}<br>percent=%{y}<extra></extra>",
         "legendgroup": "6.0.4",
         "marker": {
          "color": "rgb(228,26,28)",
          "pattern": {
           "shape": ""
          }
         },
         "name": "6.0.4",
         "nbinsx": 5,
         "offsetgroup": "6.0.4",
         "orientation": "v",
         "showlegend": true,
         "type": "histogram",
         "x": {
          "bdata": "BQQFAwEEAgIBBAEBBQUEBQUFBQUFAwUFBQIFBQQFBQECBQECBQUFBQUFBQUFAwUFBQQFBQUFBQEFAQUEBAUFBQMFBQUDBQUBBQIFBQUDBQUFBAUEBQUBBAEBBQUFBQUFBQQFAQUFAQUFAQUFBQECBQUFBQUFAQUFBQMFBQEDBQQFBQUFBQEFAQUFBQEFBQMFAQUFBQQFBQUFBQEEAwUFBQUDAwUFAQIDAQQBAQUFBQEBBQUFBQUDAgUFAQEFBQEFAgEFAQQFBQEBBQUFBQIBBQUFBQUFBQEDAwEFAQMBBQEFAQUFAwUBBQUBBQQFBQUFAQIFAQIFAQEFBQIFBQEBBQUFBAUFBQMFAQUEBQUEAQUBAQEBBQUBAQQFBQEFBQUFAQIFBQEFBQEFBQUEBQUBBQUFBQIFBQUFBQMBBQUFBQUEBQUCAQUFBQMFBQUFBQUDBQQDBQUFBQUFBQUFBAEFBQMBBAUFAQEEBQUFAQUEBQUFAQUFAQEEAQEFBQEBBAIBBQEBBQUFBAEFBQQCBAUFBAUDBQEFAQQFBQQFBQEBAQEBBQUFBQUFBAMFBQQBBQUEBQEFBQUFBQUBBAUFBQEFAQEDBQUFAQUFAQUFAQEFBAUFBQEBBQUBAwUFBQUDAQUFBQQFBQUFBQUFAQMEBQUFBQUBAQMFBQUFBAUFBQUFAQUFAgEFAQUBAQUFAQMBBAEFBQUBAQUBAQUFBQQFBQUEAQEFBQUEBQEFBQUFAwUFBQUFAgUBBQUFBQUFBQEEAQUCBAUFAQUFBQUBBQQDAgUCAQEFAQQEAQUFAQQBBQUFBQQBBQQBBQUFAgMDBAEFBQUBBQECAgUFBQUFAQUFAwUFBQQBBQEDBQEEBQUFAQUFBQEFAQEFAQQBAQEFBAEFBQUFBQMBBQUBBQUFBQUFAQUFBQUFAwUFBAUBBQUF",
          "dtype": "i1"
         },
         "xaxis": "x",
         "yaxis": "y"
        },
        {
         "alignmentgroup": "True",
         "bingroup": "x",
         "histnorm": "percent",
         "hovertemplate": "version=6.0.5<br>Rating=%{x}<br>percent=%{y}<extra></extra>",
         "legendgroup": "6.0.5",
         "marker": {
          "color": "rgb(55,126,184)",
          "pattern": {
           "shape": ""
          }
         },
         "name": "6.0.5",
         "nbinsx": 5,
         "offsetgroup": "6.0.5",
         "orientation": "v",
         "showlegend": true,
         "type": "histogram",
         "x": {
          "bdata": "BQUBBQEFAQUFAQUBBAUEBQEBBQIFBQUFBQUBBQQFBQUFAgUFBQUBBAUFBQUFBAUFBQUBBQUFBAUFBAUBBAQFBQEBBQUFBQUBBQUFBAUFAgUFAQUEAgUFBQEFBQUFAQUFBQUFBQUFAQQFBQUFAQEFBQEBBQUFBQEFBAEFBQIFBQEEBQUFBQUBBQUFAQUFAQUBBAUFAQUCBQUBBQQFBQUBBQUCBQUFBQUDBQUFBQQFBQUFBQEFAwUEBQUFBQUFBAUFBQUBBQUBBQUFAQUEAQEDBQUEBQQFBQUBAQUBBQEFAgUFBQEBAgEFAQQFBQQEBQIFBQEFBQUEBQUBBQUDBQQDBQUBAQUFBQUFAgUFBQEFBQUBBQEFAQUFBQUFBQQFBAEFBAUFBQUFBQUFBQEFAQEBAwQFAwMFBQUDBQUFAQQBAgUDBQUFAQUFAQUBAQQBAwUFAwEFAQUFBQUBAQEDBQUFAwUEAwUBBQUBAQUFBQUDBAIEBQUFBQEFBAUFAwQDAQ==",
          "dtype": "i1"
         },
         "xaxis": "x",
         "yaxis": "y"
        },
        {
         "alignmentgroup": "True",
         "bingroup": "x",
         "histnorm": "percent",
         "hovertemplate": "version=6.0.6<br>Rating=%{x}<br>percent=%{y}<extra></extra>",
         "legendgroup": "6.0.6",
         "marker": {
          "color": "rgb(77,175,74)",
          "pattern": {
           "shape": ""
          }
         },
         "name": "6.0.6",
         "nbinsx": 5,
         "offsetgroup": "6.0.6",
         "orientation": "v",
         "showlegend": true,
         "type": "histogram",
         "x": {
          "bdata": "BQUBBQEBBQUFBQUFBQUFAQUCBQIBAQUBBQUFAQIFBAEFAwMBBQUFAQUBBQUFAQIFAwEFAQIFAQUFAQEEBQUFBQUBAQEBBQUEBQEBAQUEBQQFBQQFBQUBBQUBBQUEBQEBBQEBBAUFBQUDBAICBQEDAQEBAQUFBQEBAgEBAQEBBQUFAQUBBQEFBQEBBQUFAQUFAQEFBAUFBAUFBAEFBQUFBAEFBQUFBQEBAwUBAQIFAQUFBAEBBQUFBQEBAQUBAQMFAwEBAQUFBQEFAQUBBQUFBAUFBQUBBQEEBQEFAQQEBQIBBQUEBQEBBAUFBQEBAQUCAQUFBQEFAQEFAwUBAQUFBQUEAQUBAQUFBQMBAQIBAQUFAQUDBQUBBQQBAQMDBQEFAgEFAQECAQEFBAEFBQECAQEFBQUBBQEBAgUBAQEBBQUBBQUFAgUFAQEFBQEFBAEBAgUBAQQFAQEBAgEBBQEBBQUFAQQBAQIEBQQBBQUFAQUBAQQFAQEDBQEEBQUFAwQFAwEFBQIBAQECAQEEAQUDAQQBAQUBBQEFAgMCAQUFAQUEBQUFBQUDBQEDAgEFAwMEBAIBAgIFAQUFAgIEAQUFBQEBAgUFBQUFBQEBAgEEAQEFAQEFBQEFBQEFBQUCAQMBBQEBBQQBBQEBBQUFBQUFBQUBAQUFBAEFBQUDAQUFAQEEBQEFAwEDBQMFBAQEBQUEAQEFBQIEBQUBBQUBBQEBBQEFAgUEAgEFAQUFAQUEBQUEBQUFBQUFBQUFAQUFBAUFBQEFBQUBBQUDBQMFBQQFBQEFBQUBBQUFBQUDBQIFBQEFBQQBBQEEBQMFBQIFBQUFBQUFBQUFBQUFBQQFBQUBBQEFBQEFBQUBBQUDAQUFBQUFBQIFAQUFBQUFBQMEBQQFBQUFBAQBBQUFBQUFBQUFBQUBBQUDAwUEBAUBBQQFAQUBAQMFAQEFBQQFAQUFBAIBBAUFBQUFBAMFBQUFBQUFBQUBBQUFBQUFBAUEBQUFAQUFBQQFBQUFAQUFAQUFBQEFBQEFBQUFAgUEAwUFBQUEAQUFBQQBBQUFBQUFBQMFBQUFAQUBBQMFAQUBAwQFAgEFBQUFBQMDBQUCBQUBAQUFAQUFBQUFBQEBBQUEBQEFBAIFBQUFBQUFAQUEBAUBAQQFBQMBBQUFAwUFAQQFBQQFAQQFBQQBAQUBBQUFAQUBAQUBBQEFBQUCBQEFAQEFAgQFAQUEAQQBBQECBAUDBQEFBQMFAQEBAQEBAQEBAQEBBQQFBQEFBAUFBQUFAQUFBQQDBQECBQUFBQEFAwUFBQUFAQUFAQEDBQUBAQECBQEFBQUDBQEBAQUBAQEFBQIDAgEBAQUEAQEBAQEFAQUEAwUEAQUEBQUBBQUFBQQBBQUFBAUEAQUFBQEFBQUBBQEFBQMBBQQEBQUFBQEFBQMDBQUFBQUFBQUFBQUEBQUEAwUFBQUFAwEFBQUBBQUDBQUEBQQEBQUDAQQFBAUFBQUFAQEBBAUFBQUFBQUEAQUFBQUBAQUFBQMFBQEEAwUFBQUCBQUDBQQFBAMFAQUB",
          "dtype": "i1"
         },
         "xaxis": "x",
         "yaxis": "y"
        },
        {
         "alignmentgroup": "True",
         "bingroup": "x",
         "histnorm": "percent",
         "hovertemplate": "version=7.0.7<br>Rating=%{x}<br>percent=%{y}<extra></extra>",
         "legendgroup": "7.0.7",
         "marker": {
          "color": "rgb(152,78,163)",
          "pattern": {
           "shape": ""
          }
         },
         "name": "7.0.7",
         "nbinsx": 5,
         "offsetgroup": "7.0.7",
         "orientation": "v",
         "showlegend": true,
         "type": "histogram",
         "x": {
          "bdata": "BQUDAwUBAQMFAQEBAQIBAQEFBQQBAQEFAQEBBQEBBQUBAQEFBQIBBAEBAgECBQEFBQUBBQEBAQEFAQIBAwEBAQEBAQEFAQEBAQEBAwQBAQECAQEBBQEFAQEFAQEDAgEFAQEBAQEFAQEFAQEBAQEBAQEBAQUBAQEFAQQBAQEDAQEBBAQBAQEBAgQBAQEFAQECAQUBAQEBBQEBAQEBBAEBAQEBBQICAwEBAgEBAQEBAQMBBQECAQEBAgMBAQUFAQEBAQEBAQECAQQBAQEBAQEBAQQCAgMBAQEDAgEBAQEBAQUBAQEBAQECAQEBAQECAQECBAEBAQECAwEBAwICAQECAQEBAwEBBAUFAwIFAQEBBQUEAwUBAQEBAQEBAQECAgEBAQIBBQEBAQEDAQIDAQEBAQICAQIBAQMDAwUCAQEFAQEBAQECAQECAQEBBQEBBQEBAQEBAQUDAgEBAQEB",
          "dtype": "i1"
         },
         "xaxis": "x",
         "yaxis": "y"
        },
        {
         "alignmentgroup": "True",
         "bingroup": "x",
         "histnorm": "percent",
         "hovertemplate": "version=7.0.9<br>Rating=%{x}<br>percent=%{y}<extra></extra>",
         "legendgroup": "7.0.9",
         "marker": {
          "color": "rgb(255,127,0)",
          "pattern": {
           "shape": ""
          }
         },
         "name": "7.0.9",
         "nbinsx": 5,
         "offsetgroup": "7.0.9",
         "orientation": "v",
         "showlegend": true,
         "type": "histogram",
         "x": {
          "bdata": "AQUFBQUBAQEBAQEBAQEBAQEBAQICAQEBBQEBAQIBAQIBAgEDAQEBBQUBBQEBAQEBAQEBAQIEAwEFAQEBAQEBAQIBAQEBAQUBAgEBBAEBAQEBBQEBAwEBAgEBAQEBAQECBQEBAQQBAQUCAQEBBQIBAQEBBQEBBQEBBQUBAQEBAQEBAQEBAQEBAQEBAQIBAwEBAQEBAQEFAQEDAQEBBQEBAQEDBQEFAQEBAgEBAQEBAQEBAQEBBQEBAQEFAQEBAQUCAQEBAQEBAQQBAQEBAQEBAQEBAwIBAQEBAQEBAQUFAwUEAQUFBQEBAQEBAQUBAQUFAQEFAQEFAQEDAQEBAQECAgEBAQEBAQEBBQEBBQUBBAEBAQMBAQUFAQEBBQEBAQEFBAEBAQEBBQUBAQMFAgEBBQEBAQEBAQQBAgEBAQEEBQEBAQE=",
          "dtype": "i1"
         },
         "xaxis": "x",
         "yaxis": "y"
        }
       ],
       "layout": {
        "annotations": [
         {
          "showarrow": false,
          "text": "6.0.4 avg: 3.8",
          "x": 3.8,
          "xanchor": "left",
          "xref": "x",
          "y": 1,
          "yanchor": "top",
          "yref": "y domain"
         },
         {
          "showarrow": false,
          "text": "6.0.5 avg: 3.91",
          "x": 3.91,
          "xanchor": "left",
          "xref": "x",
          "y": 1,
          "yanchor": "top",
          "yref": "y domain"
         },
         {
          "showarrow": false,
          "text": "6.0.6 avg: 3.56",
          "x": 3.56,
          "xanchor": "left",
          "xref": "x",
          "y": 1,
          "yanchor": "top",
          "yref": "y domain"
         },
         {
          "showarrow": false,
          "text": "7.0.7 avg: 1.89",
          "x": 1.89,
          "xanchor": "left",
          "xref": "x",
          "y": 1,
          "yanchor": "top",
          "yref": "y domain"
         },
         {
          "showarrow": false,
          "text": "7.0.9 avg: 1.81",
          "x": 1.81,
          "xanchor": "left",
          "xref": "x",
          "y": 1,
          "yanchor": "top",
          "yref": "y domain"
         }
        ],
        "barmode": "group",
        "legend": {
         "title": {
          "text": "App Version"
         },
         "tracegroupgap": 0
        },
        "shapes": [
         {
          "line": {
           "dash": "dash"
          },
          "type": "line",
          "x0": 3.8,
          "x1": 3.8,
          "xref": "x",
          "y0": 0,
          "y1": 1,
          "yref": "y domain"
         },
         {
          "line": {
           "dash": "dash"
          },
          "type": "line",
          "x0": 3.91,
          "x1": 3.91,
          "xref": "x",
          "y0": 0,
          "y1": 1,
          "yref": "y domain"
         },
         {
          "line": {
           "dash": "dash"
          },
          "type": "line",
          "x0": 3.56,
          "x1": 3.56,
          "xref": "x",
          "y0": 0,
          "y1": 1,
          "yref": "y domain"
         },
         {
          "line": {
           "dash": "dash"
          },
          "type": "line",
          "x0": 1.89,
          "x1": 1.89,
          "xref": "x",
          "y0": 0,
          "y1": 1,
          "yref": "y domain"
         },
         {
          "line": {
           "dash": "dash"
          },
          "type": "line",
          "x0": 1.81,
          "x1": 1.81,
          "xref": "x",
          "y0": 0,
          "y1": 1,
          "yref": "y domain"
         }
        ],
        "template": {
         "data": {
          "bar": [
           {
            "error_x": {
             "color": "#2a3f5f"
            },
            "error_y": {
             "color": "#2a3f5f"
            },
            "marker": {
             "line": {
              "color": "#E5ECF6",
              "width": 0.5
             },
             "pattern": {
              "fillmode": "overlay",
              "size": 10,
              "solidity": 0.2
             }
            },
            "type": "bar"
           }
          ],
          "barpolar": [
           {
            "marker": {
             "line": {
              "color": "#E5ECF6",
              "width": 0.5
             },
             "pattern": {
              "fillmode": "overlay",
              "size": 10,
              "solidity": 0.2
             }
            },
            "type": "barpolar"
           }
          ],
          "carpet": [
           {
            "aaxis": {
             "endlinecolor": "#2a3f5f",
             "gridcolor": "white",
             "linecolor": "white",
             "minorgridcolor": "white",
             "startlinecolor": "#2a3f5f"
            },
            "baxis": {
             "endlinecolor": "#2a3f5f",
             "gridcolor": "white",
             "linecolor": "white",
             "minorgridcolor": "white",
             "startlinecolor": "#2a3f5f"
            },
            "type": "carpet"
           }
          ],
          "choropleth": [
           {
            "colorbar": {
             "outlinewidth": 0,
             "ticks": ""
            },
            "type": "choropleth"
           }
          ],
          "contour": [
           {
            "colorbar": {
             "outlinewidth": 0,
             "ticks": ""
            },
            "colorscale": [
             [
              0,
              "#0d0887"
             ],
             [
              0.1111111111111111,
              "#46039f"
             ],
             [
              0.2222222222222222,
              "#7201a8"
             ],
             [
              0.3333333333333333,
              "#9c179e"
             ],
             [
              0.4444444444444444,
              "#bd3786"
             ],
             [
              0.5555555555555556,
              "#d8576b"
             ],
             [
              0.6666666666666666,
              "#ed7953"
             ],
             [
              0.7777777777777778,
              "#fb9f3a"
             ],
             [
              0.8888888888888888,
              "#fdca26"
             ],
             [
              1,
              "#f0f921"
             ]
            ],
            "type": "contour"
           }
          ],
          "contourcarpet": [
           {
            "colorbar": {
             "outlinewidth": 0,
             "ticks": ""
            },
            "type": "contourcarpet"
           }
          ],
          "heatmap": [
           {
            "colorbar": {
             "outlinewidth": 0,
             "ticks": ""
            },
            "colorscale": [
             [
              0,
              "#0d0887"
             ],
             [
              0.1111111111111111,
              "#46039f"
             ],
             [
              0.2222222222222222,
              "#7201a8"
             ],
             [
              0.3333333333333333,
              "#9c179e"
             ],
             [
              0.4444444444444444,
              "#bd3786"
             ],
             [
              0.5555555555555556,
              "#d8576b"
             ],
             [
              0.6666666666666666,
              "#ed7953"
             ],
             [
              0.7777777777777778,
              "#fb9f3a"
             ],
             [
              0.8888888888888888,
              "#fdca26"
             ],
             [
              1,
              "#f0f921"
             ]
            ],
            "type": "heatmap"
           }
          ],
          "histogram": [
           {
            "marker": {
             "pattern": {
              "fillmode": "overlay",
              "size": 10,
              "solidity": 0.2
             }
            },
            "type": "histogram"
           }
          ],
          "histogram2d": [
           {
            "colorbar": {
             "outlinewidth": 0,
             "ticks": ""
            },
            "colorscale": [
             [
              0,
              "#0d0887"
             ],
             [
              0.1111111111111111,
              "#46039f"
             ],
             [
              0.2222222222222222,
              "#7201a8"
             ],
             [
              0.3333333333333333,
              "#9c179e"
             ],
             [
              0.4444444444444444,
              "#bd3786"
             ],
             [
              0.5555555555555556,
              "#d8576b"
             ],
             [
              0.6666666666666666,
              "#ed7953"
             ],
             [
              0.7777777777777778,
              "#fb9f3a"
             ],
             [
              0.8888888888888888,
              "#fdca26"
             ],
             [
              1,
              "#f0f921"
             ]
            ],
            "type": "histogram2d"
           }
          ],
          "histogram2dcontour": [
           {
            "colorbar": {
             "outlinewidth": 0,
             "ticks": ""
            },
            "colorscale": [
             [
              0,
              "#0d0887"
             ],
             [
              0.1111111111111111,
              "#46039f"
             ],
             [
              0.2222222222222222,
              "#7201a8"
             ],
             [
              0.3333333333333333,
              "#9c179e"
             ],
             [
              0.4444444444444444,
              "#bd3786"
             ],
             [
              0.5555555555555556,
              "#d8576b"
             ],
             [
              0.6666666666666666,
              "#ed7953"
             ],
             [
              0.7777777777777778,
              "#fb9f3a"
             ],
             [
              0.8888888888888888,
              "#fdca26"
             ],
             [
              1,
              "#f0f921"
             ]
            ],
            "type": "histogram2dcontour"
           }
          ],
          "mesh3d": [
           {
            "colorbar": {
             "outlinewidth": 0,
             "ticks": ""
            },
            "type": "mesh3d"
           }
          ],
          "parcoords": [
           {
            "line": {
             "colorbar": {
              "outlinewidth": 0,
              "ticks": ""
             }
            },
            "type": "parcoords"
           }
          ],
          "pie": [
           {
            "automargin": true,
            "type": "pie"
           }
          ],
          "scatter": [
           {
            "fillpattern": {
             "fillmode": "overlay",
             "size": 10,
             "solidity": 0.2
            },
            "type": "scatter"
           }
          ],
          "scatter3d": [
           {
            "line": {
             "colorbar": {
              "outlinewidth": 0,
              "ticks": ""
             }
            },
            "marker": {
             "colorbar": {
              "outlinewidth": 0,
              "ticks": ""
             }
            },
            "type": "scatter3d"
           }
          ],
          "scattercarpet": [
           {
            "marker": {
             "colorbar": {
              "outlinewidth": 0,
              "ticks": ""
             }
            },
            "type": "scattercarpet"
           }
          ],
          "scattergeo": [
           {
            "marker": {
             "colorbar": {
              "outlinewidth": 0,
              "ticks": ""
             }
            },
            "type": "scattergeo"
           }
          ],
          "scattergl": [
           {
            "marker": {
             "colorbar": {
              "outlinewidth": 0,
              "ticks": ""
             }
            },
            "type": "scattergl"
           }
          ],
          "scattermap": [
           {
            "marker": {
             "colorbar": {
              "outlinewidth": 0,
              "ticks": ""
             }
            },
            "type": "scattermap"
           }
          ],
          "scattermapbox": [
           {
            "marker": {
             "colorbar": {
              "outlinewidth": 0,
              "ticks": ""
             }
            },
            "type": "scattermapbox"
           }
          ],
          "scatterpolar": [
           {
            "marker": {
             "colorbar": {
              "outlinewidth": 0,
              "ticks": ""
             }
            },
            "type": "scatterpolar"
           }
          ],
          "scatterpolargl": [
           {
            "marker": {
             "colorbar": {
              "outlinewidth": 0,
              "ticks": ""
             }
            },
            "type": "scatterpolargl"
           }
          ],
          "scatterternary": [
           {
            "marker": {
             "colorbar": {
              "outlinewidth": 0,
              "ticks": ""
             }
            },
            "type": "scatterternary"
           }
          ],
          "surface": [
           {
            "colorbar": {
             "outlinewidth": 0,
             "ticks": ""
            },
            "colorscale": [
             [
              0,
              "#0d0887"
             ],
             [
              0.1111111111111111,
              "#46039f"
             ],
             [
              0.2222222222222222,
              "#7201a8"
             ],
             [
              0.3333333333333333,
              "#9c179e"
             ],
             [
              0.4444444444444444,
              "#bd3786"
             ],
             [
              0.5555555555555556,
              "#d8576b"
             ],
             [
              0.6666666666666666,
              "#ed7953"
             ],
             [
              0.7777777777777778,
              "#fb9f3a"
             ],
             [
              0.8888888888888888,
              "#fdca26"
             ],
             [
              1,
              "#f0f921"
             ]
            ],
            "type": "surface"
           }
          ],
          "table": [
           {
            "cells": {
             "fill": {
              "color": "#EBF0F8"
             },
             "line": {
              "color": "white"
             }
            },
            "header": {
             "fill": {
              "color": "#C8D4E3"
             },
             "line": {
              "color": "white"
             }
            },
            "type": "table"
           }
          ]
         },
         "layout": {
          "annotationdefaults": {
           "arrowcolor": "#2a3f5f",
           "arrowhead": 0,
           "arrowwidth": 1
          },
          "autotypenumbers": "strict",
          "coloraxis": {
           "colorbar": {
            "outlinewidth": 0,
            "ticks": ""
           }
          },
          "colorscale": {
           "diverging": [
            [
             0,
             "#8e0152"
            ],
            [
             0.1,
             "#c51b7d"
            ],
            [
             0.2,
             "#de77ae"
            ],
            [
             0.3,
             "#f1b6da"
            ],
            [
             0.4,
             "#fde0ef"
            ],
            [
             0.5,
             "#f7f7f7"
            ],
            [
             0.6,
             "#e6f5d0"
            ],
            [
             0.7,
             "#b8e186"
            ],
            [
             0.8,
             "#7fbc41"
            ],
            [
             0.9,
             "#4d9221"
            ],
            [
             1,
             "#276419"
            ]
           ],
           "sequential": [
            [
             0,
             "#0d0887"
            ],
            [
             0.1111111111111111,
             "#46039f"
            ],
            [
             0.2222222222222222,
             "#7201a8"
            ],
            [
             0.3333333333333333,
             "#9c179e"
            ],
            [
             0.4444444444444444,
             "#bd3786"
            ],
            [
             0.5555555555555556,
             "#d8576b"
            ],
            [
             0.6666666666666666,
             "#ed7953"
            ],
            [
             0.7777777777777778,
             "#fb9f3a"
            ],
            [
             0.8888888888888888,
             "#fdca26"
            ],
            [
             1,
             "#f0f921"
            ]
           ],
           "sequentialminus": [
            [
             0,
             "#0d0887"
            ],
            [
             0.1111111111111111,
             "#46039f"
            ],
            [
             0.2222222222222222,
             "#7201a8"
            ],
            [
             0.3333333333333333,
             "#9c179e"
            ],
            [
             0.4444444444444444,
             "#bd3786"
            ],
            [
             0.5555555555555556,
             "#d8576b"
            ],
            [
             0.6666666666666666,
             "#ed7953"
            ],
            [
             0.7777777777777778,
             "#fb9f3a"
            ],
            [
             0.8888888888888888,
             "#fdca26"
            ],
            [
             1,
             "#f0f921"
            ]
           ]
          },
          "colorway": [
           "#636efa",
           "#EF553B",
           "#00cc96",
           "#ab63fa",
           "#FFA15A",
           "#19d3f3",
           "#FF6692",
           "#B6E880",
           "#FF97FF",
           "#FECB52"
          ],
          "font": {
           "color": "#2a3f5f"
          },
          "geo": {
           "bgcolor": "white",
           "lakecolor": "white",
           "landcolor": "#E5ECF6",
           "showlakes": true,
           "showland": true,
           "subunitcolor": "white"
          },
          "hoverlabel": {
           "align": "left"
          },
          "hovermode": "closest",
          "mapbox": {
           "style": "light"
          },
          "paper_bgcolor": "white",
          "plot_bgcolor": "#E5ECF6",
          "polar": {
           "angularaxis": {
            "gridcolor": "white",
            "linecolor": "white",
            "ticks": ""
           },
           "bgcolor": "#E5ECF6",
           "radialaxis": {
            "gridcolor": "white",
            "linecolor": "white",
            "ticks": ""
           }
          },
          "scene": {
           "xaxis": {
            "backgroundcolor": "#E5ECF6",
            "gridcolor": "white",
            "gridwidth": 2,
            "linecolor": "white",
            "showbackground": true,
            "ticks": "",
            "zerolinecolor": "white"
           },
           "yaxis": {
            "backgroundcolor": "#E5ECF6",
            "gridcolor": "white",
            "gridwidth": 2,
            "linecolor": "white",
            "showbackground": true,
            "ticks": "",
            "zerolinecolor": "white"
           },
           "zaxis": {
            "backgroundcolor": "#E5ECF6",
            "gridcolor": "white",
            "gridwidth": 2,
            "linecolor": "white",
            "showbackground": true,
            "ticks": "",
            "zerolinecolor": "white"
           }
          },
          "shapedefaults": {
           "line": {
            "color": "#2a3f5f"
           }
          },
          "ternary": {
           "aaxis": {
            "gridcolor": "white",
            "linecolor": "white",
            "ticks": ""
           },
           "baxis": {
            "gridcolor": "white",
            "linecolor": "white",
            "ticks": ""
           },
           "bgcolor": "#E5ECF6",
           "caxis": {
            "gridcolor": "white",
            "linecolor": "white",
            "ticks": ""
           }
          },
          "title": {
           "x": 0.05
          },
          "xaxis": {
           "automargin": true,
           "gridcolor": "white",
           "linecolor": "white",
           "ticks": "",
           "title": {
            "standoff": 15
           },
           "zerolinecolor": "white",
           "zerolinewidth": 2
          },
          "yaxis": {
           "automargin": true,
           "gridcolor": "white",
           "linecolor": "white",
           "ticks": "",
           "title": {
            "standoff": 15
           },
           "zerolinecolor": "white",
           "zerolinewidth": 2
          }
         }
        },
        "title": {
         "text": "Rating Distribution by Version (Top 5 Versions)"
        },
        "xaxis": {
         "anchor": "y",
         "categoryarray": [
          1,
          2,
          3,
          4,
          5
         ],
         "categoryorder": "array",
         "domain": [
          0,
          1
         ],
         "tickmode": "array",
         "tickvals": [
          1,
          2,
          3,
          4,
          5
         ],
         "title": {
          "text": "Rating (1-5 stars)"
         }
        },
        "yaxis": {
         "anchor": "x",
         "domain": [
          0,
          1
         ],
         "title": {
          "text": "Percentage"
         }
        }
       }
      }
     },
     "metadata": {},
     "output_type": "display_data"
    },
    {
     "data": {
      "application/vnd.plotly.v1+json": {
       "config": {
        "plotlyServerURL": "https://plot.ly"
       },
       "data": [
        {
         "hovertemplate": "App Version=%{x}<br>Average Rating=%{marker.color}<extra></extra>",
         "legendgroup": "",
         "marker": {
          "color": {
           "bdata": "ZmZmZmZmDkBI4XoUrkcPQHsUrkfhegxAPQrXo3A9/j9cj8L1KFz/P/YoXI/C9fw/MzMzMzMz/z8UrkfhehT+P3E9CtejcP0/AAAAAAAA/D8=",
           "dtype": "f8"
          },
          "coloraxis": "coloraxis",
          "pattern": {
           "shape": ""
          }
         },
         "name": "",
         "orientation": "v",
         "showlegend": false,
         "text": {
          "bdata": "ZmZmZmZmDkBI4XoUrkcPQHsUrkfhegxAPQrXo3A9/j9cj8L1KFz/P/YoXI/C9fw/MzMzMzMz/z8UrkfhehT+P3E9CtejcP0/AAAAAAAA/D8=",
          "dtype": "f8"
         },
         "textposition": "auto",
         "type": "bar",
         "x": [
          "6.0.4",
          "6.0.5",
          "6.0.6",
          "7.0.7",
          "7.0.8",
          "7.0.9",
          "7.2.0",
          "7.2.2",
          "7.2.3",
          "7.2.4"
         ],
         "xaxis": "x",
         "y": {
          "bdata": "ZmZmZmZmDkBI4XoUrkcPQHsUrkfhegxAPQrXo3A9/j9cj8L1KFz/P/YoXI/C9fw/MzMzMzMz/z8UrkfhehT+P3E9CtejcP0/AAAAAAAA/D8=",
          "dtype": "f8"
         },
         "yaxis": "y"
        },
        {
         "mode": "text",
         "showlegend": false,
         "text": [
          "n=699",
          "n=382",
          "n=1161",
          "n=348",
          "n=161",
          "n=323",
          "n=306",
          "n=82",
          "n=119",
          "n=52"
         ],
         "type": "scatter",
         "x": [
          "6.0.4",
          "6.0.5",
          "6.0.6",
          "7.0.7",
          "7.0.8",
          "7.0.9",
          "7.2.0",
          "7.2.2",
          "7.2.3",
          "7.2.4"
         ],
         "y": [
          5.5,
          5.5,
          5.5,
          5.5,
          5.5,
          5.5,
          5.5,
          5.5,
          5.5,
          5.5
         ]
        }
       ],
       "layout": {
        "barmode": "relative",
        "coloraxis": {
         "colorbar": {
          "title": {
           "text": "Rating"
          }
         },
         "colorscale": [
          [
           0,
           "#440154"
          ],
          [
           0.1111111111111111,
           "#482878"
          ],
          [
           0.2222222222222222,
           "#3e4989"
          ],
          [
           0.3333333333333333,
           "#31688e"
          ],
          [
           0.4444444444444444,
           "#26828e"
          ],
          [
           0.5555555555555556,
           "#1f9e89"
          ],
          [
           0.6666666666666666,
           "#35b779"
          ],
          [
           0.7777777777777778,
           "#6ece58"
          ],
          [
           0.8888888888888888,
           "#b5de2b"
          ],
          [
           1,
           "#fde725"
          ]
         ]
        },
        "height": 500,
        "legend": {
         "tracegroupgap": 0
        },
        "template": {
         "data": {
          "bar": [
           {
            "error_x": {
             "color": "#2a3f5f"
            },
            "error_y": {
             "color": "#2a3f5f"
            },
            "marker": {
             "line": {
              "color": "#E5ECF6",
              "width": 0.5
             },
             "pattern": {
              "fillmode": "overlay",
              "size": 10,
              "solidity": 0.2
             }
            },
            "type": "bar"
           }
          ],
          "barpolar": [
           {
            "marker": {
             "line": {
              "color": "#E5ECF6",
              "width": 0.5
             },
             "pattern": {
              "fillmode": "overlay",
              "size": 10,
              "solidity": 0.2
             }
            },
            "type": "barpolar"
           }
          ],
          "carpet": [
           {
            "aaxis": {
             "endlinecolor": "#2a3f5f",
             "gridcolor": "white",
             "linecolor": "white",
             "minorgridcolor": "white",
             "startlinecolor": "#2a3f5f"
            },
            "baxis": {
             "endlinecolor": "#2a3f5f",
             "gridcolor": "white",
             "linecolor": "white",
             "minorgridcolor": "white",
             "startlinecolor": "#2a3f5f"
            },
            "type": "carpet"
           }
          ],
          "choropleth": [
           {
            "colorbar": {
             "outlinewidth": 0,
             "ticks": ""
            },
            "type": "choropleth"
           }
          ],
          "contour": [
           {
            "colorbar": {
             "outlinewidth": 0,
             "ticks": ""
            },
            "colorscale": [
             [
              0,
              "#0d0887"
             ],
             [
              0.1111111111111111,
              "#46039f"
             ],
             [
              0.2222222222222222,
              "#7201a8"
             ],
             [
              0.3333333333333333,
              "#9c179e"
             ],
             [
              0.4444444444444444,
              "#bd3786"
             ],
             [
              0.5555555555555556,
              "#d8576b"
             ],
             [
              0.6666666666666666,
              "#ed7953"
             ],
             [
              0.7777777777777778,
              "#fb9f3a"
             ],
             [
              0.8888888888888888,
              "#fdca26"
             ],
             [
              1,
              "#f0f921"
             ]
            ],
            "type": "contour"
           }
          ],
          "contourcarpet": [
           {
            "colorbar": {
             "outlinewidth": 0,
             "ticks": ""
            },
            "type": "contourcarpet"
           }
          ],
          "heatmap": [
           {
            "colorbar": {
             "outlinewidth": 0,
             "ticks": ""
            },
            "colorscale": [
             [
              0,
              "#0d0887"
             ],
             [
              0.1111111111111111,
              "#46039f"
             ],
             [
              0.2222222222222222,
              "#7201a8"
             ],
             [
              0.3333333333333333,
              "#9c179e"
             ],
             [
              0.4444444444444444,
              "#bd3786"
             ],
             [
              0.5555555555555556,
              "#d8576b"
             ],
             [
              0.6666666666666666,
              "#ed7953"
             ],
             [
              0.7777777777777778,
              "#fb9f3a"
             ],
             [
              0.8888888888888888,
              "#fdca26"
             ],
             [
              1,
              "#f0f921"
             ]
            ],
            "type": "heatmap"
           }
          ],
          "histogram": [
           {
            "marker": {
             "pattern": {
              "fillmode": "overlay",
              "size": 10,
              "solidity": 0.2
             }
            },
            "type": "histogram"
           }
          ],
          "histogram2d": [
           {
            "colorbar": {
             "outlinewidth": 0,
             "ticks": ""
            },
            "colorscale": [
             [
              0,
              "#0d0887"
             ],
             [
              0.1111111111111111,
              "#46039f"
             ],
             [
              0.2222222222222222,
              "#7201a8"
             ],
             [
              0.3333333333333333,
              "#9c179e"
             ],
             [
              0.4444444444444444,
              "#bd3786"
             ],
             [
              0.5555555555555556,
              "#d8576b"
             ],
             [
              0.6666666666666666,
              "#ed7953"
             ],
             [
              0.7777777777777778,
              "#fb9f3a"
             ],
             [
              0.8888888888888888,
              "#fdca26"
             ],
             [
              1,
              "#f0f921"
             ]
            ],
            "type": "histogram2d"
           }
          ],
          "histogram2dcontour": [
           {
            "colorbar": {
             "outlinewidth": 0,
             "ticks": ""
            },
            "colorscale": [
             [
              0,
              "#0d0887"
             ],
             [
              0.1111111111111111,
              "#46039f"
             ],
             [
              0.2222222222222222,
              "#7201a8"
             ],
             [
              0.3333333333333333,
              "#9c179e"
             ],
             [
              0.4444444444444444,
              "#bd3786"
             ],
             [
              0.5555555555555556,
              "#d8576b"
             ],
             [
              0.6666666666666666,
              "#ed7953"
             ],
             [
              0.7777777777777778,
              "#fb9f3a"
             ],
             [
              0.8888888888888888,
              "#fdca26"
             ],
             [
              1,
              "#f0f921"
             ]
            ],
            "type": "histogram2dcontour"
           }
          ],
          "mesh3d": [
           {
            "colorbar": {
             "outlinewidth": 0,
             "ticks": ""
            },
            "type": "mesh3d"
           }
          ],
          "parcoords": [
           {
            "line": {
             "colorbar": {
              "outlinewidth": 0,
              "ticks": ""
             }
            },
            "type": "parcoords"
           }
          ],
          "pie": [
           {
            "automargin": true,
            "type": "pie"
           }
          ],
          "scatter": [
           {
            "fillpattern": {
             "fillmode": "overlay",
             "size": 10,
             "solidity": 0.2
            },
            "type": "scatter"
           }
          ],
          "scatter3d": [
           {
            "line": {
             "colorbar": {
              "outlinewidth": 0,
              "ticks": ""
             }
            },
            "marker": {
             "colorbar": {
              "outlinewidth": 0,
              "ticks": ""
             }
            },
            "type": "scatter3d"
           }
          ],
          "scattercarpet": [
           {
            "marker": {
             "colorbar": {
              "outlinewidth": 0,
              "ticks": ""
             }
            },
            "type": "scattercarpet"
           }
          ],
          "scattergeo": [
           {
            "marker": {
             "colorbar": {
              "outlinewidth": 0,
              "ticks": ""
             }
            },
            "type": "scattergeo"
           }
          ],
          "scattergl": [
           {
            "marker": {
             "colorbar": {
              "outlinewidth": 0,
              "ticks": ""
             }
            },
            "type": "scattergl"
           }
          ],
          "scattermap": [
           {
            "marker": {
             "colorbar": {
              "outlinewidth": 0,
              "ticks": ""
             }
            },
            "type": "scattermap"
           }
          ],
          "scattermapbox": [
           {
            "marker": {
             "colorbar": {
              "outlinewidth": 0,
              "ticks": ""
             }
            },
            "type": "scattermapbox"
           }
          ],
          "scatterpolar": [
           {
            "marker": {
             "colorbar": {
              "outlinewidth": 0,
              "ticks": ""
             }
            },
            "type": "scatterpolar"
           }
          ],
          "scatterpolargl": [
           {
            "marker": {
             "colorbar": {
              "outlinewidth": 0,
              "ticks": ""
             }
            },
            "type": "scatterpolargl"
           }
          ],
          "scatterternary": [
           {
            "marker": {
             "colorbar": {
              "outlinewidth": 0,
              "ticks": ""
             }
            },
            "type": "scatterternary"
           }
          ],
          "surface": [
           {
            "colorbar": {
             "outlinewidth": 0,
             "ticks": ""
            },
            "colorscale": [
             [
              0,
              "#0d0887"
             ],
             [
              0.1111111111111111,
              "#46039f"
             ],
             [
              0.2222222222222222,
              "#7201a8"
             ],
             [
              0.3333333333333333,
              "#9c179e"
             ],
             [
              0.4444444444444444,
              "#bd3786"
             ],
             [
              0.5555555555555556,
              "#d8576b"
             ],
             [
              0.6666666666666666,
              "#ed7953"
             ],
             [
              0.7777777777777778,
              "#fb9f3a"
             ],
             [
              0.8888888888888888,
              "#fdca26"
             ],
             [
              1,
              "#f0f921"
             ]
            ],
            "type": "surface"
           }
          ],
          "table": [
           {
            "cells": {
             "fill": {
              "color": "#EBF0F8"
             },
             "line": {
              "color": "white"
             }
            },
            "header": {
             "fill": {
              "color": "#C8D4E3"
             },
             "line": {
              "color": "white"
             }
            },
            "type": "table"
           }
          ]
         },
         "layout": {
          "annotationdefaults": {
           "arrowcolor": "#2a3f5f",
           "arrowhead": 0,
           "arrowwidth": 1
          },
          "autotypenumbers": "strict",
          "coloraxis": {
           "colorbar": {
            "outlinewidth": 0,
            "ticks": ""
           }
          },
          "colorscale": {
           "diverging": [
            [
             0,
             "#8e0152"
            ],
            [
             0.1,
             "#c51b7d"
            ],
            [
             0.2,
             "#de77ae"
            ],
            [
             0.3,
             "#f1b6da"
            ],
            [
             0.4,
             "#fde0ef"
            ],
            [
             0.5,
             "#f7f7f7"
            ],
            [
             0.6,
             "#e6f5d0"
            ],
            [
             0.7,
             "#b8e186"
            ],
            [
             0.8,
             "#7fbc41"
            ],
            [
             0.9,
             "#4d9221"
            ],
            [
             1,
             "#276419"
            ]
           ],
           "sequential": [
            [
             0,
             "#0d0887"
            ],
            [
             0.1111111111111111,
             "#46039f"
            ],
            [
             0.2222222222222222,
             "#7201a8"
            ],
            [
             0.3333333333333333,
             "#9c179e"
            ],
            [
             0.4444444444444444,
             "#bd3786"
            ],
            [
             0.5555555555555556,
             "#d8576b"
            ],
            [
             0.6666666666666666,
             "#ed7953"
            ],
            [
             0.7777777777777778,
             "#fb9f3a"
            ],
            [
             0.8888888888888888,
             "#fdca26"
            ],
            [
             1,
             "#f0f921"
            ]
           ],
           "sequentialminus": [
            [
             0,
             "#0d0887"
            ],
            [
             0.1111111111111111,
             "#46039f"
            ],
            [
             0.2222222222222222,
             "#7201a8"
            ],
            [
             0.3333333333333333,
             "#9c179e"
            ],
            [
             0.4444444444444444,
             "#bd3786"
            ],
            [
             0.5555555555555556,
             "#d8576b"
            ],
            [
             0.6666666666666666,
             "#ed7953"
            ],
            [
             0.7777777777777778,
             "#fb9f3a"
            ],
            [
             0.8888888888888888,
             "#fdca26"
            ],
            [
             1,
             "#f0f921"
            ]
           ]
          },
          "colorway": [
           "#636efa",
           "#EF553B",
           "#00cc96",
           "#ab63fa",
           "#FFA15A",
           "#19d3f3",
           "#FF6692",
           "#B6E880",
           "#FF97FF",
           "#FECB52"
          ],
          "font": {
           "color": "#2a3f5f"
          },
          "geo": {
           "bgcolor": "white",
           "lakecolor": "white",
           "landcolor": "#E5ECF6",
           "showlakes": true,
           "showland": true,
           "subunitcolor": "white"
          },
          "hoverlabel": {
           "align": "left"
          },
          "hovermode": "closest",
          "mapbox": {
           "style": "light"
          },
          "paper_bgcolor": "white",
          "plot_bgcolor": "#E5ECF6",
          "polar": {
           "angularaxis": {
            "gridcolor": "white",
            "linecolor": "white",
            "ticks": ""
           },
           "bgcolor": "#E5ECF6",
           "radialaxis": {
            "gridcolor": "white",
            "linecolor": "white",
            "ticks": ""
           }
          },
          "scene": {
           "xaxis": {
            "backgroundcolor": "#E5ECF6",
            "gridcolor": "white",
            "gridwidth": 2,
            "linecolor": "white",
            "showbackground": true,
            "ticks": "",
            "zerolinecolor": "white"
           },
           "yaxis": {
            "backgroundcolor": "#E5ECF6",
            "gridcolor": "white",
            "gridwidth": 2,
            "linecolor": "white",
            "showbackground": true,
            "ticks": "",
            "zerolinecolor": "white"
           },
           "zaxis": {
            "backgroundcolor": "#E5ECF6",
            "gridcolor": "white",
            "gridwidth": 2,
            "linecolor": "white",
            "showbackground": true,
            "ticks": "",
            "zerolinecolor": "white"
           }
          },
          "shapedefaults": {
           "line": {
            "color": "#2a3f5f"
           }
          },
          "ternary": {
           "aaxis": {
            "gridcolor": "white",
            "linecolor": "white",
            "ticks": ""
           },
           "baxis": {
            "gridcolor": "white",
            "linecolor": "white",
            "ticks": ""
           },
           "bgcolor": "#E5ECF6",
           "caxis": {
            "gridcolor": "white",
            "linecolor": "white",
            "ticks": ""
           }
          },
          "title": {
           "x": 0.05
          },
          "xaxis": {
           "automargin": true,
           "gridcolor": "white",
           "linecolor": "white",
           "ticks": "",
           "title": {
            "standoff": 15
           },
           "zerolinecolor": "white",
           "zerolinewidth": 2
          },
          "yaxis": {
           "automargin": true,
           "gridcolor": "white",
           "linecolor": "white",
           "ticks": "",
           "title": {
            "standoff": 15
           },
           "zerolinecolor": "white",
           "zerolinewidth": 2
          }
         }
        },
        "title": {
         "text": "Average Rating by Version (Top 10 by Review Count)"
        },
        "xaxis": {
         "anchor": "y",
         "domain": [
          0,
          1
         ],
         "title": {
          "text": "App Version"
         }
        },
        "yaxis": {
         "anchor": "x",
         "domain": [
          0,
          1
         ],
         "range": [
          0,
          6
         ],
         "title": {
          "text": "Average Rating (1-5)"
         }
        }
       }
      }
     },
     "metadata": {},
     "output_type": "display_data"
    }
   ],
   "source": [
    "# Check version column and prepare data for version-based analysis\n",
    "print(\"Examining version distribution in the data:\")\n",
    "\n",
    "# Handle missing values\n",
    "if 'version' not in analyzed_df.columns:\n",
    "    print(\"No version column found in data.\")\n",
    "else:\n",
    "    # Count nulls\n",
    "    null_versions = analyzed_df['version'].isna().sum()\n",
    "    print(f\"Version column has {null_versions} null values ({null_versions/len(analyzed_df)*100:.2f}%)\")\n",
    "    \n",
    "    # Handle potentially empty strings\n",
    "    analyzed_df['version'] = analyzed_df['version'].replace('', pd.NA)\n",
    "    \n",
    "    # Count non-null versions\n",
    "    valid_versions = analyzed_df['version'].notna().sum()\n",
    "    print(f\"Found {valid_versions} reviews with valid version data ({valid_versions/len(analyzed_df)*100:.2f}%)\")\n",
    "    \n",
    "    if valid_versions > 0:\n",
    "        # Get version counts\n",
    "        version_counts = analyzed_df['version'].value_counts().reset_index()\n",
    "        version_counts.columns = ['version', 'count']\n",
    "        \n",
    "        # Display the top versions\n",
    "        print(\"\\nTop 10 app versions by review count:\")\n",
    "        display(version_counts.head(10))\n",
    "        \n",
    "        # Calculate average rating by version\n",
    "        version_ratings = analyzed_df.groupby('version')['rating'].agg(['mean', 'count']).reset_index()\n",
    "        version_ratings = version_ratings.sort_values('count', ascending=False)\n",
    "        version_ratings.columns = ['version', 'avg_rating', 'review_count']\n",
    "        version_ratings['avg_rating'] = version_ratings['avg_rating'].round(2)\n",
    "        \n",
    "        # Display average ratings for top versions\n",
    "        print(\"\\nAverage rating by version (top 10 by review count):\")\n",
    "        display(version_ratings.head(10))\n",
    "        \n",
    "        # Create a better visualization of ratings by version using plotly directly\n",
    "        import plotly.express as px\n",
    "        import plotly.graph_objects as go\n",
    "        \n",
    "        # Get top 5 versions by review count for better readability\n",
    "        top_versions = version_ratings.head(5)['version'].tolist()\n",
    "        filtered_df = analyzed_df[analyzed_df['version'].isin(top_versions)].copy()\n",
    "        \n",
    "        # Sort versions by version string for better visualization (try to respect version order)\n",
    "        # For proper version sorting, we'd need to parse the version strings\n",
    "        sorted_versions = sorted(top_versions)\n",
    "        \n",
    "        # Create a rating histogram for each version\n",
    "        fig = px.histogram(\n",
    "            filtered_df, \n",
    "            x=\"rating\", \n",
    "            color=\"version\",\n",
    "            barmode=\"group\",\n",
    "            histnorm=\"percent\",\n",
    "            nbins=5,\n",
    "            title=\"Rating Distribution by Version (Top 5 Versions)\",\n",
    "            labels={\"rating\": \"Rating\", \"percent\": \"Percentage of Reviews\"},\n",
    "            category_orders={\"rating\": [1, 2, 3, 4, 5], \"version\": sorted_versions},\n",
    "            color_discrete_sequence=px.colors.qualitative.Set1\n",
    "        )\n",
    "        \n",
    "        # Add version average rating as vertical lines\n",
    "        for version in sorted_versions:\n",
    "            avg = version_ratings[version_ratings['version'] == version]['avg_rating'].values[0]\n",
    "            count = version_ratings[version_ratings['version'] == version]['review_count'].values[0]\n",
    "            fig.add_vline(\n",
    "                x=avg,\n",
    "                line_dash=\"dash\",\n",
    "                annotation_text=f\"{version} avg: {avg}\",\n",
    "                annotation_position=\"top right\"\n",
    "            )\n",
    "        \n",
    "        # Improve layout\n",
    "        fig.update_layout(\n",
    "            xaxis_title=\"Rating (1-5 stars)\",\n",
    "            yaxis_title=\"Percentage\",\n",
    "            legend_title=\"App Version\",\n",
    "            xaxis=dict(\n",
    "                tickmode='array',\n",
    "                tickvals=[1, 2, 3, 4, 5]\n",
    "            )\n",
    "        )\n",
    "        \n",
    "        # Display the figure\n",
    "        fig.show()\n",
    "        \n",
    "        # Create bar chart of average ratings by version\n",
    "        # Sort by version for display\n",
    "        sorted_version_ratings = version_ratings.head(10).sort_values('version')\n",
    "        \n",
    "        # Use a different color scale that's available in px.colors.sequential\n",
    "        avg_fig = px.bar(\n",
    "            sorted_version_ratings,\n",
    "            x=\"version\",\n",
    "            y=\"avg_rating\",\n",
    "            color=\"avg_rating\",\n",
    "            text=\"avg_rating\",\n",
    "            title=\"Average Rating by Version (Top 10 by Review Count)\",\n",
    "            labels={\"version\": \"App Version\", \"avg_rating\": \"Average Rating\"},\n",
    "            height=500,\n",
    "            color_continuous_scale=px.colors.sequential.Viridis\n",
    "        )\n",
    "        \n",
    "        # Add review counts as a second trace\n",
    "        avg_fig.add_trace(\n",
    "            go.Scatter(\n",
    "                x=sorted_version_ratings['version'],\n",
    "                y=[5.5] * len(sorted_version_ratings),  # Position above the bars\n",
    "                text=sorted_version_ratings['review_count'].apply(lambda x: f\"n={x}\"),\n",
    "                mode=\"text\",\n",
    "                showlegend=False\n",
    "            )\n",
    "        )\n",
    "        \n",
    "        # Improve layout\n",
    "        avg_fig.update_layout(\n",
    "            yaxis=dict(range=[0, 6]),\n",
    "            coloraxis_colorbar=dict(title=\"Rating\"),\n",
    "            xaxis_title=\"App Version\",\n",
    "            yaxis_title=\"Average Rating (1-5)\"\n",
    "        )\n",
    "        \n",
    "        # Display the figure\n",
    "        avg_fig.show()\n",
    "    else:\n",
    "        print(\"No valid version data available for analysis.\")"
   ]
  },
  {
   "cell_type": "markdown",
   "metadata": {},
   "source": [
    "### Analyze sentiment by version"
   ]
  },
  {
   "cell_type": "code",
   "execution_count": 9,
   "metadata": {},
   "outputs": [
    {
     "name": "stdout",
     "output_type": "stream",
     "text": [
      "No sentiment data found. Generating sentiment from ratings...\n",
      "Sentiment data generated.\n",
      "Found 3788 reviews with both version and sentiment data\n",
      "\n",
      "Sentiment distribution by version (percentage):\n"
     ]
    },
    {
     "data": {
      "text/html": [
       "<div>\n",
       "<style scoped>\n",
       "    .dataframe tbody tr th:only-of-type {\n",
       "        vertical-align: middle;\n",
       "    }\n",
       "\n",
       "    .dataframe tbody tr th {\n",
       "        vertical-align: top;\n",
       "    }\n",
       "\n",
       "    .dataframe thead th {\n",
       "        text-align: right;\n",
       "    }\n",
       "</style>\n",
       "<table border=\"1\" class=\"dataframe\">\n",
       "  <thead>\n",
       "    <tr style=\"text-align: right;\">\n",
       "      <th>sentiment</th>\n",
       "      <th>version</th>\n",
       "      <th>negative</th>\n",
       "      <th>neutral</th>\n",
       "      <th>positive</th>\n",
       "      <th>review_count</th>\n",
       "    </tr>\n",
       "  </thead>\n",
       "  <tbody>\n",
       "    <tr>\n",
       "      <th>43</th>\n",
       "      <td>6.0.6</td>\n",
       "      <td>32.0</td>\n",
       "      <td>5.5</td>\n",
       "      <td>62.5</td>\n",
       "      <td>1161</td>\n",
       "    </tr>\n",
       "    <tr>\n",
       "      <th>41</th>\n",
       "      <td>6.0.4</td>\n",
       "      <td>25.9</td>\n",
       "      <td>5.7</td>\n",
       "      <td>68.4</td>\n",
       "      <td>699</td>\n",
       "    </tr>\n",
       "    <tr>\n",
       "      <th>42</th>\n",
       "      <td>6.0.5</td>\n",
       "      <td>23.3</td>\n",
       "      <td>4.7</td>\n",
       "      <td>72.0</td>\n",
       "      <td>382</td>\n",
       "    </tr>\n",
       "    <tr>\n",
       "      <th>47</th>\n",
       "      <td>7.0.7</td>\n",
       "      <td>76.1</td>\n",
       "      <td>6.6</td>\n",
       "      <td>17.2</td>\n",
       "      <td>348</td>\n",
       "    </tr>\n",
       "    <tr>\n",
       "      <th>49</th>\n",
       "      <td>7.0.9</td>\n",
       "      <td>78.9</td>\n",
       "      <td>3.4</td>\n",
       "      <td>17.6</td>\n",
       "      <td>323</td>\n",
       "    </tr>\n",
       "    <tr>\n",
       "      <th>51</th>\n",
       "      <td>7.2.0</td>\n",
       "      <td>76.1</td>\n",
       "      <td>3.6</td>\n",
       "      <td>20.3</td>\n",
       "      <td>306</td>\n",
       "    </tr>\n",
       "    <tr>\n",
       "      <th>48</th>\n",
       "      <td>7.0.8</td>\n",
       "      <td>75.8</td>\n",
       "      <td>2.5</td>\n",
       "      <td>21.7</td>\n",
       "      <td>161</td>\n",
       "    </tr>\n",
       "    <tr>\n",
       "      <th>54</th>\n",
       "      <td>7.2.3</td>\n",
       "      <td>79.0</td>\n",
       "      <td>3.4</td>\n",
       "      <td>17.6</td>\n",
       "      <td>119</td>\n",
       "    </tr>\n",
       "    <tr>\n",
       "      <th>53</th>\n",
       "      <td>7.2.2</td>\n",
       "      <td>75.6</td>\n",
       "      <td>6.1</td>\n",
       "      <td>18.3</td>\n",
       "      <td>82</td>\n",
       "    </tr>\n",
       "    <tr>\n",
       "      <th>55</th>\n",
       "      <td>7.2.4</td>\n",
       "      <td>82.7</td>\n",
       "      <td>1.9</td>\n",
       "      <td>15.4</td>\n",
       "      <td>52</td>\n",
       "    </tr>\n",
       "  </tbody>\n",
       "</table>\n",
       "</div>"
      ],
      "text/plain": [
       "sentiment version  negative  neutral  positive  review_count\n",
       "43          6.0.6      32.0      5.5      62.5          1161\n",
       "41          6.0.4      25.9      5.7      68.4           699\n",
       "42          6.0.5      23.3      4.7      72.0           382\n",
       "47          7.0.7      76.1      6.6      17.2           348\n",
       "49          7.0.9      78.9      3.4      17.6           323\n",
       "51          7.2.0      76.1      3.6      20.3           306\n",
       "48          7.0.8      75.8      2.5      21.7           161\n",
       "54          7.2.3      79.0      3.4      17.6           119\n",
       "53          7.2.2      75.6      6.1      18.3            82\n",
       "55          7.2.4      82.7      1.9      15.4            52"
      ]
     },
     "metadata": {},
     "output_type": "display_data"
    },
    {
     "data": {
      "application/vnd.plotly.v1+json": {
       "config": {
        "plotlyServerURL": "https://plot.ly"
       },
       "data": [
        {
         "name": "Positive",
         "text": [
          "68.4%",
          "72.0%",
          "62.5%",
          "17.2%",
          "17.6%"
         ],
         "textposition": "auto",
         "type": "bar",
         "x": [
          "6.0.4",
          "6.0.5",
          "6.0.6",
          "7.0.7",
          "7.0.9"
         ],
         "y": {
          "bdata": "mpmZmZkZUUAAAAAAAABSQAAAAAAAQE9AMzMzMzMzMUCamZmZmZkxQA==",
          "dtype": "f8"
         }
        },
        {
         "name": "Neutral",
         "text": [
          "5.7%",
          "4.7%",
          "5.5%",
          "6.6%",
          "3.4%"
         ],
         "textposition": "auto",
         "type": "bar",
         "x": [
          "6.0.4",
          "6.0.5",
          "6.0.6",
          "7.0.7",
          "7.0.9"
         ],
         "y": {
          "bdata": "zczMzMzMFkDNzMzMzMwSQAAAAAAAABZAZmZmZmZmGkAzMzMzMzMLQA==",
          "dtype": "f8"
         }
        },
        {
         "name": "Negative",
         "text": [
          "25.9%",
          "23.3%",
          "32.0%",
          "76.1%",
          "78.9%"
         ],
         "textposition": "auto",
         "type": "bar",
         "x": [
          "6.0.4",
          "6.0.5",
          "6.0.6",
          "7.0.7",
          "7.0.9"
         ],
         "y": {
          "bdata": "ZmZmZmbmOUDNzMzMzEw3QAAAAAAAAEBAZmZmZmYGU0CamZmZmblTQA==",
          "dtype": "f8"
         }
        },
        {
         "mode": "text",
         "showlegend": false,
         "text": [
          "n=699",
          "n=382",
          "n=1161",
          "n=348",
          "n=323"
         ],
         "type": "scatter",
         "x": [
          "6.0.4",
          "6.0.5",
          "6.0.6",
          "7.0.7",
          "7.0.9"
         ],
         "y": [
          100,
          100,
          100,
          100,
          100
         ]
        }
       ],
       "layout": {
        "barmode": "group",
        "legend": {
         "orientation": "h",
         "x": 1,
         "xanchor": "right",
         "y": 1.02,
         "yanchor": "bottom"
        },
        "template": {
         "data": {
          "bar": [
           {
            "error_x": {
             "color": "#2a3f5f"
            },
            "error_y": {
             "color": "#2a3f5f"
            },
            "marker": {
             "line": {
              "color": "#E5ECF6",
              "width": 0.5
             },
             "pattern": {
              "fillmode": "overlay",
              "size": 10,
              "solidity": 0.2
             }
            },
            "type": "bar"
           }
          ],
          "barpolar": [
           {
            "marker": {
             "line": {
              "color": "#E5ECF6",
              "width": 0.5
             },
             "pattern": {
              "fillmode": "overlay",
              "size": 10,
              "solidity": 0.2
             }
            },
            "type": "barpolar"
           }
          ],
          "carpet": [
           {
            "aaxis": {
             "endlinecolor": "#2a3f5f",
             "gridcolor": "white",
             "linecolor": "white",
             "minorgridcolor": "white",
             "startlinecolor": "#2a3f5f"
            },
            "baxis": {
             "endlinecolor": "#2a3f5f",
             "gridcolor": "white",
             "linecolor": "white",
             "minorgridcolor": "white",
             "startlinecolor": "#2a3f5f"
            },
            "type": "carpet"
           }
          ],
          "choropleth": [
           {
            "colorbar": {
             "outlinewidth": 0,
             "ticks": ""
            },
            "type": "choropleth"
           }
          ],
          "contour": [
           {
            "colorbar": {
             "outlinewidth": 0,
             "ticks": ""
            },
            "colorscale": [
             [
              0,
              "#0d0887"
             ],
             [
              0.1111111111111111,
              "#46039f"
             ],
             [
              0.2222222222222222,
              "#7201a8"
             ],
             [
              0.3333333333333333,
              "#9c179e"
             ],
             [
              0.4444444444444444,
              "#bd3786"
             ],
             [
              0.5555555555555556,
              "#d8576b"
             ],
             [
              0.6666666666666666,
              "#ed7953"
             ],
             [
              0.7777777777777778,
              "#fb9f3a"
             ],
             [
              0.8888888888888888,
              "#fdca26"
             ],
             [
              1,
              "#f0f921"
             ]
            ],
            "type": "contour"
           }
          ],
          "contourcarpet": [
           {
            "colorbar": {
             "outlinewidth": 0,
             "ticks": ""
            },
            "type": "contourcarpet"
           }
          ],
          "heatmap": [
           {
            "colorbar": {
             "outlinewidth": 0,
             "ticks": ""
            },
            "colorscale": [
             [
              0,
              "#0d0887"
             ],
             [
              0.1111111111111111,
              "#46039f"
             ],
             [
              0.2222222222222222,
              "#7201a8"
             ],
             [
              0.3333333333333333,
              "#9c179e"
             ],
             [
              0.4444444444444444,
              "#bd3786"
             ],
             [
              0.5555555555555556,
              "#d8576b"
             ],
             [
              0.6666666666666666,
              "#ed7953"
             ],
             [
              0.7777777777777778,
              "#fb9f3a"
             ],
             [
              0.8888888888888888,
              "#fdca26"
             ],
             [
              1,
              "#f0f921"
             ]
            ],
            "type": "heatmap"
           }
          ],
          "histogram": [
           {
            "marker": {
             "pattern": {
              "fillmode": "overlay",
              "size": 10,
              "solidity": 0.2
             }
            },
            "type": "histogram"
           }
          ],
          "histogram2d": [
           {
            "colorbar": {
             "outlinewidth": 0,
             "ticks": ""
            },
            "colorscale": [
             [
              0,
              "#0d0887"
             ],
             [
              0.1111111111111111,
              "#46039f"
             ],
             [
              0.2222222222222222,
              "#7201a8"
             ],
             [
              0.3333333333333333,
              "#9c179e"
             ],
             [
              0.4444444444444444,
              "#bd3786"
             ],
             [
              0.5555555555555556,
              "#d8576b"
             ],
             [
              0.6666666666666666,
              "#ed7953"
             ],
             [
              0.7777777777777778,
              "#fb9f3a"
             ],
             [
              0.8888888888888888,
              "#fdca26"
             ],
             [
              1,
              "#f0f921"
             ]
            ],
            "type": "histogram2d"
           }
          ],
          "histogram2dcontour": [
           {
            "colorbar": {
             "outlinewidth": 0,
             "ticks": ""
            },
            "colorscale": [
             [
              0,
              "#0d0887"
             ],
             [
              0.1111111111111111,
              "#46039f"
             ],
             [
              0.2222222222222222,
              "#7201a8"
             ],
             [
              0.3333333333333333,
              "#9c179e"
             ],
             [
              0.4444444444444444,
              "#bd3786"
             ],
             [
              0.5555555555555556,
              "#d8576b"
             ],
             [
              0.6666666666666666,
              "#ed7953"
             ],
             [
              0.7777777777777778,
              "#fb9f3a"
             ],
             [
              0.8888888888888888,
              "#fdca26"
             ],
             [
              1,
              "#f0f921"
             ]
            ],
            "type": "histogram2dcontour"
           }
          ],
          "mesh3d": [
           {
            "colorbar": {
             "outlinewidth": 0,
             "ticks": ""
            },
            "type": "mesh3d"
           }
          ],
          "parcoords": [
           {
            "line": {
             "colorbar": {
              "outlinewidth": 0,
              "ticks": ""
             }
            },
            "type": "parcoords"
           }
          ],
          "pie": [
           {
            "automargin": true,
            "type": "pie"
           }
          ],
          "scatter": [
           {
            "fillpattern": {
             "fillmode": "overlay",
             "size": 10,
             "solidity": 0.2
            },
            "type": "scatter"
           }
          ],
          "scatter3d": [
           {
            "line": {
             "colorbar": {
              "outlinewidth": 0,
              "ticks": ""
             }
            },
            "marker": {
             "colorbar": {
              "outlinewidth": 0,
              "ticks": ""
             }
            },
            "type": "scatter3d"
           }
          ],
          "scattercarpet": [
           {
            "marker": {
             "colorbar": {
              "outlinewidth": 0,
              "ticks": ""
             }
            },
            "type": "scattercarpet"
           }
          ],
          "scattergeo": [
           {
            "marker": {
             "colorbar": {
              "outlinewidth": 0,
              "ticks": ""
             }
            },
            "type": "scattergeo"
           }
          ],
          "scattergl": [
           {
            "marker": {
             "colorbar": {
              "outlinewidth": 0,
              "ticks": ""
             }
            },
            "type": "scattergl"
           }
          ],
          "scattermap": [
           {
            "marker": {
             "colorbar": {
              "outlinewidth": 0,
              "ticks": ""
             }
            },
            "type": "scattermap"
           }
          ],
          "scattermapbox": [
           {
            "marker": {
             "colorbar": {
              "outlinewidth": 0,
              "ticks": ""
             }
            },
            "type": "scattermapbox"
           }
          ],
          "scatterpolar": [
           {
            "marker": {
             "colorbar": {
              "outlinewidth": 0,
              "ticks": ""
             }
            },
            "type": "scatterpolar"
           }
          ],
          "scatterpolargl": [
           {
            "marker": {
             "colorbar": {
              "outlinewidth": 0,
              "ticks": ""
             }
            },
            "type": "scatterpolargl"
           }
          ],
          "scatterternary": [
           {
            "marker": {
             "colorbar": {
              "outlinewidth": 0,
              "ticks": ""
             }
            },
            "type": "scatterternary"
           }
          ],
          "surface": [
           {
            "colorbar": {
             "outlinewidth": 0,
             "ticks": ""
            },
            "colorscale": [
             [
              0,
              "#0d0887"
             ],
             [
              0.1111111111111111,
              "#46039f"
             ],
             [
              0.2222222222222222,
              "#7201a8"
             ],
             [
              0.3333333333333333,
              "#9c179e"
             ],
             [
              0.4444444444444444,
              "#bd3786"
             ],
             [
              0.5555555555555556,
              "#d8576b"
             ],
             [
              0.6666666666666666,
              "#ed7953"
             ],
             [
              0.7777777777777778,
              "#fb9f3a"
             ],
             [
              0.8888888888888888,
              "#fdca26"
             ],
             [
              1,
              "#f0f921"
             ]
            ],
            "type": "surface"
           }
          ],
          "table": [
           {
            "cells": {
             "fill": {
              "color": "#EBF0F8"
             },
             "line": {
              "color": "white"
             }
            },
            "header": {
             "fill": {
              "color": "#C8D4E3"
             },
             "line": {
              "color": "white"
             }
            },
            "type": "table"
           }
          ]
         },
         "layout": {
          "annotationdefaults": {
           "arrowcolor": "#2a3f5f",
           "arrowhead": 0,
           "arrowwidth": 1
          },
          "autotypenumbers": "strict",
          "coloraxis": {
           "colorbar": {
            "outlinewidth": 0,
            "ticks": ""
           }
          },
          "colorscale": {
           "diverging": [
            [
             0,
             "#8e0152"
            ],
            [
             0.1,
             "#c51b7d"
            ],
            [
             0.2,
             "#de77ae"
            ],
            [
             0.3,
             "#f1b6da"
            ],
            [
             0.4,
             "#fde0ef"
            ],
            [
             0.5,
             "#f7f7f7"
            ],
            [
             0.6,
             "#e6f5d0"
            ],
            [
             0.7,
             "#b8e186"
            ],
            [
             0.8,
             "#7fbc41"
            ],
            [
             0.9,
             "#4d9221"
            ],
            [
             1,
             "#276419"
            ]
           ],
           "sequential": [
            [
             0,
             "#0d0887"
            ],
            [
             0.1111111111111111,
             "#46039f"
            ],
            [
             0.2222222222222222,
             "#7201a8"
            ],
            [
             0.3333333333333333,
             "#9c179e"
            ],
            [
             0.4444444444444444,
             "#bd3786"
            ],
            [
             0.5555555555555556,
             "#d8576b"
            ],
            [
             0.6666666666666666,
             "#ed7953"
            ],
            [
             0.7777777777777778,
             "#fb9f3a"
            ],
            [
             0.8888888888888888,
             "#fdca26"
            ],
            [
             1,
             "#f0f921"
            ]
           ],
           "sequentialminus": [
            [
             0,
             "#0d0887"
            ],
            [
             0.1111111111111111,
             "#46039f"
            ],
            [
             0.2222222222222222,
             "#7201a8"
            ],
            [
             0.3333333333333333,
             "#9c179e"
            ],
            [
             0.4444444444444444,
             "#bd3786"
            ],
            [
             0.5555555555555556,
             "#d8576b"
            ],
            [
             0.6666666666666666,
             "#ed7953"
            ],
            [
             0.7777777777777778,
             "#fb9f3a"
            ],
            [
             0.8888888888888888,
             "#fdca26"
            ],
            [
             1,
             "#f0f921"
            ]
           ]
          },
          "colorway": [
           "#636efa",
           "#EF553B",
           "#00cc96",
           "#ab63fa",
           "#FFA15A",
           "#19d3f3",
           "#FF6692",
           "#B6E880",
           "#FF97FF",
           "#FECB52"
          ],
          "font": {
           "color": "#2a3f5f"
          },
          "geo": {
           "bgcolor": "white",
           "lakecolor": "white",
           "landcolor": "#E5ECF6",
           "showlakes": true,
           "showland": true,
           "subunitcolor": "white"
          },
          "hoverlabel": {
           "align": "left"
          },
          "hovermode": "closest",
          "mapbox": {
           "style": "light"
          },
          "paper_bgcolor": "white",
          "plot_bgcolor": "#E5ECF6",
          "polar": {
           "angularaxis": {
            "gridcolor": "white",
            "linecolor": "white",
            "ticks": ""
           },
           "bgcolor": "#E5ECF6",
           "radialaxis": {
            "gridcolor": "white",
            "linecolor": "white",
            "ticks": ""
           }
          },
          "scene": {
           "xaxis": {
            "backgroundcolor": "#E5ECF6",
            "gridcolor": "white",
            "gridwidth": 2,
            "linecolor": "white",
            "showbackground": true,
            "ticks": "",
            "zerolinecolor": "white"
           },
           "yaxis": {
            "backgroundcolor": "#E5ECF6",
            "gridcolor": "white",
            "gridwidth": 2,
            "linecolor": "white",
            "showbackground": true,
            "ticks": "",
            "zerolinecolor": "white"
           },
           "zaxis": {
            "backgroundcolor": "#E5ECF6",
            "gridcolor": "white",
            "gridwidth": 2,
            "linecolor": "white",
            "showbackground": true,
            "ticks": "",
            "zerolinecolor": "white"
           }
          },
          "shapedefaults": {
           "line": {
            "color": "#2a3f5f"
           }
          },
          "ternary": {
           "aaxis": {
            "gridcolor": "white",
            "linecolor": "white",
            "ticks": ""
           },
           "baxis": {
            "gridcolor": "white",
            "linecolor": "white",
            "ticks": ""
           },
           "bgcolor": "#E5ECF6",
           "caxis": {
            "gridcolor": "white",
            "linecolor": "white",
            "ticks": ""
           }
          },
          "title": {
           "x": 0.05
          },
          "xaxis": {
           "automargin": true,
           "gridcolor": "white",
           "linecolor": "white",
           "ticks": "",
           "title": {
            "standoff": 15
           },
           "zerolinecolor": "white",
           "zerolinewidth": 2
          },
          "yaxis": {
           "automargin": true,
           "gridcolor": "white",
           "linecolor": "white",
           "ticks": "",
           "title": {
            "standoff": 15
           },
           "zerolinecolor": "white",
           "zerolinewidth": 2
          }
         }
        },
        "title": {
         "text": "Sentiment Distribution by Version (Top 5 by Review Count)"
        },
        "xaxis": {
         "title": {
          "text": "App Version"
         }
        },
        "yaxis": {
         "range": [
          0,
          110
         ],
         "title": {
          "text": "Percentage of Reviews"
         }
        }
       }
      }
     },
     "metadata": {},
     "output_type": "display_data"
    },
    {
     "data": {
      "application/vnd.plotly.v1+json": {
       "config": {
        "plotlyServerURL": "https://plot.ly"
       },
       "data": [
        {
         "marker": {
          "color": "red"
         },
         "name": "Negative",
         "opacity": 0.7,
         "type": "bar",
         "x": [
          "6.0.6",
          "6.0.4",
          "6.0.5",
          "7.0.7",
          "7.0.9",
          "7.2.0",
          "7.0.8",
          "7.2.3",
          "7.2.2",
          "7.2.4"
         ],
         "y": {
          "bdata": "AAAAAAAAQEBmZmZmZuY5QM3MzMzMTDdAZmZmZmYGU0CamZmZmblTQGZmZmZmBlNAMzMzMzPzUkAAAAAAAMBTQGZmZmZm5lJAzczMzMysVEA=",
          "dtype": "f8"
         }
        },
        {
         "marker": {
          "color": "blue"
         },
         "name": "Neutral",
         "opacity": 0.7,
         "type": "bar",
         "x": [
          "6.0.6",
          "6.0.4",
          "6.0.5",
          "7.0.7",
          "7.0.9",
          "7.2.0",
          "7.0.8",
          "7.2.3",
          "7.2.2",
          "7.2.4"
         ],
         "y": {
          "bdata": "AAAAAAAAFkDNzMzMzMwWQM3MzMzMzBJAZmZmZmZmGkAzMzMzMzMLQM3MzMzMzAxAAAAAAAAABEAzMzMzMzMLQGZmZmZmZhhAZmZmZmZm/j8=",
          "dtype": "f8"
         }
        },
        {
         "marker": {
          "color": "green"
         },
         "name": "Positive",
         "opacity": 0.7,
         "type": "bar",
         "x": [
          "6.0.6",
          "6.0.4",
          "6.0.5",
          "7.0.7",
          "7.0.9",
          "7.2.0",
          "7.0.8",
          "7.2.3",
          "7.2.2",
          "7.2.4"
         ],
         "y": {
          "bdata": "AAAAAABAT0CamZmZmRlRQAAAAAAAAFJAMzMzMzMzMUCamZmZmZkxQM3MzMzMTDRAMzMzMzOzNUCamZmZmZkxQM3MzMzMTDJAzczMzMzMLkA=",
          "dtype": "f8"
         }
        },
        {
         "line": {
          "color": "black",
          "width": 2
         },
         "mode": "lines+markers",
         "name": "Review Count",
         "type": "scatter",
         "x": [
          "6.0.6",
          "6.0.4",
          "6.0.5",
          "7.0.7",
          "7.0.9",
          "7.2.0",
          "7.0.8",
          "7.2.3",
          "7.2.2",
          "7.2.4"
         ],
         "xaxis": "x",
         "y": {
          "bdata": "iQS7An4BXAFDATIBoQB3AFIANAA=",
          "dtype": "i2"
         },
         "yaxis": "y2"
        }
       ],
       "layout": {
        "barmode": "stack",
        "legend": {
         "orientation": "h",
         "x": 1,
         "xanchor": "right",
         "y": 1.02,
         "yanchor": "bottom"
        },
        "template": {
         "data": {
          "bar": [
           {
            "error_x": {
             "color": "#2a3f5f"
            },
            "error_y": {
             "color": "#2a3f5f"
            },
            "marker": {
             "line": {
              "color": "#E5ECF6",
              "width": 0.5
             },
             "pattern": {
              "fillmode": "overlay",
              "size": 10,
              "solidity": 0.2
             }
            },
            "type": "bar"
           }
          ],
          "barpolar": [
           {
            "marker": {
             "line": {
              "color": "#E5ECF6",
              "width": 0.5
             },
             "pattern": {
              "fillmode": "overlay",
              "size": 10,
              "solidity": 0.2
             }
            },
            "type": "barpolar"
           }
          ],
          "carpet": [
           {
            "aaxis": {
             "endlinecolor": "#2a3f5f",
             "gridcolor": "white",
             "linecolor": "white",
             "minorgridcolor": "white",
             "startlinecolor": "#2a3f5f"
            },
            "baxis": {
             "endlinecolor": "#2a3f5f",
             "gridcolor": "white",
             "linecolor": "white",
             "minorgridcolor": "white",
             "startlinecolor": "#2a3f5f"
            },
            "type": "carpet"
           }
          ],
          "choropleth": [
           {
            "colorbar": {
             "outlinewidth": 0,
             "ticks": ""
            },
            "type": "choropleth"
           }
          ],
          "contour": [
           {
            "colorbar": {
             "outlinewidth": 0,
             "ticks": ""
            },
            "colorscale": [
             [
              0,
              "#0d0887"
             ],
             [
              0.1111111111111111,
              "#46039f"
             ],
             [
              0.2222222222222222,
              "#7201a8"
             ],
             [
              0.3333333333333333,
              "#9c179e"
             ],
             [
              0.4444444444444444,
              "#bd3786"
             ],
             [
              0.5555555555555556,
              "#d8576b"
             ],
             [
              0.6666666666666666,
              "#ed7953"
             ],
             [
              0.7777777777777778,
              "#fb9f3a"
             ],
             [
              0.8888888888888888,
              "#fdca26"
             ],
             [
              1,
              "#f0f921"
             ]
            ],
            "type": "contour"
           }
          ],
          "contourcarpet": [
           {
            "colorbar": {
             "outlinewidth": 0,
             "ticks": ""
            },
            "type": "contourcarpet"
           }
          ],
          "heatmap": [
           {
            "colorbar": {
             "outlinewidth": 0,
             "ticks": ""
            },
            "colorscale": [
             [
              0,
              "#0d0887"
             ],
             [
              0.1111111111111111,
              "#46039f"
             ],
             [
              0.2222222222222222,
              "#7201a8"
             ],
             [
              0.3333333333333333,
              "#9c179e"
             ],
             [
              0.4444444444444444,
              "#bd3786"
             ],
             [
              0.5555555555555556,
              "#d8576b"
             ],
             [
              0.6666666666666666,
              "#ed7953"
             ],
             [
              0.7777777777777778,
              "#fb9f3a"
             ],
             [
              0.8888888888888888,
              "#fdca26"
             ],
             [
              1,
              "#f0f921"
             ]
            ],
            "type": "heatmap"
           }
          ],
          "histogram": [
           {
            "marker": {
             "pattern": {
              "fillmode": "overlay",
              "size": 10,
              "solidity": 0.2
             }
            },
            "type": "histogram"
           }
          ],
          "histogram2d": [
           {
            "colorbar": {
             "outlinewidth": 0,
             "ticks": ""
            },
            "colorscale": [
             [
              0,
              "#0d0887"
             ],
             [
              0.1111111111111111,
              "#46039f"
             ],
             [
              0.2222222222222222,
              "#7201a8"
             ],
             [
              0.3333333333333333,
              "#9c179e"
             ],
             [
              0.4444444444444444,
              "#bd3786"
             ],
             [
              0.5555555555555556,
              "#d8576b"
             ],
             [
              0.6666666666666666,
              "#ed7953"
             ],
             [
              0.7777777777777778,
              "#fb9f3a"
             ],
             [
              0.8888888888888888,
              "#fdca26"
             ],
             [
              1,
              "#f0f921"
             ]
            ],
            "type": "histogram2d"
           }
          ],
          "histogram2dcontour": [
           {
            "colorbar": {
             "outlinewidth": 0,
             "ticks": ""
            },
            "colorscale": [
             [
              0,
              "#0d0887"
             ],
             [
              0.1111111111111111,
              "#46039f"
             ],
             [
              0.2222222222222222,
              "#7201a8"
             ],
             [
              0.3333333333333333,
              "#9c179e"
             ],
             [
              0.4444444444444444,
              "#bd3786"
             ],
             [
              0.5555555555555556,
              "#d8576b"
             ],
             [
              0.6666666666666666,
              "#ed7953"
             ],
             [
              0.7777777777777778,
              "#fb9f3a"
             ],
             [
              0.8888888888888888,
              "#fdca26"
             ],
             [
              1,
              "#f0f921"
             ]
            ],
            "type": "histogram2dcontour"
           }
          ],
          "mesh3d": [
           {
            "colorbar": {
             "outlinewidth": 0,
             "ticks": ""
            },
            "type": "mesh3d"
           }
          ],
          "parcoords": [
           {
            "line": {
             "colorbar": {
              "outlinewidth": 0,
              "ticks": ""
             }
            },
            "type": "parcoords"
           }
          ],
          "pie": [
           {
            "automargin": true,
            "type": "pie"
           }
          ],
          "scatter": [
           {
            "fillpattern": {
             "fillmode": "overlay",
             "size": 10,
             "solidity": 0.2
            },
            "type": "scatter"
           }
          ],
          "scatter3d": [
           {
            "line": {
             "colorbar": {
              "outlinewidth": 0,
              "ticks": ""
             }
            },
            "marker": {
             "colorbar": {
              "outlinewidth": 0,
              "ticks": ""
             }
            },
            "type": "scatter3d"
           }
          ],
          "scattercarpet": [
           {
            "marker": {
             "colorbar": {
              "outlinewidth": 0,
              "ticks": ""
             }
            },
            "type": "scattercarpet"
           }
          ],
          "scattergeo": [
           {
            "marker": {
             "colorbar": {
              "outlinewidth": 0,
              "ticks": ""
             }
            },
            "type": "scattergeo"
           }
          ],
          "scattergl": [
           {
            "marker": {
             "colorbar": {
              "outlinewidth": 0,
              "ticks": ""
             }
            },
            "type": "scattergl"
           }
          ],
          "scattermap": [
           {
            "marker": {
             "colorbar": {
              "outlinewidth": 0,
              "ticks": ""
             }
            },
            "type": "scattermap"
           }
          ],
          "scattermapbox": [
           {
            "marker": {
             "colorbar": {
              "outlinewidth": 0,
              "ticks": ""
             }
            },
            "type": "scattermapbox"
           }
          ],
          "scatterpolar": [
           {
            "marker": {
             "colorbar": {
              "outlinewidth": 0,
              "ticks": ""
             }
            },
            "type": "scatterpolar"
           }
          ],
          "scatterpolargl": [
           {
            "marker": {
             "colorbar": {
              "outlinewidth": 0,
              "ticks": ""
             }
            },
            "type": "scatterpolargl"
           }
          ],
          "scatterternary": [
           {
            "marker": {
             "colorbar": {
              "outlinewidth": 0,
              "ticks": ""
             }
            },
            "type": "scatterternary"
           }
          ],
          "surface": [
           {
            "colorbar": {
             "outlinewidth": 0,
             "ticks": ""
            },
            "colorscale": [
             [
              0,
              "#0d0887"
             ],
             [
              0.1111111111111111,
              "#46039f"
             ],
             [
              0.2222222222222222,
              "#7201a8"
             ],
             [
              0.3333333333333333,
              "#9c179e"
             ],
             [
              0.4444444444444444,
              "#bd3786"
             ],
             [
              0.5555555555555556,
              "#d8576b"
             ],
             [
              0.6666666666666666,
              "#ed7953"
             ],
             [
              0.7777777777777778,
              "#fb9f3a"
             ],
             [
              0.8888888888888888,
              "#fdca26"
             ],
             [
              1,
              "#f0f921"
             ]
            ],
            "type": "surface"
           }
          ],
          "table": [
           {
            "cells": {
             "fill": {
              "color": "#EBF0F8"
             },
             "line": {
              "color": "white"
             }
            },
            "header": {
             "fill": {
              "color": "#C8D4E3"
             },
             "line": {
              "color": "white"
             }
            },
            "type": "table"
           }
          ]
         },
         "layout": {
          "annotationdefaults": {
           "arrowcolor": "#2a3f5f",
           "arrowhead": 0,
           "arrowwidth": 1
          },
          "autotypenumbers": "strict",
          "coloraxis": {
           "colorbar": {
            "outlinewidth": 0,
            "ticks": ""
           }
          },
          "colorscale": {
           "diverging": [
            [
             0,
             "#8e0152"
            ],
            [
             0.1,
             "#c51b7d"
            ],
            [
             0.2,
             "#de77ae"
            ],
            [
             0.3,
             "#f1b6da"
            ],
            [
             0.4,
             "#fde0ef"
            ],
            [
             0.5,
             "#f7f7f7"
            ],
            [
             0.6,
             "#e6f5d0"
            ],
            [
             0.7,
             "#b8e186"
            ],
            [
             0.8,
             "#7fbc41"
            ],
            [
             0.9,
             "#4d9221"
            ],
            [
             1,
             "#276419"
            ]
           ],
           "sequential": [
            [
             0,
             "#0d0887"
            ],
            [
             0.1111111111111111,
             "#46039f"
            ],
            [
             0.2222222222222222,
             "#7201a8"
            ],
            [
             0.3333333333333333,
             "#9c179e"
            ],
            [
             0.4444444444444444,
             "#bd3786"
            ],
            [
             0.5555555555555556,
             "#d8576b"
            ],
            [
             0.6666666666666666,
             "#ed7953"
            ],
            [
             0.7777777777777778,
             "#fb9f3a"
            ],
            [
             0.8888888888888888,
             "#fdca26"
            ],
            [
             1,
             "#f0f921"
            ]
           ],
           "sequentialminus": [
            [
             0,
             "#0d0887"
            ],
            [
             0.1111111111111111,
             "#46039f"
            ],
            [
             0.2222222222222222,
             "#7201a8"
            ],
            [
             0.3333333333333333,
             "#9c179e"
            ],
            [
             0.4444444444444444,
             "#bd3786"
            ],
            [
             0.5555555555555556,
             "#d8576b"
            ],
            [
             0.6666666666666666,
             "#ed7953"
            ],
            [
             0.7777777777777778,
             "#fb9f3a"
            ],
            [
             0.8888888888888888,
             "#fdca26"
            ],
            [
             1,
             "#f0f921"
            ]
           ]
          },
          "colorway": [
           "#636efa",
           "#EF553B",
           "#00cc96",
           "#ab63fa",
           "#FFA15A",
           "#19d3f3",
           "#FF6692",
           "#B6E880",
           "#FF97FF",
           "#FECB52"
          ],
          "font": {
           "color": "#2a3f5f"
          },
          "geo": {
           "bgcolor": "white",
           "lakecolor": "white",
           "landcolor": "#E5ECF6",
           "showlakes": true,
           "showland": true,
           "subunitcolor": "white"
          },
          "hoverlabel": {
           "align": "left"
          },
          "hovermode": "closest",
          "mapbox": {
           "style": "light"
          },
          "paper_bgcolor": "white",
          "plot_bgcolor": "#E5ECF6",
          "polar": {
           "angularaxis": {
            "gridcolor": "white",
            "linecolor": "white",
            "ticks": ""
           },
           "bgcolor": "#E5ECF6",
           "radialaxis": {
            "gridcolor": "white",
            "linecolor": "white",
            "ticks": ""
           }
          },
          "scene": {
           "xaxis": {
            "backgroundcolor": "#E5ECF6",
            "gridcolor": "white",
            "gridwidth": 2,
            "linecolor": "white",
            "showbackground": true,
            "ticks": "",
            "zerolinecolor": "white"
           },
           "yaxis": {
            "backgroundcolor": "#E5ECF6",
            "gridcolor": "white",
            "gridwidth": 2,
            "linecolor": "white",
            "showbackground": true,
            "ticks": "",
            "zerolinecolor": "white"
           },
           "zaxis": {
            "backgroundcolor": "#E5ECF6",
            "gridcolor": "white",
            "gridwidth": 2,
            "linecolor": "white",
            "showbackground": true,
            "ticks": "",
            "zerolinecolor": "white"
           }
          },
          "shapedefaults": {
           "line": {
            "color": "#2a3f5f"
           }
          },
          "ternary": {
           "aaxis": {
            "gridcolor": "white",
            "linecolor": "white",
            "ticks": ""
           },
           "baxis": {
            "gridcolor": "white",
            "linecolor": "white",
            "ticks": ""
           },
           "bgcolor": "#E5ECF6",
           "caxis": {
            "gridcolor": "white",
            "linecolor": "white",
            "ticks": ""
           }
          },
          "title": {
           "x": 0.05
          },
          "xaxis": {
           "automargin": true,
           "gridcolor": "white",
           "linecolor": "white",
           "ticks": "",
           "title": {
            "standoff": 15
           },
           "zerolinecolor": "white",
           "zerolinewidth": 2
          },
          "yaxis": {
           "automargin": true,
           "gridcolor": "white",
           "linecolor": "white",
           "ticks": "",
           "title": {
            "standoff": 15
           },
           "zerolinecolor": "white",
           "zerolinewidth": 2
          }
         }
        },
        "title": {
         "text": "Sentiment Breakdown by Version with Review Counts"
        },
        "xaxis": {
         "anchor": "y",
         "domain": [
          0,
          0.94
         ],
         "title": {
          "text": "App Version"
         }
        },
        "yaxis": {
         "anchor": "x",
         "domain": [
          0,
          1
         ],
         "title": {
          "text": "Percentage"
         }
        },
        "yaxis2": {
         "anchor": "x",
         "overlaying": "y",
         "side": "right",
         "title": {
          "text": "Review Count"
         }
        }
       }
      }
     },
     "metadata": {},
     "output_type": "display_data"
    },
    {
     "name": "stdout",
     "output_type": "stream",
     "text": [
      "\n",
      "Versions with highest positive sentiment percentage:\n"
     ]
    },
    {
     "data": {
      "text/html": [
       "<div>\n",
       "<style scoped>\n",
       "    .dataframe tbody tr th:only-of-type {\n",
       "        vertical-align: middle;\n",
       "    }\n",
       "\n",
       "    .dataframe tbody tr th {\n",
       "        vertical-align: top;\n",
       "    }\n",
       "\n",
       "    .dataframe thead th {\n",
       "        text-align: right;\n",
       "    }\n",
       "</style>\n",
       "<table border=\"1\" class=\"dataframe\">\n",
       "  <thead>\n",
       "    <tr style=\"text-align: right;\">\n",
       "      <th>sentiment</th>\n",
       "      <th>version</th>\n",
       "      <th>positive</th>\n",
       "      <th>neutral</th>\n",
       "      <th>negative</th>\n",
       "      <th>review_count</th>\n",
       "    </tr>\n",
       "  </thead>\n",
       "  <tbody>\n",
       "    <tr>\n",
       "      <th>33</th>\n",
       "      <td>5.2.0</td>\n",
       "      <td>100.0</td>\n",
       "      <td>0.0</td>\n",
       "      <td>0.0</td>\n",
       "      <td>1</td>\n",
       "    </tr>\n",
       "    <tr>\n",
       "      <th>18</th>\n",
       "      <td>5.0.79</td>\n",
       "      <td>100.0</td>\n",
       "      <td>0.0</td>\n",
       "      <td>0.0</td>\n",
       "      <td>1</td>\n",
       "    </tr>\n",
       "    <tr>\n",
       "      <th>28</th>\n",
       "      <td>5.1.2</td>\n",
       "      <td>100.0</td>\n",
       "      <td>0.0</td>\n",
       "      <td>0.0</td>\n",
       "      <td>1</td>\n",
       "    </tr>\n",
       "    <tr>\n",
       "      <th>34</th>\n",
       "      <td>5.2.2</td>\n",
       "      <td>100.0</td>\n",
       "      <td>0.0</td>\n",
       "      <td>0.0</td>\n",
       "      <td>1</td>\n",
       "    </tr>\n",
       "    <tr>\n",
       "      <th>0</th>\n",
       "      <td>3.0.3</td>\n",
       "      <td>100.0</td>\n",
       "      <td>0.0</td>\n",
       "      <td>0.0</td>\n",
       "      <td>1</td>\n",
       "    </tr>\n",
       "  </tbody>\n",
       "</table>\n",
       "</div>"
      ],
      "text/plain": [
       "sentiment version  positive  neutral  negative  review_count\n",
       "33          5.2.0     100.0      0.0       0.0             1\n",
       "18         5.0.79     100.0      0.0       0.0             1\n",
       "28          5.1.2     100.0      0.0       0.0             1\n",
       "34          5.2.2     100.0      0.0       0.0             1\n",
       "0           3.0.3     100.0      0.0       0.0             1"
      ]
     },
     "metadata": {},
     "output_type": "display_data"
    },
    {
     "name": "stdout",
     "output_type": "stream",
     "text": [
      "\n",
      "Versions with highest negative sentiment percentage:\n"
     ]
    },
    {
     "data": {
      "text/html": [
       "<div>\n",
       "<style scoped>\n",
       "    .dataframe tbody tr th:only-of-type {\n",
       "        vertical-align: middle;\n",
       "    }\n",
       "\n",
       "    .dataframe tbody tr th {\n",
       "        vertical-align: top;\n",
       "    }\n",
       "\n",
       "    .dataframe thead th {\n",
       "        text-align: right;\n",
       "    }\n",
       "</style>\n",
       "<table border=\"1\" class=\"dataframe\">\n",
       "  <thead>\n",
       "    <tr style=\"text-align: right;\">\n",
       "      <th>sentiment</th>\n",
       "      <th>version</th>\n",
       "      <th>negative</th>\n",
       "      <th>neutral</th>\n",
       "      <th>positive</th>\n",
       "      <th>review_count</th>\n",
       "    </tr>\n",
       "  </thead>\n",
       "  <tbody>\n",
       "    <tr>\n",
       "      <th>20</th>\n",
       "      <td>5.0.82</td>\n",
       "      <td>100.0</td>\n",
       "      <td>0.0</td>\n",
       "      <td>0.0</td>\n",
       "      <td>4</td>\n",
       "    </tr>\n",
       "    <tr>\n",
       "      <th>2</th>\n",
       "      <td>4.1.1</td>\n",
       "      <td>100.0</td>\n",
       "      <td>0.0</td>\n",
       "      <td>0.0</td>\n",
       "      <td>1</td>\n",
       "    </tr>\n",
       "    <tr>\n",
       "      <th>1</th>\n",
       "      <td>3.0.4</td>\n",
       "      <td>100.0</td>\n",
       "      <td>0.0</td>\n",
       "      <td>0.0</td>\n",
       "      <td>1</td>\n",
       "    </tr>\n",
       "    <tr>\n",
       "      <th>25</th>\n",
       "      <td>5.1.0</td>\n",
       "      <td>100.0</td>\n",
       "      <td>0.0</td>\n",
       "      <td>0.0</td>\n",
       "      <td>2</td>\n",
       "    </tr>\n",
       "    <tr>\n",
       "      <th>9</th>\n",
       "      <td>5.0.60</td>\n",
       "      <td>100.0</td>\n",
       "      <td>0.0</td>\n",
       "      <td>0.0</td>\n",
       "      <td>1</td>\n",
       "    </tr>\n",
       "  </tbody>\n",
       "</table>\n",
       "</div>"
      ],
      "text/plain": [
       "sentiment version  negative  neutral  positive  review_count\n",
       "20         5.0.82     100.0      0.0       0.0             4\n",
       "2           4.1.1     100.0      0.0       0.0             1\n",
       "1           3.0.4     100.0      0.0       0.0             1\n",
       "25          5.1.0     100.0      0.0       0.0             2\n",
       "9          5.0.60     100.0      0.0       0.0             1"
      ]
     },
     "metadata": {},
     "output_type": "display_data"
    }
   ],
   "source": [
    "# Analyze sentiment by version\n",
    "if 'version' in analyzed_df.columns:\n",
    "    # Check if sentiment exists, if not, create it from ratings\n",
    "    if 'sentiment' not in analyzed_df.columns and 'rating' in analyzed_df.columns:\n",
    "        print(\"No sentiment data found. Generating sentiment from ratings...\")\n",
    "        analyzed_df['sentiment'] = analyzed_df['rating'].apply(lambda r: \n",
    "                                                           'positive' if r >= 4 \n",
    "                                                           else ('negative' if r <= 2 \n",
    "                                                                else 'neutral'))\n",
    "        print(\"Sentiment data generated.\")\n",
    "    \n",
    "    # Now proceed with analysis\n",
    "    if 'sentiment' in analyzed_df.columns:\n",
    "        # Get valid versions and sentiments\n",
    "        version_sentiment_df = analyzed_df.dropna(subset=['version', 'sentiment'])\n",
    "        \n",
    "        valid_records = len(version_sentiment_df)\n",
    "        if valid_records > 0:\n",
    "            print(f\"Found {valid_records} reviews with both version and sentiment data\")\n",
    "            \n",
    "            # Calculate sentiment percentages per version\n",
    "            sentiment_by_version = pd.crosstab(\n",
    "                version_sentiment_df['version'], \n",
    "                version_sentiment_df['sentiment'],\n",
    "                normalize='index'\n",
    "            ) * 100\n",
    "            \n",
    "            # Add count column\n",
    "            version_counts = version_sentiment_df['version'].value_counts()\n",
    "            sentiment_by_version['review_count'] = version_counts\n",
    "            \n",
    "            # Sort by review count\n",
    "            sentiment_by_version = sentiment_by_version.reset_index()\n",
    "            sentiment_by_version = sentiment_by_version.sort_values('review_count', ascending=False)\n",
    "            \n",
    "            # Round percentages for display\n",
    "            display_cols = sentiment_by_version.columns.difference(['version', 'review_count'])\n",
    "            sentiment_by_version[display_cols] = sentiment_by_version[display_cols].round(1)\n",
    "            \n",
    "            # Display results for top versions\n",
    "            print(\"\\nSentiment distribution by version (percentage):\")\n",
    "            display(sentiment_by_version.head(10))\n",
    "            \n",
    "            # Create a better visualization of sentiment by version using plotly directly\n",
    "            import plotly.express as px\n",
    "            import plotly.graph_objects as go\n",
    "            from plotly.subplots import make_subplots\n",
    "            \n",
    "            # Get top 5 versions by review count\n",
    "            top_versions = sentiment_by_version.head(5)['version'].tolist()\n",
    "            \n",
    "            # Sort versions for consistent display\n",
    "            sorted_versions = sorted(top_versions)\n",
    "            top_sentiment_data = sentiment_by_version[sentiment_by_version['version'].isin(sorted_versions)].sort_values('version')\n",
    "            \n",
    "            # Prepare data for grouped bar chart\n",
    "            sentiment_types = ['positive', 'neutral', 'negative']\n",
    "            available_sentiments = [s for s in sentiment_types if s in top_sentiment_data.columns]\n",
    "            \n",
    "            # Create figure\n",
    "            fig = go.Figure()\n",
    "            \n",
    "            # Add bars for each sentiment type\n",
    "            for sentiment in available_sentiments:\n",
    "                fig.add_trace(go.Bar(\n",
    "                    x=top_sentiment_data['version'],\n",
    "                    y=top_sentiment_data[sentiment],\n",
    "                    name=sentiment.capitalize(),\n",
    "                    text=top_sentiment_data[sentiment].apply(lambda x: f\"{x:.1f}%\"),\n",
    "                    textposition='auto'\n",
    "                ))\n",
    "            \n",
    "            # Add review counts above the bars\n",
    "            fig.add_trace(go.Scatter(\n",
    "                x=top_sentiment_data['version'],\n",
    "                y=[100] * len(top_sentiment_data),  # Position at the top\n",
    "                text=top_sentiment_data['review_count'].apply(lambda x: f\"n={x}\"),\n",
    "                mode=\"text\",\n",
    "                showlegend=False\n",
    "            ))\n",
    "            \n",
    "            # Update layout\n",
    "            fig.update_layout(\n",
    "                title=\"Sentiment Distribution by Version (Top 5 by Review Count)\",\n",
    "                xaxis_title=\"App Version\",\n",
    "                yaxis_title=\"Percentage of Reviews\",\n",
    "                barmode='group',\n",
    "                yaxis=dict(range=[0, 110]),  # Make room for review counts\n",
    "                legend=dict(\n",
    "                    orientation=\"h\",\n",
    "                    yanchor=\"bottom\",\n",
    "                    y=1.02,\n",
    "                    xanchor=\"right\",\n",
    "                    x=1\n",
    "                )\n",
    "            )\n",
    "            \n",
    "            # Display the figure\n",
    "            fig.show()\n",
    "            \n",
    "            # Create heatmap visualization of sentiment across versions (top 10)\n",
    "            sentiment_heatmap_data = sentiment_by_version.head(10).copy()\n",
    "            \n",
    "            # Keep only sentiment columns for heatmap\n",
    "            heatmap_cols = [col for col in sentiment_heatmap_data.columns if col in sentiment_types]\n",
    "            heatmap_data = sentiment_heatmap_data[['version'] + heatmap_cols].set_index('version')\n",
    "            \n",
    "            # Create figure with secondary y-axis\n",
    "            fig = make_subplots(specs=[[{\"secondary_y\": True}]])\n",
    "            \n",
    "            # Add sentiment heatmap\n",
    "            for sentiment in heatmap_cols:\n",
    "                color = {'positive': 'green', 'neutral': 'blue', 'negative': 'red'}[sentiment]\n",
    "                fig.add_trace(\n",
    "                    go.Bar(\n",
    "                        x=heatmap_data.index, \n",
    "                        y=heatmap_data[sentiment],\n",
    "                        name=sentiment.capitalize(),\n",
    "                        marker_color=color,\n",
    "                        opacity=0.7\n",
    "                    )\n",
    "                )\n",
    "            \n",
    "            # Add review counts as a line\n",
    "            fig.add_trace(\n",
    "                go.Scatter(\n",
    "                    x=heatmap_data.index,\n",
    "                    y=sentiment_heatmap_data['review_count'],\n",
    "                    name='Review Count',\n",
    "                    line=dict(color='black', width=2),\n",
    "                    mode='lines+markers'\n",
    "                ),\n",
    "                secondary_y=True\n",
    "            )\n",
    "            \n",
    "            # Update layout\n",
    "            fig.update_layout(\n",
    "                title=\"Sentiment Breakdown by Version with Review Counts\",\n",
    "                barmode='stack',\n",
    "                xaxis_title=\"App Version\",\n",
    "                legend=dict(\n",
    "                    orientation=\"h\",\n",
    "                    yanchor=\"bottom\",\n",
    "                    y=1.02,\n",
    "                    xanchor=\"right\",\n",
    "                    x=1\n",
    "                )\n",
    "            )\n",
    "            \n",
    "            # Set y-axes titles\n",
    "            fig.update_yaxes(title_text=\"Percentage\", secondary_y=False)\n",
    "            fig.update_yaxes(title_text=\"Review Count\", secondary_y=True)\n",
    "            \n",
    "            # Show the figure\n",
    "            fig.show()\n",
    "            \n",
    "            # Identify versions with significant sentiment shifts\n",
    "            if len(sentiment_by_version) > 1:\n",
    "                print(\"\\nVersions with highest positive sentiment percentage:\")\n",
    "                pos_versions = sentiment_by_version.sort_values('positive', ascending=False)\n",
    "                display(pos_versions.head(5)[['version', 'positive', 'neutral', 'negative', 'review_count']])\n",
    "                \n",
    "                print(\"\\nVersions with highest negative sentiment percentage:\")\n",
    "                neg_versions = sentiment_by_version.sort_values('negative', ascending=False)\n",
    "                display(neg_versions.head(5)[['version', 'negative', 'neutral', 'positive', 'review_count']])\n",
    "        else:\n",
    "            print(\"No reviews with both version and sentiment data found\")\n",
    "    else:\n",
    "        print(\"Cannot perform version sentiment analysis: missing sentiment data\")\n",
    "else:\n",
    "    print(\"Cannot perform version sentiment analysis: missing version data\")"
   ]
  },
  {
   "cell_type": "markdown",
   "metadata": {},
   "source": [
    "### Analyze Topic Distribution by Version"
   ]
  },
  {
   "cell_type": "code",
   "execution_count": 10,
   "metadata": {},
   "outputs": [
    {
     "name": "stdout",
     "output_type": "stream",
     "text": [
      "Found 3685 reviews with both version and topic data\n",
      "\n",
      "Topic distribution by version (percentage):\n"
     ]
    },
    {
     "data": {
      "text/html": [
       "<div>\n",
       "<style scoped>\n",
       "    .dataframe tbody tr th:only-of-type {\n",
       "        vertical-align: middle;\n",
       "    }\n",
       "\n",
       "    .dataframe tbody tr th {\n",
       "        vertical-align: top;\n",
       "    }\n",
       "\n",
       "    .dataframe thead th {\n",
       "        text-align: right;\n",
       "    }\n",
       "</style>\n",
       "<table border=\"1\" class=\"dataframe\">\n",
       "  <thead>\n",
       "    <tr style=\"text-align: right;\">\n",
       "      <th>primary_topic</th>\n",
       "      <th>version</th>\n",
       "      <th>Topic 0: indigo, flight, experience</th>\n",
       "      <th>Topic 1: app, worst, bad</th>\n",
       "      <th>Topic 2: flight, application, number</th>\n",
       "      <th>Topic 3: booking, great, upcoming</th>\n",
       "      <th>Topic 4: app, work, time</th>\n",
       "      <th>Topic 5: seat, delhi, awesome</th>\n",
       "      <th>Topic 6: good, nice, boarding</th>\n",
       "      <th>Topic 7: app, booking, update</th>\n",
       "      <th>Topic 8: service, customer, indigo</th>\n",
       "      <th>Topic 9: version, new, app</th>\n",
       "      <th>review_count</th>\n",
       "    </tr>\n",
       "  </thead>\n",
       "  <tbody>\n",
       "    <tr>\n",
       "      <th>42</th>\n",
       "      <td>6.0.6</td>\n",
       "      <td>16.2</td>\n",
       "      <td>7.5</td>\n",
       "      <td>3.4</td>\n",
       "      <td>4.7</td>\n",
       "      <td>14.8</td>\n",
       "      <td>3.3</td>\n",
       "      <td>32.9</td>\n",
       "      <td>9.1</td>\n",
       "      <td>4.8</td>\n",
       "      <td>3.2</td>\n",
       "      <td>1118</td>\n",
       "    </tr>\n",
       "    <tr>\n",
       "      <th>40</th>\n",
       "      <td>6.0.4</td>\n",
       "      <td>17.3</td>\n",
       "      <td>3.9</td>\n",
       "      <td>3.1</td>\n",
       "      <td>6.7</td>\n",
       "      <td>11.5</td>\n",
       "      <td>2.8</td>\n",
       "      <td>37.9</td>\n",
       "      <td>7.9</td>\n",
       "      <td>7.3</td>\n",
       "      <td>1.6</td>\n",
       "      <td>671</td>\n",
       "    </tr>\n",
       "    <tr>\n",
       "      <th>41</th>\n",
       "      <td>6.0.5</td>\n",
       "      <td>16.1</td>\n",
       "      <td>3.0</td>\n",
       "      <td>3.6</td>\n",
       "      <td>5.5</td>\n",
       "      <td>15.0</td>\n",
       "      <td>2.7</td>\n",
       "      <td>32.0</td>\n",
       "      <td>9.0</td>\n",
       "      <td>10.1</td>\n",
       "      <td>3.0</td>\n",
       "      <td>366</td>\n",
       "    </tr>\n",
       "    <tr>\n",
       "      <th>46</th>\n",
       "      <td>7.0.7</td>\n",
       "      <td>9.3</td>\n",
       "      <td>2.3</td>\n",
       "      <td>2.0</td>\n",
       "      <td>2.9</td>\n",
       "      <td>34.6</td>\n",
       "      <td>1.2</td>\n",
       "      <td>7.8</td>\n",
       "      <td>26.7</td>\n",
       "      <td>4.1</td>\n",
       "      <td>9.0</td>\n",
       "      <td>344</td>\n",
       "    </tr>\n",
       "    <tr>\n",
       "      <th>48</th>\n",
       "      <td>7.0.9</td>\n",
       "      <td>10.6</td>\n",
       "      <td>7.5</td>\n",
       "      <td>4.4</td>\n",
       "      <td>4.7</td>\n",
       "      <td>35.0</td>\n",
       "      <td>0.9</td>\n",
       "      <td>10.9</td>\n",
       "      <td>12.5</td>\n",
       "      <td>8.1</td>\n",
       "      <td>5.3</td>\n",
       "      <td>320</td>\n",
       "    </tr>\n",
       "    <tr>\n",
       "      <th>50</th>\n",
       "      <td>7.2.0</td>\n",
       "      <td>14.8</td>\n",
       "      <td>7.9</td>\n",
       "      <td>7.2</td>\n",
       "      <td>8.2</td>\n",
       "      <td>30.6</td>\n",
       "      <td>3.3</td>\n",
       "      <td>12.2</td>\n",
       "      <td>5.3</td>\n",
       "      <td>8.6</td>\n",
       "      <td>2.0</td>\n",
       "      <td>304</td>\n",
       "    </tr>\n",
       "    <tr>\n",
       "      <th>47</th>\n",
       "      <td>7.0.8</td>\n",
       "      <td>9.3</td>\n",
       "      <td>8.7</td>\n",
       "      <td>5.0</td>\n",
       "      <td>3.1</td>\n",
       "      <td>28.6</td>\n",
       "      <td>1.2</td>\n",
       "      <td>11.8</td>\n",
       "      <td>22.4</td>\n",
       "      <td>5.6</td>\n",
       "      <td>4.3</td>\n",
       "      <td>161</td>\n",
       "    </tr>\n",
       "    <tr>\n",
       "      <th>53</th>\n",
       "      <td>7.2.3</td>\n",
       "      <td>11.8</td>\n",
       "      <td>9.2</td>\n",
       "      <td>8.4</td>\n",
       "      <td>7.6</td>\n",
       "      <td>30.3</td>\n",
       "      <td>2.5</td>\n",
       "      <td>11.8</td>\n",
       "      <td>9.2</td>\n",
       "      <td>6.7</td>\n",
       "      <td>2.5</td>\n",
       "      <td>119</td>\n",
       "    </tr>\n",
       "    <tr>\n",
       "      <th>52</th>\n",
       "      <td>7.2.2</td>\n",
       "      <td>12.2</td>\n",
       "      <td>8.5</td>\n",
       "      <td>6.1</td>\n",
       "      <td>1.2</td>\n",
       "      <td>37.8</td>\n",
       "      <td>0.0</td>\n",
       "      <td>9.8</td>\n",
       "      <td>8.5</td>\n",
       "      <td>3.7</td>\n",
       "      <td>12.2</td>\n",
       "      <td>82</td>\n",
       "    </tr>\n",
       "    <tr>\n",
       "      <th>54</th>\n",
       "      <td>7.2.4</td>\n",
       "      <td>15.4</td>\n",
       "      <td>17.3</td>\n",
       "      <td>13.5</td>\n",
       "      <td>3.8</td>\n",
       "      <td>25.0</td>\n",
       "      <td>3.8</td>\n",
       "      <td>3.8</td>\n",
       "      <td>3.8</td>\n",
       "      <td>9.6</td>\n",
       "      <td>3.8</td>\n",
       "      <td>52</td>\n",
       "    </tr>\n",
       "  </tbody>\n",
       "</table>\n",
       "</div>"
      ],
      "text/plain": [
       "primary_topic version  Topic 0: indigo, flight, experience  \\\n",
       "42              6.0.6                                 16.2   \n",
       "40              6.0.4                                 17.3   \n",
       "41              6.0.5                                 16.1   \n",
       "46              7.0.7                                  9.3   \n",
       "48              7.0.9                                 10.6   \n",
       "50              7.2.0                                 14.8   \n",
       "47              7.0.8                                  9.3   \n",
       "53              7.2.3                                 11.8   \n",
       "52              7.2.2                                 12.2   \n",
       "54              7.2.4                                 15.4   \n",
       "\n",
       "primary_topic  Topic 1: app, worst, bad  Topic 2: flight, application, number  \\\n",
       "42                                  7.5                                   3.4   \n",
       "40                                  3.9                                   3.1   \n",
       "41                                  3.0                                   3.6   \n",
       "46                                  2.3                                   2.0   \n",
       "48                                  7.5                                   4.4   \n",
       "50                                  7.9                                   7.2   \n",
       "47                                  8.7                                   5.0   \n",
       "53                                  9.2                                   8.4   \n",
       "52                                  8.5                                   6.1   \n",
       "54                                 17.3                                  13.5   \n",
       "\n",
       "primary_topic  Topic 3: booking, great, upcoming  Topic 4: app, work, time  \\\n",
       "42                                           4.7                      14.8   \n",
       "40                                           6.7                      11.5   \n",
       "41                                           5.5                      15.0   \n",
       "46                                           2.9                      34.6   \n",
       "48                                           4.7                      35.0   \n",
       "50                                           8.2                      30.6   \n",
       "47                                           3.1                      28.6   \n",
       "53                                           7.6                      30.3   \n",
       "52                                           1.2                      37.8   \n",
       "54                                           3.8                      25.0   \n",
       "\n",
       "primary_topic  Topic 5: seat, delhi, awesome  Topic 6: good, nice, boarding  \\\n",
       "42                                       3.3                           32.9   \n",
       "40                                       2.8                           37.9   \n",
       "41                                       2.7                           32.0   \n",
       "46                                       1.2                            7.8   \n",
       "48                                       0.9                           10.9   \n",
       "50                                       3.3                           12.2   \n",
       "47                                       1.2                           11.8   \n",
       "53                                       2.5                           11.8   \n",
       "52                                       0.0                            9.8   \n",
       "54                                       3.8                            3.8   \n",
       "\n",
       "primary_topic  Topic 7: app, booking, update  \\\n",
       "42                                       9.1   \n",
       "40                                       7.9   \n",
       "41                                       9.0   \n",
       "46                                      26.7   \n",
       "48                                      12.5   \n",
       "50                                       5.3   \n",
       "47                                      22.4   \n",
       "53                                       9.2   \n",
       "52                                       8.5   \n",
       "54                                       3.8   \n",
       "\n",
       "primary_topic  Topic 8: service, customer, indigo  Topic 9: version, new, app  \\\n",
       "42                                            4.8                         3.2   \n",
       "40                                            7.3                         1.6   \n",
       "41                                           10.1                         3.0   \n",
       "46                                            4.1                         9.0   \n",
       "48                                            8.1                         5.3   \n",
       "50                                            8.6                         2.0   \n",
       "47                                            5.6                         4.3   \n",
       "53                                            6.7                         2.5   \n",
       "52                                            3.7                        12.2   \n",
       "54                                            9.6                         3.8   \n",
       "\n",
       "primary_topic  review_count  \n",
       "42                     1118  \n",
       "40                      671  \n",
       "41                      366  \n",
       "46                      344  \n",
       "48                      320  \n",
       "50                      304  \n",
       "47                      161  \n",
       "53                      119  \n",
       "52                       82  \n",
       "54                       52  "
      ]
     },
     "metadata": {},
     "output_type": "display_data"
    },
    {
     "name": "stdout",
     "output_type": "stream",
     "text": [
      "\n",
      "Most distinctive topics by version:\n",
      "\n",
      "Version 6.0.6 (reviews: 1118):\n",
      "  Topic 6: good, nice, boarding: 32.9%\n",
      "  Topic 0: indigo, flight, experience: 16.2%\n",
      "  Topic 4: app, work, time: 14.8%\n",
      "\n",
      "Version 6.0.4 (reviews: 671):\n",
      "  Topic 6: good, nice, boarding: 37.9%\n",
      "  Topic 0: indigo, flight, experience: 17.3%\n",
      "  Topic 4: app, work, time: 11.5%\n",
      "\n",
      "Version 6.0.5 (reviews: 366):\n",
      "  Topic 6: good, nice, boarding: 32.0%\n",
      "  Topic 0: indigo, flight, experience: 16.1%\n",
      "  Topic 4: app, work, time: 15.0%\n",
      "\n",
      "Version 7.0.7 (reviews: 344):\n",
      "  Topic 4: app, work, time: 34.6%\n",
      "  Topic 7: app, booking, update: 26.7%\n",
      "  Topic 0: indigo, flight, experience: 9.3%\n",
      "\n",
      "Version 7.0.9 (reviews: 320):\n",
      "  Topic 4: app, work, time: 35.0%\n",
      "  Topic 7: app, booking, update: 12.5%\n",
      "  Topic 6: good, nice, boarding: 10.9%\n",
      "\n",
      "Version 7.2.0 (reviews: 304):\n",
      "  Topic 4: app, work, time: 30.6%\n",
      "  Topic 0: indigo, flight, experience: 14.8%\n",
      "  Topic 6: good, nice, boarding: 12.2%\n",
      "\n",
      "Version 7.0.8 (reviews: 161):\n",
      "  Topic 4: app, work, time: 28.6%\n",
      "  Topic 7: app, booking, update: 22.4%\n",
      "  Topic 6: good, nice, boarding: 11.8%\n",
      "\n",
      "Version 7.2.3 (reviews: 119):\n",
      "  Topic 4: app, work, time: 30.3%\n",
      "  Topic 0: indigo, flight, experience: 11.8%\n",
      "  Topic 6: good, nice, boarding: 11.8%\n",
      "\n",
      "Version 7.2.2 (reviews: 82):\n",
      "  Topic 4: app, work, time: 37.8%\n",
      "  Topic 0: indigo, flight, experience: 12.2%\n",
      "  Topic 9: version, new, app: 12.2%\n",
      "\n",
      "Version 7.2.4 (reviews: 52):\n",
      "  Topic 4: app, work, time: 25.0%\n",
      "  Topic 1: app, worst, bad: 17.3%\n",
      "  Topic 0: indigo, flight, experience: 15.4%\n"
     ]
    }
   ],
   "source": [
    "# Analyze topic distribution by version\n",
    "if 'version' in analyzed_df.columns and 'primary_topic' in analyzed_df.columns:\n",
    "    # Get valid versions and topics\n",
    "    version_topic_df = analyzed_df.dropna(subset=['version', 'primary_topic'])\n",
    "    \n",
    "    valid_records = len(version_topic_df)\n",
    "    if valid_records > 0:\n",
    "        print(f\"Found {valid_records} reviews with both version and topic data\")\n",
    "        \n",
    "        # Get topic information if available\n",
    "        if \"topics\" in analysis_results:\n",
    "            _, topic_words = analysis_results[\"topics\"]\n",
    "            # Create a mapping of topic IDs to readable names\n",
    "            topic_names = {}\n",
    "            for topic_id, words in topic_words.items():\n",
    "                topic_names[float(topic_id)] = f\"Topic {topic_id}: {', '.join(words[:3])}\"\n",
    "        else:\n",
    "            # Create simple topic names\n",
    "            unique_topics = version_topic_df['primary_topic'].unique()\n",
    "            topic_names = {topic: f\"Topic {int(topic)}\" for topic in unique_topics}\n",
    "        \n",
    "        # Calculate topic percentages per version\n",
    "        topic_by_version = pd.crosstab(\n",
    "            version_topic_df['version'], \n",
    "            version_topic_df['primary_topic'],\n",
    "            normalize='index'\n",
    "        ) * 100\n",
    "        \n",
    "        # Add count column\n",
    "        version_counts = version_topic_df['version'].value_counts()\n",
    "        topic_by_version['review_count'] = version_counts\n",
    "        \n",
    "        # Sort by review count\n",
    "        topic_by_version = topic_by_version.reset_index()\n",
    "        topic_by_version = topic_by_version.sort_values('review_count', ascending=False)\n",
    "        \n",
    "        # Round percentages for display\n",
    "        display_cols = topic_by_version.columns.difference(['version', 'review_count'])\n",
    "        topic_by_version[display_cols] = topic_by_version[display_cols].round(1)\n",
    "        \n",
    "        # Rename topic columns with readable names (limited to top topics)\n",
    "        if len(display_cols) <= 10:  # Only rename if we have a reasonable number of topics\n",
    "            renamed_cols = {}\n",
    "            for col in display_cols:\n",
    "                if col in topic_names:\n",
    "                    renamed_cols[col] = topic_names[col]\n",
    "            \n",
    "            if renamed_cols:\n",
    "                topic_by_version = topic_by_version.rename(columns=renamed_cols)\n",
    "        \n",
    "        # Display results for top versions\n",
    "        print(\"\\nTopic distribution by version (percentage):\")\n",
    "        display(topic_by_version.head(10))\n",
    "        \n",
    "        # Find most distinctive topics for each version\n",
    "        print(\"\\nMost distinctive topics by version:\")\n",
    "        top_versions = topic_by_version.head(10)['version'].tolist()\n",
    "        \n",
    "        for version in top_versions:\n",
    "            version_row = topic_by_version[topic_by_version['version'] == version].iloc[0]\n",
    "            topic_cols = version_row.index.difference(['version', 'review_count'])\n",
    "            \n",
    "            # Convert to numeric type for sorting (fix for the TypeError)\n",
    "            topic_values = pd.Series(version_row[topic_cols].values, index=topic_cols).astype(float)\n",
    "            # Get top 3 topics by value\n",
    "            top_topics = topic_values.nlargest(3)\n",
    "            \n",
    "            print(f\"\\nVersion {version} (reviews: {version_row['review_count']}):\")\n",
    "            for topic_col, percentage in top_topics.items():\n",
    "                # Get original topic ID if column names were renamed\n",
    "                if topic_col in topic_names.values():\n",
    "                    topic_id = next(k for k, v in topic_names.items() if v == topic_col)\n",
    "                else:\n",
    "                    try:\n",
    "                        topic_id = float(topic_col)\n",
    "                    except:\n",
    "                        topic_id = topic_col\n",
    "                \n",
    "                # Get associated words if available\n",
    "                if \"topics\" in analysis_results and str(int(topic_id)) in topic_words:\n",
    "                    words = topic_words[str(int(topic_id))][:5]\n",
    "                    print(f\"  {topic_col}: {percentage:.1f}% (keywords: {', '.join(words)})\")\n",
    "                else:\n",
    "                    print(f\"  {topic_col}: {percentage:.1f}%\")\n",
    "        \n",
    "    else:\n",
    "        print(\"No reviews with both version and topic data found\")\n",
    "else:\n",
    "    missing_cols = []\n",
    "    if 'version' not in analyzed_df.columns:\n",
    "        missing_cols.append('version')\n",
    "    if 'primary_topic' not in analyzed_df.columns:\n",
    "        missing_cols.append('primary_topic')\n",
    "    \n",
    "    print(f\"Cannot perform version topic analysis: missing {', '.join(missing_cols)} data\")"
   ]
  },
  {
   "cell_type": "markdown",
   "metadata": {},
   "source": [
    "### Developer Response Analysis\n",
    "\n",
    "The `repliedAt` column contains valuable information about when developers responded to reviews. This analysis examines response patterns and their impact on ratings."
   ]
  },
  {
   "cell_type": "code",
   "execution_count": 11,
   "metadata": {},
   "outputs": [
    {
     "name": "stdout",
     "output_type": "stream",
     "text": [
      "Developer response rate: 29/4398 (0.66%)\n",
      "\n",
      "Average rating by developer response:\n"
     ]
    },
    {
     "data": {
      "text/html": [
       "<div>\n",
       "<style scoped>\n",
       "    .dataframe tbody tr th:only-of-type {\n",
       "        vertical-align: middle;\n",
       "    }\n",
       "\n",
       "    .dataframe tbody tr th {\n",
       "        vertical-align: top;\n",
       "    }\n",
       "\n",
       "    .dataframe thead th {\n",
       "        text-align: right;\n",
       "    }\n",
       "</style>\n",
       "<table border=\"1\" class=\"dataframe\">\n",
       "  <thead>\n",
       "    <tr style=\"text-align: right;\">\n",
       "      <th></th>\n",
       "      <th>has_response</th>\n",
       "      <th>avg_rating</th>\n",
       "      <th>count</th>\n",
       "    </tr>\n",
       "  </thead>\n",
       "  <tbody>\n",
       "    <tr>\n",
       "      <th>0</th>\n",
       "      <td>Not Responded</td>\n",
       "      <td>2.90</td>\n",
       "      <td>4369</td>\n",
       "    </tr>\n",
       "    <tr>\n",
       "      <th>1</th>\n",
       "      <td>Responded</td>\n",
       "      <td>1.79</td>\n",
       "      <td>29</td>\n",
       "    </tr>\n",
       "  </tbody>\n",
       "</table>\n",
       "</div>"
      ],
      "text/plain": [
       "    has_response  avg_rating  count\n",
       "0  Not Responded        2.90   4369\n",
       "1      Responded        1.79     29"
      ]
     },
     "metadata": {},
     "output_type": "display_data"
    },
    {
     "name": "stdout",
     "output_type": "stream",
     "text": [
      "\n",
      "Response rate by version (top 10):\n"
     ]
    },
    {
     "data": {
      "text/html": [
       "<div>\n",
       "<style scoped>\n",
       "    .dataframe tbody tr th:only-of-type {\n",
       "        vertical-align: middle;\n",
       "    }\n",
       "\n",
       "    .dataframe tbody tr th {\n",
       "        vertical-align: top;\n",
       "    }\n",
       "\n",
       "    .dataframe thead th {\n",
       "        text-align: right;\n",
       "    }\n",
       "</style>\n",
       "<table border=\"1\" class=\"dataframe\">\n",
       "  <thead>\n",
       "    <tr style=\"text-align: right;\">\n",
       "      <th></th>\n",
       "      <th>version</th>\n",
       "      <th>response_rate</th>\n",
       "      <th>responded</th>\n",
       "      <th>total</th>\n",
       "    </tr>\n",
       "  </thead>\n",
       "  <tbody>\n",
       "    <tr>\n",
       "      <th>43</th>\n",
       "      <td>6.0.6</td>\n",
       "      <td>0.3</td>\n",
       "      <td>4</td>\n",
       "      <td>1161</td>\n",
       "    </tr>\n",
       "    <tr>\n",
       "      <th>41</th>\n",
       "      <td>6.0.4</td>\n",
       "      <td>0.0</td>\n",
       "      <td>0</td>\n",
       "      <td>699</td>\n",
       "    </tr>\n",
       "    <tr>\n",
       "      <th>42</th>\n",
       "      <td>6.0.5</td>\n",
       "      <td>0.0</td>\n",
       "      <td>0</td>\n",
       "      <td>382</td>\n",
       "    </tr>\n",
       "    <tr>\n",
       "      <th>47</th>\n",
       "      <td>7.0.7</td>\n",
       "      <td>1.4</td>\n",
       "      <td>5</td>\n",
       "      <td>348</td>\n",
       "    </tr>\n",
       "    <tr>\n",
       "      <th>49</th>\n",
       "      <td>7.0.9</td>\n",
       "      <td>1.9</td>\n",
       "      <td>6</td>\n",
       "      <td>323</td>\n",
       "    </tr>\n",
       "    <tr>\n",
       "      <th>51</th>\n",
       "      <td>7.2.0</td>\n",
       "      <td>1.0</td>\n",
       "      <td>3</td>\n",
       "      <td>306</td>\n",
       "    </tr>\n",
       "    <tr>\n",
       "      <th>48</th>\n",
       "      <td>7.0.8</td>\n",
       "      <td>1.9</td>\n",
       "      <td>3</td>\n",
       "      <td>161</td>\n",
       "    </tr>\n",
       "    <tr>\n",
       "      <th>54</th>\n",
       "      <td>7.2.3</td>\n",
       "      <td>1.7</td>\n",
       "      <td>2</td>\n",
       "      <td>119</td>\n",
       "    </tr>\n",
       "    <tr>\n",
       "      <th>53</th>\n",
       "      <td>7.2.2</td>\n",
       "      <td>1.2</td>\n",
       "      <td>1</td>\n",
       "      <td>82</td>\n",
       "    </tr>\n",
       "    <tr>\n",
       "      <th>55</th>\n",
       "      <td>7.2.4</td>\n",
       "      <td>1.9</td>\n",
       "      <td>1</td>\n",
       "      <td>52</td>\n",
       "    </tr>\n",
       "  </tbody>\n",
       "</table>\n",
       "</div>"
      ],
      "text/plain": [
       "   version  response_rate  responded  total\n",
       "43   6.0.6            0.3          4   1161\n",
       "41   6.0.4            0.0          0    699\n",
       "42   6.0.5            0.0          0    382\n",
       "47   7.0.7            1.4          5    348\n",
       "49   7.0.9            1.9          6    323\n",
       "51   7.2.0            1.0          3    306\n",
       "48   7.0.8            1.9          3    161\n",
       "54   7.2.3            1.7          2    119\n",
       "53   7.2.2            1.2          1     82\n",
       "55   7.2.4            1.9          1     52"
      ]
     },
     "metadata": {},
     "output_type": "display_data"
    },
    {
     "name": "stdout",
     "output_type": "stream",
     "text": [
      "\n",
      "Versions with highest response rates (min 5 reviews):\n"
     ]
    },
    {
     "data": {
      "text/html": [
       "<div>\n",
       "<style scoped>\n",
       "    .dataframe tbody tr th:only-of-type {\n",
       "        vertical-align: middle;\n",
       "    }\n",
       "\n",
       "    .dataframe tbody tr th {\n",
       "        vertical-align: top;\n",
       "    }\n",
       "\n",
       "    .dataframe thead th {\n",
       "        text-align: right;\n",
       "    }\n",
       "</style>\n",
       "<table border=\"1\" class=\"dataframe\">\n",
       "  <thead>\n",
       "    <tr style=\"text-align: right;\">\n",
       "      <th></th>\n",
       "      <th>version</th>\n",
       "      <th>response_rate</th>\n",
       "      <th>responded</th>\n",
       "      <th>total</th>\n",
       "    </tr>\n",
       "  </thead>\n",
       "  <tbody>\n",
       "    <tr>\n",
       "      <th>48</th>\n",
       "      <td>7.0.8</td>\n",
       "      <td>1.9</td>\n",
       "      <td>3</td>\n",
       "      <td>161</td>\n",
       "    </tr>\n",
       "    <tr>\n",
       "      <th>49</th>\n",
       "      <td>7.0.9</td>\n",
       "      <td>1.9</td>\n",
       "      <td>6</td>\n",
       "      <td>323</td>\n",
       "    </tr>\n",
       "    <tr>\n",
       "      <th>55</th>\n",
       "      <td>7.2.4</td>\n",
       "      <td>1.9</td>\n",
       "      <td>1</td>\n",
       "      <td>52</td>\n",
       "    </tr>\n",
       "    <tr>\n",
       "      <th>54</th>\n",
       "      <td>7.2.3</td>\n",
       "      <td>1.7</td>\n",
       "      <td>2</td>\n",
       "      <td>119</td>\n",
       "    </tr>\n",
       "    <tr>\n",
       "      <th>47</th>\n",
       "      <td>7.0.7</td>\n",
       "      <td>1.4</td>\n",
       "      <td>5</td>\n",
       "      <td>348</td>\n",
       "    </tr>\n",
       "  </tbody>\n",
       "</table>\n",
       "</div>"
      ],
      "text/plain": [
       "   version  response_rate  responded  total\n",
       "48   7.0.8            1.9          3    161\n",
       "49   7.0.9            1.9          6    323\n",
       "55   7.2.4            1.9          1     52\n",
       "54   7.2.3            1.7          2    119\n",
       "47   7.0.7            1.4          5    348"
      ]
     },
     "metadata": {},
     "output_type": "display_data"
    },
    {
     "name": "stdout",
     "output_type": "stream",
     "text": [
      "\n",
      "Response rate to negative reviews (1-2 stars): 24/2194 (1.09%)\n",
      "Response rate to positive reviews (4-5 stars): 5/1993 (0.25%)\n",
      "\n",
      "Sample developer replies:\n",
      "\n",
      "Rating: 1\n",
      "Review: It's not user friendly. 1) You can't do web check in at all. 2) If you want to enroll for Bluechip p...\n",
      "Reply: Sir, we'd request you to please share your detailed Feedback at bit.ly/3jc8a5m so we may look into i...\n",
      "\n",
      "Rating: 2\n",
      "Review: Good App and customer friendly. That was a year ago. Downgraded from 5⭐️ to 2⭐️. Because the App doe...\n",
      "Reply: Mr Kumar, thank you for the review! ~Surjya\n",
      "\n",
      "Rating: 4\n",
      "Review: Can some one help whybthe app is logging off automatically and is unstable of late?\n",
      "Reply: Hi, thank you for the rating and review. :)\n",
      "\n",
      "Rating: 5\n",
      "Review: Overall ok. Sometimes when searching destination So slow working this app.\n",
      "Reply: Hi! We would like to state that, defense booking can be made by our website only. ~Syed.\n"
     ]
    }
   ],
   "source": [
    "# Analyze developer responses\n",
    "if 'repliedAt' in analyzed_df.columns:\n",
    "    # Check response rate\n",
    "    has_response = analyzed_df['repliedAt'].notna()\n",
    "    response_count = has_response.sum()\n",
    "    response_rate = response_count / len(analyzed_df) * 100\n",
    "    \n",
    "    print(f\"Developer response rate: {response_count}/{len(analyzed_df)} ({response_rate:.2f}%)\")\n",
    "    \n",
    "    # Create binary response column for analysis\n",
    "    analyzed_df['has_response'] = has_response\n",
    "    \n",
    "    # Compare ratings for responded vs non-responded reviews\n",
    "    if 'rating' in analyzed_df.columns:\n",
    "        rating_by_response = analyzed_df.groupby('has_response')['rating'].agg(['mean', 'count']).reset_index()\n",
    "        rating_by_response.columns = ['has_response', 'avg_rating', 'count']\n",
    "        rating_by_response['avg_rating'] = rating_by_response['avg_rating'].round(2)\n",
    "        rating_by_response['has_response'] = rating_by_response['has_response'].map({True: 'Responded', False: 'Not Responded'})\n",
    "        \n",
    "        print(\"\\nAverage rating by developer response:\")\n",
    "        display(rating_by_response)\n",
    "    \n",
    "    # Analyze responses by version\n",
    "    if 'version' in analyzed_df.columns:\n",
    "        # Calculate response rate by version\n",
    "        response_by_version = analyzed_df.groupby('version')['has_response'].agg(['mean', 'sum', 'count']).reset_index()\n",
    "        response_by_version.columns = ['version', 'response_rate', 'responded', 'total']\n",
    "        response_by_version['response_rate'] = (response_by_version['response_rate'] * 100).round(1)\n",
    "        \n",
    "        # Sort by total count\n",
    "        response_by_version = response_by_version.sort_values('total', ascending=False)\n",
    "        \n",
    "        print(\"\\nResponse rate by version (top 10):\")\n",
    "        display(response_by_version.head(10))\n",
    "        \n",
    "        # Find versions with highest response rates (with minimum sample size)\n",
    "        min_reviews = 5  # Minimum number of reviews to consider\n",
    "        high_response = response_by_version[response_by_version['total'] >= min_reviews].sort_values('response_rate', ascending=False)\n",
    "        \n",
    "        print(f\"\\nVersions with highest response rates (min {min_reviews} reviews):\")\n",
    "        display(high_response.head(5))\n",
    "        \n",
    "    # Check for responses to negative reviews\n",
    "    if 'rating' in analyzed_df.columns:\n",
    "        # Define negative ratings (1-2 stars)\n",
    "        negative_reviews = analyzed_df[analyzed_df['rating'] <= 2]\n",
    "        negative_count = len(negative_reviews)\n",
    "        \n",
    "        if negative_count > 0:\n",
    "            negative_response_count = negative_reviews['has_response'].sum()\n",
    "            negative_response_rate = negative_response_count / negative_count * 100\n",
    "            \n",
    "            print(f\"\\nResponse rate to negative reviews (1-2 stars): {negative_response_count}/{negative_count} ({negative_response_rate:.2f}%)\")\n",
    "            \n",
    "            # Compare to positive reviews\n",
    "            positive_reviews = analyzed_df[analyzed_df['rating'] >= 4]\n",
    "            positive_count = len(positive_reviews)\n",
    "            \n",
    "            if positive_count > 0:\n",
    "                positive_response_count = positive_reviews['has_response'].sum()\n",
    "                positive_response_rate = positive_response_count / positive_count * 100\n",
    "                \n",
    "                print(f\"Response rate to positive reviews (4-5 stars): {positive_response_count}/{positive_count} ({positive_response_rate:.2f}%)\")\n",
    "        \n",
    "    # Examine replyContent if available\n",
    "    if 'replyContent' in analyzed_df.columns:\n",
    "        reply_sample_count = min(5, analyzed_df['replyContent'].notna().sum())\n",
    "        \n",
    "        if reply_sample_count > 0:\n",
    "            print(\"\\nSample developer replies:\")\n",
    "            \n",
    "            # Get a balanced sample of responses across ratings\n",
    "            reply_samples = []\n",
    "            \n",
    "            for rating in sorted(analyzed_df['rating'].unique()):\n",
    "                rating_replies = analyzed_df[(analyzed_df['rating'] == rating) & analyzed_df['replyContent'].notna()]\n",
    "                if len(rating_replies) > 0:\n",
    "                    # Take one sample from each rating\n",
    "                    reply_samples.append(rating_replies.sample(1))\n",
    "            \n",
    "            # Combine samples\n",
    "            if reply_samples:\n",
    "                reply_sample_df = pd.concat(reply_samples)\n",
    "                # Show rating, review text, and reply\n",
    "                for _, row in reply_sample_df.iterrows():\n",
    "                    print(f\"\\nRating: {row.get('rating', 'N/A')}\")\n",
    "                    print(f\"Review: {row.get('text', 'N/A')[:100]}...\" if len(row.get('text', '')) > 100 else f\"Review: {row.get('text', 'N/A')}\")\n",
    "                    print(f\"Reply: {row.get('replyContent', 'N/A')[:100]}...\" if len(row.get('replyContent', '')) > 100 else f\"Reply: {row.get('replyContent', 'N/A')}\")\n",
    "else:\n",
    "    print(\"No developer response data (repliedAt column) found in the dataset.\")"
   ]
  },
  {
   "cell_type": "markdown",
   "metadata": {},
   "source": [
    "#### Developer Response Plot"
   ]
  },
  {
   "cell_type": "code",
   "execution_count": 25,
   "metadata": {},
   "outputs": [
    {
     "data": {
      "application/vnd.plotly.v1+json": {
       "config": {
        "plotlyServerURL": "https://plot.ly"
       },
       "data": [
        {
         "hovertemplate": "App Version=%{x}<br>Response Rate (%)=%{marker.color}<br>text=%{text}<extra></extra>",
         "legendgroup": "",
         "marker": {
          "color": {
           "bdata": "AAAAAAAAAAAAAAAAAAAAANlaRPrJDNY/69Bvtg799j8m6K5STND9Pz+Q7jGruP0/X19fX19f7z+D8zE4H4PzP5sI5JoI5Po/T+zETuzE/j8=",
           "dtype": "f8"
          },
          "coloraxis": "coloraxis",
          "pattern": {
           "shape": ""
          }
         },
         "name": "",
         "orientation": "v",
         "showlegend": false,
         "text": [
          "0.0%",
          "0.0%",
          "0.3%",
          "1.4%",
          "1.9%",
          "1.9%",
          "1.0%",
          "1.2%",
          "1.7%",
          "1.9%"
         ],
         "textposition": "auto",
         "type": "bar",
         "x": [
          "6.0.4",
          "6.0.5",
          "6.0.6",
          "7.0.7",
          "7.0.8",
          "7.0.9",
          "7.2.0",
          "7.2.2",
          "7.2.3",
          "7.2.4"
         ],
         "xaxis": "x",
         "y": {
          "bdata": "AAAAAAAAAAAAAAAAAAAAANlaRPrJDNY/69Bvtg799j8m6K5STND9Pz+Q7jGruP0/X19fX19f7z+D8zE4H4PzP5sI5JoI5Po/T+zETuzE/j8=",
          "dtype": "f8"
         },
         "yaxis": "y"
        },
        {
         "mode": "text",
         "showlegend": false,
         "text": [
          "n=699",
          "n=382",
          "n=1161",
          "n=348",
          "n=161",
          "n=323",
          "n=306",
          "n=82",
          "n=119",
          "n=52"
         ],
         "type": "scatter",
         "x": [
          "6.0.4",
          "6.0.5",
          "6.0.6",
          "7.0.7",
          "7.0.8",
          "7.0.9",
          "7.2.0",
          "7.2.2",
          "7.2.3",
          "7.2.4"
         ],
         "y": [
          -5,
          -5,
          -5,
          -5,
          -5,
          -5,
          -5,
          -5,
          -5,
          -5
         ]
        }
       ],
       "layout": {
        "barmode": "relative",
        "coloraxis": {
         "colorbar": {
          "title": {
           "text": "Response Rate (%)"
          }
         },
         "colorscale": [
          [
           0,
           "rgb(247,251,255)"
          ],
          [
           0.125,
           "rgb(222,235,247)"
          ],
          [
           0.25,
           "rgb(198,219,239)"
          ],
          [
           0.375,
           "rgb(158,202,225)"
          ],
          [
           0.5,
           "rgb(107,174,214)"
          ],
          [
           0.625,
           "rgb(66,146,198)"
          ],
          [
           0.75,
           "rgb(33,113,181)"
          ],
          [
           0.875,
           "rgb(8,81,156)"
          ],
          [
           1,
           "rgb(8,48,107)"
          ]
         ]
        },
        "height": 500,
        "legend": {
         "tracegroupgap": 0
        },
        "template": {
         "data": {
          "bar": [
           {
            "error_x": {
             "color": "#2a3f5f"
            },
            "error_y": {
             "color": "#2a3f5f"
            },
            "marker": {
             "line": {
              "color": "#E5ECF6",
              "width": 0.5
             },
             "pattern": {
              "fillmode": "overlay",
              "size": 10,
              "solidity": 0.2
             }
            },
            "type": "bar"
           }
          ],
          "barpolar": [
           {
            "marker": {
             "line": {
              "color": "#E5ECF6",
              "width": 0.5
             },
             "pattern": {
              "fillmode": "overlay",
              "size": 10,
              "solidity": 0.2
             }
            },
            "type": "barpolar"
           }
          ],
          "carpet": [
           {
            "aaxis": {
             "endlinecolor": "#2a3f5f",
             "gridcolor": "white",
             "linecolor": "white",
             "minorgridcolor": "white",
             "startlinecolor": "#2a3f5f"
            },
            "baxis": {
             "endlinecolor": "#2a3f5f",
             "gridcolor": "white",
             "linecolor": "white",
             "minorgridcolor": "white",
             "startlinecolor": "#2a3f5f"
            },
            "type": "carpet"
           }
          ],
          "choropleth": [
           {
            "colorbar": {
             "outlinewidth": 0,
             "ticks": ""
            },
            "type": "choropleth"
           }
          ],
          "contour": [
           {
            "colorbar": {
             "outlinewidth": 0,
             "ticks": ""
            },
            "colorscale": [
             [
              0,
              "#0d0887"
             ],
             [
              0.1111111111111111,
              "#46039f"
             ],
             [
              0.2222222222222222,
              "#7201a8"
             ],
             [
              0.3333333333333333,
              "#9c179e"
             ],
             [
              0.4444444444444444,
              "#bd3786"
             ],
             [
              0.5555555555555556,
              "#d8576b"
             ],
             [
              0.6666666666666666,
              "#ed7953"
             ],
             [
              0.7777777777777778,
              "#fb9f3a"
             ],
             [
              0.8888888888888888,
              "#fdca26"
             ],
             [
              1,
              "#f0f921"
             ]
            ],
            "type": "contour"
           }
          ],
          "contourcarpet": [
           {
            "colorbar": {
             "outlinewidth": 0,
             "ticks": ""
            },
            "type": "contourcarpet"
           }
          ],
          "heatmap": [
           {
            "colorbar": {
             "outlinewidth": 0,
             "ticks": ""
            },
            "colorscale": [
             [
              0,
              "#0d0887"
             ],
             [
              0.1111111111111111,
              "#46039f"
             ],
             [
              0.2222222222222222,
              "#7201a8"
             ],
             [
              0.3333333333333333,
              "#9c179e"
             ],
             [
              0.4444444444444444,
              "#bd3786"
             ],
             [
              0.5555555555555556,
              "#d8576b"
             ],
             [
              0.6666666666666666,
              "#ed7953"
             ],
             [
              0.7777777777777778,
              "#fb9f3a"
             ],
             [
              0.8888888888888888,
              "#fdca26"
             ],
             [
              1,
              "#f0f921"
             ]
            ],
            "type": "heatmap"
           }
          ],
          "histogram": [
           {
            "marker": {
             "pattern": {
              "fillmode": "overlay",
              "size": 10,
              "solidity": 0.2
             }
            },
            "type": "histogram"
           }
          ],
          "histogram2d": [
           {
            "colorbar": {
             "outlinewidth": 0,
             "ticks": ""
            },
            "colorscale": [
             [
              0,
              "#0d0887"
             ],
             [
              0.1111111111111111,
              "#46039f"
             ],
             [
              0.2222222222222222,
              "#7201a8"
             ],
             [
              0.3333333333333333,
              "#9c179e"
             ],
             [
              0.4444444444444444,
              "#bd3786"
             ],
             [
              0.5555555555555556,
              "#d8576b"
             ],
             [
              0.6666666666666666,
              "#ed7953"
             ],
             [
              0.7777777777777778,
              "#fb9f3a"
             ],
             [
              0.8888888888888888,
              "#fdca26"
             ],
             [
              1,
              "#f0f921"
             ]
            ],
            "type": "histogram2d"
           }
          ],
          "histogram2dcontour": [
           {
            "colorbar": {
             "outlinewidth": 0,
             "ticks": ""
            },
            "colorscale": [
             [
              0,
              "#0d0887"
             ],
             [
              0.1111111111111111,
              "#46039f"
             ],
             [
              0.2222222222222222,
              "#7201a8"
             ],
             [
              0.3333333333333333,
              "#9c179e"
             ],
             [
              0.4444444444444444,
              "#bd3786"
             ],
             [
              0.5555555555555556,
              "#d8576b"
             ],
             [
              0.6666666666666666,
              "#ed7953"
             ],
             [
              0.7777777777777778,
              "#fb9f3a"
             ],
             [
              0.8888888888888888,
              "#fdca26"
             ],
             [
              1,
              "#f0f921"
             ]
            ],
            "type": "histogram2dcontour"
           }
          ],
          "mesh3d": [
           {
            "colorbar": {
             "outlinewidth": 0,
             "ticks": ""
            },
            "type": "mesh3d"
           }
          ],
          "parcoords": [
           {
            "line": {
             "colorbar": {
              "outlinewidth": 0,
              "ticks": ""
             }
            },
            "type": "parcoords"
           }
          ],
          "pie": [
           {
            "automargin": true,
            "type": "pie"
           }
          ],
          "scatter": [
           {
            "fillpattern": {
             "fillmode": "overlay",
             "size": 10,
             "solidity": 0.2
            },
            "type": "scatter"
           }
          ],
          "scatter3d": [
           {
            "line": {
             "colorbar": {
              "outlinewidth": 0,
              "ticks": ""
             }
            },
            "marker": {
             "colorbar": {
              "outlinewidth": 0,
              "ticks": ""
             }
            },
            "type": "scatter3d"
           }
          ],
          "scattercarpet": [
           {
            "marker": {
             "colorbar": {
              "outlinewidth": 0,
              "ticks": ""
             }
            },
            "type": "scattercarpet"
           }
          ],
          "scattergeo": [
           {
            "marker": {
             "colorbar": {
              "outlinewidth": 0,
              "ticks": ""
             }
            },
            "type": "scattergeo"
           }
          ],
          "scattergl": [
           {
            "marker": {
             "colorbar": {
              "outlinewidth": 0,
              "ticks": ""
             }
            },
            "type": "scattergl"
           }
          ],
          "scattermap": [
           {
            "marker": {
             "colorbar": {
              "outlinewidth": 0,
              "ticks": ""
             }
            },
            "type": "scattermap"
           }
          ],
          "scattermapbox": [
           {
            "marker": {
             "colorbar": {
              "outlinewidth": 0,
              "ticks": ""
             }
            },
            "type": "scattermapbox"
           }
          ],
          "scatterpolar": [
           {
            "marker": {
             "colorbar": {
              "outlinewidth": 0,
              "ticks": ""
             }
            },
            "type": "scatterpolar"
           }
          ],
          "scatterpolargl": [
           {
            "marker": {
             "colorbar": {
              "outlinewidth": 0,
              "ticks": ""
             }
            },
            "type": "scatterpolargl"
           }
          ],
          "scatterternary": [
           {
            "marker": {
             "colorbar": {
              "outlinewidth": 0,
              "ticks": ""
             }
            },
            "type": "scatterternary"
           }
          ],
          "surface": [
           {
            "colorbar": {
             "outlinewidth": 0,
             "ticks": ""
            },
            "colorscale": [
             [
              0,
              "#0d0887"
             ],
             [
              0.1111111111111111,
              "#46039f"
             ],
             [
              0.2222222222222222,
              "#7201a8"
             ],
             [
              0.3333333333333333,
              "#9c179e"
             ],
             [
              0.4444444444444444,
              "#bd3786"
             ],
             [
              0.5555555555555556,
              "#d8576b"
             ],
             [
              0.6666666666666666,
              "#ed7953"
             ],
             [
              0.7777777777777778,
              "#fb9f3a"
             ],
             [
              0.8888888888888888,
              "#fdca26"
             ],
             [
              1,
              "#f0f921"
             ]
            ],
            "type": "surface"
           }
          ],
          "table": [
           {
            "cells": {
             "fill": {
              "color": "#EBF0F8"
             },
             "line": {
              "color": "white"
             }
            },
            "header": {
             "fill": {
              "color": "#C8D4E3"
             },
             "line": {
              "color": "white"
             }
            },
            "type": "table"
           }
          ]
         },
         "layout": {
          "annotationdefaults": {
           "arrowcolor": "#2a3f5f",
           "arrowhead": 0,
           "arrowwidth": 1
          },
          "autotypenumbers": "strict",
          "coloraxis": {
           "colorbar": {
            "outlinewidth": 0,
            "ticks": ""
           }
          },
          "colorscale": {
           "diverging": [
            [
             0,
             "#8e0152"
            ],
            [
             0.1,
             "#c51b7d"
            ],
            [
             0.2,
             "#de77ae"
            ],
            [
             0.3,
             "#f1b6da"
            ],
            [
             0.4,
             "#fde0ef"
            ],
            [
             0.5,
             "#f7f7f7"
            ],
            [
             0.6,
             "#e6f5d0"
            ],
            [
             0.7,
             "#b8e186"
            ],
            [
             0.8,
             "#7fbc41"
            ],
            [
             0.9,
             "#4d9221"
            ],
            [
             1,
             "#276419"
            ]
           ],
           "sequential": [
            [
             0,
             "#0d0887"
            ],
            [
             0.1111111111111111,
             "#46039f"
            ],
            [
             0.2222222222222222,
             "#7201a8"
            ],
            [
             0.3333333333333333,
             "#9c179e"
            ],
            [
             0.4444444444444444,
             "#bd3786"
            ],
            [
             0.5555555555555556,
             "#d8576b"
            ],
            [
             0.6666666666666666,
             "#ed7953"
            ],
            [
             0.7777777777777778,
             "#fb9f3a"
            ],
            [
             0.8888888888888888,
             "#fdca26"
            ],
            [
             1,
             "#f0f921"
            ]
           ],
           "sequentialminus": [
            [
             0,
             "#0d0887"
            ],
            [
             0.1111111111111111,
             "#46039f"
            ],
            [
             0.2222222222222222,
             "#7201a8"
            ],
            [
             0.3333333333333333,
             "#9c179e"
            ],
            [
             0.4444444444444444,
             "#bd3786"
            ],
            [
             0.5555555555555556,
             "#d8576b"
            ],
            [
             0.6666666666666666,
             "#ed7953"
            ],
            [
             0.7777777777777778,
             "#fb9f3a"
            ],
            [
             0.8888888888888888,
             "#fdca26"
            ],
            [
             1,
             "#f0f921"
            ]
           ]
          },
          "colorway": [
           "#636efa",
           "#EF553B",
           "#00cc96",
           "#ab63fa",
           "#FFA15A",
           "#19d3f3",
           "#FF6692",
           "#B6E880",
           "#FF97FF",
           "#FECB52"
          ],
          "font": {
           "color": "#2a3f5f"
          },
          "geo": {
           "bgcolor": "white",
           "lakecolor": "white",
           "landcolor": "#E5ECF6",
           "showlakes": true,
           "showland": true,
           "subunitcolor": "white"
          },
          "hoverlabel": {
           "align": "left"
          },
          "hovermode": "closest",
          "mapbox": {
           "style": "light"
          },
          "paper_bgcolor": "white",
          "plot_bgcolor": "#E5ECF6",
          "polar": {
           "angularaxis": {
            "gridcolor": "white",
            "linecolor": "white",
            "ticks": ""
           },
           "bgcolor": "#E5ECF6",
           "radialaxis": {
            "gridcolor": "white",
            "linecolor": "white",
            "ticks": ""
           }
          },
          "scene": {
           "xaxis": {
            "backgroundcolor": "#E5ECF6",
            "gridcolor": "white",
            "gridwidth": 2,
            "linecolor": "white",
            "showbackground": true,
            "ticks": "",
            "zerolinecolor": "white"
           },
           "yaxis": {
            "backgroundcolor": "#E5ECF6",
            "gridcolor": "white",
            "gridwidth": 2,
            "linecolor": "white",
            "showbackground": true,
            "ticks": "",
            "zerolinecolor": "white"
           },
           "zaxis": {
            "backgroundcolor": "#E5ECF6",
            "gridcolor": "white",
            "gridwidth": 2,
            "linecolor": "white",
            "showbackground": true,
            "ticks": "",
            "zerolinecolor": "white"
           }
          },
          "shapedefaults": {
           "line": {
            "color": "#2a3f5f"
           }
          },
          "ternary": {
           "aaxis": {
            "gridcolor": "white",
            "linecolor": "white",
            "ticks": ""
           },
           "baxis": {
            "gridcolor": "white",
            "linecolor": "white",
            "ticks": ""
           },
           "bgcolor": "#E5ECF6",
           "caxis": {
            "gridcolor": "white",
            "linecolor": "white",
            "ticks": ""
           }
          },
          "title": {
           "x": 0.05
          },
          "xaxis": {
           "automargin": true,
           "gridcolor": "white",
           "linecolor": "white",
           "ticks": "",
           "title": {
            "standoff": 15
           },
           "zerolinecolor": "white",
           "zerolinewidth": 2
          },
          "yaxis": {
           "automargin": true,
           "gridcolor": "white",
           "linecolor": "white",
           "ticks": "",
           "title": {
            "standoff": 15
           },
           "zerolinecolor": "white",
           "zerolinewidth": 2
          }
         }
        },
        "title": {
         "text": "Developer Response Rate by Version"
        },
        "xaxis": {
         "anchor": "y",
         "domain": [
          0,
          1
         ],
         "title": {
          "text": "App Version"
         }
        },
        "yaxis": {
         "anchor": "x",
         "domain": [
          0,
          1
         ],
         "range": [
          -10,
          2.1153846153846154
         ],
         "title": {
          "text": "Response Rate (%)"
         }
        }
       }
      }
     },
     "metadata": {},
     "output_type": "display_data"
    },
    {
     "data": {
      "application/vnd.plotly.v1+json": {
       "config": {
        "plotlyServerURL": "https://plot.ly"
       },
       "data": [
        {
         "hovertemplate": "Rating=%{marker.color}<br>Response Rate (%)=%{y}<br>text=%{text}<extra></extra>",
         "legendgroup": "",
         "marker": {
          "color": {
           "bdata": "AQIDBAU=",
           "dtype": "i1"
          },
          "coloraxis": "coloraxis",
          "pattern": {
           "shape": ""
          }
         },
         "name": "",
         "orientation": "v",
         "showlegend": false,
         "text": [
          "1.0%",
          "1.7%",
          "0.0%",
          "0.3%",
          "0.2%"
         ],
         "textposition": "auto",
         "type": "bar",
         "x": {
          "bdata": "AQIDBAU=",
          "dtype": "i1"
         },
         "xaxis": "x",
         "y": {
          "bdata": "HW3ep7hk8D+hVJh4P3L6PwAAAAAAAAAAcaV7A8rE1T+z06HapyLOPw==",
          "dtype": "f8"
         },
         "yaxis": "y"
        },
        {
         "mode": "text",
         "showlegend": false,
         "text": [
          "n=1952",
          "n=242",
          "n=211",
          "n=294",
          "n=1699"
         ],
         "type": "scatter",
         "x": {
          "bdata": "AQIDBAU=",
          "dtype": "i1"
         },
         "y": [
          -5,
          -5,
          -5,
          -5,
          -5
         ]
        }
       ],
       "layout": {
        "barmode": "relative",
        "coloraxis": {
         "colorbar": {
          "title": {
           "text": "Rating"
          }
         },
         "colorscale": [
          [
           0,
           "rgb(247,251,255)"
          ],
          [
           0.125,
           "rgb(222,235,247)"
          ],
          [
           0.25,
           "rgb(198,219,239)"
          ],
          [
           0.375,
           "rgb(158,202,225)"
          ],
          [
           0.5,
           "rgb(107,174,214)"
          ],
          [
           0.625,
           "rgb(66,146,198)"
          ],
          [
           0.75,
           "rgb(33,113,181)"
          ],
          [
           0.875,
           "rgb(8,81,156)"
          ],
          [
           1,
           "rgb(8,48,107)"
          ]
         ]
        },
        "height": 500,
        "legend": {
         "tracegroupgap": 0
        },
        "template": {
         "data": {
          "bar": [
           {
            "error_x": {
             "color": "#2a3f5f"
            },
            "error_y": {
             "color": "#2a3f5f"
            },
            "marker": {
             "line": {
              "color": "#E5ECF6",
              "width": 0.5
             },
             "pattern": {
              "fillmode": "overlay",
              "size": 10,
              "solidity": 0.2
             }
            },
            "type": "bar"
           }
          ],
          "barpolar": [
           {
            "marker": {
             "line": {
              "color": "#E5ECF6",
              "width": 0.5
             },
             "pattern": {
              "fillmode": "overlay",
              "size": 10,
              "solidity": 0.2
             }
            },
            "type": "barpolar"
           }
          ],
          "carpet": [
           {
            "aaxis": {
             "endlinecolor": "#2a3f5f",
             "gridcolor": "white",
             "linecolor": "white",
             "minorgridcolor": "white",
             "startlinecolor": "#2a3f5f"
            },
            "baxis": {
             "endlinecolor": "#2a3f5f",
             "gridcolor": "white",
             "linecolor": "white",
             "minorgridcolor": "white",
             "startlinecolor": "#2a3f5f"
            },
            "type": "carpet"
           }
          ],
          "choropleth": [
           {
            "colorbar": {
             "outlinewidth": 0,
             "ticks": ""
            },
            "type": "choropleth"
           }
          ],
          "contour": [
           {
            "colorbar": {
             "outlinewidth": 0,
             "ticks": ""
            },
            "colorscale": [
             [
              0,
              "#0d0887"
             ],
             [
              0.1111111111111111,
              "#46039f"
             ],
             [
              0.2222222222222222,
              "#7201a8"
             ],
             [
              0.3333333333333333,
              "#9c179e"
             ],
             [
              0.4444444444444444,
              "#bd3786"
             ],
             [
              0.5555555555555556,
              "#d8576b"
             ],
             [
              0.6666666666666666,
              "#ed7953"
             ],
             [
              0.7777777777777778,
              "#fb9f3a"
             ],
             [
              0.8888888888888888,
              "#fdca26"
             ],
             [
              1,
              "#f0f921"
             ]
            ],
            "type": "contour"
           }
          ],
          "contourcarpet": [
           {
            "colorbar": {
             "outlinewidth": 0,
             "ticks": ""
            },
            "type": "contourcarpet"
           }
          ],
          "heatmap": [
           {
            "colorbar": {
             "outlinewidth": 0,
             "ticks": ""
            },
            "colorscale": [
             [
              0,
              "#0d0887"
             ],
             [
              0.1111111111111111,
              "#46039f"
             ],
             [
              0.2222222222222222,
              "#7201a8"
             ],
             [
              0.3333333333333333,
              "#9c179e"
             ],
             [
              0.4444444444444444,
              "#bd3786"
             ],
             [
              0.5555555555555556,
              "#d8576b"
             ],
             [
              0.6666666666666666,
              "#ed7953"
             ],
             [
              0.7777777777777778,
              "#fb9f3a"
             ],
             [
              0.8888888888888888,
              "#fdca26"
             ],
             [
              1,
              "#f0f921"
             ]
            ],
            "type": "heatmap"
           }
          ],
          "histogram": [
           {
            "marker": {
             "pattern": {
              "fillmode": "overlay",
              "size": 10,
              "solidity": 0.2
             }
            },
            "type": "histogram"
           }
          ],
          "histogram2d": [
           {
            "colorbar": {
             "outlinewidth": 0,
             "ticks": ""
            },
            "colorscale": [
             [
              0,
              "#0d0887"
             ],
             [
              0.1111111111111111,
              "#46039f"
             ],
             [
              0.2222222222222222,
              "#7201a8"
             ],
             [
              0.3333333333333333,
              "#9c179e"
             ],
             [
              0.4444444444444444,
              "#bd3786"
             ],
             [
              0.5555555555555556,
              "#d8576b"
             ],
             [
              0.6666666666666666,
              "#ed7953"
             ],
             [
              0.7777777777777778,
              "#fb9f3a"
             ],
             [
              0.8888888888888888,
              "#fdca26"
             ],
             [
              1,
              "#f0f921"
             ]
            ],
            "type": "histogram2d"
           }
          ],
          "histogram2dcontour": [
           {
            "colorbar": {
             "outlinewidth": 0,
             "ticks": ""
            },
            "colorscale": [
             [
              0,
              "#0d0887"
             ],
             [
              0.1111111111111111,
              "#46039f"
             ],
             [
              0.2222222222222222,
              "#7201a8"
             ],
             [
              0.3333333333333333,
              "#9c179e"
             ],
             [
              0.4444444444444444,
              "#bd3786"
             ],
             [
              0.5555555555555556,
              "#d8576b"
             ],
             [
              0.6666666666666666,
              "#ed7953"
             ],
             [
              0.7777777777777778,
              "#fb9f3a"
             ],
             [
              0.8888888888888888,
              "#fdca26"
             ],
             [
              1,
              "#f0f921"
             ]
            ],
            "type": "histogram2dcontour"
           }
          ],
          "mesh3d": [
           {
            "colorbar": {
             "outlinewidth": 0,
             "ticks": ""
            },
            "type": "mesh3d"
           }
          ],
          "parcoords": [
           {
            "line": {
             "colorbar": {
              "outlinewidth": 0,
              "ticks": ""
             }
            },
            "type": "parcoords"
           }
          ],
          "pie": [
           {
            "automargin": true,
            "type": "pie"
           }
          ],
          "scatter": [
           {
            "fillpattern": {
             "fillmode": "overlay",
             "size": 10,
             "solidity": 0.2
            },
            "type": "scatter"
           }
          ],
          "scatter3d": [
           {
            "line": {
             "colorbar": {
              "outlinewidth": 0,
              "ticks": ""
             }
            },
            "marker": {
             "colorbar": {
              "outlinewidth": 0,
              "ticks": ""
             }
            },
            "type": "scatter3d"
           }
          ],
          "scattercarpet": [
           {
            "marker": {
             "colorbar": {
              "outlinewidth": 0,
              "ticks": ""
             }
            },
            "type": "scattercarpet"
           }
          ],
          "scattergeo": [
           {
            "marker": {
             "colorbar": {
              "outlinewidth": 0,
              "ticks": ""
             }
            },
            "type": "scattergeo"
           }
          ],
          "scattergl": [
           {
            "marker": {
             "colorbar": {
              "outlinewidth": 0,
              "ticks": ""
             }
            },
            "type": "scattergl"
           }
          ],
          "scattermap": [
           {
            "marker": {
             "colorbar": {
              "outlinewidth": 0,
              "ticks": ""
             }
            },
            "type": "scattermap"
           }
          ],
          "scattermapbox": [
           {
            "marker": {
             "colorbar": {
              "outlinewidth": 0,
              "ticks": ""
             }
            },
            "type": "scattermapbox"
           }
          ],
          "scatterpolar": [
           {
            "marker": {
             "colorbar": {
              "outlinewidth": 0,
              "ticks": ""
             }
            },
            "type": "scatterpolar"
           }
          ],
          "scatterpolargl": [
           {
            "marker": {
             "colorbar": {
              "outlinewidth": 0,
              "ticks": ""
             }
            },
            "type": "scatterpolargl"
           }
          ],
          "scatterternary": [
           {
            "marker": {
             "colorbar": {
              "outlinewidth": 0,
              "ticks": ""
             }
            },
            "type": "scatterternary"
           }
          ],
          "surface": [
           {
            "colorbar": {
             "outlinewidth": 0,
             "ticks": ""
            },
            "colorscale": [
             [
              0,
              "#0d0887"
             ],
             [
              0.1111111111111111,
              "#46039f"
             ],
             [
              0.2222222222222222,
              "#7201a8"
             ],
             [
              0.3333333333333333,
              "#9c179e"
             ],
             [
              0.4444444444444444,
              "#bd3786"
             ],
             [
              0.5555555555555556,
              "#d8576b"
             ],
             [
              0.6666666666666666,
              "#ed7953"
             ],
             [
              0.7777777777777778,
              "#fb9f3a"
             ],
             [
              0.8888888888888888,
              "#fdca26"
             ],
             [
              1,
              "#f0f921"
             ]
            ],
            "type": "surface"
           }
          ],
          "table": [
           {
            "cells": {
             "fill": {
              "color": "#EBF0F8"
             },
             "line": {
              "color": "white"
             }
            },
            "header": {
             "fill": {
              "color": "#C8D4E3"
             },
             "line": {
              "color": "white"
             }
            },
            "type": "table"
           }
          ]
         },
         "layout": {
          "annotationdefaults": {
           "arrowcolor": "#2a3f5f",
           "arrowhead": 0,
           "arrowwidth": 1
          },
          "autotypenumbers": "strict",
          "coloraxis": {
           "colorbar": {
            "outlinewidth": 0,
            "ticks": ""
           }
          },
          "colorscale": {
           "diverging": [
            [
             0,
             "#8e0152"
            ],
            [
             0.1,
             "#c51b7d"
            ],
            [
             0.2,
             "#de77ae"
            ],
            [
             0.3,
             "#f1b6da"
            ],
            [
             0.4,
             "#fde0ef"
            ],
            [
             0.5,
             "#f7f7f7"
            ],
            [
             0.6,
             "#e6f5d0"
            ],
            [
             0.7,
             "#b8e186"
            ],
            [
             0.8,
             "#7fbc41"
            ],
            [
             0.9,
             "#4d9221"
            ],
            [
             1,
             "#276419"
            ]
           ],
           "sequential": [
            [
             0,
             "#0d0887"
            ],
            [
             0.1111111111111111,
             "#46039f"
            ],
            [
             0.2222222222222222,
             "#7201a8"
            ],
            [
             0.3333333333333333,
             "#9c179e"
            ],
            [
             0.4444444444444444,
             "#bd3786"
            ],
            [
             0.5555555555555556,
             "#d8576b"
            ],
            [
             0.6666666666666666,
             "#ed7953"
            ],
            [
             0.7777777777777778,
             "#fb9f3a"
            ],
            [
             0.8888888888888888,
             "#fdca26"
            ],
            [
             1,
             "#f0f921"
            ]
           ],
           "sequentialminus": [
            [
             0,
             "#0d0887"
            ],
            [
             0.1111111111111111,
             "#46039f"
            ],
            [
             0.2222222222222222,
             "#7201a8"
            ],
            [
             0.3333333333333333,
             "#9c179e"
            ],
            [
             0.4444444444444444,
             "#bd3786"
            ],
            [
             0.5555555555555556,
             "#d8576b"
            ],
            [
             0.6666666666666666,
             "#ed7953"
            ],
            [
             0.7777777777777778,
             "#fb9f3a"
            ],
            [
             0.8888888888888888,
             "#fdca26"
            ],
            [
             1,
             "#f0f921"
            ]
           ]
          },
          "colorway": [
           "#636efa",
           "#EF553B",
           "#00cc96",
           "#ab63fa",
           "#FFA15A",
           "#19d3f3",
           "#FF6692",
           "#B6E880",
           "#FF97FF",
           "#FECB52"
          ],
          "font": {
           "color": "#2a3f5f"
          },
          "geo": {
           "bgcolor": "white",
           "lakecolor": "white",
           "landcolor": "#E5ECF6",
           "showlakes": true,
           "showland": true,
           "subunitcolor": "white"
          },
          "hoverlabel": {
           "align": "left"
          },
          "hovermode": "closest",
          "mapbox": {
           "style": "light"
          },
          "paper_bgcolor": "white",
          "plot_bgcolor": "#E5ECF6",
          "polar": {
           "angularaxis": {
            "gridcolor": "white",
            "linecolor": "white",
            "ticks": ""
           },
           "bgcolor": "#E5ECF6",
           "radialaxis": {
            "gridcolor": "white",
            "linecolor": "white",
            "ticks": ""
           }
          },
          "scene": {
           "xaxis": {
            "backgroundcolor": "#E5ECF6",
            "gridcolor": "white",
            "gridwidth": 2,
            "linecolor": "white",
            "showbackground": true,
            "ticks": "",
            "zerolinecolor": "white"
           },
           "yaxis": {
            "backgroundcolor": "#E5ECF6",
            "gridcolor": "white",
            "gridwidth": 2,
            "linecolor": "white",
            "showbackground": true,
            "ticks": "",
            "zerolinecolor": "white"
           },
           "zaxis": {
            "backgroundcolor": "#E5ECF6",
            "gridcolor": "white",
            "gridwidth": 2,
            "linecolor": "white",
            "showbackground": true,
            "ticks": "",
            "zerolinecolor": "white"
           }
          },
          "shapedefaults": {
           "line": {
            "color": "#2a3f5f"
           }
          },
          "ternary": {
           "aaxis": {
            "gridcolor": "white",
            "linecolor": "white",
            "ticks": ""
           },
           "baxis": {
            "gridcolor": "white",
            "linecolor": "white",
            "ticks": ""
           },
           "bgcolor": "#E5ECF6",
           "caxis": {
            "gridcolor": "white",
            "linecolor": "white",
            "ticks": ""
           }
          },
          "title": {
           "x": 0.05
          },
          "xaxis": {
           "automargin": true,
           "gridcolor": "white",
           "linecolor": "white",
           "ticks": "",
           "title": {
            "standoff": 15
           },
           "zerolinecolor": "white",
           "zerolinewidth": 2
          },
          "yaxis": {
           "automargin": true,
           "gridcolor": "white",
           "linecolor": "white",
           "ticks": "",
           "title": {
            "standoff": 15
           },
           "zerolinecolor": "white",
           "zerolinewidth": 2
          }
         }
        },
        "title": {
         "text": "Developer Response Rate by Rating"
        },
        "xaxis": {
         "anchor": "y",
         "categoryarray": [
          1,
          2,
          3,
          4,
          5
         ],
         "categoryorder": "array",
         "domain": [
          0,
          1
         ],
         "tickmode": "array",
         "tickvals": [
          1,
          2,
          3,
          4,
          5
         ],
         "title": {
          "text": "Rating"
         }
        },
        "yaxis": {
         "anchor": "x",
         "domain": [
          0,
          1
         ],
         "range": [
          -10,
          1.8181818181818183
         ],
         "title": {
          "text": "Response Rate (%)"
         }
        }
       }
      }
     },
     "metadata": {},
     "output_type": "display_data"
    }
   ],
   "source": [
    "#### Developer Response Plot\n",
    "if 'repliedAt' in analyzed_df.columns and 'has_response' in analyzed_df.columns:\n",
    "    # Calculate response rate by version\n",
    "    response_by_version = analyzed_df.groupby('version')['has_response'].agg(['mean', 'sum', 'count']).reset_index()\n",
    "    response_by_version.columns = ['version', 'response_rate', 'responded', 'total']\n",
    "    response_by_version['response_rate'] = response_by_version['response_rate'] * 100\n",
    "\n",
    "    # Filter to versions with enough reviews and get top ones\n",
    "    min_reviews = 10\n",
    "    valid_response = response_by_version[response_by_version['total'] >= min_reviews]\n",
    "    valid_response = valid_response.sort_values('total', ascending=False).head(10)\n",
    "\n",
    "    if len(valid_response) > 0:\n",
    "        # Sort by version for consistent display\n",
    "        sorted_response = valid_response.sort_values('version')\n",
    "        \n",
    "        # Create response rate bar chart\n",
    "        fig = px.bar(\n",
    "            sorted_response,\n",
    "            x=\"version\",\n",
    "            y=\"response_rate\",\n",
    "            color=\"response_rate\",\n",
    "            text=sorted_response['response_rate'].apply(lambda x: f\"{x:.1f}%\"),\n",
    "            title=\"Developer Response Rate by Version\",\n",
    "            labels={\"version\": \"App Version\", \"response_rate\": \"Response Rate (%)\"},\n",
    "            height=500,\n",
    "            color_continuous_scale=px.colors.sequential.Blues\n",
    "        )\n",
    "        \n",
    "        # Add review counts\n",
    "        fig.add_trace(\n",
    "            go.Scatter(\n",
    "                x=sorted_response['version'],\n",
    "                y=[-5] * len(sorted_response),  # Position below the bars\n",
    "                text=sorted_response['total'].apply(lambda x: f\"n={int(x)}\"),\n",
    "                mode=\"text\",\n",
    "                showlegend=False\n",
    "            )\n",
    "        )\n",
    "        \n",
    "        # Update layout\n",
    "        fig.update_layout(\n",
    "            xaxis_title=\"App Version\",\n",
    "            yaxis_title=\"Response Rate (%)\",\n",
    "            yaxis=dict(range=[-10, max(sorted_response['response_rate']) * 1.1])\n",
    "        )\n",
    "        \n",
    "        # Display the figure in the notebook\n",
    "        fig.show()  # This displays the plot directly in the notebook\n",
    "        \n",
    "        # Compare response rates for positive vs negative reviews\n",
    "        if 'rating' in analyzed_df.columns:\n",
    "            # Calculate response rates by rating\n",
    "            response_by_rating = analyzed_df.groupby('rating')['has_response'].agg(['mean', 'sum', 'count']).reset_index()\n",
    "            response_by_rating.columns = ['rating', 'response_rate', 'responded', 'total']\n",
    "            response_by_rating['response_rate'] = response_by_rating['response_rate'] * 100\n",
    "            \n",
    "            # Create comparison chart\n",
    "            fig2 = px.bar(  # Use a different variable name for the second figure\n",
    "                response_by_rating,\n",
    "                x=\"rating\",\n",
    "                y=\"response_rate\",\n",
    "                color=\"rating\",\n",
    "                text=response_by_rating['response_rate'].apply(lambda x: f\"{x:.1f}%\"),\n",
    "                title=\"Developer Response Rate by Rating\",\n",
    "                labels={\"rating\": \"Rating\", \"response_rate\": \"Response Rate (%)\"},\n",
    "                height=500,\n",
    "                color_continuous_scale=px.colors.sequential.Blues,\n",
    "                category_orders={\"rating\": [1, 2, 3, 4, 5]}\n",
    "            )\n",
    "            \n",
    "            # Add review counts\n",
    "            fig2.add_trace(\n",
    "                go.Scatter(\n",
    "                    x=response_by_rating['rating'],\n",
    "                    y=[-5] * len(response_by_rating),  # Position below the bars\n",
    "                    text=response_by_rating['total'].apply(lambda x: f\"n={int(x)}\"),\n",
    "                    mode=\"text\",\n",
    "                    showlegend=False\n",
    "                )\n",
    "            )\n",
    "            \n",
    "            # Update layout\n",
    "            fig2.update_layout(\n",
    "                xaxis_title=\"Rating\",\n",
    "                yaxis_title=\"Response Rate (%)\",\n",
    "                yaxis=dict(range=[-10, max(response_by_rating['response_rate']) * 1.1]),\n",
    "                xaxis=dict(\n",
    "                    tickmode='array',\n",
    "                    tickvals=[1, 2, 3, 4, 5]\n",
    "                )\n",
    "            )\n",
    "            \n",
    "            # Display the second figure in the notebook\n",
    "            fig2.show()  # This displays the second plot directly in the notebook"
   ]
  },
  {
   "cell_type": "markdown",
   "metadata": {},
   "source": [
    "### Version Evolution Analysis\n",
    "\n",
    "By analyzing how ratings and sentiment have changed across major version updates, we can understand the app's improvement trajectory and identify which releases had the most positive or negative impact."
   ]
  },
  {
   "cell_type": "code",
   "execution_count": 13,
   "metadata": {},
   "outputs": [
    {
     "name": "stdout",
     "output_type": "stream",
     "text": [
      "Reviews by major version:\n"
     ]
    },
    {
     "data": {
      "text/html": [
       "<div>\n",
       "<style scoped>\n",
       "    .dataframe tbody tr th:only-of-type {\n",
       "        vertical-align: middle;\n",
       "    }\n",
       "\n",
       "    .dataframe tbody tr th {\n",
       "        vertical-align: top;\n",
       "    }\n",
       "\n",
       "    .dataframe thead th {\n",
       "        text-align: right;\n",
       "    }\n",
       "</style>\n",
       "<table border=\"1\" class=\"dataframe\">\n",
       "  <thead>\n",
       "    <tr style=\"text-align: right;\">\n",
       "      <th></th>\n",
       "      <th>major_version</th>\n",
       "      <th>count</th>\n",
       "    </tr>\n",
       "  </thead>\n",
       "  <tbody>\n",
       "    <tr>\n",
       "      <th>3</th>\n",
       "      <td>6.0</td>\n",
       "      <td>2287</td>\n",
       "    </tr>\n",
       "    <tr>\n",
       "      <th>4</th>\n",
       "      <td>7.0</td>\n",
       "      <td>1411</td>\n",
       "    </tr>\n",
       "    <tr>\n",
       "      <th>2</th>\n",
       "      <td>5.0</td>\n",
       "      <td>86</td>\n",
       "    </tr>\n",
       "    <tr>\n",
       "      <th>0</th>\n",
       "      <td>3.0</td>\n",
       "      <td>2</td>\n",
       "    </tr>\n",
       "    <tr>\n",
       "      <th>1</th>\n",
       "      <td>4.0</td>\n",
       "      <td>2</td>\n",
       "    </tr>\n",
       "  </tbody>\n",
       "</table>\n",
       "</div>"
      ],
      "text/plain": [
       "   major_version  count\n",
       "3            6.0   2287\n",
       "4            7.0   1411\n",
       "2            5.0     86\n",
       "0            3.0      2\n",
       "1            4.0      2"
      ]
     },
     "metadata": {},
     "output_type": "display_data"
    },
    {
     "name": "stdout",
     "output_type": "stream",
     "text": [
      "\n",
      "Rating trend by major version:\n"
     ]
    },
    {
     "data": {
      "text/html": [
       "<div>\n",
       "<style scoped>\n",
       "    .dataframe tbody tr th:only-of-type {\n",
       "        vertical-align: middle;\n",
       "    }\n",
       "\n",
       "    .dataframe tbody tr th {\n",
       "        vertical-align: top;\n",
       "    }\n",
       "\n",
       "    .dataframe thead th {\n",
       "        text-align: right;\n",
       "    }\n",
       "</style>\n",
       "<table border=\"1\" class=\"dataframe\">\n",
       "  <thead>\n",
       "    <tr style=\"text-align: right;\">\n",
       "      <th></th>\n",
       "      <th>major_version</th>\n",
       "      <th>avg_rating</th>\n",
       "      <th>review_count</th>\n",
       "    </tr>\n",
       "  </thead>\n",
       "  <tbody>\n",
       "    <tr>\n",
       "      <th>2</th>\n",
       "      <td>5.0</td>\n",
       "      <td>2.43</td>\n",
       "      <td>86</td>\n",
       "    </tr>\n",
       "    <tr>\n",
       "      <th>3</th>\n",
       "      <td>6.0</td>\n",
       "      <td>3.69</td>\n",
       "      <td>2287</td>\n",
       "    </tr>\n",
       "    <tr>\n",
       "      <th>4</th>\n",
       "      <td>7.0</td>\n",
       "      <td>1.88</td>\n",
       "      <td>1411</td>\n",
       "    </tr>\n",
       "  </tbody>\n",
       "</table>\n",
       "</div>"
      ],
      "text/plain": [
       "   major_version  avg_rating  review_count\n",
       "2            5.0        2.43            86\n",
       "3            6.0        3.69          2287\n",
       "4            7.0        1.88          1411"
      ]
     },
     "metadata": {},
     "output_type": "display_data"
    },
    {
     "data": {
      "image/png": "[encoded data removed]",
      "text/plain": [
       "<Figure size 1200x600 with 1 Axes>"
      ]
     },
     "metadata": {},
     "output_type": "display_data"
    },
    {
     "name": "stdout",
     "output_type": "stream",
     "text": [
      "\n",
      "Major versions with biggest rating improvements:\n",
      "  Version 6.0: +1.26 from version 5.0\n",
      "\n",
      "Major versions with biggest rating declines:\n",
      "  Version 7.0: -1.81 from version 6.0\n",
      "\n",
      "Sentiment trend by major version:\n"
     ]
    },
    {
     "data": {
      "text/html": [
       "<div>\n",
       "<style scoped>\n",
       "    .dataframe tbody tr th:only-of-type {\n",
       "        vertical-align: middle;\n",
       "    }\n",
       "\n",
       "    .dataframe tbody tr th {\n",
       "        vertical-align: top;\n",
       "    }\n",
       "\n",
       "    .dataframe thead th {\n",
       "        text-align: right;\n",
       "    }\n",
       "</style>\n",
       "<table border=\"1\" class=\"dataframe\">\n",
       "  <thead>\n",
       "    <tr style=\"text-align: right;\">\n",
       "      <th>sentiment</th>\n",
       "      <th>major_version</th>\n",
       "      <th>negative</th>\n",
       "      <th>neutral</th>\n",
       "      <th>positive</th>\n",
       "      <th>review_count</th>\n",
       "    </tr>\n",
       "  </thead>\n",
       "  <tbody>\n",
       "    <tr>\n",
       "      <th>2</th>\n",
       "      <td>5.0</td>\n",
       "      <td>61.6</td>\n",
       "      <td>5.8</td>\n",
       "      <td>32.6</td>\n",
       "      <td>86</td>\n",
       "    </tr>\n",
       "    <tr>\n",
       "      <th>3</th>\n",
       "      <td>6.0</td>\n",
       "      <td>28.6</td>\n",
       "      <td>5.4</td>\n",
       "      <td>66.0</td>\n",
       "      <td>2287</td>\n",
       "    </tr>\n",
       "    <tr>\n",
       "      <th>4</th>\n",
       "      <td>7.0</td>\n",
       "      <td>77.0</td>\n",
       "      <td>4.5</td>\n",
       "      <td>18.5</td>\n",
       "      <td>1411</td>\n",
       "    </tr>\n",
       "  </tbody>\n",
       "</table>\n",
       "</div>"
      ],
      "text/plain": [
       "sentiment  major_version  negative  neutral  positive  review_count\n",
       "2                    5.0      61.6      5.8      32.6            86\n",
       "3                    6.0      28.6      5.4      66.0          2287\n",
       "4                    7.0      77.0      4.5      18.5          1411"
      ]
     },
     "metadata": {},
     "output_type": "display_data"
    },
    {
     "data": {
      "image/png": "[encoded data removed]",
      "text/plain": [
       "<Figure size 1200x600 with 1 Axes>"
      ]
     },
     "metadata": {},
     "output_type": "display_data"
    }
   ],
   "source": [
    "# Analyze version evolution over time\n",
    "if 'version' in analyzed_df.columns:\n",
    "    def extract_major_version(version_str):\n",
    "        \"\"\"Extract major version from version string (e.g., 7.2.4 -> 7)\"\"\"\n",
    "        if pd.isna(version_str):\n",
    "            return None\n",
    "        \n",
    "        try:\n",
    "            # Try to get the first component of the version\n",
    "            return int(version_str.split('.')[0])\n",
    "        except (AttributeError, ValueError, IndexError):\n",
    "            # If any error occurs, return the original string\n",
    "            return version_str\n",
    "    \n",
    "    # Extract major version\n",
    "    analyzed_df['major_version'] = analyzed_df['version'].apply(extract_major_version)\n",
    "    \n",
    "    # Count reviews by major version\n",
    "    major_version_counts = analyzed_df.groupby('major_version').size().reset_index(name='count')\n",
    "    major_version_counts = major_version_counts.sort_values('count', ascending=False)\n",
    "    \n",
    "    print(\"Reviews by major version:\")\n",
    "    display(major_version_counts.head(10))\n",
    "    \n",
    "    # Analyze ratings by major version\n",
    "    if 'rating' in analyzed_df.columns:\n",
    "        rating_by_major = analyzed_df.groupby('major_version')['rating'].agg(['mean', 'count']).reset_index()\n",
    "        rating_by_major = rating_by_major.sort_values('major_version')\n",
    "        rating_by_major.columns = ['major_version', 'avg_rating', 'review_count']\n",
    "        rating_by_major['avg_rating'] = rating_by_major['avg_rating'].round(2)\n",
    "        \n",
    "        # Filter to major versions with enough reviews\n",
    "        min_reviews = 5\n",
    "        filtered_major = rating_by_major[rating_by_major['review_count'] >= min_reviews]\n",
    "        \n",
    "        if len(filtered_major) > 1:  # Need at least 2 points for a trend\n",
    "            # Create a visualization of rating trend by major version\n",
    "            print(\"\\nRating trend by major version:\")\n",
    "            \n",
    "            # Create version-specific color map\n",
    "            import matplotlib.pyplot as plt\n",
    "            import numpy as np\n",
    "            \n",
    "            # Sort versions for proper trend visualization\n",
    "            display(filtered_major)\n",
    "            \n",
    "            # Check if we can convert versions to numeric for proper sorting\n",
    "            if filtered_major['major_version'].apply(lambda x: isinstance(x, (int, float))).all():\n",
    "                filtered_major = filtered_major.sort_values('major_version')\n",
    "                \n",
    "                # Create a line chart\n",
    "                fig = plt.figure(figsize=(12, 6))\n",
    "                plt.plot(filtered_major['major_version'], filtered_major['avg_rating'], \n",
    "                         marker='o', linewidth=2, markersize=8)\n",
    "                \n",
    "                # Add data labels\n",
    "                for x, y, count in zip(filtered_major['major_version'], \n",
    "                                      filtered_major['avg_rating'], \n",
    "                                      filtered_major['review_count']):\n",
    "                    plt.annotate(f\"{y} ({count})\", (x, y), \n",
    "                                textcoords=\"offset points\", \n",
    "                                xytext=(0,10), \n",
    "                                ha='center')\n",
    "                \n",
    "                # Add reference line for neutral rating\n",
    "                plt.axhline(y=3, color='gray', linestyle='--', alpha=0.5)\n",
    "                \n",
    "                # Format chart\n",
    "                plt.ylim(0.5, 5.5)  # Rating scale is 1-5\n",
    "                plt.grid(True, linestyle='--', alpha=0.7)\n",
    "                plt.title('Average Rating by Major Version', fontsize=16)\n",
    "                plt.xlabel('Major Version', fontsize=12)\n",
    "                plt.ylabel('Average Rating', fontsize=12)\n",
    "                \n",
    "                # Show the plot\n",
    "                plt.tight_layout()\n",
    "                plt.show()\n",
    "                \n",
    "                # Identify trends\n",
    "                if len(filtered_major) >= 3:\n",
    "                    # Calculate changes between consecutive versions\n",
    "                    filtered_major['rating_change'] = filtered_major['avg_rating'].diff()\n",
    "                    \n",
    "                    # Find biggest improvements and declines\n",
    "                    improvements = filtered_major[filtered_major['rating_change'] > 0].sort_values('rating_change', ascending=False)\n",
    "                    declines = filtered_major[filtered_major['rating_change'] < 0].sort_values('rating_change')\n",
    "                    \n",
    "                    if len(improvements) > 0:\n",
    "                        print(\"\\nMajor versions with biggest rating improvements:\")\n",
    "                        for i, row in improvements.iterrows():\n",
    "                            prev_version = filtered_major.loc[i-1, 'major_version'] if i > 0 else \"previous\"\n",
    "                            print(f\"  Version {row['major_version']}: +{row['rating_change']:.2f} from version {prev_version}\")\n",
    "                    \n",
    "                    if len(declines) > 0:\n",
    "                        print(\"\\nMajor versions with biggest rating declines:\")\n",
    "                        for i, row in declines.iterrows():\n",
    "                            prev_version = filtered_major.loc[i-1, 'major_version'] if i > 0 else \"previous\"\n",
    "                            print(f\"  Version {row['major_version']}: {row['rating_change']:.2f} from version {prev_version}\")\n",
    "                            \n",
    "    # Analyze sentiment by major version\n",
    "    if 'sentiment' in analyzed_df.columns:\n",
    "        # Calculate sentiment percentages per major version\n",
    "        sentiment_by_major = pd.crosstab(\n",
    "            analyzed_df['major_version'], \n",
    "            analyzed_df['sentiment'],\n",
    "            normalize='index'\n",
    "        ) * 100\n",
    "        \n",
    "        # Add count column\n",
    "        major_counts = analyzed_df.groupby('major_version').size()\n",
    "        sentiment_by_major['review_count'] = major_counts\n",
    "        \n",
    "        # Round percentages for display\n",
    "        sentiment_by_major = sentiment_by_major.reset_index()\n",
    "        display_cols = sentiment_by_major.columns.difference(['major_version', 'review_count'])\n",
    "        sentiment_by_major[display_cols] = sentiment_by_major[display_cols].round(1)\n",
    "        \n",
    "        # Filter to major versions with enough reviews\n",
    "        min_reviews = 10\n",
    "        filtered_sentiment = sentiment_by_major[sentiment_by_major['review_count'] >= min_reviews]\n",
    "        \n",
    "        if len(filtered_sentiment) > 0:\n",
    "            # Sort by major version for trend analysis if numeric\n",
    "            if filtered_sentiment['major_version'].apply(lambda x: isinstance(x, (int, float))).all():\n",
    "                filtered_sentiment = filtered_sentiment.sort_values('major_version')\n",
    "            \n",
    "            print(\"\\nSentiment trend by major version:\")\n",
    "            display(filtered_sentiment)\n",
    "            \n",
    "            if 'positive' in filtered_sentiment.columns and len(filtered_sentiment) > 1:\n",
    "                # Create a visualization of positive sentiment trend by major version\n",
    "                fig = plt.figure(figsize=(12, 6))\n",
    "                \n",
    "                # Check if we have versions that can be used as x-axis\n",
    "                if filtered_sentiment['major_version'].apply(lambda x: isinstance(x, (int, float))).all():\n",
    "                    x_values = filtered_sentiment['major_version']\n",
    "                else:\n",
    "                    # Use index if versions aren't numeric\n",
    "                    x_values = range(len(filtered_sentiment))\n",
    "                    plt.xticks(x_values, filtered_sentiment['major_version'])\n",
    "                \n",
    "                # Plot positive and negative sentiment trends\n",
    "                plt.plot(x_values, filtered_sentiment['positive'], \n",
    "                        marker='o', linewidth=2, markersize=8, label='Positive', color='green')\n",
    "                if 'negative' in filtered_sentiment.columns:\n",
    "                    plt.plot(x_values, filtered_sentiment['negative'], \n",
    "                            marker='s', linewidth=2, markersize=8, label='Negative', color='red')\n",
    "                \n",
    "                # Add data labels\n",
    "                for i, (pos, neg, count) in enumerate(zip(filtered_sentiment['positive'], \n",
    "                                                        filtered_sentiment['negative'] if 'negative' in filtered_sentiment.columns else [0]*len(filtered_sentiment), \n",
    "                                                        filtered_sentiment['review_count'])):\n",
    "                    x = x_values.iloc[i] if hasattr(x_values, 'iloc') else x_values[i]\n",
    "                    plt.annotate(f\"{pos:.1f}%\", (x, pos), \n",
    "                                textcoords=\"offset points\", \n",
    "                                xytext=(0,10), \n",
    "                                ha='center', color='green')\n",
    "                    if 'negative' in filtered_sentiment.columns:\n",
    "                        plt.annotate(f\"{neg:.1f}%\", (x, neg), \n",
    "                                    textcoords=\"offset points\", \n",
    "                                    xytext=(0,-15), \n",
    "                                    ha='center', color='red')\n",
    "                \n",
    "                # Format chart\n",
    "                plt.ylim(0, 100)  # Percentage scale\n",
    "                plt.grid(True, linestyle='--', alpha=0.7)\n",
    "                plt.title('Sentiment Trend by Major Version', fontsize=16)\n",
    "                plt.xlabel('Major Version', fontsize=12)\n",
    "                plt.ylabel('Percentage', fontsize=12)\n",
    "                plt.legend()\n",
    "                \n",
    "                # Show the plot\n",
    "                plt.tight_layout()\n",
    "                plt.show()\n",
    "else:\n",
    "    print(\"No version data available for evolution analysis.\")"
   ]
  },
  {
   "cell_type": "markdown",
   "metadata": {},
   "source": [
    "### Key Findings from Version-Based Analysis\n",
    "\n",
    "This section summarizes the key findings from our version-based analysis, highlighting the impact of different versions on user sentiment, critical issues, and areas for improvement. These insights can help prioritize development efforts for future versions."
   ]
  },
  {
   "cell_type": "code",
   "execution_count": 14,
   "metadata": {},
   "outputs": [
    {
     "name": "stdout",
     "output_type": "stream",
     "text": [
      "Extracting key findings from version-based analysis:\n",
      "Found version data in 3788/4398 reviews (86.1%)\n",
      "\n",
      "KEY FINDINGS FROM VERSION-BASED ANALYSIS:\n",
      "1. Version 7.2.4 has a low average rating of 1.8/5 based on 52 reviews.\n",
      "2. Version 7.0.9 has a low average rating of 1.8/5 based on 323 reviews.\n",
      "3. Version 7.2.3 has a low average rating of 1.8/5 based on 119 reviews.\n",
      "4. Version 6.0.3 has a high average rating of 4.0/5 based on 27 reviews.\n",
      "5. Version 6.0.5 has a high average rating of 3.9/5 based on 382 reviews.\n",
      "6. Version 6.0.4 has a high average rating of 3.8/5 based on 699 reviews.\n",
      "7. Ratings show decline across major versions, from 2.4 (version 5.0) to 1.9 (version 7.0).\n",
      "8. Biggest improvement was from version 7.0 to 6.0, with ratings increasing by 1.3 points.\n",
      "9. Version 6.0.3 has the highest positive sentiment at 77.8% based on 27 reviews.\n",
      "10. Version 7.2.4 has the highest negative sentiment at 82.7% based on 52 reviews.\n",
      "11. The lowest-rated version (7.2.4) most commonly discusses Topic 4, Topic 1, Topic 0.\n",
      "12. The highest-rated version (6.0.3) most commonly discusses Topic 0, Topic 6, Topic 4.\n",
      "13. Version 5.2.3 has the lowest developer response rate at 0.0% (0/15 reviews).\n",
      "14. Negative reviews (rating 1-2) receive significantly more developer responses (1.1%) than positive ones (0.3%).\n"
     ]
    }
   ],
   "source": [
    "# Summarize key findings from version analysis\n",
    "print(\"Extracting key findings from version-based analysis:\")\n",
    "\n",
    "# Check for minimally required data\n",
    "has_version = 'version' in analyzed_df.columns\n",
    "has_rating = 'rating' in analyzed_df.columns\n",
    "has_topics = 'primary_topic' in analyzed_df.columns\n",
    "has_sentiment = 'sentiment' in analyzed_df.columns\n",
    "has_response = 'repliedAt' in analyzed_df.columns\n",
    "\n",
    "if not has_version:\n",
    "    print(\"No version data available for findings summary.\")\n",
    "else:\n",
    "    # Calculate the percentage of reviews with version data\n",
    "    version_count = analyzed_df['version'].notna().sum()\n",
    "    version_pct = version_count / len(analyzed_df) * 100\n",
    "    print(f\"Found version data in {version_count}/{len(analyzed_df)} reviews ({version_pct:.1f}%)\")\n",
    "    \n",
    "    findings = []\n",
    "    \n",
    "    # 1. Check for any particularly bad versions\n",
    "    if has_rating:\n",
    "        # Find versions with sufficient reviews for analysis\n",
    "        min_reviews = 10\n",
    "        version_ratings = analyzed_df.groupby('version')['rating'].agg(['mean', 'count']).reset_index()\n",
    "        version_ratings.columns = ['version', 'avg_rating', 'review_count']\n",
    "        \n",
    "        # Filter to versions with enough reviews\n",
    "        valid_versions = version_ratings[version_ratings['review_count'] >= min_reviews]\n",
    "        \n",
    "        if len(valid_versions) > 0:\n",
    "            # Find worst versions\n",
    "            worst_versions = valid_versions.sort_values('avg_rating').head(3)\n",
    "            \n",
    "            for _, row in worst_versions.iterrows():\n",
    "                if row['avg_rating'] < 3.0:  # Only include if below neutral\n",
    "                    findings.append(f\"Version {row['version']} has a low average rating of {row['avg_rating']:.1f}/5 based on {int(row['review_count'])} reviews.\")\n",
    "            \n",
    "            # Find best versions\n",
    "            best_versions = valid_versions.sort_values('avg_rating', ascending=False).head(3)\n",
    "            \n",
    "            for _, row in best_versions.iterrows():\n",
    "                if row['avg_rating'] > 3.5:  # Only include if notably above neutral\n",
    "                    findings.append(f\"Version {row['version']} has a high average rating of {row['avg_rating']:.1f}/5 based on {int(row['review_count'])} reviews.\")\n",
    "    \n",
    "    # 2. Check for major version trends\n",
    "    if has_rating and 'major_version' in analyzed_df.columns:\n",
    "        # Look for trends across major versions\n",
    "        major_ratings = analyzed_df.groupby('major_version')['rating'].agg(['mean', 'count']).reset_index()\n",
    "        major_ratings.columns = ['major_version', 'avg_rating', 'review_count']\n",
    "        \n",
    "        # Filter to major versions with enough reviews and sort\n",
    "        valid_majors = major_ratings[major_ratings['review_count'] >= min_reviews].sort_values('major_version')\n",
    "        \n",
    "        if len(valid_majors) >= 3:  # Need at least 3 points for a trend\n",
    "            # Calculate rating changes between versions\n",
    "            valid_majors['rating_change'] = valid_majors['avg_rating'].diff()\n",
    "            \n",
    "            # Check if there's a notable trend\n",
    "            first_rating = valid_majors.iloc[0]['avg_rating']\n",
    "            last_rating = valid_majors.iloc[-1]['avg_rating']\n",
    "            overall_change = last_rating - first_rating\n",
    "            \n",
    "            # Add findings on overall trend\n",
    "            if abs(overall_change) >= 0.5:  # Only report significant changes\n",
    "                if overall_change > 0:\n",
    "                    findings.append(f\"Ratings show improvement across major versions, from {first_rating:.1f} (version {valid_majors.iloc[0]['major_version']}) to {last_rating:.1f} (version {valid_majors.iloc[-1]['major_version']}).\")\n",
    "                else:\n",
    "                    findings.append(f\"Ratings show decline across major versions, from {first_rating:.1f} (version {valid_majors.iloc[0]['major_version']}) to {last_rating:.1f} (version {valid_majors.iloc[-1]['major_version']}).\")\n",
    "            \n",
    "            # Find biggest improvements\n",
    "            biggest_improvement = valid_majors[valid_majors['rating_change'] > 0].sort_values('rating_change', ascending=False).head(1)\n",
    "            if len(biggest_improvement) > 0 and biggest_improvement.iloc[0]['rating_change'] >= 0.5:\n",
    "                row = biggest_improvement.iloc[0]\n",
    "                # Safely find previous version by looking for the row's position\n",
    "                # Find the current row's index position\n",
    "                try:\n",
    "                    current_idx = valid_majors.index[valid_majors['major_version'] == row['major_version']].tolist()[0]\n",
    "                    if current_idx > 0:  # Make sure there's a previous row\n",
    "                        prev_version = valid_majors.iloc[current_idx-1]['major_version']\n",
    "                        findings.append(f\"Biggest improvement was from version {prev_version} to {row['major_version']}, with ratings increasing by {row['rating_change']:.1f} points.\")\n",
    "                except (IndexError, KeyError):\n",
    "                    pass  # Skip if we can't find the previous version\n",
    "            \n",
    "            # Find biggest declines\n",
    "            biggest_decline = valid_majors[valid_majors['rating_change'] < 0].sort_values('rating_change').head(1)\n",
    "            if len(biggest_decline) > 0 and biggest_decline.iloc[0]['rating_change'] <= -0.5:\n",
    "                row = biggest_decline.iloc[0]\n",
    "                # Safely find previous version by looking for the row's position\n",
    "                try:\n",
    "                    current_idx = valid_majors.index[valid_majors['major_version'] == row['major_version']].tolist()[0]\n",
    "                    if current_idx > 0:  # Make sure there's a previous row\n",
    "                        prev_version = valid_majors.iloc[current_idx-1]['major_version']\n",
    "                        findings.append(f\"Biggest decline was from version {prev_version} to {row['major_version']}, with ratings dropping by {abs(row['rating_change']):.1f} points.\")\n",
    "                except (IndexError, KeyError):\n",
    "                    pass  # Skip if we can't find the previous version\n",
    "    \n",
    "    # 3. Check for sentiment changes across versions\n",
    "    if has_sentiment and has_version:\n",
    "        version_sentiment = pd.crosstab(\n",
    "            analyzed_df['version'], \n",
    "            analyzed_df['sentiment'],\n",
    "            normalize='index'\n",
    "        ) * 100\n",
    "        \n",
    "        # Add count column\n",
    "        version_counts = analyzed_df.groupby('version').size()\n",
    "        version_sentiment['review_count'] = version_counts\n",
    "        \n",
    "        # Filter to versions with enough reviews\n",
    "        valid_sentiment = version_sentiment[version_sentiment['review_count'] >= min_reviews].reset_index()\n",
    "        \n",
    "        if len(valid_sentiment) > 0 and 'positive' in valid_sentiment.columns:\n",
    "            # Find versions with highest positive sentiment\n",
    "            top_positive = valid_sentiment.sort_values('positive', ascending=False).head(1)\n",
    "            if len(top_positive) > 0 and top_positive.iloc[0]['positive'] >= 60:\n",
    "                row = top_positive.iloc[0]\n",
    "                findings.append(f\"Version {row['version']} has the highest positive sentiment at {row['positive']:.1f}% based on {int(row['review_count'])} reviews.\")\n",
    "            \n",
    "            # Find versions with highest negative sentiment\n",
    "            if 'negative' in valid_sentiment.columns:\n",
    "                top_negative = valid_sentiment.sort_values('negative', ascending=False).head(1)\n",
    "                if len(top_negative) > 0 and top_negative.iloc[0]['negative'] >= 60:\n",
    "                    row = top_negative.iloc[0]\n",
    "                    findings.append(f\"Version {row['version']} has the highest negative sentiment at {row['negative']:.1f}% based on {int(row['review_count'])} reviews.\")\n",
    "    \n",
    "    # 4. Check for topics by version\n",
    "    if has_topics and has_version:\n",
    "        # Get topic words if available\n",
    "        if \"topics\" in analysis_results:\n",
    "            _, topic_words = analysis_results[\"topics\"]\n",
    "            \n",
    "            # Find most common topics for worst and best versions\n",
    "            if has_rating:\n",
    "                # Get the worst and best versions\n",
    "                version_ratings = analyzed_df.groupby('version')['rating'].agg(['mean', 'count']).reset_index()\n",
    "                version_ratings = version_ratings[version_ratings['count'] >= min_reviews]\n",
    "                \n",
    "                if len(version_ratings) > 0:\n",
    "                    worst_version = version_ratings.sort_values('mean').iloc[0]['version']\n",
    "                    best_version = version_ratings.sort_values('mean', ascending=False).iloc[0]['version']\n",
    "                    \n",
    "                    # Get topics for worst version\n",
    "                    worst_version_topics = analyzed_df[analyzed_df['version'] == worst_version]['primary_topic'].value_counts(normalize=True).head(3)\n",
    "                    \n",
    "                    if len(worst_version_topics) > 0:\n",
    "                        topic_phrase = \", \".join([f\"Topic {int(topic)}\" for topic in worst_version_topics.index])\n",
    "                        findings.append(f\"The lowest-rated version ({worst_version}) most commonly discusses {topic_phrase}.\")\n",
    "                        \n",
    "                    # Get topics for best version\n",
    "                    best_version_topics = analyzed_df[analyzed_df['version'] == best_version]['primary_topic'].value_counts(normalize=True).head(3)\n",
    "                    \n",
    "                    if len(best_version_topics) > 0:\n",
    "                        topic_phrase = \", \".join([f\"Topic {int(topic)}\" for topic in best_version_topics.index])\n",
    "                        findings.append(f\"The highest-rated version ({best_version}) most commonly discusses {topic_phrase}.\")\n",
    "    \n",
    "    # 5. Check for developer response patterns\n",
    "    if has_response and has_version:\n",
    "        try:\n",
    "            # Calculate response rate by version - fix for the AttributeError\n",
    "            # First create the has_response column if not already done\n",
    "            if 'has_response' not in analyzed_df.columns:\n",
    "                analyzed_df['has_response'] = analyzed_df['repliedAt'].notna()\n",
    "            \n",
    "            # Now group by version and aggregate has_response\n",
    "            response_by_version = analyzed_df.groupby('version')['has_response'].agg(\n",
    "                response_rate=lambda x: x.mean() * 100,  # Calculate percentage directly\n",
    "                responded=lambda x: x.sum(),\n",
    "                total=lambda x: x.count()\n",
    "            ).reset_index()\n",
    "            \n",
    "            # Filter to versions with enough reviews\n",
    "            valid_response = response_by_version[response_by_version['total'] >= min_reviews]\n",
    "            \n",
    "            if len(valid_response) > 0:\n",
    "                # Find highest response rate\n",
    "                top_response = valid_response.sort_values('response_rate', ascending=False).head(1)\n",
    "                if len(top_response) > 0 and top_response.iloc[0]['response_rate'] > 20:\n",
    "                    row = top_response.iloc[0]\n",
    "                    findings.append(f\"Version {row['version']} has the highest developer response rate at {row['response_rate']:.1f}% ({int(row['responded'])}/{int(row['total'])} reviews).\")\n",
    "                    \n",
    "                # Find lowest response rate\n",
    "                low_response = valid_response.sort_values('response_rate').head(1)\n",
    "                if len(low_response) > 0 and low_response.iloc[0]['response_rate'] < 5:\n",
    "                    row = low_response.iloc[0]\n",
    "                    findings.append(f\"Version {row['version']} has the lowest developer response rate at {row['response_rate']:.1f}% ({int(row['responded'])}/{int(row['total'])} reviews).\")\n",
    "            \n",
    "            # Check if negative reviews get more responses\n",
    "            if has_rating:\n",
    "                negative_reviews = analyzed_df[analyzed_df['rating'] <= 2]\n",
    "                negative_response_rate = negative_reviews['has_response'].mean() * 100\n",
    "                \n",
    "                positive_reviews = analyzed_df[analyzed_df['rating'] >= 4]\n",
    "                positive_response_rate = positive_reviews['has_response'].mean() * 100\n",
    "                \n",
    "                if negative_response_rate > 2 * positive_response_rate:\n",
    "                    findings.append(f\"Negative reviews (rating 1-2) receive significantly more developer responses ({negative_response_rate:.1f}%) than positive ones ({positive_response_rate:.1f}%).\")\n",
    "        except Exception as e:\n",
    "            print(f\"Error analyzing developer responses: {e}\")\n",
    "    \n",
    "    # Display the findings\n",
    "    if findings:\n",
    "        print(\"\\nKEY FINDINGS FROM VERSION-BASED ANALYSIS:\")\n",
    "        for i, finding in enumerate(findings, 1):\n",
    "            print(f\"{i}. {finding}\")\n",
    "    else:\n",
    "        print(\"\\nNo significant findings identified from version-based analysis. This may be due to insufficient data or lack of clear patterns.\")"
   ]
  },
  {
   "cell_type": "markdown",
   "metadata": {},
   "source": [
    "## Plotting Trends"
   ]
  },
  {
   "cell_type": "code",
   "execution_count": 15,
   "metadata": {},
   "outputs": [
    {
     "name": "stdout",
     "output_type": "stream",
     "text": [
      "Checking date column status:\n",
      "Date column has 0 valid dates out of 4398 records (0.00%)\n",
      "Attempting to create dates from timestamp column...\n",
      "After conversion: 0 valid dates (0.00%)\n",
      "No valid dates found. Creating artificial dates for demonstration...\n",
      "Created 4398 artificial dates for demonstration\n",
      "\n",
      "Creating rating trend visualization...\n"
     ]
    },
    {
     "data": {
      "application/vnd.plotly.v1+json": {
       "config": {
        "plotlyServerURL": "https://plot.ly"
       },
       "data": [
        {
         "line": {
          "color": "#6400e0",
          "width": 3
         },
         "marker": {
          "size": 8
         },
         "mode": "lines+markers",
         "name": "Average Rating",
         "type": "scatter",
         "x": [
          "2024-11-10T00:00:00",
          "2024-11-17T00:00:00",
          "2024-11-24T00:00:00",
          "2024-12-01T00:00:00",
          "2024-12-08T00:00:00",
          "2024-12-15T00:00:00",
          "2024-12-22T00:00:00",
          "2024-12-29T00:00:00",
          "2025-01-05T00:00:00",
          "2025-01-12T00:00:00",
          "2025-01-19T00:00:00",
          "2025-01-26T00:00:00",
          "2025-02-02T00:00:00",
          "2025-02-09T00:00:00",
          "2025-02-16T00:00:00",
          "2025-02-23T00:00:00",
          "2025-03-02T00:00:00",
          "2025-03-09T00:00:00",
          "2025-03-16T00:00:00",
          "2025-03-23T00:00:00",
          "2025-03-30T00:00:00",
          "2025-04-06T00:00:00",
          "2025-04-13T00:00:00",
          "2025-04-20T00:00:00",
          "2025-04-27T00:00:00",
          "2025-05-04T00:00:00",
          "2025-05-11T00:00:00"
         ],
         "xaxis": "x",
         "y": {
          "bdata": "zczMzMzMCEDpoosuumgGQHnGM57xjAdASZIkSZIkB0CJO+KOuCMGQKfOrz3ksgZAD+qgDuqgBkCMLrroogsGQPQ8z/M8zwVA/mDj0fzBBkCzdeg3W4cGQM+vPeSyYghArUYRh07aB0DNzMzMzEwJQPQFfUFf0AVAI2Xg6db8CEBCMqCeqVwHQFIGnm7NDwdAmpmZmZmZCEChL+gL+oIIQMWy8c3Q2gVAGTCNAdMYCED39vb29vYGQEX1oJF3/gZAbgGFUZ0mB0BBj5SQUwEHQDVp0qRJkwZA",
          "dtype": "f8"
         },
         "yaxis": "y"
        },
        {
         "marker": {
          "color": "rgba(0, 150, 150, 0.6)"
         },
         "name": "Number of Reviews",
         "opacity": 0.7,
         "type": "bar",
         "x": [
          "2024-11-10T00:00:00",
          "2024-11-17T00:00:00",
          "2024-11-24T00:00:00",
          "2024-12-01T00:00:00",
          "2024-12-08T00:00:00",
          "2024-12-15T00:00:00",
          "2024-12-22T00:00:00",
          "2024-12-29T00:00:00",
          "2025-01-05T00:00:00",
          "2025-01-12T00:00:00",
          "2025-01-19T00:00:00",
          "2025-01-26T00:00:00",
          "2025-02-02T00:00:00",
          "2025-02-09T00:00:00",
          "2025-02-16T00:00:00",
          "2025-02-23T00:00:00",
          "2025-03-02T00:00:00",
          "2025-03-09T00:00:00",
          "2025-03-16T00:00:00",
          "2025-03-23T00:00:00",
          "2025-03-30T00:00:00",
          "2025-04-06T00:00:00",
          "2025-04-13T00:00:00",
          "2025-04-20T00:00:00",
          "2025-04-27T00:00:00",
          "2025-05-04T00:00:00",
          "2025-05-11T00:00:00"
         ],
         "xaxis": "x",
         "y": {
          "bdata": "MgCwALIAxACsAKYArwCwAKgAoQCuAKYAowCgAKwAogCjAKIAoACsALMApQCqAKcAswDBAEkA",
          "dtype": "i2"
         },
         "yaxis": "y2"
        }
       ],
       "layout": {
        "annotations": [
         {
          "showarrow": false,
          "text": "Neutral (3)",
          "x": 1,
          "xanchor": "right",
          "xref": "x domain",
          "y": 3,
          "yanchor": "bottom",
          "yref": "y"
         }
        ],
        "hovermode": "x unified",
        "legend": {
         "orientation": "h",
         "x": 1,
         "xanchor": "right",
         "y": 1.02,
         "yanchor": "bottom"
        },
        "shapes": [
         {
          "line": {
           "color": "gray",
           "dash": "dot"
          },
          "type": "line",
          "x0": 0,
          "x1": 1,
          "xref": "x domain",
          "y0": 3,
          "y1": 3,
          "yref": "y"
         }
        ],
        "template": {
         "data": {
          "bar": [
           {
            "error_x": {
             "color": "#f2f5fa"
            },
            "error_y": {
             "color": "#f2f5fa"
            },
            "marker": {
             "line": {
              "color": "rgb(17,17,17)",
              "width": 0.5
             },
             "pattern": {
              "fillmode": "overlay",
              "size": 10,
              "solidity": 0.2
             }
            },
            "type": "bar"
           }
          ],
          "barpolar": [
           {
            "marker": {
             "line": {
              "color": "rgb(17,17,17)",
              "width": 0.5
             },
             "pattern": {
              "fillmode": "overlay",
              "size": 10,
              "solidity": 0.2
             }
            },
            "type": "barpolar"
           }
          ],
          "carpet": [
           {
            "aaxis": {
             "endlinecolor": "#A2B1C6",
             "gridcolor": "#506784",
             "linecolor": "#506784",
             "minorgridcolor": "#506784",
             "startlinecolor": "#A2B1C6"
            },
            "baxis": {
             "endlinecolor": "#A2B1C6",
             "gridcolor": "#506784",
             "linecolor": "#506784",
             "minorgridcolor": "#506784",
             "startlinecolor": "#A2B1C6"
            },
            "type": "carpet"
           }
          ],
          "choropleth": [
           {
            "colorbar": {
             "outlinewidth": 0,
             "ticks": ""
            },
            "type": "choropleth"
           }
          ],
          "contour": [
           {
            "colorbar": {
             "outlinewidth": 0,
             "ticks": ""
            },
            "colorscale": [
             [
              0,
              "#0d0887"
             ],
             [
              0.1111111111111111,
              "#46039f"
             ],
             [
              0.2222222222222222,
              "#7201a8"
             ],
             [
              0.3333333333333333,
              "#9c179e"
             ],
             [
              0.4444444444444444,
              "#bd3786"
             ],
             [
              0.5555555555555556,
              "#d8576b"
             ],
             [
              0.6666666666666666,
              "#ed7953"
             ],
             [
              0.7777777777777778,
              "#fb9f3a"
             ],
             [
              0.8888888888888888,
              "#fdca26"
             ],
             [
              1,
              "#f0f921"
             ]
            ],
            "type": "contour"
           }
          ],
          "contourcarpet": [
           {
            "colorbar": {
             "outlinewidth": 0,
             "ticks": ""
            },
            "type": "contourcarpet"
           }
          ],
          "heatmap": [
           {
            "colorbar": {
             "outlinewidth": 0,
             "ticks": ""
            },
            "colorscale": [
             [
              0,
              "#0d0887"
             ],
             [
              0.1111111111111111,
              "#46039f"
             ],
             [
              0.2222222222222222,
              "#7201a8"
             ],
             [
              0.3333333333333333,
              "#9c179e"
             ],
             [
              0.4444444444444444,
              "#bd3786"
             ],
             [
              0.5555555555555556,
              "#d8576b"
             ],
             [
              0.6666666666666666,
              "#ed7953"
             ],
             [
              0.7777777777777778,
              "#fb9f3a"
             ],
             [
              0.8888888888888888,
              "#fdca26"
             ],
             [
              1,
              "#f0f921"
             ]
            ],
            "type": "heatmap"
           }
          ],
          "histogram": [
           {
            "marker": {
             "pattern": {
              "fillmode": "overlay",
              "size": 10,
              "solidity": 0.2
             }
            },
            "type": "histogram"
           }
          ],
          "histogram2d": [
           {
            "colorbar": {
             "outlinewidth": 0,
             "ticks": ""
            },
            "colorscale": [
             [
              0,
              "#0d0887"
             ],
             [
              0.1111111111111111,
              "#46039f"
             ],
             [
              0.2222222222222222,
              "#7201a8"
             ],
             [
              0.3333333333333333,
              "#9c179e"
             ],
             [
              0.4444444444444444,
              "#bd3786"
             ],
             [
              0.5555555555555556,
              "#d8576b"
             ],
             [
              0.6666666666666666,
              "#ed7953"
             ],
             [
              0.7777777777777778,
              "#fb9f3a"
             ],
             [
              0.8888888888888888,
              "#fdca26"
             ],
             [
              1,
              "#f0f921"
             ]
            ],
            "type": "histogram2d"
           }
          ],
          "histogram2dcontour": [
           {
            "colorbar": {
             "outlinewidth": 0,
             "ticks": ""
            },
            "colorscale": [
             [
              0,
              "#0d0887"
             ],
             [
              0.1111111111111111,
              "#46039f"
             ],
             [
              0.2222222222222222,
              "#7201a8"
             ],
             [
              0.3333333333333333,
              "#9c179e"
             ],
             [
              0.4444444444444444,
              "#bd3786"
             ],
             [
              0.5555555555555556,
              "#d8576b"
             ],
             [
              0.6666666666666666,
              "#ed7953"
             ],
             [
              0.7777777777777778,
              "#fb9f3a"
             ],
             [
              0.8888888888888888,
              "#fdca26"
             ],
             [
              1,
              "#f0f921"
             ]
            ],
            "type": "histogram2dcontour"
           }
          ],
          "mesh3d": [
           {
            "colorbar": {
             "outlinewidth": 0,
             "ticks": ""
            },
            "type": "mesh3d"
           }
          ],
          "parcoords": [
           {
            "line": {
             "colorbar": {
              "outlinewidth": 0,
              "ticks": ""
             }
            },
            "type": "parcoords"
           }
          ],
          "pie": [
           {
            "automargin": true,
            "type": "pie"
           }
          ],
          "scatter": [
           {
            "marker": {
             "line": {
              "color": "#283442"
             }
            },
            "type": "scatter"
           }
          ],
          "scatter3d": [
           {
            "line": {
             "colorbar": {
              "outlinewidth": 0,
              "ticks": ""
             }
            },
            "marker": {
             "colorbar": {
              "outlinewidth": 0,
              "ticks": ""
             }
            },
            "type": "scatter3d"
           }
          ],
          "scattercarpet": [
           {
            "marker": {
             "colorbar": {
              "outlinewidth": 0,
              "ticks": ""
             }
            },
            "type": "scattercarpet"
           }
          ],
          "scattergeo": [
           {
            "marker": {
             "colorbar": {
              "outlinewidth": 0,
              "ticks": ""
             }
            },
            "type": "scattergeo"
           }
          ],
          "scattergl": [
           {
            "marker": {
             "line": {
              "color": "#283442"
             }
            },
            "type": "scattergl"
           }
          ],
          "scattermap": [
           {
            "marker": {
             "colorbar": {
              "outlinewidth": 0,
              "ticks": ""
             }
            },
            "type": "scattermap"
           }
          ],
          "scattermapbox": [
           {
            "marker": {
             "colorbar": {
              "outlinewidth": 0,
              "ticks": ""
             }
            },
            "type": "scattermapbox"
           }
          ],
          "scatterpolar": [
           {
            "marker": {
             "colorbar": {
              "outlinewidth": 0,
              "ticks": ""
             }
            },
            "type": "scatterpolar"
           }
          ],
          "scatterpolargl": [
           {
            "marker": {
             "colorbar": {
              "outlinewidth": 0,
              "ticks": ""
             }
            },
            "type": "scatterpolargl"
           }
          ],
          "scatterternary": [
           {
            "marker": {
             "colorbar": {
              "outlinewidth": 0,
              "ticks": ""
             }
            },
            "type": "scatterternary"
           }
          ],
          "surface": [
           {
            "colorbar": {
             "outlinewidth": 0,
             "ticks": ""
            },
            "colorscale": [
             [
              0,
              "#0d0887"
             ],
             [
              0.1111111111111111,
              "#46039f"
             ],
             [
              0.2222222222222222,
              "#7201a8"
             ],
             [
              0.3333333333333333,
              "#9c179e"
             ],
             [
              0.4444444444444444,
              "#bd3786"
             ],
             [
              0.5555555555555556,
              "#d8576b"
             ],
             [
              0.6666666666666666,
              "#ed7953"
             ],
             [
              0.7777777777777778,
              "#fb9f3a"
             ],
             [
              0.8888888888888888,
              "#fdca26"
             ],
             [
              1,
              "#f0f921"
             ]
            ],
            "type": "surface"
           }
          ],
          "table": [
           {
            "cells": {
             "fill": {
              "color": "#506784"
             },
             "line": {
              "color": "rgb(17,17,17)"
             }
            },
            "header": {
             "fill": {
              "color": "#2a3f5f"
             },
             "line": {
              "color": "rgb(17,17,17)"
             }
            },
            "type": "table"
           }
          ]
         },
         "layout": {
          "annotationdefaults": {
           "arrowcolor": "#f2f5fa",
           "arrowhead": 0,
           "arrowwidth": 1
          },
          "autotypenumbers": "strict",
          "coloraxis": {
           "colorbar": {
            "outlinewidth": 0,
            "ticks": ""
           }
          },
          "colorscale": {
           "diverging": [
            [
             0,
             "#8e0152"
            ],
            [
             0.1,
             "#c51b7d"
            ],
            [
             0.2,
             "#de77ae"
            ],
            [
             0.3,
             "#f1b6da"
            ],
            [
             0.4,
             "#fde0ef"
            ],
            [
             0.5,
             "#f7f7f7"
            ],
            [
             0.6,
             "#e6f5d0"
            ],
            [
             0.7,
             "#b8e186"
            ],
            [
             0.8,
             "#7fbc41"
            ],
            [
             0.9,
             "#4d9221"
            ],
            [
             1,
             "#276419"
            ]
           ],
           "sequential": [
            [
             0,
             "#0d0887"
            ],
            [
             0.1111111111111111,
             "#46039f"
            ],
            [
             0.2222222222222222,
             "#7201a8"
            ],
            [
             0.3333333333333333,
             "#9c179e"
            ],
            [
             0.4444444444444444,
             "#bd3786"
            ],
            [
             0.5555555555555556,
             "#d8576b"
            ],
            [
             0.6666666666666666,
             "#ed7953"
            ],
            [
             0.7777777777777778,
             "#fb9f3a"
            ],
            [
             0.8888888888888888,
             "#fdca26"
            ],
            [
             1,
             "#f0f921"
            ]
           ],
           "sequentialminus": [
            [
             0,
             "#0d0887"
            ],
            [
             0.1111111111111111,
             "#46039f"
            ],
            [
             0.2222222222222222,
             "#7201a8"
            ],
            [
             0.3333333333333333,
             "#9c179e"
            ],
            [
             0.4444444444444444,
             "#bd3786"
            ],
            [
             0.5555555555555556,
             "#d8576b"
            ],
            [
             0.6666666666666666,
             "#ed7953"
            ],
            [
             0.7777777777777778,
             "#fb9f3a"
            ],
            [
             0.8888888888888888,
             "#fdca26"
            ],
            [
             1,
             "#f0f921"
            ]
           ]
          },
          "colorway": [
           "#636efa",
           "#EF553B",
           "#00cc96",
           "#ab63fa",
           "#FFA15A",
           "#19d3f3",
           "#FF6692",
           "#B6E880",
           "#FF97FF",
           "#FECB52"
          ],
          "font": {
           "color": "#f2f5fa"
          },
          "geo": {
           "bgcolor": "rgb(17,17,17)",
           "lakecolor": "rgb(17,17,17)",
           "landcolor": "rgb(17,17,17)",
           "showlakes": true,
           "showland": true,
           "subunitcolor": "#506784"
          },
          "hoverlabel": {
           "align": "left"
          },
          "hovermode": "closest",
          "mapbox": {
           "style": "dark"
          },
          "paper_bgcolor": "rgb(17,17,17)",
          "plot_bgcolor": "rgb(17,17,17)",
          "polar": {
           "angularaxis": {
            "gridcolor": "#506784",
            "linecolor": "#506784",
            "ticks": ""
           },
           "bgcolor": "rgb(17,17,17)",
           "radialaxis": {
            "gridcolor": "#506784",
            "linecolor": "#506784",
            "ticks": ""
           }
          },
          "scene": {
           "xaxis": {
            "backgroundcolor": "rgb(17,17,17)",
            "gridcolor": "#506784",
            "gridwidth": 2,
            "linecolor": "#506784",
            "showbackground": true,
            "ticks": "",
            "zerolinecolor": "#C8D4E3"
           },
           "yaxis": {
            "backgroundcolor": "rgb(17,17,17)",
            "gridcolor": "#506784",
            "gridwidth": 2,
            "linecolor": "#506784",
            "showbackground": true,
            "ticks": "",
            "zerolinecolor": "#C8D4E3"
           },
           "zaxis": {
            "backgroundcolor": "rgb(17,17,17)",
            "gridcolor": "#506784",
            "gridwidth": 2,
            "linecolor": "#506784",
            "showbackground": true,
            "ticks": "",
            "zerolinecolor": "#C8D4E3"
           }
          },
          "shapedefaults": {
           "line": {
            "color": "#f2f5fa"
           }
          },
          "sliderdefaults": {
           "bgcolor": "#C8D4E3",
           "bordercolor": "rgb(17,17,17)",
           "borderwidth": 1,
           "tickwidth": 0
          },
          "ternary": {
           "aaxis": {
            "gridcolor": "#506784",
            "linecolor": "#506784",
            "ticks": ""
           },
           "baxis": {
            "gridcolor": "#506784",
            "linecolor": "#506784",
            "ticks": ""
           },
           "bgcolor": "rgb(17,17,17)",
           "caxis": {
            "gridcolor": "#506784",
            "linecolor": "#506784",
            "ticks": ""
           }
          },
          "title": {
           "x": 0.05
          },
          "updatemenudefaults": {
           "bgcolor": "#506784",
           "borderwidth": 0
          },
          "xaxis": {
           "automargin": true,
           "gridcolor": "#283442",
           "linecolor": "#506784",
           "ticks": "",
           "title": {
            "standoff": 15
           },
           "zerolinecolor": "#283442",
           "zerolinewidth": 2
          },
          "yaxis": {
           "automargin": true,
           "gridcolor": "#283442",
           "linecolor": "#506784",
           "ticks": "",
           "title": {
            "standoff": 15
           },
           "zerolinecolor": "#283442",
           "zerolinewidth": 2
          }
         }
        },
        "title": {
         "text": "Mobile App - Rating Trend"
        },
        "xaxis": {
         "anchor": "y",
         "domain": [
          0,
          0.94
         ],
         "title": {
          "text": "Date"
         }
        },
        "yaxis": {
         "anchor": "x",
         "domain": [
          0,
          1
         ],
         "range": [
          1,
          5
         ],
         "title": {
          "text": "Average Rating"
         }
        },
        "yaxis2": {
         "anchor": "x",
         "overlaying": "y",
         "side": "right",
         "title": {
          "text": "Number of Reviews"
         }
        }
       }
      }
     },
     "metadata": {},
     "output_type": "display_data"
    }
   ],
   "source": [
    "# Check date column before plotting trends\n",
    "print(\"Checking date column status:\")\n",
    "if 'date' in analyzed_df.columns:\n",
    "    # Count valid dates\n",
    "    valid_dates = analyzed_df['date'].notna().sum()\n",
    "    total_rows = len(analyzed_df)\n",
    "    print(f\"Date column has {valid_dates} valid dates out of {total_rows} records ({valid_dates/total_rows*100:.2f}%)\")\n",
    "    \n",
    "    # If no valid dates, try to create them from timestamp\n",
    "    if valid_dates == 0 and 'timestamp' in analyzed_df.columns:\n",
    "        print(\"Attempting to create dates from timestamp column...\")\n",
    "        # Convert timestamp to date if possible\n",
    "        try:\n",
    "            analyzed_df['date'] = pd.to_datetime(analyzed_df['timestamp'], unit='s', errors='coerce')\n",
    "            valid_dates = analyzed_df['date'].notna().sum()\n",
    "            print(f\"After conversion: {valid_dates} valid dates ({valid_dates/total_rows*100:.2f}%)\")\n",
    "        except Exception as e:\n",
    "            print(f\"Error converting timestamps: {e}\")\n",
    "    \n",
    "    # If we still don't have valid dates, generate artificial ones for demo\n",
    "    if valid_dates == 0:\n",
    "        print(\"No valid dates found. Creating artificial dates for demonstration...\")\n",
    "        import numpy as np\n",
    "        from datetime import datetime, timedelta\n",
    "        \n",
    "        # Create dates going back from today\n",
    "        end_date = datetime.now()\n",
    "        start_date = end_date - timedelta(days=180)  # 6 months of data\n",
    "        \n",
    "        # Generate random dates within range\n",
    "        days_range = (end_date - start_date).days\n",
    "        random_days = np.random.randint(0, days_range, size=len(analyzed_df))\n",
    "        analyzed_df['date'] = [start_date + timedelta(days=int(days)) for days in random_days]\n",
    "        \n",
    "        # Sort by date to make trend more realistic\n",
    "        analyzed_df = analyzed_df.sort_values('date')\n",
    "        \n",
    "        print(f\"Created {len(analyzed_df)} artificial dates for demonstration\")\n",
    "else:\n",
    "    print(\"No date column found in the DataFrame\")\n",
    "\n",
    "# Now create the rating trend visualization\n",
    "print(\"\\nCreating rating trend visualization...\")\n",
    "trend_viz = runner.visualizer.plot_rating_trend(\n",
    "    data=analyzed_df,\n",
    "    title=\"Mobile App - Rating Trend\",\n",
    "    freq=\"W\",  # Weekly\n",
    "    use_plotly=True,\n",
    "    close_fig=False\n",
    ")\n",
    "\n",
    "# Display the figure\n",
    "trend_viz[\"figure\"].show()"
   ]
  },
  {
   "cell_type": "markdown",
   "metadata": {},
   "source": [
    "## Sentiment Distribution\n",
    "\n",
    "Let's visualize the sentiment distribution."
   ]
  },
  {
   "cell_type": "code",
   "execution_count": 16,
   "metadata": {},
   "outputs": [
    {
     "name": "stdout",
     "output_type": "stream",
     "text": [
      "Checking sentiment column status:\n",
      "Sentiment distribution:\n",
      "  negative: 2194 (49.89%)\n",
      "  positive: 1993 (45.32%)\n",
      "  neutral: 211 (4.80%)\n",
      "\n",
      "Creating sentiment distribution visualization...\n"
     ]
    },
    {
     "data": {
      "application/vnd.plotly.v1+json": {
       "config": {
        "plotlyServerURL": "https://plot.ly"
       },
       "data": [
        {
         "customdata": [
          [
           "negative"
          ],
          [
           "positive"
          ],
          [
           "neutral"
          ]
         ],
         "domain": {
          "x": [
           0,
           1
          ],
          "y": [
           0,
           1
          ]
         },
         "hole": 0.4,
         "hovertemplate": "label=%{label}<br>value=%{value}<br>color=%{customdata[0]}<extra></extra>",
         "labels": [
          "negative",
          "positive",
          "neutral"
         ],
         "legendgroup": "",
         "marker": {
          "colors": [
           "#d62728",
           "#2ca02c",
           "#7f7f7f"
          ]
         },
         "name": "",
         "pull": [
          0,
          0,
          0
         ],
         "showlegend": true,
         "textinfo": "percent+label",
         "textposition": "inside",
         "type": "pie",
         "values": {
          "bdata": "kgjJB9MA",
          "dtype": "i2"
         }
        }
       ],
       "layout": {
        "legend": {
         "tracegroupgap": 0
        },
        "template": {
         "data": {
          "bar": [
           {
            "error_x": {
             "color": "#f2f5fa"
            },
            "error_y": {
             "color": "#f2f5fa"
            },
            "marker": {
             "line": {
              "color": "rgb(17,17,17)",
              "width": 0.5
             },
             "pattern": {
              "fillmode": "overlay",
              "size": 10,
              "solidity": 0.2
             }
            },
            "type": "bar"
           }
          ],
          "barpolar": [
           {
            "marker": {
             "line": {
              "color": "rgb(17,17,17)",
              "width": 0.5
             },
             "pattern": {
              "fillmode": "overlay",
              "size": 10,
              "solidity": 0.2
             }
            },
            "type": "barpolar"
           }
          ],
          "carpet": [
           {
            "aaxis": {
             "endlinecolor": "#A2B1C6",
             "gridcolor": "#506784",
             "linecolor": "#506784",
             "minorgridcolor": "#506784",
             "startlinecolor": "#A2B1C6"
            },
            "baxis": {
             "endlinecolor": "#A2B1C6",
             "gridcolor": "#506784",
             "linecolor": "#506784",
             "minorgridcolor": "#506784",
             "startlinecolor": "#A2B1C6"
            },
            "type": "carpet"
           }
          ],
          "choropleth": [
           {
            "colorbar": {
             "outlinewidth": 0,
             "ticks": ""
            },
            "type": "choropleth"
           }
          ],
          "contour": [
           {
            "colorbar": {
             "outlinewidth": 0,
             "ticks": ""
            },
            "colorscale": [
             [
              0,
              "#0d0887"
             ],
             [
              0.1111111111111111,
              "#46039f"
             ],
             [
              0.2222222222222222,
              "#7201a8"
             ],
             [
              0.3333333333333333,
              "#9c179e"
             ],
             [
              0.4444444444444444,
              "#bd3786"
             ],
             [
              0.5555555555555556,
              "#d8576b"
             ],
             [
              0.6666666666666666,
              "#ed7953"
             ],
             [
              0.7777777777777778,
              "#fb9f3a"
             ],
             [
              0.8888888888888888,
              "#fdca26"
             ],
             [
              1,
              "#f0f921"
             ]
            ],
            "type": "contour"
           }
          ],
          "contourcarpet": [
           {
            "colorbar": {
             "outlinewidth": 0,
             "ticks": ""
            },
            "type": "contourcarpet"
           }
          ],
          "heatmap": [
           {
            "colorbar": {
             "outlinewidth": 0,
             "ticks": ""
            },
            "colorscale": [
             [
              0,
              "#0d0887"
             ],
             [
              0.1111111111111111,
              "#46039f"
             ],
             [
              0.2222222222222222,
              "#7201a8"
             ],
             [
              0.3333333333333333,
              "#9c179e"
             ],
             [
              0.4444444444444444,
              "#bd3786"
             ],
             [
              0.5555555555555556,
              "#d8576b"
             ],
             [
              0.6666666666666666,
              "#ed7953"
             ],
             [
              0.7777777777777778,
              "#fb9f3a"
             ],
             [
              0.8888888888888888,
              "#fdca26"
             ],
             [
              1,
              "#f0f921"
             ]
            ],
            "type": "heatmap"
           }
          ],
          "histogram": [
           {
            "marker": {
             "pattern": {
              "fillmode": "overlay",
              "size": 10,
              "solidity": 0.2
             }
            },
            "type": "histogram"
           }
          ],
          "histogram2d": [
           {
            "colorbar": {
             "outlinewidth": 0,
             "ticks": ""
            },
            "colorscale": [
             [
              0,
              "#0d0887"
             ],
             [
              0.1111111111111111,
              "#46039f"
             ],
             [
              0.2222222222222222,
              "#7201a8"
             ],
             [
              0.3333333333333333,
              "#9c179e"
             ],
             [
              0.4444444444444444,
              "#bd3786"
             ],
             [
              0.5555555555555556,
              "#d8576b"
             ],
             [
              0.6666666666666666,
              "#ed7953"
             ],
             [
              0.7777777777777778,
              "#fb9f3a"
             ],
             [
              0.8888888888888888,
              "#fdca26"
             ],
             [
              1,
              "#f0f921"
             ]
            ],
            "type": "histogram2d"
           }
          ],
          "histogram2dcontour": [
           {
            "colorbar": {
             "outlinewidth": 0,
             "ticks": ""
            },
            "colorscale": [
             [
              0,
              "#0d0887"
             ],
             [
              0.1111111111111111,
              "#46039f"
             ],
             [
              0.2222222222222222,
              "#7201a8"
             ],
             [
              0.3333333333333333,
              "#9c179e"
             ],
             [
              0.4444444444444444,
              "#bd3786"
             ],
             [
              0.5555555555555556,
              "#d8576b"
             ],
             [
              0.6666666666666666,
              "#ed7953"
             ],
             [
              0.7777777777777778,
              "#fb9f3a"
             ],
             [
              0.8888888888888888,
              "#fdca26"
             ],
             [
              1,
              "#f0f921"
             ]
            ],
            "type": "histogram2dcontour"
           }
          ],
          "mesh3d": [
           {
            "colorbar": {
             "outlinewidth": 0,
             "ticks": ""
            },
            "type": "mesh3d"
           }
          ],
          "parcoords": [
           {
            "line": {
             "colorbar": {
              "outlinewidth": 0,
              "ticks": ""
             }
            },
            "type": "parcoords"
           }
          ],
          "pie": [
           {
            "automargin": true,
            "type": "pie"
           }
          ],
          "scatter": [
           {
            "marker": {
             "line": {
              "color": "#283442"
             }
            },
            "type": "scatter"
           }
          ],
          "scatter3d": [
           {
            "line": {
             "colorbar": {
              "outlinewidth": 0,
              "ticks": ""
             }
            },
            "marker": {
             "colorbar": {
              "outlinewidth": 0,
              "ticks": ""
             }
            },
            "type": "scatter3d"
           }
          ],
          "scattercarpet": [
           {
            "marker": {
             "colorbar": {
              "outlinewidth": 0,
              "ticks": ""
             }
            },
            "type": "scattercarpet"
           }
          ],
          "scattergeo": [
           {
            "marker": {
             "colorbar": {
              "outlinewidth": 0,
              "ticks": ""
             }
            },
            "type": "scattergeo"
           }
          ],
          "scattergl": [
           {
            "marker": {
             "line": {
              "color": "#283442"
             }
            },
            "type": "scattergl"
           }
          ],
          "scattermap": [
           {
            "marker": {
             "colorbar": {
              "outlinewidth": 0,
              "ticks": ""
             }
            },
            "type": "scattermap"
           }
          ],
          "scattermapbox": [
           {
            "marker": {
             "colorbar": {
              "outlinewidth": 0,
              "ticks": ""
             }
            },
            "type": "scattermapbox"
           }
          ],
          "scatterpolar": [
           {
            "marker": {
             "colorbar": {
              "outlinewidth": 0,
              "ticks": ""
             }
            },
            "type": "scatterpolar"
           }
          ],
          "scatterpolargl": [
           {
            "marker": {
             "colorbar": {
              "outlinewidth": 0,
              "ticks": ""
             }
            },
            "type": "scatterpolargl"
           }
          ],
          "scatterternary": [
           {
            "marker": {
             "colorbar": {
              "outlinewidth": 0,
              "ticks": ""
             }
            },
            "type": "scatterternary"
           }
          ],
          "surface": [
           {
            "colorbar": {
             "outlinewidth": 0,
             "ticks": ""
            },
            "colorscale": [
             [
              0,
              "#0d0887"
             ],
             [
              0.1111111111111111,
              "#46039f"
             ],
             [
              0.2222222222222222,
              "#7201a8"
             ],
             [
              0.3333333333333333,
              "#9c179e"
             ],
             [
              0.4444444444444444,
              "#bd3786"
             ],
             [
              0.5555555555555556,
              "#d8576b"
             ],
             [
              0.6666666666666666,
              "#ed7953"
             ],
             [
              0.7777777777777778,
              "#fb9f3a"
             ],
             [
              0.8888888888888888,
              "#fdca26"
             ],
             [
              1,
              "#f0f921"
             ]
            ],
            "type": "surface"
           }
          ],
          "table": [
           {
            "cells": {
             "fill": {
              "color": "#506784"
             },
             "line": {
              "color": "rgb(17,17,17)"
             }
            },
            "header": {
             "fill": {
              "color": "#2a3f5f"
             },
             "line": {
              "color": "rgb(17,17,17)"
             }
            },
            "type": "table"
           }
          ]
         },
         "layout": {
          "annotationdefaults": {
           "arrowcolor": "#f2f5fa",
           "arrowhead": 0,
           "arrowwidth": 1
          },
          "autotypenumbers": "strict",
          "coloraxis": {
           "colorbar": {
            "outlinewidth": 0,
            "ticks": ""
           }
          },
          "colorscale": {
           "diverging": [
            [
             0,
             "#8e0152"
            ],
            [
             0.1,
             "#c51b7d"
            ],
            [
             0.2,
             "#de77ae"
            ],
            [
             0.3,
             "#f1b6da"
            ],
            [
             0.4,
             "#fde0ef"
            ],
            [
             0.5,
             "#f7f7f7"
            ],
            [
             0.6,
             "#e6f5d0"
            ],
            [
             0.7,
             "#b8e186"
            ],
            [
             0.8,
             "#7fbc41"
            ],
            [
             0.9,
             "#4d9221"
            ],
            [
             1,
             "#276419"
            ]
           ],
           "sequential": [
            [
             0,
             "#0d0887"
            ],
            [
             0.1111111111111111,
             "#46039f"
            ],
            [
             0.2222222222222222,
             "#7201a8"
            ],
            [
             0.3333333333333333,
             "#9c179e"
            ],
            [
             0.4444444444444444,
             "#bd3786"
            ],
            [
             0.5555555555555556,
             "#d8576b"
            ],
            [
             0.6666666666666666,
             "#ed7953"
            ],
            [
             0.7777777777777778,
             "#fb9f3a"
            ],
            [
             0.8888888888888888,
             "#fdca26"
            ],
            [
             1,
             "#f0f921"
            ]
           ],
           "sequentialminus": [
            [
             0,
             "#0d0887"
            ],
            [
             0.1111111111111111,
             "#46039f"
            ],
            [
             0.2222222222222222,
             "#7201a8"
            ],
            [
             0.3333333333333333,
             "#9c179e"
            ],
            [
             0.4444444444444444,
             "#bd3786"
            ],
            [
             0.5555555555555556,
             "#d8576b"
            ],
            [
             0.6666666666666666,
             "#ed7953"
            ],
            [
             0.7777777777777778,
             "#fb9f3a"
            ],
            [
             0.8888888888888888,
             "#fdca26"
            ],
            [
             1,
             "#f0f921"
            ]
           ]
          },
          "colorway": [
           "#636efa",
           "#EF553B",
           "#00cc96",
           "#ab63fa",
           "#FFA15A",
           "#19d3f3",
           "#FF6692",
           "#B6E880",
           "#FF97FF",
           "#FECB52"
          ],
          "font": {
           "color": "#f2f5fa"
          },
          "geo": {
           "bgcolor": "rgb(17,17,17)",
           "lakecolor": "rgb(17,17,17)",
           "landcolor": "rgb(17,17,17)",
           "showlakes": true,
           "showland": true,
           "subunitcolor": "#506784"
          },
          "hoverlabel": {
           "align": "left"
          },
          "hovermode": "closest",
          "mapbox": {
           "style": "dark"
          },
          "paper_bgcolor": "rgb(17,17,17)",
          "plot_bgcolor": "rgb(17,17,17)",
          "polar": {
           "angularaxis": {
            "gridcolor": "#506784",
            "linecolor": "#506784",
            "ticks": ""
           },
           "bgcolor": "rgb(17,17,17)",
           "radialaxis": {
            "gridcolor": "#506784",
            "linecolor": "#506784",
            "ticks": ""
           }
          },
          "scene": {
           "xaxis": {
            "backgroundcolor": "rgb(17,17,17)",
            "gridcolor": "#506784",
            "gridwidth": 2,
            "linecolor": "#506784",
            "showbackground": true,
            "ticks": "",
            "zerolinecolor": "#C8D4E3"
           },
           "yaxis": {
            "backgroundcolor": "rgb(17,17,17)",
            "gridcolor": "#506784",
            "gridwidth": 2,
            "linecolor": "#506784",
            "showbackground": true,
            "ticks": "",
            "zerolinecolor": "#C8D4E3"
           },
           "zaxis": {
            "backgroundcolor": "rgb(17,17,17)",
            "gridcolor": "#506784",
            "gridwidth": 2,
            "linecolor": "#506784",
            "showbackground": true,
            "ticks": "",
            "zerolinecolor": "#C8D4E3"
           }
          },
          "shapedefaults": {
           "line": {
            "color": "#f2f5fa"
           }
          },
          "sliderdefaults": {
           "bgcolor": "#C8D4E3",
           "bordercolor": "rgb(17,17,17)",
           "borderwidth": 1,
           "tickwidth": 0
          },
          "ternary": {
           "aaxis": {
            "gridcolor": "#506784",
            "linecolor": "#506784",
            "ticks": ""
           },
           "baxis": {
            "gridcolor": "#506784",
            "linecolor": "#506784",
            "ticks": ""
           },
           "bgcolor": "rgb(17,17,17)",
           "caxis": {
            "gridcolor": "#506784",
            "linecolor": "#506784",
            "ticks": ""
           }
          },
          "title": {
           "x": 0.05
          },
          "updatemenudefaults": {
           "bgcolor": "#506784",
           "borderwidth": 0
          },
          "xaxis": {
           "automargin": true,
           "gridcolor": "#283442",
           "linecolor": "#506784",
           "ticks": "",
           "title": {
            "standoff": 15
           },
           "zerolinecolor": "#283442",
           "zerolinewidth": 2
          },
          "yaxis": {
           "automargin": true,
           "gridcolor": "#283442",
           "linecolor": "#506784",
           "ticks": "",
           "title": {
            "standoff": 15
           },
           "zerolinecolor": "#283442",
           "zerolinewidth": 2
          }
         }
        },
        "title": {
         "text": "Mobile App - Sentiment Distribution"
        }
       }
      }
     },
     "metadata": {},
     "output_type": "display_data"
    }
   ],
   "source": [
    "# Check sentiment column before visualization\n",
    "print(\"Checking sentiment column status:\")\n",
    "if 'sentiment' in analyzed_df.columns:\n",
    "    # Count each sentiment type\n",
    "    sentiment_counts = analyzed_df['sentiment'].value_counts()\n",
    "    print(\"Sentiment distribution:\")\n",
    "    for sentiment, count in sentiment_counts.items():\n",
    "        print(f\"  {sentiment}: {count} ({count/len(analyzed_df)*100:.2f}%)\")\n",
    "else:\n",
    "    print(\"No sentiment column found. Adding basic sentiment for demonstration...\")\n",
    "    # Create sentiment based on rating if available\n",
    "    if 'rating' in analyzed_df.columns:\n",
    "        analyzed_df['sentiment'] = analyzed_df['rating'].apply(\n",
    "            lambda r: 'positive' if r >= 4 else ('negative' if r <= 2 else 'neutral')\n",
    "        )\n",
    "        \n",
    "        # Check the new sentiment distribution\n",
    "        sentiment_counts = analyzed_df['sentiment'].value_counts()\n",
    "        print(\"Created sentiment based on ratings:\")\n",
    "        for sentiment, count in sentiment_counts.items():\n",
    "            print(f\"  {sentiment}: {count} ({count/len(analyzed_df)*100:.2f}%)\")\n",
    "    else:\n",
    "        # Create random sentiment if no rating column\n",
    "        import numpy as np\n",
    "        sentiments = ['positive', 'neutral', 'negative']\n",
    "        weights = [0.4, 0.3, 0.3]  # Typical distribution\n",
    "        analyzed_df['sentiment'] = np.random.choice(sentiments, size=len(analyzed_df), p=weights)\n",
    "        print(\"Created random sentiment distribution for demonstration\")\n",
    "\n",
    "# Create sentiment distribution visualization\n",
    "print(\"\\nCreating sentiment distribution visualization...\")\n",
    "sentiment_viz = runner.visualizer.plot_sentiment_distribution(\n",
    "    data=analyzed_df,\n",
    "    title=\"Mobile App - Sentiment Distribution\",\n",
    "    use_plotly=True,\n",
    "    close_fig=False\n",
    ")\n",
    "\n",
    "# Display the figure\n",
    "sentiment_viz[\"figure\"].show()"
   ]
  },
  {
   "cell_type": "markdown",
   "metadata": {},
   "source": [
    "## Topic Distribution\n",
    "\n",
    "Let's visualize the distribution of topics."
   ]
  },
  {
   "cell_type": "code",
   "execution_count": 17,
   "metadata": {},
   "outputs": [
    {
     "name": "stdout",
     "output_type": "stream",
     "text": [
      "Checking topic information:\n",
      "Found 4282 reviews with valid topics out of 4398 (97.36%)\n",
      "Topic model has 10 topics\n",
      "\n",
      "Sample topics and their words:\n",
      "Topic 0: indigo, flight, experience, excellent, best\n",
      "Topic 1: app, worst, bad, pathetic, experience\n",
      "Topic 2: flight, application, number, phone, slow\n",
      "\n",
      "Creating topic distribution visualization...\n"
     ]
    },
    {
     "data": {
      "application/vnd.plotly.v1+json": {
       "config": {
        "plotlyServerURL": "https://plot.ly"
       },
       "data": [
        {
         "hovertemplate": "topic=%{x}<br>count=%{marker.color}<extra></extra>",
         "legendgroup": "",
         "marker": {
          "color": {
           "bdata": "egI6AawA4AB4A20A9AO/AS4BtAA=",
           "dtype": "i2"
          },
          "coloraxis": "coloraxis",
          "pattern": {
           "shape": ""
          }
         },
         "name": "",
         "orientation": "v",
         "showlegend": false,
         "textposition": "auto",
         "type": "bar",
         "x": [
          "Topic 0: indigo, flight, experience",
          "Topic 1: app, worst, bad",
          "Topic 2: flight, application, number",
          "Topic 3: booking, great, upcoming",
          "Topic 4: app, work, time",
          "Topic 5: seat, delhi, awesome",
          "Topic 6: good, nice, boarding",
          "Topic 7: app, booking, update",
          "Topic 8: service, customer, indigo",
          "Topic 9: version, new, app"
         ],
         "xaxis": "x",
         "y": {
          "bdata": "egI6AawA4AB4A20A9AO/AS4BtAA=",
          "dtype": "i2"
         },
         "yaxis": "y"
        }
       ],
       "layout": {
        "annotations": [
         {
          "showarrow": false,
          "text": "14.8%",
          "x": "Topic 0: indigo, flight, experience",
          "y": 634,
          "yshift": 10
         },
         {
          "showarrow": false,
          "text": "7.3%",
          "x": "Topic 1: app, worst, bad",
          "y": 314,
          "yshift": 10
         },
         {
          "showarrow": false,
          "text": "4.0%",
          "x": "Topic 2: flight, application, number",
          "y": 172,
          "yshift": 10
         },
         {
          "showarrow": false,
          "text": "5.2%",
          "x": "Topic 3: booking, great, upcoming",
          "y": 224,
          "yshift": 10
         },
         {
          "showarrow": false,
          "text": "20.7%",
          "x": "Topic 4: app, work, time",
          "y": 888,
          "yshift": 10
         },
         {
          "showarrow": false,
          "text": "2.5%",
          "x": "Topic 5: seat, delhi, awesome",
          "y": 109,
          "yshift": 10
         },
         {
          "showarrow": false,
          "text": "23.6%",
          "x": "Topic 6: good, nice, boarding",
          "y": 1012,
          "yshift": 10
         },
         {
          "showarrow": false,
          "text": "10.4%",
          "x": "Topic 7: app, booking, update",
          "y": 447,
          "yshift": 10
         },
         {
          "showarrow": false,
          "text": "7.1%",
          "x": "Topic 8: service, customer, indigo",
          "y": 302,
          "yshift": 10
         },
         {
          "showarrow": false,
          "text": "4.2%",
          "x": "Topic 9: version, new, app",
          "y": 180,
          "yshift": 10
         }
        ],
        "barmode": "relative",
        "coloraxis": {
         "colorbar": {
          "title": {
           "text": "count"
          }
         },
         "colorscale": [
          [
           0,
           "#440154"
          ],
          [
           0.1111111111111111,
           "#482878"
          ],
          [
           0.2222222222222222,
           "#3e4989"
          ],
          [
           0.3333333333333333,
           "#31688e"
          ],
          [
           0.4444444444444444,
           "#26828e"
          ],
          [
           0.5555555555555556,
           "#1f9e89"
          ],
          [
           0.6666666666666666,
           "#35b779"
          ],
          [
           0.7777777777777778,
           "#6ece58"
          ],
          [
           0.8888888888888888,
           "#b5de2b"
          ],
          [
           1,
           "#fde725"
          ]
         ]
        },
        "legend": {
         "tracegroupgap": 0
        },
        "showlegend": false,
        "template": {
         "data": {
          "bar": [
           {
            "error_x": {
             "color": "#f2f5fa"
            },
            "error_y": {
             "color": "#f2f5fa"
            },
            "marker": {
             "line": {
              "color": "rgb(17,17,17)",
              "width": 0.5
             },
             "pattern": {
              "fillmode": "overlay",
              "size": 10,
              "solidity": 0.2
             }
            },
            "type": "bar"
           }
          ],
          "barpolar": [
           {
            "marker": {
             "line": {
              "color": "rgb(17,17,17)",
              "width": 0.5
             },
             "pattern": {
              "fillmode": "overlay",
              "size": 10,
              "solidity": 0.2
             }
            },
            "type": "barpolar"
           }
          ],
          "carpet": [
           {
            "aaxis": {
             "endlinecolor": "#A2B1C6",
             "gridcolor": "#506784",
             "linecolor": "#506784",
             "minorgridcolor": "#506784",
             "startlinecolor": "#A2B1C6"
            },
            "baxis": {
             "endlinecolor": "#A2B1C6",
             "gridcolor": "#506784",
             "linecolor": "#506784",
             "minorgridcolor": "#506784",
             "startlinecolor": "#A2B1C6"
            },
            "type": "carpet"
           }
          ],
          "choropleth": [
           {
            "colorbar": {
             "outlinewidth": 0,
             "ticks": ""
            },
            "type": "choropleth"
           }
          ],
          "contour": [
           {
            "colorbar": {
             "outlinewidth": 0,
             "ticks": ""
            },
            "colorscale": [
             [
              0,
              "#0d0887"
             ],
             [
              0.1111111111111111,
              "#46039f"
             ],
             [
              0.2222222222222222,
              "#7201a8"
             ],
             [
              0.3333333333333333,
              "#9c179e"
             ],
             [
              0.4444444444444444,
              "#bd3786"
             ],
             [
              0.5555555555555556,
              "#d8576b"
             ],
             [
              0.6666666666666666,
              "#ed7953"
             ],
             [
              0.7777777777777778,
              "#fb9f3a"
             ],
             [
              0.8888888888888888,
              "#fdca26"
             ],
             [
              1,
              "#f0f921"
             ]
            ],
            "type": "contour"
           }
          ],
          "contourcarpet": [
           {
            "colorbar": {
             "outlinewidth": 0,
             "ticks": ""
            },
            "type": "contourcarpet"
           }
          ],
          "heatmap": [
           {
            "colorbar": {
             "outlinewidth": 0,
             "ticks": ""
            },
            "colorscale": [
             [
              0,
              "#0d0887"
             ],
             [
              0.1111111111111111,
              "#46039f"
             ],
             [
              0.2222222222222222,
              "#7201a8"
             ],
             [
              0.3333333333333333,
              "#9c179e"
             ],
             [
              0.4444444444444444,
              "#bd3786"
             ],
             [
              0.5555555555555556,
              "#d8576b"
             ],
             [
              0.6666666666666666,
              "#ed7953"
             ],
             [
              0.7777777777777778,
              "#fb9f3a"
             ],
             [
              0.8888888888888888,
              "#fdca26"
             ],
             [
              1,
              "#f0f921"
             ]
            ],
            "type": "heatmap"
           }
          ],
          "histogram": [
           {
            "marker": {
             "pattern": {
              "fillmode": "overlay",
              "size": 10,
              "solidity": 0.2
             }
            },
            "type": "histogram"
           }
          ],
          "histogram2d": [
           {
            "colorbar": {
             "outlinewidth": 0,
             "ticks": ""
            },
            "colorscale": [
             [
              0,
              "#0d0887"
             ],
             [
              0.1111111111111111,
              "#46039f"
             ],
             [
              0.2222222222222222,
              "#7201a8"
             ],
             [
              0.3333333333333333,
              "#9c179e"
             ],
             [
              0.4444444444444444,
              "#bd3786"
             ],
             [
              0.5555555555555556,
              "#d8576b"
             ],
             [
              0.6666666666666666,
              "#ed7953"
             ],
             [
              0.7777777777777778,
              "#fb9f3a"
             ],
             [
              0.8888888888888888,
              "#fdca26"
             ],
             [
              1,
              "#f0f921"
             ]
            ],
            "type": "histogram2d"
           }
          ],
          "histogram2dcontour": [
           {
            "colorbar": {
             "outlinewidth": 0,
             "ticks": ""
            },
            "colorscale": [
             [
              0,
              "#0d0887"
             ],
             [
              0.1111111111111111,
              "#46039f"
             ],
             [
              0.2222222222222222,
              "#7201a8"
             ],
             [
              0.3333333333333333,
              "#9c179e"
             ],
             [
              0.4444444444444444,
              "#bd3786"
             ],
             [
              0.5555555555555556,
              "#d8576b"
             ],
             [
              0.6666666666666666,
              "#ed7953"
             ],
             [
              0.7777777777777778,
              "#fb9f3a"
             ],
             [
              0.8888888888888888,
              "#fdca26"
             ],
             [
              1,
              "#f0f921"
             ]
            ],
            "type": "histogram2dcontour"
           }
          ],
          "mesh3d": [
           {
            "colorbar": {
             "outlinewidth": 0,
             "ticks": ""
            },
            "type": "mesh3d"
           }
          ],
          "parcoords": [
           {
            "line": {
             "colorbar": {
              "outlinewidth": 0,
              "ticks": ""
             }
            },
            "type": "parcoords"
           }
          ],
          "pie": [
           {
            "automargin": true,
            "type": "pie"
           }
          ],
          "scatter": [
           {
            "marker": {
             "line": {
              "color": "#283442"
             }
            },
            "type": "scatter"
           }
          ],
          "scatter3d": [
           {
            "line": {
             "colorbar": {
              "outlinewidth": 0,
              "ticks": ""
             }
            },
            "marker": {
             "colorbar": {
              "outlinewidth": 0,
              "ticks": ""
             }
            },
            "type": "scatter3d"
           }
          ],
          "scattercarpet": [
           {
            "marker": {
             "colorbar": {
              "outlinewidth": 0,
              "ticks": ""
             }
            },
            "type": "scattercarpet"
           }
          ],
          "scattergeo": [
           {
            "marker": {
             "colorbar": {
              "outlinewidth": 0,
              "ticks": ""
             }
            },
            "type": "scattergeo"
           }
          ],
          "scattergl": [
           {
            "marker": {
             "line": {
              "color": "#283442"
             }
            },
            "type": "scattergl"
           }
          ],
          "scattermap": [
           {
            "marker": {
             "colorbar": {
              "outlinewidth": 0,
              "ticks": ""
             }
            },
            "type": "scattermap"
           }
          ],
          "scattermapbox": [
           {
            "marker": {
             "colorbar": {
              "outlinewidth": 0,
              "ticks": ""
             }
            },
            "type": "scattermapbox"
           }
          ],
          "scatterpolar": [
           {
            "marker": {
             "colorbar": {
              "outlinewidth": 0,
              "ticks": ""
             }
            },
            "type": "scatterpolar"
           }
          ],
          "scatterpolargl": [
           {
            "marker": {
             "colorbar": {
              "outlinewidth": 0,
              "ticks": ""
             }
            },
            "type": "scatterpolargl"
           }
          ],
          "scatterternary": [
           {
            "marker": {
             "colorbar": {
              "outlinewidth": 0,
              "ticks": ""
             }
            },
            "type": "scatterternary"
           }
          ],
          "surface": [
           {
            "colorbar": {
             "outlinewidth": 0,
             "ticks": ""
            },
            "colorscale": [
             [
              0,
              "#0d0887"
             ],
             [
              0.1111111111111111,
              "#46039f"
             ],
             [
              0.2222222222222222,
              "#7201a8"
             ],
             [
              0.3333333333333333,
              "#9c179e"
             ],
             [
              0.4444444444444444,
              "#bd3786"
             ],
             [
              0.5555555555555556,
              "#d8576b"
             ],
             [
              0.6666666666666666,
              "#ed7953"
             ],
             [
              0.7777777777777778,
              "#fb9f3a"
             ],
             [
              0.8888888888888888,
              "#fdca26"
             ],
             [
              1,
              "#f0f921"
             ]
            ],
            "type": "surface"
           }
          ],
          "table": [
           {
            "cells": {
             "fill": {
              "color": "#506784"
             },
             "line": {
              "color": "rgb(17,17,17)"
             }
            },
            "header": {
             "fill": {
              "color": "#2a3f5f"
             },
             "line": {
              "color": "rgb(17,17,17)"
             }
            },
            "type": "table"
           }
          ]
         },
         "layout": {
          "annotationdefaults": {
           "arrowcolor": "#f2f5fa",
           "arrowhead": 0,
           "arrowwidth": 1
          },
          "autotypenumbers": "strict",
          "coloraxis": {
           "colorbar": {
            "outlinewidth": 0,
            "ticks": ""
           }
          },
          "colorscale": {
           "diverging": [
            [
             0,
             "#8e0152"
            ],
            [
             0.1,
             "#c51b7d"
            ],
            [
             0.2,
             "#de77ae"
            ],
            [
             0.3,
             "#f1b6da"
            ],
            [
             0.4,
             "#fde0ef"
            ],
            [
             0.5,
             "#f7f7f7"
            ],
            [
             0.6,
             "#e6f5d0"
            ],
            [
             0.7,
             "#b8e186"
            ],
            [
             0.8,
             "#7fbc41"
            ],
            [
             0.9,
             "#4d9221"
            ],
            [
             1,
             "#276419"
            ]
           ],
           "sequential": [
            [
             0,
             "#0d0887"
            ],
            [
             0.1111111111111111,
             "#46039f"
            ],
            [
             0.2222222222222222,
             "#7201a8"
            ],
            [
             0.3333333333333333,
             "#9c179e"
            ],
            [
             0.4444444444444444,
             "#bd3786"
            ],
            [
             0.5555555555555556,
             "#d8576b"
            ],
            [
             0.6666666666666666,
             "#ed7953"
            ],
            [
             0.7777777777777778,
             "#fb9f3a"
            ],
            [
             0.8888888888888888,
             "#fdca26"
            ],
            [
             1,
             "#f0f921"
            ]
           ],
           "sequentialminus": [
            [
             0,
             "#0d0887"
            ],
            [
             0.1111111111111111,
             "#46039f"
            ],
            [
             0.2222222222222222,
             "#7201a8"
            ],
            [
             0.3333333333333333,
             "#9c179e"
            ],
            [
             0.4444444444444444,
             "#bd3786"
            ],
            [
             0.5555555555555556,
             "#d8576b"
            ],
            [
             0.6666666666666666,
             "#ed7953"
            ],
            [
             0.7777777777777778,
             "#fb9f3a"
            ],
            [
             0.8888888888888888,
             "#fdca26"
            ],
            [
             1,
             "#f0f921"
            ]
           ]
          },
          "colorway": [
           "#636efa",
           "#EF553B",
           "#00cc96",
           "#ab63fa",
           "#FFA15A",
           "#19d3f3",
           "#FF6692",
           "#B6E880",
           "#FF97FF",
           "#FECB52"
          ],
          "font": {
           "color": "#f2f5fa"
          },
          "geo": {
           "bgcolor": "rgb(17,17,17)",
           "lakecolor": "rgb(17,17,17)",
           "landcolor": "rgb(17,17,17)",
           "showlakes": true,
           "showland": true,
           "subunitcolor": "#506784"
          },
          "hoverlabel": {
           "align": "left"
          },
          "hovermode": "closest",
          "mapbox": {
           "style": "dark"
          },
          "paper_bgcolor": "rgb(17,17,17)",
          "plot_bgcolor": "rgb(17,17,17)",
          "polar": {
           "angularaxis": {
            "gridcolor": "#506784",
            "linecolor": "#506784",
            "ticks": ""
           },
           "bgcolor": "rgb(17,17,17)",
           "radialaxis": {
            "gridcolor": "#506784",
            "linecolor": "#506784",
            "ticks": ""
           }
          },
          "scene": {
           "xaxis": {
            "backgroundcolor": "rgb(17,17,17)",
            "gridcolor": "#506784",
            "gridwidth": 2,
            "linecolor": "#506784",
            "showbackground": true,
            "ticks": "",
            "zerolinecolor": "#C8D4E3"
           },
           "yaxis": {
            "backgroundcolor": "rgb(17,17,17)",
            "gridcolor": "#506784",
            "gridwidth": 2,
            "linecolor": "#506784",
            "showbackground": true,
            "ticks": "",
            "zerolinecolor": "#C8D4E3"
           },
           "zaxis": {
            "backgroundcolor": "rgb(17,17,17)",
            "gridcolor": "#506784",
            "gridwidth": 2,
            "linecolor": "#506784",
            "showbackground": true,
            "ticks": "",
            "zerolinecolor": "#C8D4E3"
           }
          },
          "shapedefaults": {
           "line": {
            "color": "#f2f5fa"
           }
          },
          "sliderdefaults": {
           "bgcolor": "#C8D4E3",
           "bordercolor": "rgb(17,17,17)",
           "borderwidth": 1,
           "tickwidth": 0
          },
          "ternary": {
           "aaxis": {
            "gridcolor": "#506784",
            "linecolor": "#506784",
            "ticks": ""
           },
           "baxis": {
            "gridcolor": "#506784",
            "linecolor": "#506784",
            "ticks": ""
           },
           "bgcolor": "rgb(17,17,17)",
           "caxis": {
            "gridcolor": "#506784",
            "linecolor": "#506784",
            "ticks": ""
           }
          },
          "title": {
           "x": 0.05
          },
          "updatemenudefaults": {
           "bgcolor": "#506784",
           "borderwidth": 0
          },
          "xaxis": {
           "automargin": true,
           "gridcolor": "#283442",
           "linecolor": "#506784",
           "ticks": "",
           "title": {
            "standoff": 15
           },
           "zerolinecolor": "#283442",
           "zerolinewidth": 2
          },
          "yaxis": {
           "automargin": true,
           "gridcolor": "#283442",
           "linecolor": "#506784",
           "ticks": "",
           "title": {
            "standoff": 15
           },
           "zerolinecolor": "#283442",
           "zerolinewidth": 2
          }
         }
        },
        "title": {
         "text": "Mobile App - Topic Distribution"
        },
        "xaxis": {
         "anchor": "y",
         "domain": [
          0,
          1
         ],
         "title": {
          "text": "Topic"
         }
        },
        "yaxis": {
         "anchor": "x",
         "domain": [
          0,
          1
         ],
         "title": {
          "text": "Number of Reviews"
         }
        }
       }
      }
     },
     "metadata": {},
     "output_type": "display_data"
    }
   ],
   "source": [
    "# Check for topic information\n",
    "print(\"Checking topic information:\")\n",
    "has_topics = 'primary_topic' in analyzed_df.columns and 'topics' in analysis_results\n",
    "\n",
    "if has_topics:\n",
    "    # Count non-null topics\n",
    "    valid_topics = analyzed_df['primary_topic'].notna().sum()\n",
    "    total_rows = len(analyzed_df)\n",
    "    print(f\"Found {valid_topics} reviews with valid topics out of {total_rows} ({valid_topics/total_rows*100:.2f}%)\")\n",
    "    \n",
    "    # Get topic model information\n",
    "    _, topic_words = analysis_results[\"topics\"]\n",
    "    topic_count = len(topic_words)\n",
    "    print(f\"Topic model has {topic_count} topics\")\n",
    "    \n",
    "    # Show a sample of topics\n",
    "    print(\"\\nSample topics and their words:\")\n",
    "    sample_size = min(3, topic_count)\n",
    "    for i, (topic_id, words) in enumerate(list(topic_words.items())[:sample_size]):\n",
    "        print(f\"Topic {topic_id}: {', '.join(words[:5])}\")\n",
    "        \n",
    "    # Create topic distribution visualization\n",
    "    print(\"\\nCreating topic distribution visualization...\")\n",
    "    topic_viz = runner.visualizer.plot_topic_distribution(\n",
    "        data=analyzed_df,\n",
    "        topic_words=topic_words,\n",
    "        title=\"Mobile App - Topic Distribution\",\n",
    "        use_plotly=True,\n",
    "        close_fig=False\n",
    "    )\n",
    "    \n",
    "    # Display the figure\n",
    "    topic_viz[\"figure\"].show()\n",
    "else:\n",
    "    print(\"No valid topic information found in the data\")\n",
    "    \n",
    "    # Check if we have primary_topic column but it's all NaN\n",
    "    if 'primary_topic' in analyzed_df.columns and analyzed_df['primary_topic'].isna().all():\n",
    "        print(\"The primary_topic column exists but contains only NaN values.\")\n",
    "        print(\"This suggests the topic modeling failed, possibly due to issues with the text data.\")\n",
    "    \n",
    "    print(\"\\nTo view topic distributions, you may need to run the analyze_reviews step again with fixed data.\")\n",
    "    print(\"For a demonstration, you can try setting USE_MOCK_DATA=true in your environment variables.\")"
   ]
  },
  {
   "cell_type": "markdown",
   "metadata": {},
   "source": [
    "## Capture insights from any source"
   ]
  },
  {
   "cell_type": "code",
   "execution_count": 39,
   "metadata": {},
   "outputs": [
    {
     "name": "stdout",
     "output_type": "stream",
     "text": [
      "Successfully stored manual insights. These will be included in future dashboards.\n",
      "\n",
      "Preview of the insights:\n",
      "==================================================\n",
      "\n",
      "<ol>\n",
      "  <li>\n",
      "    TOP 5 CRITICAL ISSUES TO FIX:\n",
      "    <ul>\n",
      "      <li><strong>Trip Details Disappearing</strong>: Users report that trip details vanish, especially after updates or logging in again. Fixing this will improve reliability and user trust. Estimated impact: High.</li>\n",
      "      <li><strong>App Crashes and Bugs</strong>: Frequent crashes and bugs, particularly after updates, are a major frustration. Stabilizing the app will enhance user experience. Estimated impact: High.</li>\n",
      "      <li><stro...\n",
      "==================================================\n",
      "Global ai_insights variable created and populated.\n",
      "Contains 2 insight categories: ['version', 'manual']\n"
     ]
    }
   ],
   "source": [
    "# Create a cell to capture and store enhanced insights from any source\n",
    "\n",
    "# Function to store and format insights\n",
    "def store_insights(insight_text, insight_type=\"manual\"):\n",
    "    \"\"\"Store insights for dashboard and display them in notebook\"\"\"\n",
    "    # Create a global ai_insights variable so other cells can access it\n",
    "    global ai_insights\n",
    "    if 'ai_insights' not in globals():\n",
    "        ai_insights = {}\n",
    "    \n",
    "    ai_insights[insight_type] = {\"analysis\": insight_text}\n",
    "    \n",
    "    print(f\"Successfully stored {insight_type} insights. These will be included in future dashboards.\")\n",
    "    print(\"\\nPreview of the insights:\")\n",
    "    print(\"=\" * 50)\n",
    "    print(insight_text[:500] + \"...\" if len(insight_text) > 500 else insight_text)\n",
    "    print(\"=\" * 50)\n",
    "    \n",
    "    return ai_insights\n",
    "\n",
    "# Example usage (uncomment and paste your own insights here)\n",
    "\n",
    "insights_text = \"\"\"\n",
    "<ol>\n",
    "  <li>\n",
    "    TOP 5 CRITICAL ISSUES TO FIX:\n",
    "    <ul>\n",
    "      <li><strong>Trip Details Disappearing</strong>: Users report that trip details vanish, especially after updates or logging in again. Fixing this will improve reliability and user trust. Estimated impact: High.</li>\n",
    "      <li><strong>App Crashes and Bugs</strong>: Frequent crashes and bugs, particularly after updates, are a major frustration. Stabilizing the app will enhance user experience. Estimated impact: High.</li>\n",
    "      <li><strong>Payment Gateway Issues</strong>: Users face extra charges and transaction failures. Streamlining the payment process will reduce friction and improve satisfaction. Estimated impact: High.</li>\n",
    "      <li><strong>Check-in and Boarding Pass Issues</strong>: Problems with web check-in and disappearing boarding passes need resolution to ensure a seamless travel experience. Estimated impact: High.</li>\n",
    "      <li><strong>Device Compatibility</strong>: The app is not compatible with certain devices, leading to user exclusion. Expanding compatibility will increase accessibility. Estimated impact: Medium.</li>\n",
    "    </ul>\n",
    "  </li>\n",
    "  <li>\n",
    "    CUSTOMER PAIN POINTS BY CATEGORY:\n",
    "    <ul>\n",
    "      <li><strong>App Performance</strong>: Frequent crashes, slow loading times, and compatibility issues with certain devices.</li>\n",
    "      <li><strong>Booking Experience</strong>: Inaccurate trip information, disappearing details, and forced seat selection.</li>\n",
    "      <li><strong>Check-in Process</strong>: Web check-in failures and boarding pass issues.</li>\n",
    "      <li><strong>Customer Support</strong>: Slow response times and inadequate issue resolution.</li>\n",
    "      <li><strong>Payment System</strong>: Extra charges, transaction failures, and refund delays.</li>\n",
    "      <li><strong>User Experience</strong>: Confusing navigation, poor UI, and forced service additions.</li>\n",
    "    </ul>\n",
    "  </li>\n",
    "  <li>\n",
    "    QUICK WINS:\n",
    "    <ul>\n",
    "      <li><strong>Improve Trip Detail Retention</strong>: Ensure trip details are saved and accessible across sessions to prevent user frustration.</li>\n",
    "      <li><strong>Enhance Payment Transparency</strong>: Clearly display all charges upfront to avoid surprise fees and improve trust.</li>\n",
    "      <li><strong>Simplify Check-in Process</strong>: Streamline web check-in and boarding pass retrieval to reduce user stress.</li>\n",
    "      <li><strong>Expand Device Compatibility</strong>: Update the app to support more devices, especially popular models like Poco M2 and OnePlus 10T.</li>\n",
    "      <li><strong>Fix UI Glitches</strong>: Address minor UI issues to improve overall navigation and user satisfaction.</li>\n",
    "    </ul>\n",
    "  </li>\n",
    "  <li>\n",
    "    STRENGTHS TO BUILD UPON:\n",
    "    <ul>\n",
    "      <li><strong>Customer Service</strong>: Positive feedback on staff professionalism and attentiveness can be leveraged to enhance the brand image.</li>\n",
    "      <li><strong>Ease of Use</strong>: Users appreciate the app's potential for easy and fast processes; focus on maintaining and improving this aspect.</li>\n",
    "      <li><strong>Remote Location Service</strong>: The app's utility for remote locations is valued; continue to support and expand this feature.</li>\n",
    "      <li><strong>Positive Booking Experience</strong>: Some users find the booking process smooth; ensure this remains consistent across updates.</li>\n",
    "    </ul>\n",
    "  </li>\n",
    "</ol>\n",
    "\"\"\"\n",
    "\n",
    "# Store the insights and make them available globally\n",
    "ai_insights = store_insights(insights_text, \"manual\")\n",
    "\n",
    "# Print confirmation of the global variable's contents\n",
    "print(\"Global ai_insights variable created and populated.\")\n",
    "print(f\"Contains {len(ai_insights)} insight categories: {list(ai_insights.keys())}\")\n",
    "\n",
    "# If needed for testing, we can also store the insights in another format\n",
    "# dashboard_insights = {\"ai_insights\": ai_insights}\n",
    "# print(f\"Dashboard-ready insights variable created.\")"
   ]
  },
  {
   "cell_type": "markdown",
   "metadata": {},
   "source": [
    "# Vector DB: Indexing Reviews"
   ]
  },
  {
   "cell_type": "code",
   "execution_count": null,
   "metadata": {},
   "outputs": [],
   "source": [
    "# Index reviews in vector database\n",
    "success = runner.index_reviews(analyzed_df)\n",
    "print(f\"Indexed reviews successfully: {success}\")\n",
    "\n",
    "# Get vector database stats\n",
    "stats = runner.vector_db.get_collection_stats()\n",
    "print(\"\\nVector Database Stats:\")\n",
    "for key, value in stats.items():\n",
    "    print(f\"{key}: {value}\")"
   ]
  },
  {
   "cell_type": "markdown",
   "metadata": {},
   "source": [
    "# Create a comprehensive dashboard with all our insights and visualizations"
   ]
  },
  {
   "cell_type": "code",
   "execution_count": 40,
   "metadata": {},
   "outputs": [
    {
     "name": "stdout",
     "output_type": "stream",
     "text": [
      "Dashboard created at: reports/20250508_121550/dashboard.html\n",
      "Comprehensive dashboard created at: reports/20250508_121550/dashboard.html\n",
      "\n",
      "Open this HTML file in a web browser to view the complete interactive dashboard with:\n",
      "- AI-generated insights at the top\n",
      "- All visualizations and tables embedded in a single file\n",
      "- Section-specific explanations for each visualization\n",
      "- Version analysis with multiple tables and charts\n",
      "\n",
      "This single-file dashboard is ready to share directly with clients - no need to send multiple files!\n"
     ]
    }
   ],
   "source": [
    "# Import the simple dashboard creator to generate a comprehensive dashboard\n",
    "\n",
    "# First import the module and force reload to ensure we have the latest version\n",
    "import sys\n",
    "sys.path.append('notebooks')  # Add notebooks to path\n",
    "import importlib\n",
    "import simple_dashboard\n",
    "importlib.reload(simple_dashboard)  # Force reload the module\n",
    "\n",
    "# Create output directory\n",
    "import os\n",
    "from datetime import datetime\n",
    "output_dir = os.path.join(\"reports\", datetime.now().strftime(\"%Y%m%d_%H%M%S\"))\n",
    "os.makedirs(output_dir, exist_ok=True)\n",
    "\n",
    "# Get topic words from analysis results\n",
    "_, topic_words = analysis_results[\"topics\"]\n",
    "\n",
    "# Get AI insights if available\n",
    "ai_insights = globals().get('ai_insights', None)\n",
    "\n",
    "# Get findings from version analysis\n",
    "dashboard_path = simple_dashboard.create_dashboard(\n",
    "    analyzed_df=analyzed_df,\n",
    "    output_dir=output_dir,\n",
    "    topic_words=topic_words,\n",
    "    findings=findings if 'findings' in locals() else None,\n",
    "    ai_insights=ai_insights\n",
    ")\n",
    "\n",
    "print(f\"Comprehensive dashboard created at: {dashboard_path}\")\n",
    "print(\"\\nOpen this HTML file in a web browser to view the complete interactive dashboard with:\")\n",
    "print(\"- AI-generated insights at the top\")\n",
    "print(\"- All visualizations and tables embedded in a single file\")\n",
    "print(\"- Section-specific explanations for each visualization\")\n",
    "print(\"- Version analysis with multiple tables and charts\")\n",
    "print(\"\\nThis single-file dashboard is ready to share directly with clients - no need to send multiple files!\")"
   ]
  }
 ],
 "metadata": {
  "kernelspec": {
   "display_name": "Python 3",
   "language": "python",
   "name": "python3"
  },
  "language_info": {
   "codemirror_mode": {
    "name": "ipython",
    "version": 3
   },
   "file_extension": ".py",
   "mimetype": "text/x-python",
   "name": "python",
   "nbconvert_exporter": "python",
   "pygments_lexer": "ipython3",
   "version": "3.10.12"
  }
 },
 "nbformat": 4,
 "nbformat_minor": 4
}
