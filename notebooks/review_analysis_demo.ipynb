{
 "cells": [
  {
   "cell_type": "markdown",
   "metadata": {},
   "source": [
    "# App Reviews AI - Enhanced Analysis Dashboard\n",
    "\n",
    "This notebook demonstrates how to use the App Reviews AI system to analyze app reviews from the Google Play Store and generate a comprehensive, insightful dashboard that's ready to share with stakeholders.\n",
    "\n",
    "## What's Included in the Enhanced Dashboard\n",
    "\n",
    "This notebook creates a fully comprehensive analysis dashboard that includes:\n",
    "\n",
    "1. **Interactive Visualizations**\n",
    "   - Rating distributions with trend analysis\n",
    "   - Sentiment analysis with distribution charts\n",
    "   - Topic modeling with detailed topic breakdowns\n",
    "   - Version-based analysis showing performance across app versions\n",
    "   - Keyword analysis and importance rankings\n",
    "\n",
    "2. **Explanatory Elements**\n",
    "   - Detailed explanations for each visualization\n",
    "   - Interpretation guidance for all metrics\n",
    "   - Context for why each chart matters and how to use the insights\n",
    "\n",
    "3. **Tabular Insights**\n",
    "   - Comprehensive metrics tables by version\n",
    "   - Topic details with representative keywords\n",
    "   - Keyword importance heatmaps\n",
    "   - Performance comparison across versions\n",
    "\n",
    "4. **AI-Generated Insights**\n",
    "   - Critical issues identification\n",
    "   - User pain points categorization\n",
    "   - Quick win opportunities\n",
    "   - Strengths to build upon\n",
    "   - Version-specific findings\n",
    "\n",
    "This enhanced dashboard provides a complete picture of app performance based on user reviews, with actionable insights that product managers, developers, and executives can use to drive improvements.\n",
    "\n",
    "## Options for Review Data\n",
    "\n",
    "This notebook provides multiple options for working with review data:\n",
    "\n",
    "1. **Fetch new reviews** from the Google Play Store API\n",
    "2. **Load existing reviews** from CSV storage\n",
    "3. **Retrieve reviews** from the vector database\n",
    "4. **Generate mock data** as a fallback\n",
    "\n",
    "This flexible approach allows you to run the analysis without repeatedly making API calls, which conserves API quotas and speeds up the workflow when iterating on the analysis."
   ]
  },
  {
   "cell_type": "markdown",
   "metadata": {},
   "source": [
    "# Setup\n",
    "\n",
    "First, let's set up the environment and import the necessary modules."
   ]
  },
  {
   "cell_type": "code",
   "execution_count": 1,
   "metadata": {},
   "outputs": [
    {
     "name": "stdout",
     "output_type": "stream",
     "text": [
      "Added /Users/dipesh/Local-Projects/indigo-reviews-ai to Python path\n"
     ]
    }
   ],
   "source": [
    "# Import required libraries\n",
    "import os\n",
    "import sys\n",
    "import pandas as pd\n",
    "import matplotlib.pyplot as plt\n",
    "import seaborn as sns\n",
    "from datetime import datetime\n",
    "from dotenv import load_dotenv\n",
    "\n",
    "# Add the project root to the path so we can import our modules\n",
    "# Get the absolute path to the project root\n",
    "project_root = os.path.abspath(os.path.join(os.path.dirname('__file__'), '..'))\n",
    "if project_root not in sys.path:\n",
    "    sys.path.insert(0, project_root)\n",
    "    print(f\"Added {project_root} to Python path\")\n",
    "\n",
    "# Load environment variables from .env file\n",
    "load_dotenv()\n",
    "\n",
    "# Check if OpenAI API key is available\n",
    "if not os.environ.get(\"OPENAI_API_KEY\"):\n",
    "    print(\"⚠️ WARNING: OPENAI_API_KEY not found in environment variables. Some features may not work.\")"
   ]
  },
  {
   "cell_type": "markdown",
   "metadata": {},
   "source": [
    "## Initialize the Runner\n",
    "\n",
    "Now let's import and initialize our review analysis runner."
   ]
  },
  {
   "cell_type": "code",
   "execution_count": null,
   "metadata": {},
   "outputs": [
    {
     "name": "stdout",
     "output_type": "stream",
     "text": [
      "DEBUG: Applying APP_ID from environment: 'in.goindigo.android'\n",
      "2025-05-08 15:09:47,421 - app_reviews - INFO - Initializing modules...\n",
      "2025-05-08 15:09:47,423 - app_reviews - INFO - Initializing acquisition module...\n",
      "Acquisition module using APP_ID from environment: in.goindigo.android\n",
      "2025-05-08 15:09:47,423 - app_reviews - INFO - Using app ID: in.goindigo.android\n",
      "2025-05-08 15:09:47,424 - app_reviews - INFO - Using MAX_REVIEWS from environment: 10000\n",
      "2025-05-08 15:09:47,729 - app_reviews - INFO - Initializing storage module...\n",
      "Initialize: Using default file path: /Users/dipesh/Local-Projects/indigo-reviews-ai/src/data/reviews.csv\n",
      "2025-05-08 15:09:47,731 - app_reviews - INFO - Initializing preprocessor module...\n",
      "2025-05-08 15:09:47,736 - app_reviews - INFO - Initializing analyzer module...\n",
      "2025-05-08 15:09:47,963 - app_reviews - INFO - Initializing vector database module...\n",
      "2025-05-08 15:09:48,091 - chromadb.telemetry.product.posthog - INFO - Anonymized telemetry enabled. See                     https://docs.trychroma.com/telemetry for more information.\n",
      "DEBUG: Vector DB checking USE_MOCK_DATA: 'false'\n",
      "Using OpenAI embedding function for real data mode\n",
      "Clearing existing collection: app_reviews\n",
      "Creating new collection: app_reviews\n",
      "2025-05-08 15:09:48,285 - app_reviews - INFO - Initializing LLM module...\n",
      "2025-05-08 15:09:48,688 - urllib3.connectionpool - WARNING - Retrying (Retry(total=1, connect=1, read=2, redirect=None, status=None)) after connection broken by 'NameResolutionError(\"<urllib3.connection.HTTPSConnection object at 0x149a89710>: Failed to resolve 'us.i.posthog.com' ([Errno 8] nodename nor servname provided, or not known)\")': /batch/\n",
      "2025-05-08 15:09:48,696 - urllib3.connectionpool - WARNING - Retrying (Retry(total=0, connect=0, read=2, redirect=None, status=None)) after connection broken by 'NameResolutionError(\"<urllib3.connection.HTTPSConnection object at 0x149a8a190>: Failed to resolve 'us.i.posthog.com' ([Errno 8] nodename nor servname provided, or not known)\")': /batch/\n",
      "2025-05-08 15:09:48,726 - backoff - INFO - Backing off send_request(...) for 0.6s (requests.exceptions.ConnectionError: HTTPSConnectionPool(host='us.i.posthog.com', port=443): Max retries exceeded with url: /batch/ (Caused by NameResolutionError(\"<urllib3.connection.HTTPSConnection object at 0x149a8ab90>: Failed to resolve 'us.i.posthog.com' ([Errno 8] nodename nor servname provided, or not known)\")))\n",
      "2025-05-08 15:09:49,177 - httpx - INFO - HTTP Request: POST https://api.openai.com/v1/chat/completions \"HTTP/1.1 200 OK\"\n",
      "2025-05-08 15:09:49,187 - app_reviews - INFO - Initializing visualization module...\n",
      "2025-05-08 15:09:49,191 - app_reviews - INFO - All modules initialized successfully.\n"
     ]
    },
    {
     "name": "stdout",
     "output_type": "stream",
     "text": [
      "2025-05-08 15:09:49,363 - urllib3.connectionpool - WARNING - Retrying (Retry(total=1, connect=1, read=2, redirect=None, status=None)) after connection broken by 'NameResolutionError(\"<urllib3.connection.HTTPSConnection object at 0x149a7e390>: Failed to resolve 'us.i.posthog.com' ([Errno 8] nodename nor servname provided, or not known)\")': /batch/\n",
      "2025-05-08 15:09:49,366 - urllib3.connectionpool - WARNING - Retrying (Retry(total=0, connect=0, read=2, redirect=None, status=None)) after connection broken by 'NameResolutionError(\"<urllib3.connection.HTTPSConnection object at 0x11092fad0>: Failed to resolve 'us.i.posthog.com' ([Errno 8] nodename nor servname provided, or not known)\")': /batch/\n",
      "2025-05-08 15:09:49,371 - backoff - INFO - Backing off send_request(...) for 0.4s (requests.exceptions.ConnectionError: HTTPSConnectionPool(host='us.i.posthog.com', port=443): Max retries exceeded with url: /batch/ (Caused by NameResolutionError(\"<urllib3.connection.HTTPSConnection object at 0x1492d17d0>: Failed to resolve 'us.i.posthog.com' ([Errno 8] nodename nor servname provided, or not known)\")))\n",
      "2025-05-08 15:09:49,798 - urllib3.connectionpool - WARNING - Retrying (Retry(total=1, connect=1, read=2, redirect=None, status=None)) after connection broken by 'NameResolutionError(\"<urllib3.connection.HTTPSConnection object at 0x149b05950>: Failed to resolve 'us.i.posthog.com' ([Errno 8] nodename nor servname provided, or not known)\")': /batch/\n",
      "2025-05-08 15:09:49,805 - urllib3.connectionpool - WARNING - Retrying (Retry(total=0, connect=0, read=2, redirect=None, status=None)) after connection broken by 'NameResolutionError(\"<urllib3.connection.HTTPSConnection object at 0x149b06810>: Failed to resolve 'us.i.posthog.com' ([Errno 8] nodename nor servname provided, or not known)\")': /batch/\n",
      "2025-05-08 15:09:49,814 - backoff - INFO - Backing off send_request(...) for 0.2s (requests.exceptions.ConnectionError: HTTPSConnectionPool(host='us.i.posthog.com', port=443): Max retries exceeded with url: /batch/ (Caused by NameResolutionError(\"<urllib3.connection.HTTPSConnection object at 0x149b070d0>: Failed to resolve 'us.i.posthog.com' ([Errno 8] nodename nor servname provided, or not known)\")))\n",
      "2025-05-08 15:09:49,992 - urllib3.connectionpool - WARNING - Retrying (Retry(total=1, connect=1, read=2, redirect=None, status=None)) after connection broken by 'NameResolutionError(\"<urllib3.connection.HTTPSConnection object at 0x149b07f50>: Failed to resolve 'us.i.posthog.com' ([Errno 8] nodename nor servname provided, or not known)\")': /batch/\n",
      "2025-05-08 15:09:49,995 - urllib3.connectionpool - WARNING - Retrying (Retry(total=0, connect=0, read=2, redirect=None, status=None)) after connection broken by 'NameResolutionError(\"<urllib3.connection.HTTPSConnection object at 0x149b10910>: Failed to resolve 'us.i.posthog.com' ([Errno 8] nodename nor servname provided, or not known)\")': /batch/\n",
      "2025-05-08 15:09:49,999 - backoff - ERROR - Giving up send_request(...) after 4 tries (requests.exceptions.ConnectionError: HTTPSConnectionPool(host='us.i.posthog.com', port=443): Max retries exceeded with url: /batch/ (Caused by NameResolutionError(\"<urllib3.connection.HTTPSConnection object at 0x149b11190>: Failed to resolve 'us.i.posthog.com' ([Errno 8] nodename nor servname provided, or not known)\")))\n"
     ]
    }
   ],
   "source": [
    "# Ensure all required directories exist\n",
    "import os\n",
    "os.makedirs(os.path.join('..', 'logs'), exist_ok=True)\n",
    "os.makedirs(os.path.join('..', 'data'), exist_ok=True)\n",
    "os.makedirs(os.path.join('..', 'reports'), exist_ok=True)\n",
    "\n",
    "from src.runner import ReviewAnalysisRunner\n",
    "\n",
    "# Initialize the runner\n",
    "runner = ReviewAnalysisRunner()\n",
    "\n",
    "# Initialize the modules\n",
    "runner._initialize_modules()"
   ]
  },
  {
   "cell_type": "markdown",
   "metadata": {},
   "source": [
    "## Fetch or Load App Reviews\n",
    "\n",
    "You can either fetch new reviews from the Google Play Store or load existing reviews from storage.\n",
    "Choose one of the options below based on your needs."
   ]
  },
  {
   "cell_type": "code",
   "execution_count": 3,
   "metadata": {},
   "outputs": [
    {
     "name": "stdout",
     "output_type": "stream",
     "text": [
      "Loading processed reviews from: /Users/dipesh/Local-Projects/indigo-reviews-ai/data/processed/processed_reviews.csv\n",
      "✅ Successfully loaded 10000 processed reviews from CSV file\n",
      "Data status: has_sentiment=True, has_topics=False\n",
      "\n",
      "App: Indigo\n",
      "Developer: IndiGo Airlines\n",
      "Total reviews analyzed: 10000\n",
      "Average rating: 3.17\n",
      "\n",
      "Data columns available:\n",
      "- review_id: 10000 non-null values (100.0%)\n",
      "- author: 10000 non-null values (100.0%)\n",
      "- rating: 10000 non-null values (100.0%)\n",
      "- text: 10000 non-null values (100.0%)\n",
      "- version: 10000 non-null values (100.0%)\n",
      "- thumbsUpCount: 10000 non-null values (100.0%)\n",
      "- replyContent: 157 non-null values (1.6%)\n",
      "- repliedAt: 157 non-null values (1.6%)\n",
      "- date: 10000 non-null values (100.0%)\n",
      "- timestamp: 10000 non-null values (100.0%)\n",
      "- text_length: 10000 non-null values (100.0%)\n",
      "- sentiment: 10000 non-null values (100.0%)\n",
      "- year: 10000 non-null values (100.0%)\n",
      "- month: 10000 non-null values (100.0%)\n",
      "- day_of_week: 10000 non-null values (100.0%)\n",
      "- is_weekend: 10000 non-null values (100.0%)\n",
      "- word_count: 10000 non-null values (100.0%)\n",
      "- avg_word_length: 10000 non-null values (100.0%)\n",
      "- length_category: 10000 non-null values (100.0%)\n",
      "- major_version: 10000 non-null values (100.0%)\n",
      "- cleaned_text: 9922 non-null values (99.2%)\n",
      "- normalized_text: 9738 non-null values (97.4%)\n",
      "\n",
      "Sample reviews:\n"
     ]
    },
    {
     "data": {
      "text/html": [
       "<div>\n",
       "<style scoped>\n",
       "    .dataframe tbody tr th:only-of-type {\n",
       "        vertical-align: middle;\n",
       "    }\n",
       "\n",
       "    .dataframe tbody tr th {\n",
       "        vertical-align: top;\n",
       "    }\n",
       "\n",
       "    .dataframe thead th {\n",
       "        text-align: right;\n",
       "    }\n",
       "</style>\n",
       "<table border=\"1\" class=\"dataframe\">\n",
       "  <thead>\n",
       "    <tr style=\"text-align: right;\">\n",
       "      <th></th>\n",
       "      <th>review_id</th>\n",
       "      <th>text</th>\n",
       "      <th>rating</th>\n",
       "      <th>date</th>\n",
       "      <th>version</th>\n",
       "    </tr>\n",
       "  </thead>\n",
       "  <tbody>\n",
       "    <tr>\n",
       "      <th>0</th>\n",
       "      <td>0033822f-bb10-43a1-ad24-a9504001edba</td>\n",
       "      <td>very nice</td>\n",
       "      <td>5</td>\n",
       "      <td>2025-05-07 12:19:43</td>\n",
       "      <td>7.2.0</td>\n",
       "    </tr>\n",
       "    <tr>\n",
       "      <th>1</th>\n",
       "      <td>f15ac7dd-411c-4455-bba5-f08ea195fbf6</td>\n",
       "      <td>very bad interface, booked a normal fare ticke...</td>\n",
       "      <td>1</td>\n",
       "      <td>2025-05-07 09:17:44</td>\n",
       "      <td>7.2.4</td>\n",
       "    </tr>\n",
       "    <tr>\n",
       "      <th>2</th>\n",
       "      <td>b6c32819-9275-419a-8ed5-268cf123ca7d</td>\n",
       "      <td>good update information</td>\n",
       "      <td>5</td>\n",
       "      <td>2025-05-07 07:59:32</td>\n",
       "      <td>7.2.4</td>\n",
       "    </tr>\n",
       "  </tbody>\n",
       "</table>\n",
       "</div>"
      ],
      "text/plain": [
       "                              review_id  \\\n",
       "0  0033822f-bb10-43a1-ad24-a9504001edba   \n",
       "1  f15ac7dd-411c-4455-bba5-f08ea195fbf6   \n",
       "2  b6c32819-9275-419a-8ed5-268cf123ca7d   \n",
       "\n",
       "                                                text  rating  \\\n",
       "0                                          very nice       5   \n",
       "1  very bad interface, booked a normal fare ticke...       1   \n",
       "2                            good update information       5   \n",
       "\n",
       "                 date version  \n",
       "0 2025-05-07 12:19:43   7.2.0  \n",
       "1 2025-05-07 09:17:44   7.2.4  \n",
       "2 2025-05-07 07:59:32   7.2.4  "
      ]
     },
     "execution_count": 3,
     "metadata": {},
     "output_type": "execute_result"
    }
   ],
   "source": [
    "# Option 1: Fetch new reviews from Google Play Store\n",
    "# Uncomment this section to fetch fresh reviews\n",
    "\n",
    "# app_id = \"com.example.app\"  # Example mobile app ID\n",
    "# start_date = \"6 months ago\"  # Fetch reviews from 6 months ago\n",
    "# end_date = \"now\"             # Up to today\n",
    "# max_reviews = 1000           # Limit to 1000 reviews for demonstration purposes\n",
    "\n",
    "# reviews_df = runner.fetch_reviews(\n",
    "#     app_id=app_id,\n",
    "#     start_date=start_date,\n",
    "#     end_date=end_date,\n",
    "#     max_reviews=max_reviews\n",
    "# )\n",
    "\n",
    "# Make sure data directory exists\n",
    "project_root = os.path.abspath(os.path.join(os.path.dirname('__file__'), '..'))\n",
    "data_dir = os.path.join(project_root, 'data')\n",
    "processed_data_dir = os.path.join(data_dir, 'processed')\n",
    "os.makedirs(data_dir, exist_ok=True)\n",
    "os.makedirs(processed_data_dir, exist_ok=True)\n",
    "\n",
    "# Temporarily disable mock mode for data loading\n",
    "original_mock_value = os.environ.get(\"USE_MOCK_DATA\", \"\")\n",
    "os.environ[\"USE_MOCK_DATA\"] = \"false\"\n",
    "\n",
    "# Option 2: Load reviews from the processed data file\n",
    "# This is useful to avoid making API calls and use the already processed data\n",
    "use_processed_data = True  # Set to True to use processed data from data_preprocessing.ipynb\n",
    "use_storage = not use_processed_data  # Fall back to storage only if not using processed data\n",
    "\n",
    "reviews_df = None\n",
    "\n",
    "if use_processed_data:\n",
    "    # Direct load from the processed CSV file\n",
    "    processed_csv_path = os.path.join(processed_data_dir, 'processed_reviews.csv')\n",
    "    if os.path.exists(processed_csv_path):\n",
    "        print(f\"Loading processed reviews from: {processed_csv_path}\")\n",
    "        try:\n",
    "            reviews_df = pd.read_csv(processed_csv_path)\n",
    "            \n",
    "            # Convert date column to datetime if it exists\n",
    "            if 'date' in reviews_df.columns:\n",
    "                reviews_df['date'] = pd.to_datetime(reviews_df['date'], errors='coerce')\n",
    "                \n",
    "            if reviews_df.empty:\n",
    "                raise ValueError(\"Processed CSV file exists but contains no data\")\n",
    "                \n",
    "            print(f\"✅ Successfully loaded {len(reviews_df)} processed reviews from CSV file\")\n",
    "            \n",
    "            # Check if this data already has sentiment and topics\n",
    "            has_sentiment = 'sentiment' in reviews_df.columns\n",
    "            has_topics = 'primary_topic' in reviews_df.columns\n",
    "            \n",
    "            print(f\"Data status: has_sentiment={has_sentiment}, has_topics={has_topics}\")\n",
    "            \n",
    "            # For numeric columns that might have been converted to strings, convert back\n",
    "            numeric_columns = ['rating', 'primary_topic', 'topic_confidence', 'thumbsUpCount']\n",
    "            for col in numeric_columns:\n",
    "                if col in reviews_df.columns and reviews_df[col].dtype == 'object':\n",
    "                    try:\n",
    "                        reviews_df[col] = pd.to_numeric(reviews_df[col], errors='coerce')\n",
    "                        print(f\"Converted {col} to numeric type\")\n",
    "                    except:\n",
    "                        print(f\"Could not convert {col} to numeric type\")\n",
    "        except Exception as e:\n",
    "            print(f\"Error loading processed data: {e}\")\n",
    "            reviews_df = None\n",
    "    else:\n",
    "        print(f\"❌ Processed CSV file not found at: {processed_csv_path}\")\n",
    "        print(\"Falling back to raw data...\")\n",
    "        use_storage = True\n",
    "\n",
    "if use_storage and reviews_df is None:\n",
    "    try:\n",
    "        # Direct load from the CSV file to bypass storage module issues\n",
    "        csv_path = os.path.join(project_root, 'data', 'reviews.csv')\n",
    "        if os.path.exists(csv_path):\n",
    "            print(f\"Loading raw reviews from: {csv_path}\")\n",
    "            reviews_df = pd.read_csv(csv_path)\n",
    "            \n",
    "            # Convert date column to datetime if it exists\n",
    "            if 'date' in reviews_df.columns:\n",
    "                reviews_df['date'] = pd.to_datetime(reviews_df['date'], errors='coerce')\n",
    "                \n",
    "            if reviews_df.empty:\n",
    "                raise ValueError(\"CSV file exists but contains no data\")\n",
    "                \n",
    "            print(f\"Successfully loaded {len(reviews_df)} reviews from raw CSV file\")\n",
    "        else:\n",
    "            # Fall back to storage module\n",
    "            print(\"CSV file not found, trying storage module...\")\n",
    "            reviews_df = runner.storage.retrieve_data()\n",
    "            \n",
    "            if reviews_df.empty:\n",
    "                raise ValueError(\"No reviews found in storage\")\n",
    "            \n",
    "            print(f\"Successfully loaded {len(reviews_df)} reviews from storage\")\n",
    "    except Exception as e:\n",
    "        print(f\"Error loading from storage: {e}\")\n",
    "        reviews_df = None\n",
    "\n",
    "# Option 3: Load reviews from Vector Database\n",
    "# Try vector DB if storage failed\n",
    "use_vector_db = (reviews_df is None)\n",
    "\n",
    "if use_vector_db:\n",
    "    try:\n",
    "        print(\"Loading reviews from vector database...\")\n",
    "        \n",
    "        # Force using the non-mock collection\n",
    "        if hasattr(runner.vector_db, '_collection_name'):\n",
    "            # Store the original collection name\n",
    "            original_collection = runner.vector_db._collection_name\n",
    "            \n",
    "            # Use the non-mock collection name\n",
    "            if original_collection.endswith('_mock'):\n",
    "                real_collection = original_collection.replace('_mock', '')\n",
    "            else:\n",
    "                real_collection = original_collection\n",
    "                \n",
    "            print(f\"Switching from {original_collection} to {real_collection}\")\n",
    "            runner.vector_db._collection_name = real_collection\n",
    "            \n",
    "            # Re-initialize collection with new name\n",
    "            runner.vector_db._collection = runner.vector_db._client.get_collection(\n",
    "                name=real_collection,\n",
    "                embedding_function=runner.vector_db._embedding_function\n",
    "            )\n",
    "        \n",
    "        # Get vector DB stats\n",
    "        stats = runner.vector_db.get_collection_stats()\n",
    "        print(f\"Vector DB collection: {stats['collection_name']}\")\n",
    "        print(f\"Document count: {stats['document_count']}\")\n",
    "        \n",
    "        if stats['document_count'] == 0:\n",
    "            raise ValueError(\"No documents found in vector database\")\n",
    "            \n",
    "        # Create a query that matches everything (we'll limit results)\n",
    "        all_docs = []\n",
    "        batch_size = 100\n",
    "        total_batches = (stats['document_count'] + batch_size - 1) // batch_size\n",
    "        \n",
    "        for i in range(total_batches):\n",
    "            # Use a different query for each batch to avoid duplicate results\n",
    "            query = f\"reviews batch {i+1}\"\n",
    "            batch_results = runner.vector_db.search(\n",
    "                query=query,\n",
    "                n_results=min(batch_size, stats['document_count'] - i*batch_size)\n",
    "            )\n",
    "            all_docs.extend(batch_results)\n",
    "            print(f\"Retrieved batch {i+1}/{total_batches} ({len(batch_results)} documents)\")\n",
    "        \n",
    "        # Convert to DataFrame\n",
    "        vector_df = pd.DataFrame(all_docs)\n",
    "        \n",
    "        # Process to match expected format\n",
    "        if 'id' in vector_df.columns and 'review_id' not in vector_df.columns:\n",
    "            vector_df = vector_df.rename(columns={'id': 'review_id'})\n",
    "        \n",
    "        # Convert date columns if needed\n",
    "        if 'date' in vector_df.columns and not pd.api.types.is_datetime64_dtype(vector_df['date']):\n",
    "            vector_df['date'] = pd.to_datetime(vector_df['date'], errors='coerce')\n",
    "        \n",
    "        reviews_df = vector_df\n",
    "        print(f\"Successfully loaded {len(reviews_df)} reviews from vector database\")\n",
    "    except Exception as e:\n",
    "        print(f\"Error loading from vector database: {e}\")\n",
    "        reviews_df = None\n",
    "        \n",
    "    # Reset collection name if we changed it\n",
    "    if use_vector_db and hasattr(runner.vector_db, '_collection_name') and 'original_collection' in locals():\n",
    "        runner.vector_db._collection_name = original_collection\n",
    "        # Re-initialize original collection\n",
    "        try:\n",
    "            runner.vector_db._collection = runner.vector_db._client.get_collection(\n",
    "                name=original_collection,\n",
    "                embedding_function=runner.vector_db._embedding_function\n",
    "            )\n",
    "            print(f\"Restored original collection: {original_collection}\")\n",
    "        except Exception as e:\n",
    "            print(f\"Warning: Could not restore original collection: {e}\")\n",
    "\n",
    "# Option 4: Use mock data if all else fails\n",
    "if reviews_df is None:\n",
    "    print(\"Falling back to mock data...\")\n",
    "    \n",
    "    # Generate mock data\n",
    "    from datetime import datetime, timedelta\n",
    "    import numpy as np\n",
    "    \n",
    "    # Create 100 mock reviews\n",
    "    mock_reviews = []\n",
    "    now = datetime.now()\n",
    "    \n",
    "    # Sample text content for app reviews\n",
    "    sample_texts = [\n",
    "        \"Really smooth experience using this app. Love how fast and easy it is to navigate.\",\n",
    "        \"App kept crashing during important tasks. Had to eventually use the website. Please fix this issue!\",\n",
    "        \"New UI is great but the payment gateway times out a lot. Had to try 3 times to complete my transaction.\",\n",
    "        \"Customer care is non-responsive. Tried contacting about account issues and waited hours with no response.\",\n",
    "        \"Best app in this category by far. Simple interface, quick loading, and rewards program is easy to track.\",\n",
    "        \"Cannot edit user details after registration. Had to call customer service which was a nightmare.\",\n",
    "        \"User interface is very intuitive. I love how you can see all options clearly.\",\n",
    "        \"App becomes unresponsive on my Android device. Takes forever to load search results.\",\n",
    "        \"The status tracking is excellent. Real-time updates about my orders are very helpful.\",\n",
    "        \"Using the website was cheaper than through the app. Why the price difference?\"\n",
    "    ]\n",
    "    \n",
    "    # Generate mock reviews\n",
    "    for i in range(100):\n",
    "        days_ago = np.random.randint(1, 180)  # Random date within last 6 months\n",
    "        review_date = now - timedelta(days=days_ago)\n",
    "        rating = np.random.choice([1, 2, 3, 4, 5], p=[0.1, 0.1, 0.2, 0.3, 0.3])  # Weighted ratings\n",
    "        text = np.random.choice(sample_texts)\n",
    "        \n",
    "        mock_reviews.append({\n",
    "            \"review_id\": f\"mock_{i}\",\n",
    "            \"author\": f\"User_{i}\",\n",
    "            \"date\": review_date,\n",
    "            \"rating\": rating,\n",
    "            \"text\": text,\n",
    "            \"version\": f\"1.{np.random.randint(0, 10)}\"\n",
    "        })\n",
    "    \n",
    "    # Convert to DataFrame\n",
    "    reviews_df = pd.DataFrame(mock_reviews)\n",
    "    print(f\"Created {len(reviews_df)} mock reviews for demonstration\")\n",
    "\n",
    "# Restore original mock data setting\n",
    "os.environ[\"USE_MOCK_DATA\"] = original_mock_value\n",
    "\n",
    "# Display app info\n",
    "app_info = runner.pipeline_metadata.get(\"app_info\", {})\n",
    "if not app_info:\n",
    "    # If no app info available (e.g., when using storage), create placeholder\n",
    "    app_name = os.environ.get(\"APP_NAME\", \"Indigo\")\n",
    "    app_info = {\n",
    "        \"name\": app_name,\n",
    "        \"developer\": \"IndiGo Airlines\",\n",
    "        \"total_reviews\": len(reviews_df),\n",
    "        \"average_rating\": reviews_df[\"rating\"].mean() if \"rating\" in reviews_df.columns else 0.0\n",
    "    }\n",
    "    # Update pipeline metadata\n",
    "    runner.pipeline_metadata[\"app_info\"] = app_info\n",
    "\n",
    "print(f\"\\nApp: {app_info.get('name')}\")\n",
    "print(f\"Developer: {app_info.get('developer')}\")\n",
    "print(f\"Total reviews analyzed: {app_info.get('total_reviews')}\")\n",
    "print(f\"Average rating: {app_info.get('average_rating'):.2f}\")\n",
    "\n",
    "# Show data summary\n",
    "print(\"\\nData columns available:\")\n",
    "for col in reviews_df.columns:\n",
    "    non_null = reviews_df[col].count()\n",
    "    pct_avail = non_null / len(reviews_df) * 100\n",
    "    print(f\"- {col}: {non_null} non-null values ({pct_avail:.1f}%)\")\n",
    "\n",
    "# Show sample of the data\n",
    "print(\"\\nSample reviews:\")\n",
    "display_cols = [\"review_id\", \"text\", \"rating\", \"date\", \"version\"]\n",
    "display_cols = [col for col in display_cols if col in reviews_df.columns]\n",
    "reviews_df[display_cols].head(3)"
   ]
  },
  {
   "cell_type": "markdown",
   "metadata": {},
   "source": [
    "# Analyze Reviews\n",
    "\n",
    "Let's run various analyses on the reviews."
   ]
  },
  {
   "cell_type": "markdown",
   "metadata": {},
   "source": [
    "## Sentiment Analysis and Topic Modeling"
   ]
  },
  {
   "cell_type": "code",
   "execution_count": 12,
   "metadata": {},
   "outputs": [
    {
     "name": "stdout",
     "output_type": "stream",
     "text": [
      "Reviews are already analyzed. Skipping analysis step.\n",
      "\n",
      "=== Version Range Filtering ===\n",
      "\n",
      "Creating filtered datasets by version range...\n",
      "Latest versions (7+): 1418 reviews\n",
      "Current versions (6.x): 4586 reviews\n",
      "Older versions (5.x): 3001 reviews\n",
      "Legacy versions (<5): 5 reviews\n",
      "Unknown versions: 990 reviews\n",
      "Custom range (6.0.0 to 8.0.0): 6004 reviews\n",
      "\n",
      "=== Analysis for Current Versions (6.x) ===\n",
      "Sentiment distribution:\n",
      "sentiment\n",
      "positive    2896\n",
      "negative    1438\n",
      "neutral      252\n",
      "Name: count, dtype: int64\n",
      "Positive: 63.15%\n",
      "Neutral: 5.49%\n",
      "Negative: 31.36%\n",
      "Average rating: 3.59\n",
      "Rating distribution:\n",
      "  1 stars: 1223 (26.67%)\n",
      "  2 stars: 215 (4.69%)\n",
      "  3 stars: 252 (5.49%)\n",
      "  4 stars: 441 (9.62%)\n",
      "  5 stars: 2455 (53.53%)\n",
      "\n",
      "=== Analysis for Unknown Versions ===\n",
      "Sentiment distribution:\n",
      "sentiment\n",
      "negative    642\n",
      "positive    317\n",
      "neutral      31\n",
      "Name: count, dtype: int64\n",
      "Positive: 32.02%\n",
      "Neutral: 3.13%\n",
      "Negative: 64.85%\n",
      "Average rating: 2.35\n",
      "Rating distribution:\n",
      "  1 stars: 593 (59.90%)\n",
      "  2 stars: 49 (4.95%)\n",
      "  3 stars: 31 (3.13%)\n",
      "  4 stars: 43 (4.34%)\n",
      "  5 stars: 274 (27.68%)\n",
      "\n",
      "=== Sentiment Analysis (Full Dataset) ===\n",
      "\n",
      "sentiment\n",
      "positive    5224\n",
      "negative    4237\n",
      "neutral      539\n",
      "Name: count, dtype: int64\n",
      "\n",
      "Positive percentage: 52.24%\n",
      "Neutral percentage: 5.39%\n",
      "Negative percentage: 42.37%\n"
     ]
    }
   ],
   "source": [
    "# Check if reviews are already analyzed\n",
    "already_analyzed = 'sentiment' in analyzed_df.columns and 'primary_topic' in analyzed_df.columns\n",
    "\n",
    "if already_analyzed:\n",
    "    print(\"Reviews are already analyzed. Skipping analysis step.\")\n",
    "    analyzed_df = analyzed_df\n",
    "    \n",
    "    # Create placeholder for analysis results\n",
    "    analysis_results = {}\n",
    "    if 'sentiment' in analyzed_df.columns:\n",
    "        analysis_results[\"sentiment\"] = analyzed_df\n",
    "    \n",
    "    if 'primary_topic' in analyzed_df.columns:\n",
    "        # Try to extract topic words from metadata if they exist\n",
    "        topic_words = runner.pipeline_metadata.get(\"topic_words\", {})\n",
    "        if not topic_words:\n",
    "            # Create dummy topic words if not available\n",
    "            unique_topics = analyzed_df['primary_topic'].dropna().unique()\n",
    "            topic_words = {str(topic): [f\"word{i}\" for i in range(5)] for topic in unique_topics}\n",
    "        \n",
    "        analysis_results[\"topics\"] = (analyzed_df, topic_words)\n",
    "else:\n",
    "    # Clean data before analysis to avoid NaN issues\n",
    "    print(\"Preparing data for analysis...\")\n",
    "    \n",
    "    # Make a copy to avoid modifying the original\n",
    "    analysis_df = analyzed_df.copy()\n",
    "    \n",
    "    # Check for and handle NaN values in 'text' column\n",
    "    if 'text' in analysis_df.columns:\n",
    "        # Count NaN values\n",
    "        nan_count = analysis_df['text'].isna().sum()\n",
    "        if nan_count > 0:\n",
    "            print(f\"Found {nan_count} rows with NaN values in 'text' column. Filling with empty string.\")\n",
    "            # Fill NaN values with empty string\n",
    "            analysis_df['text'] = analysis_df['text'].fillna(\"\")\n",
    "    \n",
    "    # If we have cleaned or normalized text, make sure they don't have NaNs either\n",
    "    for col in ['cleaned_text', 'normalized_text']:\n",
    "        if col in analysis_df.columns:\n",
    "            # Count NaN values\n",
    "            nan_count = analysis_df[col].isna().sum()\n",
    "            if nan_count > 0:\n",
    "                print(f\"Found {nan_count} rows with NaN values in '{col}' column. Filling with empty string.\")\n",
    "                # Fill NaN values with empty string\n",
    "                analysis_df[col] = analysis_df[col].fillna(\"\")\n",
    "    \n",
    "    # Analyze reviews\n",
    "    print(\"Analyzing reviews...\")\n",
    "    try:\n",
    "        analysis_output = runner.analyze_reviews(\n",
    "            reviews_df=analysis_df,\n",
    "            analysis_types=[\"sentiment\", \"topics\", \"keywords\", \"trends\"]\n",
    "        )\n",
    "\n",
    "        # Extract updated DataFrame and analysis results\n",
    "        analyzed_df = analysis_output[\"reviews_df\"]\n",
    "        analysis_results = analysis_output[\"analysis_results\"]\n",
    "    except Exception as e:\n",
    "        print(f\"Error during analysis: {e}\")\n",
    "        # Fall back to just sentiment analysis if topic modeling fails\n",
    "        print(\"Falling back to sentiment analysis only...\")\n",
    "        try:\n",
    "            analysis_output = runner.analyze_reviews(\n",
    "                reviews_df=analysis_df,\n",
    "                analysis_types=[\"sentiment\", \"keywords\", \"trends\"]\n",
    "            )\n",
    "            analyzed_df = analysis_output[\"reviews_df\"]\n",
    "            analysis_results = analysis_output[\"analysis_results\"]\n",
    "        except Exception as e2:\n",
    "            print(f\"Error during fallback analysis: {e2}\")\n",
    "            # If all else fails, just use the original data\n",
    "            analyzed_df = analysis_df\n",
    "            analysis_results = {}\n",
    "\n",
    "# Version Range Filtering\n",
    "print(\"\\n=== Version Range Filtering ===\")\n",
    "\n",
    "# Extract major version number from version string\n",
    "def extract_major_version(version_str):\n",
    "    if pd.isna(version_str) or version_str == \"Unknown\":\n",
    "        return None\n",
    "    try:\n",
    "        # Extract first part of version (e.g., \"6\" from \"6.0.3\")\n",
    "        major = version_str.split('.')[0]\n",
    "        return int(major)\n",
    "    except (ValueError, IndexError, AttributeError):\n",
    "        return None\n",
    "\n",
    "# Create major version column if not already exists\n",
    "if 'major_version' not in analyzed_df.columns:\n",
    "    analyzed_df['major_version'] = analyzed_df['version'].apply(extract_major_version)\n",
    "\n",
    "# Convert major_version to numeric to avoid comparison issues\n",
    "analyzed_df['major_version'] = pd.to_numeric(analyzed_df['major_version'], errors='coerce')\n",
    "\n",
    "# Create different filtered dataframes\n",
    "print(\"\\nCreating filtered datasets by version range...\")\n",
    "\n",
    "# For the latest versions (7.x and above)\n",
    "latest_versions_df = analyzed_df[analyzed_df['major_version'] >= 7].copy()\n",
    "print(f\"Latest versions (7+): {len(latest_versions_df)} reviews\")\n",
    "\n",
    "# For current versions (6.x)\n",
    "current_versions_df = analyzed_df[analyzed_df['major_version'] == 6].copy()\n",
    "print(f\"Current versions (6.x): {len(current_versions_df)} reviews\")\n",
    "\n",
    "# For older versions (5.x)\n",
    "older_versions_df = analyzed_df[analyzed_df['major_version'] == 5].copy()\n",
    "print(f\"Older versions (5.x): {len(older_versions_df)} reviews\")\n",
    "\n",
    "# For legacy versions (below 5.x)\n",
    "legacy_versions_df = analyzed_df[analyzed_df['major_version'].notna() & (analyzed_df['major_version'] < 5)].copy()\n",
    "print(f\"Legacy versions (<5): {len(legacy_versions_df)} reviews\")\n",
    "\n",
    "# For unknown versions\n",
    "unknown_versions_df = analyzed_df[analyzed_df['version'] == \"Unknown\"].copy()\n",
    "print(f\"Unknown versions: {len(unknown_versions_df)} reviews\")\n",
    "\n",
    "# Create a custom range filter (example: versions 6.0.0 to 7.0.0)\n",
    "# This can be adjusted as needed\n",
    "min_version = \"6.0.0\"\n",
    "max_version = \"8.0.0\"\n",
    "\n",
    "# Function to compare version strings\n",
    "def version_in_range(version_str, min_ver, max_ver):\n",
    "    if pd.isna(version_str) or version_str == \"Unknown\":\n",
    "        return False\n",
    "    try:\n",
    "        # Simple version comparison - this could be enhanced for more complex version strings\n",
    "        v_parts = [int(x) for x in version_str.split('.')]\n",
    "        min_parts = [int(x) for x in min_ver.split('.')]\n",
    "        max_parts = [int(x) for x in max_ver.split('.')]\n",
    "        \n",
    "        # Pad with zeros if needed\n",
    "        while len(v_parts) < 3: v_parts.append(0)\n",
    "        while len(min_parts) < 3: min_parts.append(0)\n",
    "        while len(max_parts) < 3: max_parts.append(0)\n",
    "        \n",
    "        # Convert to comparable numbers\n",
    "        v_num = v_parts[0] * 10000 + v_parts[1] * 100 + v_parts[2]\n",
    "        min_num = min_parts[0] * 10000 + min_parts[1] * 100 + min_parts[2]\n",
    "        max_num = max_parts[0] * 10000 + max_parts[1] * 100 + max_parts[2]\n",
    "        \n",
    "        return min_num <= v_num < max_num\n",
    "    except (ValueError, IndexError):\n",
    "        return False\n",
    "\n",
    "# Create a custom filtered dataset\n",
    "custom_range_df = analyzed_df[analyzed_df['version'].apply(lambda v: version_in_range(v, min_version, max_version))].copy()\n",
    "print(f\"Custom range ({min_version} to {max_version}): {len(custom_range_df)} reviews\")\n",
    "\n",
    "# Function to analyze any filtered dataset\n",
    "def analyze_filtered_dataset(df, name):\n",
    "    print(f\"\\n=== Analysis for {name} ===\")\n",
    "    \n",
    "    # Sentiment analysis\n",
    "    if \"sentiment\" in df.columns:\n",
    "        sentiment_counts = df[\"sentiment\"].value_counts()\n",
    "        print(\"Sentiment distribution:\")\n",
    "        print(sentiment_counts)\n",
    "        if len(df) > 0:  # Avoid division by zero\n",
    "            print(f\"Positive: {sentiment_counts.get('positive', 0) / len(df) * 100:.2f}%\")\n",
    "            print(f\"Neutral: {sentiment_counts.get('neutral', 0) / len(df) * 100:.2f}%\")\n",
    "            print(f\"Negative: {sentiment_counts.get('negative', 0) / len(df) * 100:.2f}%\")\n",
    "    \n",
    "    # Rating analysis\n",
    "    if \"rating\" in df.columns:\n",
    "        avg_rating = df[\"rating\"].mean()\n",
    "        print(f\"Average rating: {avg_rating:.2f}\")\n",
    "        \n",
    "        # Rating distribution\n",
    "        rating_counts = df[\"rating\"].value_counts().sort_index()\n",
    "        print(\"Rating distribution:\")\n",
    "        for rating, count in rating_counts.items():\n",
    "            print(f\"  {rating} stars: {count} ({count/len(df)*100:.2f}%)\")\n",
    "    \n",
    "    return df\n",
    "\n",
    "# Example usage: analyze the current versions dataset\n",
    "current_analysis = analyze_filtered_dataset(current_versions_df, \"Current Versions (6.x)\")\n",
    "\n",
    "# Example usage: analyze the unknown versions dataset\n",
    "unknown_analysis = analyze_filtered_dataset(unknown_versions_df, \"Unknown Versions\")\n",
    "\n",
    "# Display sentiment analysis results for the full dataset\n",
    "if \"sentiment\" in analyzed_df.columns:\n",
    "    print(\"\\n=== Sentiment Analysis (Full Dataset) ===\\n\")\n",
    "    sentiment_counts = analyzed_df[\"sentiment\"].value_counts()\n",
    "    print(sentiment_counts)\n",
    "    if len(analyzed_df) > 0:  # Avoid division by zero\n",
    "        print(f\"\\nPositive percentage: {sentiment_counts.get('positive', 0) / len(analyzed_df) * 100:.2f}%\")\n",
    "        print(f\"Neutral percentage: {sentiment_counts.get('neutral', 0) / len(analyzed_df) * 100:.2f}%\")\n",
    "        print(f\"Negative percentage: {sentiment_counts.get('negative', 0) / len(analyzed_df) * 100:.2f}%\")"
   ]
  },
  {
   "cell_type": "markdown",
   "metadata": {},
   "source": [
    "## Understanding \"Unknown\" Versions in App Reviews\n",
    "\n",
    "### What this means:\n",
    "\"Unknown\" versions account for approximately 10% of all reviews and have a substantially lower average rating (2.35/5) compared to identified versions (3.5+/5).\n",
    "\n",
    "### Why this happens:\n",
    "- Users with outdated app installations not recognized by the Play Store\n",
    "- Customers who sideloaded the app (not installed via official channels)\n",
    "- Installation errors causing version tracking to fail\n",
    "- Severe app crashes that prevent proper version reporting\n",
    "\n",
    "### Business impact:\n",
    "These reviews represent your most frustrated users encountering technical barriers before they can even experience your core features. They serve as an early warning system for compatibility issues that may affect a significant portion of your user base.\n",
    "\n",
    "### Recommendation:\n",
    "Monitor this segment separately as it highlights fundamental technical issues that version-specific improvements won't address. Consider a technical debt initiative focused specifically on installation stability and backward compatibility.\n"
   ]
  },
  {
   "cell_type": "code",
   "execution_count": 13,
   "metadata": {},
   "outputs": [
    {
     "name": "stdout",
     "output_type": "stream",
     "text": [
      "No keyword analysis available. This may be skipped when using pre-analyzed data.\n"
     ]
    }
   ],
   "source": [
    "# Display keyword analysis results\n",
    "if \"keywords\" in analysis_results:\n",
    "    keywords_df = analysis_results[\"keywords\"]\n",
    "    print(\"Top 20 Keywords:\")\n",
    "    \n",
    "    # Try different display methods since some environments handle outputs differently\n",
    "    try:\n",
    "        # IPython display function\n",
    "        from IPython.display import display\n",
    "        display(keywords_df.head(20))\n",
    "    except:\n",
    "        # Alternative: just return the DataFrame directly\n",
    "        keywords_df.head(20)\n",
    "else:\n",
    "    print(\"No keyword analysis available. This may be skipped when using pre-analyzed data.\")"
   ]
  },
  {
   "cell_type": "markdown",
   "metadata": {},
   "source": [
    "### Rating Distribution Visualization"
   ]
  },
  {
   "cell_type": "code",
   "execution_count": 14,
   "metadata": {},
   "outputs": [
    {
     "data": {
      "application/vnd.plotly.v1+json": {
       "config": {
        "plotlyServerURL": "https://plot.ly"
       },
       "data": [
        {
         "bingroup": "x",
         "hovertemplate": "Rating=%{x}<br>count=%{y}<extra></extra>",
         "legendgroup": "",
         "marker": {
          "color": "#440154",
          "pattern": {
           "shape": ""
          }
         },
         "name": "",
         "nbinsx": 5,
         "orientation": "v",
         "showlegend": false,
         "type": "histogram",
         "x": {
          "bdata": "BQEFAQEFAQEBAgEBAQEBBQEBAwEBAQEBAQEBAQUBAQEBBQEBAgEBAQEFAQQFAQEBAQEBAQIBAQEBAgUFAgEBAQEBBQEFBQEFAQUFAQEFAQEBAQUFAQIBBQEFAQEBBQEEAQEBBQUFAQEBAQEBAQUBAQUBBQEBAQEBAQIFAQEFAQEFAQEBAQEDAgMCAQEBAQEBBQUCAQEFBQMBAQEFAQUCAQEBBQMFAgEBBQEBAQUBAQUBAQEFAQIBAQEFAQEBAQECAQEFAQEBAQMBAQEDBAMFAQEFAQIFAQEBBQEBAQEFAgEBAQEBAQUFBAEBAQUFAQUFBAUFBQEFBQEBAQEBAQEBAQEBBQEBAQEBAQEBAQEFAQEBBAMCAQEBAQEFAQEEBQECAwUBAwUBAQUBBQIBBQEBBQUFAQEBAQUBBQUBAQEBBQEFAQIBAgIEAQEBAQEFAgUFBQEDAgEBAQEFAQEBAQUBBQEBAQEBBQEBBQMBBQEFAQEEAQEFAQEBBQUFAQEDAwEBAQEFAQEFAQUBAQEBBQEBBQUBAQEBAQEFAQUBBQEBAQEFAQUFAQEBAgEBAQUBAgUEAgEFBQIBBQEBBQEBAQUBAQEBBQEBAQEFAQEBAQEBAgEBAQIDAQEBAQQBAQEBBQEBAQEBAQEBAQEBAgEBAQEBAQEFAQQBAQUBAQEFBQEEBQEBAQEBBQEBAgECAQQFBQECBQEFAQUBAQECAQQFAQEBAQUBAQUBBQEFAQICAQUBBQEFBQECAQUBAQEBAQEFAQEBAQMCBQUBBAEFAQEBAQIBAQUCAQEBAgEBAQEBAQEFAgUBBQMBAQEEBQEDAQUBAQEDBQEBAgUBAQUBAQUBAQMFAQEBBQEBBQMBAQEBBQEFAQEBBQEFAQIBAQEBAQEFAQEBAwEBBQEFAQEBAgEBAQUBAQEBAQECBQEFBQEBBQEBBQIFAQUBAQEBAQUBAQUBAQEFAQMBAgEBAQEBAwEEAwEFAQUFBQUBAQEBAQEDAQEBBQEBAQEFAQEBBQUBAQEBBQEEAQEBAQEFAQEBAQEEAgECAgEBAQEBAQUFAgUBAQIBAQEFAQEBBQIBAQECAQEBAQEBBQEBAwUBAgUBAQECAQEFAQEFAQEBAQEFBQUCBQUDBQEFBQEBAgEBBQEBAQEBBQEBAQUBAQEBAQEBBAEFAQEBAQEBAQEBAQEBAQEBAQUDAQIBBQUBBQIBBAEFBQEFAQEFBQEBAQEFAQEBAQIBBQECAQECAQMBAQEBAQEFBQEFAQEBAQEBAQEFAQUBAQQBAQIEBAMBBQEFAQEBBAEBAQEFAQMCAQEBAQEBAQUFAQIBAQQBAQEFBAEBAQEDAQQFAQUBAQUFAQEEAQEDAQEBAQIFAQMFAQEBAQEBAQIFAQEFAQQBAQEFAgQBBQUBBQEBBQUCAQEBAQEFBQEBBQEBAQEBBQEFAQEFAQUBAQEBAQEBAQEBAQEBAQEBAQEBAgEFAwIBAQEBAQEBAQEDAQUFAQEFAQUBAwEBBQUBAQUBBQUEAQEBAQMFAQUBAQEFAQECAQEBAgUBAQEBAQEBAQEEAQEBAQEBBQEBBQEBAQEFBQUBAQEBBQEFAgEBBQEDAwEBBAEFAQIBAQIBBAEBAQEBAQUBBQEBAQEBAQIBBQUBAQQBBQMDAgEBAQEBBQUBAQECAQEBAQEBAQUFAwUFBAUBAQUBBQUBAQEBAQEFAQEFBQUBAQUFAQEBAQEBAQIBBQUBBQUBAQEBAQMBAQEBAQECAgEBAQIBAQEBBQEFBQEBAQEBBQEFAQEBAQUBBQEFAQQFAQQBAQEDAQEBAQEFAQUBBQEBBQUBBQEFAQEBAQEBBQUCBAEBAgEDBQEBBQEBBQQFBQEBAQEFAQEFAQEBBAEBAQUBBQEBAQEFBQUBAQEFAwECAQUCAgEBAQUBAQUFAgUEAQEBBQQBAQUEBQEBBAUDBQEBAQIBAQEBAQEBAQEFBQEEAQUBAQEBAQUFAQQBBQUBBQEBAQEEAQECAgEBAQEFAQEBBQUBAQIBAQUBAQIFBQUEBQEBAQEFBQEDAQQBAQEFAQEFAQUBAQEBAQECAQEBBQEBBAEFBQQBBQEBAQECBAEFAgEFBQECAQEFAwEBAwUBAgEBAQUBBQEBAQMBAwUBAQUFAQUBAgEBBAUBAQEBAQEBAgEBBQUFAQQFBQQBAQEBBQEEAQEBBAUBBQUBAQEBAQEEAQEDAQECBQEEAQQBAQEFAQEBAQEBAQECBQEBBQEFAQEFAQUFAQQBAQEBBQEFAQEBAQEFBQUBAQEFBQEBBQUCAQEFBAUBAQEBAQEBBQECAQIFAQEBBQUBBQUBAQEBAQEFAQEBAQQBBQQFBQEFAQEBAQEBBQIBAQEBAQIBAQMBAQEBAwEFAQMCAQEBAQEBAQEBBQUBAQEBAQEBAQEFAQEBAQUBAwQCAQUBAQEEAQUCAQEBAQEFBQEFAQEBBQEBAQUBAQEFAQEBAwIBBQEFBQEFBAEBAQUBBQEBBQUBBQUBAQEBAQEBAQEFBAEBAQUFAQEBAQEBBAEBBQUFAQEBBQEFAQQBAQUBBQEEBAUBAQMCAwUBAQUFAQEBBQUFBAQBBAEBBQEBBQEBAQEEBQIFBQUBAQEFBAIBAQUFBQUBBQEFAQMBBQUDBQEBBQUFBQQEAQUBAQUFBQUDAQECBQUFAQEFBQEFAwUFAQUEAgEBBAEBAwEDBQEFAgEFAQEBBQECAQEFAQECBAEBBQUBAQIFAQEBAQUFBQUBBQUBAQICAQUBAQEBBQEBAQEFBQUBAwEFBQIBBQEFAQQBBQEFBQEFAQEBAQEEAQEBAQIFAQEBBAUBAQECBQICAwUBBQEFAQEBAQECBQEFAQEBAQEFAQEDAQQBAQEBAQUBAgECBAUBBAEFBQUFAQUBAQUBAQQEAgMFAQEDBQEEBQEFBQMBAQQFBQMFBAEBBQEFAgEBAQECAQEEAQEFAQUBAwEEAQEBAQEFAQECBQQBBQIDAgEFBQQFAgEBBAUEAQUCAQEFAQUFAQUBAwUBAQMEAgEBBQMDBAQBAgEBAQECAgUBBQQFAQICAQICAwIEAQUFBQEBAQECBQUBAQUDBQIFBQEBAgEEAQEBBQEBAQEBBQEBAQUBBQEFAQEFBQEBBQUBAQUCAQEBAwIDBQEFAQEFAQQBAQEFAQEFBQEFBQUFAQUFBQEBAgEBBQEFAQEFBAIBBAUBAQUFAQUBBQEDAQIFAwUBAQEEAQMCBQEBBQIBBQEDAQMFAwIFBAQEAQIFBQQBAQEBAwUBBQIEAQMBBQEFAQEBBQUEBQUFAwIBBQUBAQEFAQEFBQMBAgEFAQQCBQEFAQUFBQEFBQUEBQMFBAUFBQQFAwUBAQUBAQEBAQEFAQEBAgUCAQQBAQUCAQEFAgEFBQEBAQEDAQEBAgUDAQEFBQEBAgEEAgUFAQUBBQIBAQUBAwUFAwMBBQUFBQECAQUBBQEBBQUDBQMFBQQFBQEBAQUFAQEFAQEBBQECBQUBBQEBBQUFAgMBBQECBQUBBQEFAQUEAQEFAQUBBAUFAQMFBQIBBQUBAQUFBQEFBQEFBQUFBQUBBQUFAQQFAQUBBQEFBQEFBQEDAQUFAgUBAQUFAwMBBQUCBQUFBQUCBQEBAQUFBQUFBQMEBQQFBAUFBQUFBQQFBAEFBQUFBQUFBQEBBQUFBQEBBQUDAwUEAQEEBQEBBQQFAQUBAQEDBQEBBQUEBQUBBQUFBAIBBAUFBQUFBAMBBQUFBQEFAQEFBQUFAQUFBQUFBQQFBAUFBQMFAQUFBQQFBQUFBQUBBQUBBQUCAQUBBQUBBQUFBQIFBAUFAwUFBQUEAQUFBQQBBQUFBQUFBQUFAwUFBQUBBQEBAQUDBQEFAQEBBAMEAQUCAgEFBQUFBQUDBQMFBQIFBQEBBQUFBQEFAQUFBQUFBQUBAQUFBAUBBQQDAgUDBQUFBQEFBQUFAQUFBAQFAQUBAQEEBQUBAwEBBQUFAwUBBQEBBQQFBQMEBQEEBQUEBAQBAQUBBQUFBQUBBQEBBQUBBQUBBQUFAgUBBQEFAQEBBQIEBQEFBAEBBAEFAQMCBAUDBQEBBQUDBQMBAQEBAQUBAQEBAQEBAQUEBQEFBQEFBAUFBQUFAQUFBQQDBQEFAgUEBQUFAQUDBQUFBQUFAQUFAQEDBQUBAQIBBQECBQEBBQUFAwUFAQEBBQEFAQEFBQIDAQIBAQEFBAEBAQUBAQEFAQEFBAMFBAEFBAUFAQUFBQUFBQUEBAEFAQUFBAUEBQEFBQUFAQUFBQEBBQEFBQMBBQQEBQEFAgUFAQIFBQMDBQIEBQUFBQUFBQUFBQEFAQUCBAUFAQEEBQMFBQEFBQUBBQMBBQUBBQEFBQMFBQUEBQQEBAQFBQEEBQMBBQQFBAUFBQUFAQEBBAUEAQEFBQUFBQUEAQUFAQQFBQUFBQUBBQEFBQUDBQEDBQUFAQQDAQUFBQUCBQUFAwEFBAUFBQUEAwQEBQUFAQIFBQEBAwUEAgUFBQUBAQUFBQUFBQUFBQEFBQUFBQUFBQEEBQUFBQEBBQUFAQEEBQUFBQEFBAEFBQIFBQEEBQUFBQUBBQUFAQQFBQUBBQUBAQQFBQEFAgUFAQUEBQUFBQEFBQIFBQUFBQUFAwUFBQUEBQUFBQUFAQUFAwUEBQUDBQUCBQUFBAUFBQUBBQUBBQUBBQEFBAEBBQMFBQUEBQQFBQMFAQQBBQUBBQEFAgUFBQEBAgEFAQQFBQUFBAQFBQUCBQUBBQUFBAUFAQUFAwUEBQEDBQUBAQUFBQUFAgUFBQUBBQEFBQEBBQUBBQEBBQUFBQUFBQUEBQQFBAEFBAQFAwUFBQUFBQUFBQEBBQEBAQUFAwMFBQUEBQMDBQMFBQUDBQUFAQQFAQIFBQMFBQUBBQUFAQUBAQEEAQUDBQUDAQUCBQEFBQUFBQMFBQIFBQEBAQMFBQUFAQQFBQMFBQQDBQQBBQUFAQEFAQUEBQEFAQUDBQQFAgUFBAUFBQUFBQUBBAUBBQUFAQUEBQEFBQEFBQUDBAUBAQIFBQMFBQUDBQUBBQUBBQUDBQUFAQMFBAQEBQUFBQUBBQEFBQUBBQUDBQEFBQUEBQUFBQUBBAMFBQUFBQMDBQUBAQIDAQQBAQUFBQEBBQUFBQEFAQUDAgUFAQEFBQEFAgEFAQQFBQEBBQUFBQIBBQUFBQUFBQEDAwEFAQMBBQEFAQUFAwUBBQUBBQQFBQUFBQIBAgUBAgUBAQUFAgUFAQEFBQQFBAUFBQUDBQUBAQUEBQUEAQUBAQEBAQUFAQEEBQUCAQUFBQUBAgUFAQUFAQUFBQUEBQUFAQUFBQUCBQUFBQUDAQUFAwUFBQQFBQIBBQUFAwUFBQUFBQMFBAUDBQUFBQUFBQUFBAEFBQMBBAUFAQEEBQUFAQUEBQUFAQUFAQEEAQEFBQUBAQQCAQUBAQUFBQQBBQUEAgQFBQQFAwUBBQEEBQUEBQUBAQEBAQEFAQUFBQUFBQQDBQUCBQQBBQUEBQUBBQEFBQUFBQEEBQUFAQUBAQEDBQEFBQEFBQEFBQEFAQUEBQUFBQQBBAEFBQEDAgUFBQUFAwUBBQUFBAUFBQUFBQUBAwQFBQUFBQEBAwUFBQUEBQUFBAUFAQEFBQIBBQEFAQUEAQUFAQMBBAEFBQUBAQUBAQUFBQQFBQUEBQEBBAUFBQQFAQUFBQUDBQUFBQUCBQEFBQUFBQUFAQQBBQIEBQUBBQUFBQEFBAUFAwIFAgEBBQEEBAQBBQUBBAEFBQEFBQQFAQUEAQUFBQUCAwMEAQUFBQEFAQICBQUFAQUFAQUFAwUFBQQBBQEDBQEEAQUFBQEFBQUBBQEBBQEEAQEBBQQBBQUFBQEFAQUDAQUDBQEFBQUFBQUBBQUFBQUDBQUEBQEFBQUBBQUFAQUEAgMEBQUBBAUDBQMFBQUBBAUFBAUFBQEFBQECBQQFBQUEAQUFBAEFAQUBAQUEBQIFBAIEBQUEBQMBBQQBAgUBBQUFBQIDAwIFBQUFAgEFAQUBBQUFBQUBBQIBBQUFAgUCBQUEBQUBAQQBBQUFAQUBBQEFBQUFBQEBAgMBBQUFBQUFBQUFAQUFBQQFBQUDBQUFBAUEAQUFBQUEBQUFBQUFBAUBBQUBAgUEBQEFAgUFBQEFAgUFBQUFAQUFBQMBBQEFBAUFBQUBBQQFAQEBBQEBBQUBBQUFBQQFBQUFBQUDBQUFBQUFBAEFBAUEAQQBBQUFBQUBAQEEAQUFBQUFBQUFBAUEBQUBBAEFBQUBAQUBBAUBAwUFBQECAQQFAwUBAgUFAQMFAQQFAQUEBAUFBQIFBAQFBQIBBAUFBQQBAwEFAQUEBQUBBAEFBQUEBQUFBAUFBQUFAQQFBQUFBQQBBQQEAQIFBQUEBQUFAQUFBQUFAQUBBQEFAwUFBQECBQUFAQECBQEEAQEEBQUFBQUFBQEFBQUDAQUBBAUBBQUFAQEFBAUFAQMEAQUCBQMCBAUFAQUEAgUEBQUFBQUDAgUBBAUFBQUBBQUFBQEFAgEFBQUEAQEDAwUBAwIEAQUFBQUFBQUCBAUBAQIFBQUFAQEBAQIFBQEBBQUFAQUFAQUFBQUBAwQFBQUBBQUFBQUFBQUFBQUCBQUFAQUBBQQBBQUBAQECAQUBBQEEAQIBBQUCAQUFBAEFAQUFBQMFBQUFBQUEAQUFBAUDAQQEAQMFAQQBBQQFAwQFBQUBBQUFBQUCAQUFBAEBBQUFBQEBBQUFAgQFBQUFAQUFBQEFBQUBBQUBAQEDAgEFBQUFBQUFAwEFBQEFAwUFAQUFBQEDBQUBBQIFBQUBAwEFBAMFAgMFAQUFBQUFAQUFBQEFBQQFBQUEBQEFBQQFBQUFAQUFBQEFAgUFBQUBBQUFBQUFBQUDAQEEBAUFAQEFAQEFBQUFAQQEBAUEBQEBBQEBAQQCAwEBBQUFBAQFAQUEBQUFBQQFAQUEBQIBBQIFAQUFBQQFBAUFBQUBAQUFBAUFBQUFAQUFBQEFBQQEBQUFBQIBBQQEAgEEAQUFBQUFBQUBBQUFAQUFBQEFAQUEAwUDBQUFAQUFBQUCBQUBBQUFBQIBAQQDBQEBBQUEAwMFBQUFBQEFBQUFBQUFBQMFAQUFBQQFBQUFAQUBAQUBBQEFBQEBAQUFBQUEBQUFBQUBAQUFBQQFAQQBBQEFBQQBBQEBBQUFBQUFAQEFBQQDBQUFAQEBBQIDAQUEBQUCBQUFAQUFAQUBBQQBAwIFAQUEBQUFBQMEAwUDBAUBAQUFBQQBBAUFBQQEBQUFBQEBBQUFBQUFBQUBBAQDBQUBBQEDBAEBBQECAQUFBAECBQQFBQQFAQUDAQUEAQEBBQUEBQUFBQMFBQUDAwUFBQEEBQEFBQQFAQQFAQUFAQEBBQIBAQEFBQEFBQUFAQEFAQUFBQUBAQIFBAEFBQMEAQEBAQUBBQIBBQEFAQEFAwUFAQUFBQUFBQQBBQMBAwUFBQUFBQECAQUBAQUEBAQDAQUFBQEFBQUFBQUFBQUFAQIFAgEDAQEBBQQFBQEEAQMCBQUBBQEFBQUFBQQFAQUBBAEBBQIFAQUFBQUBBQUBBQEFBQUFAQUBAgMBAQUBBQQBBAEDBAUBBAUFBQEFBQEBAQMFBQUFAQUBBQEFBQUBBQUFBAEBBQEFAQEBAQEBAQUFAgUEAQMBBAEFAQUFBQIEAQIFAQIFBQUBBQUFBQUFBQQFAQUFAwUBAgQFBQEBAQUBAQEFBQUFBQUFBQUBBQUFAQUFBAUEAQUFBQEBBQQFAQUFBQEFAgUDBQEFBQUBBQQFAQUFAQUBBQEBAwEEBQUFBQUBAQEBAQEEBQEBBQEFAQUDAQUBBQEBBQEFBQUBAQUBBAMBBAMFAQEFBQUFBQUFBQEFBQUFBQUFBQUDAgQDAgEBBQQBBQEFAQUFBAQFAQUFAQUFAgUFBQUFBQMFBQEFAgUBAQIDAQEFBQQFAQMFBQIFAQMBBAEDBAUCBQMEBQUFAQMFBQQBAwEBBAUFAQQFAwEBBQUBBQEFAQEBAQEFBQUBAQEFBQEFBQEBBQUCAQEFBQUFAQUBBQUFAwEFAwEFBAEBAQUFAwUBBQEFAQUBAQEFBQMBAQEBAQQFBAUFAQUBBQMFAgUDBAUFAQUBAwEBAwMEAwEBAgQFAwEFBQIDAgUFBQQBBQEBAQEBAQUBAQMEBQUFBQMCBQUFBQEFAQEBAQUFAwUFBAUFBQUDBQMEBQUFBQECBQUDBQUFBAUBBQEFAgQFBQEBAQQFAQEDAQEBBAUBAgEBBQUBAgUFBQEDAQUFBAUFAQUFAQUBBQUFBQQBAQUBBQEFBQQBBQUBAgQCBQEBAQUFBQUBBQUBBAEBAgUFAQEBBQEFAwUFBAUBAQEBAQEFAQMFAgIFAQEEAQEFAgQBAgEFBQEFBQUBBQUBBQEFBQUDBAEFAwEBAQEBBQUFBQEFBQUBBQQBBQECAQUFBQIEBQUFAQEFBQUBBQMCAgUFBQEEBQQEAQEBBQEBBQUCBQIFAQEFBQEFAQEFBQEFBQUDAQEBBQEFAwEFBQUDBQUEBQQBBQUFAwEBBQEFBQUFAQEFAQEBBQUBAQQFAQUFAQUDBQUFBQQFAwMBBQIBBQUEBQUFAQUFAQUCAQQBBQMFBQEFAgUCAQUFAgIFAQUFBQEBBQEBBAUFBQUEAQUFBQUBBQUBAQUCBQEBBQEBBQMCBQEBBQUBAQUFBQUFBQUBBQUFAQUFAQUDBAMFBQQDAgEBAQEFAQEFBQQFBQEBBQEEBQUBAQEFAQUBBQQEBAUFBQQFBQEBAQUBAwUFAQUBBAQFAwQEAwQFAQUBBQEFBAEFBQUBAQUBAQQFAQEBBQEFAQIBBQUFBQQBAQQFBQEFAQECAQUBBAEBBQEBAQEEAQMFAQQDAQEFAQEBAQUFAQEBAQIBAQEEBQEBAQUFBQEBAQEFAQIFBAQCBQEBAwUDAQEBAQECBQEBAQEBBAECAQUBAQEBBQEBAQEBBQEBBQUFAQMBAQEBBAEBAQUEAQEBAQIBAQEFBQEEAQECAQEBAQUCAgEBBQEBBQUBBQUBBQICAQIBAgEBBQEBAQEBBQEEAQEBAQEFBQIFAQEBBQUBBQUFAQUDAQIFAQICBQEFAQEBAQEBAQUFAQUFBQUBAQEBBQQDBAMBBQEBBQEBAgECBQEFBQUBAQUBAQEBAgEFAQEBBQQBAQUBBQEBBQUBAQUDAwUFAwUBAQQEBQEEBQEBBQEBAQEBAQEFBAUBAQUFBQECAQUFBQEFBQEDAQUDAQUBBQQFBQQBBQEFBAUFAQUFAQEFAwUFBAMFBQUBAQEBBQEBBAQEAwUBAQICBAEFAQEBBQUBBQEFAgEEBQUBBAEDAQEFBAMFBAEDAQUFBAUCBAEBAQUBAQEEBQECAgEFAwQFBQUBBQIFAQQFAQUFAQUFBQUBAQUFBQUFAQMFAgMBAQQEBQEBBQUDBQEBBAUFBQUFBQEEAwUFBQUBBAEFBQICBQQFAQUFBQEBBQQFBQUBBQUDBQUFBQEBBAUBAQUDBQEFBQEFAQUBBQECBQQBAQEFBAUFBQUFAQMBAQUEAgUFAgEBBQEEBQUDAQUEBQEBAQEFBQEFBAEDAQQFBQUFBQUFAQEFBQUEAQEDBQMFAQUBBQMBAwUFAQUBAQUFBQUFBQUFAQUBAQQFAgUBAQUFBQEFAQQFAgUFAgUBBQQEBQUFAwUFBAUFBAEBBQUFBQUFBQUFBQQCBAEBBQUCAgUFBQUFBQQFBAEBBQUCAQUFAQUEBQUFBQUBBQUFBQUCAQUFBQEFAQUBBAUBBAUFBQUBAQEBAQUDAQECBAUFAgUFBQUFAQEFAQEBBQEBBQECBQQBBQQBBQEEBQEFAQUFAQEBAgUFBAEFBQECBAUBAQUFBQUBAQUDAQUFAQEFAQQBAQQCBQUBBQUBBAEBAQIEAQMFBQUBAQEBAQUFBQUBAQUEBQEFAQUFAQUFBQECBQEEAQUFBQUEAQEBAwEBBQUBBQEBAwMBBAQDBQQDAQEFBQUFBQEFAgIBAQEFBQUFAQEFBQUEAQUBBQMBBQEDBQIBBQEBBAEBBQUBAQUFBQEEBQEBBQUFBQUEAQUBAQUFAQUFBQQDBQEEAQUBBQUFBQEFAQEBBQEFBQEFBAUFBQECAQUBAQEFBQUEBQQBBQEFBAUDBAEBBQUBAQUFAQUFAQQEBQUBAQUBBQUBBQEFAQUFAQUFBQQFAgUFBQEFAwUEBQEFBQEEAQUFBAEFBQEBBQUBBQUEBQIBBQEBBQUFBQMFBQUFAwMFAQUCAQEFAwUFAQUBBQUDAQIFBQEBAQQFBAEBBQMBBQIFBQUBAQEFBAMFBQIFBQUDAQUBBQUDBQUFAgEEAQUCBQUBAQUBBAEFBQQBBQUFBQUFBQIBAQEDBQEFBAUDAQUFAQUFAQQEBQEFBQUBBQUFAgEEBQECAQUFBQEFBQEBAwEFBQUCAQUBBQQFBAUFAQUFAQUFAQEBBQUDAwMBAQMFBQEFAQQFAQUBBQEFBQUFBQEBAQIEAQUFBQMFBQQDBQUBAwUCBQEEAQUFAQQFBQQFAQEFBQUFBQEFBQEDAQQFBQEDAwMFAQMBBQEFBQUBAQEFAgEBBQEBAQMFBQUFBQUFAQUFBQEBAQUCAwUBBQEBAQIBAQUFBQEFBQQFBAEBAgEBBQEFBQUEAwUCBAMFBQEFBQEBBQMFBQEDAQUBBQMFBQUFAQQFAQQBAQUFBQUDBAEFBQEBBQEBBQMBAQUBAQUBBQUEBQUFAgIEAQUBBAUFBQUBBQECBQUBBQUDAgIBBQQFAwEFAwEBAQUFBQUFBAMFBQUDAQIDBQUDAQUFBQEBBQEBAgEFAgEFBQEFAQEBBQUFBQEFBQIFAwUFAQUDAQUFBQUFBAUBBQUBBQUBBQUBAQIFBQEFAQEFBQQEAQEBAQUFAQUFAQEFBQEBBQUDAQEBAQEFAQUFBAIBAQUFBAUFBAUFAQUFBQUBBAUBAQUCBQUFAQQBBQEEBQUBBQEFBQQFBQEBAQUDBQUBAQUDBAQBAQUEBQEFBQEFBQUEAQUEBQUFBQEFAQUDBAIFBAUFBQUFAQEBBQUDAgUBBQEFAQUFAQQCBQUBBQUFBQUFAgEFAQUFAQUBAQUFBQUFBQUFBQEFBAUFBQEFBQIBBQUCBQMFAgIBBQUFBQEFAQEBBQUBAwIFBQEDBQUEBQUFBAEFBAUBBQEDBQEBAQEFBQUFAwUFBQUFAgIBBQUEAQEFBQEDBQEFAQUFBQUBAQUFAQQBBQUFBQEEBQUFAQUFAQUDBQUBBQUFAQUEAQUFBQUFBQUBBQEEAQQBBQUBBQEBBAUFBQEBBQUDAQUCBQMBAQUFBAUFBQUFBQEBAwUBAQUDBAIFAQUBBQEBBQUBAQEBAwEFBQEFBQUFAwUDAgUFBQUBAwUFBQQFBQEFBQEFBQUEBQEBBQEFBQUFBAUCBQUFBAUBBQUFBQUBAwUDBQUDAQQBBQUFBQUEAQICAQEFAQUFAwUFAQQFAQEDBQUFBQUBBQMFAQUEBQEFBQUBAgUBBQUBBQUDBQEFBQEFBQEFBQEBBQUFBQQFAQUFBQUDBQEBBQQFAgECBAEBBQUFAQEDAQUFBQUFAQUFBQEFBQEFBQEFAgUFBQEDBQEFBQEFBQUFAQEFAQUFBQEFBQUFBQQFBQEFBQEFBAEFBAUBAgEFAwQFBQQFBQUFAQEFAQUEAQEFAQUFAQUFAwEBBAUFBQEBAQUBBAUFAQUBBQEFBQEFBQUDAQUBBQUBBQUBBQUBAgMFBQMFAQEFBQUFBQEBAgUBAwEBBQUBBAEBBQEEBQEFAQUFAgUFAQIBBQUFAwEFBQUCAQUFBQEFAQQBBAEFBQUDBQMDBQUBBAUFAQEEAwECAQQFAQUFBQICAQMFAQEBAgEBBQEFBAQFBQEFBQUCBQUBBQEDAQUBBQQFBQUDBQUEBQEFAgEBAgEFAgQDBQUFBQUFBAMFAQQFBQUDAQUCAQEBAQUDBQQBBQEBAwEDAQIFAgEDBQEFAwUFBQEDAQUBAQMFBQUBBQUFAgEFBQEBAQEBBQEFBQUDAQECAQEBBQIDBAQDAQMBBQEFAQUDBQEFAQUFBQEFBQUFAwEBBQQEAQUFBAEEAgEEBQEBAgUFAwEFBQIFBQUBBQUFAgUFAQUBAQUEAQUFAgEFAQQBBAUBAQUFBAMFBQEDAQUFAQMBAgUFAQIBBQUBBQEFBQUBBQEFBQIDBQEFBQEFAQQBAQEBBQEFAgUBBQQBAQEBBQEBBQEFBQUFBQQBAQEBBQUFBQUFBQUBBQEBAgUFBQIDAQMBBQIFAQUBBQEEAQUFBAUBAQEFAQUDBQQDBQEBAQUFAQEFBQUFBQUBBQEEAQUBBQUFAQMCBQUBAQICBAUBBQIBAQIFAgUCAQECBAUBAwEFBQEBAQEFBQQFAwEEBQECBQEBAQUFAwUCAgEFAQUFBQUBBQQDAQIBAgUDBQEBBQEDAgUFBAEEAgIFAQUFAQMFBQQFBQUEBQEEBAQBBAQDAQUFAwEFAQUBBQUDAQEFBQEFAQMFBQQFAwEBBAEFAQIDAQEEBQQBAQUFBQUBBQUBBQEBBQUBAQEDBQEDAQIBAgUFBAEBBQQBBQQEAgEFAQUFAwUEAQEEAQEBBAEFAQQFAQEFBQQFBQUFAQMCBQEBBQEBAQQDAQQFBQEFBQEEAQUDAgUDBQUFBQUFAQQCAQUCAgMFBAQCBQUBAQIFAQMEAQIFBQQFBQECAwUBAQMEBQEFBQEBBAUBAQEFBAUCAwUEBQEBBQUFBQQEBQEFBQUFAwQBBAQBBQEFBQEBBQUCBAQFBQEEAwUFBAEEAQEBBQUFBQUFBQEBAwEBAQEBAQEBBQEBBQUFBQUCBQUBBQUFAQEFAQUFBAIBBAQFBQEFAQIFBAMFBQIFBQUFBQUFBQQBBQEFBAEFBQEEBQMFBQUDBQEDBQUFAgUBBQUBAQUFAwUDBQEBAgEFBQEFAQECAQEFBQUFBQEBBAUFBQEBAQMFBQUBAQIBBQICBQEFBQQBBQUFBQEFBQUEBQQEBQUFBQUCBQUFBAEFAQUFBQUFAQIFAQUFBQUFAQUFAQEFBAUDBQUFBQEFBQUFBQUBBQUEBQUFAgUBBQUBAQUFAgUBBQEFAQUBBQQBAQUEAQUFBAEFBQQBBQUFBQUFBQUBBQUFAQIBBAUBAQEEBQEFBQUDBQEEAQIEBAECAgECAgEFAQUBAwUFBQUBBAIFBAEDBQQEAwMFAgQDAQQCBQEFBQEFBQUFAQEEBQEBBQEFBQIBBQEFBAEFAQQDAQUFAgUDBQQBBQIFAQEFBQUBBQUEBQUBAQUBBQEFBAUBBAUBBAEFAQQEAwEEBQUBBQMDBQUFAQEFBAQFBQEFBAEFAQEBBQUBBQEEAQUFBAUCBQICBQUEBQ==",
          "dtype": "i1"
         },
         "xaxis": "x",
         "yaxis": "y"
        }
       ],
       "layout": {
        "annotations": [
         {
          "showarrow": false,
          "text": "Avg: 3.17",
          "x": 3.1701,
          "xanchor": "left",
          "xref": "x",
          "y": 1,
          "yanchor": "top",
          "yref": "y domain"
         },
         {
          "showarrow": false,
          "text": "36.9%",
          "x": 1,
          "y": 3688,
          "yshift": 10
         },
         {
          "showarrow": false,
          "text": "5.5%",
          "x": 2,
          "y": 549,
          "yshift": 10
         },
         {
          "showarrow": false,
          "text": "5.4%",
          "x": 3,
          "y": 539,
          "yshift": 10
         },
         {
          "showarrow": false,
          "text": "8.2%",
          "x": 4,
          "y": 822,
          "yshift": 10
         },
         {
          "showarrow": false,
          "text": "44.0%",
          "x": 5,
          "y": 4402,
          "yshift": 10
         }
        ],
        "bargap": 0.2,
        "barmode": "relative",
        "legend": {
         "tracegroupgap": 0
        },
        "shapes": [
         {
          "line": {
           "color": "red",
           "dash": "dash"
          },
          "type": "line",
          "x0": 3.1701,
          "x1": 3.1701,
          "xref": "x",
          "y0": 0,
          "y1": 1,
          "yref": "y domain"
         }
        ],
        "template": {
         "data": {
          "bar": [
           {
            "error_x": {
             "color": "#f2f5fa"
            },
            "error_y": {
             "color": "#f2f5fa"
            },
            "marker": {
             "line": {
              "color": "rgb(17,17,17)",
              "width": 0.5
             },
             "pattern": {
              "fillmode": "overlay",
              "size": 10,
              "solidity": 0.2
             }
            },
            "type": "bar"
           }
          ],
          "barpolar": [
           {
            "marker": {
             "line": {
              "color": "rgb(17,17,17)",
              "width": 0.5
             },
             "pattern": {
              "fillmode": "overlay",
              "size": 10,
              "solidity": 0.2
             }
            },
            "type": "barpolar"
           }
          ],
          "carpet": [
           {
            "aaxis": {
             "endlinecolor": "#A2B1C6",
             "gridcolor": "#506784",
             "linecolor": "#506784",
             "minorgridcolor": "#506784",
             "startlinecolor": "#A2B1C6"
            },
            "baxis": {
             "endlinecolor": "#A2B1C6",
             "gridcolor": "#506784",
             "linecolor": "#506784",
             "minorgridcolor": "#506784",
             "startlinecolor": "#A2B1C6"
            },
            "type": "carpet"
           }
          ],
          "choropleth": [
           {
            "colorbar": {
             "outlinewidth": 0,
             "ticks": ""
            },
            "type": "choropleth"
           }
          ],
          "contour": [
           {
            "colorbar": {
             "outlinewidth": 0,
             "ticks": ""
            },
            "colorscale": [
             [
              0,
              "#0d0887"
             ],
             [
              0.1111111111111111,
              "#46039f"
             ],
             [
              0.2222222222222222,
              "#7201a8"
             ],
             [
              0.3333333333333333,
              "#9c179e"
             ],
             [
              0.4444444444444444,
              "#bd3786"
             ],
             [
              0.5555555555555556,
              "#d8576b"
             ],
             [
              0.6666666666666666,
              "#ed7953"
             ],
             [
              0.7777777777777778,
              "#fb9f3a"
             ],
             [
              0.8888888888888888,
              "#fdca26"
             ],
             [
              1,
              "#f0f921"
             ]
            ],
            "type": "contour"
           }
          ],
          "contourcarpet": [
           {
            "colorbar": {
             "outlinewidth": 0,
             "ticks": ""
            },
            "type": "contourcarpet"
           }
          ],
          "heatmap": [
           {
            "colorbar": {
             "outlinewidth": 0,
             "ticks": ""
            },
            "colorscale": [
             [
              0,
              "#0d0887"
             ],
             [
              0.1111111111111111,
              "#46039f"
             ],
             [
              0.2222222222222222,
              "#7201a8"
             ],
             [
              0.3333333333333333,
              "#9c179e"
             ],
             [
              0.4444444444444444,
              "#bd3786"
             ],
             [
              0.5555555555555556,
              "#d8576b"
             ],
             [
              0.6666666666666666,
              "#ed7953"
             ],
             [
              0.7777777777777778,
              "#fb9f3a"
             ],
             [
              0.8888888888888888,
              "#fdca26"
             ],
             [
              1,
              "#f0f921"
             ]
            ],
            "type": "heatmap"
           }
          ],
          "histogram": [
           {
            "marker": {
             "pattern": {
              "fillmode": "overlay",
              "size": 10,
              "solidity": 0.2
             }
            },
            "type": "histogram"
           }
          ],
          "histogram2d": [
           {
            "colorbar": {
             "outlinewidth": 0,
             "ticks": ""
            },
            "colorscale": [
             [
              0,
              "#0d0887"
             ],
             [
              0.1111111111111111,
              "#46039f"
             ],
             [
              0.2222222222222222,
              "#7201a8"
             ],
             [
              0.3333333333333333,
              "#9c179e"
             ],
             [
              0.4444444444444444,
              "#bd3786"
             ],
             [
              0.5555555555555556,
              "#d8576b"
             ],
             [
              0.6666666666666666,
              "#ed7953"
             ],
             [
              0.7777777777777778,
              "#fb9f3a"
             ],
             [
              0.8888888888888888,
              "#fdca26"
             ],
             [
              1,
              "#f0f921"
             ]
            ],
            "type": "histogram2d"
           }
          ],
          "histogram2dcontour": [
           {
            "colorbar": {
             "outlinewidth": 0,
             "ticks": ""
            },
            "colorscale": [
             [
              0,
              "#0d0887"
             ],
             [
              0.1111111111111111,
              "#46039f"
             ],
             [
              0.2222222222222222,
              "#7201a8"
             ],
             [
              0.3333333333333333,
              "#9c179e"
             ],
             [
              0.4444444444444444,
              "#bd3786"
             ],
             [
              0.5555555555555556,
              "#d8576b"
             ],
             [
              0.6666666666666666,
              "#ed7953"
             ],
             [
              0.7777777777777778,
              "#fb9f3a"
             ],
             [
              0.8888888888888888,
              "#fdca26"
             ],
             [
              1,
              "#f0f921"
             ]
            ],
            "type": "histogram2dcontour"
           }
          ],
          "mesh3d": [
           {
            "colorbar": {
             "outlinewidth": 0,
             "ticks": ""
            },
            "type": "mesh3d"
           }
          ],
          "parcoords": [
           {
            "line": {
             "colorbar": {
              "outlinewidth": 0,
              "ticks": ""
             }
            },
            "type": "parcoords"
           }
          ],
          "pie": [
           {
            "automargin": true,
            "type": "pie"
           }
          ],
          "scatter": [
           {
            "marker": {
             "line": {
              "color": "#283442"
             }
            },
            "type": "scatter"
           }
          ],
          "scatter3d": [
           {
            "line": {
             "colorbar": {
              "outlinewidth": 0,
              "ticks": ""
             }
            },
            "marker": {
             "colorbar": {
              "outlinewidth": 0,
              "ticks": ""
             }
            },
            "type": "scatter3d"
           }
          ],
          "scattercarpet": [
           {
            "marker": {
             "colorbar": {
              "outlinewidth": 0,
              "ticks": ""
             }
            },
            "type": "scattercarpet"
           }
          ],
          "scattergeo": [
           {
            "marker": {
             "colorbar": {
              "outlinewidth": 0,
              "ticks": ""
             }
            },
            "type": "scattergeo"
           }
          ],
          "scattergl": [
           {
            "marker": {
             "line": {
              "color": "#283442"
             }
            },
            "type": "scattergl"
           }
          ],
          "scattermap": [
           {
            "marker": {
             "colorbar": {
              "outlinewidth": 0,
              "ticks": ""
             }
            },
            "type": "scattermap"
           }
          ],
          "scattermapbox": [
           {
            "marker": {
             "colorbar": {
              "outlinewidth": 0,
              "ticks": ""
             }
            },
            "type": "scattermapbox"
           }
          ],
          "scatterpolar": [
           {
            "marker": {
             "colorbar": {
              "outlinewidth": 0,
              "ticks": ""
             }
            },
            "type": "scatterpolar"
           }
          ],
          "scatterpolargl": [
           {
            "marker": {
             "colorbar": {
              "outlinewidth": 0,
              "ticks": ""
             }
            },
            "type": "scatterpolargl"
           }
          ],
          "scatterternary": [
           {
            "marker": {
             "colorbar": {
              "outlinewidth": 0,
              "ticks": ""
             }
            },
            "type": "scatterternary"
           }
          ],
          "surface": [
           {
            "colorbar": {
             "outlinewidth": 0,
             "ticks": ""
            },
            "colorscale": [
             [
              0,
              "#0d0887"
             ],
             [
              0.1111111111111111,
              "#46039f"
             ],
             [
              0.2222222222222222,
              "#7201a8"
             ],
             [
              0.3333333333333333,
              "#9c179e"
             ],
             [
              0.4444444444444444,
              "#bd3786"
             ],
             [
              0.5555555555555556,
              "#d8576b"
             ],
             [
              0.6666666666666666,
              "#ed7953"
             ],
             [
              0.7777777777777778,
              "#fb9f3a"
             ],
             [
              0.8888888888888888,
              "#fdca26"
             ],
             [
              1,
              "#f0f921"
             ]
            ],
            "type": "surface"
           }
          ],
          "table": [
           {
            "cells": {
             "fill": {
              "color": "#506784"
             },
             "line": {
              "color": "rgb(17,17,17)"
             }
            },
            "header": {
             "fill": {
              "color": "#2a3f5f"
             },
             "line": {
              "color": "rgb(17,17,17)"
             }
            },
            "type": "table"
           }
          ]
         },
         "layout": {
          "annotationdefaults": {
           "arrowcolor": "#f2f5fa",
           "arrowhead": 0,
           "arrowwidth": 1
          },
          "autotypenumbers": "strict",
          "coloraxis": {
           "colorbar": {
            "outlinewidth": 0,
            "ticks": ""
           }
          },
          "colorscale": {
           "diverging": [
            [
             0,
             "#8e0152"
            ],
            [
             0.1,
             "#c51b7d"
            ],
            [
             0.2,
             "#de77ae"
            ],
            [
             0.3,
             "#f1b6da"
            ],
            [
             0.4,
             "#fde0ef"
            ],
            [
             0.5,
             "#f7f7f7"
            ],
            [
             0.6,
             "#e6f5d0"
            ],
            [
             0.7,
             "#b8e186"
            ],
            [
             0.8,
             "#7fbc41"
            ],
            [
             0.9,
             "#4d9221"
            ],
            [
             1,
             "#276419"
            ]
           ],
           "sequential": [
            [
             0,
             "#0d0887"
            ],
            [
             0.1111111111111111,
             "#46039f"
            ],
            [
             0.2222222222222222,
             "#7201a8"
            ],
            [
             0.3333333333333333,
             "#9c179e"
            ],
            [
             0.4444444444444444,
             "#bd3786"
            ],
            [
             0.5555555555555556,
             "#d8576b"
            ],
            [
             0.6666666666666666,
             "#ed7953"
            ],
            [
             0.7777777777777778,
             "#fb9f3a"
            ],
            [
             0.8888888888888888,
             "#fdca26"
            ],
            [
             1,
             "#f0f921"
            ]
           ],
           "sequentialminus": [
            [
             0,
             "#0d0887"
            ],
            [
             0.1111111111111111,
             "#46039f"
            ],
            [
             0.2222222222222222,
             "#7201a8"
            ],
            [
             0.3333333333333333,
             "#9c179e"
            ],
            [
             0.4444444444444444,
             "#bd3786"
            ],
            [
             0.5555555555555556,
             "#d8576b"
            ],
            [
             0.6666666666666666,
             "#ed7953"
            ],
            [
             0.7777777777777778,
             "#fb9f3a"
            ],
            [
             0.8888888888888888,
             "#fdca26"
            ],
            [
             1,
             "#f0f921"
            ]
           ]
          },
          "colorway": [
           "#636efa",
           "#EF553B",
           "#00cc96",
           "#ab63fa",
           "#FFA15A",
           "#19d3f3",
           "#FF6692",
           "#B6E880",
           "#FF97FF",
           "#FECB52"
          ],
          "font": {
           "color": "#f2f5fa"
          },
          "geo": {
           "bgcolor": "rgb(17,17,17)",
           "lakecolor": "rgb(17,17,17)",
           "landcolor": "rgb(17,17,17)",
           "showlakes": true,
           "showland": true,
           "subunitcolor": "#506784"
          },
          "hoverlabel": {
           "align": "left"
          },
          "hovermode": "closest",
          "mapbox": {
           "style": "dark"
          },
          "paper_bgcolor": "rgb(17,17,17)",
          "plot_bgcolor": "rgb(17,17,17)",
          "polar": {
           "angularaxis": {
            "gridcolor": "#506784",
            "linecolor": "#506784",
            "ticks": ""
           },
           "bgcolor": "rgb(17,17,17)",
           "radialaxis": {
            "gridcolor": "#506784",
            "linecolor": "#506784",
            "ticks": ""
           }
          },
          "scene": {
           "xaxis": {
            "backgroundcolor": "rgb(17,17,17)",
            "gridcolor": "#506784",
            "gridwidth": 2,
            "linecolor": "#506784",
            "showbackground": true,
            "ticks": "",
            "zerolinecolor": "#C8D4E3"
           },
           "yaxis": {
            "backgroundcolor": "rgb(17,17,17)",
            "gridcolor": "#506784",
            "gridwidth": 2,
            "linecolor": "#506784",
            "showbackground": true,
            "ticks": "",
            "zerolinecolor": "#C8D4E3"
           },
           "zaxis": {
            "backgroundcolor": "rgb(17,17,17)",
            "gridcolor": "#506784",
            "gridwidth": 2,
            "linecolor": "#506784",
            "showbackground": true,
            "ticks": "",
            "zerolinecolor": "#C8D4E3"
           }
          },
          "shapedefaults": {
           "line": {
            "color": "#f2f5fa"
           }
          },
          "sliderdefaults": {
           "bgcolor": "#C8D4E3",
           "bordercolor": "rgb(17,17,17)",
           "borderwidth": 1,
           "tickwidth": 0
          },
          "ternary": {
           "aaxis": {
            "gridcolor": "#506784",
            "linecolor": "#506784",
            "ticks": ""
           },
           "baxis": {
            "gridcolor": "#506784",
            "linecolor": "#506784",
            "ticks": ""
           },
           "bgcolor": "rgb(17,17,17)",
           "caxis": {
            "gridcolor": "#506784",
            "linecolor": "#506784",
            "ticks": ""
           }
          },
          "title": {
           "x": 0.05
          },
          "updatemenudefaults": {
           "bgcolor": "#506784",
           "borderwidth": 0
          },
          "xaxis": {
           "automargin": true,
           "gridcolor": "#283442",
           "linecolor": "#506784",
           "ticks": "",
           "title": {
            "standoff": 15
           },
           "zerolinecolor": "#283442",
           "zerolinewidth": 2
          },
          "yaxis": {
           "automargin": true,
           "gridcolor": "#283442",
           "linecolor": "#506784",
           "ticks": "",
           "title": {
            "standoff": 15
           },
           "zerolinecolor": "#283442",
           "zerolinewidth": 2
          }
         }
        },
        "title": {
         "text": "Mobile App - Rating Distribution"
        },
        "xaxis": {
         "anchor": "y",
         "domain": [
          0,
          1
         ],
         "dtick": 1,
         "tickmode": "linear",
         "title": {
          "text": "Rating"
         }
        },
        "yaxis": {
         "anchor": "x",
         "domain": [
          0,
          1
         ],
         "title": {
          "text": "Number of Reviews"
         }
        }
       }
      }
     },
     "metadata": {},
     "output_type": "display_data"
    }
   ],
   "source": [
    "# Create rating distribution visualization\n",
    "rating_viz = runner.visualizer.plot_rating_distribution(\n",
    "    data=analyzed_df,\n",
    "    title=\"Mobile App - Rating Distribution\",\n",
    "    use_plotly=True,\n",
    "    close_fig=False\n",
    ")\n",
    "\n",
    "# Display the figure\n",
    "rating_viz[\"figure\"].show()"
   ]
  },
  {
   "cell_type": "markdown",
   "metadata": {},
   "source": [
    "## Version-Based Analysis\n",
    "\n",
    "App version information is valuable for understanding how different releases impact user sentiment and feedback. This analysis allows us to track the evolution of user satisfaction across app updates and identify versions that introduced features or issues."
   ]
  },
  {
   "cell_type": "code",
   "execution_count": 17,
   "metadata": {},
   "outputs": [
    {
     "name": "stdout",
     "output_type": "stream",
     "text": [
      "\n",
      "=== Version-Specific Visualization ===\n",
      "Select a version range to visualize in detail:\n",
      "\n",
      "Visualizing current versions (6.x)...\n",
      "\n",
      "Generating visualizations for: Current Versions (6.x)\n"
     ]
    },
    {
     "data": {
      "application/vnd.plotly.v1+json": {
       "config": {
        "plotlyServerURL": "https://plot.ly"
       },
       "data": [
        {
         "customdata": [
          [
           "positive"
          ],
          [
           "negative"
          ],
          [
           "neutral"
          ]
         ],
         "domain": {
          "x": [
           0,
           1
          ],
          "y": [
           0,
           1
          ]
         },
         "hole": 0.3,
         "hovertemplate": "label=%{label}<br>value=%{value}<br>color=%{customdata[0]}<extra></extra>",
         "labels": [
          "positive",
          "negative",
          "neutral"
         ],
         "legendgroup": "",
         "marker": {
          "colors": [
           "green",
           "red",
           "blue"
          ]
         },
         "name": "",
         "showlegend": true,
         "type": "pie",
         "values": {
          "bdata": "UAueBfwA",
          "dtype": "i2"
         }
        }
       ],
       "layout": {
        "annotations": [
         {
          "showarrow": false,
          "text": "Total: 4586 reviews",
          "x": 0.5,
          "y": 0.5
         }
        ],
        "legend": {
         "tracegroupgap": 0
        },
        "template": {
         "data": {
          "bar": [
           {
            "error_x": {
             "color": "#2a3f5f"
            },
            "error_y": {
             "color": "#2a3f5f"
            },
            "marker": {
             "line": {
              "color": "#E5ECF6",
              "width": 0.5
             },
             "pattern": {
              "fillmode": "overlay",
              "size": 10,
              "solidity": 0.2
             }
            },
            "type": "bar"
           }
          ],
          "barpolar": [
           {
            "marker": {
             "line": {
              "color": "#E5ECF6",
              "width": 0.5
             },
             "pattern": {
              "fillmode": "overlay",
              "size": 10,
              "solidity": 0.2
             }
            },
            "type": "barpolar"
           }
          ],
          "carpet": [
           {
            "aaxis": {
             "endlinecolor": "#2a3f5f",
             "gridcolor": "white",
             "linecolor": "white",
             "minorgridcolor": "white",
             "startlinecolor": "#2a3f5f"
            },
            "baxis": {
             "endlinecolor": "#2a3f5f",
             "gridcolor": "white",
             "linecolor": "white",
             "minorgridcolor": "white",
             "startlinecolor": "#2a3f5f"
            },
            "type": "carpet"
           }
          ],
          "choropleth": [
           {
            "colorbar": {
             "outlinewidth": 0,
             "ticks": ""
            },
            "type": "choropleth"
           }
          ],
          "contour": [
           {
            "colorbar": {
             "outlinewidth": 0,
             "ticks": ""
            },
            "colorscale": [
             [
              0,
              "#0d0887"
             ],
             [
              0.1111111111111111,
              "#46039f"
             ],
             [
              0.2222222222222222,
              "#7201a8"
             ],
             [
              0.3333333333333333,
              "#9c179e"
             ],
             [
              0.4444444444444444,
              "#bd3786"
             ],
             [
              0.5555555555555556,
              "#d8576b"
             ],
             [
              0.6666666666666666,
              "#ed7953"
             ],
             [
              0.7777777777777778,
              "#fb9f3a"
             ],
             [
              0.8888888888888888,
              "#fdca26"
             ],
             [
              1,
              "#f0f921"
             ]
            ],
            "type": "contour"
           }
          ],
          "contourcarpet": [
           {
            "colorbar": {
             "outlinewidth": 0,
             "ticks": ""
            },
            "type": "contourcarpet"
           }
          ],
          "heatmap": [
           {
            "colorbar": {
             "outlinewidth": 0,
             "ticks": ""
            },
            "colorscale": [
             [
              0,
              "#0d0887"
             ],
             [
              0.1111111111111111,
              "#46039f"
             ],
             [
              0.2222222222222222,
              "#7201a8"
             ],
             [
              0.3333333333333333,
              "#9c179e"
             ],
             [
              0.4444444444444444,
              "#bd3786"
             ],
             [
              0.5555555555555556,
              "#d8576b"
             ],
             [
              0.6666666666666666,
              "#ed7953"
             ],
             [
              0.7777777777777778,
              "#fb9f3a"
             ],
             [
              0.8888888888888888,
              "#fdca26"
             ],
             [
              1,
              "#f0f921"
             ]
            ],
            "type": "heatmap"
           }
          ],
          "histogram": [
           {
            "marker": {
             "pattern": {
              "fillmode": "overlay",
              "size": 10,
              "solidity": 0.2
             }
            },
            "type": "histogram"
           }
          ],
          "histogram2d": [
           {
            "colorbar": {
             "outlinewidth": 0,
             "ticks": ""
            },
            "colorscale": [
             [
              0,
              "#0d0887"
             ],
             [
              0.1111111111111111,
              "#46039f"
             ],
             [
              0.2222222222222222,
              "#7201a8"
             ],
             [
              0.3333333333333333,
              "#9c179e"
             ],
             [
              0.4444444444444444,
              "#bd3786"
             ],
             [
              0.5555555555555556,
              "#d8576b"
             ],
             [
              0.6666666666666666,
              "#ed7953"
             ],
             [
              0.7777777777777778,
              "#fb9f3a"
             ],
             [
              0.8888888888888888,
              "#fdca26"
             ],
             [
              1,
              "#f0f921"
             ]
            ],
            "type": "histogram2d"
           }
          ],
          "histogram2dcontour": [
           {
            "colorbar": {
             "outlinewidth": 0,
             "ticks": ""
            },
            "colorscale": [
             [
              0,
              "#0d0887"
             ],
             [
              0.1111111111111111,
              "#46039f"
             ],
             [
              0.2222222222222222,
              "#7201a8"
             ],
             [
              0.3333333333333333,
              "#9c179e"
             ],
             [
              0.4444444444444444,
              "#bd3786"
             ],
             [
              0.5555555555555556,
              "#d8576b"
             ],
             [
              0.6666666666666666,
              "#ed7953"
             ],
             [
              0.7777777777777778,
              "#fb9f3a"
             ],
             [
              0.8888888888888888,
              "#fdca26"
             ],
             [
              1,
              "#f0f921"
             ]
            ],
            "type": "histogram2dcontour"
           }
          ],
          "mesh3d": [
           {
            "colorbar": {
             "outlinewidth": 0,
             "ticks": ""
            },
            "type": "mesh3d"
           }
          ],
          "parcoords": [
           {
            "line": {
             "colorbar": {
              "outlinewidth": 0,
              "ticks": ""
             }
            },
            "type": "parcoords"
           }
          ],
          "pie": [
           {
            "automargin": true,
            "type": "pie"
           }
          ],
          "scatter": [
           {
            "fillpattern": {
             "fillmode": "overlay",
             "size": 10,
             "solidity": 0.2
            },
            "type": "scatter"
           }
          ],
          "scatter3d": [
           {
            "line": {
             "colorbar": {
              "outlinewidth": 0,
              "ticks": ""
             }
            },
            "marker": {
             "colorbar": {
              "outlinewidth": 0,
              "ticks": ""
             }
            },
            "type": "scatter3d"
           }
          ],
          "scattercarpet": [
           {
            "marker": {
             "colorbar": {
              "outlinewidth": 0,
              "ticks": ""
             }
            },
            "type": "scattercarpet"
           }
          ],
          "scattergeo": [
           {
            "marker": {
             "colorbar": {
              "outlinewidth": 0,
              "ticks": ""
             }
            },
            "type": "scattergeo"
           }
          ],
          "scattergl": [
           {
            "marker": {
             "colorbar": {
              "outlinewidth": 0,
              "ticks": ""
             }
            },
            "type": "scattergl"
           }
          ],
          "scattermap": [
           {
            "marker": {
             "colorbar": {
              "outlinewidth": 0,
              "ticks": ""
             }
            },
            "type": "scattermap"
           }
          ],
          "scattermapbox": [
           {
            "marker": {
             "colorbar": {
              "outlinewidth": 0,
              "ticks": ""
             }
            },
            "type": "scattermapbox"
           }
          ],
          "scatterpolar": [
           {
            "marker": {
             "colorbar": {
              "outlinewidth": 0,
              "ticks": ""
             }
            },
            "type": "scatterpolar"
           }
          ],
          "scatterpolargl": [
           {
            "marker": {
             "colorbar": {
              "outlinewidth": 0,
              "ticks": ""
             }
            },
            "type": "scatterpolargl"
           }
          ],
          "scatterternary": [
           {
            "marker": {
             "colorbar": {
              "outlinewidth": 0,
              "ticks": ""
             }
            },
            "type": "scatterternary"
           }
          ],
          "surface": [
           {
            "colorbar": {
             "outlinewidth": 0,
             "ticks": ""
            },
            "colorscale": [
             [
              0,
              "#0d0887"
             ],
             [
              0.1111111111111111,
              "#46039f"
             ],
             [
              0.2222222222222222,
              "#7201a8"
             ],
             [
              0.3333333333333333,
              "#9c179e"
             ],
             [
              0.4444444444444444,
              "#bd3786"
             ],
             [
              0.5555555555555556,
              "#d8576b"
             ],
             [
              0.6666666666666666,
              "#ed7953"
             ],
             [
              0.7777777777777778,
              "#fb9f3a"
             ],
             [
              0.8888888888888888,
              "#fdca26"
             ],
             [
              1,
              "#f0f921"
             ]
            ],
            "type": "surface"
           }
          ],
          "table": [
           {
            "cells": {
             "fill": {
              "color": "#EBF0F8"
             },
             "line": {
              "color": "white"
             }
            },
            "header": {
             "fill": {
              "color": "#C8D4E3"
             },
             "line": {
              "color": "white"
             }
            },
            "type": "table"
           }
          ]
         },
         "layout": {
          "annotationdefaults": {
           "arrowcolor": "#2a3f5f",
           "arrowhead": 0,
           "arrowwidth": 1
          },
          "autotypenumbers": "strict",
          "coloraxis": {
           "colorbar": {
            "outlinewidth": 0,
            "ticks": ""
           }
          },
          "colorscale": {
           "diverging": [
            [
             0,
             "#8e0152"
            ],
            [
             0.1,
             "#c51b7d"
            ],
            [
             0.2,
             "#de77ae"
            ],
            [
             0.3,
             "#f1b6da"
            ],
            [
             0.4,
             "#fde0ef"
            ],
            [
             0.5,
             "#f7f7f7"
            ],
            [
             0.6,
             "#e6f5d0"
            ],
            [
             0.7,
             "#b8e186"
            ],
            [
             0.8,
             "#7fbc41"
            ],
            [
             0.9,
             "#4d9221"
            ],
            [
             1,
             "#276419"
            ]
           ],
           "sequential": [
            [
             0,
             "#0d0887"
            ],
            [
             0.1111111111111111,
             "#46039f"
            ],
            [
             0.2222222222222222,
             "#7201a8"
            ],
            [
             0.3333333333333333,
             "#9c179e"
            ],
            [
             0.4444444444444444,
             "#bd3786"
            ],
            [
             0.5555555555555556,
             "#d8576b"
            ],
            [
             0.6666666666666666,
             "#ed7953"
            ],
            [
             0.7777777777777778,
             "#fb9f3a"
            ],
            [
             0.8888888888888888,
             "#fdca26"
            ],
            [
             1,
             "#f0f921"
            ]
           ],
           "sequentialminus": [
            [
             0,
             "#0d0887"
            ],
            [
             0.1111111111111111,
             "#46039f"
            ],
            [
             0.2222222222222222,
             "#7201a8"
            ],
            [
             0.3333333333333333,
             "#9c179e"
            ],
            [
             0.4444444444444444,
             "#bd3786"
            ],
            [
             0.5555555555555556,
             "#d8576b"
            ],
            [
             0.6666666666666666,
             "#ed7953"
            ],
            [
             0.7777777777777778,
             "#fb9f3a"
            ],
            [
             0.8888888888888888,
             "#fdca26"
            ],
            [
             1,
             "#f0f921"
            ]
           ]
          },
          "colorway": [
           "#636efa",
           "#EF553B",
           "#00cc96",
           "#ab63fa",
           "#FFA15A",
           "#19d3f3",
           "#FF6692",
           "#B6E880",
           "#FF97FF",
           "#FECB52"
          ],
          "font": {
           "color": "#2a3f5f"
          },
          "geo": {
           "bgcolor": "white",
           "lakecolor": "white",
           "landcolor": "#E5ECF6",
           "showlakes": true,
           "showland": true,
           "subunitcolor": "white"
          },
          "hoverlabel": {
           "align": "left"
          },
          "hovermode": "closest",
          "mapbox": {
           "style": "light"
          },
          "paper_bgcolor": "white",
          "plot_bgcolor": "#E5ECF6",
          "polar": {
           "angularaxis": {
            "gridcolor": "white",
            "linecolor": "white",
            "ticks": ""
           },
           "bgcolor": "#E5ECF6",
           "radialaxis": {
            "gridcolor": "white",
            "linecolor": "white",
            "ticks": ""
           }
          },
          "scene": {
           "xaxis": {
            "backgroundcolor": "#E5ECF6",
            "gridcolor": "white",
            "gridwidth": 2,
            "linecolor": "white",
            "showbackground": true,
            "ticks": "",
            "zerolinecolor": "white"
           },
           "yaxis": {
            "backgroundcolor": "#E5ECF6",
            "gridcolor": "white",
            "gridwidth": 2,
            "linecolor": "white",
            "showbackground": true,
            "ticks": "",
            "zerolinecolor": "white"
           },
           "zaxis": {
            "backgroundcolor": "#E5ECF6",
            "gridcolor": "white",
            "gridwidth": 2,
            "linecolor": "white",
            "showbackground": true,
            "ticks": "",
            "zerolinecolor": "white"
           }
          },
          "shapedefaults": {
           "line": {
            "color": "#2a3f5f"
           }
          },
          "ternary": {
           "aaxis": {
            "gridcolor": "white",
            "linecolor": "white",
            "ticks": ""
           },
           "baxis": {
            "gridcolor": "white",
            "linecolor": "white",
            "ticks": ""
           },
           "bgcolor": "#E5ECF6",
           "caxis": {
            "gridcolor": "white",
            "linecolor": "white",
            "ticks": ""
           }
          },
          "title": {
           "x": 0.05
          },
          "xaxis": {
           "automargin": true,
           "gridcolor": "white",
           "linecolor": "white",
           "ticks": "",
           "title": {
            "standoff": 15
           },
           "zerolinecolor": "white",
           "zerolinewidth": 2
          },
          "yaxis": {
           "automargin": true,
           "gridcolor": "white",
           "linecolor": "white",
           "ticks": "",
           "title": {
            "standoff": 15
           },
           "zerolinecolor": "white",
           "zerolinewidth": 2
          }
         }
        },
        "title": {
         "text": "Sentiment Distribution for Current Versions (6.x)"
        }
       }
      }
     },
     "metadata": {},
     "output_type": "display_data"
    },
    {
     "data": {
      "application/vnd.plotly.v1+json": {
       "config": {
        "plotlyServerURL": "https://plot.ly"
       },
       "data": [
        {
         "bingroup": "x",
         "hovertemplate": "Rating=%{x}<br>count=%{y}<extra></extra>",
         "legendgroup": "1",
         "marker": {
          "color": "#440154",
          "pattern": {
           "shape": ""
          }
         },
         "name": "1",
         "orientation": "v",
         "showlegend": true,
         "texttemplate": "%{value}",
         "type": "histogram",
         "x": {
          "bdata": "AQEBAQEBAQEBAQEBAQEBAQEBAQEBAQEBAQEBAQEBAQEBAQEBAQEBAQEBAQEBAQEBAQEBAQEBAQEBAQEBAQEBAQEBAQEBAQEBAQEBAQEBAQEBAQEBAQEBAQEBAQEBAQEBAQEBAQEBAQEBAQEBAQEBAQEBAQEBAQEBAQEBAQEBAQEBAQEBAQEBAQEBAQEBAQEBAQEBAQEBAQEBAQEBAQEBAQEBAQEBAQEBAQEBAQEBAQEBAQEBAQEBAQEBAQEBAQEBAQEBAQEBAQEBAQEBAQEBAQEBAQEBAQEBAQEBAQEBAQEBAQEBAQEBAQEBAQEBAQEBAQEBAQEBAQEBAQEBAQEBAQEBAQEBAQEBAQEBAQEBAQEBAQEBAQEBAQEBAQEBAQEBAQEBAQEBAQEBAQEBAQEBAQEBAQEBAQEBAQEBAQEBAQEBAQEBAQEBAQEBAQEBAQEBAQEBAQEBAQEBAQEBAQEBAQEBAQEBAQEBAQEBAQEBAQEBAQEBAQEBAQEBAQEBAQEBAQEBAQEBAQEBAQEBAQEBAQEBAQEBAQEBAQEBAQEBAQEBAQEBAQEBAQEBAQEBAQEBAQEBAQEBAQEBAQEBAQEBAQEBAQEBAQEBAQEBAQEBAQEBAQEBAQEBAQEBAQEBAQEBAQEBAQEBAQEBAQEBAQEBAQEBAQEBAQEBAQEBAQEBAQEBAQEBAQEBAQEBAQEBAQEBAQEBAQEBAQEBAQEBAQEBAQEBAQEBAQEBAQEBAQEBAQEBAQEBAQEBAQEBAQEBAQEBAQEBAQEBAQEBAQEBAQEBAQEBAQEBAQEBAQEBAQEBAQEBAQEBAQEBAQEBAQEBAQEBAQEBAQEBAQEBAQEBAQEBAQEBAQEBAQEBAQEBAQEBAQEBAQEBAQEBAQEBAQEBAQEBAQEBAQEBAQEBAQEBAQEBAQEBAQEBAQEBAQEBAQEBAQEBAQEBAQEBAQEBAQEBAQEBAQEBAQEBAQEBAQEBAQEBAQEBAQEBAQEBAQEBAQEBAQEBAQEBAQEBAQEBAQEBAQEBAQEBAQEBAQEBAQEBAQEBAQEBAQEBAQEBAQEBAQEBAQEBAQEBAQEBAQEBAQEBAQEBAQEBAQEBAQEBAQEBAQEBAQEBAQEBAQEBAQEBAQEBAQEBAQEBAQEBAQEBAQEBAQEBAQEBAQEBAQEBAQEBAQEBAQEBAQEBAQEBAQEBAQEBAQEBAQEBAQEBAQEBAQEBAQEBAQEBAQEBAQEBAQEBAQEBAQEBAQEBAQEBAQEBAQEBAQEBAQEBAQEBAQEBAQEBAQEBAQEBAQEBAQEBAQEBAQEBAQEBAQEBAQEBAQEBAQEBAQEBAQEBAQEBAQEBAQEBAQEBAQEBAQEBAQEBAQEBAQEBAQEBAQEBAQEBAQEBAQEBAQEBAQEBAQEBAQEBAQEBAQEBAQEBAQEBAQEBAQEBAQEBAQEBAQEBAQEBAQEBAQEBAQEBAQEBAQEBAQEBAQEBAQEBAQEBAQEBAQEBAQEBAQEBAQEBAQEBAQEBAQEBAQEBAQEBAQEBAQEBAQEBAQEBAQEBAQEBAQEBAQEBAQEBAQEBAQEBAQEBAQEBAQEBAQEBAQEBAQEBAQEBAQEBAQEBAQEBAQEBAQEBAQEBAQEBAQEBAQEBAQEBAQE=",
          "dtype": "i1"
         },
         "xaxis": "x",
         "yaxis": "y"
        },
        {
         "bingroup": "x",
         "hovertemplate": "Rating=%{x}<br>count=%{y}<extra></extra>",
         "legendgroup": "2",
         "marker": {
          "color": "#482878",
          "pattern": {
           "shape": ""
          }
         },
         "name": "2",
         "orientation": "v",
         "showlegend": true,
         "texttemplate": "%{value}",
         "type": "histogram",
         "x": {
          "bdata": "AgICAgICAgICAgICAgICAgICAgICAgICAgICAgICAgICAgICAgICAgICAgICAgICAgICAgICAgICAgICAgICAgICAgICAgICAgICAgICAgICAgICAgICAgICAgICAgICAgICAgICAgICAgICAgICAgICAgICAgICAgICAgICAgICAgICAgICAgICAgICAgICAgICAgICAgICAgICAgICAgICAgICAgICAgICAgICAgICAgICAgICAgICAgICAgICAgICAgICAgICAgICAgICAgICAgICAgI=",
          "dtype": "i1"
         },
         "xaxis": "x",
         "yaxis": "y"
        },
        {
         "bingroup": "x",
         "hovertemplate": "Rating=%{x}<br>count=%{y}<extra></extra>",
         "legendgroup": "3",
         "marker": {
          "color": "#3e4989",
          "pattern": {
           "shape": ""
          }
         },
         "name": "3",
         "orientation": "v",
         "showlegend": true,
         "texttemplate": "%{value}",
         "type": "histogram",
         "x": {
          "bdata": "AwMDAwMDAwMDAwMDAwMDAwMDAwMDAwMDAwMDAwMDAwMDAwMDAwMDAwMDAwMDAwMDAwMDAwMDAwMDAwMDAwMDAwMDAwMDAwMDAwMDAwMDAwMDAwMDAwMDAwMDAwMDAwMDAwMDAwMDAwMDAwMDAwMDAwMDAwMDAwMDAwMDAwMDAwMDAwMDAwMDAwMDAwMDAwMDAwMDAwMDAwMDAwMDAwMDAwMDAwMDAwMDAwMDAwMDAwMDAwMDAwMDAwMDAwMDAwMDAwMDAwMDAwMDAwMDAwMDAwMDAwMDAwMDAwMDAwMDAwMDAwMDAwMDAwMDAwMDAwMDAwMDAwMDAwMDAwMD",
          "dtype": "i1"
         },
         "xaxis": "x",
         "yaxis": "y"
        },
        {
         "bingroup": "x",
         "hovertemplate": "Rating=%{x}<br>count=%{y}<extra></extra>",
         "legendgroup": "4",
         "marker": {
          "color": "#31688e",
          "pattern": {
           "shape": ""
          }
         },
         "name": "4",
         "orientation": "v",
         "showlegend": true,
         "texttemplate": "%{value}",
         "type": "histogram",
         "x": {
          "bdata": "BAQEBAQEBAQEBAQEBAQEBAQEBAQEBAQEBAQEBAQEBAQEBAQEBAQEBAQEBAQEBAQEBAQEBAQEBAQEBAQEBAQEBAQEBAQEBAQEBAQEBAQEBAQEBAQEBAQEBAQEBAQEBAQEBAQEBAQEBAQEBAQEBAQEBAQEBAQEBAQEBAQEBAQEBAQEBAQEBAQEBAQEBAQEBAQEBAQEBAQEBAQEBAQEBAQEBAQEBAQEBAQEBAQEBAQEBAQEBAQEBAQEBAQEBAQEBAQEBAQEBAQEBAQEBAQEBAQEBAQEBAQEBAQEBAQEBAQEBAQEBAQEBAQEBAQEBAQEBAQEBAQEBAQEBAQEBAQEBAQEBAQEBAQEBAQEBAQEBAQEBAQEBAQEBAQEBAQEBAQEBAQEBAQEBAQEBAQEBAQEBAQEBAQEBAQEBAQEBAQEBAQEBAQEBAQEBAQEBAQEBAQEBAQEBAQEBAQEBAQEBAQEBAQEBAQEBAQEBAQEBAQEBAQEBAQEBAQEBAQEBAQEBAQEBAQEBAQEBAQEBAQEBAQEBAQEBAQEBAQEBAQEBAQEBAQEBAQEBAQEBAQEBAQEBAQEBAQEBAQEBAQEBAQE",
          "dtype": "i1"
         },
         "xaxis": "x",
         "yaxis": "y"
        },
        {
         "bingroup": "x",
         "hovertemplate": "Rating=%{x}<br>count=%{y}<extra></extra>",
         "legendgroup": "5",
         "marker": {
          "color": "#26828e",
          "pattern": {
           "shape": ""
          }
         },
         "name": "5",
         "orientation": "v",
         "showlegend": true,
         "texttemplate": "%{value}",
         "type": "histogram",
         "x": {
          "bdata": "BQUFBQUFBQUFBQUFBQUFBQUFBQUFBQUFBQUFBQUFBQUFBQUFBQUFBQUFBQUFBQUFBQUFBQUFBQUFBQUFBQUFBQUFBQUFBQUFBQUFBQUFBQUFBQUFBQUFBQUFBQUFBQUFBQUFBQUFBQUFBQUFBQUFBQUFBQUFBQUFBQUFBQUFBQUFBQUFBQUFBQUFBQUFBQUFBQUFBQUFBQUFBQUFBQUFBQUFBQUFBQUFBQUFBQUFBQUFBQUFBQUFBQUFBQUFBQUFBQUFBQUFBQUFBQUFBQUFBQUFBQUFBQUFBQUFBQUFBQUFBQUFBQUFBQUFBQUFBQUFBQUFBQUFBQUFBQUFBQUFBQUFBQUFBQUFBQUFBQUFBQUFBQUFBQUFBQUFBQUFBQUFBQUFBQUFBQUFBQUFBQUFBQUFBQUFBQUFBQUFBQUFBQUFBQUFBQUFBQUFBQUFBQUFBQUFBQUFBQUFBQUFBQUFBQUFBQUFBQUFBQUFBQUFBQUFBQUFBQUFBQUFBQUFBQUFBQUFBQUFBQUFBQUFBQUFBQUFBQUFBQUFBQUFBQUFBQUFBQUFBQUFBQUFBQUFBQUFBQUFBQUFBQUFBQUFBQUFBQUFBQUFBQUFBQUFBQUFBQUFBQUFBQUFBQUFBQUFBQUFBQUFBQUFBQUFBQUFBQUFBQUFBQUFBQUFBQUFBQUFBQUFBQUFBQUFBQUFBQUFBQUFBQUFBQUFBQUFBQUFBQUFBQUFBQUFBQUFBQUFBQUFBQUFBQUFBQUFBQUFBQUFBQUFBQUFBQUFBQUFBQUFBQUFBQUFBQUFBQUFBQUFBQUFBQUFBQUFBQUFBQUFBQUFBQUFBQUFBQUFBQUFBQUFBQUFBQUFBQUFBQUFBQUFBQUFBQUFBQUFBQUFBQUFBQUFBQUFBQUFBQUFBQUFBQUFBQUFBQUFBQUFBQUFBQUFBQUFBQUFBQUFBQUFBQUFBQUFBQUFBQUFBQUFBQUFBQUFBQUFBQUFBQUFBQUFBQUFBQUFBQUFBQUFBQUFBQUFBQUFBQUFBQUFBQUFBQUFBQUFBQUFBQUFBQUFBQUFBQUFBQUFBQUFBQUFBQUFBQUFBQUFBQUFBQUFBQUFBQUFBQUFBQUFBQUFBQUFBQUFBQUFBQUFBQUFBQUFBQUFBQUFBQUFBQUFBQUFBQUFBQUFBQUFBQUFBQUFBQUFBQUFBQUFBQUFBQUFBQUFBQUFBQUFBQUFBQUFBQUFBQUFBQUFBQUFBQUFBQUFBQUFBQUFBQUFBQUFBQUFBQUFBQUFBQUFBQUFBQUFBQUFBQUFBQUFBQUFBQUFBQUFBQUFBQUFBQUFBQUFBQUFBQUFBQUFBQUFBQUFBQUFBQUFBQUFBQUFBQUFBQUFBQUFBQUFBQUFBQUFBQUFBQUFBQUFBQUFBQUFBQUFBQUFBQUFBQUFBQUFBQUFBQUFBQUFBQUFBQUFBQUFBQUFBQUFBQUFBQUFBQUFBQUFBQUFBQUFBQUFBQUFBQUFBQUFBQUFBQUFBQUFBQUFBQUFBQUFBQUFBQUFBQUFBQUFBQUFBQUFBQUFBQUFBQUFBQUFBQUFBQUFBQUFBQUFBQUFBQUFBQUFBQUFBQUFBQUFBQUFBQUFBQUFBQUFBQUFBQUFBQUFBQUFBQUFBQUFBQUFBQUFBQUFBQUFBQUFBQUFBQUFBQUFBQUFBQUFBQUFBQUFBQUFBQUFBQUFBQUFBQUFBQUFBQUFBQUFBQUFBQUFBQUFBQUFBQUFBQUFBQUFBQUFBQUFBQUFBQUFBQUFBQUFBQUFBQUFBQUFBQUFBQUFBQUFBQUFBQUFBQUFBQUFBQUFBQUFBQUFBQUFBQUFBQUFBQUFBQUFBQUFBQUFBQUFBQUFBQUFBQUFBQUFBQUFBQUFBQUFBQUFBQUFBQUFBQUFBQUFBQUFBQUFBQUFBQUFBQUFBQUFBQUFBQUFBQUFBQUFBQUFBQUFBQUFBQUFBQUFBQUFBQUFBQUFBQUFBQUFBQUFBQUFBQUFBQUFBQUFBQUFBQUFBQUFBQUFBQUFBQUFBQUFBQUFBQUFBQUFBQUFBQUFBQUFBQUFBQUFBQUFBQUFBQUFBQUFBQUFBQUFBQUFBQUFBQUFBQUFBQUFBQUFBQUFBQUFBQUFBQUFBQUFBQUFBQUFBQUFBQUFBQUFBQUFBQUFBQUFBQUFBQUFBQUFBQUFBQUFBQUFBQUFBQUFBQUFBQUFBQUFBQUFBQUFBQUFBQUFBQUFBQUFBQUFBQUFBQUFBQUFBQUFBQUFBQUFBQUFBQUFBQUFBQUFBQUFBQUFBQUFBQUFBQUFBQUFBQUFBQUFBQUFBQUFBQUFBQUFBQUFBQUFBQUFBQUFBQUFBQUFBQUFBQUFBQUFBQUFBQUFBQUFBQUFBQUFBQUFBQUFBQUFBQUFBQUFBQUFBQUFBQUFBQUFBQUFBQUFBQUFBQUFBQUFBQUFBQUFBQUFBQUFBQUFBQUFBQUFBQUFBQUFBQUFBQUFBQUFBQUFBQUFBQUFBQUFBQUFBQUFBQUFBQUFBQUFBQUFBQUFBQUFBQUFBQUFBQUFBQUFBQUFBQUFBQUFBQUFBQUFBQUFBQUFBQUFBQUFBQUFBQUFBQUFBQUFBQUFBQUFBQUFBQUFBQUFBQUFBQUFBQUFBQUFBQUFBQUFBQUFBQUFBQUFBQUFBQUFBQUFBQUFBQUFBQUFBQUFBQUFBQUFBQUFBQUFBQUFBQUFBQUFBQUFBQUFBQUFBQUFBQUFBQUFBQUFBQUFBQUFBQUFBQUFBQUFBQUFBQUFBQUFBQUFBQUFBQUFBQUFBQUFBQUFBQUFBQUFBQUFBQUFBQUFBQUFBQUFBQUFBQUFBQUFBQUFBQUFBQUFBQUFBQUFBQUFBQUFBQUFBQUFBQUFBQUFBQUFBQUFBQUFBQUFBQUFBQUFBQUFBQUFBQUFBQUFBQUFBQUFBQUFBQUFBQUFBQUFBQUFBQUFBQUFBQUFBQUFBQUFBQUFBQUFBQUFBQUFBQUFBQUFBQUFBQUFBQUFBQUFBQUFBQUFBQUFBQUFBQUFBQUFBQUFBQUFBQUFBQUFBQUFBQUFBQUFBQUFBQUFBQUFBQUFBQUFBQUFBQUFBQUFBQUFBQUFBQUFBQUFBQUFBQUFBQUFBQUFBQUFBQUFBQUFBQUFBQUFBQUFBQUFBQUFBQUFBQUFBQUFBQUFBQUFBQUFBQUFBQUFBQUFBQUFBQUFBQUFBQUFBQUFBQUFBQUFBQUFBQUFBQUFBQUFBQUFBQUFBQUFBQUFBQUFBQUFBQUFBQUFBQUFBQUFBQ==",
          "dtype": "i1"
         },
         "xaxis": "x",
         "yaxis": "y"
        }
       ],
       "layout": {
        "barmode": "relative",
        "legend": {
         "title": {
          "text": "Rating"
         },
         "tracegroupgap": 0
        },
        "template": {
         "data": {
          "bar": [
           {
            "error_x": {
             "color": "#2a3f5f"
            },
            "error_y": {
             "color": "#2a3f5f"
            },
            "marker": {
             "line": {
              "color": "#E5ECF6",
              "width": 0.5
             },
             "pattern": {
              "fillmode": "overlay",
              "size": 10,
              "solidity": 0.2
             }
            },
            "type": "bar"
           }
          ],
          "barpolar": [
           {
            "marker": {
             "line": {
              "color": "#E5ECF6",
              "width": 0.5
             },
             "pattern": {
              "fillmode": "overlay",
              "size": 10,
              "solidity": 0.2
             }
            },
            "type": "barpolar"
           }
          ],
          "carpet": [
           {
            "aaxis": {
             "endlinecolor": "#2a3f5f",
             "gridcolor": "white",
             "linecolor": "white",
             "minorgridcolor": "white",
             "startlinecolor": "#2a3f5f"
            },
            "baxis": {
             "endlinecolor": "#2a3f5f",
             "gridcolor": "white",
             "linecolor": "white",
             "minorgridcolor": "white",
             "startlinecolor": "#2a3f5f"
            },
            "type": "carpet"
           }
          ],
          "choropleth": [
           {
            "colorbar": {
             "outlinewidth": 0,
             "ticks": ""
            },
            "type": "choropleth"
           }
          ],
          "contour": [
           {
            "colorbar": {
             "outlinewidth": 0,
             "ticks": ""
            },
            "colorscale": [
             [
              0,
              "#0d0887"
             ],
             [
              0.1111111111111111,
              "#46039f"
             ],
             [
              0.2222222222222222,
              "#7201a8"
             ],
             [
              0.3333333333333333,
              "#9c179e"
             ],
             [
              0.4444444444444444,
              "#bd3786"
             ],
             [
              0.5555555555555556,
              "#d8576b"
             ],
             [
              0.6666666666666666,
              "#ed7953"
             ],
             [
              0.7777777777777778,
              "#fb9f3a"
             ],
             [
              0.8888888888888888,
              "#fdca26"
             ],
             [
              1,
              "#f0f921"
             ]
            ],
            "type": "contour"
           }
          ],
          "contourcarpet": [
           {
            "colorbar": {
             "outlinewidth": 0,
             "ticks": ""
            },
            "type": "contourcarpet"
           }
          ],
          "heatmap": [
           {
            "colorbar": {
             "outlinewidth": 0,
             "ticks": ""
            },
            "colorscale": [
             [
              0,
              "#0d0887"
             ],
             [
              0.1111111111111111,
              "#46039f"
             ],
             [
              0.2222222222222222,
              "#7201a8"
             ],
             [
              0.3333333333333333,
              "#9c179e"
             ],
             [
              0.4444444444444444,
              "#bd3786"
             ],
             [
              0.5555555555555556,
              "#d8576b"
             ],
             [
              0.6666666666666666,
              "#ed7953"
             ],
             [
              0.7777777777777778,
              "#fb9f3a"
             ],
             [
              0.8888888888888888,
              "#fdca26"
             ],
             [
              1,
              "#f0f921"
             ]
            ],
            "type": "heatmap"
           }
          ],
          "histogram": [
           {
            "marker": {
             "pattern": {
              "fillmode": "overlay",
              "size": 10,
              "solidity": 0.2
             }
            },
            "type": "histogram"
           }
          ],
          "histogram2d": [
           {
            "colorbar": {
             "outlinewidth": 0,
             "ticks": ""
            },
            "colorscale": [
             [
              0,
              "#0d0887"
             ],
             [
              0.1111111111111111,
              "#46039f"
             ],
             [
              0.2222222222222222,
              "#7201a8"
             ],
             [
              0.3333333333333333,
              "#9c179e"
             ],
             [
              0.4444444444444444,
              "#bd3786"
             ],
             [
              0.5555555555555556,
              "#d8576b"
             ],
             [
              0.6666666666666666,
              "#ed7953"
             ],
             [
              0.7777777777777778,
              "#fb9f3a"
             ],
             [
              0.8888888888888888,
              "#fdca26"
             ],
             [
              1,
              "#f0f921"
             ]
            ],
            "type": "histogram2d"
           }
          ],
          "histogram2dcontour": [
           {
            "colorbar": {
             "outlinewidth": 0,
             "ticks": ""
            },
            "colorscale": [
             [
              0,
              "#0d0887"
             ],
             [
              0.1111111111111111,
              "#46039f"
             ],
             [
              0.2222222222222222,
              "#7201a8"
             ],
             [
              0.3333333333333333,
              "#9c179e"
             ],
             [
              0.4444444444444444,
              "#bd3786"
             ],
             [
              0.5555555555555556,
              "#d8576b"
             ],
             [
              0.6666666666666666,
              "#ed7953"
             ],
             [
              0.7777777777777778,
              "#fb9f3a"
             ],
             [
              0.8888888888888888,
              "#fdca26"
             ],
             [
              1,
              "#f0f921"
             ]
            ],
            "type": "histogram2dcontour"
           }
          ],
          "mesh3d": [
           {
            "colorbar": {
             "outlinewidth": 0,
             "ticks": ""
            },
            "type": "mesh3d"
           }
          ],
          "parcoords": [
           {
            "line": {
             "colorbar": {
              "outlinewidth": 0,
              "ticks": ""
             }
            },
            "type": "parcoords"
           }
          ],
          "pie": [
           {
            "automargin": true,
            "type": "pie"
           }
          ],
          "scatter": [
           {
            "fillpattern": {
             "fillmode": "overlay",
             "size": 10,
             "solidity": 0.2
            },
            "type": "scatter"
           }
          ],
          "scatter3d": [
           {
            "line": {
             "colorbar": {
              "outlinewidth": 0,
              "ticks": ""
             }
            },
            "marker": {
             "colorbar": {
              "outlinewidth": 0,
              "ticks": ""
             }
            },
            "type": "scatter3d"
           }
          ],
          "scattercarpet": [
           {
            "marker": {
             "colorbar": {
              "outlinewidth": 0,
              "ticks": ""
             }
            },
            "type": "scattercarpet"
           }
          ],
          "scattergeo": [
           {
            "marker": {
             "colorbar": {
              "outlinewidth": 0,
              "ticks": ""
             }
            },
            "type": "scattergeo"
           }
          ],
          "scattergl": [
           {
            "marker": {
             "colorbar": {
              "outlinewidth": 0,
              "ticks": ""
             }
            },
            "type": "scattergl"
           }
          ],
          "scattermap": [
           {
            "marker": {
             "colorbar": {
              "outlinewidth": 0,
              "ticks": ""
             }
            },
            "type": "scattermap"
           }
          ],
          "scattermapbox": [
           {
            "marker": {
             "colorbar": {
              "outlinewidth": 0,
              "ticks": ""
             }
            },
            "type": "scattermapbox"
           }
          ],
          "scatterpolar": [
           {
            "marker": {
             "colorbar": {
              "outlinewidth": 0,
              "ticks": ""
             }
            },
            "type": "scatterpolar"
           }
          ],
          "scatterpolargl": [
           {
            "marker": {
             "colorbar": {
              "outlinewidth": 0,
              "ticks": ""
             }
            },
            "type": "scatterpolargl"
           }
          ],
          "scatterternary": [
           {
            "marker": {
             "colorbar": {
              "outlinewidth": 0,
              "ticks": ""
             }
            },
            "type": "scatterternary"
           }
          ],
          "surface": [
           {
            "colorbar": {
             "outlinewidth": 0,
             "ticks": ""
            },
            "colorscale": [
             [
              0,
              "#0d0887"
             ],
             [
              0.1111111111111111,
              "#46039f"
             ],
             [
              0.2222222222222222,
              "#7201a8"
             ],
             [
              0.3333333333333333,
              "#9c179e"
             ],
             [
              0.4444444444444444,
              "#bd3786"
             ],
             [
              0.5555555555555556,
              "#d8576b"
             ],
             [
              0.6666666666666666,
              "#ed7953"
             ],
             [
              0.7777777777777778,
              "#fb9f3a"
             ],
             [
              0.8888888888888888,
              "#fdca26"
             ],
             [
              1,
              "#f0f921"
             ]
            ],
            "type": "surface"
           }
          ],
          "table": [
           {
            "cells": {
             "fill": {
              "color": "#EBF0F8"
             },
             "line": {
              "color": "white"
             }
            },
            "header": {
             "fill": {
              "color": "#C8D4E3"
             },
             "line": {
              "color": "white"
             }
            },
            "type": "table"
           }
          ]
         },
         "layout": {
          "annotationdefaults": {
           "arrowcolor": "#2a3f5f",
           "arrowhead": 0,
           "arrowwidth": 1
          },
          "autotypenumbers": "strict",
          "coloraxis": {
           "colorbar": {
            "outlinewidth": 0,
            "ticks": ""
           }
          },
          "colorscale": {
           "diverging": [
            [
             0,
             "#8e0152"
            ],
            [
             0.1,
             "#c51b7d"
            ],
            [
             0.2,
             "#de77ae"
            ],
            [
             0.3,
             "#f1b6da"
            ],
            [
             0.4,
             "#fde0ef"
            ],
            [
             0.5,
             "#f7f7f7"
            ],
            [
             0.6,
             "#e6f5d0"
            ],
            [
             0.7,
             "#b8e186"
            ],
            [
             0.8,
             "#7fbc41"
            ],
            [
             0.9,
             "#4d9221"
            ],
            [
             1,
             "#276419"
            ]
           ],
           "sequential": [
            [
             0,
             "#0d0887"
            ],
            [
             0.1111111111111111,
             "#46039f"
            ],
            [
             0.2222222222222222,
             "#7201a8"
            ],
            [
             0.3333333333333333,
             "#9c179e"
            ],
            [
             0.4444444444444444,
             "#bd3786"
            ],
            [
             0.5555555555555556,
             "#d8576b"
            ],
            [
             0.6666666666666666,
             "#ed7953"
            ],
            [
             0.7777777777777778,
             "#fb9f3a"
            ],
            [
             0.8888888888888888,
             "#fdca26"
            ],
            [
             1,
             "#f0f921"
            ]
           ],
           "sequentialminus": [
            [
             0,
             "#0d0887"
            ],
            [
             0.1111111111111111,
             "#46039f"
            ],
            [
             0.2222222222222222,
             "#7201a8"
            ],
            [
             0.3333333333333333,
             "#9c179e"
            ],
            [
             0.4444444444444444,
             "#bd3786"
            ],
            [
             0.5555555555555556,
             "#d8576b"
            ],
            [
             0.6666666666666666,
             "#ed7953"
            ],
            [
             0.7777777777777778,
             "#fb9f3a"
            ],
            [
             0.8888888888888888,
             "#fdca26"
            ],
            [
             1,
             "#f0f921"
            ]
           ]
          },
          "colorway": [
           "#636efa",
           "#EF553B",
           "#00cc96",
           "#ab63fa",
           "#FFA15A",
           "#19d3f3",
           "#FF6692",
           "#B6E880",
           "#FF97FF",
           "#FECB52"
          ],
          "font": {
           "color": "#2a3f5f"
          },
          "geo": {
           "bgcolor": "white",
           "lakecolor": "white",
           "landcolor": "#E5ECF6",
           "showlakes": true,
           "showland": true,
           "subunitcolor": "white"
          },
          "hoverlabel": {
           "align": "left"
          },
          "hovermode": "closest",
          "mapbox": {
           "style": "light"
          },
          "paper_bgcolor": "white",
          "plot_bgcolor": "#E5ECF6",
          "polar": {
           "angularaxis": {
            "gridcolor": "white",
            "linecolor": "white",
            "ticks": ""
           },
           "bgcolor": "#E5ECF6",
           "radialaxis": {
            "gridcolor": "white",
            "linecolor": "white",
            "ticks": ""
           }
          },
          "scene": {
           "xaxis": {
            "backgroundcolor": "#E5ECF6",
            "gridcolor": "white",
            "gridwidth": 2,
            "linecolor": "white",
            "showbackground": true,
            "ticks": "",
            "zerolinecolor": "white"
           },
           "yaxis": {
            "backgroundcolor": "#E5ECF6",
            "gridcolor": "white",
            "gridwidth": 2,
            "linecolor": "white",
            "showbackground": true,
            "ticks": "",
            "zerolinecolor": "white"
           },
           "zaxis": {
            "backgroundcolor": "#E5ECF6",
            "gridcolor": "white",
            "gridwidth": 2,
            "linecolor": "white",
            "showbackground": true,
            "ticks": "",
            "zerolinecolor": "white"
           }
          },
          "shapedefaults": {
           "line": {
            "color": "#2a3f5f"
           }
          },
          "ternary": {
           "aaxis": {
            "gridcolor": "white",
            "linecolor": "white",
            "ticks": ""
           },
           "baxis": {
            "gridcolor": "white",
            "linecolor": "white",
            "ticks": ""
           },
           "bgcolor": "#E5ECF6",
           "caxis": {
            "gridcolor": "white",
            "linecolor": "white",
            "ticks": ""
           }
          },
          "title": {
           "x": 0.05
          },
          "xaxis": {
           "automargin": true,
           "gridcolor": "white",
           "linecolor": "white",
           "ticks": "",
           "title": {
            "standoff": 15
           },
           "zerolinecolor": "white",
           "zerolinewidth": 2
          },
          "yaxis": {
           "automargin": true,
           "gridcolor": "white",
           "linecolor": "white",
           "ticks": "",
           "title": {
            "standoff": 15
           },
           "zerolinecolor": "white",
           "zerolinewidth": 2
          }
         }
        },
        "title": {
         "text": "Rating Distribution for Current Versions (6.x)"
        },
        "xaxis": {
         "anchor": "y",
         "categoryarray": [
          1,
          2,
          3,
          4,
          5
         ],
         "categoryorder": "array",
         "domain": [
          0,
          1
         ],
         "tickmode": "array",
         "ticktext": [
          "1 ★",
          "2 ★",
          "3 ★",
          "4 ★",
          "5 ★"
         ],
         "tickvals": [
          1,
          2,
          3,
          4,
          5
         ],
         "title": {
          "text": "Rating"
         }
        },
        "yaxis": {
         "anchor": "x",
         "domain": [
          0,
          1
         ],
         "title": {
          "text": "count"
         }
        }
       }
      }
     },
     "metadata": {},
     "output_type": "display_data"
    },
    {
     "data": {
      "application/vnd.plotly.v1+json": {
       "config": {
        "plotlyServerURL": "https://plot.ly"
       },
       "data": [
        {
         "hovertemplate": "Topic ID=%{x}<br>Number of Reviews=%{marker.color}<extra></extra>",
         "legendgroup": "",
         "marker": {
          "color": {
           "bdata": "sgQgAvAByQGxAQ==",
           "dtype": "i2"
          },
          "coloraxis": "coloraxis",
          "pattern": {
           "shape": ""
          }
         },
         "name": "",
         "orientation": "v",
         "showlegend": false,
         "textposition": "auto",
         "type": "bar",
         "x": {
          "bdata": "AAAAAAAAGEAAAAAAAAAgQAAAAAAAABRAAAAAAAAAAEAAAAAAAAAiQA==",
          "dtype": "f8"
         },
         "xaxis": "x",
         "y": {
          "bdata": "sgQgAvAByQGxAQ==",
          "dtype": "i2"
         },
         "yaxis": "y"
        }
       ],
       "layout": {
        "barmode": "relative",
        "coloraxis": {
         "colorbar": {
          "title": {
           "text": "Number of Reviews"
          }
         },
         "colorscale": [
          [
           0,
           "rgb(247,251,255)"
          ],
          [
           0.125,
           "rgb(222,235,247)"
          ],
          [
           0.25,
           "rgb(198,219,239)"
          ],
          [
           0.375,
           "rgb(158,202,225)"
          ],
          [
           0.5,
           "rgb(107,174,214)"
          ],
          [
           0.625,
           "rgb(66,146,198)"
          ],
          [
           0.75,
           "rgb(33,113,181)"
          ],
          [
           0.875,
           "rgb(8,81,156)"
          ],
          [
           1,
           "rgb(8,48,107)"
          ]
         ]
        },
        "legend": {
         "tracegroupgap": 0
        },
        "template": {
         "data": {
          "bar": [
           {
            "error_x": {
             "color": "#2a3f5f"
            },
            "error_y": {
             "color": "#2a3f5f"
            },
            "marker": {
             "line": {
              "color": "#E5ECF6",
              "width": 0.5
             },
             "pattern": {
              "fillmode": "overlay",
              "size": 10,
              "solidity": 0.2
             }
            },
            "type": "bar"
           }
          ],
          "barpolar": [
           {
            "marker": {
             "line": {
              "color": "#E5ECF6",
              "width": 0.5
             },
             "pattern": {
              "fillmode": "overlay",
              "size": 10,
              "solidity": 0.2
             }
            },
            "type": "barpolar"
           }
          ],
          "carpet": [
           {
            "aaxis": {
             "endlinecolor": "#2a3f5f",
             "gridcolor": "white",
             "linecolor": "white",
             "minorgridcolor": "white",
             "startlinecolor": "#2a3f5f"
            },
            "baxis": {
             "endlinecolor": "#2a3f5f",
             "gridcolor": "white",
             "linecolor": "white",
             "minorgridcolor": "white",
             "startlinecolor": "#2a3f5f"
            },
            "type": "carpet"
           }
          ],
          "choropleth": [
           {
            "colorbar": {
             "outlinewidth": 0,
             "ticks": ""
            },
            "type": "choropleth"
           }
          ],
          "contour": [
           {
            "colorbar": {
             "outlinewidth": 0,
             "ticks": ""
            },
            "colorscale": [
             [
              0,
              "#0d0887"
             ],
             [
              0.1111111111111111,
              "#46039f"
             ],
             [
              0.2222222222222222,
              "#7201a8"
             ],
             [
              0.3333333333333333,
              "#9c179e"
             ],
             [
              0.4444444444444444,
              "#bd3786"
             ],
             [
              0.5555555555555556,
              "#d8576b"
             ],
             [
              0.6666666666666666,
              "#ed7953"
             ],
             [
              0.7777777777777778,
              "#fb9f3a"
             ],
             [
              0.8888888888888888,
              "#fdca26"
             ],
             [
              1,
              "#f0f921"
             ]
            ],
            "type": "contour"
           }
          ],
          "contourcarpet": [
           {
            "colorbar": {
             "outlinewidth": 0,
             "ticks": ""
            },
            "type": "contourcarpet"
           }
          ],
          "heatmap": [
           {
            "colorbar": {
             "outlinewidth": 0,
             "ticks": ""
            },
            "colorscale": [
             [
              0,
              "#0d0887"
             ],
             [
              0.1111111111111111,
              "#46039f"
             ],
             [
              0.2222222222222222,
              "#7201a8"
             ],
             [
              0.3333333333333333,
              "#9c179e"
             ],
             [
              0.4444444444444444,
              "#bd3786"
             ],
             [
              0.5555555555555556,
              "#d8576b"
             ],
             [
              0.6666666666666666,
              "#ed7953"
             ],
             [
              0.7777777777777778,
              "#fb9f3a"
             ],
             [
              0.8888888888888888,
              "#fdca26"
             ],
             [
              1,
              "#f0f921"
             ]
            ],
            "type": "heatmap"
           }
          ],
          "histogram": [
           {
            "marker": {
             "pattern": {
              "fillmode": "overlay",
              "size": 10,
              "solidity": 0.2
             }
            },
            "type": "histogram"
           }
          ],
          "histogram2d": [
           {
            "colorbar": {
             "outlinewidth": 0,
             "ticks": ""
            },
            "colorscale": [
             [
              0,
              "#0d0887"
             ],
             [
              0.1111111111111111,
              "#46039f"
             ],
             [
              0.2222222222222222,
              "#7201a8"
             ],
             [
              0.3333333333333333,
              "#9c179e"
             ],
             [
              0.4444444444444444,
              "#bd3786"
             ],
             [
              0.5555555555555556,
              "#d8576b"
             ],
             [
              0.6666666666666666,
              "#ed7953"
             ],
             [
              0.7777777777777778,
              "#fb9f3a"
             ],
             [
              0.8888888888888888,
              "#fdca26"
             ],
             [
              1,
              "#f0f921"
             ]
            ],
            "type": "histogram2d"
           }
          ],
          "histogram2dcontour": [
           {
            "colorbar": {
             "outlinewidth": 0,
             "ticks": ""
            },
            "colorscale": [
             [
              0,
              "#0d0887"
             ],
             [
              0.1111111111111111,
              "#46039f"
             ],
             [
              0.2222222222222222,
              "#7201a8"
             ],
             [
              0.3333333333333333,
              "#9c179e"
             ],
             [
              0.4444444444444444,
              "#bd3786"
             ],
             [
              0.5555555555555556,
              "#d8576b"
             ],
             [
              0.6666666666666666,
              "#ed7953"
             ],
             [
              0.7777777777777778,
              "#fb9f3a"
             ],
             [
              0.8888888888888888,
              "#fdca26"
             ],
             [
              1,
              "#f0f921"
             ]
            ],
            "type": "histogram2dcontour"
           }
          ],
          "mesh3d": [
           {
            "colorbar": {
             "outlinewidth": 0,
             "ticks": ""
            },
            "type": "mesh3d"
           }
          ],
          "parcoords": [
           {
            "line": {
             "colorbar": {
              "outlinewidth": 0,
              "ticks": ""
             }
            },
            "type": "parcoords"
           }
          ],
          "pie": [
           {
            "automargin": true,
            "type": "pie"
           }
          ],
          "scatter": [
           {
            "fillpattern": {
             "fillmode": "overlay",
             "size": 10,
             "solidity": 0.2
            },
            "type": "scatter"
           }
          ],
          "scatter3d": [
           {
            "line": {
             "colorbar": {
              "outlinewidth": 0,
              "ticks": ""
             }
            },
            "marker": {
             "colorbar": {
              "outlinewidth": 0,
              "ticks": ""
             }
            },
            "type": "scatter3d"
           }
          ],
          "scattercarpet": [
           {
            "marker": {
             "colorbar": {
              "outlinewidth": 0,
              "ticks": ""
             }
            },
            "type": "scattercarpet"
           }
          ],
          "scattergeo": [
           {
            "marker": {
             "colorbar": {
              "outlinewidth": 0,
              "ticks": ""
             }
            },
            "type": "scattergeo"
           }
          ],
          "scattergl": [
           {
            "marker": {
             "colorbar": {
              "outlinewidth": 0,
              "ticks": ""
             }
            },
            "type": "scattergl"
           }
          ],
          "scattermap": [
           {
            "marker": {
             "colorbar": {
              "outlinewidth": 0,
              "ticks": ""
             }
            },
            "type": "scattermap"
           }
          ],
          "scattermapbox": [
           {
            "marker": {
             "colorbar": {
              "outlinewidth": 0,
              "ticks": ""
             }
            },
            "type": "scattermapbox"
           }
          ],
          "scatterpolar": [
           {
            "marker": {
             "colorbar": {
              "outlinewidth": 0,
              "ticks": ""
             }
            },
            "type": "scatterpolar"
           }
          ],
          "scatterpolargl": [
           {
            "marker": {
             "colorbar": {
              "outlinewidth": 0,
              "ticks": ""
             }
            },
            "type": "scatterpolargl"
           }
          ],
          "scatterternary": [
           {
            "marker": {
             "colorbar": {
              "outlinewidth": 0,
              "ticks": ""
             }
            },
            "type": "scatterternary"
           }
          ],
          "surface": [
           {
            "colorbar": {
             "outlinewidth": 0,
             "ticks": ""
            },
            "colorscale": [
             [
              0,
              "#0d0887"
             ],
             [
              0.1111111111111111,
              "#46039f"
             ],
             [
              0.2222222222222222,
              "#7201a8"
             ],
             [
              0.3333333333333333,
              "#9c179e"
             ],
             [
              0.4444444444444444,
              "#bd3786"
             ],
             [
              0.5555555555555556,
              "#d8576b"
             ],
             [
              0.6666666666666666,
              "#ed7953"
             ],
             [
              0.7777777777777778,
              "#fb9f3a"
             ],
             [
              0.8888888888888888,
              "#fdca26"
             ],
             [
              1,
              "#f0f921"
             ]
            ],
            "type": "surface"
           }
          ],
          "table": [
           {
            "cells": {
             "fill": {
              "color": "#EBF0F8"
             },
             "line": {
              "color": "white"
             }
            },
            "header": {
             "fill": {
              "color": "#C8D4E3"
             },
             "line": {
              "color": "white"
             }
            },
            "type": "table"
           }
          ]
         },
         "layout": {
          "annotationdefaults": {
           "arrowcolor": "#2a3f5f",
           "arrowhead": 0,
           "arrowwidth": 1
          },
          "autotypenumbers": "strict",
          "coloraxis": {
           "colorbar": {
            "outlinewidth": 0,
            "ticks": ""
           }
          },
          "colorscale": {
           "diverging": [
            [
             0,
             "#8e0152"
            ],
            [
             0.1,
             "#c51b7d"
            ],
            [
             0.2,
             "#de77ae"
            ],
            [
             0.3,
             "#f1b6da"
            ],
            [
             0.4,
             "#fde0ef"
            ],
            [
             0.5,
             "#f7f7f7"
            ],
            [
             0.6,
             "#e6f5d0"
            ],
            [
             0.7,
             "#b8e186"
            ],
            [
             0.8,
             "#7fbc41"
            ],
            [
             0.9,
             "#4d9221"
            ],
            [
             1,
             "#276419"
            ]
           ],
           "sequential": [
            [
             0,
             "#0d0887"
            ],
            [
             0.1111111111111111,
             "#46039f"
            ],
            [
             0.2222222222222222,
             "#7201a8"
            ],
            [
             0.3333333333333333,
             "#9c179e"
            ],
            [
             0.4444444444444444,
             "#bd3786"
            ],
            [
             0.5555555555555556,
             "#d8576b"
            ],
            [
             0.6666666666666666,
             "#ed7953"
            ],
            [
             0.7777777777777778,
             "#fb9f3a"
            ],
            [
             0.8888888888888888,
             "#fdca26"
            ],
            [
             1,
             "#f0f921"
            ]
           ],
           "sequentialminus": [
            [
             0,
             "#0d0887"
            ],
            [
             0.1111111111111111,
             "#46039f"
            ],
            [
             0.2222222222222222,
             "#7201a8"
            ],
            [
             0.3333333333333333,
             "#9c179e"
            ],
            [
             0.4444444444444444,
             "#bd3786"
            ],
            [
             0.5555555555555556,
             "#d8576b"
            ],
            [
             0.6666666666666666,
             "#ed7953"
            ],
            [
             0.7777777777777778,
             "#fb9f3a"
            ],
            [
             0.8888888888888888,
             "#fdca26"
            ],
            [
             1,
             "#f0f921"
            ]
           ]
          },
          "colorway": [
           "#636efa",
           "#EF553B",
           "#00cc96",
           "#ab63fa",
           "#FFA15A",
           "#19d3f3",
           "#FF6692",
           "#B6E880",
           "#FF97FF",
           "#FECB52"
          ],
          "font": {
           "color": "#2a3f5f"
          },
          "geo": {
           "bgcolor": "white",
           "lakecolor": "white",
           "landcolor": "#E5ECF6",
           "showlakes": true,
           "showland": true,
           "subunitcolor": "white"
          },
          "hoverlabel": {
           "align": "left"
          },
          "hovermode": "closest",
          "mapbox": {
           "style": "light"
          },
          "paper_bgcolor": "white",
          "plot_bgcolor": "#E5ECF6",
          "polar": {
           "angularaxis": {
            "gridcolor": "white",
            "linecolor": "white",
            "ticks": ""
           },
           "bgcolor": "#E5ECF6",
           "radialaxis": {
            "gridcolor": "white",
            "linecolor": "white",
            "ticks": ""
           }
          },
          "scene": {
           "xaxis": {
            "backgroundcolor": "#E5ECF6",
            "gridcolor": "white",
            "gridwidth": 2,
            "linecolor": "white",
            "showbackground": true,
            "ticks": "",
            "zerolinecolor": "white"
           },
           "yaxis": {
            "backgroundcolor": "#E5ECF6",
            "gridcolor": "white",
            "gridwidth": 2,
            "linecolor": "white",
            "showbackground": true,
            "ticks": "",
            "zerolinecolor": "white"
           },
           "zaxis": {
            "backgroundcolor": "#E5ECF6",
            "gridcolor": "white",
            "gridwidth": 2,
            "linecolor": "white",
            "showbackground": true,
            "ticks": "",
            "zerolinecolor": "white"
           }
          },
          "shapedefaults": {
           "line": {
            "color": "#2a3f5f"
           }
          },
          "ternary": {
           "aaxis": {
            "gridcolor": "white",
            "linecolor": "white",
            "ticks": ""
           },
           "baxis": {
            "gridcolor": "white",
            "linecolor": "white",
            "ticks": ""
           },
           "bgcolor": "#E5ECF6",
           "caxis": {
            "gridcolor": "white",
            "linecolor": "white",
            "ticks": ""
           }
          },
          "title": {
           "x": 0.05
          },
          "xaxis": {
           "automargin": true,
           "gridcolor": "white",
           "linecolor": "white",
           "ticks": "",
           "title": {
            "standoff": 15
           },
           "zerolinecolor": "white",
           "zerolinewidth": 2
          },
          "yaxis": {
           "automargin": true,
           "gridcolor": "white",
           "linecolor": "white",
           "ticks": "",
           "title": {
            "standoff": 15
           },
           "zerolinecolor": "white",
           "zerolinewidth": 2
          }
         }
        },
        "title": {
         "text": "Top Topics for Current Versions (6.x)"
        },
        "xaxis": {
         "anchor": "y",
         "domain": [
          0,
          1
         ],
         "title": {
          "text": "Topic ID"
         }
        },
        "yaxis": {
         "anchor": "x",
         "domain": [
          0,
          1
         ],
         "title": {
          "text": "Number of Reviews"
         }
        }
       }
      }
     },
     "metadata": {},
     "output_type": "display_data"
    },
    {
     "name": "stdout",
     "output_type": "stream",
     "text": [
      "\n",
      "Visualizing unknown versions for comparison...\n",
      "\n",
      "Generating visualizations for: Unknown Versions\n"
     ]
    },
    {
     "data": {
      "application/vnd.plotly.v1+json": {
       "config": {
        "plotlyServerURL": "https://plot.ly"
       },
       "data": [
        {
         "customdata": [
          [
           "negative"
          ],
          [
           "positive"
          ],
          [
           "neutral"
          ]
         ],
         "domain": {
          "x": [
           0,
           1
          ],
          "y": [
           0,
           1
          ]
         },
         "hole": 0.3,
         "hovertemplate": "label=%{label}<br>value=%{value}<br>color=%{customdata[0]}<extra></extra>",
         "labels": [
          "negative",
          "positive",
          "neutral"
         ],
         "legendgroup": "",
         "marker": {
          "colors": [
           "red",
           "green",
           "blue"
          ]
         },
         "name": "",
         "showlegend": true,
         "type": "pie",
         "values": {
          "bdata": "ggI9AR8A",
          "dtype": "i2"
         }
        }
       ],
       "layout": {
        "annotations": [
         {
          "showarrow": false,
          "text": "Total: 990 reviews",
          "x": 0.5,
          "y": 0.5
         }
        ],
        "legend": {
         "tracegroupgap": 0
        },
        "template": {
         "data": {
          "bar": [
           {
            "error_x": {
             "color": "#2a3f5f"
            },
            "error_y": {
             "color": "#2a3f5f"
            },
            "marker": {
             "line": {
              "color": "#E5ECF6",
              "width": 0.5
             },
             "pattern": {
              "fillmode": "overlay",
              "size": 10,
              "solidity": 0.2
             }
            },
            "type": "bar"
           }
          ],
          "barpolar": [
           {
            "marker": {
             "line": {
              "color": "#E5ECF6",
              "width": 0.5
             },
             "pattern": {
              "fillmode": "overlay",
              "size": 10,
              "solidity": 0.2
             }
            },
            "type": "barpolar"
           }
          ],
          "carpet": [
           {
            "aaxis": {
             "endlinecolor": "#2a3f5f",
             "gridcolor": "white",
             "linecolor": "white",
             "minorgridcolor": "white",
             "startlinecolor": "#2a3f5f"
            },
            "baxis": {
             "endlinecolor": "#2a3f5f",
             "gridcolor": "white",
             "linecolor": "white",
             "minorgridcolor": "white",
             "startlinecolor": "#2a3f5f"
            },
            "type": "carpet"
           }
          ],
          "choropleth": [
           {
            "colorbar": {
             "outlinewidth": 0,
             "ticks": ""
            },
            "type": "choropleth"
           }
          ],
          "contour": [
           {
            "colorbar": {
             "outlinewidth": 0,
             "ticks": ""
            },
            "colorscale": [
             [
              0,
              "#0d0887"
             ],
             [
              0.1111111111111111,
              "#46039f"
             ],
             [
              0.2222222222222222,
              "#7201a8"
             ],
             [
              0.3333333333333333,
              "#9c179e"
             ],
             [
              0.4444444444444444,
              "#bd3786"
             ],
             [
              0.5555555555555556,
              "#d8576b"
             ],
             [
              0.6666666666666666,
              "#ed7953"
             ],
             [
              0.7777777777777778,
              "#fb9f3a"
             ],
             [
              0.8888888888888888,
              "#fdca26"
             ],
             [
              1,
              "#f0f921"
             ]
            ],
            "type": "contour"
           }
          ],
          "contourcarpet": [
           {
            "colorbar": {
             "outlinewidth": 0,
             "ticks": ""
            },
            "type": "contourcarpet"
           }
          ],
          "heatmap": [
           {
            "colorbar": {
             "outlinewidth": 0,
             "ticks": ""
            },
            "colorscale": [
             [
              0,
              "#0d0887"
             ],
             [
              0.1111111111111111,
              "#46039f"
             ],
             [
              0.2222222222222222,
              "#7201a8"
             ],
             [
              0.3333333333333333,
              "#9c179e"
             ],
             [
              0.4444444444444444,
              "#bd3786"
             ],
             [
              0.5555555555555556,
              "#d8576b"
             ],
             [
              0.6666666666666666,
              "#ed7953"
             ],
             [
              0.7777777777777778,
              "#fb9f3a"
             ],
             [
              0.8888888888888888,
              "#fdca26"
             ],
             [
              1,
              "#f0f921"
             ]
            ],
            "type": "heatmap"
           }
          ],
          "histogram": [
           {
            "marker": {
             "pattern": {
              "fillmode": "overlay",
              "size": 10,
              "solidity": 0.2
             }
            },
            "type": "histogram"
           }
          ],
          "histogram2d": [
           {
            "colorbar": {
             "outlinewidth": 0,
             "ticks": ""
            },
            "colorscale": [
             [
              0,
              "#0d0887"
             ],
             [
              0.1111111111111111,
              "#46039f"
             ],
             [
              0.2222222222222222,
              "#7201a8"
             ],
             [
              0.3333333333333333,
              "#9c179e"
             ],
             [
              0.4444444444444444,
              "#bd3786"
             ],
             [
              0.5555555555555556,
              "#d8576b"
             ],
             [
              0.6666666666666666,
              "#ed7953"
             ],
             [
              0.7777777777777778,
              "#fb9f3a"
             ],
             [
              0.8888888888888888,
              "#fdca26"
             ],
             [
              1,
              "#f0f921"
             ]
            ],
            "type": "histogram2d"
           }
          ],
          "histogram2dcontour": [
           {
            "colorbar": {
             "outlinewidth": 0,
             "ticks": ""
            },
            "colorscale": [
             [
              0,
              "#0d0887"
             ],
             [
              0.1111111111111111,
              "#46039f"
             ],
             [
              0.2222222222222222,
              "#7201a8"
             ],
             [
              0.3333333333333333,
              "#9c179e"
             ],
             [
              0.4444444444444444,
              "#bd3786"
             ],
             [
              0.5555555555555556,
              "#d8576b"
             ],
             [
              0.6666666666666666,
              "#ed7953"
             ],
             [
              0.7777777777777778,
              "#fb9f3a"
             ],
             [
              0.8888888888888888,
              "#fdca26"
             ],
             [
              1,
              "#f0f921"
             ]
            ],
            "type": "histogram2dcontour"
           }
          ],
          "mesh3d": [
           {
            "colorbar": {
             "outlinewidth": 0,
             "ticks": ""
            },
            "type": "mesh3d"
           }
          ],
          "parcoords": [
           {
            "line": {
             "colorbar": {
              "outlinewidth": 0,
              "ticks": ""
             }
            },
            "type": "parcoords"
           }
          ],
          "pie": [
           {
            "automargin": true,
            "type": "pie"
           }
          ],
          "scatter": [
           {
            "fillpattern": {
             "fillmode": "overlay",
             "size": 10,
             "solidity": 0.2
            },
            "type": "scatter"
           }
          ],
          "scatter3d": [
           {
            "line": {
             "colorbar": {
              "outlinewidth": 0,
              "ticks": ""
             }
            },
            "marker": {
             "colorbar": {
              "outlinewidth": 0,
              "ticks": ""
             }
            },
            "type": "scatter3d"
           }
          ],
          "scattercarpet": [
           {
            "marker": {
             "colorbar": {
              "outlinewidth": 0,
              "ticks": ""
             }
            },
            "type": "scattercarpet"
           }
          ],
          "scattergeo": [
           {
            "marker": {
             "colorbar": {
              "outlinewidth": 0,
              "ticks": ""
             }
            },
            "type": "scattergeo"
           }
          ],
          "scattergl": [
           {
            "marker": {
             "colorbar": {
              "outlinewidth": 0,
              "ticks": ""
             }
            },
            "type": "scattergl"
           }
          ],
          "scattermap": [
           {
            "marker": {
             "colorbar": {
              "outlinewidth": 0,
              "ticks": ""
             }
            },
            "type": "scattermap"
           }
          ],
          "scattermapbox": [
           {
            "marker": {
             "colorbar": {
              "outlinewidth": 0,
              "ticks": ""
             }
            },
            "type": "scattermapbox"
           }
          ],
          "scatterpolar": [
           {
            "marker": {
             "colorbar": {
              "outlinewidth": 0,
              "ticks": ""
             }
            },
            "type": "scatterpolar"
           }
          ],
          "scatterpolargl": [
           {
            "marker": {
             "colorbar": {
              "outlinewidth": 0,
              "ticks": ""
             }
            },
            "type": "scatterpolargl"
           }
          ],
          "scatterternary": [
           {
            "marker": {
             "colorbar": {
              "outlinewidth": 0,
              "ticks": ""
             }
            },
            "type": "scatterternary"
           }
          ],
          "surface": [
           {
            "colorbar": {
             "outlinewidth": 0,
             "ticks": ""
            },
            "colorscale": [
             [
              0,
              "#0d0887"
             ],
             [
              0.1111111111111111,
              "#46039f"
             ],
             [
              0.2222222222222222,
              "#7201a8"
             ],
             [
              0.3333333333333333,
              "#9c179e"
             ],
             [
              0.4444444444444444,
              "#bd3786"
             ],
             [
              0.5555555555555556,
              "#d8576b"
             ],
             [
              0.6666666666666666,
              "#ed7953"
             ],
             [
              0.7777777777777778,
              "#fb9f3a"
             ],
             [
              0.8888888888888888,
              "#fdca26"
             ],
             [
              1,
              "#f0f921"
             ]
            ],
            "type": "surface"
           }
          ],
          "table": [
           {
            "cells": {
             "fill": {
              "color": "#EBF0F8"
             },
             "line": {
              "color": "white"
             }
            },
            "header": {
             "fill": {
              "color": "#C8D4E3"
             },
             "line": {
              "color": "white"
             }
            },
            "type": "table"
           }
          ]
         },
         "layout": {
          "annotationdefaults": {
           "arrowcolor": "#2a3f5f",
           "arrowhead": 0,
           "arrowwidth": 1
          },
          "autotypenumbers": "strict",
          "coloraxis": {
           "colorbar": {
            "outlinewidth": 0,
            "ticks": ""
           }
          },
          "colorscale": {
           "diverging": [
            [
             0,
             "#8e0152"
            ],
            [
             0.1,
             "#c51b7d"
            ],
            [
             0.2,
             "#de77ae"
            ],
            [
             0.3,
             "#f1b6da"
            ],
            [
             0.4,
             "#fde0ef"
            ],
            [
             0.5,
             "#f7f7f7"
            ],
            [
             0.6,
             "#e6f5d0"
            ],
            [
             0.7,
             "#b8e186"
            ],
            [
             0.8,
             "#7fbc41"
            ],
            [
             0.9,
             "#4d9221"
            ],
            [
             1,
             "#276419"
            ]
           ],
           "sequential": [
            [
             0,
             "#0d0887"
            ],
            [
             0.1111111111111111,
             "#46039f"
            ],
            [
             0.2222222222222222,
             "#7201a8"
            ],
            [
             0.3333333333333333,
             "#9c179e"
            ],
            [
             0.4444444444444444,
             "#bd3786"
            ],
            [
             0.5555555555555556,
             "#d8576b"
            ],
            [
             0.6666666666666666,
             "#ed7953"
            ],
            [
             0.7777777777777778,
             "#fb9f3a"
            ],
            [
             0.8888888888888888,
             "#fdca26"
            ],
            [
             1,
             "#f0f921"
            ]
           ],
           "sequentialminus": [
            [
             0,
             "#0d0887"
            ],
            [
             0.1111111111111111,
             "#46039f"
            ],
            [
             0.2222222222222222,
             "#7201a8"
            ],
            [
             0.3333333333333333,
             "#9c179e"
            ],
            [
             0.4444444444444444,
             "#bd3786"
            ],
            [
             0.5555555555555556,
             "#d8576b"
            ],
            [
             0.6666666666666666,
             "#ed7953"
            ],
            [
             0.7777777777777778,
             "#fb9f3a"
            ],
            [
             0.8888888888888888,
             "#fdca26"
            ],
            [
             1,
             "#f0f921"
            ]
           ]
          },
          "colorway": [
           "#636efa",
           "#EF553B",
           "#00cc96",
           "#ab63fa",
           "#FFA15A",
           "#19d3f3",
           "#FF6692",
           "#B6E880",
           "#FF97FF",
           "#FECB52"
          ],
          "font": {
           "color": "#2a3f5f"
          },
          "geo": {
           "bgcolor": "white",
           "lakecolor": "white",
           "landcolor": "#E5ECF6",
           "showlakes": true,
           "showland": true,
           "subunitcolor": "white"
          },
          "hoverlabel": {
           "align": "left"
          },
          "hovermode": "closest",
          "mapbox": {
           "style": "light"
          },
          "paper_bgcolor": "white",
          "plot_bgcolor": "#E5ECF6",
          "polar": {
           "angularaxis": {
            "gridcolor": "white",
            "linecolor": "white",
            "ticks": ""
           },
           "bgcolor": "#E5ECF6",
           "radialaxis": {
            "gridcolor": "white",
            "linecolor": "white",
            "ticks": ""
           }
          },
          "scene": {
           "xaxis": {
            "backgroundcolor": "#E5ECF6",
            "gridcolor": "white",
            "gridwidth": 2,
            "linecolor": "white",
            "showbackground": true,
            "ticks": "",
            "zerolinecolor": "white"
           },
           "yaxis": {
            "backgroundcolor": "#E5ECF6",
            "gridcolor": "white",
            "gridwidth": 2,
            "linecolor": "white",
            "showbackground": true,
            "ticks": "",
            "zerolinecolor": "white"
           },
           "zaxis": {
            "backgroundcolor": "#E5ECF6",
            "gridcolor": "white",
            "gridwidth": 2,
            "linecolor": "white",
            "showbackground": true,
            "ticks": "",
            "zerolinecolor": "white"
           }
          },
          "shapedefaults": {
           "line": {
            "color": "#2a3f5f"
           }
          },
          "ternary": {
           "aaxis": {
            "gridcolor": "white",
            "linecolor": "white",
            "ticks": ""
           },
           "baxis": {
            "gridcolor": "white",
            "linecolor": "white",
            "ticks": ""
           },
           "bgcolor": "#E5ECF6",
           "caxis": {
            "gridcolor": "white",
            "linecolor": "white",
            "ticks": ""
           }
          },
          "title": {
           "x": 0.05
          },
          "xaxis": {
           "automargin": true,
           "gridcolor": "white",
           "linecolor": "white",
           "ticks": "",
           "title": {
            "standoff": 15
           },
           "zerolinecolor": "white",
           "zerolinewidth": 2
          },
          "yaxis": {
           "automargin": true,
           "gridcolor": "white",
           "linecolor": "white",
           "ticks": "",
           "title": {
            "standoff": 15
           },
           "zerolinecolor": "white",
           "zerolinewidth": 2
          }
         }
        },
        "title": {
         "text": "Sentiment Distribution for Unknown Versions"
        }
       }
      }
     },
     "metadata": {},
     "output_type": "display_data"
    },
    {
     "data": {
      "application/vnd.plotly.v1+json": {
       "config": {
        "plotlyServerURL": "https://plot.ly"
       },
       "data": [
        {
         "bingroup": "x",
         "hovertemplate": "Rating=%{x}<br>count=%{y}<extra></extra>",
         "legendgroup": "1",
         "marker": {
          "color": "#440154",
          "pattern": {
           "shape": ""
          }
         },
         "name": "1",
         "orientation": "v",
         "showlegend": true,
         "texttemplate": "%{value}",
         "type": "histogram",
         "x": {
          "bdata": "AQEBAQEBAQEBAQEBAQEBAQEBAQEBAQEBAQEBAQEBAQEBAQEBAQEBAQEBAQEBAQEBAQEBAQEBAQEBAQEBAQEBAQEBAQEBAQEBAQEBAQEBAQEBAQEBAQEBAQEBAQEBAQEBAQEBAQEBAQEBAQEBAQEBAQEBAQEBAQEBAQEBAQEBAQEBAQEBAQEBAQEBAQEBAQEBAQEBAQEBAQEBAQEBAQEBAQEBAQEBAQEBAQEBAQEBAQEBAQEBAQEBAQEBAQEBAQEBAQEBAQEBAQEBAQEBAQEBAQEBAQEBAQEBAQEBAQEBAQEBAQEBAQEBAQEBAQEBAQEBAQEBAQEBAQEBAQEBAQEBAQEBAQEBAQEBAQEBAQEBAQEBAQEBAQEBAQEBAQEBAQEBAQEBAQEBAQEBAQEBAQEBAQEBAQEBAQEBAQEBAQEBAQEBAQEBAQEBAQEBAQEBAQEBAQEBAQEBAQEBAQEBAQEBAQEBAQEBAQEBAQEBAQEBAQEBAQEBAQEBAQEBAQEBAQEBAQEBAQEBAQEBAQEBAQEBAQEBAQEBAQEBAQEBAQEBAQEBAQEBAQEBAQEBAQEBAQEBAQEBAQEBAQEBAQEBAQEBAQEBAQEBAQEBAQEBAQEBAQEBAQEBAQEBAQEBAQEBAQEBAQEBAQEBAQEBAQEBAQEBAQEBAQEBAQEBAQEBAQEBAQEBAQEBAQEBAQEBAQEBAQEBAQEBAQEBAQEBAQEBAQEBAQEBAQEBAQEBAQEBAQEBAQEBAQEBAQEBAQEBAQEBAQEBAQEBAQEBAQEBAQEBAQEBAQE=",
          "dtype": "i1"
         },
         "xaxis": "x",
         "yaxis": "y"
        },
        {
         "bingroup": "x",
         "hovertemplate": "Rating=%{x}<br>count=%{y}<extra></extra>",
         "legendgroup": "2",
         "marker": {
          "color": "#482878",
          "pattern": {
           "shape": ""
          }
         },
         "name": "2",
         "orientation": "v",
         "showlegend": true,
         "texttemplate": "%{value}",
         "type": "histogram",
         "x": {
          "bdata": "AgICAgICAgICAgICAgICAgICAgICAgICAgICAgICAgICAgICAgICAgICAgICAgICAg==",
          "dtype": "i1"
         },
         "xaxis": "x",
         "yaxis": "y"
        },
        {
         "bingroup": "x",
         "hovertemplate": "Rating=%{x}<br>count=%{y}<extra></extra>",
         "legendgroup": "3",
         "marker": {
          "color": "#3e4989",
          "pattern": {
           "shape": ""
          }
         },
         "name": "3",
         "orientation": "v",
         "showlegend": true,
         "texttemplate": "%{value}",
         "type": "histogram",
         "x": {
          "bdata": "AwMDAwMDAwMDAwMDAwMDAwMDAwMDAwMDAwMDAwMDAw==",
          "dtype": "i1"
         },
         "xaxis": "x",
         "yaxis": "y"
        },
        {
         "bingroup": "x",
         "hovertemplate": "Rating=%{x}<br>count=%{y}<extra></extra>",
         "legendgroup": "4",
         "marker": {
          "color": "#31688e",
          "pattern": {
           "shape": ""
          }
         },
         "name": "4",
         "orientation": "v",
         "showlegend": true,
         "texttemplate": "%{value}",
         "type": "histogram",
         "x": {
          "bdata": "BAQEBAQEBAQEBAQEBAQEBAQEBAQEBAQEBAQEBAQEBAQEBAQEBAQEBAQEBA==",
          "dtype": "i1"
         },
         "xaxis": "x",
         "yaxis": "y"
        },
        {
         "bingroup": "x",
         "hovertemplate": "Rating=%{x}<br>count=%{y}<extra></extra>",
         "legendgroup": "5",
         "marker": {
          "color": "#26828e",
          "pattern": {
           "shape": ""
          }
         },
         "name": "5",
         "orientation": "v",
         "showlegend": true,
         "texttemplate": "%{value}",
         "type": "histogram",
         "x": {
          "bdata": "BQUFBQUFBQUFBQUFBQUFBQUFBQUFBQUFBQUFBQUFBQUFBQUFBQUFBQUFBQUFBQUFBQUFBQUFBQUFBQUFBQUFBQUFBQUFBQUFBQUFBQUFBQUFBQUFBQUFBQUFBQUFBQUFBQUFBQUFBQUFBQUFBQUFBQUFBQUFBQUFBQUFBQUFBQUFBQUFBQUFBQUFBQUFBQUFBQUFBQUFBQUFBQUFBQUFBQUFBQUFBQUFBQUFBQUFBQUFBQUFBQUFBQUFBQUFBQUFBQUFBQUFBQUFBQUFBQUFBQUFBQUFBQUFBQUFBQUFBQUFBQUFBQUFBQUFBQUFBQUFBQUFBQUFBQUFBQUFBQUFBQUFBQUFBQUFBQUFBQUFBQUFBQ==",
          "dtype": "i1"
         },
         "xaxis": "x",
         "yaxis": "y"
        }
       ],
       "layout": {
        "barmode": "relative",
        "legend": {
         "title": {
          "text": "Rating"
         },
         "tracegroupgap": 0
        },
        "template": {
         "data": {
          "bar": [
           {
            "error_x": {
             "color": "#2a3f5f"
            },
            "error_y": {
             "color": "#2a3f5f"
            },
            "marker": {
             "line": {
              "color": "#E5ECF6",
              "width": 0.5
             },
             "pattern": {
              "fillmode": "overlay",
              "size": 10,
              "solidity": 0.2
             }
            },
            "type": "bar"
           }
          ],
          "barpolar": [
           {
            "marker": {
             "line": {
              "color": "#E5ECF6",
              "width": 0.5
             },
             "pattern": {
              "fillmode": "overlay",
              "size": 10,
              "solidity": 0.2
             }
            },
            "type": "barpolar"
           }
          ],
          "carpet": [
           {
            "aaxis": {
             "endlinecolor": "#2a3f5f",
             "gridcolor": "white",
             "linecolor": "white",
             "minorgridcolor": "white",
             "startlinecolor": "#2a3f5f"
            },
            "baxis": {
             "endlinecolor": "#2a3f5f",
             "gridcolor": "white",
             "linecolor": "white",
             "minorgridcolor": "white",
             "startlinecolor": "#2a3f5f"
            },
            "type": "carpet"
           }
          ],
          "choropleth": [
           {
            "colorbar": {
             "outlinewidth": 0,
             "ticks": ""
            },
            "type": "choropleth"
           }
          ],
          "contour": [
           {
            "colorbar": {
             "outlinewidth": 0,
             "ticks": ""
            },
            "colorscale": [
             [
              0,
              "#0d0887"
             ],
             [
              0.1111111111111111,
              "#46039f"
             ],
             [
              0.2222222222222222,
              "#7201a8"
             ],
             [
              0.3333333333333333,
              "#9c179e"
             ],
             [
              0.4444444444444444,
              "#bd3786"
             ],
             [
              0.5555555555555556,
              "#d8576b"
             ],
             [
              0.6666666666666666,
              "#ed7953"
             ],
             [
              0.7777777777777778,
              "#fb9f3a"
             ],
             [
              0.8888888888888888,
              "#fdca26"
             ],
             [
              1,
              "#f0f921"
             ]
            ],
            "type": "contour"
           }
          ],
          "contourcarpet": [
           {
            "colorbar": {
             "outlinewidth": 0,
             "ticks": ""
            },
            "type": "contourcarpet"
           }
          ],
          "heatmap": [
           {
            "colorbar": {
             "outlinewidth": 0,
             "ticks": ""
            },
            "colorscale": [
             [
              0,
              "#0d0887"
             ],
             [
              0.1111111111111111,
              "#46039f"
             ],
             [
              0.2222222222222222,
              "#7201a8"
             ],
             [
              0.3333333333333333,
              "#9c179e"
             ],
             [
              0.4444444444444444,
              "#bd3786"
             ],
             [
              0.5555555555555556,
              "#d8576b"
             ],
             [
              0.6666666666666666,
              "#ed7953"
             ],
             [
              0.7777777777777778,
              "#fb9f3a"
             ],
             [
              0.8888888888888888,
              "#fdca26"
             ],
             [
              1,
              "#f0f921"
             ]
            ],
            "type": "heatmap"
           }
          ],
          "histogram": [
           {
            "marker": {
             "pattern": {
              "fillmode": "overlay",
              "size": 10,
              "solidity": 0.2
             }
            },
            "type": "histogram"
           }
          ],
          "histogram2d": [
           {
            "colorbar": {
             "outlinewidth": 0,
             "ticks": ""
            },
            "colorscale": [
             [
              0,
              "#0d0887"
             ],
             [
              0.1111111111111111,
              "#46039f"
             ],
             [
              0.2222222222222222,
              "#7201a8"
             ],
             [
              0.3333333333333333,
              "#9c179e"
             ],
             [
              0.4444444444444444,
              "#bd3786"
             ],
             [
              0.5555555555555556,
              "#d8576b"
             ],
             [
              0.6666666666666666,
              "#ed7953"
             ],
             [
              0.7777777777777778,
              "#fb9f3a"
             ],
             [
              0.8888888888888888,
              "#fdca26"
             ],
             [
              1,
              "#f0f921"
             ]
            ],
            "type": "histogram2d"
           }
          ],
          "histogram2dcontour": [
           {
            "colorbar": {
             "outlinewidth": 0,
             "ticks": ""
            },
            "colorscale": [
             [
              0,
              "#0d0887"
             ],
             [
              0.1111111111111111,
              "#46039f"
             ],
             [
              0.2222222222222222,
              "#7201a8"
             ],
             [
              0.3333333333333333,
              "#9c179e"
             ],
             [
              0.4444444444444444,
              "#bd3786"
             ],
             [
              0.5555555555555556,
              "#d8576b"
             ],
             [
              0.6666666666666666,
              "#ed7953"
             ],
             [
              0.7777777777777778,
              "#fb9f3a"
             ],
             [
              0.8888888888888888,
              "#fdca26"
             ],
             [
              1,
              "#f0f921"
             ]
            ],
            "type": "histogram2dcontour"
           }
          ],
          "mesh3d": [
           {
            "colorbar": {
             "outlinewidth": 0,
             "ticks": ""
            },
            "type": "mesh3d"
           }
          ],
          "parcoords": [
           {
            "line": {
             "colorbar": {
              "outlinewidth": 0,
              "ticks": ""
             }
            },
            "type": "parcoords"
           }
          ],
          "pie": [
           {
            "automargin": true,
            "type": "pie"
           }
          ],
          "scatter": [
           {
            "fillpattern": {
             "fillmode": "overlay",
             "size": 10,
             "solidity": 0.2
            },
            "type": "scatter"
           }
          ],
          "scatter3d": [
           {
            "line": {
             "colorbar": {
              "outlinewidth": 0,
              "ticks": ""
             }
            },
            "marker": {
             "colorbar": {
              "outlinewidth": 0,
              "ticks": ""
             }
            },
            "type": "scatter3d"
           }
          ],
          "scattercarpet": [
           {
            "marker": {
             "colorbar": {
              "outlinewidth": 0,
              "ticks": ""
             }
            },
            "type": "scattercarpet"
           }
          ],
          "scattergeo": [
           {
            "marker": {
             "colorbar": {
              "outlinewidth": 0,
              "ticks": ""
             }
            },
            "type": "scattergeo"
           }
          ],
          "scattergl": [
           {
            "marker": {
             "colorbar": {
              "outlinewidth": 0,
              "ticks": ""
             }
            },
            "type": "scattergl"
           }
          ],
          "scattermap": [
           {
            "marker": {
             "colorbar": {
              "outlinewidth": 0,
              "ticks": ""
             }
            },
            "type": "scattermap"
           }
          ],
          "scattermapbox": [
           {
            "marker": {
             "colorbar": {
              "outlinewidth": 0,
              "ticks": ""
             }
            },
            "type": "scattermapbox"
           }
          ],
          "scatterpolar": [
           {
            "marker": {
             "colorbar": {
              "outlinewidth": 0,
              "ticks": ""
             }
            },
            "type": "scatterpolar"
           }
          ],
          "scatterpolargl": [
           {
            "marker": {
             "colorbar": {
              "outlinewidth": 0,
              "ticks": ""
             }
            },
            "type": "scatterpolargl"
           }
          ],
          "scatterternary": [
           {
            "marker": {
             "colorbar": {
              "outlinewidth": 0,
              "ticks": ""
             }
            },
            "type": "scatterternary"
           }
          ],
          "surface": [
           {
            "colorbar": {
             "outlinewidth": 0,
             "ticks": ""
            },
            "colorscale": [
             [
              0,
              "#0d0887"
             ],
             [
              0.1111111111111111,
              "#46039f"
             ],
             [
              0.2222222222222222,
              "#7201a8"
             ],
             [
              0.3333333333333333,
              "#9c179e"
             ],
             [
              0.4444444444444444,
              "#bd3786"
             ],
             [
              0.5555555555555556,
              "#d8576b"
             ],
             [
              0.6666666666666666,
              "#ed7953"
             ],
             [
              0.7777777777777778,
              "#fb9f3a"
             ],
             [
              0.8888888888888888,
              "#fdca26"
             ],
             [
              1,
              "#f0f921"
             ]
            ],
            "type": "surface"
           }
          ],
          "table": [
           {
            "cells": {
             "fill": {
              "color": "#EBF0F8"
             },
             "line": {
              "color": "white"
             }
            },
            "header": {
             "fill": {
              "color": "#C8D4E3"
             },
             "line": {
              "color": "white"
             }
            },
            "type": "table"
           }
          ]
         },
         "layout": {
          "annotationdefaults": {
           "arrowcolor": "#2a3f5f",
           "arrowhead": 0,
           "arrowwidth": 1
          },
          "autotypenumbers": "strict",
          "coloraxis": {
           "colorbar": {
            "outlinewidth": 0,
            "ticks": ""
           }
          },
          "colorscale": {
           "diverging": [
            [
             0,
             "#8e0152"
            ],
            [
             0.1,
             "#c51b7d"
            ],
            [
             0.2,
             "#de77ae"
            ],
            [
             0.3,
             "#f1b6da"
            ],
            [
             0.4,
             "#fde0ef"
            ],
            [
             0.5,
             "#f7f7f7"
            ],
            [
             0.6,
             "#e6f5d0"
            ],
            [
             0.7,
             "#b8e186"
            ],
            [
             0.8,
             "#7fbc41"
            ],
            [
             0.9,
             "#4d9221"
            ],
            [
             1,
             "#276419"
            ]
           ],
           "sequential": [
            [
             0,
             "#0d0887"
            ],
            [
             0.1111111111111111,
             "#46039f"
            ],
            [
             0.2222222222222222,
             "#7201a8"
            ],
            [
             0.3333333333333333,
             "#9c179e"
            ],
            [
             0.4444444444444444,
             "#bd3786"
            ],
            [
             0.5555555555555556,
             "#d8576b"
            ],
            [
             0.6666666666666666,
             "#ed7953"
            ],
            [
             0.7777777777777778,
             "#fb9f3a"
            ],
            [
             0.8888888888888888,
             "#fdca26"
            ],
            [
             1,
             "#f0f921"
            ]
           ],
           "sequentialminus": [
            [
             0,
             "#0d0887"
            ],
            [
             0.1111111111111111,
             "#46039f"
            ],
            [
             0.2222222222222222,
             "#7201a8"
            ],
            [
             0.3333333333333333,
             "#9c179e"
            ],
            [
             0.4444444444444444,
             "#bd3786"
            ],
            [
             0.5555555555555556,
             "#d8576b"
            ],
            [
             0.6666666666666666,
             "#ed7953"
            ],
            [
             0.7777777777777778,
             "#fb9f3a"
            ],
            [
             0.8888888888888888,
             "#fdca26"
            ],
            [
             1,
             "#f0f921"
            ]
           ]
          },
          "colorway": [
           "#636efa",
           "#EF553B",
           "#00cc96",
           "#ab63fa",
           "#FFA15A",
           "#19d3f3",
           "#FF6692",
           "#B6E880",
           "#FF97FF",
           "#FECB52"
          ],
          "font": {
           "color": "#2a3f5f"
          },
          "geo": {
           "bgcolor": "white",
           "lakecolor": "white",
           "landcolor": "#E5ECF6",
           "showlakes": true,
           "showland": true,
           "subunitcolor": "white"
          },
          "hoverlabel": {
           "align": "left"
          },
          "hovermode": "closest",
          "mapbox": {
           "style": "light"
          },
          "paper_bgcolor": "white",
          "plot_bgcolor": "#E5ECF6",
          "polar": {
           "angularaxis": {
            "gridcolor": "white",
            "linecolor": "white",
            "ticks": ""
           },
           "bgcolor": "#E5ECF6",
           "radialaxis": {
            "gridcolor": "white",
            "linecolor": "white",
            "ticks": ""
           }
          },
          "scene": {
           "xaxis": {
            "backgroundcolor": "#E5ECF6",
            "gridcolor": "white",
            "gridwidth": 2,
            "linecolor": "white",
            "showbackground": true,
            "ticks": "",
            "zerolinecolor": "white"
           },
           "yaxis": {
            "backgroundcolor": "#E5ECF6",
            "gridcolor": "white",
            "gridwidth": 2,
            "linecolor": "white",
            "showbackground": true,
            "ticks": "",
            "zerolinecolor": "white"
           },
           "zaxis": {
            "backgroundcolor": "#E5ECF6",
            "gridcolor": "white",
            "gridwidth": 2,
            "linecolor": "white",
            "showbackground": true,
            "ticks": "",
            "zerolinecolor": "white"
           }
          },
          "shapedefaults": {
           "line": {
            "color": "#2a3f5f"
           }
          },
          "ternary": {
           "aaxis": {
            "gridcolor": "white",
            "linecolor": "white",
            "ticks": ""
           },
           "baxis": {
            "gridcolor": "white",
            "linecolor": "white",
            "ticks": ""
           },
           "bgcolor": "#E5ECF6",
           "caxis": {
            "gridcolor": "white",
            "linecolor": "white",
            "ticks": ""
           }
          },
          "title": {
           "x": 0.05
          },
          "xaxis": {
           "automargin": true,
           "gridcolor": "white",
           "linecolor": "white",
           "ticks": "",
           "title": {
            "standoff": 15
           },
           "zerolinecolor": "white",
           "zerolinewidth": 2
          },
          "yaxis": {
           "automargin": true,
           "gridcolor": "white",
           "linecolor": "white",
           "ticks": "",
           "title": {
            "standoff": 15
           },
           "zerolinecolor": "white",
           "zerolinewidth": 2
          }
         }
        },
        "title": {
         "text": "Rating Distribution for Unknown Versions"
        },
        "xaxis": {
         "anchor": "y",
         "categoryarray": [
          1,
          2,
          3,
          4,
          5
         ],
         "categoryorder": "array",
         "domain": [
          0,
          1
         ],
         "tickmode": "array",
         "ticktext": [
          "1 ★",
          "2 ★",
          "3 ★",
          "4 ★",
          "5 ★"
         ],
         "tickvals": [
          1,
          2,
          3,
          4,
          5
         ],
         "title": {
          "text": "Rating"
         }
        },
        "yaxis": {
         "anchor": "x",
         "domain": [
          0,
          1
         ],
         "title": {
          "text": "count"
         }
        }
       }
      }
     },
     "metadata": {},
     "output_type": "display_data"
    },
    {
     "data": {
      "application/vnd.plotly.v1+json": {
       "config": {
        "plotlyServerURL": "https://plot.ly"
       },
       "data": [
        {
         "hovertemplate": "Topic ID=%{x}<br>Number of Reviews=%{marker.color}<extra></extra>",
         "legendgroup": "",
         "marker": {
          "color": {
           "bdata": "tACsAKAAWQBQAA==",
           "dtype": "i2"
          },
          "coloraxis": "coloraxis",
          "pattern": {
           "shape": ""
          }
         },
         "name": "",
         "orientation": "v",
         "showlegend": false,
         "textposition": "auto",
         "type": "bar",
         "x": {
          "bdata": "AAAAAAAAIEAAAAAAAAAUQAAAAAAAABhAAAAAAAAAAAAAAAAAAAAIQA==",
          "dtype": "f8"
         },
         "xaxis": "x",
         "y": {
          "bdata": "tACsAKAAWQBQAA==",
          "dtype": "i2"
         },
         "yaxis": "y"
        }
       ],
       "layout": {
        "barmode": "relative",
        "coloraxis": {
         "colorbar": {
          "title": {
           "text": "Number of Reviews"
          }
         },
         "colorscale": [
          [
           0,
           "rgb(247,251,255)"
          ],
          [
           0.125,
           "rgb(222,235,247)"
          ],
          [
           0.25,
           "rgb(198,219,239)"
          ],
          [
           0.375,
           "rgb(158,202,225)"
          ],
          [
           0.5,
           "rgb(107,174,214)"
          ],
          [
           0.625,
           "rgb(66,146,198)"
          ],
          [
           0.75,
           "rgb(33,113,181)"
          ],
          [
           0.875,
           "rgb(8,81,156)"
          ],
          [
           1,
           "rgb(8,48,107)"
          ]
         ]
        },
        "legend": {
         "tracegroupgap": 0
        },
        "template": {
         "data": {
          "bar": [
           {
            "error_x": {
             "color": "#2a3f5f"
            },
            "error_y": {
             "color": "#2a3f5f"
            },
            "marker": {
             "line": {
              "color": "#E5ECF6",
              "width": 0.5
             },
             "pattern": {
              "fillmode": "overlay",
              "size": 10,
              "solidity": 0.2
             }
            },
            "type": "bar"
           }
          ],
          "barpolar": [
           {
            "marker": {
             "line": {
              "color": "#E5ECF6",
              "width": 0.5
             },
             "pattern": {
              "fillmode": "overlay",
              "size": 10,
              "solidity": 0.2
             }
            },
            "type": "barpolar"
           }
          ],
          "carpet": [
           {
            "aaxis": {
             "endlinecolor": "#2a3f5f",
             "gridcolor": "white",
             "linecolor": "white",
             "minorgridcolor": "white",
             "startlinecolor": "#2a3f5f"
            },
            "baxis": {
             "endlinecolor": "#2a3f5f",
             "gridcolor": "white",
             "linecolor": "white",
             "minorgridcolor": "white",
             "startlinecolor": "#2a3f5f"
            },
            "type": "carpet"
           }
          ],
          "choropleth": [
           {
            "colorbar": {
             "outlinewidth": 0,
             "ticks": ""
            },
            "type": "choropleth"
           }
          ],
          "contour": [
           {
            "colorbar": {
             "outlinewidth": 0,
             "ticks": ""
            },
            "colorscale": [
             [
              0,
              "#0d0887"
             ],
             [
              0.1111111111111111,
              "#46039f"
             ],
             [
              0.2222222222222222,
              "#7201a8"
             ],
             [
              0.3333333333333333,
              "#9c179e"
             ],
             [
              0.4444444444444444,
              "#bd3786"
             ],
             [
              0.5555555555555556,
              "#d8576b"
             ],
             [
              0.6666666666666666,
              "#ed7953"
             ],
             [
              0.7777777777777778,
              "#fb9f3a"
             ],
             [
              0.8888888888888888,
              "#fdca26"
             ],
             [
              1,
              "#f0f921"
             ]
            ],
            "type": "contour"
           }
          ],
          "contourcarpet": [
           {
            "colorbar": {
             "outlinewidth": 0,
             "ticks": ""
            },
            "type": "contourcarpet"
           }
          ],
          "heatmap": [
           {
            "colorbar": {
             "outlinewidth": 0,
             "ticks": ""
            },
            "colorscale": [
             [
              0,
              "#0d0887"
             ],
             [
              0.1111111111111111,
              "#46039f"
             ],
             [
              0.2222222222222222,
              "#7201a8"
             ],
             [
              0.3333333333333333,
              "#9c179e"
             ],
             [
              0.4444444444444444,
              "#bd3786"
             ],
             [
              0.5555555555555556,
              "#d8576b"
             ],
             [
              0.6666666666666666,
              "#ed7953"
             ],
             [
              0.7777777777777778,
              "#fb9f3a"
             ],
             [
              0.8888888888888888,
              "#fdca26"
             ],
             [
              1,
              "#f0f921"
             ]
            ],
            "type": "heatmap"
           }
          ],
          "histogram": [
           {
            "marker": {
             "pattern": {
              "fillmode": "overlay",
              "size": 10,
              "solidity": 0.2
             }
            },
            "type": "histogram"
           }
          ],
          "histogram2d": [
           {
            "colorbar": {
             "outlinewidth": 0,
             "ticks": ""
            },
            "colorscale": [
             [
              0,
              "#0d0887"
             ],
             [
              0.1111111111111111,
              "#46039f"
             ],
             [
              0.2222222222222222,
              "#7201a8"
             ],
             [
              0.3333333333333333,
              "#9c179e"
             ],
             [
              0.4444444444444444,
              "#bd3786"
             ],
             [
              0.5555555555555556,
              "#d8576b"
             ],
             [
              0.6666666666666666,
              "#ed7953"
             ],
             [
              0.7777777777777778,
              "#fb9f3a"
             ],
             [
              0.8888888888888888,
              "#fdca26"
             ],
             [
              1,
              "#f0f921"
             ]
            ],
            "type": "histogram2d"
           }
          ],
          "histogram2dcontour": [
           {
            "colorbar": {
             "outlinewidth": 0,
             "ticks": ""
            },
            "colorscale": [
             [
              0,
              "#0d0887"
             ],
             [
              0.1111111111111111,
              "#46039f"
             ],
             [
              0.2222222222222222,
              "#7201a8"
             ],
             [
              0.3333333333333333,
              "#9c179e"
             ],
             [
              0.4444444444444444,
              "#bd3786"
             ],
             [
              0.5555555555555556,
              "#d8576b"
             ],
             [
              0.6666666666666666,
              "#ed7953"
             ],
             [
              0.7777777777777778,
              "#fb9f3a"
             ],
             [
              0.8888888888888888,
              "#fdca26"
             ],
             [
              1,
              "#f0f921"
             ]
            ],
            "type": "histogram2dcontour"
           }
          ],
          "mesh3d": [
           {
            "colorbar": {
             "outlinewidth": 0,
             "ticks": ""
            },
            "type": "mesh3d"
           }
          ],
          "parcoords": [
           {
            "line": {
             "colorbar": {
              "outlinewidth": 0,
              "ticks": ""
             }
            },
            "type": "parcoords"
           }
          ],
          "pie": [
           {
            "automargin": true,
            "type": "pie"
           }
          ],
          "scatter": [
           {
            "fillpattern": {
             "fillmode": "overlay",
             "size": 10,
             "solidity": 0.2
            },
            "type": "scatter"
           }
          ],
          "scatter3d": [
           {
            "line": {
             "colorbar": {
              "outlinewidth": 0,
              "ticks": ""
             }
            },
            "marker": {
             "colorbar": {
              "outlinewidth": 0,
              "ticks": ""
             }
            },
            "type": "scatter3d"
           }
          ],
          "scattercarpet": [
           {
            "marker": {
             "colorbar": {
              "outlinewidth": 0,
              "ticks": ""
             }
            },
            "type": "scattercarpet"
           }
          ],
          "scattergeo": [
           {
            "marker": {
             "colorbar": {
              "outlinewidth": 0,
              "ticks": ""
             }
            },
            "type": "scattergeo"
           }
          ],
          "scattergl": [
           {
            "marker": {
             "colorbar": {
              "outlinewidth": 0,
              "ticks": ""
             }
            },
            "type": "scattergl"
           }
          ],
          "scattermap": [
           {
            "marker": {
             "colorbar": {
              "outlinewidth": 0,
              "ticks": ""
             }
            },
            "type": "scattermap"
           }
          ],
          "scattermapbox": [
           {
            "marker": {
             "colorbar": {
              "outlinewidth": 0,
              "ticks": ""
             }
            },
            "type": "scattermapbox"
           }
          ],
          "scatterpolar": [
           {
            "marker": {
             "colorbar": {
              "outlinewidth": 0,
              "ticks": ""
             }
            },
            "type": "scatterpolar"
           }
          ],
          "scatterpolargl": [
           {
            "marker": {
             "colorbar": {
              "outlinewidth": 0,
              "ticks": ""
             }
            },
            "type": "scatterpolargl"
           }
          ],
          "scatterternary": [
           {
            "marker": {
             "colorbar": {
              "outlinewidth": 0,
              "ticks": ""
             }
            },
            "type": "scatterternary"
           }
          ],
          "surface": [
           {
            "colorbar": {
             "outlinewidth": 0,
             "ticks": ""
            },
            "colorscale": [
             [
              0,
              "#0d0887"
             ],
             [
              0.1111111111111111,
              "#46039f"
             ],
             [
              0.2222222222222222,
              "#7201a8"
             ],
             [
              0.3333333333333333,
              "#9c179e"
             ],
             [
              0.4444444444444444,
              "#bd3786"
             ],
             [
              0.5555555555555556,
              "#d8576b"
             ],
             [
              0.6666666666666666,
              "#ed7953"
             ],
             [
              0.7777777777777778,
              "#fb9f3a"
             ],
             [
              0.8888888888888888,
              "#fdca26"
             ],
             [
              1,
              "#f0f921"
             ]
            ],
            "type": "surface"
           }
          ],
          "table": [
           {
            "cells": {
             "fill": {
              "color": "#EBF0F8"
             },
             "line": {
              "color": "white"
             }
            },
            "header": {
             "fill": {
              "color": "#C8D4E3"
             },
             "line": {
              "color": "white"
             }
            },
            "type": "table"
           }
          ]
         },
         "layout": {
          "annotationdefaults": {
           "arrowcolor": "#2a3f5f",
           "arrowhead": 0,
           "arrowwidth": 1
          },
          "autotypenumbers": "strict",
          "coloraxis": {
           "colorbar": {
            "outlinewidth": 0,
            "ticks": ""
           }
          },
          "colorscale": {
           "diverging": [
            [
             0,
             "#8e0152"
            ],
            [
             0.1,
             "#c51b7d"
            ],
            [
             0.2,
             "#de77ae"
            ],
            [
             0.3,
             "#f1b6da"
            ],
            [
             0.4,
             "#fde0ef"
            ],
            [
             0.5,
             "#f7f7f7"
            ],
            [
             0.6,
             "#e6f5d0"
            ],
            [
             0.7,
             "#b8e186"
            ],
            [
             0.8,
             "#7fbc41"
            ],
            [
             0.9,
             "#4d9221"
            ],
            [
             1,
             "#276419"
            ]
           ],
           "sequential": [
            [
             0,
             "#0d0887"
            ],
            [
             0.1111111111111111,
             "#46039f"
            ],
            [
             0.2222222222222222,
             "#7201a8"
            ],
            [
             0.3333333333333333,
             "#9c179e"
            ],
            [
             0.4444444444444444,
             "#bd3786"
            ],
            [
             0.5555555555555556,
             "#d8576b"
            ],
            [
             0.6666666666666666,
             "#ed7953"
            ],
            [
             0.7777777777777778,
             "#fb9f3a"
            ],
            [
             0.8888888888888888,
             "#fdca26"
            ],
            [
             1,
             "#f0f921"
            ]
           ],
           "sequentialminus": [
            [
             0,
             "#0d0887"
            ],
            [
             0.1111111111111111,
             "#46039f"
            ],
            [
             0.2222222222222222,
             "#7201a8"
            ],
            [
             0.3333333333333333,
             "#9c179e"
            ],
            [
             0.4444444444444444,
             "#bd3786"
            ],
            [
             0.5555555555555556,
             "#d8576b"
            ],
            [
             0.6666666666666666,
             "#ed7953"
            ],
            [
             0.7777777777777778,
             "#fb9f3a"
            ],
            [
             0.8888888888888888,
             "#fdca26"
            ],
            [
             1,
             "#f0f921"
            ]
           ]
          },
          "colorway": [
           "#636efa",
           "#EF553B",
           "#00cc96",
           "#ab63fa",
           "#FFA15A",
           "#19d3f3",
           "#FF6692",
           "#B6E880",
           "#FF97FF",
           "#FECB52"
          ],
          "font": {
           "color": "#2a3f5f"
          },
          "geo": {
           "bgcolor": "white",
           "lakecolor": "white",
           "landcolor": "#E5ECF6",
           "showlakes": true,
           "showland": true,
           "subunitcolor": "white"
          },
          "hoverlabel": {
           "align": "left"
          },
          "hovermode": "closest",
          "mapbox": {
           "style": "light"
          },
          "paper_bgcolor": "white",
          "plot_bgcolor": "#E5ECF6",
          "polar": {
           "angularaxis": {
            "gridcolor": "white",
            "linecolor": "white",
            "ticks": ""
           },
           "bgcolor": "#E5ECF6",
           "radialaxis": {
            "gridcolor": "white",
            "linecolor": "white",
            "ticks": ""
           }
          },
          "scene": {
           "xaxis": {
            "backgroundcolor": "#E5ECF6",
            "gridcolor": "white",
            "gridwidth": 2,
            "linecolor": "white",
            "showbackground": true,
            "ticks": "",
            "zerolinecolor": "white"
           },
           "yaxis": {
            "backgroundcolor": "#E5ECF6",
            "gridcolor": "white",
            "gridwidth": 2,
            "linecolor": "white",
            "showbackground": true,
            "ticks": "",
            "zerolinecolor": "white"
           },
           "zaxis": {
            "backgroundcolor": "#E5ECF6",
            "gridcolor": "white",
            "gridwidth": 2,
            "linecolor": "white",
            "showbackground": true,
            "ticks": "",
            "zerolinecolor": "white"
           }
          },
          "shapedefaults": {
           "line": {
            "color": "#2a3f5f"
           }
          },
          "ternary": {
           "aaxis": {
            "gridcolor": "white",
            "linecolor": "white",
            "ticks": ""
           },
           "baxis": {
            "gridcolor": "white",
            "linecolor": "white",
            "ticks": ""
           },
           "bgcolor": "#E5ECF6",
           "caxis": {
            "gridcolor": "white",
            "linecolor": "white",
            "ticks": ""
           }
          },
          "title": {
           "x": 0.05
          },
          "xaxis": {
           "automargin": true,
           "gridcolor": "white",
           "linecolor": "white",
           "ticks": "",
           "title": {
            "standoff": 15
           },
           "zerolinecolor": "white",
           "zerolinewidth": 2
          },
          "yaxis": {
           "automargin": true,
           "gridcolor": "white",
           "linecolor": "white",
           "ticks": "",
           "title": {
            "standoff": 15
           },
           "zerolinecolor": "white",
           "zerolinewidth": 2
          }
         }
        },
        "title": {
         "text": "Top Topics for Unknown Versions"
        },
        "xaxis": {
         "anchor": "y",
         "domain": [
          0,
          1
         ],
         "title": {
          "text": "Topic ID"
         }
        },
        "yaxis": {
         "anchor": "x",
         "domain": [
          0,
          1
         ],
         "title": {
          "text": "Number of Reviews"
         }
        }
       }
      }
     },
     "metadata": {},
     "output_type": "display_data"
    },
    {
     "name": "stdout",
     "output_type": "stream",
     "text": [
      "\n",
      "Visualizing latest versions (7+)...\n",
      "\n",
      "Generating visualizations for: Latest Versions (7+)\n"
     ]
    },
    {
     "data": {
      "application/vnd.plotly.v1+json": {
       "config": {
        "plotlyServerURL": "https://plot.ly"
       },
       "data": [
        {
         "customdata": [
          [
           "negative"
          ],
          [
           "positive"
          ],
          [
           "neutral"
          ]
         ],
         "domain": {
          "x": [
           0,
           1
          ],
          "y": [
           0,
           1
          ]
         },
         "hole": 0.3,
         "hovertemplate": "label=%{label}<br>value=%{value}<br>color=%{customdata[0]}<extra></extra>",
         "labels": [
          "negative",
          "positive",
          "neutral"
         ],
         "legendgroup": "",
         "marker": {
          "colors": [
           "red",
           "green",
           "blue"
          ]
         },
         "name": "",
         "showlegend": true,
         "type": "pie",
         "values": {
          "bdata": "QwQIAT8A",
          "dtype": "i2"
         }
        }
       ],
       "layout": {
        "annotations": [
         {
          "showarrow": false,
          "text": "Total: 1418 reviews",
          "x": 0.5,
          "y": 0.5
         }
        ],
        "legend": {
         "tracegroupgap": 0
        },
        "template": {
         "data": {
          "bar": [
           {
            "error_x": {
             "color": "#2a3f5f"
            },
            "error_y": {
             "color": "#2a3f5f"
            },
            "marker": {
             "line": {
              "color": "#E5ECF6",
              "width": 0.5
             },
             "pattern": {
              "fillmode": "overlay",
              "size": 10,
              "solidity": 0.2
             }
            },
            "type": "bar"
           }
          ],
          "barpolar": [
           {
            "marker": {
             "line": {
              "color": "#E5ECF6",
              "width": 0.5
             },
             "pattern": {
              "fillmode": "overlay",
              "size": 10,
              "solidity": 0.2
             }
            },
            "type": "barpolar"
           }
          ],
          "carpet": [
           {
            "aaxis": {
             "endlinecolor": "#2a3f5f",
             "gridcolor": "white",
             "linecolor": "white",
             "minorgridcolor": "white",
             "startlinecolor": "#2a3f5f"
            },
            "baxis": {
             "endlinecolor": "#2a3f5f",
             "gridcolor": "white",
             "linecolor": "white",
             "minorgridcolor": "white",
             "startlinecolor": "#2a3f5f"
            },
            "type": "carpet"
           }
          ],
          "choropleth": [
           {
            "colorbar": {
             "outlinewidth": 0,
             "ticks": ""
            },
            "type": "choropleth"
           }
          ],
          "contour": [
           {
            "colorbar": {
             "outlinewidth": 0,
             "ticks": ""
            },
            "colorscale": [
             [
              0,
              "#0d0887"
             ],
             [
              0.1111111111111111,
              "#46039f"
             ],
             [
              0.2222222222222222,
              "#7201a8"
             ],
             [
              0.3333333333333333,
              "#9c179e"
             ],
             [
              0.4444444444444444,
              "#bd3786"
             ],
             [
              0.5555555555555556,
              "#d8576b"
             ],
             [
              0.6666666666666666,
              "#ed7953"
             ],
             [
              0.7777777777777778,
              "#fb9f3a"
             ],
             [
              0.8888888888888888,
              "#fdca26"
             ],
             [
              1,
              "#f0f921"
             ]
            ],
            "type": "contour"
           }
          ],
          "contourcarpet": [
           {
            "colorbar": {
             "outlinewidth": 0,
             "ticks": ""
            },
            "type": "contourcarpet"
           }
          ],
          "heatmap": [
           {
            "colorbar": {
             "outlinewidth": 0,
             "ticks": ""
            },
            "colorscale": [
             [
              0,
              "#0d0887"
             ],
             [
              0.1111111111111111,
              "#46039f"
             ],
             [
              0.2222222222222222,
              "#7201a8"
             ],
             [
              0.3333333333333333,
              "#9c179e"
             ],
             [
              0.4444444444444444,
              "#bd3786"
             ],
             [
              0.5555555555555556,
              "#d8576b"
             ],
             [
              0.6666666666666666,
              "#ed7953"
             ],
             [
              0.7777777777777778,
              "#fb9f3a"
             ],
             [
              0.8888888888888888,
              "#fdca26"
             ],
             [
              1,
              "#f0f921"
             ]
            ],
            "type": "heatmap"
           }
          ],
          "histogram": [
           {
            "marker": {
             "pattern": {
              "fillmode": "overlay",
              "size": 10,
              "solidity": 0.2
             }
            },
            "type": "histogram"
           }
          ],
          "histogram2d": [
           {
            "colorbar": {
             "outlinewidth": 0,
             "ticks": ""
            },
            "colorscale": [
             [
              0,
              "#0d0887"
             ],
             [
              0.1111111111111111,
              "#46039f"
             ],
             [
              0.2222222222222222,
              "#7201a8"
             ],
             [
              0.3333333333333333,
              "#9c179e"
             ],
             [
              0.4444444444444444,
              "#bd3786"
             ],
             [
              0.5555555555555556,
              "#d8576b"
             ],
             [
              0.6666666666666666,
              "#ed7953"
             ],
             [
              0.7777777777777778,
              "#fb9f3a"
             ],
             [
              0.8888888888888888,
              "#fdca26"
             ],
             [
              1,
              "#f0f921"
             ]
            ],
            "type": "histogram2d"
           }
          ],
          "histogram2dcontour": [
           {
            "colorbar": {
             "outlinewidth": 0,
             "ticks": ""
            },
            "colorscale": [
             [
              0,
              "#0d0887"
             ],
             [
              0.1111111111111111,
              "#46039f"
             ],
             [
              0.2222222222222222,
              "#7201a8"
             ],
             [
              0.3333333333333333,
              "#9c179e"
             ],
             [
              0.4444444444444444,
              "#bd3786"
             ],
             [
              0.5555555555555556,
              "#d8576b"
             ],
             [
              0.6666666666666666,
              "#ed7953"
             ],
             [
              0.7777777777777778,
              "#fb9f3a"
             ],
             [
              0.8888888888888888,
              "#fdca26"
             ],
             [
              1,
              "#f0f921"
             ]
            ],
            "type": "histogram2dcontour"
           }
          ],
          "mesh3d": [
           {
            "colorbar": {
             "outlinewidth": 0,
             "ticks": ""
            },
            "type": "mesh3d"
           }
          ],
          "parcoords": [
           {
            "line": {
             "colorbar": {
              "outlinewidth": 0,
              "ticks": ""
             }
            },
            "type": "parcoords"
           }
          ],
          "pie": [
           {
            "automargin": true,
            "type": "pie"
           }
          ],
          "scatter": [
           {
            "fillpattern": {
             "fillmode": "overlay",
             "size": 10,
             "solidity": 0.2
            },
            "type": "scatter"
           }
          ],
          "scatter3d": [
           {
            "line": {
             "colorbar": {
              "outlinewidth": 0,
              "ticks": ""
             }
            },
            "marker": {
             "colorbar": {
              "outlinewidth": 0,
              "ticks": ""
             }
            },
            "type": "scatter3d"
           }
          ],
          "scattercarpet": [
           {
            "marker": {
             "colorbar": {
              "outlinewidth": 0,
              "ticks": ""
             }
            },
            "type": "scattercarpet"
           }
          ],
          "scattergeo": [
           {
            "marker": {
             "colorbar": {
              "outlinewidth": 0,
              "ticks": ""
             }
            },
            "type": "scattergeo"
           }
          ],
          "scattergl": [
           {
            "marker": {
             "colorbar": {
              "outlinewidth": 0,
              "ticks": ""
             }
            },
            "type": "scattergl"
           }
          ],
          "scattermap": [
           {
            "marker": {
             "colorbar": {
              "outlinewidth": 0,
              "ticks": ""
             }
            },
            "type": "scattermap"
           }
          ],
          "scattermapbox": [
           {
            "marker": {
             "colorbar": {
              "outlinewidth": 0,
              "ticks": ""
             }
            },
            "type": "scattermapbox"
           }
          ],
          "scatterpolar": [
           {
            "marker": {
             "colorbar": {
              "outlinewidth": 0,
              "ticks": ""
             }
            },
            "type": "scatterpolar"
           }
          ],
          "scatterpolargl": [
           {
            "marker": {
             "colorbar": {
              "outlinewidth": 0,
              "ticks": ""
             }
            },
            "type": "scatterpolargl"
           }
          ],
          "scatterternary": [
           {
            "marker": {
             "colorbar": {
              "outlinewidth": 0,
              "ticks": ""
             }
            },
            "type": "scatterternary"
           }
          ],
          "surface": [
           {
            "colorbar": {
             "outlinewidth": 0,
             "ticks": ""
            },
            "colorscale": [
             [
              0,
              "#0d0887"
             ],
             [
              0.1111111111111111,
              "#46039f"
             ],
             [
              0.2222222222222222,
              "#7201a8"
             ],
             [
              0.3333333333333333,
              "#9c179e"
             ],
             [
              0.4444444444444444,
              "#bd3786"
             ],
             [
              0.5555555555555556,
              "#d8576b"
             ],
             [
              0.6666666666666666,
              "#ed7953"
             ],
             [
              0.7777777777777778,
              "#fb9f3a"
             ],
             [
              0.8888888888888888,
              "#fdca26"
             ],
             [
              1,
              "#f0f921"
             ]
            ],
            "type": "surface"
           }
          ],
          "table": [
           {
            "cells": {
             "fill": {
              "color": "#EBF0F8"
             },
             "line": {
              "color": "white"
             }
            },
            "header": {
             "fill": {
              "color": "#C8D4E3"
             },
             "line": {
              "color": "white"
             }
            },
            "type": "table"
           }
          ]
         },
         "layout": {
          "annotationdefaults": {
           "arrowcolor": "#2a3f5f",
           "arrowhead": 0,
           "arrowwidth": 1
          },
          "autotypenumbers": "strict",
          "coloraxis": {
           "colorbar": {
            "outlinewidth": 0,
            "ticks": ""
           }
          },
          "colorscale": {
           "diverging": [
            [
             0,
             "#8e0152"
            ],
            [
             0.1,
             "#c51b7d"
            ],
            [
             0.2,
             "#de77ae"
            ],
            [
             0.3,
             "#f1b6da"
            ],
            [
             0.4,
             "#fde0ef"
            ],
            [
             0.5,
             "#f7f7f7"
            ],
            [
             0.6,
             "#e6f5d0"
            ],
            [
             0.7,
             "#b8e186"
            ],
            [
             0.8,
             "#7fbc41"
            ],
            [
             0.9,
             "#4d9221"
            ],
            [
             1,
             "#276419"
            ]
           ],
           "sequential": [
            [
             0,
             "#0d0887"
            ],
            [
             0.1111111111111111,
             "#46039f"
            ],
            [
             0.2222222222222222,
             "#7201a8"
            ],
            [
             0.3333333333333333,
             "#9c179e"
            ],
            [
             0.4444444444444444,
             "#bd3786"
            ],
            [
             0.5555555555555556,
             "#d8576b"
            ],
            [
             0.6666666666666666,
             "#ed7953"
            ],
            [
             0.7777777777777778,
             "#fb9f3a"
            ],
            [
             0.8888888888888888,
             "#fdca26"
            ],
            [
             1,
             "#f0f921"
            ]
           ],
           "sequentialminus": [
            [
             0,
             "#0d0887"
            ],
            [
             0.1111111111111111,
             "#46039f"
            ],
            [
             0.2222222222222222,
             "#7201a8"
            ],
            [
             0.3333333333333333,
             "#9c179e"
            ],
            [
             0.4444444444444444,
             "#bd3786"
            ],
            [
             0.5555555555555556,
             "#d8576b"
            ],
            [
             0.6666666666666666,
             "#ed7953"
            ],
            [
             0.7777777777777778,
             "#fb9f3a"
            ],
            [
             0.8888888888888888,
             "#fdca26"
            ],
            [
             1,
             "#f0f921"
            ]
           ]
          },
          "colorway": [
           "#636efa",
           "#EF553B",
           "#00cc96",
           "#ab63fa",
           "#FFA15A",
           "#19d3f3",
           "#FF6692",
           "#B6E880",
           "#FF97FF",
           "#FECB52"
          ],
          "font": {
           "color": "#2a3f5f"
          },
          "geo": {
           "bgcolor": "white",
           "lakecolor": "white",
           "landcolor": "#E5ECF6",
           "showlakes": true,
           "showland": true,
           "subunitcolor": "white"
          },
          "hoverlabel": {
           "align": "left"
          },
          "hovermode": "closest",
          "mapbox": {
           "style": "light"
          },
          "paper_bgcolor": "white",
          "plot_bgcolor": "#E5ECF6",
          "polar": {
           "angularaxis": {
            "gridcolor": "white",
            "linecolor": "white",
            "ticks": ""
           },
           "bgcolor": "#E5ECF6",
           "radialaxis": {
            "gridcolor": "white",
            "linecolor": "white",
            "ticks": ""
           }
          },
          "scene": {
           "xaxis": {
            "backgroundcolor": "#E5ECF6",
            "gridcolor": "white",
            "gridwidth": 2,
            "linecolor": "white",
            "showbackground": true,
            "ticks": "",
            "zerolinecolor": "white"
           },
           "yaxis": {
            "backgroundcolor": "#E5ECF6",
            "gridcolor": "white",
            "gridwidth": 2,
            "linecolor": "white",
            "showbackground": true,
            "ticks": "",
            "zerolinecolor": "white"
           },
           "zaxis": {
            "backgroundcolor": "#E5ECF6",
            "gridcolor": "white",
            "gridwidth": 2,
            "linecolor": "white",
            "showbackground": true,
            "ticks": "",
            "zerolinecolor": "white"
           }
          },
          "shapedefaults": {
           "line": {
            "color": "#2a3f5f"
           }
          },
          "ternary": {
           "aaxis": {
            "gridcolor": "white",
            "linecolor": "white",
            "ticks": ""
           },
           "baxis": {
            "gridcolor": "white",
            "linecolor": "white",
            "ticks": ""
           },
           "bgcolor": "#E5ECF6",
           "caxis": {
            "gridcolor": "white",
            "linecolor": "white",
            "ticks": ""
           }
          },
          "title": {
           "x": 0.05
          },
          "xaxis": {
           "automargin": true,
           "gridcolor": "white",
           "linecolor": "white",
           "ticks": "",
           "title": {
            "standoff": 15
           },
           "zerolinecolor": "white",
           "zerolinewidth": 2
          },
          "yaxis": {
           "automargin": true,
           "gridcolor": "white",
           "linecolor": "white",
           "ticks": "",
           "title": {
            "standoff": 15
           },
           "zerolinecolor": "white",
           "zerolinewidth": 2
          }
         }
        },
        "title": {
         "text": "Sentiment Distribution for Latest Versions (7+)"
        }
       }
      }
     },
     "metadata": {},
     "output_type": "display_data"
    },
    {
     "data": {
      "application/vnd.plotly.v1+json": {
       "config": {
        "plotlyServerURL": "https://plot.ly"
       },
       "data": [
        {
         "bingroup": "x",
         "hovertemplate": "Rating=%{x}<br>count=%{y}<extra></extra>",
         "legendgroup": "1",
         "marker": {
          "color": "#440154",
          "pattern": {
           "shape": ""
          }
         },
         "name": "1",
         "orientation": "v",
         "showlegend": true,
         "texttemplate": "%{value}",
         "type": "histogram",
         "x": {
          "bdata": "AQEBAQEBAQEBAQEBAQEBAQEBAQEBAQEBAQEBAQEBAQEBAQEBAQEBAQEBAQEBAQEBAQEBAQEBAQEBAQEBAQEBAQEBAQEBAQEBAQEBAQEBAQEBAQEBAQEBAQEBAQEBAQEBAQEBAQEBAQEBAQEBAQEBAQEBAQEBAQEBAQEBAQEBAQEBAQEBAQEBAQEBAQEBAQEBAQEBAQEBAQEBAQEBAQEBAQEBAQEBAQEBAQEBAQEBAQEBAQEBAQEBAQEBAQEBAQEBAQEBAQEBAQEBAQEBAQEBAQEBAQEBAQEBAQEBAQEBAQEBAQEBAQEBAQEBAQEBAQEBAQEBAQEBAQEBAQEBAQEBAQEBAQEBAQEBAQEBAQEBAQEBAQEBAQEBAQEBAQEBAQEBAQEBAQEBAQEBAQEBAQEBAQEBAQEBAQEBAQEBAQEBAQEBAQEBAQEBAQEBAQEBAQEBAQEBAQEBAQEBAQEBAQEBAQEBAQEBAQEBAQEBAQEBAQEBAQEBAQEBAQEBAQEBAQEBAQEBAQEBAQEBAQEBAQEBAQEBAQEBAQEBAQEBAQEBAQEBAQEBAQEBAQEBAQEBAQEBAQEBAQEBAQEBAQEBAQEBAQEBAQEBAQEBAQEBAQEBAQEBAQEBAQEBAQEBAQEBAQEBAQEBAQEBAQEBAQEBAQEBAQEBAQEBAQEBAQEBAQEBAQEBAQEBAQEBAQEBAQEBAQEBAQEBAQEBAQEBAQEBAQEBAQEBAQEBAQEBAQEBAQEBAQEBAQEBAQEBAQEBAQEBAQEBAQEBAQEBAQEBAQEBAQEBAQEBAQEBAQEBAQEBAQEBAQEBAQEBAQEBAQEBAQEBAQEBAQEBAQEBAQEBAQEBAQEBAQEBAQEBAQEBAQEBAQEBAQEBAQEBAQEBAQEBAQEBAQEBAQEBAQEBAQEBAQEBAQEBAQEBAQEBAQEBAQEBAQEBAQEBAQEBAQEBAQEBAQEBAQEBAQEBAQEBAQEBAQEBAQEBAQEBAQEBAQEBAQEBAQEBAQEBAQEBAQEBAQEBAQEBAQEBAQEBAQEBAQEBAQEBAQEBAQEBAQEBAQEBAQEBAQEBAQEBAQEBAQEBAQEBAQEBAQEBAQEBAQEBAQEBAQEBAQEBAQEBAQEBAQEBAQEBAQEBAQEBAQEBAQEBAQEBAQEBAQEBAQEBAQEBAQEBAQEBAQEBAQEBAQEBAQEBAQEBAQEBAQEBAQEBAQEBAQEBAQEBAQEBAQEBAQEBAQEBAQEBAQEBAQEBAQEBAQEBAQEBAQEBAQEBAQEBAQEBAQEBAQEBAQEBAQEBAQEBAQEBAQEBAQ==",
          "dtype": "i1"
         },
         "xaxis": "x",
         "yaxis": "y"
        },
        {
         "bingroup": "x",
         "hovertemplate": "Rating=%{x}<br>count=%{y}<extra></extra>",
         "legendgroup": "2",
         "marker": {
          "color": "#482878",
          "pattern": {
           "shape": ""
          }
         },
         "name": "2",
         "orientation": "v",
         "showlegend": true,
         "texttemplate": "%{value}",
         "type": "histogram",
         "x": {
          "bdata": "AgICAgICAgICAgICAgICAgICAgICAgICAgICAgICAgICAgICAgICAgICAgICAgICAgICAgICAgICAgICAgICAgICAgICAgICAgICAgICAgICAgICAgICAgICAgICAgICAgICAgICAgICAgICAgICAgICAgICAg==",
          "dtype": "i1"
         },
         "xaxis": "x",
         "yaxis": "y"
        },
        {
         "bingroup": "x",
         "hovertemplate": "Rating=%{x}<br>count=%{y}<extra></extra>",
         "legendgroup": "3",
         "marker": {
          "color": "#3e4989",
          "pattern": {
           "shape": ""
          }
         },
         "name": "3",
         "orientation": "v",
         "showlegend": true,
         "texttemplate": "%{value}",
         "type": "histogram",
         "x": {
          "bdata": "AwMDAwMDAwMDAwMDAwMDAwMDAwMDAwMDAwMDAwMDAwMDAwMDAwMDAwMDAwMDAwMDAwMDAwMDAwMDAwMDAwMD",
          "dtype": "i1"
         },
         "xaxis": "x",
         "yaxis": "y"
        },
        {
         "bingroup": "x",
         "hovertemplate": "Rating=%{x}<br>count=%{y}<extra></extra>",
         "legendgroup": "4",
         "marker": {
          "color": "#31688e",
          "pattern": {
           "shape": ""
          }
         },
         "name": "4",
         "orientation": "v",
         "showlegend": true,
         "texttemplate": "%{value}",
         "type": "histogram",
         "x": {
          "bdata": "BAQEBAQEBAQEBAQEBAQEBAQEBAQEBAQEBAQEBAQEBAQEBAQEBAQEBA==",
          "dtype": "i1"
         },
         "xaxis": "x",
         "yaxis": "y"
        },
        {
         "bingroup": "x",
         "hovertemplate": "Rating=%{x}<br>count=%{y}<extra></extra>",
         "legendgroup": "5",
         "marker": {
          "color": "#26828e",
          "pattern": {
           "shape": ""
          }
         },
         "name": "5",
         "orientation": "v",
         "showlegend": true,
         "texttemplate": "%{value}",
         "type": "histogram",
         "x": {
          "bdata": "BQUFBQUFBQUFBQUFBQUFBQUFBQUFBQUFBQUFBQUFBQUFBQUFBQUFBQUFBQUFBQUFBQUFBQUFBQUFBQUFBQUFBQUFBQUFBQUFBQUFBQUFBQUFBQUFBQUFBQUFBQUFBQUFBQUFBQUFBQUFBQUFBQUFBQUFBQUFBQUFBQUFBQUFBQUFBQUFBQUFBQUFBQUFBQUFBQUFBQUFBQUFBQUFBQUFBQUFBQUFBQUFBQUFBQUFBQUFBQUFBQUFBQUFBQUFBQUFBQUFBQUFBQUFBQUFBQUFBQUFBQUFBQUFBQUFBQUFBQU=",
          "dtype": "i1"
         },
         "xaxis": "x",
         "yaxis": "y"
        }
       ],
       "layout": {
        "barmode": "relative",
        "legend": {
         "title": {
          "text": "Rating"
         },
         "tracegroupgap": 0
        },
        "template": {
         "data": {
          "bar": [
           {
            "error_x": {
             "color": "#2a3f5f"
            },
            "error_y": {
             "color": "#2a3f5f"
            },
            "marker": {
             "line": {
              "color": "#E5ECF6",
              "width": 0.5
             },
             "pattern": {
              "fillmode": "overlay",
              "size": 10,
              "solidity": 0.2
             }
            },
            "type": "bar"
           }
          ],
          "barpolar": [
           {
            "marker": {
             "line": {
              "color": "#E5ECF6",
              "width": 0.5
             },
             "pattern": {
              "fillmode": "overlay",
              "size": 10,
              "solidity": 0.2
             }
            },
            "type": "barpolar"
           }
          ],
          "carpet": [
           {
            "aaxis": {
             "endlinecolor": "#2a3f5f",
             "gridcolor": "white",
             "linecolor": "white",
             "minorgridcolor": "white",
             "startlinecolor": "#2a3f5f"
            },
            "baxis": {
             "endlinecolor": "#2a3f5f",
             "gridcolor": "white",
             "linecolor": "white",
             "minorgridcolor": "white",
             "startlinecolor": "#2a3f5f"
            },
            "type": "carpet"
           }
          ],
          "choropleth": [
           {
            "colorbar": {
             "outlinewidth": 0,
             "ticks": ""
            },
            "type": "choropleth"
           }
          ],
          "contour": [
           {
            "colorbar": {
             "outlinewidth": 0,
             "ticks": ""
            },
            "colorscale": [
             [
              0,
              "#0d0887"
             ],
             [
              0.1111111111111111,
              "#46039f"
             ],
             [
              0.2222222222222222,
              "#7201a8"
             ],
             [
              0.3333333333333333,
              "#9c179e"
             ],
             [
              0.4444444444444444,
              "#bd3786"
             ],
             [
              0.5555555555555556,
              "#d8576b"
             ],
             [
              0.6666666666666666,
              "#ed7953"
             ],
             [
              0.7777777777777778,
              "#fb9f3a"
             ],
             [
              0.8888888888888888,
              "#fdca26"
             ],
             [
              1,
              "#f0f921"
             ]
            ],
            "type": "contour"
           }
          ],
          "contourcarpet": [
           {
            "colorbar": {
             "outlinewidth": 0,
             "ticks": ""
            },
            "type": "contourcarpet"
           }
          ],
          "heatmap": [
           {
            "colorbar": {
             "outlinewidth": 0,
             "ticks": ""
            },
            "colorscale": [
             [
              0,
              "#0d0887"
             ],
             [
              0.1111111111111111,
              "#46039f"
             ],
             [
              0.2222222222222222,
              "#7201a8"
             ],
             [
              0.3333333333333333,
              "#9c179e"
             ],
             [
              0.4444444444444444,
              "#bd3786"
             ],
             [
              0.5555555555555556,
              "#d8576b"
             ],
             [
              0.6666666666666666,
              "#ed7953"
             ],
             [
              0.7777777777777778,
              "#fb9f3a"
             ],
             [
              0.8888888888888888,
              "#fdca26"
             ],
             [
              1,
              "#f0f921"
             ]
            ],
            "type": "heatmap"
           }
          ],
          "histogram": [
           {
            "marker": {
             "pattern": {
              "fillmode": "overlay",
              "size": 10,
              "solidity": 0.2
             }
            },
            "type": "histogram"
           }
          ],
          "histogram2d": [
           {
            "colorbar": {
             "outlinewidth": 0,
             "ticks": ""
            },
            "colorscale": [
             [
              0,
              "#0d0887"
             ],
             [
              0.1111111111111111,
              "#46039f"
             ],
             [
              0.2222222222222222,
              "#7201a8"
             ],
             [
              0.3333333333333333,
              "#9c179e"
             ],
             [
              0.4444444444444444,
              "#bd3786"
             ],
             [
              0.5555555555555556,
              "#d8576b"
             ],
             [
              0.6666666666666666,
              "#ed7953"
             ],
             [
              0.7777777777777778,
              "#fb9f3a"
             ],
             [
              0.8888888888888888,
              "#fdca26"
             ],
             [
              1,
              "#f0f921"
             ]
            ],
            "type": "histogram2d"
           }
          ],
          "histogram2dcontour": [
           {
            "colorbar": {
             "outlinewidth": 0,
             "ticks": ""
            },
            "colorscale": [
             [
              0,
              "#0d0887"
             ],
             [
              0.1111111111111111,
              "#46039f"
             ],
             [
              0.2222222222222222,
              "#7201a8"
             ],
             [
              0.3333333333333333,
              "#9c179e"
             ],
             [
              0.4444444444444444,
              "#bd3786"
             ],
             [
              0.5555555555555556,
              "#d8576b"
             ],
             [
              0.6666666666666666,
              "#ed7953"
             ],
             [
              0.7777777777777778,
              "#fb9f3a"
             ],
             [
              0.8888888888888888,
              "#fdca26"
             ],
             [
              1,
              "#f0f921"
             ]
            ],
            "type": "histogram2dcontour"
           }
          ],
          "mesh3d": [
           {
            "colorbar": {
             "outlinewidth": 0,
             "ticks": ""
            },
            "type": "mesh3d"
           }
          ],
          "parcoords": [
           {
            "line": {
             "colorbar": {
              "outlinewidth": 0,
              "ticks": ""
             }
            },
            "type": "parcoords"
           }
          ],
          "pie": [
           {
            "automargin": true,
            "type": "pie"
           }
          ],
          "scatter": [
           {
            "fillpattern": {
             "fillmode": "overlay",
             "size": 10,
             "solidity": 0.2
            },
            "type": "scatter"
           }
          ],
          "scatter3d": [
           {
            "line": {
             "colorbar": {
              "outlinewidth": 0,
              "ticks": ""
             }
            },
            "marker": {
             "colorbar": {
              "outlinewidth": 0,
              "ticks": ""
             }
            },
            "type": "scatter3d"
           }
          ],
          "scattercarpet": [
           {
            "marker": {
             "colorbar": {
              "outlinewidth": 0,
              "ticks": ""
             }
            },
            "type": "scattercarpet"
           }
          ],
          "scattergeo": [
           {
            "marker": {
             "colorbar": {
              "outlinewidth": 0,
              "ticks": ""
             }
            },
            "type": "scattergeo"
           }
          ],
          "scattergl": [
           {
            "marker": {
             "colorbar": {
              "outlinewidth": 0,
              "ticks": ""
             }
            },
            "type": "scattergl"
           }
          ],
          "scattermap": [
           {
            "marker": {
             "colorbar": {
              "outlinewidth": 0,
              "ticks": ""
             }
            },
            "type": "scattermap"
           }
          ],
          "scattermapbox": [
           {
            "marker": {
             "colorbar": {
              "outlinewidth": 0,
              "ticks": ""
             }
            },
            "type": "scattermapbox"
           }
          ],
          "scatterpolar": [
           {
            "marker": {
             "colorbar": {
              "outlinewidth": 0,
              "ticks": ""
             }
            },
            "type": "scatterpolar"
           }
          ],
          "scatterpolargl": [
           {
            "marker": {
             "colorbar": {
              "outlinewidth": 0,
              "ticks": ""
             }
            },
            "type": "scatterpolargl"
           }
          ],
          "scatterternary": [
           {
            "marker": {
             "colorbar": {
              "outlinewidth": 0,
              "ticks": ""
             }
            },
            "type": "scatterternary"
           }
          ],
          "surface": [
           {
            "colorbar": {
             "outlinewidth": 0,
             "ticks": ""
            },
            "colorscale": [
             [
              0,
              "#0d0887"
             ],
             [
              0.1111111111111111,
              "#46039f"
             ],
             [
              0.2222222222222222,
              "#7201a8"
             ],
             [
              0.3333333333333333,
              "#9c179e"
             ],
             [
              0.4444444444444444,
              "#bd3786"
             ],
             [
              0.5555555555555556,
              "#d8576b"
             ],
             [
              0.6666666666666666,
              "#ed7953"
             ],
             [
              0.7777777777777778,
              "#fb9f3a"
             ],
             [
              0.8888888888888888,
              "#fdca26"
             ],
             [
              1,
              "#f0f921"
             ]
            ],
            "type": "surface"
           }
          ],
          "table": [
           {
            "cells": {
             "fill": {
              "color": "#EBF0F8"
             },
             "line": {
              "color": "white"
             }
            },
            "header": {
             "fill": {
              "color": "#C8D4E3"
             },
             "line": {
              "color": "white"
             }
            },
            "type": "table"
           }
          ]
         },
         "layout": {
          "annotationdefaults": {
           "arrowcolor": "#2a3f5f",
           "arrowhead": 0,
           "arrowwidth": 1
          },
          "autotypenumbers": "strict",
          "coloraxis": {
           "colorbar": {
            "outlinewidth": 0,
            "ticks": ""
           }
          },
          "colorscale": {
           "diverging": [
            [
             0,
             "#8e0152"
            ],
            [
             0.1,
             "#c51b7d"
            ],
            [
             0.2,
             "#de77ae"
            ],
            [
             0.3,
             "#f1b6da"
            ],
            [
             0.4,
             "#fde0ef"
            ],
            [
             0.5,
             "#f7f7f7"
            ],
            [
             0.6,
             "#e6f5d0"
            ],
            [
             0.7,
             "#b8e186"
            ],
            [
             0.8,
             "#7fbc41"
            ],
            [
             0.9,
             "#4d9221"
            ],
            [
             1,
             "#276419"
            ]
           ],
           "sequential": [
            [
             0,
             "#0d0887"
            ],
            [
             0.1111111111111111,
             "#46039f"
            ],
            [
             0.2222222222222222,
             "#7201a8"
            ],
            [
             0.3333333333333333,
             "#9c179e"
            ],
            [
             0.4444444444444444,
             "#bd3786"
            ],
            [
             0.5555555555555556,
             "#d8576b"
            ],
            [
             0.6666666666666666,
             "#ed7953"
            ],
            [
             0.7777777777777778,
             "#fb9f3a"
            ],
            [
             0.8888888888888888,
             "#fdca26"
            ],
            [
             1,
             "#f0f921"
            ]
           ],
           "sequentialminus": [
            [
             0,
             "#0d0887"
            ],
            [
             0.1111111111111111,
             "#46039f"
            ],
            [
             0.2222222222222222,
             "#7201a8"
            ],
            [
             0.3333333333333333,
             "#9c179e"
            ],
            [
             0.4444444444444444,
             "#bd3786"
            ],
            [
             0.5555555555555556,
             "#d8576b"
            ],
            [
             0.6666666666666666,
             "#ed7953"
            ],
            [
             0.7777777777777778,
             "#fb9f3a"
            ],
            [
             0.8888888888888888,
             "#fdca26"
            ],
            [
             1,
             "#f0f921"
            ]
           ]
          },
          "colorway": [
           "#636efa",
           "#EF553B",
           "#00cc96",
           "#ab63fa",
           "#FFA15A",
           "#19d3f3",
           "#FF6692",
           "#B6E880",
           "#FF97FF",
           "#FECB52"
          ],
          "font": {
           "color": "#2a3f5f"
          },
          "geo": {
           "bgcolor": "white",
           "lakecolor": "white",
           "landcolor": "#E5ECF6",
           "showlakes": true,
           "showland": true,
           "subunitcolor": "white"
          },
          "hoverlabel": {
           "align": "left"
          },
          "hovermode": "closest",
          "mapbox": {
           "style": "light"
          },
          "paper_bgcolor": "white",
          "plot_bgcolor": "#E5ECF6",
          "polar": {
           "angularaxis": {
            "gridcolor": "white",
            "linecolor": "white",
            "ticks": ""
           },
           "bgcolor": "#E5ECF6",
           "radialaxis": {
            "gridcolor": "white",
            "linecolor": "white",
            "ticks": ""
           }
          },
          "scene": {
           "xaxis": {
            "backgroundcolor": "#E5ECF6",
            "gridcolor": "white",
            "gridwidth": 2,
            "linecolor": "white",
            "showbackground": true,
            "ticks": "",
            "zerolinecolor": "white"
           },
           "yaxis": {
            "backgroundcolor": "#E5ECF6",
            "gridcolor": "white",
            "gridwidth": 2,
            "linecolor": "white",
            "showbackground": true,
            "ticks": "",
            "zerolinecolor": "white"
           },
           "zaxis": {
            "backgroundcolor": "#E5ECF6",
            "gridcolor": "white",
            "gridwidth": 2,
            "linecolor": "white",
            "showbackground": true,
            "ticks": "",
            "zerolinecolor": "white"
           }
          },
          "shapedefaults": {
           "line": {
            "color": "#2a3f5f"
           }
          },
          "ternary": {
           "aaxis": {
            "gridcolor": "white",
            "linecolor": "white",
            "ticks": ""
           },
           "baxis": {
            "gridcolor": "white",
            "linecolor": "white",
            "ticks": ""
           },
           "bgcolor": "#E5ECF6",
           "caxis": {
            "gridcolor": "white",
            "linecolor": "white",
            "ticks": ""
           }
          },
          "title": {
           "x": 0.05
          },
          "xaxis": {
           "automargin": true,
           "gridcolor": "white",
           "linecolor": "white",
           "ticks": "",
           "title": {
            "standoff": 15
           },
           "zerolinecolor": "white",
           "zerolinewidth": 2
          },
          "yaxis": {
           "automargin": true,
           "gridcolor": "white",
           "linecolor": "white",
           "ticks": "",
           "title": {
            "standoff": 15
           },
           "zerolinecolor": "white",
           "zerolinewidth": 2
          }
         }
        },
        "title": {
         "text": "Rating Distribution for Latest Versions (7+)"
        },
        "xaxis": {
         "anchor": "y",
         "categoryarray": [
          1,
          2,
          3,
          4,
          5
         ],
         "categoryorder": "array",
         "domain": [
          0,
          1
         ],
         "tickmode": "array",
         "ticktext": [
          "1 ★",
          "2 ★",
          "3 ★",
          "4 ★",
          "5 ★"
         ],
         "tickvals": [
          1,
          2,
          3,
          4,
          5
         ],
         "title": {
          "text": "Rating"
         }
        },
        "yaxis": {
         "anchor": "x",
         "domain": [
          0,
          1
         ],
         "title": {
          "text": "count"
         }
        }
       }
      }
     },
     "metadata": {},
     "output_type": "display_data"
    },
    {
     "data": {
      "application/vnd.plotly.v1+json": {
       "config": {
        "plotlyServerURL": "https://plot.ly"
       },
       "data": [
        {
         "hovertemplate": "Topic ID=%{x}<br>Number of Reviews=%{marker.color}<extra></extra>",
         "legendgroup": "",
         "marker": {
          "color": {
           "bdata": "7QGJAH8AdgBxAA==",
           "dtype": "i2"
          },
          "coloraxis": "coloraxis",
          "pattern": {
           "shape": ""
          }
         },
         "name": "",
         "orientation": "v",
         "showlegend": false,
         "textposition": "auto",
         "type": "bar",
         "x": {
          "bdata": "AAAAAAAAIEAAAAAAAAAAAAAAAAAAABRAAAAAAAAACEAAAAAAAADwPw==",
          "dtype": "f8"
         },
         "xaxis": "x",
         "y": {
          "bdata": "7QGJAH8AdgBxAA==",
          "dtype": "i2"
         },
         "yaxis": "y"
        }
       ],
       "layout": {
        "barmode": "relative",
        "coloraxis": {
         "colorbar": {
          "title": {
           "text": "Number of Reviews"
          }
         },
         "colorscale": [
          [
           0,
           "rgb(247,251,255)"
          ],
          [
           0.125,
           "rgb(222,235,247)"
          ],
          [
           0.25,
           "rgb(198,219,239)"
          ],
          [
           0.375,
           "rgb(158,202,225)"
          ],
          [
           0.5,
           "rgb(107,174,214)"
          ],
          [
           0.625,
           "rgb(66,146,198)"
          ],
          [
           0.75,
           "rgb(33,113,181)"
          ],
          [
           0.875,
           "rgb(8,81,156)"
          ],
          [
           1,
           "rgb(8,48,107)"
          ]
         ]
        },
        "legend": {
         "tracegroupgap": 0
        },
        "template": {
         "data": {
          "bar": [
           {
            "error_x": {
             "color": "#2a3f5f"
            },
            "error_y": {
             "color": "#2a3f5f"
            },
            "marker": {
             "line": {
              "color": "#E5ECF6",
              "width": 0.5
             },
             "pattern": {
              "fillmode": "overlay",
              "size": 10,
              "solidity": 0.2
             }
            },
            "type": "bar"
           }
          ],
          "barpolar": [
           {
            "marker": {
             "line": {
              "color": "#E5ECF6",
              "width": 0.5
             },
             "pattern": {
              "fillmode": "overlay",
              "size": 10,
              "solidity": 0.2
             }
            },
            "type": "barpolar"
           }
          ],
          "carpet": [
           {
            "aaxis": {
             "endlinecolor": "#2a3f5f",
             "gridcolor": "white",
             "linecolor": "white",
             "minorgridcolor": "white",
             "startlinecolor": "#2a3f5f"
            },
            "baxis": {
             "endlinecolor": "#2a3f5f",
             "gridcolor": "white",
             "linecolor": "white",
             "minorgridcolor": "white",
             "startlinecolor": "#2a3f5f"
            },
            "type": "carpet"
           }
          ],
          "choropleth": [
           {
            "colorbar": {
             "outlinewidth": 0,
             "ticks": ""
            },
            "type": "choropleth"
           }
          ],
          "contour": [
           {
            "colorbar": {
             "outlinewidth": 0,
             "ticks": ""
            },
            "colorscale": [
             [
              0,
              "#0d0887"
             ],
             [
              0.1111111111111111,
              "#46039f"
             ],
             [
              0.2222222222222222,
              "#7201a8"
             ],
             [
              0.3333333333333333,
              "#9c179e"
             ],
             [
              0.4444444444444444,
              "#bd3786"
             ],
             [
              0.5555555555555556,
              "#d8576b"
             ],
             [
              0.6666666666666666,
              "#ed7953"
             ],
             [
              0.7777777777777778,
              "#fb9f3a"
             ],
             [
              0.8888888888888888,
              "#fdca26"
             ],
             [
              1,
              "#f0f921"
             ]
            ],
            "type": "contour"
           }
          ],
          "contourcarpet": [
           {
            "colorbar": {
             "outlinewidth": 0,
             "ticks": ""
            },
            "type": "contourcarpet"
           }
          ],
          "heatmap": [
           {
            "colorbar": {
             "outlinewidth": 0,
             "ticks": ""
            },
            "colorscale": [
             [
              0,
              "#0d0887"
             ],
             [
              0.1111111111111111,
              "#46039f"
             ],
             [
              0.2222222222222222,
              "#7201a8"
             ],
             [
              0.3333333333333333,
              "#9c179e"
             ],
             [
              0.4444444444444444,
              "#bd3786"
             ],
             [
              0.5555555555555556,
              "#d8576b"
             ],
             [
              0.6666666666666666,
              "#ed7953"
             ],
             [
              0.7777777777777778,
              "#fb9f3a"
             ],
             [
              0.8888888888888888,
              "#fdca26"
             ],
             [
              1,
              "#f0f921"
             ]
            ],
            "type": "heatmap"
           }
          ],
          "histogram": [
           {
            "marker": {
             "pattern": {
              "fillmode": "overlay",
              "size": 10,
              "solidity": 0.2
             }
            },
            "type": "histogram"
           }
          ],
          "histogram2d": [
           {
            "colorbar": {
             "outlinewidth": 0,
             "ticks": ""
            },
            "colorscale": [
             [
              0,
              "#0d0887"
             ],
             [
              0.1111111111111111,
              "#46039f"
             ],
             [
              0.2222222222222222,
              "#7201a8"
             ],
             [
              0.3333333333333333,
              "#9c179e"
             ],
             [
              0.4444444444444444,
              "#bd3786"
             ],
             [
              0.5555555555555556,
              "#d8576b"
             ],
             [
              0.6666666666666666,
              "#ed7953"
             ],
             [
              0.7777777777777778,
              "#fb9f3a"
             ],
             [
              0.8888888888888888,
              "#fdca26"
             ],
             [
              1,
              "#f0f921"
             ]
            ],
            "type": "histogram2d"
           }
          ],
          "histogram2dcontour": [
           {
            "colorbar": {
             "outlinewidth": 0,
             "ticks": ""
            },
            "colorscale": [
             [
              0,
              "#0d0887"
             ],
             [
              0.1111111111111111,
              "#46039f"
             ],
             [
              0.2222222222222222,
              "#7201a8"
             ],
             [
              0.3333333333333333,
              "#9c179e"
             ],
             [
              0.4444444444444444,
              "#bd3786"
             ],
             [
              0.5555555555555556,
              "#d8576b"
             ],
             [
              0.6666666666666666,
              "#ed7953"
             ],
             [
              0.7777777777777778,
              "#fb9f3a"
             ],
             [
              0.8888888888888888,
              "#fdca26"
             ],
             [
              1,
              "#f0f921"
             ]
            ],
            "type": "histogram2dcontour"
           }
          ],
          "mesh3d": [
           {
            "colorbar": {
             "outlinewidth": 0,
             "ticks": ""
            },
            "type": "mesh3d"
           }
          ],
          "parcoords": [
           {
            "line": {
             "colorbar": {
              "outlinewidth": 0,
              "ticks": ""
             }
            },
            "type": "parcoords"
           }
          ],
          "pie": [
           {
            "automargin": true,
            "type": "pie"
           }
          ],
          "scatter": [
           {
            "fillpattern": {
             "fillmode": "overlay",
             "size": 10,
             "solidity": 0.2
            },
            "type": "scatter"
           }
          ],
          "scatter3d": [
           {
            "line": {
             "colorbar": {
              "outlinewidth": 0,
              "ticks": ""
             }
            },
            "marker": {
             "colorbar": {
              "outlinewidth": 0,
              "ticks": ""
             }
            },
            "type": "scatter3d"
           }
          ],
          "scattercarpet": [
           {
            "marker": {
             "colorbar": {
              "outlinewidth": 0,
              "ticks": ""
             }
            },
            "type": "scattercarpet"
           }
          ],
          "scattergeo": [
           {
            "marker": {
             "colorbar": {
              "outlinewidth": 0,
              "ticks": ""
             }
            },
            "type": "scattergeo"
           }
          ],
          "scattergl": [
           {
            "marker": {
             "colorbar": {
              "outlinewidth": 0,
              "ticks": ""
             }
            },
            "type": "scattergl"
           }
          ],
          "scattermap": [
           {
            "marker": {
             "colorbar": {
              "outlinewidth": 0,
              "ticks": ""
             }
            },
            "type": "scattermap"
           }
          ],
          "scattermapbox": [
           {
            "marker": {
             "colorbar": {
              "outlinewidth": 0,
              "ticks": ""
             }
            },
            "type": "scattermapbox"
           }
          ],
          "scatterpolar": [
           {
            "marker": {
             "colorbar": {
              "outlinewidth": 0,
              "ticks": ""
             }
            },
            "type": "scatterpolar"
           }
          ],
          "scatterpolargl": [
           {
            "marker": {
             "colorbar": {
              "outlinewidth": 0,
              "ticks": ""
             }
            },
            "type": "scatterpolargl"
           }
          ],
          "scatterternary": [
           {
            "marker": {
             "colorbar": {
              "outlinewidth": 0,
              "ticks": ""
             }
            },
            "type": "scatterternary"
           }
          ],
          "surface": [
           {
            "colorbar": {
             "outlinewidth": 0,
             "ticks": ""
            },
            "colorscale": [
             [
              0,
              "#0d0887"
             ],
             [
              0.1111111111111111,
              "#46039f"
             ],
             [
              0.2222222222222222,
              "#7201a8"
             ],
             [
              0.3333333333333333,
              "#9c179e"
             ],
             [
              0.4444444444444444,
              "#bd3786"
             ],
             [
              0.5555555555555556,
              "#d8576b"
             ],
             [
              0.6666666666666666,
              "#ed7953"
             ],
             [
              0.7777777777777778,
              "#fb9f3a"
             ],
             [
              0.8888888888888888,
              "#fdca26"
             ],
             [
              1,
              "#f0f921"
             ]
            ],
            "type": "surface"
           }
          ],
          "table": [
           {
            "cells": {
             "fill": {
              "color": "#EBF0F8"
             },
             "line": {
              "color": "white"
             }
            },
            "header": {
             "fill": {
              "color": "#C8D4E3"
             },
             "line": {
              "color": "white"
             }
            },
            "type": "table"
           }
          ]
         },
         "layout": {
          "annotationdefaults": {
           "arrowcolor": "#2a3f5f",
           "arrowhead": 0,
           "arrowwidth": 1
          },
          "autotypenumbers": "strict",
          "coloraxis": {
           "colorbar": {
            "outlinewidth": 0,
            "ticks": ""
           }
          },
          "colorscale": {
           "diverging": [
            [
             0,
             "#8e0152"
            ],
            [
             0.1,
             "#c51b7d"
            ],
            [
             0.2,
             "#de77ae"
            ],
            [
             0.3,
             "#f1b6da"
            ],
            [
             0.4,
             "#fde0ef"
            ],
            [
             0.5,
             "#f7f7f7"
            ],
            [
             0.6,
             "#e6f5d0"
            ],
            [
             0.7,
             "#b8e186"
            ],
            [
             0.8,
             "#7fbc41"
            ],
            [
             0.9,
             "#4d9221"
            ],
            [
             1,
             "#276419"
            ]
           ],
           "sequential": [
            [
             0,
             "#0d0887"
            ],
            [
             0.1111111111111111,
             "#46039f"
            ],
            [
             0.2222222222222222,
             "#7201a8"
            ],
            [
             0.3333333333333333,
             "#9c179e"
            ],
            [
             0.4444444444444444,
             "#bd3786"
            ],
            [
             0.5555555555555556,
             "#d8576b"
            ],
            [
             0.6666666666666666,
             "#ed7953"
            ],
            [
             0.7777777777777778,
             "#fb9f3a"
            ],
            [
             0.8888888888888888,
             "#fdca26"
            ],
            [
             1,
             "#f0f921"
            ]
           ],
           "sequentialminus": [
            [
             0,
             "#0d0887"
            ],
            [
             0.1111111111111111,
             "#46039f"
            ],
            [
             0.2222222222222222,
             "#7201a8"
            ],
            [
             0.3333333333333333,
             "#9c179e"
            ],
            [
             0.4444444444444444,
             "#bd3786"
            ],
            [
             0.5555555555555556,
             "#d8576b"
            ],
            [
             0.6666666666666666,
             "#ed7953"
            ],
            [
             0.7777777777777778,
             "#fb9f3a"
            ],
            [
             0.8888888888888888,
             "#fdca26"
            ],
            [
             1,
             "#f0f921"
            ]
           ]
          },
          "colorway": [
           "#636efa",
           "#EF553B",
           "#00cc96",
           "#ab63fa",
           "#FFA15A",
           "#19d3f3",
           "#FF6692",
           "#B6E880",
           "#FF97FF",
           "#FECB52"
          ],
          "font": {
           "color": "#2a3f5f"
          },
          "geo": {
           "bgcolor": "white",
           "lakecolor": "white",
           "landcolor": "#E5ECF6",
           "showlakes": true,
           "showland": true,
           "subunitcolor": "white"
          },
          "hoverlabel": {
           "align": "left"
          },
          "hovermode": "closest",
          "mapbox": {
           "style": "light"
          },
          "paper_bgcolor": "white",
          "plot_bgcolor": "#E5ECF6",
          "polar": {
           "angularaxis": {
            "gridcolor": "white",
            "linecolor": "white",
            "ticks": ""
           },
           "bgcolor": "#E5ECF6",
           "radialaxis": {
            "gridcolor": "white",
            "linecolor": "white",
            "ticks": ""
           }
          },
          "scene": {
           "xaxis": {
            "backgroundcolor": "#E5ECF6",
            "gridcolor": "white",
            "gridwidth": 2,
            "linecolor": "white",
            "showbackground": true,
            "ticks": "",
            "zerolinecolor": "white"
           },
           "yaxis": {
            "backgroundcolor": "#E5ECF6",
            "gridcolor": "white",
            "gridwidth": 2,
            "linecolor": "white",
            "showbackground": true,
            "ticks": "",
            "zerolinecolor": "white"
           },
           "zaxis": {
            "backgroundcolor": "#E5ECF6",
            "gridcolor": "white",
            "gridwidth": 2,
            "linecolor": "white",
            "showbackground": true,
            "ticks": "",
            "zerolinecolor": "white"
           }
          },
          "shapedefaults": {
           "line": {
            "color": "#2a3f5f"
           }
          },
          "ternary": {
           "aaxis": {
            "gridcolor": "white",
            "linecolor": "white",
            "ticks": ""
           },
           "baxis": {
            "gridcolor": "white",
            "linecolor": "white",
            "ticks": ""
           },
           "bgcolor": "#E5ECF6",
           "caxis": {
            "gridcolor": "white",
            "linecolor": "white",
            "ticks": ""
           }
          },
          "title": {
           "x": 0.05
          },
          "xaxis": {
           "automargin": true,
           "gridcolor": "white",
           "linecolor": "white",
           "ticks": "",
           "title": {
            "standoff": 15
           },
           "zerolinecolor": "white",
           "zerolinewidth": 2
          },
          "yaxis": {
           "automargin": true,
           "gridcolor": "white",
           "linecolor": "white",
           "ticks": "",
           "title": {
            "standoff": 15
           },
           "zerolinecolor": "white",
           "zerolinewidth": 2
          }
         }
        },
        "title": {
         "text": "Top Topics for Latest Versions (7+)"
        },
        "xaxis": {
         "anchor": "y",
         "domain": [
          0,
          1
         ],
         "title": {
          "text": "Topic ID"
         }
        },
        "yaxis": {
         "anchor": "x",
         "domain": [
          0,
          1
         ],
         "title": {
          "text": "Number of Reviews"
         }
        }
       }
      }
     },
     "metadata": {},
     "output_type": "display_data"
    }
   ],
   "source": [
    "# Analyze version-specific visualizations for a selected version range\n",
    "print(\"\\n=== Version-Specific Visualization ===\")\n",
    "print(\"Select a version range to visualize in detail:\")\n",
    "\n",
    "# Function to create version-specific analysis\n",
    "def visualize_version_range(df, title):\n",
    "    print(f\"\\nGenerating visualizations for: {title}\")\n",
    "    \n",
    "    # Skip if dataframe is empty\n",
    "    if len(df) == 0:\n",
    "        print(\"No data available for this version range.\")\n",
    "        return\n",
    "    \n",
    "    # Create sentiment breakdown visualization\n",
    "    import plotly.express as px\n",
    "    import plotly.graph_objects as go\n",
    "    from plotly.subplots import make_subplots\n",
    "    \n",
    "    # 1. Sentiment pie chart\n",
    "    if 'sentiment' in df.columns:\n",
    "        sentiment_counts = df['sentiment'].value_counts()\n",
    "        fig1 = px.pie(\n",
    "            values=sentiment_counts.values,\n",
    "            names=sentiment_counts.index,\n",
    "            title=f\"Sentiment Distribution for {title}\",\n",
    "            color=sentiment_counts.index,\n",
    "            color_discrete_map={'positive': 'green', 'neutral': 'blue', 'negative': 'red'},\n",
    "            hole=0.3\n",
    "        )\n",
    "        \n",
    "        # Add count annotation\n",
    "        fig1.add_annotation(\n",
    "            text=f\"Total: {len(df)} reviews\",\n",
    "            x=0.5, y=0.5,\n",
    "            showarrow=False\n",
    "        )\n",
    "        \n",
    "        fig1.show()\n",
    "    \n",
    "    # 2. Rating histogram\n",
    "    if 'rating' in df.columns:\n",
    "        fig2 = px.histogram(\n",
    "            df, \n",
    "            x=\"rating\", \n",
    "            color=\"rating\",\n",
    "            title=f\"Rating Distribution for {title}\",\n",
    "            labels={\"rating\": \"Rating\", \"count\": \"Number of Reviews\"},\n",
    "            category_orders={\"rating\": [1, 2, 3, 4, 5]},\n",
    "            color_discrete_sequence=px.colors.sequential.Viridis,\n",
    "            text_auto=True\n",
    "        )\n",
    "        \n",
    "        # Update layout\n",
    "        fig2.update_layout(\n",
    "            xaxis=dict(\n",
    "                tickmode='array',\n",
    "                tickvals=[1, 2, 3, 4, 5],\n",
    "                ticktext=['1 ★', '2 ★', '3 ★', '4 ★', '5 ★']\n",
    "            )\n",
    "        )\n",
    "        \n",
    "        fig2.show()\n",
    "    \n",
    "    # 3. Topic breakdown if available\n",
    "    if 'primary_topic' in df.columns:\n",
    "        topic_counts = df['primary_topic'].value_counts().head(5)\n",
    "        topic_df = pd.DataFrame({\n",
    "            'topic': topic_counts.index,\n",
    "            'count': topic_counts.values\n",
    "        })\n",
    "        \n",
    "        # Create a bar chart of top topics\n",
    "        fig3 = px.bar(\n",
    "            topic_df,\n",
    "            x='topic',\n",
    "            y='count',\n",
    "            title=f\"Top Topics for {title}\",\n",
    "            labels={'topic': 'Topic ID', 'count': 'Number of Reviews'},\n",
    "            color='count',\n",
    "            color_continuous_scale=px.colors.sequential.Blues\n",
    "        )\n",
    "        \n",
    "        fig3.show()\n",
    "    \n",
    "    # 4. Word cloud or top keywords if available\n",
    "    if \"keywords\" in analysis_results:\n",
    "        # Check if we can filter keywords by this subset\n",
    "        if len(df) > 100:  # Only if we have enough data\n",
    "            # Get the text from this subset\n",
    "            texts = df['text'].dropna().tolist()\n",
    "            \n",
    "            if texts:\n",
    "                try:\n",
    "                    from wordcloud import WordCloud\n",
    "                    import matplotlib.pyplot as plt\n",
    "                    \n",
    "                    # Combine all texts\n",
    "                    all_text = \" \".join(texts)\n",
    "                    \n",
    "                    # Generate word cloud\n",
    "                    wordcloud = WordCloud(\n",
    "                        width=800, height=400,\n",
    "                        background_color='white',\n",
    "                        max_words=100,\n",
    "                        contour_width=1\n",
    "                    ).generate(all_text)\n",
    "                    \n",
    "                    # Display word cloud\n",
    "                    plt.figure(figsize=(10, 6))\n",
    "                    plt.imshow(wordcloud, interpolation='bilinear')\n",
    "                    plt.axis('off')\n",
    "                    plt.title(f\"Word Cloud for {title}\")\n",
    "                    plt.tight_layout()\n",
    "                    plt.show()\n",
    "                except ImportError:\n",
    "                    print(\"WordCloud library not available. Skipping word cloud visualization.\")\n",
    "            else:\n",
    "                print(\"Insufficient text data for word cloud generation.\")\n",
    "    \n",
    "    return\n",
    "\n",
    "# Example: Visualize the current versions\n",
    "print(\"\\nVisualizing current versions (6.x)...\")\n",
    "visualize_version_range(current_versions_df, \"Current Versions (6.x)\")\n",
    "\n",
    "# Example: Visualize unknown versions to compare\n",
    "print(\"\\nVisualizing unknown versions for comparison...\")\n",
    "visualize_version_range(unknown_versions_df, \"Unknown Versions\")\n",
    "\n",
    "# Example: Visualize latest versions if available\n",
    "if len(latest_versions_df) > 10:  # Only if we have enough data\n",
    "    print(\"\\nVisualizing latest versions (7+)...\")\n",
    "    visualize_version_range(latest_versions_df, \"Latest Versions (7+)\")"
   ]
  },
  {
   "cell_type": "markdown",
   "metadata": {},
   "source": [
    "### Analyze sentiment by version"
   ]
  },
  {
   "cell_type": "code",
   "execution_count": 30,
   "metadata": {},
   "outputs": [
    {
     "name": "stdout",
     "output_type": "stream",
     "text": [
      "\n",
      "=== Sentiment Analysis by Version Range ===\n",
      "Analyzing sentiment for version range 6.0.0 to 8.0.0: 6004 reviews\n",
      "\n",
      "Sentiment distribution for this version range:\n",
      "sentiment\n",
      "positive    3160\n",
      "negative    2529\n",
      "neutral      315\n",
      "Name: count, dtype: int64\n",
      "\n",
      "Sentiment percentages:\n",
      "  positive: 52.6%\n",
      "  negative: 42.1%\n",
      "  neutral: 5.2%\n",
      "\n",
      "Average rating for this version range: 3.19/5.0\n",
      "\n",
      "Comparison with full dataset:\n",
      "  positive: 52.6% (0.4% higher than full dataset)\n",
      "  negative: 42.1% (0.2% lower than full dataset)\n",
      "  neutral: 5.2% (0.1% lower than full dataset)\n"
     ]
    },
    {
     "data": {
      "application/vnd.plotly.v1+json": {
       "config": {
        "plotlyServerURL": "https://plot.ly"
       },
       "data": [
        {
         "domain": {
          "x": [
           0,
           0.45
          ],
          "y": [
           0,
           1
          ]
         },
         "labels": [
          "positive",
          "negative",
          "neutral"
         ],
         "marker": {
          "colors": [
           "green",
           "red",
           "blue"
          ]
         },
         "name": "Version Range",
         "textinfo": "percent+label",
         "type": "pie",
         "values": [
          3160,
          2529,
          315
         ]
        },
        {
         "domain": {
          "x": [
           0.55,
           1
          ],
          "y": [
           0,
           1
          ]
         },
         "labels": [
          "positive",
          "negative",
          "neutral"
         ],
         "marker": {
          "colors": [
           "green",
           "red",
           "blue"
          ]
         },
         "name": "All Versions",
         "textinfo": "percent+label",
         "type": "pie",
         "values": [
          5224,
          4237,
          539
         ]
        }
       ],
       "layout": {
        "annotations": [
         {
          "font": {
           "size": 16
          },
          "showarrow": false,
          "text": "Versions 6.0.0 to 8.0.0",
          "x": 0.225,
          "xanchor": "center",
          "xref": "paper",
          "y": 1,
          "yanchor": "bottom",
          "yref": "paper"
         },
         {
          "font": {
           "size": 16
          },
          "showarrow": false,
          "text": "All Versions",
          "x": 0.775,
          "xanchor": "center",
          "xref": "paper",
          "y": 1,
          "yanchor": "bottom",
          "yref": "paper"
         }
        ],
        "height": 500,
        "template": {
         "data": {
          "bar": [
           {
            "error_x": {
             "color": "#2a3f5f"
            },
            "error_y": {
             "color": "#2a3f5f"
            },
            "marker": {
             "line": {
              "color": "#E5ECF6",
              "width": 0.5
             },
             "pattern": {
              "fillmode": "overlay",
              "size": 10,
              "solidity": 0.2
             }
            },
            "type": "bar"
           }
          ],
          "barpolar": [
           {
            "marker": {
             "line": {
              "color": "#E5ECF6",
              "width": 0.5
             },
             "pattern": {
              "fillmode": "overlay",
              "size": 10,
              "solidity": 0.2
             }
            },
            "type": "barpolar"
           }
          ],
          "carpet": [
           {
            "aaxis": {
             "endlinecolor": "#2a3f5f",
             "gridcolor": "white",
             "linecolor": "white",
             "minorgridcolor": "white",
             "startlinecolor": "#2a3f5f"
            },
            "baxis": {
             "endlinecolor": "#2a3f5f",
             "gridcolor": "white",
             "linecolor": "white",
             "minorgridcolor": "white",
             "startlinecolor": "#2a3f5f"
            },
            "type": "carpet"
           }
          ],
          "choropleth": [
           {
            "colorbar": {
             "outlinewidth": 0,
             "ticks": ""
            },
            "type": "choropleth"
           }
          ],
          "contour": [
           {
            "colorbar": {
             "outlinewidth": 0,
             "ticks": ""
            },
            "colorscale": [
             [
              0,
              "#0d0887"
             ],
             [
              0.1111111111111111,
              "#46039f"
             ],
             [
              0.2222222222222222,
              "#7201a8"
             ],
             [
              0.3333333333333333,
              "#9c179e"
             ],
             [
              0.4444444444444444,
              "#bd3786"
             ],
             [
              0.5555555555555556,
              "#d8576b"
             ],
             [
              0.6666666666666666,
              "#ed7953"
             ],
             [
              0.7777777777777778,
              "#fb9f3a"
             ],
             [
              0.8888888888888888,
              "#fdca26"
             ],
             [
              1,
              "#f0f921"
             ]
            ],
            "type": "contour"
           }
          ],
          "contourcarpet": [
           {
            "colorbar": {
             "outlinewidth": 0,
             "ticks": ""
            },
            "type": "contourcarpet"
           }
          ],
          "heatmap": [
           {
            "colorbar": {
             "outlinewidth": 0,
             "ticks": ""
            },
            "colorscale": [
             [
              0,
              "#0d0887"
             ],
             [
              0.1111111111111111,
              "#46039f"
             ],
             [
              0.2222222222222222,
              "#7201a8"
             ],
             [
              0.3333333333333333,
              "#9c179e"
             ],
             [
              0.4444444444444444,
              "#bd3786"
             ],
             [
              0.5555555555555556,
              "#d8576b"
             ],
             [
              0.6666666666666666,
              "#ed7953"
             ],
             [
              0.7777777777777778,
              "#fb9f3a"
             ],
             [
              0.8888888888888888,
              "#fdca26"
             ],
             [
              1,
              "#f0f921"
             ]
            ],
            "type": "heatmap"
           }
          ],
          "histogram": [
           {
            "marker": {
             "pattern": {
              "fillmode": "overlay",
              "size": 10,
              "solidity": 0.2
             }
            },
            "type": "histogram"
           }
          ],
          "histogram2d": [
           {
            "colorbar": {
             "outlinewidth": 0,
             "ticks": ""
            },
            "colorscale": [
             [
              0,
              "#0d0887"
             ],
             [
              0.1111111111111111,
              "#46039f"
             ],
             [
              0.2222222222222222,
              "#7201a8"
             ],
             [
              0.3333333333333333,
              "#9c179e"
             ],
             [
              0.4444444444444444,
              "#bd3786"
             ],
             [
              0.5555555555555556,
              "#d8576b"
             ],
             [
              0.6666666666666666,
              "#ed7953"
             ],
             [
              0.7777777777777778,
              "#fb9f3a"
             ],
             [
              0.8888888888888888,
              "#fdca26"
             ],
             [
              1,
              "#f0f921"
             ]
            ],
            "type": "histogram2d"
           }
          ],
          "histogram2dcontour": [
           {
            "colorbar": {
             "outlinewidth": 0,
             "ticks": ""
            },
            "colorscale": [
             [
              0,
              "#0d0887"
             ],
             [
              0.1111111111111111,
              "#46039f"
             ],
             [
              0.2222222222222222,
              "#7201a8"
             ],
             [
              0.3333333333333333,
              "#9c179e"
             ],
             [
              0.4444444444444444,
              "#bd3786"
             ],
             [
              0.5555555555555556,
              "#d8576b"
             ],
             [
              0.6666666666666666,
              "#ed7953"
             ],
             [
              0.7777777777777778,
              "#fb9f3a"
             ],
             [
              0.8888888888888888,
              "#fdca26"
             ],
             [
              1,
              "#f0f921"
             ]
            ],
            "type": "histogram2dcontour"
           }
          ],
          "mesh3d": [
           {
            "colorbar": {
             "outlinewidth": 0,
             "ticks": ""
            },
            "type": "mesh3d"
           }
          ],
          "parcoords": [
           {
            "line": {
             "colorbar": {
              "outlinewidth": 0,
              "ticks": ""
             }
            },
            "type": "parcoords"
           }
          ],
          "pie": [
           {
            "automargin": true,
            "type": "pie"
           }
          ],
          "scatter": [
           {
            "fillpattern": {
             "fillmode": "overlay",
             "size": 10,
             "solidity": 0.2
            },
            "type": "scatter"
           }
          ],
          "scatter3d": [
           {
            "line": {
             "colorbar": {
              "outlinewidth": 0,
              "ticks": ""
             }
            },
            "marker": {
             "colorbar": {
              "outlinewidth": 0,
              "ticks": ""
             }
            },
            "type": "scatter3d"
           }
          ],
          "scattercarpet": [
           {
            "marker": {
             "colorbar": {
              "outlinewidth": 0,
              "ticks": ""
             }
            },
            "type": "scattercarpet"
           }
          ],
          "scattergeo": [
           {
            "marker": {
             "colorbar": {
              "outlinewidth": 0,
              "ticks": ""
             }
            },
            "type": "scattergeo"
           }
          ],
          "scattergl": [
           {
            "marker": {
             "colorbar": {
              "outlinewidth": 0,
              "ticks": ""
             }
            },
            "type": "scattergl"
           }
          ],
          "scattermap": [
           {
            "marker": {
             "colorbar": {
              "outlinewidth": 0,
              "ticks": ""
             }
            },
            "type": "scattermap"
           }
          ],
          "scattermapbox": [
           {
            "marker": {
             "colorbar": {
              "outlinewidth": 0,
              "ticks": ""
             }
            },
            "type": "scattermapbox"
           }
          ],
          "scatterpolar": [
           {
            "marker": {
             "colorbar": {
              "outlinewidth": 0,
              "ticks": ""
             }
            },
            "type": "scatterpolar"
           }
          ],
          "scatterpolargl": [
           {
            "marker": {
             "colorbar": {
              "outlinewidth": 0,
              "ticks": ""
             }
            },
            "type": "scatterpolargl"
           }
          ],
          "scatterternary": [
           {
            "marker": {
             "colorbar": {
              "outlinewidth": 0,
              "ticks": ""
             }
            },
            "type": "scatterternary"
           }
          ],
          "surface": [
           {
            "colorbar": {
             "outlinewidth": 0,
             "ticks": ""
            },
            "colorscale": [
             [
              0,
              "#0d0887"
             ],
             [
              0.1111111111111111,
              "#46039f"
             ],
             [
              0.2222222222222222,
              "#7201a8"
             ],
             [
              0.3333333333333333,
              "#9c179e"
             ],
             [
              0.4444444444444444,
              "#bd3786"
             ],
             [
              0.5555555555555556,
              "#d8576b"
             ],
             [
              0.6666666666666666,
              "#ed7953"
             ],
             [
              0.7777777777777778,
              "#fb9f3a"
             ],
             [
              0.8888888888888888,
              "#fdca26"
             ],
             [
              1,
              "#f0f921"
             ]
            ],
            "type": "surface"
           }
          ],
          "table": [
           {
            "cells": {
             "fill": {
              "color": "#EBF0F8"
             },
             "line": {
              "color": "white"
             }
            },
            "header": {
             "fill": {
              "color": "#C8D4E3"
             },
             "line": {
              "color": "white"
             }
            },
            "type": "table"
           }
          ]
         },
         "layout": {
          "annotationdefaults": {
           "arrowcolor": "#2a3f5f",
           "arrowhead": 0,
           "arrowwidth": 1
          },
          "autotypenumbers": "strict",
          "coloraxis": {
           "colorbar": {
            "outlinewidth": 0,
            "ticks": ""
           }
          },
          "colorscale": {
           "diverging": [
            [
             0,
             "#8e0152"
            ],
            [
             0.1,
             "#c51b7d"
            ],
            [
             0.2,
             "#de77ae"
            ],
            [
             0.3,
             "#f1b6da"
            ],
            [
             0.4,
             "#fde0ef"
            ],
            [
             0.5,
             "#f7f7f7"
            ],
            [
             0.6,
             "#e6f5d0"
            ],
            [
             0.7,
             "#b8e186"
            ],
            [
             0.8,
             "#7fbc41"
            ],
            [
             0.9,
             "#4d9221"
            ],
            [
             1,
             "#276419"
            ]
           ],
           "sequential": [
            [
             0,
             "#0d0887"
            ],
            [
             0.1111111111111111,
             "#46039f"
            ],
            [
             0.2222222222222222,
             "#7201a8"
            ],
            [
             0.3333333333333333,
             "#9c179e"
            ],
            [
             0.4444444444444444,
             "#bd3786"
            ],
            [
             0.5555555555555556,
             "#d8576b"
            ],
            [
             0.6666666666666666,
             "#ed7953"
            ],
            [
             0.7777777777777778,
             "#fb9f3a"
            ],
            [
             0.8888888888888888,
             "#fdca26"
            ],
            [
             1,
             "#f0f921"
            ]
           ],
           "sequentialminus": [
            [
             0,
             "#0d0887"
            ],
            [
             0.1111111111111111,
             "#46039f"
            ],
            [
             0.2222222222222222,
             "#7201a8"
            ],
            [
             0.3333333333333333,
             "#9c179e"
            ],
            [
             0.4444444444444444,
             "#bd3786"
            ],
            [
             0.5555555555555556,
             "#d8576b"
            ],
            [
             0.6666666666666666,
             "#ed7953"
            ],
            [
             0.7777777777777778,
             "#fb9f3a"
            ],
            [
             0.8888888888888888,
             "#fdca26"
            ],
            [
             1,
             "#f0f921"
            ]
           ]
          },
          "colorway": [
           "#636efa",
           "#EF553B",
           "#00cc96",
           "#ab63fa",
           "#FFA15A",
           "#19d3f3",
           "#FF6692",
           "#B6E880",
           "#FF97FF",
           "#FECB52"
          ],
          "font": {
           "color": "#2a3f5f"
          },
          "geo": {
           "bgcolor": "white",
           "lakecolor": "white",
           "landcolor": "#E5ECF6",
           "showlakes": true,
           "showland": true,
           "subunitcolor": "white"
          },
          "hoverlabel": {
           "align": "left"
          },
          "hovermode": "closest",
          "mapbox": {
           "style": "light"
          },
          "paper_bgcolor": "white",
          "plot_bgcolor": "#E5ECF6",
          "polar": {
           "angularaxis": {
            "gridcolor": "white",
            "linecolor": "white",
            "ticks": ""
           },
           "bgcolor": "#E5ECF6",
           "radialaxis": {
            "gridcolor": "white",
            "linecolor": "white",
            "ticks": ""
           }
          },
          "scene": {
           "xaxis": {
            "backgroundcolor": "#E5ECF6",
            "gridcolor": "white",
            "gridwidth": 2,
            "linecolor": "white",
            "showbackground": true,
            "ticks": "",
            "zerolinecolor": "white"
           },
           "yaxis": {
            "backgroundcolor": "#E5ECF6",
            "gridcolor": "white",
            "gridwidth": 2,
            "linecolor": "white",
            "showbackground": true,
            "ticks": "",
            "zerolinecolor": "white"
           },
           "zaxis": {
            "backgroundcolor": "#E5ECF6",
            "gridcolor": "white",
            "gridwidth": 2,
            "linecolor": "white",
            "showbackground": true,
            "ticks": "",
            "zerolinecolor": "white"
           }
          },
          "shapedefaults": {
           "line": {
            "color": "#2a3f5f"
           }
          },
          "ternary": {
           "aaxis": {
            "gridcolor": "white",
            "linecolor": "white",
            "ticks": ""
           },
           "baxis": {
            "gridcolor": "white",
            "linecolor": "white",
            "ticks": ""
           },
           "bgcolor": "#E5ECF6",
           "caxis": {
            "gridcolor": "white",
            "linecolor": "white",
            "ticks": ""
           }
          },
          "title": {
           "x": 0.05
          },
          "xaxis": {
           "automargin": true,
           "gridcolor": "white",
           "linecolor": "white",
           "ticks": "",
           "title": {
            "standoff": 15
           },
           "zerolinecolor": "white",
           "zerolinewidth": 2
          },
          "yaxis": {
           "automargin": true,
           "gridcolor": "white",
           "linecolor": "white",
           "ticks": "",
           "title": {
            "standoff": 15
           },
           "zerolinecolor": "white",
           "zerolinewidth": 2
          }
         }
        },
        "title": {
         "text": "Sentiment Comparison: Versions 6.0.0 to 8.0.0 vs All Reviews"
        }
       }
      }
     },
     "metadata": {},
     "output_type": "display_data"
    },
    {
     "data": {
      "application/vnd.plotly.v1+json": {
       "config": {
        "plotlyServerURL": "https://plot.ly"
       },
       "data": [
        {
         "hovertemplate": "Sentiment=%{x}<br>Count=%{y}<br>text=%{text}<extra></extra>",
         "legendgroup": "positive",
         "marker": {
          "color": "green",
          "pattern": {
           "shape": ""
          }
         },
         "name": "positive",
         "orientation": "v",
         "showlegend": true,
         "text": [
          "52.6%"
         ],
         "textposition": "auto",
         "type": "bar",
         "x": [
          "positive"
         ],
         "xaxis": "x",
         "y": {
          "bdata": "WAw=",
          "dtype": "i2"
         },
         "yaxis": "y"
        },
        {
         "hovertemplate": "Sentiment=%{x}<br>Count=%{y}<br>text=%{text}<extra></extra>",
         "legendgroup": "negative",
         "marker": {
          "color": "red",
          "pattern": {
           "shape": ""
          }
         },
         "name": "negative",
         "orientation": "v",
         "showlegend": true,
         "text": [
          "42.1%"
         ],
         "textposition": "auto",
         "type": "bar",
         "x": [
          "negative"
         ],
         "xaxis": "x",
         "y": {
          "bdata": "4Qk=",
          "dtype": "i2"
         },
         "yaxis": "y"
        },
        {
         "hovertemplate": "Sentiment=%{x}<br>Count=%{y}<br>text=%{text}<extra></extra>",
         "legendgroup": "neutral",
         "marker": {
          "color": "blue",
          "pattern": {
           "shape": ""
          }
         },
         "name": "neutral",
         "orientation": "v",
         "showlegend": true,
         "text": [
          "5.2%"
         ],
         "textposition": "auto",
         "type": "bar",
         "x": [
          "neutral"
         ],
         "xaxis": "x",
         "y": {
          "bdata": "OwE=",
          "dtype": "i2"
         },
         "yaxis": "y"
        }
       ],
       "layout": {
        "barmode": "relative",
        "legend": {
         "title": {
          "text": "Sentiment"
         },
         "tracegroupgap": 0
        },
        "template": {
         "data": {
          "bar": [
           {
            "error_x": {
             "color": "#2a3f5f"
            },
            "error_y": {
             "color": "#2a3f5f"
            },
            "marker": {
             "line": {
              "color": "#E5ECF6",
              "width": 0.5
             },
             "pattern": {
              "fillmode": "overlay",
              "size": 10,
              "solidity": 0.2
             }
            },
            "type": "bar"
           }
          ],
          "barpolar": [
           {
            "marker": {
             "line": {
              "color": "#E5ECF6",
              "width": 0.5
             },
             "pattern": {
              "fillmode": "overlay",
              "size": 10,
              "solidity": 0.2
             }
            },
            "type": "barpolar"
           }
          ],
          "carpet": [
           {
            "aaxis": {
             "endlinecolor": "#2a3f5f",
             "gridcolor": "white",
             "linecolor": "white",
             "minorgridcolor": "white",
             "startlinecolor": "#2a3f5f"
            },
            "baxis": {
             "endlinecolor": "#2a3f5f",
             "gridcolor": "white",
             "linecolor": "white",
             "minorgridcolor": "white",
             "startlinecolor": "#2a3f5f"
            },
            "type": "carpet"
           }
          ],
          "choropleth": [
           {
            "colorbar": {
             "outlinewidth": 0,
             "ticks": ""
            },
            "type": "choropleth"
           }
          ],
          "contour": [
           {
            "colorbar": {
             "outlinewidth": 0,
             "ticks": ""
            },
            "colorscale": [
             [
              0,
              "#0d0887"
             ],
             [
              0.1111111111111111,
              "#46039f"
             ],
             [
              0.2222222222222222,
              "#7201a8"
             ],
             [
              0.3333333333333333,
              "#9c179e"
             ],
             [
              0.4444444444444444,
              "#bd3786"
             ],
             [
              0.5555555555555556,
              "#d8576b"
             ],
             [
              0.6666666666666666,
              "#ed7953"
             ],
             [
              0.7777777777777778,
              "#fb9f3a"
             ],
             [
              0.8888888888888888,
              "#fdca26"
             ],
             [
              1,
              "#f0f921"
             ]
            ],
            "type": "contour"
           }
          ],
          "contourcarpet": [
           {
            "colorbar": {
             "outlinewidth": 0,
             "ticks": ""
            },
            "type": "contourcarpet"
           }
          ],
          "heatmap": [
           {
            "colorbar": {
             "outlinewidth": 0,
             "ticks": ""
            },
            "colorscale": [
             [
              0,
              "#0d0887"
             ],
             [
              0.1111111111111111,
              "#46039f"
             ],
             [
              0.2222222222222222,
              "#7201a8"
             ],
             [
              0.3333333333333333,
              "#9c179e"
             ],
             [
              0.4444444444444444,
              "#bd3786"
             ],
             [
              0.5555555555555556,
              "#d8576b"
             ],
             [
              0.6666666666666666,
              "#ed7953"
             ],
             [
              0.7777777777777778,
              "#fb9f3a"
             ],
             [
              0.8888888888888888,
              "#fdca26"
             ],
             [
              1,
              "#f0f921"
             ]
            ],
            "type": "heatmap"
           }
          ],
          "histogram": [
           {
            "marker": {
             "pattern": {
              "fillmode": "overlay",
              "size": 10,
              "solidity": 0.2
             }
            },
            "type": "histogram"
           }
          ],
          "histogram2d": [
           {
            "colorbar": {
             "outlinewidth": 0,
             "ticks": ""
            },
            "colorscale": [
             [
              0,
              "#0d0887"
             ],
             [
              0.1111111111111111,
              "#46039f"
             ],
             [
              0.2222222222222222,
              "#7201a8"
             ],
             [
              0.3333333333333333,
              "#9c179e"
             ],
             [
              0.4444444444444444,
              "#bd3786"
             ],
             [
              0.5555555555555556,
              "#d8576b"
             ],
             [
              0.6666666666666666,
              "#ed7953"
             ],
             [
              0.7777777777777778,
              "#fb9f3a"
             ],
             [
              0.8888888888888888,
              "#fdca26"
             ],
             [
              1,
              "#f0f921"
             ]
            ],
            "type": "histogram2d"
           }
          ],
          "histogram2dcontour": [
           {
            "colorbar": {
             "outlinewidth": 0,
             "ticks": ""
            },
            "colorscale": [
             [
              0,
              "#0d0887"
             ],
             [
              0.1111111111111111,
              "#46039f"
             ],
             [
              0.2222222222222222,
              "#7201a8"
             ],
             [
              0.3333333333333333,
              "#9c179e"
             ],
             [
              0.4444444444444444,
              "#bd3786"
             ],
             [
              0.5555555555555556,
              "#d8576b"
             ],
             [
              0.6666666666666666,
              "#ed7953"
             ],
             [
              0.7777777777777778,
              "#fb9f3a"
             ],
             [
              0.8888888888888888,
              "#fdca26"
             ],
             [
              1,
              "#f0f921"
             ]
            ],
            "type": "histogram2dcontour"
           }
          ],
          "mesh3d": [
           {
            "colorbar": {
             "outlinewidth": 0,
             "ticks": ""
            },
            "type": "mesh3d"
           }
          ],
          "parcoords": [
           {
            "line": {
             "colorbar": {
              "outlinewidth": 0,
              "ticks": ""
             }
            },
            "type": "parcoords"
           }
          ],
          "pie": [
           {
            "automargin": true,
            "type": "pie"
           }
          ],
          "scatter": [
           {
            "fillpattern": {
             "fillmode": "overlay",
             "size": 10,
             "solidity": 0.2
            },
            "type": "scatter"
           }
          ],
          "scatter3d": [
           {
            "line": {
             "colorbar": {
              "outlinewidth": 0,
              "ticks": ""
             }
            },
            "marker": {
             "colorbar": {
              "outlinewidth": 0,
              "ticks": ""
             }
            },
            "type": "scatter3d"
           }
          ],
          "scattercarpet": [
           {
            "marker": {
             "colorbar": {
              "outlinewidth": 0,
              "ticks": ""
             }
            },
            "type": "scattercarpet"
           }
          ],
          "scattergeo": [
           {
            "marker": {
             "colorbar": {
              "outlinewidth": 0,
              "ticks": ""
             }
            },
            "type": "scattergeo"
           }
          ],
          "scattergl": [
           {
            "marker": {
             "colorbar": {
              "outlinewidth": 0,
              "ticks": ""
             }
            },
            "type": "scattergl"
           }
          ],
          "scattermap": [
           {
            "marker": {
             "colorbar": {
              "outlinewidth": 0,
              "ticks": ""
             }
            },
            "type": "scattermap"
           }
          ],
          "scattermapbox": [
           {
            "marker": {
             "colorbar": {
              "outlinewidth": 0,
              "ticks": ""
             }
            },
            "type": "scattermapbox"
           }
          ],
          "scatterpolar": [
           {
            "marker": {
             "colorbar": {
              "outlinewidth": 0,
              "ticks": ""
             }
            },
            "type": "scatterpolar"
           }
          ],
          "scatterpolargl": [
           {
            "marker": {
             "colorbar": {
              "outlinewidth": 0,
              "ticks": ""
             }
            },
            "type": "scatterpolargl"
           }
          ],
          "scatterternary": [
           {
            "marker": {
             "colorbar": {
              "outlinewidth": 0,
              "ticks": ""
             }
            },
            "type": "scatterternary"
           }
          ],
          "surface": [
           {
            "colorbar": {
             "outlinewidth": 0,
             "ticks": ""
            },
            "colorscale": [
             [
              0,
              "#0d0887"
             ],
             [
              0.1111111111111111,
              "#46039f"
             ],
             [
              0.2222222222222222,
              "#7201a8"
             ],
             [
              0.3333333333333333,
              "#9c179e"
             ],
             [
              0.4444444444444444,
              "#bd3786"
             ],
             [
              0.5555555555555556,
              "#d8576b"
             ],
             [
              0.6666666666666666,
              "#ed7953"
             ],
             [
              0.7777777777777778,
              "#fb9f3a"
             ],
             [
              0.8888888888888888,
              "#fdca26"
             ],
             [
              1,
              "#f0f921"
             ]
            ],
            "type": "surface"
           }
          ],
          "table": [
           {
            "cells": {
             "fill": {
              "color": "#EBF0F8"
             },
             "line": {
              "color": "white"
             }
            },
            "header": {
             "fill": {
              "color": "#C8D4E3"
             },
             "line": {
              "color": "white"
             }
            },
            "type": "table"
           }
          ]
         },
         "layout": {
          "annotationdefaults": {
           "arrowcolor": "#2a3f5f",
           "arrowhead": 0,
           "arrowwidth": 1
          },
          "autotypenumbers": "strict",
          "coloraxis": {
           "colorbar": {
            "outlinewidth": 0,
            "ticks": ""
           }
          },
          "colorscale": {
           "diverging": [
            [
             0,
             "#8e0152"
            ],
            [
             0.1,
             "#c51b7d"
            ],
            [
             0.2,
             "#de77ae"
            ],
            [
             0.3,
             "#f1b6da"
            ],
            [
             0.4,
             "#fde0ef"
            ],
            [
             0.5,
             "#f7f7f7"
            ],
            [
             0.6,
             "#e6f5d0"
            ],
            [
             0.7,
             "#b8e186"
            ],
            [
             0.8,
             "#7fbc41"
            ],
            [
             0.9,
             "#4d9221"
            ],
            [
             1,
             "#276419"
            ]
           ],
           "sequential": [
            [
             0,
             "#0d0887"
            ],
            [
             0.1111111111111111,
             "#46039f"
            ],
            [
             0.2222222222222222,
             "#7201a8"
            ],
            [
             0.3333333333333333,
             "#9c179e"
            ],
            [
             0.4444444444444444,
             "#bd3786"
            ],
            [
             0.5555555555555556,
             "#d8576b"
            ],
            [
             0.6666666666666666,
             "#ed7953"
            ],
            [
             0.7777777777777778,
             "#fb9f3a"
            ],
            [
             0.8888888888888888,
             "#fdca26"
            ],
            [
             1,
             "#f0f921"
            ]
           ],
           "sequentialminus": [
            [
             0,
             "#0d0887"
            ],
            [
             0.1111111111111111,
             "#46039f"
            ],
            [
             0.2222222222222222,
             "#7201a8"
            ],
            [
             0.3333333333333333,
             "#9c179e"
            ],
            [
             0.4444444444444444,
             "#bd3786"
            ],
            [
             0.5555555555555556,
             "#d8576b"
            ],
            [
             0.6666666666666666,
             "#ed7953"
            ],
            [
             0.7777777777777778,
             "#fb9f3a"
            ],
            [
             0.8888888888888888,
             "#fdca26"
            ],
            [
             1,
             "#f0f921"
            ]
           ]
          },
          "colorway": [
           "#636efa",
           "#EF553B",
           "#00cc96",
           "#ab63fa",
           "#FFA15A",
           "#19d3f3",
           "#FF6692",
           "#B6E880",
           "#FF97FF",
           "#FECB52"
          ],
          "font": {
           "color": "#2a3f5f"
          },
          "geo": {
           "bgcolor": "white",
           "lakecolor": "white",
           "landcolor": "#E5ECF6",
           "showlakes": true,
           "showland": true,
           "subunitcolor": "white"
          },
          "hoverlabel": {
           "align": "left"
          },
          "hovermode": "closest",
          "mapbox": {
           "style": "light"
          },
          "paper_bgcolor": "white",
          "plot_bgcolor": "#E5ECF6",
          "polar": {
           "angularaxis": {
            "gridcolor": "white",
            "linecolor": "white",
            "ticks": ""
           },
           "bgcolor": "#E5ECF6",
           "radialaxis": {
            "gridcolor": "white",
            "linecolor": "white",
            "ticks": ""
           }
          },
          "scene": {
           "xaxis": {
            "backgroundcolor": "#E5ECF6",
            "gridcolor": "white",
            "gridwidth": 2,
            "linecolor": "white",
            "showbackground": true,
            "ticks": "",
            "zerolinecolor": "white"
           },
           "yaxis": {
            "backgroundcolor": "#E5ECF6",
            "gridcolor": "white",
            "gridwidth": 2,
            "linecolor": "white",
            "showbackground": true,
            "ticks": "",
            "zerolinecolor": "white"
           },
           "zaxis": {
            "backgroundcolor": "#E5ECF6",
            "gridcolor": "white",
            "gridwidth": 2,
            "linecolor": "white",
            "showbackground": true,
            "ticks": "",
            "zerolinecolor": "white"
           }
          },
          "shapedefaults": {
           "line": {
            "color": "#2a3f5f"
           }
          },
          "ternary": {
           "aaxis": {
            "gridcolor": "white",
            "linecolor": "white",
            "ticks": ""
           },
           "baxis": {
            "gridcolor": "white",
            "linecolor": "white",
            "ticks": ""
           },
           "bgcolor": "#E5ECF6",
           "caxis": {
            "gridcolor": "white",
            "linecolor": "white",
            "ticks": ""
           }
          },
          "title": {
           "x": 0.05
          },
          "xaxis": {
           "automargin": true,
           "gridcolor": "white",
           "linecolor": "white",
           "ticks": "",
           "title": {
            "standoff": 15
           },
           "zerolinecolor": "white",
           "zerolinewidth": 2
          },
          "yaxis": {
           "automargin": true,
           "gridcolor": "white",
           "linecolor": "white",
           "ticks": "",
           "title": {
            "standoff": 15
           },
           "zerolinecolor": "white",
           "zerolinewidth": 2
          }
         }
        },
        "title": {
         "text": "Sentiment Distribution for Versions 6.0.0 to 8.0.0"
        },
        "xaxis": {
         "anchor": "y",
         "domain": [
          0,
          1
         ],
         "title": {
          "text": "Sentiment"
         }
        },
        "yaxis": {
         "anchor": "x",
         "domain": [
          0,
          1
         ],
         "title": {
          "text": "Number of Reviews"
         }
        }
       }
      }
     },
     "metadata": {},
     "output_type": "display_data"
    },
    {
     "name": "stdout",
     "output_type": "stream",
     "text": [
      "\n",
      "Sentiment breakdown for top 5 versions within 6.0.0 to 8.0.0:\n",
      "\n",
      "Version 6.0.6 (1161 reviews):\n",
      "  Average rating: 3.56\n",
      "  positive: 62.5%\n",
      "  negative: 32.0%\n",
      "  neutral: 5.5%\n",
      "\n",
      "Version 6.0.3 (946 reviews):\n",
      "  Average rating: 3.80\n",
      "  positive: 69.3%\n",
      "  negative: 25.8%\n",
      "  neutral: 4.9%\n",
      "\n",
      "Version 6.0.4 (832 reviews):\n",
      "  Average rating: 3.78\n",
      "  positive: 67.9%\n",
      "  negative: 26.4%\n",
      "  neutral: 5.6%\n",
      "\n",
      "Version 6.0.2 (513 reviews):\n",
      "  Average rating: 3.36\n",
      "  positive: 56.3%\n",
      "  negative: 36.1%\n",
      "  neutral: 7.6%\n",
      "\n",
      "Version 6.0.1 (437 reviews):\n",
      "  Average rating: 3.41\n",
      "  positive: 58.4%\n",
      "  negative: 35.9%\n",
      "  neutral: 5.7%\n"
     ]
    },
    {
     "data": {
      "application/vnd.plotly.v1+json": {
       "config": {
        "plotlyServerURL": "https://plot.ly"
       },
       "data": [
        {
         "marker": {
          "color": "green"
         },
         "name": "Positive",
         "text": [
          "62.5%",
          "69.3%",
          "67.9%",
          "56.3%",
          "58.4%"
         ],
         "textposition": "auto",
         "type": "bar",
         "x": [
          "6.0.6",
          "6.0.3",
          "6.0.4",
          "6.0.2",
          "6.0.1"
         ],
         "y": {
          "bdata": "0uzeZSJET0A+1WYSDlZRQGIndmIn+lBAr6K6iuoqTEAViX6IGy1NQA==",
          "dtype": "f8"
         }
        },
        {
         "marker": {
          "color": "blue"
         },
         "name": "Neutral",
         "text": [
          "5.5%",
          "4.9%",
          "5.6%",
          "7.6%",
          "5.7%"
         ],
         "textposition": "auto",
         "type": "bar",
         "x": [
          "6.0.6",
          "6.0.3",
          "6.0.4",
          "6.0.2",
          "6.0.1"
         ],
         "y": {
          "bdata": "2VpE+skMFkCXkav7R3MTQIqd2ImdmBZAjOYymstoHkA5IEWiH+IWQA==",
          "dtype": "f8"
         }
        },
        {
         "marker": {
          "color": "red"
         },
         "name": "Negative",
         "text": [
          "32.0%",
          "25.8%",
          "26.4%",
          "36.1%",
          "35.9%"
         ],
         "textposition": "auto",
         "type": "bar",
         "x": [
          "6.0.6",
          "6.0.3",
          "6.0.4",
          "6.0.2",
          "6.0.1"
         ],
         "y": {
          "bdata": "qA+xtYj0P0Chxnm39co5QBQ7sRM7cTpAfwD/AfwHQkDl0jiDoPZBQA==",
          "dtype": "f8"
         }
        },
        {
         "mode": "text",
         "showlegend": false,
         "text": [
          "n=1161",
          "n=946",
          "n=832",
          "n=513",
          "n=437"
         ],
         "type": "scatter",
         "x": [
          "6.0.6",
          "6.0.3",
          "6.0.4",
          "6.0.2",
          "6.0.1"
         ],
         "y": [
          100,
          100,
          100,
          100,
          100
         ]
        }
       ],
       "layout": {
        "barmode": "stack",
        "height": 500,
        "template": {
         "data": {
          "bar": [
           {
            "error_x": {
             "color": "#2a3f5f"
            },
            "error_y": {
             "color": "#2a3f5f"
            },
            "marker": {
             "line": {
              "color": "#E5ECF6",
              "width": 0.5
             },
             "pattern": {
              "fillmode": "overlay",
              "size": 10,
              "solidity": 0.2
             }
            },
            "type": "bar"
           }
          ],
          "barpolar": [
           {
            "marker": {
             "line": {
              "color": "#E5ECF6",
              "width": 0.5
             },
             "pattern": {
              "fillmode": "overlay",
              "size": 10,
              "solidity": 0.2
             }
            },
            "type": "barpolar"
           }
          ],
          "carpet": [
           {
            "aaxis": {
             "endlinecolor": "#2a3f5f",
             "gridcolor": "white",
             "linecolor": "white",
             "minorgridcolor": "white",
             "startlinecolor": "#2a3f5f"
            },
            "baxis": {
             "endlinecolor": "#2a3f5f",
             "gridcolor": "white",
             "linecolor": "white",
             "minorgridcolor": "white",
             "startlinecolor": "#2a3f5f"
            },
            "type": "carpet"
           }
          ],
          "choropleth": [
           {
            "colorbar": {
             "outlinewidth": 0,
             "ticks": ""
            },
            "type": "choropleth"
           }
          ],
          "contour": [
           {
            "colorbar": {
             "outlinewidth": 0,
             "ticks": ""
            },
            "colorscale": [
             [
              0,
              "#0d0887"
             ],
             [
              0.1111111111111111,
              "#46039f"
             ],
             [
              0.2222222222222222,
              "#7201a8"
             ],
             [
              0.3333333333333333,
              "#9c179e"
             ],
             [
              0.4444444444444444,
              "#bd3786"
             ],
             [
              0.5555555555555556,
              "#d8576b"
             ],
             [
              0.6666666666666666,
              "#ed7953"
             ],
             [
              0.7777777777777778,
              "#fb9f3a"
             ],
             [
              0.8888888888888888,
              "#fdca26"
             ],
             [
              1,
              "#f0f921"
             ]
            ],
            "type": "contour"
           }
          ],
          "contourcarpet": [
           {
            "colorbar": {
             "outlinewidth": 0,
             "ticks": ""
            },
            "type": "contourcarpet"
           }
          ],
          "heatmap": [
           {
            "colorbar": {
             "outlinewidth": 0,
             "ticks": ""
            },
            "colorscale": [
             [
              0,
              "#0d0887"
             ],
             [
              0.1111111111111111,
              "#46039f"
             ],
             [
              0.2222222222222222,
              "#7201a8"
             ],
             [
              0.3333333333333333,
              "#9c179e"
             ],
             [
              0.4444444444444444,
              "#bd3786"
             ],
             [
              0.5555555555555556,
              "#d8576b"
             ],
             [
              0.6666666666666666,
              "#ed7953"
             ],
             [
              0.7777777777777778,
              "#fb9f3a"
             ],
             [
              0.8888888888888888,
              "#fdca26"
             ],
             [
              1,
              "#f0f921"
             ]
            ],
            "type": "heatmap"
           }
          ],
          "histogram": [
           {
            "marker": {
             "pattern": {
              "fillmode": "overlay",
              "size": 10,
              "solidity": 0.2
             }
            },
            "type": "histogram"
           }
          ],
          "histogram2d": [
           {
            "colorbar": {
             "outlinewidth": 0,
             "ticks": ""
            },
            "colorscale": [
             [
              0,
              "#0d0887"
             ],
             [
              0.1111111111111111,
              "#46039f"
             ],
             [
              0.2222222222222222,
              "#7201a8"
             ],
             [
              0.3333333333333333,
              "#9c179e"
             ],
             [
              0.4444444444444444,
              "#bd3786"
             ],
             [
              0.5555555555555556,
              "#d8576b"
             ],
             [
              0.6666666666666666,
              "#ed7953"
             ],
             [
              0.7777777777777778,
              "#fb9f3a"
             ],
             [
              0.8888888888888888,
              "#fdca26"
             ],
             [
              1,
              "#f0f921"
             ]
            ],
            "type": "histogram2d"
           }
          ],
          "histogram2dcontour": [
           {
            "colorbar": {
             "outlinewidth": 0,
             "ticks": ""
            },
            "colorscale": [
             [
              0,
              "#0d0887"
             ],
             [
              0.1111111111111111,
              "#46039f"
             ],
             [
              0.2222222222222222,
              "#7201a8"
             ],
             [
              0.3333333333333333,
              "#9c179e"
             ],
             [
              0.4444444444444444,
              "#bd3786"
             ],
             [
              0.5555555555555556,
              "#d8576b"
             ],
             [
              0.6666666666666666,
              "#ed7953"
             ],
             [
              0.7777777777777778,
              "#fb9f3a"
             ],
             [
              0.8888888888888888,
              "#fdca26"
             ],
             [
              1,
              "#f0f921"
             ]
            ],
            "type": "histogram2dcontour"
           }
          ],
          "mesh3d": [
           {
            "colorbar": {
             "outlinewidth": 0,
             "ticks": ""
            },
            "type": "mesh3d"
           }
          ],
          "parcoords": [
           {
            "line": {
             "colorbar": {
              "outlinewidth": 0,
              "ticks": ""
             }
            },
            "type": "parcoords"
           }
          ],
          "pie": [
           {
            "automargin": true,
            "type": "pie"
           }
          ],
          "scatter": [
           {
            "fillpattern": {
             "fillmode": "overlay",
             "size": 10,
             "solidity": 0.2
            },
            "type": "scatter"
           }
          ],
          "scatter3d": [
           {
            "line": {
             "colorbar": {
              "outlinewidth": 0,
              "ticks": ""
             }
            },
            "marker": {
             "colorbar": {
              "outlinewidth": 0,
              "ticks": ""
             }
            },
            "type": "scatter3d"
           }
          ],
          "scattercarpet": [
           {
            "marker": {
             "colorbar": {
              "outlinewidth": 0,
              "ticks": ""
             }
            },
            "type": "scattercarpet"
           }
          ],
          "scattergeo": [
           {
            "marker": {
             "colorbar": {
              "outlinewidth": 0,
              "ticks": ""
             }
            },
            "type": "scattergeo"
           }
          ],
          "scattergl": [
           {
            "marker": {
             "colorbar": {
              "outlinewidth": 0,
              "ticks": ""
             }
            },
            "type": "scattergl"
           }
          ],
          "scattermap": [
           {
            "marker": {
             "colorbar": {
              "outlinewidth": 0,
              "ticks": ""
             }
            },
            "type": "scattermap"
           }
          ],
          "scattermapbox": [
           {
            "marker": {
             "colorbar": {
              "outlinewidth": 0,
              "ticks": ""
             }
            },
            "type": "scattermapbox"
           }
          ],
          "scatterpolar": [
           {
            "marker": {
             "colorbar": {
              "outlinewidth": 0,
              "ticks": ""
             }
            },
            "type": "scatterpolar"
           }
          ],
          "scatterpolargl": [
           {
            "marker": {
             "colorbar": {
              "outlinewidth": 0,
              "ticks": ""
             }
            },
            "type": "scatterpolargl"
           }
          ],
          "scatterternary": [
           {
            "marker": {
             "colorbar": {
              "outlinewidth": 0,
              "ticks": ""
             }
            },
            "type": "scatterternary"
           }
          ],
          "surface": [
           {
            "colorbar": {
             "outlinewidth": 0,
             "ticks": ""
            },
            "colorscale": [
             [
              0,
              "#0d0887"
             ],
             [
              0.1111111111111111,
              "#46039f"
             ],
             [
              0.2222222222222222,
              "#7201a8"
             ],
             [
              0.3333333333333333,
              "#9c179e"
             ],
             [
              0.4444444444444444,
              "#bd3786"
             ],
             [
              0.5555555555555556,
              "#d8576b"
             ],
             [
              0.6666666666666666,
              "#ed7953"
             ],
             [
              0.7777777777777778,
              "#fb9f3a"
             ],
             [
              0.8888888888888888,
              "#fdca26"
             ],
             [
              1,
              "#f0f921"
             ]
            ],
            "type": "surface"
           }
          ],
          "table": [
           {
            "cells": {
             "fill": {
              "color": "#EBF0F8"
             },
             "line": {
              "color": "white"
             }
            },
            "header": {
             "fill": {
              "color": "#C8D4E3"
             },
             "line": {
              "color": "white"
             }
            },
            "type": "table"
           }
          ]
         },
         "layout": {
          "annotationdefaults": {
           "arrowcolor": "#2a3f5f",
           "arrowhead": 0,
           "arrowwidth": 1
          },
          "autotypenumbers": "strict",
          "coloraxis": {
           "colorbar": {
            "outlinewidth": 0,
            "ticks": ""
           }
          },
          "colorscale": {
           "diverging": [
            [
             0,
             "#8e0152"
            ],
            [
             0.1,
             "#c51b7d"
            ],
            [
             0.2,
             "#de77ae"
            ],
            [
             0.3,
             "#f1b6da"
            ],
            [
             0.4,
             "#fde0ef"
            ],
            [
             0.5,
             "#f7f7f7"
            ],
            [
             0.6,
             "#e6f5d0"
            ],
            [
             0.7,
             "#b8e186"
            ],
            [
             0.8,
             "#7fbc41"
            ],
            [
             0.9,
             "#4d9221"
            ],
            [
             1,
             "#276419"
            ]
           ],
           "sequential": [
            [
             0,
             "#0d0887"
            ],
            [
             0.1111111111111111,
             "#46039f"
            ],
            [
             0.2222222222222222,
             "#7201a8"
            ],
            [
             0.3333333333333333,
             "#9c179e"
            ],
            [
             0.4444444444444444,
             "#bd3786"
            ],
            [
             0.5555555555555556,
             "#d8576b"
            ],
            [
             0.6666666666666666,
             "#ed7953"
            ],
            [
             0.7777777777777778,
             "#fb9f3a"
            ],
            [
             0.8888888888888888,
             "#fdca26"
            ],
            [
             1,
             "#f0f921"
            ]
           ],
           "sequentialminus": [
            [
             0,
             "#0d0887"
            ],
            [
             0.1111111111111111,
             "#46039f"
            ],
            [
             0.2222222222222222,
             "#7201a8"
            ],
            [
             0.3333333333333333,
             "#9c179e"
            ],
            [
             0.4444444444444444,
             "#bd3786"
            ],
            [
             0.5555555555555556,
             "#d8576b"
            ],
            [
             0.6666666666666666,
             "#ed7953"
            ],
            [
             0.7777777777777778,
             "#fb9f3a"
            ],
            [
             0.8888888888888888,
             "#fdca26"
            ],
            [
             1,
             "#f0f921"
            ]
           ]
          },
          "colorway": [
           "#636efa",
           "#EF553B",
           "#00cc96",
           "#ab63fa",
           "#FFA15A",
           "#19d3f3",
           "#FF6692",
           "#B6E880",
           "#FF97FF",
           "#FECB52"
          ],
          "font": {
           "color": "#2a3f5f"
          },
          "geo": {
           "bgcolor": "white",
           "lakecolor": "white",
           "landcolor": "#E5ECF6",
           "showlakes": true,
           "showland": true,
           "subunitcolor": "white"
          },
          "hoverlabel": {
           "align": "left"
          },
          "hovermode": "closest",
          "mapbox": {
           "style": "light"
          },
          "paper_bgcolor": "white",
          "plot_bgcolor": "#E5ECF6",
          "polar": {
           "angularaxis": {
            "gridcolor": "white",
            "linecolor": "white",
            "ticks": ""
           },
           "bgcolor": "#E5ECF6",
           "radialaxis": {
            "gridcolor": "white",
            "linecolor": "white",
            "ticks": ""
           }
          },
          "scene": {
           "xaxis": {
            "backgroundcolor": "#E5ECF6",
            "gridcolor": "white",
            "gridwidth": 2,
            "linecolor": "white",
            "showbackground": true,
            "ticks": "",
            "zerolinecolor": "white"
           },
           "yaxis": {
            "backgroundcolor": "#E5ECF6",
            "gridcolor": "white",
            "gridwidth": 2,
            "linecolor": "white",
            "showbackground": true,
            "ticks": "",
            "zerolinecolor": "white"
           },
           "zaxis": {
            "backgroundcolor": "#E5ECF6",
            "gridcolor": "white",
            "gridwidth": 2,
            "linecolor": "white",
            "showbackground": true,
            "ticks": "",
            "zerolinecolor": "white"
           }
          },
          "shapedefaults": {
           "line": {
            "color": "#2a3f5f"
           }
          },
          "ternary": {
           "aaxis": {
            "gridcolor": "white",
            "linecolor": "white",
            "ticks": ""
           },
           "baxis": {
            "gridcolor": "white",
            "linecolor": "white",
            "ticks": ""
           },
           "bgcolor": "#E5ECF6",
           "caxis": {
            "gridcolor": "white",
            "linecolor": "white",
            "ticks": ""
           }
          },
          "title": {
           "x": 0.05
          },
          "xaxis": {
           "automargin": true,
           "gridcolor": "white",
           "linecolor": "white",
           "ticks": "",
           "title": {
            "standoff": 15
           },
           "zerolinecolor": "white",
           "zerolinewidth": 2
          },
          "yaxis": {
           "automargin": true,
           "gridcolor": "white",
           "linecolor": "white",
           "ticks": "",
           "title": {
            "standoff": 15
           },
           "zerolinecolor": "white",
           "zerolinewidth": 2
          }
         }
        },
        "title": {
         "text": "Sentiment Distribution by Version (6.0.0 to 8.0.0)"
        },
        "xaxis": {
         "title": {
          "text": "Version"
         }
        },
        "yaxis": {
         "title": {
          "text": "Percentage"
         }
        }
       }
      }
     },
     "metadata": {},
     "output_type": "display_data"
    }
   ],
   "source": [
    "# Analyze sentiment by version using our new filtered datasets\n",
    "print(\"\\n=== Sentiment Analysis by Version Range ===\")\n",
    "\n",
    "# Set your preferred version range\n",
    "min_version = \"6.0.0\"  # Min version to include\n",
    "max_version = \"8.0.0\"  # Max version to exclude\n",
    "\n",
    "# Create a filtered dataset for this specific range\n",
    "custom_version_range_df = analyzed_df[analyzed_df['version'].apply(lambda v: version_in_range(v, min_version, max_version))].copy()\n",
    "print(f\"Analyzing sentiment for version range {min_version} to {max_version}: {len(custom_version_range_df)} reviews\")\n",
    "\n",
    "# Check if we have data to analyze\n",
    "if len(custom_version_range_df) > 0:\n",
    "    # Get sentiment breakdown\n",
    "    if 'sentiment' in custom_version_range_df.columns:\n",
    "        sentiment_counts = custom_version_range_df['sentiment'].value_counts()\n",
    "        print(\"\\nSentiment distribution for this version range:\")\n",
    "        print(sentiment_counts)\n",
    "        \n",
    "        # Calculate percentages\n",
    "        sentiment_pct = sentiment_counts / len(custom_version_range_df) * 100\n",
    "        print(\"\\nSentiment percentages:\")\n",
    "        for sentiment, pct in sentiment_pct.items():\n",
    "            print(f\"  {sentiment}: {pct:.1f}%\")\n",
    "        \n",
    "        # Average rating for this version range\n",
    "        if 'rating' in custom_version_range_df.columns:\n",
    "            avg_rating = custom_version_range_df['rating'].mean()\n",
    "            print(f\"\\nAverage rating for this version range: {avg_rating:.2f}/5.0\")\n",
    "            \n",
    "        # Compare with the full dataset\n",
    "        full_sentiment_pct = analyzed_df['sentiment'].value_counts() / len(analyzed_df) * 100\n",
    "        \n",
    "        print(\"\\nComparison with full dataset:\")\n",
    "        for sentiment in sentiment_counts.index:\n",
    "            version_pct = sentiment_pct.get(sentiment, 0)\n",
    "            full_pct = full_sentiment_pct.get(sentiment, 0)\n",
    "            diff = version_pct - full_pct\n",
    "            direction = \"higher\" if diff > 0 else \"lower\"\n",
    "            print(f\"  {sentiment}: {version_pct:.1f}% ({abs(diff):.1f}% {direction} than full dataset)\")\n",
    "        \n",
    "        # Create a visualization of the sentiment comparison\n",
    "        import plotly.express as px\n",
    "        import plotly.graph_objects as go\n",
    "        from plotly.subplots import make_subplots\n",
    "        \n",
    "        # Prepare data for pie charts\n",
    "        version_sentiments = sentiment_counts.index.tolist()\n",
    "        version_counts = sentiment_counts.values.tolist()\n",
    "        \n",
    "        full_sentiment_counts = analyzed_df['sentiment'].value_counts()\n",
    "        full_sentiments = full_sentiment_counts.index.tolist()\n",
    "        full_counts = full_sentiment_counts.values.tolist()\n",
    "\n",
    "        # Create a color mapping for consistent colors\n",
    "        colors = {'positive': 'green', 'neutral': 'blue', 'negative': 'red'}\n",
    "        version_colors = [colors.get(s, 'gray') for s in version_sentiments]\n",
    "        full_colors = [colors.get(s, 'gray') for s in full_sentiments]\n",
    "        \n",
    "        # Create figure with subplots\n",
    "        fig = make_subplots(\n",
    "            rows=1, cols=2, \n",
    "            subplot_titles=[f\"Versions {min_version} to {max_version}\", \"All Versions\"],\n",
    "            specs=[[{'type': 'pie'}, {'type': 'pie'}]]\n",
    "        )\n",
    "        \n",
    "        # Add version range pie chart\n",
    "        fig.add_trace(\n",
    "            go.Pie(\n",
    "                labels=version_sentiments, \n",
    "                values=version_counts,\n",
    "                name=\"Version Range\",\n",
    "                marker=dict(colors=version_colors),\n",
    "                textinfo='percent+label'\n",
    "            ),\n",
    "            row=1, col=1\n",
    "        )\n",
    "        \n",
    "        # Add full dataset pie chart\n",
    "        fig.add_trace(\n",
    "            go.Pie(\n",
    "                labels=full_sentiments, \n",
    "                values=full_counts,\n",
    "                name=\"All Versions\",\n",
    "                marker=dict(colors=full_colors),\n",
    "                textinfo='percent+label'\n",
    "            ),\n",
    "            row=1, col=2\n",
    "        )\n",
    "        \n",
    "        # Update layout\n",
    "        fig.update_layout(\n",
    "            title_text=f\"Sentiment Comparison: Versions {min_version} to {max_version} vs All Reviews\",\n",
    "            height=500\n",
    "        )\n",
    "        \n",
    "        # Show the figure\n",
    "        fig.show()\n",
    "        \n",
    "        # Create a version-specific sentiment bar chart\n",
    "        fig_bar = px.bar(\n",
    "            x=sentiment_counts.index,\n",
    "            y=sentiment_counts.values,\n",
    "            color=sentiment_counts.index,\n",
    "            title=f\"Sentiment Distribution for Versions {min_version} to {max_version}\",\n",
    "            labels={\"x\": \"Sentiment\", \"y\": \"Count\", \"color\": \"Sentiment\"},\n",
    "            color_discrete_map=colors,\n",
    "            text=sentiment_pct.apply(lambda x: f\"{x:.1f}%\")\n",
    "        )\n",
    "        \n",
    "        fig_bar.update_layout(\n",
    "            xaxis_title=\"Sentiment\",\n",
    "            yaxis_title=\"Number of Reviews\"\n",
    "        )\n",
    "        \n",
    "        fig_bar.show()\n",
    "        \n",
    "        # Analyze sentiment by specific versions within this range\n",
    "        # Get the top 5 versions by review count in this range\n",
    "        top_versions = custom_version_range_df['version'].value_counts().head(5)\n",
    "        \n",
    "        print(f\"\\nSentiment breakdown for top 5 versions within {min_version} to {max_version}:\")\n",
    "        for version, count in top_versions.items():\n",
    "            version_df = custom_version_range_df[custom_version_range_df['version'] == version]\n",
    "            version_sentiment = version_df['sentiment'].value_counts(normalize=True) * 100\n",
    "            version_rating = version_df['rating'].mean()\n",
    "            \n",
    "            print(f\"\\nVersion {version} ({count} reviews):\")\n",
    "            print(f\"  Average rating: {version_rating:.2f}\")\n",
    "            for sentiment, pct in version_sentiment.items():\n",
    "                print(f\"  {sentiment}: {pct:.1f}%\")\n",
    "        \n",
    "        # Create a stacked bar chart for these top versions\n",
    "        sentiment_by_version = pd.crosstab(\n",
    "            custom_version_range_df['version'], \n",
    "            custom_version_range_df['sentiment'],\n",
    "            normalize='index'\n",
    "        ) * 100\n",
    "        \n",
    "        # Add count column\n",
    "        version_counts = custom_version_range_df['version'].value_counts()\n",
    "        sentiment_by_version['review_count'] = version_counts\n",
    "        \n",
    "        # Filter to top versions\n",
    "        top_sentiment_data = sentiment_by_version.loc[top_versions.index].reset_index()\n",
    "        \n",
    "        # Create figure\n",
    "        fig2 = go.Figure()\n",
    "        \n",
    "        # Add bars for each sentiment type\n",
    "        sentiments = ['positive', 'neutral', 'negative']\n",
    "        \n",
    "        for sentiment in sentiments:\n",
    "            if sentiment in top_sentiment_data.columns:\n",
    "                fig2.add_trace(go.Bar(\n",
    "                    x=top_sentiment_data['version'],\n",
    "                    y=top_sentiment_data[sentiment],\n",
    "                    name=sentiment.capitalize(),\n",
    "                    marker_color=colors.get(sentiment, 'gray'),\n",
    "                    text=top_sentiment_data[sentiment].apply(lambda x: f\"{x:.1f}%\"),\n",
    "                    textposition='auto'\n",
    "                ))\n",
    "        \n",
    "        # Add review counts above the bars\n",
    "        fig2.add_trace(go.Scatter(\n",
    "            x=top_sentiment_data['version'],\n",
    "            y=[100] * len(top_sentiment_data),  # Position at the top\n",
    "            text=top_sentiment_data['review_count'].apply(lambda x: f\"n={int(x)}\"),\n",
    "            mode=\"text\",\n",
    "            showlegend=False\n",
    "        ))\n",
    "        \n",
    "        # Update layout\n",
    "        fig2.update_layout(\n",
    "            title=f\"Sentiment Distribution by Version ({min_version} to {max_version})\",\n",
    "            xaxis_title=\"Version\",\n",
    "            yaxis_title=\"Percentage\",\n",
    "            barmode='stack',\n",
    "            height=500\n",
    "        )\n",
    "        \n",
    "        # Show the figure\n",
    "        fig2.show()\n",
    "        \n",
    "    else:\n",
    "        print(\"No sentiment data available for analysis.\")\n",
    "else:\n",
    "    print(f\"No reviews found in the version range {min_version} to {max_version}.\")"
   ]
  },
  {
   "cell_type": "markdown",
   "metadata": {},
   "source": [
    "### Analyze Topic Distribution by Version"
   ]
  },
  {
   "cell_type": "code",
   "execution_count": 31,
   "metadata": {},
   "outputs": [
    {
     "name": "stdout",
     "output_type": "stream",
     "text": [
      "Found 9738 reviews with both version and topic data\n",
      "\n",
      "Topic distribution by version (percentage):\n"
     ]
    },
    {
     "data": {
      "text/html": [
       "<div>\n",
       "<style scoped>\n",
       "    .dataframe tbody tr th:only-of-type {\n",
       "        vertical-align: middle;\n",
       "    }\n",
       "\n",
       "    .dataframe tbody tr th {\n",
       "        vertical-align: top;\n",
       "    }\n",
       "\n",
       "    .dataframe thead th {\n",
       "        text-align: right;\n",
       "    }\n",
       "</style>\n",
       "<table border=\"1\" class=\"dataframe\">\n",
       "  <thead>\n",
       "    <tr style=\"text-align: right;\">\n",
       "      <th>primary_topic</th>\n",
       "      <th>version</th>\n",
       "      <th>Topic 0: app, web, seat</th>\n",
       "      <th>Topic 1: indigo, application, like</th>\n",
       "      <th>Topic 2: nice, app, issue</th>\n",
       "      <th>Topic 3: customer, error, number</th>\n",
       "      <th>Topic 4: payment, booking, ticket</th>\n",
       "      <th>Topic 5: flight, indigo, bad</th>\n",
       "      <th>Topic 6: good, experience, version</th>\n",
       "      <th>Topic 7: service, easy, best</th>\n",
       "      <th>Topic 8: app, booking, update</th>\n",
       "      <th>Topic 9: excellent, app, useless</th>\n",
       "      <th>review_count</th>\n",
       "    </tr>\n",
       "  </thead>\n",
       "  <tbody>\n",
       "    <tr>\n",
       "      <th>37</th>\n",
       "      <td>5.2.3</td>\n",
       "      <td>9.0</td>\n",
       "      <td>4.5</td>\n",
       "      <td>10.5</td>\n",
       "      <td>5.1</td>\n",
       "      <td>6.6</td>\n",
       "      <td>13.5</td>\n",
       "      <td>24.0</td>\n",
       "      <td>7.1</td>\n",
       "      <td>9.2</td>\n",
       "      <td>10.4</td>\n",
       "      <td>1225</td>\n",
       "    </tr>\n",
       "    <tr>\n",
       "      <th>46</th>\n",
       "      <td>6.0.6</td>\n",
       "      <td>5.8</td>\n",
       "      <td>3.6</td>\n",
       "      <td>9.3</td>\n",
       "      <td>2.5</td>\n",
       "      <td>5.1</td>\n",
       "      <td>9.0</td>\n",
       "      <td>28.5</td>\n",
       "      <td>7.5</td>\n",
       "      <td>17.1</td>\n",
       "      <td>11.5</td>\n",
       "      <td>1118</td>\n",
       "    </tr>\n",
       "    <tr>\n",
       "      <th>59</th>\n",
       "      <td>Unknown</td>\n",
       "      <td>9.2</td>\n",
       "      <td>4.8</td>\n",
       "      <td>7.2</td>\n",
       "      <td>8.2</td>\n",
       "      <td>5.1</td>\n",
       "      <td>17.7</td>\n",
       "      <td>16.5</td>\n",
       "      <td>4.8</td>\n",
       "      <td>18.5</td>\n",
       "      <td>7.8</td>\n",
       "      <td>971</td>\n",
       "    </tr>\n",
       "    <tr>\n",
       "      <th>43</th>\n",
       "      <td>6.0.3</td>\n",
       "      <td>6.0</td>\n",
       "      <td>4.7</td>\n",
       "      <td>10.9</td>\n",
       "      <td>4.2</td>\n",
       "      <td>7.1</td>\n",
       "      <td>10.3</td>\n",
       "      <td>29.8</td>\n",
       "      <td>8.4</td>\n",
       "      <td>8.1</td>\n",
       "      <td>10.5</td>\n",
       "      <td>915</td>\n",
       "    </tr>\n",
       "    <tr>\n",
       "      <th>44</th>\n",
       "      <td>6.0.4</td>\n",
       "      <td>7.5</td>\n",
       "      <td>4.0</td>\n",
       "      <td>12.4</td>\n",
       "      <td>3.8</td>\n",
       "      <td>4.6</td>\n",
       "      <td>11.1</td>\n",
       "      <td>29.5</td>\n",
       "      <td>7.1</td>\n",
       "      <td>11.0</td>\n",
       "      <td>9.0</td>\n",
       "      <td>800</td>\n",
       "    </tr>\n",
       "    <tr>\n",
       "      <th>42</th>\n",
       "      <td>6.0.2</td>\n",
       "      <td>8.6</td>\n",
       "      <td>6.2</td>\n",
       "      <td>10.0</td>\n",
       "      <td>4.6</td>\n",
       "      <td>7.0</td>\n",
       "      <td>11.4</td>\n",
       "      <td>23.8</td>\n",
       "      <td>7.2</td>\n",
       "      <td>11.8</td>\n",
       "      <td>9.2</td>\n",
       "      <td>499</td>\n",
       "    </tr>\n",
       "    <tr>\n",
       "      <th>41</th>\n",
       "      <td>6.0.1</td>\n",
       "      <td>9.6</td>\n",
       "      <td>4.4</td>\n",
       "      <td>10.5</td>\n",
       "      <td>5.8</td>\n",
       "      <td>5.1</td>\n",
       "      <td>12.4</td>\n",
       "      <td>24.7</td>\n",
       "      <td>8.4</td>\n",
       "      <td>11.9</td>\n",
       "      <td>7.2</td>\n",
       "      <td>429</td>\n",
       "    </tr>\n",
       "    <tr>\n",
       "      <th>39</th>\n",
       "      <td>5.2.5</td>\n",
       "      <td>12.0</td>\n",
       "      <td>3.5</td>\n",
       "      <td>7.5</td>\n",
       "      <td>3.8</td>\n",
       "      <td>6.8</td>\n",
       "      <td>16.2</td>\n",
       "      <td>28.0</td>\n",
       "      <td>7.0</td>\n",
       "      <td>7.5</td>\n",
       "      <td>7.8</td>\n",
       "      <td>400</td>\n",
       "    </tr>\n",
       "    <tr>\n",
       "      <th>29</th>\n",
       "      <td>5.1.10</td>\n",
       "      <td>10.6</td>\n",
       "      <td>3.7</td>\n",
       "      <td>8.0</td>\n",
       "      <td>7.7</td>\n",
       "      <td>5.8</td>\n",
       "      <td>10.9</td>\n",
       "      <td>22.5</td>\n",
       "      <td>8.0</td>\n",
       "      <td>14.6</td>\n",
       "      <td>8.2</td>\n",
       "      <td>377</td>\n",
       "    </tr>\n",
       "    <tr>\n",
       "      <th>35</th>\n",
       "      <td>5.2.0</td>\n",
       "      <td>11.3</td>\n",
       "      <td>4.6</td>\n",
       "      <td>9.2</td>\n",
       "      <td>7.8</td>\n",
       "      <td>7.5</td>\n",
       "      <td>8.6</td>\n",
       "      <td>24.0</td>\n",
       "      <td>5.7</td>\n",
       "      <td>14.0</td>\n",
       "      <td>7.3</td>\n",
       "      <td>371</td>\n",
       "    </tr>\n",
       "  </tbody>\n",
       "</table>\n",
       "</div>"
      ],
      "text/plain": [
       "primary_topic  version  Topic 0: app, web, seat  \\\n",
       "37               5.2.3                      9.0   \n",
       "46               6.0.6                      5.8   \n",
       "59             Unknown                      9.2   \n",
       "43               6.0.3                      6.0   \n",
       "44               6.0.4                      7.5   \n",
       "42               6.0.2                      8.6   \n",
       "41               6.0.1                      9.6   \n",
       "39               5.2.5                     12.0   \n",
       "29              5.1.10                     10.6   \n",
       "35               5.2.0                     11.3   \n",
       "\n",
       "primary_topic  Topic 1: indigo, application, like  Topic 2: nice, app, issue  \\\n",
       "37                                            4.5                       10.5   \n",
       "46                                            3.6                        9.3   \n",
       "59                                            4.8                        7.2   \n",
       "43                                            4.7                       10.9   \n",
       "44                                            4.0                       12.4   \n",
       "42                                            6.2                       10.0   \n",
       "41                                            4.4                       10.5   \n",
       "39                                            3.5                        7.5   \n",
       "29                                            3.7                        8.0   \n",
       "35                                            4.6                        9.2   \n",
       "\n",
       "primary_topic  Topic 3: customer, error, number  \\\n",
       "37                                          5.1   \n",
       "46                                          2.5   \n",
       "59                                          8.2   \n",
       "43                                          4.2   \n",
       "44                                          3.8   \n",
       "42                                          4.6   \n",
       "41                                          5.8   \n",
       "39                                          3.8   \n",
       "29                                          7.7   \n",
       "35                                          7.8   \n",
       "\n",
       "primary_topic  Topic 4: payment, booking, ticket  \\\n",
       "37                                           6.6   \n",
       "46                                           5.1   \n",
       "59                                           5.1   \n",
       "43                                           7.1   \n",
       "44                                           4.6   \n",
       "42                                           7.0   \n",
       "41                                           5.1   \n",
       "39                                           6.8   \n",
       "29                                           5.8   \n",
       "35                                           7.5   \n",
       "\n",
       "primary_topic  Topic 5: flight, indigo, bad  \\\n",
       "37                                     13.5   \n",
       "46                                      9.0   \n",
       "59                                     17.7   \n",
       "43                                     10.3   \n",
       "44                                     11.1   \n",
       "42                                     11.4   \n",
       "41                                     12.4   \n",
       "39                                     16.2   \n",
       "29                                     10.9   \n",
       "35                                      8.6   \n",
       "\n",
       "primary_topic  Topic 6: good, experience, version  \\\n",
       "37                                           24.0   \n",
       "46                                           28.5   \n",
       "59                                           16.5   \n",
       "43                                           29.8   \n",
       "44                                           29.5   \n",
       "42                                           23.8   \n",
       "41                                           24.7   \n",
       "39                                           28.0   \n",
       "29                                           22.5   \n",
       "35                                           24.0   \n",
       "\n",
       "primary_topic  Topic 7: service, easy, best  Topic 8: app, booking, update  \\\n",
       "37                                      7.1                            9.2   \n",
       "46                                      7.5                           17.1   \n",
       "59                                      4.8                           18.5   \n",
       "43                                      8.4                            8.1   \n",
       "44                                      7.1                           11.0   \n",
       "42                                      7.2                           11.8   \n",
       "41                                      8.4                           11.9   \n",
       "39                                      7.0                            7.5   \n",
       "29                                      8.0                           14.6   \n",
       "35                                      5.7                           14.0   \n",
       "\n",
       "primary_topic  Topic 9: excellent, app, useless  review_count  \n",
       "37                                         10.4          1225  \n",
       "46                                         11.5          1118  \n",
       "59                                          7.8           971  \n",
       "43                                         10.5           915  \n",
       "44                                          9.0           800  \n",
       "42                                          9.2           499  \n",
       "41                                          7.2           429  \n",
       "39                                          7.8           400  \n",
       "29                                          8.2           377  \n",
       "35                                          7.3           371  "
      ]
     },
     "metadata": {},
     "output_type": "display_data"
    },
    {
     "name": "stdout",
     "output_type": "stream",
     "text": [
      "\n",
      "Most distinctive topics by version:\n",
      "\n",
      "Version 5.2.3 (reviews: 1225):\n",
      "  Topic 6: good, experience, version: 24.0% (keywords: good, experience, version, discount, getting)\n",
      "  Topic 5: flight, indigo, bad: 13.5% (keywords: flight, indigo, bad, airline, great)\n",
      "  Topic 2: nice, app, issue: 10.5% (keywords: nice, app, issue, worst, booking)\n",
      "\n",
      "Version 6.0.6 (reviews: 1118):\n",
      "  Topic 6: good, experience, version: 28.5% (keywords: good, experience, version, discount, getting)\n",
      "  Topic 8: app, booking, update: 17.1% (keywords: app, booking, update, use, able)\n",
      "  Topic 9: excellent, app, useless: 11.5% (keywords: excellent, app, useless, super, available)\n",
      "\n",
      "Version Unknown (reviews: 971):\n",
      "  Topic 8: app, booking, update: 18.5% (keywords: app, booking, update, use, able)\n",
      "  Topic 5: flight, indigo, bad: 17.7% (keywords: flight, indigo, bad, airline, great)\n",
      "  Topic 6: good, experience, version: 16.5% (keywords: good, experience, version, discount, getting)\n",
      "\n",
      "Version 6.0.3 (reviews: 915):\n",
      "  Topic 6: good, experience, version: 29.8% (keywords: good, experience, version, discount, getting)\n",
      "  Topic 2: nice, app, issue: 10.9% (keywords: nice, app, issue, worst, booking)\n",
      "  Topic 9: excellent, app, useless: 10.5% (keywords: excellent, app, useless, super, available)\n",
      "\n",
      "Version 6.0.4 (reviews: 800):\n",
      "  Topic 6: good, experience, version: 29.5% (keywords: good, experience, version, discount, getting)\n",
      "  Topic 2: nice, app, issue: 12.4% (keywords: nice, app, issue, worst, booking)\n",
      "  Topic 5: flight, indigo, bad: 11.1% (keywords: flight, indigo, bad, airline, great)\n",
      "\n",
      "Version 6.0.2 (reviews: 499):\n",
      "  Topic 6: good, experience, version: 23.8% (keywords: good, experience, version, discount, getting)\n",
      "  Topic 8: app, booking, update: 11.8% (keywords: app, booking, update, use, able)\n",
      "  Topic 5: flight, indigo, bad: 11.4% (keywords: flight, indigo, bad, airline, great)\n",
      "\n",
      "Version 6.0.1 (reviews: 429):\n",
      "  Topic 6: good, experience, version: 24.7% (keywords: good, experience, version, discount, getting)\n",
      "  Topic 5: flight, indigo, bad: 12.4% (keywords: flight, indigo, bad, airline, great)\n",
      "  Topic 8: app, booking, update: 11.9% (keywords: app, booking, update, use, able)\n",
      "\n",
      "Version 5.2.5 (reviews: 400):\n",
      "  Topic 6: good, experience, version: 28.0% (keywords: good, experience, version, discount, getting)\n",
      "  Topic 5: flight, indigo, bad: 16.2% (keywords: flight, indigo, bad, airline, great)\n",
      "  Topic 0: app, web, seat: 12.0% (keywords: app, web, seat, check, boarding)\n",
      "\n",
      "Version 5.1.10 (reviews: 377):\n",
      "  Topic 6: good, experience, version: 22.5% (keywords: good, experience, version, discount, getting)\n",
      "  Topic 8: app, booking, update: 14.6% (keywords: app, booking, update, use, able)\n",
      "  Topic 5: flight, indigo, bad: 10.9% (keywords: flight, indigo, bad, airline, great)\n",
      "\n",
      "Version 5.2.0 (reviews: 371):\n",
      "  Topic 6: good, experience, version: 24.0% (keywords: good, experience, version, discount, getting)\n",
      "  Topic 8: app, booking, update: 14.0% (keywords: app, booking, update, use, able)\n",
      "  Topic 0: app, web, seat: 11.3% (keywords: app, web, seat, check, boarding)\n"
     ]
    }
   ],
   "source": [
    "# Analyze topic distribution by version\n",
    "if 'version' in analyzed_df.columns and 'primary_topic' in analyzed_df.columns:\n",
    "    # Get valid versions and topics\n",
    "    version_topic_df = analyzed_df.dropna(subset=['version', 'primary_topic'])\n",
    "    \n",
    "    valid_records = len(version_topic_df)\n",
    "    if valid_records > 0:\n",
    "        print(f\"Found {valid_records} reviews with both version and topic data\")\n",
    "        \n",
    "        # Get topic information if available\n",
    "        if \"topics\" in analysis_results:\n",
    "            _, topic_words = analysis_results[\"topics\"]\n",
    "            # Create a mapping of topic IDs to readable names\n",
    "            topic_names = {}\n",
    "            for topic_id, words in topic_words.items():\n",
    "                topic_names[float(topic_id)] = f\"Topic {topic_id}: {', '.join(words[:3])}\"\n",
    "        else:\n",
    "            # Create simple topic names\n",
    "            unique_topics = version_topic_df['primary_topic'].unique()\n",
    "            topic_names = {topic: f\"Topic {int(topic)}\" for topic in unique_topics}\n",
    "        \n",
    "        # Calculate topic percentages per version\n",
    "        topic_by_version = pd.crosstab(\n",
    "            version_topic_df['version'], \n",
    "            version_topic_df['primary_topic'],\n",
    "            normalize='index'\n",
    "        ) * 100\n",
    "        \n",
    "        # Add count column\n",
    "        version_counts = version_topic_df['version'].value_counts()\n",
    "        topic_by_version['review_count'] = version_counts\n",
    "        \n",
    "        # Sort by review count\n",
    "        topic_by_version = topic_by_version.reset_index()\n",
    "        topic_by_version = topic_by_version.sort_values('review_count', ascending=False)\n",
    "        \n",
    "        # Round percentages for display\n",
    "        display_cols = topic_by_version.columns.difference(['version', 'review_count'])\n",
    "        topic_by_version[display_cols] = topic_by_version[display_cols].round(1)\n",
    "        \n",
    "        # Rename topic columns with readable names (limited to top topics)\n",
    "        if len(display_cols) <= 10:  # Only rename if we have a reasonable number of topics\n",
    "            renamed_cols = {}\n",
    "            for col in display_cols:\n",
    "                if col in topic_names:\n",
    "                    renamed_cols[col] = topic_names[col]\n",
    "            \n",
    "            if renamed_cols:\n",
    "                topic_by_version = topic_by_version.rename(columns=renamed_cols)\n",
    "        \n",
    "        # Display results for top versions\n",
    "        print(\"\\nTopic distribution by version (percentage):\")\n",
    "        display(topic_by_version.head(10))\n",
    "        \n",
    "        # Find most distinctive topics for each version\n",
    "        print(\"\\nMost distinctive topics by version:\")\n",
    "        top_versions = topic_by_version.head(10)['version'].tolist()\n",
    "        \n",
    "        for version in top_versions:\n",
    "            version_row = topic_by_version[topic_by_version['version'] == version].iloc[0]\n",
    "            topic_cols = version_row.index.difference(['version', 'review_count'])\n",
    "            \n",
    "            # Convert to numeric type for sorting (fix for the TypeError)\n",
    "            topic_values = pd.Series(version_row[topic_cols].values, index=topic_cols).astype(float)\n",
    "            # Get top 3 topics by value\n",
    "            top_topics = topic_values.nlargest(3)\n",
    "            \n",
    "            print(f\"\\nVersion {version} (reviews: {version_row['review_count']}):\")\n",
    "            for topic_col, percentage in top_topics.items():\n",
    "                # Get original topic ID if column names were renamed\n",
    "                if topic_col in topic_names.values():\n",
    "                    topic_id = next(k for k, v in topic_names.items() if v == topic_col)\n",
    "                else:\n",
    "                    try:\n",
    "                        topic_id = float(topic_col)\n",
    "                    except:\n",
    "                        topic_id = topic_col\n",
    "                \n",
    "                # Get associated words if available\n",
    "                if \"topics\" in analysis_results and str(int(topic_id)) in topic_words:\n",
    "                    words = topic_words[str(int(topic_id))][:5]\n",
    "                    print(f\"  {topic_col}: {percentage:.1f}% (keywords: {', '.join(words)})\")\n",
    "                else:\n",
    "                    print(f\"  {topic_col}: {percentage:.1f}%\")\n",
    "        \n",
    "    else:\n",
    "        print(\"No reviews with both version and topic data found\")\n",
    "else:\n",
    "    missing_cols = []\n",
    "    if 'version' not in analyzed_df.columns:\n",
    "        missing_cols.append('version')\n",
    "    if 'primary_topic' not in analyzed_df.columns:\n",
    "        missing_cols.append('primary_topic')\n",
    "    \n",
    "    print(f\"Cannot perform version topic analysis: missing {', '.join(missing_cols)} data\")"
   ]
  },
  {
   "cell_type": "markdown",
   "metadata": {},
   "source": [
    "### Developer Response Analysis\n",
    "\n",
    "The `repliedAt` column contains valuable information about when developers responded to reviews. This analysis examines response patterns and their impact on ratings."
   ]
  },
  {
   "cell_type": "code",
   "execution_count": 32,
   "metadata": {},
   "outputs": [
    {
     "name": "stdout",
     "output_type": "stream",
     "text": [
      "\n",
      "=== Developer Response Analysis for Selected Version Range ===\n",
      "Analyzing developer responses for version range 6.0.0 to 8.0.0\n",
      "\n",
      "Developer response rate for versions 6.0.0 to 8.0.0: 39/6004 (0.65%)\n",
      "Overall developer response rate (all versions): 157/10000 (1.57%)\n",
      "Response rate is 0.92% lower for this version range compared to all versions\n",
      "\n",
      "Average rating by developer response (versions {min_version} to {max_version}):\n"
     ]
    },
    {
     "data": {
      "text/html": [
       "<div>\n",
       "<style scoped>\n",
       "    .dataframe tbody tr th:only-of-type {\n",
       "        vertical-align: middle;\n",
       "    }\n",
       "\n",
       "    .dataframe tbody tr th {\n",
       "        vertical-align: top;\n",
       "    }\n",
       "\n",
       "    .dataframe thead th {\n",
       "        text-align: right;\n",
       "    }\n",
       "</style>\n",
       "<table border=\"1\" class=\"dataframe\">\n",
       "  <thead>\n",
       "    <tr style=\"text-align: right;\">\n",
       "      <th></th>\n",
       "      <th>has_response</th>\n",
       "      <th>avg_rating</th>\n",
       "      <th>count</th>\n",
       "    </tr>\n",
       "  </thead>\n",
       "  <tbody>\n",
       "    <tr>\n",
       "      <th>0</th>\n",
       "      <td>Not Responded</td>\n",
       "      <td>3.19</td>\n",
       "      <td>5965</td>\n",
       "    </tr>\n",
       "    <tr>\n",
       "      <th>1</th>\n",
       "      <td>Responded</td>\n",
       "      <td>1.90</td>\n",
       "      <td>39</td>\n",
       "    </tr>\n",
       "  </tbody>\n",
       "</table>\n",
       "</div>"
      ],
      "text/plain": [
       "    has_response  avg_rating  count\n",
       "0  Not Responded        3.19   5965\n",
       "1      Responded        1.90     39"
      ]
     },
     "metadata": {},
     "output_type": "display_data"
    },
    {
     "name": "stdout",
     "output_type": "stream",
     "text": [
      "\n",
      "Response rate by top versions within 6.0.0 to 8.0.0:\n"
     ]
    },
    {
     "data": {
      "text/html": [
       "<div>\n",
       "<style scoped>\n",
       "    .dataframe tbody tr th:only-of-type {\n",
       "        vertical-align: middle;\n",
       "    }\n",
       "\n",
       "    .dataframe tbody tr th {\n",
       "        vertical-align: top;\n",
       "    }\n",
       "\n",
       "    .dataframe thead th {\n",
       "        text-align: right;\n",
       "    }\n",
       "</style>\n",
       "<table border=\"1\" class=\"dataframe\">\n",
       "  <thead>\n",
       "    <tr style=\"text-align: right;\">\n",
       "      <th></th>\n",
       "      <th>version</th>\n",
       "      <th>response_rate</th>\n",
       "      <th>responded</th>\n",
       "      <th>total</th>\n",
       "    </tr>\n",
       "  </thead>\n",
       "  <tbody>\n",
       "    <tr>\n",
       "      <th>1</th>\n",
       "      <td>6.0.1</td>\n",
       "      <td>0.7</td>\n",
       "      <td>3</td>\n",
       "      <td>437</td>\n",
       "    </tr>\n",
       "    <tr>\n",
       "      <th>3</th>\n",
       "      <td>6.0.3</td>\n",
       "      <td>0.7</td>\n",
       "      <td>7</td>\n",
       "      <td>946</td>\n",
       "    </tr>\n",
       "    <tr>\n",
       "      <th>2</th>\n",
       "      <td>6.0.2</td>\n",
       "      <td>0.6</td>\n",
       "      <td>3</td>\n",
       "      <td>513</td>\n",
       "    </tr>\n",
       "    <tr>\n",
       "      <th>6</th>\n",
       "      <td>6.0.6</td>\n",
       "      <td>0.3</td>\n",
       "      <td>4</td>\n",
       "      <td>1161</td>\n",
       "    </tr>\n",
       "    <tr>\n",
       "      <th>4</th>\n",
       "      <td>6.0.4</td>\n",
       "      <td>0.0</td>\n",
       "      <td>0</td>\n",
       "      <td>832</td>\n",
       "    </tr>\n",
       "  </tbody>\n",
       "</table>\n",
       "</div>"
      ],
      "text/plain": [
       "  version  response_rate  responded  total\n",
       "1   6.0.1            0.7          3    437\n",
       "3   6.0.3            0.7          7    946\n",
       "2   6.0.2            0.6          3    513\n",
       "6   6.0.6            0.3          4   1161\n",
       "4   6.0.4            0.0          0    832"
      ]
     },
     "metadata": {},
     "output_type": "display_data"
    },
    {
     "name": "stdout",
     "output_type": "stream",
     "text": [
      "\n",
      "Response rate to negative reviews (1-2 stars) in this version range: 31/2529 (1.23%)\n",
      "Response rate to positive reviews (4-5 stars) in this version range: 8/3160 (0.25%)\n",
      "Negative reviews are 4.8x more likely to receive a response than positive reviews\n"
     ]
    },
    {
     "data": {
      "application/vnd.plotly.v1+json": {
       "config": {
        "plotlyServerURL": "https://plot.ly"
       },
       "data": [
        {
         "hovertemplate": "App Version=%{x}<br>Response Rate (%)=%{marker.color}<br>text=%{text}<extra></extra>",
         "legendgroup": "",
         "marker": {
          "color": {
           "bdata": "ZmZmZmZm5j9mZmZmZmbmPzMzMzMzM+M/MzMzMzMz0z8AAAAAAAAAAA==",
           "dtype": "f8"
          },
          "coloraxis": "coloraxis",
          "pattern": {
           "shape": ""
          }
         },
         "name": "",
         "orientation": "v",
         "showlegend": false,
         "text": [
          "0.7%",
          "0.7%",
          "0.6%",
          "0.3%",
          "0.0%"
         ],
         "textposition": "auto",
         "type": "bar",
         "x": [
          "6.0.1",
          "6.0.3",
          "6.0.2",
          "6.0.6",
          "6.0.4"
         ],
         "xaxis": "x",
         "y": {
          "bdata": "ZmZmZmZm5j9mZmZmZmbmPzMzMzMzM+M/MzMzMzMz0z8AAAAAAAAAAA==",
          "dtype": "f8"
         },
         "yaxis": "y"
        },
        {
         "mode": "text",
         "showlegend": false,
         "text": [
          "n=437",
          "n=946",
          "n=513",
          "n=1161",
          "n=832"
         ],
         "type": "scatter",
         "x": [
          "6.0.1",
          "6.0.3",
          "6.0.2",
          "6.0.6",
          "6.0.4"
         ],
         "y": [
          0,
          0,
          0,
          0,
          0
         ]
        }
       ],
       "layout": {
        "barmode": "relative",
        "coloraxis": {
         "colorbar": {
          "title": {
           "text": "Response Rate (%)"
          }
         },
         "colorscale": [
          [
           0,
           "rgb(247,251,255)"
          ],
          [
           0.125,
           "rgb(222,235,247)"
          ],
          [
           0.25,
           "rgb(198,219,239)"
          ],
          [
           0.375,
           "rgb(158,202,225)"
          ],
          [
           0.5,
           "rgb(107,174,214)"
          ],
          [
           0.625,
           "rgb(66,146,198)"
          ],
          [
           0.75,
           "rgb(33,113,181)"
          ],
          [
           0.875,
           "rgb(8,81,156)"
          ],
          [
           1,
           "rgb(8,48,107)"
          ]
         ]
        },
        "height": 500,
        "legend": {
         "tracegroupgap": 0
        },
        "template": {
         "data": {
          "bar": [
           {
            "error_x": {
             "color": "#2a3f5f"
            },
            "error_y": {
             "color": "#2a3f5f"
            },
            "marker": {
             "line": {
              "color": "#E5ECF6",
              "width": 0.5
             },
             "pattern": {
              "fillmode": "overlay",
              "size": 10,
              "solidity": 0.2
             }
            },
            "type": "bar"
           }
          ],
          "barpolar": [
           {
            "marker": {
             "line": {
              "color": "#E5ECF6",
              "width": 0.5
             },
             "pattern": {
              "fillmode": "overlay",
              "size": 10,
              "solidity": 0.2
             }
            },
            "type": "barpolar"
           }
          ],
          "carpet": [
           {
            "aaxis": {
             "endlinecolor": "#2a3f5f",
             "gridcolor": "white",
             "linecolor": "white",
             "minorgridcolor": "white",
             "startlinecolor": "#2a3f5f"
            },
            "baxis": {
             "endlinecolor": "#2a3f5f",
             "gridcolor": "white",
             "linecolor": "white",
             "minorgridcolor": "white",
             "startlinecolor": "#2a3f5f"
            },
            "type": "carpet"
           }
          ],
          "choropleth": [
           {
            "colorbar": {
             "outlinewidth": 0,
             "ticks": ""
            },
            "type": "choropleth"
           }
          ],
          "contour": [
           {
            "colorbar": {
             "outlinewidth": 0,
             "ticks": ""
            },
            "colorscale": [
             [
              0,
              "#0d0887"
             ],
             [
              0.1111111111111111,
              "#46039f"
             ],
             [
              0.2222222222222222,
              "#7201a8"
             ],
             [
              0.3333333333333333,
              "#9c179e"
             ],
             [
              0.4444444444444444,
              "#bd3786"
             ],
             [
              0.5555555555555556,
              "#d8576b"
             ],
             [
              0.6666666666666666,
              "#ed7953"
             ],
             [
              0.7777777777777778,
              "#fb9f3a"
             ],
             [
              0.8888888888888888,
              "#fdca26"
             ],
             [
              1,
              "#f0f921"
             ]
            ],
            "type": "contour"
           }
          ],
          "contourcarpet": [
           {
            "colorbar": {
             "outlinewidth": 0,
             "ticks": ""
            },
            "type": "contourcarpet"
           }
          ],
          "heatmap": [
           {
            "colorbar": {
             "outlinewidth": 0,
             "ticks": ""
            },
            "colorscale": [
             [
              0,
              "#0d0887"
             ],
             [
              0.1111111111111111,
              "#46039f"
             ],
             [
              0.2222222222222222,
              "#7201a8"
             ],
             [
              0.3333333333333333,
              "#9c179e"
             ],
             [
              0.4444444444444444,
              "#bd3786"
             ],
             [
              0.5555555555555556,
              "#d8576b"
             ],
             [
              0.6666666666666666,
              "#ed7953"
             ],
             [
              0.7777777777777778,
              "#fb9f3a"
             ],
             [
              0.8888888888888888,
              "#fdca26"
             ],
             [
              1,
              "#f0f921"
             ]
            ],
            "type": "heatmap"
           }
          ],
          "histogram": [
           {
            "marker": {
             "pattern": {
              "fillmode": "overlay",
              "size": 10,
              "solidity": 0.2
             }
            },
            "type": "histogram"
           }
          ],
          "histogram2d": [
           {
            "colorbar": {
             "outlinewidth": 0,
             "ticks": ""
            },
            "colorscale": [
             [
              0,
              "#0d0887"
             ],
             [
              0.1111111111111111,
              "#46039f"
             ],
             [
              0.2222222222222222,
              "#7201a8"
             ],
             [
              0.3333333333333333,
              "#9c179e"
             ],
             [
              0.4444444444444444,
              "#bd3786"
             ],
             [
              0.5555555555555556,
              "#d8576b"
             ],
             [
              0.6666666666666666,
              "#ed7953"
             ],
             [
              0.7777777777777778,
              "#fb9f3a"
             ],
             [
              0.8888888888888888,
              "#fdca26"
             ],
             [
              1,
              "#f0f921"
             ]
            ],
            "type": "histogram2d"
           }
          ],
          "histogram2dcontour": [
           {
            "colorbar": {
             "outlinewidth": 0,
             "ticks": ""
            },
            "colorscale": [
             [
              0,
              "#0d0887"
             ],
             [
              0.1111111111111111,
              "#46039f"
             ],
             [
              0.2222222222222222,
              "#7201a8"
             ],
             [
              0.3333333333333333,
              "#9c179e"
             ],
             [
              0.4444444444444444,
              "#bd3786"
             ],
             [
              0.5555555555555556,
              "#d8576b"
             ],
             [
              0.6666666666666666,
              "#ed7953"
             ],
             [
              0.7777777777777778,
              "#fb9f3a"
             ],
             [
              0.8888888888888888,
              "#fdca26"
             ],
             [
              1,
              "#f0f921"
             ]
            ],
            "type": "histogram2dcontour"
           }
          ],
          "mesh3d": [
           {
            "colorbar": {
             "outlinewidth": 0,
             "ticks": ""
            },
            "type": "mesh3d"
           }
          ],
          "parcoords": [
           {
            "line": {
             "colorbar": {
              "outlinewidth": 0,
              "ticks": ""
             }
            },
            "type": "parcoords"
           }
          ],
          "pie": [
           {
            "automargin": true,
            "type": "pie"
           }
          ],
          "scatter": [
           {
            "fillpattern": {
             "fillmode": "overlay",
             "size": 10,
             "solidity": 0.2
            },
            "type": "scatter"
           }
          ],
          "scatter3d": [
           {
            "line": {
             "colorbar": {
              "outlinewidth": 0,
              "ticks": ""
             }
            },
            "marker": {
             "colorbar": {
              "outlinewidth": 0,
              "ticks": ""
             }
            },
            "type": "scatter3d"
           }
          ],
          "scattercarpet": [
           {
            "marker": {
             "colorbar": {
              "outlinewidth": 0,
              "ticks": ""
             }
            },
            "type": "scattercarpet"
           }
          ],
          "scattergeo": [
           {
            "marker": {
             "colorbar": {
              "outlinewidth": 0,
              "ticks": ""
             }
            },
            "type": "scattergeo"
           }
          ],
          "scattergl": [
           {
            "marker": {
             "colorbar": {
              "outlinewidth": 0,
              "ticks": ""
             }
            },
            "type": "scattergl"
           }
          ],
          "scattermap": [
           {
            "marker": {
             "colorbar": {
              "outlinewidth": 0,
              "ticks": ""
             }
            },
            "type": "scattermap"
           }
          ],
          "scattermapbox": [
           {
            "marker": {
             "colorbar": {
              "outlinewidth": 0,
              "ticks": ""
             }
            },
            "type": "scattermapbox"
           }
          ],
          "scatterpolar": [
           {
            "marker": {
             "colorbar": {
              "outlinewidth": 0,
              "ticks": ""
             }
            },
            "type": "scatterpolar"
           }
          ],
          "scatterpolargl": [
           {
            "marker": {
             "colorbar": {
              "outlinewidth": 0,
              "ticks": ""
             }
            },
            "type": "scatterpolargl"
           }
          ],
          "scatterternary": [
           {
            "marker": {
             "colorbar": {
              "outlinewidth": 0,
              "ticks": ""
             }
            },
            "type": "scatterternary"
           }
          ],
          "surface": [
           {
            "colorbar": {
             "outlinewidth": 0,
             "ticks": ""
            },
            "colorscale": [
             [
              0,
              "#0d0887"
             ],
             [
              0.1111111111111111,
              "#46039f"
             ],
             [
              0.2222222222222222,
              "#7201a8"
             ],
             [
              0.3333333333333333,
              "#9c179e"
             ],
             [
              0.4444444444444444,
              "#bd3786"
             ],
             [
              0.5555555555555556,
              "#d8576b"
             ],
             [
              0.6666666666666666,
              "#ed7953"
             ],
             [
              0.7777777777777778,
              "#fb9f3a"
             ],
             [
              0.8888888888888888,
              "#fdca26"
             ],
             [
              1,
              "#f0f921"
             ]
            ],
            "type": "surface"
           }
          ],
          "table": [
           {
            "cells": {
             "fill": {
              "color": "#EBF0F8"
             },
             "line": {
              "color": "white"
             }
            },
            "header": {
             "fill": {
              "color": "#C8D4E3"
             },
             "line": {
              "color": "white"
             }
            },
            "type": "table"
           }
          ]
         },
         "layout": {
          "annotationdefaults": {
           "arrowcolor": "#2a3f5f",
           "arrowhead": 0,
           "arrowwidth": 1
          },
          "autotypenumbers": "strict",
          "coloraxis": {
           "colorbar": {
            "outlinewidth": 0,
            "ticks": ""
           }
          },
          "colorscale": {
           "diverging": [
            [
             0,
             "#8e0152"
            ],
            [
             0.1,
             "#c51b7d"
            ],
            [
             0.2,
             "#de77ae"
            ],
            [
             0.3,
             "#f1b6da"
            ],
            [
             0.4,
             "#fde0ef"
            ],
            [
             0.5,
             "#f7f7f7"
            ],
            [
             0.6,
             "#e6f5d0"
            ],
            [
             0.7,
             "#b8e186"
            ],
            [
             0.8,
             "#7fbc41"
            ],
            [
             0.9,
             "#4d9221"
            ],
            [
             1,
             "#276419"
            ]
           ],
           "sequential": [
            [
             0,
             "#0d0887"
            ],
            [
             0.1111111111111111,
             "#46039f"
            ],
            [
             0.2222222222222222,
             "#7201a8"
            ],
            [
             0.3333333333333333,
             "#9c179e"
            ],
            [
             0.4444444444444444,
             "#bd3786"
            ],
            [
             0.5555555555555556,
             "#d8576b"
            ],
            [
             0.6666666666666666,
             "#ed7953"
            ],
            [
             0.7777777777777778,
             "#fb9f3a"
            ],
            [
             0.8888888888888888,
             "#fdca26"
            ],
            [
             1,
             "#f0f921"
            ]
           ],
           "sequentialminus": [
            [
             0,
             "#0d0887"
            ],
            [
             0.1111111111111111,
             "#46039f"
            ],
            [
             0.2222222222222222,
             "#7201a8"
            ],
            [
             0.3333333333333333,
             "#9c179e"
            ],
            [
             0.4444444444444444,
             "#bd3786"
            ],
            [
             0.5555555555555556,
             "#d8576b"
            ],
            [
             0.6666666666666666,
             "#ed7953"
            ],
            [
             0.7777777777777778,
             "#fb9f3a"
            ],
            [
             0.8888888888888888,
             "#fdca26"
            ],
            [
             1,
             "#f0f921"
            ]
           ]
          },
          "colorway": [
           "#636efa",
           "#EF553B",
           "#00cc96",
           "#ab63fa",
           "#FFA15A",
           "#19d3f3",
           "#FF6692",
           "#B6E880",
           "#FF97FF",
           "#FECB52"
          ],
          "font": {
           "color": "#2a3f5f"
          },
          "geo": {
           "bgcolor": "white",
           "lakecolor": "white",
           "landcolor": "#E5ECF6",
           "showlakes": true,
           "showland": true,
           "subunitcolor": "white"
          },
          "hoverlabel": {
           "align": "left"
          },
          "hovermode": "closest",
          "mapbox": {
           "style": "light"
          },
          "paper_bgcolor": "white",
          "plot_bgcolor": "#E5ECF6",
          "polar": {
           "angularaxis": {
            "gridcolor": "white",
            "linecolor": "white",
            "ticks": ""
           },
           "bgcolor": "#E5ECF6",
           "radialaxis": {
            "gridcolor": "white",
            "linecolor": "white",
            "ticks": ""
           }
          },
          "scene": {
           "xaxis": {
            "backgroundcolor": "#E5ECF6",
            "gridcolor": "white",
            "gridwidth": 2,
            "linecolor": "white",
            "showbackground": true,
            "ticks": "",
            "zerolinecolor": "white"
           },
           "yaxis": {
            "backgroundcolor": "#E5ECF6",
            "gridcolor": "white",
            "gridwidth": 2,
            "linecolor": "white",
            "showbackground": true,
            "ticks": "",
            "zerolinecolor": "white"
           },
           "zaxis": {
            "backgroundcolor": "#E5ECF6",
            "gridcolor": "white",
            "gridwidth": 2,
            "linecolor": "white",
            "showbackground": true,
            "ticks": "",
            "zerolinecolor": "white"
           }
          },
          "shapedefaults": {
           "line": {
            "color": "#2a3f5f"
           }
          },
          "ternary": {
           "aaxis": {
            "gridcolor": "white",
            "linecolor": "white",
            "ticks": ""
           },
           "baxis": {
            "gridcolor": "white",
            "linecolor": "white",
            "ticks": ""
           },
           "bgcolor": "#E5ECF6",
           "caxis": {
            "gridcolor": "white",
            "linecolor": "white",
            "ticks": ""
           }
          },
          "title": {
           "x": 0.05
          },
          "xaxis": {
           "automargin": true,
           "gridcolor": "white",
           "linecolor": "white",
           "ticks": "",
           "title": {
            "standoff": 15
           },
           "zerolinecolor": "white",
           "zerolinewidth": 2
          },
          "yaxis": {
           "automargin": true,
           "gridcolor": "white",
           "linecolor": "white",
           "ticks": "",
           "title": {
            "standoff": 15
           },
           "zerolinecolor": "white",
           "zerolinewidth": 2
          }
         }
        },
        "title": {
         "text": "Developer Response Rate by Version (6.0.0 to 8.0.0)"
        },
        "xaxis": {
         "anchor": "y",
         "domain": [
          0,
          1
         ],
         "title": {
          "text": "App Version"
         }
        },
        "yaxis": {
         "anchor": "x",
         "domain": [
          0,
          1
         ],
         "range": [
          -5,
          0.77
         ],
         "title": {
          "text": "Response Rate (%)"
         }
        }
       }
      }
     },
     "metadata": {},
     "output_type": "display_data"
    },
    {
     "data": {
      "application/vnd.plotly.v1+json": {
       "config": {
        "plotlyServerURL": "https://plot.ly"
       },
       "data": [
        {
         "hovertemplate": "Rating=%{x}<br>Response Rate (%)=%{marker.color}<br>text=%{text}<extra></extra>",
         "legendgroup": "",
         "marker": {
          "color": {
           "bdata": "MzMzMzMz8z8AAAAAAAD4PwAAAAAAAAAAmpmZmZmZ2T+amZmZmZnJPw==",
           "dtype": "f8"
          },
          "coloraxis": "coloraxis",
          "pattern": {
           "shape": ""
          }
         },
         "name": "",
         "orientation": "v",
         "showlegend": false,
         "text": [
          "1.2%",
          "1.5%",
          "0.0%",
          "0.4%",
          "0.2%"
         ],
         "textposition": "auto",
         "type": "bar",
         "x": {
          "bdata": "AQIDBAU=",
          "dtype": "i1"
         },
         "xaxis": "x",
         "y": {
          "bdata": "MzMzMzMz8z8AAAAAAAD4PwAAAAAAAAAAmpmZmZmZ2T+amZmZmZnJPw==",
          "dtype": "f8"
         },
         "yaxis": "y"
        },
        {
         "mode": "text",
         "showlegend": false,
         "text": [
          "n=2196",
          "n=333",
          "n=315",
          "n=481",
          "n=2679"
         ],
         "type": "scatter",
         "x": {
          "bdata": "AQIDBAU=",
          "dtype": "i1"
         },
         "y": [
          0,
          0,
          0,
          0,
          0
         ]
        }
       ],
       "layout": {
        "barmode": "relative",
        "coloraxis": {
         "colorbar": {
          "title": {
           "text": "Response Rate (%)"
          }
         },
         "colorscale": [
          [
           0,
           "rgb(247,251,255)"
          ],
          [
           0.125,
           "rgb(222,235,247)"
          ],
          [
           0.25,
           "rgb(198,219,239)"
          ],
          [
           0.375,
           "rgb(158,202,225)"
          ],
          [
           0.5,
           "rgb(107,174,214)"
          ],
          [
           0.625,
           "rgb(66,146,198)"
          ],
          [
           0.75,
           "rgb(33,113,181)"
          ],
          [
           0.875,
           "rgb(8,81,156)"
          ],
          [
           1,
           "rgb(8,48,107)"
          ]
         ]
        },
        "height": 500,
        "legend": {
         "tracegroupgap": 0
        },
        "template": {
         "data": {
          "bar": [
           {
            "error_x": {
             "color": "#2a3f5f"
            },
            "error_y": {
             "color": "#2a3f5f"
            },
            "marker": {
             "line": {
              "color": "#E5ECF6",
              "width": 0.5
             },
             "pattern": {
              "fillmode": "overlay",
              "size": 10,
              "solidity": 0.2
             }
            },
            "type": "bar"
           }
          ],
          "barpolar": [
           {
            "marker": {
             "line": {
              "color": "#E5ECF6",
              "width": 0.5
             },
             "pattern": {
              "fillmode": "overlay",
              "size": 10,
              "solidity": 0.2
             }
            },
            "type": "barpolar"
           }
          ],
          "carpet": [
           {
            "aaxis": {
             "endlinecolor": "#2a3f5f",
             "gridcolor": "white",
             "linecolor": "white",
             "minorgridcolor": "white",
             "startlinecolor": "#2a3f5f"
            },
            "baxis": {
             "endlinecolor": "#2a3f5f",
             "gridcolor": "white",
             "linecolor": "white",
             "minorgridcolor": "white",
             "startlinecolor": "#2a3f5f"
            },
            "type": "carpet"
           }
          ],
          "choropleth": [
           {
            "colorbar": {
             "outlinewidth": 0,
             "ticks": ""
            },
            "type": "choropleth"
           }
          ],
          "contour": [
           {
            "colorbar": {
             "outlinewidth": 0,
             "ticks": ""
            },
            "colorscale": [
             [
              0,
              "#0d0887"
             ],
             [
              0.1111111111111111,
              "#46039f"
             ],
             [
              0.2222222222222222,
              "#7201a8"
             ],
             [
              0.3333333333333333,
              "#9c179e"
             ],
             [
              0.4444444444444444,
              "#bd3786"
             ],
             [
              0.5555555555555556,
              "#d8576b"
             ],
             [
              0.6666666666666666,
              "#ed7953"
             ],
             [
              0.7777777777777778,
              "#fb9f3a"
             ],
             [
              0.8888888888888888,
              "#fdca26"
             ],
             [
              1,
              "#f0f921"
             ]
            ],
            "type": "contour"
           }
          ],
          "contourcarpet": [
           {
            "colorbar": {
             "outlinewidth": 0,
             "ticks": ""
            },
            "type": "contourcarpet"
           }
          ],
          "heatmap": [
           {
            "colorbar": {
             "outlinewidth": 0,
             "ticks": ""
            },
            "colorscale": [
             [
              0,
              "#0d0887"
             ],
             [
              0.1111111111111111,
              "#46039f"
             ],
             [
              0.2222222222222222,
              "#7201a8"
             ],
             [
              0.3333333333333333,
              "#9c179e"
             ],
             [
              0.4444444444444444,
              "#bd3786"
             ],
             [
              0.5555555555555556,
              "#d8576b"
             ],
             [
              0.6666666666666666,
              "#ed7953"
             ],
             [
              0.7777777777777778,
              "#fb9f3a"
             ],
             [
              0.8888888888888888,
              "#fdca26"
             ],
             [
              1,
              "#f0f921"
             ]
            ],
            "type": "heatmap"
           }
          ],
          "histogram": [
           {
            "marker": {
             "pattern": {
              "fillmode": "overlay",
              "size": 10,
              "solidity": 0.2
             }
            },
            "type": "histogram"
           }
          ],
          "histogram2d": [
           {
            "colorbar": {
             "outlinewidth": 0,
             "ticks": ""
            },
            "colorscale": [
             [
              0,
              "#0d0887"
             ],
             [
              0.1111111111111111,
              "#46039f"
             ],
             [
              0.2222222222222222,
              "#7201a8"
             ],
             [
              0.3333333333333333,
              "#9c179e"
             ],
             [
              0.4444444444444444,
              "#bd3786"
             ],
             [
              0.5555555555555556,
              "#d8576b"
             ],
             [
              0.6666666666666666,
              "#ed7953"
             ],
             [
              0.7777777777777778,
              "#fb9f3a"
             ],
             [
              0.8888888888888888,
              "#fdca26"
             ],
             [
              1,
              "#f0f921"
             ]
            ],
            "type": "histogram2d"
           }
          ],
          "histogram2dcontour": [
           {
            "colorbar": {
             "outlinewidth": 0,
             "ticks": ""
            },
            "colorscale": [
             [
              0,
              "#0d0887"
             ],
             [
              0.1111111111111111,
              "#46039f"
             ],
             [
              0.2222222222222222,
              "#7201a8"
             ],
             [
              0.3333333333333333,
              "#9c179e"
             ],
             [
              0.4444444444444444,
              "#bd3786"
             ],
             [
              0.5555555555555556,
              "#d8576b"
             ],
             [
              0.6666666666666666,
              "#ed7953"
             ],
             [
              0.7777777777777778,
              "#fb9f3a"
             ],
             [
              0.8888888888888888,
              "#fdca26"
             ],
             [
              1,
              "#f0f921"
             ]
            ],
            "type": "histogram2dcontour"
           }
          ],
          "mesh3d": [
           {
            "colorbar": {
             "outlinewidth": 0,
             "ticks": ""
            },
            "type": "mesh3d"
           }
          ],
          "parcoords": [
           {
            "line": {
             "colorbar": {
              "outlinewidth": 0,
              "ticks": ""
             }
            },
            "type": "parcoords"
           }
          ],
          "pie": [
           {
            "automargin": true,
            "type": "pie"
           }
          ],
          "scatter": [
           {
            "fillpattern": {
             "fillmode": "overlay",
             "size": 10,
             "solidity": 0.2
            },
            "type": "scatter"
           }
          ],
          "scatter3d": [
           {
            "line": {
             "colorbar": {
              "outlinewidth": 0,
              "ticks": ""
             }
            },
            "marker": {
             "colorbar": {
              "outlinewidth": 0,
              "ticks": ""
             }
            },
            "type": "scatter3d"
           }
          ],
          "scattercarpet": [
           {
            "marker": {
             "colorbar": {
              "outlinewidth": 0,
              "ticks": ""
             }
            },
            "type": "scattercarpet"
           }
          ],
          "scattergeo": [
           {
            "marker": {
             "colorbar": {
              "outlinewidth": 0,
              "ticks": ""
             }
            },
            "type": "scattergeo"
           }
          ],
          "scattergl": [
           {
            "marker": {
             "colorbar": {
              "outlinewidth": 0,
              "ticks": ""
             }
            },
            "type": "scattergl"
           }
          ],
          "scattermap": [
           {
            "marker": {
             "colorbar": {
              "outlinewidth": 0,
              "ticks": ""
             }
            },
            "type": "scattermap"
           }
          ],
          "scattermapbox": [
           {
            "marker": {
             "colorbar": {
              "outlinewidth": 0,
              "ticks": ""
             }
            },
            "type": "scattermapbox"
           }
          ],
          "scatterpolar": [
           {
            "marker": {
             "colorbar": {
              "outlinewidth": 0,
              "ticks": ""
             }
            },
            "type": "scatterpolar"
           }
          ],
          "scatterpolargl": [
           {
            "marker": {
             "colorbar": {
              "outlinewidth": 0,
              "ticks": ""
             }
            },
            "type": "scatterpolargl"
           }
          ],
          "scatterternary": [
           {
            "marker": {
             "colorbar": {
              "outlinewidth": 0,
              "ticks": ""
             }
            },
            "type": "scatterternary"
           }
          ],
          "surface": [
           {
            "colorbar": {
             "outlinewidth": 0,
             "ticks": ""
            },
            "colorscale": [
             [
              0,
              "#0d0887"
             ],
             [
              0.1111111111111111,
              "#46039f"
             ],
             [
              0.2222222222222222,
              "#7201a8"
             ],
             [
              0.3333333333333333,
              "#9c179e"
             ],
             [
              0.4444444444444444,
              "#bd3786"
             ],
             [
              0.5555555555555556,
              "#d8576b"
             ],
             [
              0.6666666666666666,
              "#ed7953"
             ],
             [
              0.7777777777777778,
              "#fb9f3a"
             ],
             [
              0.8888888888888888,
              "#fdca26"
             ],
             [
              1,
              "#f0f921"
             ]
            ],
            "type": "surface"
           }
          ],
          "table": [
           {
            "cells": {
             "fill": {
              "color": "#EBF0F8"
             },
             "line": {
              "color": "white"
             }
            },
            "header": {
             "fill": {
              "color": "#C8D4E3"
             },
             "line": {
              "color": "white"
             }
            },
            "type": "table"
           }
          ]
         },
         "layout": {
          "annotationdefaults": {
           "arrowcolor": "#2a3f5f",
           "arrowhead": 0,
           "arrowwidth": 1
          },
          "autotypenumbers": "strict",
          "coloraxis": {
           "colorbar": {
            "outlinewidth": 0,
            "ticks": ""
           }
          },
          "colorscale": {
           "diverging": [
            [
             0,
             "#8e0152"
            ],
            [
             0.1,
             "#c51b7d"
            ],
            [
             0.2,
             "#de77ae"
            ],
            [
             0.3,
             "#f1b6da"
            ],
            [
             0.4,
             "#fde0ef"
            ],
            [
             0.5,
             "#f7f7f7"
            ],
            [
             0.6,
             "#e6f5d0"
            ],
            [
             0.7,
             "#b8e186"
            ],
            [
             0.8,
             "#7fbc41"
            ],
            [
             0.9,
             "#4d9221"
            ],
            [
             1,
             "#276419"
            ]
           ],
           "sequential": [
            [
             0,
             "#0d0887"
            ],
            [
             0.1111111111111111,
             "#46039f"
            ],
            [
             0.2222222222222222,
             "#7201a8"
            ],
            [
             0.3333333333333333,
             "#9c179e"
            ],
            [
             0.4444444444444444,
             "#bd3786"
            ],
            [
             0.5555555555555556,
             "#d8576b"
            ],
            [
             0.6666666666666666,
             "#ed7953"
            ],
            [
             0.7777777777777778,
             "#fb9f3a"
            ],
            [
             0.8888888888888888,
             "#fdca26"
            ],
            [
             1,
             "#f0f921"
            ]
           ],
           "sequentialminus": [
            [
             0,
             "#0d0887"
            ],
            [
             0.1111111111111111,
             "#46039f"
            ],
            [
             0.2222222222222222,
             "#7201a8"
            ],
            [
             0.3333333333333333,
             "#9c179e"
            ],
            [
             0.4444444444444444,
             "#bd3786"
            ],
            [
             0.5555555555555556,
             "#d8576b"
            ],
            [
             0.6666666666666666,
             "#ed7953"
            ],
            [
             0.7777777777777778,
             "#fb9f3a"
            ],
            [
             0.8888888888888888,
             "#fdca26"
            ],
            [
             1,
             "#f0f921"
            ]
           ]
          },
          "colorway": [
           "#636efa",
           "#EF553B",
           "#00cc96",
           "#ab63fa",
           "#FFA15A",
           "#19d3f3",
           "#FF6692",
           "#B6E880",
           "#FF97FF",
           "#FECB52"
          ],
          "font": {
           "color": "#2a3f5f"
          },
          "geo": {
           "bgcolor": "white",
           "lakecolor": "white",
           "landcolor": "#E5ECF6",
           "showlakes": true,
           "showland": true,
           "subunitcolor": "white"
          },
          "hoverlabel": {
           "align": "left"
          },
          "hovermode": "closest",
          "mapbox": {
           "style": "light"
          },
          "paper_bgcolor": "white",
          "plot_bgcolor": "#E5ECF6",
          "polar": {
           "angularaxis": {
            "gridcolor": "white",
            "linecolor": "white",
            "ticks": ""
           },
           "bgcolor": "#E5ECF6",
           "radialaxis": {
            "gridcolor": "white",
            "linecolor": "white",
            "ticks": ""
           }
          },
          "scene": {
           "xaxis": {
            "backgroundcolor": "#E5ECF6",
            "gridcolor": "white",
            "gridwidth": 2,
            "linecolor": "white",
            "showbackground": true,
            "ticks": "",
            "zerolinecolor": "white"
           },
           "yaxis": {
            "backgroundcolor": "#E5ECF6",
            "gridcolor": "white",
            "gridwidth": 2,
            "linecolor": "white",
            "showbackground": true,
            "ticks": "",
            "zerolinecolor": "white"
           },
           "zaxis": {
            "backgroundcolor": "#E5ECF6",
            "gridcolor": "white",
            "gridwidth": 2,
            "linecolor": "white",
            "showbackground": true,
            "ticks": "",
            "zerolinecolor": "white"
           }
          },
          "shapedefaults": {
           "line": {
            "color": "#2a3f5f"
           }
          },
          "ternary": {
           "aaxis": {
            "gridcolor": "white",
            "linecolor": "white",
            "ticks": ""
           },
           "baxis": {
            "gridcolor": "white",
            "linecolor": "white",
            "ticks": ""
           },
           "bgcolor": "#E5ECF6",
           "caxis": {
            "gridcolor": "white",
            "linecolor": "white",
            "ticks": ""
           }
          },
          "title": {
           "x": 0.05
          },
          "xaxis": {
           "automargin": true,
           "gridcolor": "white",
           "linecolor": "white",
           "ticks": "",
           "title": {
            "standoff": 15
           },
           "zerolinecolor": "white",
           "zerolinewidth": 2
          },
          "yaxis": {
           "automargin": true,
           "gridcolor": "white",
           "linecolor": "white",
           "ticks": "",
           "title": {
            "standoff": 15
           },
           "zerolinecolor": "white",
           "zerolinewidth": 2
          }
         }
        },
        "title": {
         "text": "Developer Response Rate by Rating (6.0.0 to 8.0.0)"
        },
        "xaxis": {
         "anchor": "y",
         "domain": [
          0,
          1
         ],
         "tickmode": "array",
         "ticktext": [
          "1 ★",
          "2 ★",
          "3 ★",
          "4 ★",
          "5 ★"
         ],
         "tickvals": [
          1,
          2,
          3,
          4,
          5
         ],
         "title": {
          "text": "Rating"
         }
        },
        "yaxis": {
         "anchor": "x",
         "domain": [
          0,
          1
         ],
         "range": [
          -5,
          1.6500000000000001
         ],
         "title": {
          "text": "Response Rate (%)"
         }
        }
       }
      }
     },
     "metadata": {},
     "output_type": "display_data"
    },
    {
     "data": {
      "application/vnd.plotly.v1+json": {
       "config": {
        "plotlyServerURL": "https://plot.ly"
       },
       "data": [
        {
         "customdata": [
          [
           "Responded"
          ],
          [
           "Not Responded"
          ]
         ],
         "domain": {
          "x": [
           0,
           1
          ],
          "y": [
           0,
           1
          ]
         },
         "hole": 0.4,
         "hovertemplate": "label=%{label}<br>value=%{value}<br>color=%{customdata[0]}<extra></extra>",
         "labels": [
          "Responded",
          "Not Responded"
         ],
         "legendgroup": "",
         "marker": {
          "colors": [
           "darkblue",
           "lightgray"
          ]
         },
         "name": "",
         "showlegend": true,
         "type": "pie",
         "values": {
          "bdata": "JwBNFw==",
          "dtype": "i2"
         }
        }
       ],
       "layout": {
        "annotations": [
         {
          "font": {
           "size": 14
          },
          "showarrow": false,
          "text": "0.6%<br>Response Rate",
          "x": 0.5,
          "y": 0.5
         }
        ],
        "legend": {
         "tracegroupgap": 0
        },
        "template": {
         "data": {
          "bar": [
           {
            "error_x": {
             "color": "#2a3f5f"
            },
            "error_y": {
             "color": "#2a3f5f"
            },
            "marker": {
             "line": {
              "color": "#E5ECF6",
              "width": 0.5
             },
             "pattern": {
              "fillmode": "overlay",
              "size": 10,
              "solidity": 0.2
             }
            },
            "type": "bar"
           }
          ],
          "barpolar": [
           {
            "marker": {
             "line": {
              "color": "#E5ECF6",
              "width": 0.5
             },
             "pattern": {
              "fillmode": "overlay",
              "size": 10,
              "solidity": 0.2
             }
            },
            "type": "barpolar"
           }
          ],
          "carpet": [
           {
            "aaxis": {
             "endlinecolor": "#2a3f5f",
             "gridcolor": "white",
             "linecolor": "white",
             "minorgridcolor": "white",
             "startlinecolor": "#2a3f5f"
            },
            "baxis": {
             "endlinecolor": "#2a3f5f",
             "gridcolor": "white",
             "linecolor": "white",
             "minorgridcolor": "white",
             "startlinecolor": "#2a3f5f"
            },
            "type": "carpet"
           }
          ],
          "choropleth": [
           {
            "colorbar": {
             "outlinewidth": 0,
             "ticks": ""
            },
            "type": "choropleth"
           }
          ],
          "contour": [
           {
            "colorbar": {
             "outlinewidth": 0,
             "ticks": ""
            },
            "colorscale": [
             [
              0,
              "#0d0887"
             ],
             [
              0.1111111111111111,
              "#46039f"
             ],
             [
              0.2222222222222222,
              "#7201a8"
             ],
             [
              0.3333333333333333,
              "#9c179e"
             ],
             [
              0.4444444444444444,
              "#bd3786"
             ],
             [
              0.5555555555555556,
              "#d8576b"
             ],
             [
              0.6666666666666666,
              "#ed7953"
             ],
             [
              0.7777777777777778,
              "#fb9f3a"
             ],
             [
              0.8888888888888888,
              "#fdca26"
             ],
             [
              1,
              "#f0f921"
             ]
            ],
            "type": "contour"
           }
          ],
          "contourcarpet": [
           {
            "colorbar": {
             "outlinewidth": 0,
             "ticks": ""
            },
            "type": "contourcarpet"
           }
          ],
          "heatmap": [
           {
            "colorbar": {
             "outlinewidth": 0,
             "ticks": ""
            },
            "colorscale": [
             [
              0,
              "#0d0887"
             ],
             [
              0.1111111111111111,
              "#46039f"
             ],
             [
              0.2222222222222222,
              "#7201a8"
             ],
             [
              0.3333333333333333,
              "#9c179e"
             ],
             [
              0.4444444444444444,
              "#bd3786"
             ],
             [
              0.5555555555555556,
              "#d8576b"
             ],
             [
              0.6666666666666666,
              "#ed7953"
             ],
             [
              0.7777777777777778,
              "#fb9f3a"
             ],
             [
              0.8888888888888888,
              "#fdca26"
             ],
             [
              1,
              "#f0f921"
             ]
            ],
            "type": "heatmap"
           }
          ],
          "histogram": [
           {
            "marker": {
             "pattern": {
              "fillmode": "overlay",
              "size": 10,
              "solidity": 0.2
             }
            },
            "type": "histogram"
           }
          ],
          "histogram2d": [
           {
            "colorbar": {
             "outlinewidth": 0,
             "ticks": ""
            },
            "colorscale": [
             [
              0,
              "#0d0887"
             ],
             [
              0.1111111111111111,
              "#46039f"
             ],
             [
              0.2222222222222222,
              "#7201a8"
             ],
             [
              0.3333333333333333,
              "#9c179e"
             ],
             [
              0.4444444444444444,
              "#bd3786"
             ],
             [
              0.5555555555555556,
              "#d8576b"
             ],
             [
              0.6666666666666666,
              "#ed7953"
             ],
             [
              0.7777777777777778,
              "#fb9f3a"
             ],
             [
              0.8888888888888888,
              "#fdca26"
             ],
             [
              1,
              "#f0f921"
             ]
            ],
            "type": "histogram2d"
           }
          ],
          "histogram2dcontour": [
           {
            "colorbar": {
             "outlinewidth": 0,
             "ticks": ""
            },
            "colorscale": [
             [
              0,
              "#0d0887"
             ],
             [
              0.1111111111111111,
              "#46039f"
             ],
             [
              0.2222222222222222,
              "#7201a8"
             ],
             [
              0.3333333333333333,
              "#9c179e"
             ],
             [
              0.4444444444444444,
              "#bd3786"
             ],
             [
              0.5555555555555556,
              "#d8576b"
             ],
             [
              0.6666666666666666,
              "#ed7953"
             ],
             [
              0.7777777777777778,
              "#fb9f3a"
             ],
             [
              0.8888888888888888,
              "#fdca26"
             ],
             [
              1,
              "#f0f921"
             ]
            ],
            "type": "histogram2dcontour"
           }
          ],
          "mesh3d": [
           {
            "colorbar": {
             "outlinewidth": 0,
             "ticks": ""
            },
            "type": "mesh3d"
           }
          ],
          "parcoords": [
           {
            "line": {
             "colorbar": {
              "outlinewidth": 0,
              "ticks": ""
             }
            },
            "type": "parcoords"
           }
          ],
          "pie": [
           {
            "automargin": true,
            "type": "pie"
           }
          ],
          "scatter": [
           {
            "fillpattern": {
             "fillmode": "overlay",
             "size": 10,
             "solidity": 0.2
            },
            "type": "scatter"
           }
          ],
          "scatter3d": [
           {
            "line": {
             "colorbar": {
              "outlinewidth": 0,
              "ticks": ""
             }
            },
            "marker": {
             "colorbar": {
              "outlinewidth": 0,
              "ticks": ""
             }
            },
            "type": "scatter3d"
           }
          ],
          "scattercarpet": [
           {
            "marker": {
             "colorbar": {
              "outlinewidth": 0,
              "ticks": ""
             }
            },
            "type": "scattercarpet"
           }
          ],
          "scattergeo": [
           {
            "marker": {
             "colorbar": {
              "outlinewidth": 0,
              "ticks": ""
             }
            },
            "type": "scattergeo"
           }
          ],
          "scattergl": [
           {
            "marker": {
             "colorbar": {
              "outlinewidth": 0,
              "ticks": ""
             }
            },
            "type": "scattergl"
           }
          ],
          "scattermap": [
           {
            "marker": {
             "colorbar": {
              "outlinewidth": 0,
              "ticks": ""
             }
            },
            "type": "scattermap"
           }
          ],
          "scattermapbox": [
           {
            "marker": {
             "colorbar": {
              "outlinewidth": 0,
              "ticks": ""
             }
            },
            "type": "scattermapbox"
           }
          ],
          "scatterpolar": [
           {
            "marker": {
             "colorbar": {
              "outlinewidth": 0,
              "ticks": ""
             }
            },
            "type": "scatterpolar"
           }
          ],
          "scatterpolargl": [
           {
            "marker": {
             "colorbar": {
              "outlinewidth": 0,
              "ticks": ""
             }
            },
            "type": "scatterpolargl"
           }
          ],
          "scatterternary": [
           {
            "marker": {
             "colorbar": {
              "outlinewidth": 0,
              "ticks": ""
             }
            },
            "type": "scatterternary"
           }
          ],
          "surface": [
           {
            "colorbar": {
             "outlinewidth": 0,
             "ticks": ""
            },
            "colorscale": [
             [
              0,
              "#0d0887"
             ],
             [
              0.1111111111111111,
              "#46039f"
             ],
             [
              0.2222222222222222,
              "#7201a8"
             ],
             [
              0.3333333333333333,
              "#9c179e"
             ],
             [
              0.4444444444444444,
              "#bd3786"
             ],
             [
              0.5555555555555556,
              "#d8576b"
             ],
             [
              0.6666666666666666,
              "#ed7953"
             ],
             [
              0.7777777777777778,
              "#fb9f3a"
             ],
             [
              0.8888888888888888,
              "#fdca26"
             ],
             [
              1,
              "#f0f921"
             ]
            ],
            "type": "surface"
           }
          ],
          "table": [
           {
            "cells": {
             "fill": {
              "color": "#EBF0F8"
             },
             "line": {
              "color": "white"
             }
            },
            "header": {
             "fill": {
              "color": "#C8D4E3"
             },
             "line": {
              "color": "white"
             }
            },
            "type": "table"
           }
          ]
         },
         "layout": {
          "annotationdefaults": {
           "arrowcolor": "#2a3f5f",
           "arrowhead": 0,
           "arrowwidth": 1
          },
          "autotypenumbers": "strict",
          "coloraxis": {
           "colorbar": {
            "outlinewidth": 0,
            "ticks": ""
           }
          },
          "colorscale": {
           "diverging": [
            [
             0,
             "#8e0152"
            ],
            [
             0.1,
             "#c51b7d"
            ],
            [
             0.2,
             "#de77ae"
            ],
            [
             0.3,
             "#f1b6da"
            ],
            [
             0.4,
             "#fde0ef"
            ],
            [
             0.5,
             "#f7f7f7"
            ],
            [
             0.6,
             "#e6f5d0"
            ],
            [
             0.7,
             "#b8e186"
            ],
            [
             0.8,
             "#7fbc41"
            ],
            [
             0.9,
             "#4d9221"
            ],
            [
             1,
             "#276419"
            ]
           ],
           "sequential": [
            [
             0,
             "#0d0887"
            ],
            [
             0.1111111111111111,
             "#46039f"
            ],
            [
             0.2222222222222222,
             "#7201a8"
            ],
            [
             0.3333333333333333,
             "#9c179e"
            ],
            [
             0.4444444444444444,
             "#bd3786"
            ],
            [
             0.5555555555555556,
             "#d8576b"
            ],
            [
             0.6666666666666666,
             "#ed7953"
            ],
            [
             0.7777777777777778,
             "#fb9f3a"
            ],
            [
             0.8888888888888888,
             "#fdca26"
            ],
            [
             1,
             "#f0f921"
            ]
           ],
           "sequentialminus": [
            [
             0,
             "#0d0887"
            ],
            [
             0.1111111111111111,
             "#46039f"
            ],
            [
             0.2222222222222222,
             "#7201a8"
            ],
            [
             0.3333333333333333,
             "#9c179e"
            ],
            [
             0.4444444444444444,
             "#bd3786"
            ],
            [
             0.5555555555555556,
             "#d8576b"
            ],
            [
             0.6666666666666666,
             "#ed7953"
            ],
            [
             0.7777777777777778,
             "#fb9f3a"
            ],
            [
             0.8888888888888888,
             "#fdca26"
            ],
            [
             1,
             "#f0f921"
            ]
           ]
          },
          "colorway": [
           "#636efa",
           "#EF553B",
           "#00cc96",
           "#ab63fa",
           "#FFA15A",
           "#19d3f3",
           "#FF6692",
           "#B6E880",
           "#FF97FF",
           "#FECB52"
          ],
          "font": {
           "color": "#2a3f5f"
          },
          "geo": {
           "bgcolor": "white",
           "lakecolor": "white",
           "landcolor": "#E5ECF6",
           "showlakes": true,
           "showland": true,
           "subunitcolor": "white"
          },
          "hoverlabel": {
           "align": "left"
          },
          "hovermode": "closest",
          "mapbox": {
           "style": "light"
          },
          "paper_bgcolor": "white",
          "plot_bgcolor": "#E5ECF6",
          "polar": {
           "angularaxis": {
            "gridcolor": "white",
            "linecolor": "white",
            "ticks": ""
           },
           "bgcolor": "#E5ECF6",
           "radialaxis": {
            "gridcolor": "white",
            "linecolor": "white",
            "ticks": ""
           }
          },
          "scene": {
           "xaxis": {
            "backgroundcolor": "#E5ECF6",
            "gridcolor": "white",
            "gridwidth": 2,
            "linecolor": "white",
            "showbackground": true,
            "ticks": "",
            "zerolinecolor": "white"
           },
           "yaxis": {
            "backgroundcolor": "#E5ECF6",
            "gridcolor": "white",
            "gridwidth": 2,
            "linecolor": "white",
            "showbackground": true,
            "ticks": "",
            "zerolinecolor": "white"
           },
           "zaxis": {
            "backgroundcolor": "#E5ECF6",
            "gridcolor": "white",
            "gridwidth": 2,
            "linecolor": "white",
            "showbackground": true,
            "ticks": "",
            "zerolinecolor": "white"
           }
          },
          "shapedefaults": {
           "line": {
            "color": "#2a3f5f"
           }
          },
          "ternary": {
           "aaxis": {
            "gridcolor": "white",
            "linecolor": "white",
            "ticks": ""
           },
           "baxis": {
            "gridcolor": "white",
            "linecolor": "white",
            "ticks": ""
           },
           "bgcolor": "#E5ECF6",
           "caxis": {
            "gridcolor": "white",
            "linecolor": "white",
            "ticks": ""
           }
          },
          "title": {
           "x": 0.05
          },
          "xaxis": {
           "automargin": true,
           "gridcolor": "white",
           "linecolor": "white",
           "ticks": "",
           "title": {
            "standoff": 15
           },
           "zerolinecolor": "white",
           "zerolinewidth": 2
          },
          "yaxis": {
           "automargin": true,
           "gridcolor": "white",
           "linecolor": "white",
           "ticks": "",
           "title": {
            "standoff": 15
           },
           "zerolinecolor": "white",
           "zerolinewidth": 2
          }
         }
        },
        "title": {
         "text": "Developer Response Distribution (6.0.0 to 8.0.0)"
        }
       }
      }
     },
     "metadata": {},
     "output_type": "display_data"
    },
    {
     "name": "stdout",
     "output_type": "stream",
     "text": [
      "\n",
      "Sample developer replies for versions 6.0.0 to 8.0.0:\n",
      "\n",
      "Version: 6.0.6, Rating: 1\n",
      "Review: Not sure past 1 week I uninstalled and installed more than 5 times its saying upgrade... not sure...\n",
      "Reply: Thanks for the rating and review. ~Rohit\n",
      "\n",
      "Version: 6.0.3, Rating: 2\n",
      "Review: Random error every time for the last month or so, now its asking enter a valid mobile number for the...\n",
      "Reply: Hi, we regret the hassle caused. We request you to share the matter at https://bit.ly/3NJW6e9, so ou...\n",
      "\n",
      "Version: 6.0.1, Rating: 4\n",
      "Review: Iam trying to register into the app but after entering OTP is always shows that \"Your Connection has...\n",
      "Reply: Hi Rakesh, please try deleting the app and re- installing it.\n"
     ]
    }
   ],
   "source": [
    "# Analyze developer responses for our selected version range\n",
    "print(\"\\n=== Developer Response Analysis for Selected Version Range ===\")\n",
    "\n",
    "# Use the same version range as defined in the sentiment analysis\n",
    "print(f\"Analyzing developer responses for version range {min_version} to {max_version}\")\n",
    "\n",
    "# Check if we have response data\n",
    "if 'repliedAt' in custom_version_range_df.columns:\n",
    "    # Check response rate for this version range\n",
    "    has_response = custom_version_range_df['repliedAt'].notna()\n",
    "    response_count = has_response.sum()\n",
    "    response_rate = response_count / len(custom_version_range_df) * 100\n",
    "    \n",
    "    print(f\"\\nDeveloper response rate for versions {min_version} to {max_version}: {response_count}/{len(custom_version_range_df)} ({response_rate:.2f}%)\")\n",
    "    \n",
    "    # Create binary response column for analysis\n",
    "    custom_version_range_df['has_response'] = has_response\n",
    "    \n",
    "    # Compare with overall response rate\n",
    "    overall_response_count = analyzed_df['repliedAt'].notna().sum()\n",
    "    overall_response_rate = overall_response_count / len(analyzed_df) * 100\n",
    "    \n",
    "    print(f\"Overall developer response rate (all versions): {overall_response_count}/{len(analyzed_df)} ({overall_response_rate:.2f}%)\")\n",
    "    \n",
    "    # Calculate difference\n",
    "    diff = response_rate - overall_response_rate\n",
    "    direction = \"higher\" if diff > 0 else \"lower\"\n",
    "    print(f\"Response rate is {abs(diff):.2f}% {direction} for this version range compared to all versions\")\n",
    "    \n",
    "    # Compare ratings for responded vs non-responded reviews in this version range\n",
    "    if 'rating' in custom_version_range_df.columns:\n",
    "        rating_by_response = custom_version_range_df.groupby('has_response')['rating'].agg(['mean', 'count']).reset_index()\n",
    "        rating_by_response.columns = ['has_response', 'avg_rating', 'count']\n",
    "        rating_by_response['avg_rating'] = rating_by_response['avg_rating'].round(2)\n",
    "        rating_by_response['has_response'] = rating_by_response['has_response'].map({True: 'Responded', False: 'Not Responded'})\n",
    "        \n",
    "        print(\"\\nAverage rating by developer response (versions {min_version} to {max_version}):\")\n",
    "        display(rating_by_response)\n",
    "    \n",
    "    # Analyze responses by specific version within the range\n",
    "    # Get the top 5 versions by review count within this range\n",
    "    top_versions = custom_version_range_df['version'].value_counts().head(5)\n",
    "    \n",
    "    # Calculate response rate by version\n",
    "    response_by_version = custom_version_range_df.groupby('version')['has_response'].agg(['mean', 'sum', 'count']).reset_index()\n",
    "    response_by_version.columns = ['version', 'response_rate', 'responded', 'total']\n",
    "    response_by_version['response_rate'] = (response_by_version['response_rate'] * 100).round(1)\n",
    "    \n",
    "    # Filter to top versions and sort by response rate\n",
    "    top_version_response = response_by_version[response_by_version['version'].isin(top_versions.index)]\n",
    "    top_version_response = top_version_response.sort_values('response_rate', ascending=False)\n",
    "    \n",
    "    print(f\"\\nResponse rate by top versions within {min_version} to {max_version}:\")\n",
    "    display(top_version_response)\n",
    "    \n",
    "    # Check for responses to negative reviews in this version range\n",
    "    if 'rating' in custom_version_range_df.columns:\n",
    "        # Define negative ratings (1-2 stars)\n",
    "        negative_reviews = custom_version_range_df[custom_version_range_df['rating'] <= 2]\n",
    "        negative_count = len(negative_reviews)\n",
    "        \n",
    "        if negative_count > 0:\n",
    "            negative_response_count = negative_reviews['has_response'].sum()\n",
    "            negative_response_rate = negative_response_count / negative_count * 100\n",
    "            \n",
    "            print(f\"\\nResponse rate to negative reviews (1-2 stars) in this version range: {negative_response_count}/{negative_count} ({negative_response_rate:.2f}%)\")\n",
    "            \n",
    "            # Compare to positive reviews\n",
    "            positive_reviews = custom_version_range_df[custom_version_range_df['rating'] >= 4]\n",
    "            positive_count = len(positive_reviews)\n",
    "            \n",
    "            if positive_count > 0:\n",
    "                positive_response_count = positive_reviews['has_response'].sum()\n",
    "                positive_response_rate = positive_response_count / positive_count * 100\n",
    "                \n",
    "                print(f\"Response rate to positive reviews (4-5 stars) in this version range: {positive_response_count}/{positive_count} ({positive_response_rate:.2f}%)\")\n",
    "                \n",
    "                # Calculate ratio of response rates\n",
    "                if positive_response_rate > 0:\n",
    "                    ratio = negative_response_rate / positive_response_rate\n",
    "                    print(f\"Negative reviews are {ratio:.1f}x more likely to receive a response than positive reviews\")\n",
    "    \n",
    "    # Create visualizations for response analysis\n",
    "    import plotly.express as px\n",
    "    import plotly.graph_objects as go\n",
    "    from plotly.subplots import make_subplots\n",
    "    \n",
    "    # 1. Response rate by version bar chart\n",
    "    if len(top_version_response) > 0:\n",
    "        fig = px.bar(\n",
    "            top_version_response,\n",
    "            x='version',\n",
    "            y='response_rate',\n",
    "            title=f\"Developer Response Rate by Version ({min_version} to {max_version})\",\n",
    "            labels={'version': 'App Version', 'response_rate': 'Response Rate (%)'},\n",
    "            text=top_version_response['response_rate'].apply(lambda x: f\"{x:.1f}%\"),\n",
    "            color='response_rate',\n",
    "            color_continuous_scale='Blues'\n",
    "        )\n",
    "        \n",
    "        # Add review counts\n",
    "        fig.add_trace(\n",
    "            go.Scatter(\n",
    "                x=top_version_response['version'],\n",
    "                y=[0] * len(top_version_response),  # Position at the bottom\n",
    "                text=top_version_response['total'].apply(lambda x: f\"n={int(x)}\"),\n",
    "                mode=\"text\",\n",
    "                showlegend=False\n",
    "            )\n",
    "        )\n",
    "        \n",
    "        # Update layout\n",
    "        fig.update_layout(\n",
    "            height=500,\n",
    "            yaxis=dict(range=[-5, max(top_version_response['response_rate']) * 1.1])\n",
    "        )\n",
    "        \n",
    "        # Show figure\n",
    "        fig.show()\n",
    "    \n",
    "    # 2. Response rate by rating\n",
    "    if 'rating' in custom_version_range_df.columns:\n",
    "        response_by_rating = custom_version_range_df.groupby('rating')['has_response'].agg(['mean', 'sum', 'count']).reset_index()\n",
    "        response_by_rating.columns = ['rating', 'response_rate', 'responded', 'total']\n",
    "        response_by_rating['response_rate'] = (response_by_rating['response_rate'] * 100).round(1)\n",
    "        \n",
    "        # Create bar chart\n",
    "        fig2 = px.bar(\n",
    "            response_by_rating,\n",
    "            x='rating',\n",
    "            y='response_rate',\n",
    "            title=f\"Developer Response Rate by Rating ({min_version} to {max_version})\",\n",
    "            labels={'rating': 'Rating', 'response_rate': 'Response Rate (%)'},\n",
    "            text=response_by_rating['response_rate'].apply(lambda x: f\"{x:.1f}%\"),\n",
    "            color='response_rate',\n",
    "            color_continuous_scale='Blues'\n",
    "        )\n",
    "        \n",
    "        # Add review counts\n",
    "        fig2.add_trace(\n",
    "            go.Scatter(\n",
    "                x=response_by_rating['rating'],\n",
    "                y=[0] * len(response_by_rating),  # Position at the bottom\n",
    "                text=response_by_rating['total'].apply(lambda x: f\"n={int(x)}\"),\n",
    "                mode=\"text\",\n",
    "                showlegend=False\n",
    "            )\n",
    "        )\n",
    "        \n",
    "        # Update layout\n",
    "        fig2.update_layout(\n",
    "            height=500,\n",
    "            yaxis=dict(range=[-5, max(response_by_rating['response_rate']) * 1.1]),\n",
    "            xaxis=dict(\n",
    "                tickmode='array',\n",
    "                tickvals=[1, 2, 3, 4, 5],\n",
    "                ticktext=['1 ★', '2 ★', '3 ★', '4 ★', '5 ★']\n",
    "            )\n",
    "        )\n",
    "        \n",
    "        # Show figure\n",
    "        fig2.show()\n",
    "    \n",
    "    # 3. Pie chart comparison of response vs non-response\n",
    "    response_distribution = custom_version_range_df['has_response'].value_counts()\n",
    "    response_labels = ['Responded', 'Not Responded']\n",
    "    response_values = [response_distribution.get(True, 0), response_distribution.get(False, 0)]\n",
    "    \n",
    "    fig3 = px.pie(\n",
    "        values=response_values,\n",
    "        names=response_labels,\n",
    "        title=f\"Developer Response Distribution ({min_version} to {max_version})\",\n",
    "        color=response_labels,\n",
    "        color_discrete_map={'Responded': 'darkblue', 'Not Responded': 'lightgray'},\n",
    "        hole=0.4\n",
    "    )\n",
    "    \n",
    "    # Add annotation in the center\n",
    "    fig3.add_annotation(\n",
    "        text=f\"{response_rate:.1f}%<br>Response Rate\",\n",
    "        x=0.5, y=0.5,\n",
    "        font_size=14,\n",
    "        showarrow=False\n",
    "    )\n",
    "    \n",
    "    # Show figure\n",
    "    fig3.show()\n",
    "    \n",
    "    # Examine replyContent sample if available (only from this version range)\n",
    "    if 'replyContent' in custom_version_range_df.columns:\n",
    "        replied_reviews = custom_version_range_df[custom_version_range_df['replyContent'].notna()]\n",
    "        reply_sample_count = min(3, len(replied_reviews))\n",
    "        \n",
    "        if reply_sample_count > 0:\n",
    "            print(f\"\\nSample developer replies for versions {min_version} to {max_version}:\")\n",
    "            \n",
    "            # Sample from different ratings if possible\n",
    "            sampled_replies = []\n",
    "            for rating in sorted(replied_reviews['rating'].unique()):\n",
    "                rating_replies = replied_reviews[replied_reviews['rating'] == rating]\n",
    "                if len(rating_replies) > 0:\n",
    "                    # Take one sample from each rating\n",
    "                    sampled_replies.append(rating_replies.sample(1))\n",
    "            \n",
    "            # Combine samples (up to 3)\n",
    "            sample_df = pd.concat(sampled_replies)[:3]\n",
    "            \n",
    "            # Show rating, review text, and reply\n",
    "            for _, row in sample_df.iterrows():\n",
    "                version = row.get('version', 'N/A')\n",
    "                print(f\"\\nVersion: {version}, Rating: {row.get('rating', 'N/A')}\")\n",
    "                print(f\"Review: {row.get('text', 'N/A')[:100]}...\" if len(row.get('text', '')) > 100 else f\"Review: {row.get('text', 'N/A')}\")\n",
    "                print(f\"Reply: {row.get('replyContent', 'N/A')[:100]}...\" if len(row.get('replyContent', '')) > 100 else f\"Reply: {row.get('replyContent', 'N/A')}\")\n",
    "else:\n",
    "    print(\"No developer response data (repliedAt column) found in the dataset.\")"
   ]
  },
  {
   "cell_type": "markdown",
   "metadata": {},
   "source": [
    "### Version Evolution Analysis\n",
    "\n",
    "By analyzing how ratings and sentiment have changed across major version updates, we can understand the app's improvement trajectory and identify which releases had the most positive or negative impact."
   ]
  },
  {
   "cell_type": "code",
   "execution_count": 33,
   "metadata": {},
   "outputs": [
    {
     "name": "stdout",
     "output_type": "stream",
     "text": [
      "\n",
      "=== Version Evolution Analysis for Selected Range ===\n",
      "Analyzing version evolution for range 6.0.0 to 8.0.0\n",
      "Found 6004 reviews in the selected version range\n",
      "\n",
      "Found 19 unique versions in the selected range\n",
      "Top 10 versions by review count:\n"
     ]
    },
    {
     "data": {
      "text/html": [
       "<div>\n",
       "<style scoped>\n",
       "    .dataframe tbody tr th:only-of-type {\n",
       "        vertical-align: middle;\n",
       "    }\n",
       "\n",
       "    .dataframe tbody tr th {\n",
       "        vertical-align: top;\n",
       "    }\n",
       "\n",
       "    .dataframe thead th {\n",
       "        text-align: right;\n",
       "    }\n",
       "</style>\n",
       "<table border=\"1\" class=\"dataframe\">\n",
       "  <thead>\n",
       "    <tr style=\"text-align: right;\">\n",
       "      <th></th>\n",
       "      <th>count</th>\n",
       "      <th>count</th>\n",
       "    </tr>\n",
       "  </thead>\n",
       "  <tbody>\n",
       "    <tr>\n",
       "      <th>0</th>\n",
       "      <td>6.0.6</td>\n",
       "      <td>1161</td>\n",
       "    </tr>\n",
       "    <tr>\n",
       "      <th>1</th>\n",
       "      <td>6.0.3</td>\n",
       "      <td>946</td>\n",
       "    </tr>\n",
       "    <tr>\n",
       "      <th>2</th>\n",
       "      <td>6.0.4</td>\n",
       "      <td>832</td>\n",
       "    </tr>\n",
       "    <tr>\n",
       "      <th>3</th>\n",
       "      <td>6.0.2</td>\n",
       "      <td>513</td>\n",
       "    </tr>\n",
       "    <tr>\n",
       "      <th>4</th>\n",
       "      <td>6.0.1</td>\n",
       "      <td>437</td>\n",
       "    </tr>\n",
       "    <tr>\n",
       "      <th>5</th>\n",
       "      <td>6.0.5</td>\n",
       "      <td>382</td>\n",
       "    </tr>\n",
       "    <tr>\n",
       "      <th>6</th>\n",
       "      <td>7.0.7</td>\n",
       "      <td>348</td>\n",
       "    </tr>\n",
       "    <tr>\n",
       "      <th>7</th>\n",
       "      <td>7.0.9</td>\n",
       "      <td>323</td>\n",
       "    </tr>\n",
       "    <tr>\n",
       "      <th>8</th>\n",
       "      <td>6.0.0</td>\n",
       "      <td>315</td>\n",
       "    </tr>\n",
       "    <tr>\n",
       "      <th>9</th>\n",
       "      <td>7.2.0</td>\n",
       "      <td>307</td>\n",
       "    </tr>\n",
       "  </tbody>\n",
       "</table>\n",
       "</div>"
      ],
      "text/plain": [
       "   count  count\n",
       "0  6.0.6   1161\n",
       "1  6.0.3    946\n",
       "2  6.0.4    832\n",
       "3  6.0.2    513\n",
       "4  6.0.1    437\n",
       "5  6.0.5    382\n",
       "6  7.0.7    348\n",
       "7  7.0.9    323\n",
       "8  6.0.0    315\n",
       "9  7.2.0    307"
      ]
     },
     "metadata": {},
     "output_type": "display_data"
    },
    {
     "data": {
      "application/vnd.plotly.v1+json": {
       "config": {
        "plotlyServerURL": "https://plot.ly"
       },
       "data": [
        {
         "hovertemplate": "App Version=%{x}<br>Number of Reviews=%{y}<br>color=%{marker.color}<extra></extra>",
         "legendgroup": "",
         "marker": {
          "color": {
           "bdata": "iQSyA0ADAQK1AX4BXAFDATsBMwGhAHcAUwA5AA0A",
           "dtype": "i2"
          },
          "coloraxis": "coloraxis",
          "pattern": {
           "shape": ""
          }
         },
         "name": "",
         "orientation": "v",
         "showlegend": false,
         "textposition": "auto",
         "type": "bar",
         "x": [
          "6.0.6",
          "6.0.3",
          "6.0.4",
          "6.0.2",
          "6.0.1",
          "6.0.5",
          "7.0.7",
          "7.0.9",
          "6.0.0",
          "7.2.0",
          "7.0.8",
          "7.2.3",
          "7.2.2",
          "7.2.4",
          "7.0.3"
         ],
         "xaxis": "x",
         "y": {
          "bdata": "iQSyA0ADAQK1AX4BXAFDATsBMwGhAHcAUwA5AA0A",
          "dtype": "i2"
         },
         "yaxis": "y"
        }
       ],
       "layout": {
        "barmode": "relative",
        "coloraxis": {
         "colorbar": {
          "title": {
           "text": "Review Count"
          }
         },
         "colorscale": [
          [
           0,
           "#440154"
          ],
          [
           0.1111111111111111,
           "#482878"
          ],
          [
           0.2222222222222222,
           "#3e4989"
          ],
          [
           0.3333333333333333,
           "#31688e"
          ],
          [
           0.4444444444444444,
           "#26828e"
          ],
          [
           0.5555555555555556,
           "#1f9e89"
          ],
          [
           0.6666666666666666,
           "#35b779"
          ],
          [
           0.7777777777777778,
           "#6ece58"
          ],
          [
           0.8888888888888888,
           "#b5de2b"
          ],
          [
           1,
           "#fde725"
          ]
         ]
        },
        "height": 500,
        "legend": {
         "tracegroupgap": 0
        },
        "template": {
         "data": {
          "bar": [
           {
            "error_x": {
             "color": "#2a3f5f"
            },
            "error_y": {
             "color": "#2a3f5f"
            },
            "marker": {
             "line": {
              "color": "#E5ECF6",
              "width": 0.5
             },
             "pattern": {
              "fillmode": "overlay",
              "size": 10,
              "solidity": 0.2
             }
            },
            "type": "bar"
           }
          ],
          "barpolar": [
           {
            "marker": {
             "line": {
              "color": "#E5ECF6",
              "width": 0.5
             },
             "pattern": {
              "fillmode": "overlay",
              "size": 10,
              "solidity": 0.2
             }
            },
            "type": "barpolar"
           }
          ],
          "carpet": [
           {
            "aaxis": {
             "endlinecolor": "#2a3f5f",
             "gridcolor": "white",
             "linecolor": "white",
             "minorgridcolor": "white",
             "startlinecolor": "#2a3f5f"
            },
            "baxis": {
             "endlinecolor": "#2a3f5f",
             "gridcolor": "white",
             "linecolor": "white",
             "minorgridcolor": "white",
             "startlinecolor": "#2a3f5f"
            },
            "type": "carpet"
           }
          ],
          "choropleth": [
           {
            "colorbar": {
             "outlinewidth": 0,
             "ticks": ""
            },
            "type": "choropleth"
           }
          ],
          "contour": [
           {
            "colorbar": {
             "outlinewidth": 0,
             "ticks": ""
            },
            "colorscale": [
             [
              0,
              "#0d0887"
             ],
             [
              0.1111111111111111,
              "#46039f"
             ],
             [
              0.2222222222222222,
              "#7201a8"
             ],
             [
              0.3333333333333333,
              "#9c179e"
             ],
             [
              0.4444444444444444,
              "#bd3786"
             ],
             [
              0.5555555555555556,
              "#d8576b"
             ],
             [
              0.6666666666666666,
              "#ed7953"
             ],
             [
              0.7777777777777778,
              "#fb9f3a"
             ],
             [
              0.8888888888888888,
              "#fdca26"
             ],
             [
              1,
              "#f0f921"
             ]
            ],
            "type": "contour"
           }
          ],
          "contourcarpet": [
           {
            "colorbar": {
             "outlinewidth": 0,
             "ticks": ""
            },
            "type": "contourcarpet"
           }
          ],
          "heatmap": [
           {
            "colorbar": {
             "outlinewidth": 0,
             "ticks": ""
            },
            "colorscale": [
             [
              0,
              "#0d0887"
             ],
             [
              0.1111111111111111,
              "#46039f"
             ],
             [
              0.2222222222222222,
              "#7201a8"
             ],
             [
              0.3333333333333333,
              "#9c179e"
             ],
             [
              0.4444444444444444,
              "#bd3786"
             ],
             [
              0.5555555555555556,
              "#d8576b"
             ],
             [
              0.6666666666666666,
              "#ed7953"
             ],
             [
              0.7777777777777778,
              "#fb9f3a"
             ],
             [
              0.8888888888888888,
              "#fdca26"
             ],
             [
              1,
              "#f0f921"
             ]
            ],
            "type": "heatmap"
           }
          ],
          "histogram": [
           {
            "marker": {
             "pattern": {
              "fillmode": "overlay",
              "size": 10,
              "solidity": 0.2
             }
            },
            "type": "histogram"
           }
          ],
          "histogram2d": [
           {
            "colorbar": {
             "outlinewidth": 0,
             "ticks": ""
            },
            "colorscale": [
             [
              0,
              "#0d0887"
             ],
             [
              0.1111111111111111,
              "#46039f"
             ],
             [
              0.2222222222222222,
              "#7201a8"
             ],
             [
              0.3333333333333333,
              "#9c179e"
             ],
             [
              0.4444444444444444,
              "#bd3786"
             ],
             [
              0.5555555555555556,
              "#d8576b"
             ],
             [
              0.6666666666666666,
              "#ed7953"
             ],
             [
              0.7777777777777778,
              "#fb9f3a"
             ],
             [
              0.8888888888888888,
              "#fdca26"
             ],
             [
              1,
              "#f0f921"
             ]
            ],
            "type": "histogram2d"
           }
          ],
          "histogram2dcontour": [
           {
            "colorbar": {
             "outlinewidth": 0,
             "ticks": ""
            },
            "colorscale": [
             [
              0,
              "#0d0887"
             ],
             [
              0.1111111111111111,
              "#46039f"
             ],
             [
              0.2222222222222222,
              "#7201a8"
             ],
             [
              0.3333333333333333,
              "#9c179e"
             ],
             [
              0.4444444444444444,
              "#bd3786"
             ],
             [
              0.5555555555555556,
              "#d8576b"
             ],
             [
              0.6666666666666666,
              "#ed7953"
             ],
             [
              0.7777777777777778,
              "#fb9f3a"
             ],
             [
              0.8888888888888888,
              "#fdca26"
             ],
             [
              1,
              "#f0f921"
             ]
            ],
            "type": "histogram2dcontour"
           }
          ],
          "mesh3d": [
           {
            "colorbar": {
             "outlinewidth": 0,
             "ticks": ""
            },
            "type": "mesh3d"
           }
          ],
          "parcoords": [
           {
            "line": {
             "colorbar": {
              "outlinewidth": 0,
              "ticks": ""
             }
            },
            "type": "parcoords"
           }
          ],
          "pie": [
           {
            "automargin": true,
            "type": "pie"
           }
          ],
          "scatter": [
           {
            "fillpattern": {
             "fillmode": "overlay",
             "size": 10,
             "solidity": 0.2
            },
            "type": "scatter"
           }
          ],
          "scatter3d": [
           {
            "line": {
             "colorbar": {
              "outlinewidth": 0,
              "ticks": ""
             }
            },
            "marker": {
             "colorbar": {
              "outlinewidth": 0,
              "ticks": ""
             }
            },
            "type": "scatter3d"
           }
          ],
          "scattercarpet": [
           {
            "marker": {
             "colorbar": {
              "outlinewidth": 0,
              "ticks": ""
             }
            },
            "type": "scattercarpet"
           }
          ],
          "scattergeo": [
           {
            "marker": {
             "colorbar": {
              "outlinewidth": 0,
              "ticks": ""
             }
            },
            "type": "scattergeo"
           }
          ],
          "scattergl": [
           {
            "marker": {
             "colorbar": {
              "outlinewidth": 0,
              "ticks": ""
             }
            },
            "type": "scattergl"
           }
          ],
          "scattermap": [
           {
            "marker": {
             "colorbar": {
              "outlinewidth": 0,
              "ticks": ""
             }
            },
            "type": "scattermap"
           }
          ],
          "scattermapbox": [
           {
            "marker": {
             "colorbar": {
              "outlinewidth": 0,
              "ticks": ""
             }
            },
            "type": "scattermapbox"
           }
          ],
          "scatterpolar": [
           {
            "marker": {
             "colorbar": {
              "outlinewidth": 0,
              "ticks": ""
             }
            },
            "type": "scatterpolar"
           }
          ],
          "scatterpolargl": [
           {
            "marker": {
             "colorbar": {
              "outlinewidth": 0,
              "ticks": ""
             }
            },
            "type": "scatterpolargl"
           }
          ],
          "scatterternary": [
           {
            "marker": {
             "colorbar": {
              "outlinewidth": 0,
              "ticks": ""
             }
            },
            "type": "scatterternary"
           }
          ],
          "surface": [
           {
            "colorbar": {
             "outlinewidth": 0,
             "ticks": ""
            },
            "colorscale": [
             [
              0,
              "#0d0887"
             ],
             [
              0.1111111111111111,
              "#46039f"
             ],
             [
              0.2222222222222222,
              "#7201a8"
             ],
             [
              0.3333333333333333,
              "#9c179e"
             ],
             [
              0.4444444444444444,
              "#bd3786"
             ],
             [
              0.5555555555555556,
              "#d8576b"
             ],
             [
              0.6666666666666666,
              "#ed7953"
             ],
             [
              0.7777777777777778,
              "#fb9f3a"
             ],
             [
              0.8888888888888888,
              "#fdca26"
             ],
             [
              1,
              "#f0f921"
             ]
            ],
            "type": "surface"
           }
          ],
          "table": [
           {
            "cells": {
             "fill": {
              "color": "#EBF0F8"
             },
             "line": {
              "color": "white"
             }
            },
            "header": {
             "fill": {
              "color": "#C8D4E3"
             },
             "line": {
              "color": "white"
             }
            },
            "type": "table"
           }
          ]
         },
         "layout": {
          "annotationdefaults": {
           "arrowcolor": "#2a3f5f",
           "arrowhead": 0,
           "arrowwidth": 1
          },
          "autotypenumbers": "strict",
          "coloraxis": {
           "colorbar": {
            "outlinewidth": 0,
            "ticks": ""
           }
          },
          "colorscale": {
           "diverging": [
            [
             0,
             "#8e0152"
            ],
            [
             0.1,
             "#c51b7d"
            ],
            [
             0.2,
             "#de77ae"
            ],
            [
             0.3,
             "#f1b6da"
            ],
            [
             0.4,
             "#fde0ef"
            ],
            [
             0.5,
             "#f7f7f7"
            ],
            [
             0.6,
             "#e6f5d0"
            ],
            [
             0.7,
             "#b8e186"
            ],
            [
             0.8,
             "#7fbc41"
            ],
            [
             0.9,
             "#4d9221"
            ],
            [
             1,
             "#276419"
            ]
           ],
           "sequential": [
            [
             0,
             "#0d0887"
            ],
            [
             0.1111111111111111,
             "#46039f"
            ],
            [
             0.2222222222222222,
             "#7201a8"
            ],
            [
             0.3333333333333333,
             "#9c179e"
            ],
            [
             0.4444444444444444,
             "#bd3786"
            ],
            [
             0.5555555555555556,
             "#d8576b"
            ],
            [
             0.6666666666666666,
             "#ed7953"
            ],
            [
             0.7777777777777778,
             "#fb9f3a"
            ],
            [
             0.8888888888888888,
             "#fdca26"
            ],
            [
             1,
             "#f0f921"
            ]
           ],
           "sequentialminus": [
            [
             0,
             "#0d0887"
            ],
            [
             0.1111111111111111,
             "#46039f"
            ],
            [
             0.2222222222222222,
             "#7201a8"
            ],
            [
             0.3333333333333333,
             "#9c179e"
            ],
            [
             0.4444444444444444,
             "#bd3786"
            ],
            [
             0.5555555555555556,
             "#d8576b"
            ],
            [
             0.6666666666666666,
             "#ed7953"
            ],
            [
             0.7777777777777778,
             "#fb9f3a"
            ],
            [
             0.8888888888888888,
             "#fdca26"
            ],
            [
             1,
             "#f0f921"
            ]
           ]
          },
          "colorway": [
           "#636efa",
           "#EF553B",
           "#00cc96",
           "#ab63fa",
           "#FFA15A",
           "#19d3f3",
           "#FF6692",
           "#B6E880",
           "#FF97FF",
           "#FECB52"
          ],
          "font": {
           "color": "#2a3f5f"
          },
          "geo": {
           "bgcolor": "white",
           "lakecolor": "white",
           "landcolor": "#E5ECF6",
           "showlakes": true,
           "showland": true,
           "subunitcolor": "white"
          },
          "hoverlabel": {
           "align": "left"
          },
          "hovermode": "closest",
          "mapbox": {
           "style": "light"
          },
          "paper_bgcolor": "white",
          "plot_bgcolor": "#E5ECF6",
          "polar": {
           "angularaxis": {
            "gridcolor": "white",
            "linecolor": "white",
            "ticks": ""
           },
           "bgcolor": "#E5ECF6",
           "radialaxis": {
            "gridcolor": "white",
            "linecolor": "white",
            "ticks": ""
           }
          },
          "scene": {
           "xaxis": {
            "backgroundcolor": "#E5ECF6",
            "gridcolor": "white",
            "gridwidth": 2,
            "linecolor": "white",
            "showbackground": true,
            "ticks": "",
            "zerolinecolor": "white"
           },
           "yaxis": {
            "backgroundcolor": "#E5ECF6",
            "gridcolor": "white",
            "gridwidth": 2,
            "linecolor": "white",
            "showbackground": true,
            "ticks": "",
            "zerolinecolor": "white"
           },
           "zaxis": {
            "backgroundcolor": "#E5ECF6",
            "gridcolor": "white",
            "gridwidth": 2,
            "linecolor": "white",
            "showbackground": true,
            "ticks": "",
            "zerolinecolor": "white"
           }
          },
          "shapedefaults": {
           "line": {
            "color": "#2a3f5f"
           }
          },
          "ternary": {
           "aaxis": {
            "gridcolor": "white",
            "linecolor": "white",
            "ticks": ""
           },
           "baxis": {
            "gridcolor": "white",
            "linecolor": "white",
            "ticks": ""
           },
           "bgcolor": "#E5ECF6",
           "caxis": {
            "gridcolor": "white",
            "linecolor": "white",
            "ticks": ""
           }
          },
          "title": {
           "x": 0.05
          },
          "xaxis": {
           "automargin": true,
           "gridcolor": "white",
           "linecolor": "white",
           "ticks": "",
           "title": {
            "standoff": 15
           },
           "zerolinecolor": "white",
           "zerolinewidth": 2
          },
          "yaxis": {
           "automargin": true,
           "gridcolor": "white",
           "linecolor": "white",
           "ticks": "",
           "title": {
            "standoff": 15
           },
           "zerolinecolor": "white",
           "zerolinewidth": 2
          }
         }
        },
        "title": {
         "text": "Review Distribution by Version (6.0.0 to 8.0.0)"
        },
        "xaxis": {
         "anchor": "y",
         "domain": [
          0,
          1
         ],
         "title": {
          "text": "App Version"
         }
        },
        "yaxis": {
         "anchor": "x",
         "domain": [
          0,
          1
         ],
         "title": {
          "text": "Number of Reviews"
         }
        }
       }
      }
     },
     "metadata": {},
     "output_type": "display_data"
    },
    {
     "data": {
      "application/vnd.plotly.v1+json": {
       "config": {
        "plotlyServerURL": "https://plot.ly"
       },
       "data": [
        {
         "marker": {
          "color": "rgba(55, 83, 109, 0.7)"
         },
         "name": "Average Rating",
         "text": {
          "bdata": "exSuR+F6DEBmZmZmZmYOQD0K16NwPQ5A4XoUrkfhCkBI4XoUrkcLQEjhehSuRw9APQrXo3A9/j/2KFyPwvX8P9ejcD0K1wVAXI/C9Shc/z9cj8L1KFz/P3E9CtejcP0/uB6F61G4/j8AAAAAAAD8P6RwPQrXowBA",
          "dtype": "f8"
         },
         "textposition": "auto",
         "type": "bar",
         "x": [
          "6.0.6",
          "6.0.3",
          "6.0.4",
          "6.0.2",
          "6.0.1",
          "6.0.5",
          "7.0.7",
          "7.0.9",
          "6.0.0",
          "7.2.0",
          "7.0.8",
          "7.2.3",
          "7.2.2",
          "7.2.4",
          "7.0.3"
         ],
         "xaxis": "x",
         "y": {
          "bdata": "exSuR+F6DEBmZmZmZmYOQD0K16NwPQ5A4XoUrkfhCkBI4XoUrkcLQEjhehSuRw9APQrXo3A9/j/2KFyPwvX8P9ejcD0K1wVAXI/C9Shc/z9cj8L1KFz/P3E9CtejcP0/uB6F61G4/j8AAAAAAAD8P6RwPQrXowBA",
          "dtype": "f8"
         },
         "yaxis": "y"
        },
        {
         "line": {
          "dash": "dot",
          "width": 1
         },
         "marker": {
          "color": "red",
          "size": 10
         },
         "mode": "markers+lines",
         "name": "Review Count",
         "type": "scatter",
         "x": [
          "6.0.6",
          "6.0.3",
          "6.0.4",
          "6.0.2",
          "6.0.1",
          "6.0.5",
          "7.0.7",
          "7.0.9",
          "6.0.0",
          "7.2.0",
          "7.0.8",
          "7.2.3",
          "7.2.2",
          "7.2.4",
          "7.0.3"
         ],
         "xaxis": "x",
         "y": {
          "bdata": "iQSyA0ADAQK1AX4BXAFDATsBMwGhAHcAUwA5AA0A",
          "dtype": "i2"
         },
         "yaxis": "y2"
        }
       ],
       "layout": {
        "annotations": [
         {
          "showarrow": false,
          "text": "Neutral (3.0)",
          "x": 1,
          "xanchor": "right",
          "xref": "x domain",
          "y": 3,
          "yanchor": "bottom",
          "yref": "y"
         }
        ],
        "height": 500,
        "legend": {
         "orientation": "h",
         "x": 1,
         "xanchor": "right",
         "y": 1.02,
         "yanchor": "bottom"
        },
        "shapes": [
         {
          "line": {
           "color": "grey",
           "dash": "dash"
          },
          "type": "line",
          "x0": 0,
          "x1": 1,
          "xref": "x domain",
          "y0": 3,
          "y1": 3,
          "yref": "y"
         }
        ],
        "template": {
         "data": {
          "bar": [
           {
            "error_x": {
             "color": "#2a3f5f"
            },
            "error_y": {
             "color": "#2a3f5f"
            },
            "marker": {
             "line": {
              "color": "#E5ECF6",
              "width": 0.5
             },
             "pattern": {
              "fillmode": "overlay",
              "size": 10,
              "solidity": 0.2
             }
            },
            "type": "bar"
           }
          ],
          "barpolar": [
           {
            "marker": {
             "line": {
              "color": "#E5ECF6",
              "width": 0.5
             },
             "pattern": {
              "fillmode": "overlay",
              "size": 10,
              "solidity": 0.2
             }
            },
            "type": "barpolar"
           }
          ],
          "carpet": [
           {
            "aaxis": {
             "endlinecolor": "#2a3f5f",
             "gridcolor": "white",
             "linecolor": "white",
             "minorgridcolor": "white",
             "startlinecolor": "#2a3f5f"
            },
            "baxis": {
             "endlinecolor": "#2a3f5f",
             "gridcolor": "white",
             "linecolor": "white",
             "minorgridcolor": "white",
             "startlinecolor": "#2a3f5f"
            },
            "type": "carpet"
           }
          ],
          "choropleth": [
           {
            "colorbar": {
             "outlinewidth": 0,
             "ticks": ""
            },
            "type": "choropleth"
           }
          ],
          "contour": [
           {
            "colorbar": {
             "outlinewidth": 0,
             "ticks": ""
            },
            "colorscale": [
             [
              0,
              "#0d0887"
             ],
             [
              0.1111111111111111,
              "#46039f"
             ],
             [
              0.2222222222222222,
              "#7201a8"
             ],
             [
              0.3333333333333333,
              "#9c179e"
             ],
             [
              0.4444444444444444,
              "#bd3786"
             ],
             [
              0.5555555555555556,
              "#d8576b"
             ],
             [
              0.6666666666666666,
              "#ed7953"
             ],
             [
              0.7777777777777778,
              "#fb9f3a"
             ],
             [
              0.8888888888888888,
              "#fdca26"
             ],
             [
              1,
              "#f0f921"
             ]
            ],
            "type": "contour"
           }
          ],
          "contourcarpet": [
           {
            "colorbar": {
             "outlinewidth": 0,
             "ticks": ""
            },
            "type": "contourcarpet"
           }
          ],
          "heatmap": [
           {
            "colorbar": {
             "outlinewidth": 0,
             "ticks": ""
            },
            "colorscale": [
             [
              0,
              "#0d0887"
             ],
             [
              0.1111111111111111,
              "#46039f"
             ],
             [
              0.2222222222222222,
              "#7201a8"
             ],
             [
              0.3333333333333333,
              "#9c179e"
             ],
             [
              0.4444444444444444,
              "#bd3786"
             ],
             [
              0.5555555555555556,
              "#d8576b"
             ],
             [
              0.6666666666666666,
              "#ed7953"
             ],
             [
              0.7777777777777778,
              "#fb9f3a"
             ],
             [
              0.8888888888888888,
              "#fdca26"
             ],
             [
              1,
              "#f0f921"
             ]
            ],
            "type": "heatmap"
           }
          ],
          "histogram": [
           {
            "marker": {
             "pattern": {
              "fillmode": "overlay",
              "size": 10,
              "solidity": 0.2
             }
            },
            "type": "histogram"
           }
          ],
          "histogram2d": [
           {
            "colorbar": {
             "outlinewidth": 0,
             "ticks": ""
            },
            "colorscale": [
             [
              0,
              "#0d0887"
             ],
             [
              0.1111111111111111,
              "#46039f"
             ],
             [
              0.2222222222222222,
              "#7201a8"
             ],
             [
              0.3333333333333333,
              "#9c179e"
             ],
             [
              0.4444444444444444,
              "#bd3786"
             ],
             [
              0.5555555555555556,
              "#d8576b"
             ],
             [
              0.6666666666666666,
              "#ed7953"
             ],
             [
              0.7777777777777778,
              "#fb9f3a"
             ],
             [
              0.8888888888888888,
              "#fdca26"
             ],
             [
              1,
              "#f0f921"
             ]
            ],
            "type": "histogram2d"
           }
          ],
          "histogram2dcontour": [
           {
            "colorbar": {
             "outlinewidth": 0,
             "ticks": ""
            },
            "colorscale": [
             [
              0,
              "#0d0887"
             ],
             [
              0.1111111111111111,
              "#46039f"
             ],
             [
              0.2222222222222222,
              "#7201a8"
             ],
             [
              0.3333333333333333,
              "#9c179e"
             ],
             [
              0.4444444444444444,
              "#bd3786"
             ],
             [
              0.5555555555555556,
              "#d8576b"
             ],
             [
              0.6666666666666666,
              "#ed7953"
             ],
             [
              0.7777777777777778,
              "#fb9f3a"
             ],
             [
              0.8888888888888888,
              "#fdca26"
             ],
             [
              1,
              "#f0f921"
             ]
            ],
            "type": "histogram2dcontour"
           }
          ],
          "mesh3d": [
           {
            "colorbar": {
             "outlinewidth": 0,
             "ticks": ""
            },
            "type": "mesh3d"
           }
          ],
          "parcoords": [
           {
            "line": {
             "colorbar": {
              "outlinewidth": 0,
              "ticks": ""
             }
            },
            "type": "parcoords"
           }
          ],
          "pie": [
           {
            "automargin": true,
            "type": "pie"
           }
          ],
          "scatter": [
           {
            "fillpattern": {
             "fillmode": "overlay",
             "size": 10,
             "solidity": 0.2
            },
            "type": "scatter"
           }
          ],
          "scatter3d": [
           {
            "line": {
             "colorbar": {
              "outlinewidth": 0,
              "ticks": ""
             }
            },
            "marker": {
             "colorbar": {
              "outlinewidth": 0,
              "ticks": ""
             }
            },
            "type": "scatter3d"
           }
          ],
          "scattercarpet": [
           {
            "marker": {
             "colorbar": {
              "outlinewidth": 0,
              "ticks": ""
             }
            },
            "type": "scattercarpet"
           }
          ],
          "scattergeo": [
           {
            "marker": {
             "colorbar": {
              "outlinewidth": 0,
              "ticks": ""
             }
            },
            "type": "scattergeo"
           }
          ],
          "scattergl": [
           {
            "marker": {
             "colorbar": {
              "outlinewidth": 0,
              "ticks": ""
             }
            },
            "type": "scattergl"
           }
          ],
          "scattermap": [
           {
            "marker": {
             "colorbar": {
              "outlinewidth": 0,
              "ticks": ""
             }
            },
            "type": "scattermap"
           }
          ],
          "scattermapbox": [
           {
            "marker": {
             "colorbar": {
              "outlinewidth": 0,
              "ticks": ""
             }
            },
            "type": "scattermapbox"
           }
          ],
          "scatterpolar": [
           {
            "marker": {
             "colorbar": {
              "outlinewidth": 0,
              "ticks": ""
             }
            },
            "type": "scatterpolar"
           }
          ],
          "scatterpolargl": [
           {
            "marker": {
             "colorbar": {
              "outlinewidth": 0,
              "ticks": ""
             }
            },
            "type": "scatterpolargl"
           }
          ],
          "scatterternary": [
           {
            "marker": {
             "colorbar": {
              "outlinewidth": 0,
              "ticks": ""
             }
            },
            "type": "scatterternary"
           }
          ],
          "surface": [
           {
            "colorbar": {
             "outlinewidth": 0,
             "ticks": ""
            },
            "colorscale": [
             [
              0,
              "#0d0887"
             ],
             [
              0.1111111111111111,
              "#46039f"
             ],
             [
              0.2222222222222222,
              "#7201a8"
             ],
             [
              0.3333333333333333,
              "#9c179e"
             ],
             [
              0.4444444444444444,
              "#bd3786"
             ],
             [
              0.5555555555555556,
              "#d8576b"
             ],
             [
              0.6666666666666666,
              "#ed7953"
             ],
             [
              0.7777777777777778,
              "#fb9f3a"
             ],
             [
              0.8888888888888888,
              "#fdca26"
             ],
             [
              1,
              "#f0f921"
             ]
            ],
            "type": "surface"
           }
          ],
          "table": [
           {
            "cells": {
             "fill": {
              "color": "#EBF0F8"
             },
             "line": {
              "color": "white"
             }
            },
            "header": {
             "fill": {
              "color": "#C8D4E3"
             },
             "line": {
              "color": "white"
             }
            },
            "type": "table"
           }
          ]
         },
         "layout": {
          "annotationdefaults": {
           "arrowcolor": "#2a3f5f",
           "arrowhead": 0,
           "arrowwidth": 1
          },
          "autotypenumbers": "strict",
          "coloraxis": {
           "colorbar": {
            "outlinewidth": 0,
            "ticks": ""
           }
          },
          "colorscale": {
           "diverging": [
            [
             0,
             "#8e0152"
            ],
            [
             0.1,
             "#c51b7d"
            ],
            [
             0.2,
             "#de77ae"
            ],
            [
             0.3,
             "#f1b6da"
            ],
            [
             0.4,
             "#fde0ef"
            ],
            [
             0.5,
             "#f7f7f7"
            ],
            [
             0.6,
             "#e6f5d0"
            ],
            [
             0.7,
             "#b8e186"
            ],
            [
             0.8,
             "#7fbc41"
            ],
            [
             0.9,
             "#4d9221"
            ],
            [
             1,
             "#276419"
            ]
           ],
           "sequential": [
            [
             0,
             "#0d0887"
            ],
            [
             0.1111111111111111,
             "#46039f"
            ],
            [
             0.2222222222222222,
             "#7201a8"
            ],
            [
             0.3333333333333333,
             "#9c179e"
            ],
            [
             0.4444444444444444,
             "#bd3786"
            ],
            [
             0.5555555555555556,
             "#d8576b"
            ],
            [
             0.6666666666666666,
             "#ed7953"
            ],
            [
             0.7777777777777778,
             "#fb9f3a"
            ],
            [
             0.8888888888888888,
             "#fdca26"
            ],
            [
             1,
             "#f0f921"
            ]
           ],
           "sequentialminus": [
            [
             0,
             "#0d0887"
            ],
            [
             0.1111111111111111,
             "#46039f"
            ],
            [
             0.2222222222222222,
             "#7201a8"
            ],
            [
             0.3333333333333333,
             "#9c179e"
            ],
            [
             0.4444444444444444,
             "#bd3786"
            ],
            [
             0.5555555555555556,
             "#d8576b"
            ],
            [
             0.6666666666666666,
             "#ed7953"
            ],
            [
             0.7777777777777778,
             "#fb9f3a"
            ],
            [
             0.8888888888888888,
             "#fdca26"
            ],
            [
             1,
             "#f0f921"
            ]
           ]
          },
          "colorway": [
           "#636efa",
           "#EF553B",
           "#00cc96",
           "#ab63fa",
           "#FFA15A",
           "#19d3f3",
           "#FF6692",
           "#B6E880",
           "#FF97FF",
           "#FECB52"
          ],
          "font": {
           "color": "#2a3f5f"
          },
          "geo": {
           "bgcolor": "white",
           "lakecolor": "white",
           "landcolor": "#E5ECF6",
           "showlakes": true,
           "showland": true,
           "subunitcolor": "white"
          },
          "hoverlabel": {
           "align": "left"
          },
          "hovermode": "closest",
          "mapbox": {
           "style": "light"
          },
          "paper_bgcolor": "white",
          "plot_bgcolor": "#E5ECF6",
          "polar": {
           "angularaxis": {
            "gridcolor": "white",
            "linecolor": "white",
            "ticks": ""
           },
           "bgcolor": "#E5ECF6",
           "radialaxis": {
            "gridcolor": "white",
            "linecolor": "white",
            "ticks": ""
           }
          },
          "scene": {
           "xaxis": {
            "backgroundcolor": "#E5ECF6",
            "gridcolor": "white",
            "gridwidth": 2,
            "linecolor": "white",
            "showbackground": true,
            "ticks": "",
            "zerolinecolor": "white"
           },
           "yaxis": {
            "backgroundcolor": "#E5ECF6",
            "gridcolor": "white",
            "gridwidth": 2,
            "linecolor": "white",
            "showbackground": true,
            "ticks": "",
            "zerolinecolor": "white"
           },
           "zaxis": {
            "backgroundcolor": "#E5ECF6",
            "gridcolor": "white",
            "gridwidth": 2,
            "linecolor": "white",
            "showbackground": true,
            "ticks": "",
            "zerolinecolor": "white"
           }
          },
          "shapedefaults": {
           "line": {
            "color": "#2a3f5f"
           }
          },
          "ternary": {
           "aaxis": {
            "gridcolor": "white",
            "linecolor": "white",
            "ticks": ""
           },
           "baxis": {
            "gridcolor": "white",
            "linecolor": "white",
            "ticks": ""
           },
           "bgcolor": "#E5ECF6",
           "caxis": {
            "gridcolor": "white",
            "linecolor": "white",
            "ticks": ""
           }
          },
          "title": {
           "x": 0.05
          },
          "xaxis": {
           "automargin": true,
           "gridcolor": "white",
           "linecolor": "white",
           "ticks": "",
           "title": {
            "standoff": 15
           },
           "zerolinecolor": "white",
           "zerolinewidth": 2
          },
          "yaxis": {
           "automargin": true,
           "gridcolor": "white",
           "linecolor": "white",
           "ticks": "",
           "title": {
            "standoff": 15
           },
           "zerolinecolor": "white",
           "zerolinewidth": 2
          }
         }
        },
        "title": {
         "text": "Average Rating and Review Count by Version (6.0.0 to 8.0.0)"
        },
        "xaxis": {
         "anchor": "y",
         "domain": [
          0,
          0.94
         ],
         "title": {
          "text": "App Version"
         }
        },
        "yaxis": {
         "anchor": "x",
         "domain": [
          0,
          1
         ],
         "range": [
          1,
          5
         ],
         "title": {
          "text": "Average Rating"
         }
        },
        "yaxis2": {
         "anchor": "x",
         "overlaying": "y",
         "side": "right",
         "title": {
          "text": "Number of Reviews"
         }
        }
       }
      }
     },
     "metadata": {},
     "output_type": "display_data"
    },
    {
     "name": "stdout",
     "output_type": "stream",
     "text": [
      "\n",
      "Rating trends for major version 7.0:\n"
     ]
    },
    {
     "data": {
      "text/html": [
       "<div>\n",
       "<style scoped>\n",
       "    .dataframe tbody tr th:only-of-type {\n",
       "        vertical-align: middle;\n",
       "    }\n",
       "\n",
       "    .dataframe tbody tr th {\n",
       "        vertical-align: top;\n",
       "    }\n",
       "\n",
       "    .dataframe thead th {\n",
       "        text-align: right;\n",
       "    }\n",
       "</style>\n",
       "<table border=\"1\" class=\"dataframe\">\n",
       "  <thead>\n",
       "    <tr style=\"text-align: right;\">\n",
       "      <th></th>\n",
       "      <th>minor_version</th>\n",
       "      <th>avg_rating</th>\n",
       "      <th>review_count</th>\n",
       "    </tr>\n",
       "  </thead>\n",
       "  <tbody>\n",
       "    <tr>\n",
       "      <th>0</th>\n",
       "      <td>0</td>\n",
       "      <td>1.88</td>\n",
       "      <td>850</td>\n",
       "    </tr>\n",
       "    <tr>\n",
       "      <th>2</th>\n",
       "      <td>2</td>\n",
       "      <td>1.91</td>\n",
       "      <td>567</td>\n",
       "    </tr>\n",
       "  </tbody>\n",
       "</table>\n",
       "</div>"
      ],
      "text/plain": [
       "   minor_version  avg_rating  review_count\n",
       "0              0        1.88           850\n",
       "2              2        1.91           567"
      ]
     },
     "metadata": {},
     "output_type": "display_data"
    },
    {
     "data": {
      "application/vnd.plotly.v1+json": {
       "config": {
        "plotlyServerURL": "https://plot.ly"
       },
       "data": [
        {
         "hovertemplate": "Minor Version=%{x}<br>Average Rating=%{text}<extra></extra>",
         "legendgroup": "",
         "line": {
          "color": "#636efa",
          "dash": "solid"
         },
         "marker": {
          "size": {
           "bdata": "AAAAAAAASUAuLS0tLa1AQA==",
           "dtype": "f8"
          },
          "sizemin": 5,
          "sizemode": "area",
          "sizeref": 1.0625,
          "symbol": "circle"
         },
         "mode": "markers+lines+text",
         "name": "",
         "orientation": "v",
         "showlegend": false,
         "text": {
          "bdata": "FK5H4XoU/j+PwvUoXI/+Pw==",
          "dtype": "f8"
         },
         "textposition": "top center",
         "type": "scatter",
         "x": {
          "bdata": "AAI=",
          "dtype": "i1"
         },
         "xaxis": "x",
         "y": {
          "bdata": "FK5H4XoU/j+PwvUoXI/+Pw==",
          "dtype": "f8"
         },
         "yaxis": "y"
        }
       ],
       "layout": {
        "annotations": [
         {
          "showarrow": false,
          "text": "Neutral (3.0)",
          "x": 1,
          "xanchor": "right",
          "xref": "x domain",
          "y": 3,
          "yanchor": "bottom",
          "yref": "y"
         },
         {
          "showarrow": false,
          "text": "n=850.0",
          "x": 0,
          "y": 1.5799999999999998
         },
         {
          "showarrow": false,
          "text": "n=567.0",
          "x": 2,
          "y": 1.6099999999999999
         }
        ],
        "height": 500,
        "legend": {
         "tracegroupgap": 0
        },
        "shapes": [
         {
          "line": {
           "color": "grey",
           "dash": "dash"
          },
          "type": "line",
          "x0": 0,
          "x1": 1,
          "xref": "x domain",
          "y0": 3,
          "y1": 3,
          "yref": "y"
         }
        ],
        "template": {
         "data": {
          "bar": [
           {
            "error_x": {
             "color": "#2a3f5f"
            },
            "error_y": {
             "color": "#2a3f5f"
            },
            "marker": {
             "line": {
              "color": "#E5ECF6",
              "width": 0.5
             },
             "pattern": {
              "fillmode": "overlay",
              "size": 10,
              "solidity": 0.2
             }
            },
            "type": "bar"
           }
          ],
          "barpolar": [
           {
            "marker": {
             "line": {
              "color": "#E5ECF6",
              "width": 0.5
             },
             "pattern": {
              "fillmode": "overlay",
              "size": 10,
              "solidity": 0.2
             }
            },
            "type": "barpolar"
           }
          ],
          "carpet": [
           {
            "aaxis": {
             "endlinecolor": "#2a3f5f",
             "gridcolor": "white",
             "linecolor": "white",
             "minorgridcolor": "white",
             "startlinecolor": "#2a3f5f"
            },
            "baxis": {
             "endlinecolor": "#2a3f5f",
             "gridcolor": "white",
             "linecolor": "white",
             "minorgridcolor": "white",
             "startlinecolor": "#2a3f5f"
            },
            "type": "carpet"
           }
          ],
          "choropleth": [
           {
            "colorbar": {
             "outlinewidth": 0,
             "ticks": ""
            },
            "type": "choropleth"
           }
          ],
          "contour": [
           {
            "colorbar": {
             "outlinewidth": 0,
             "ticks": ""
            },
            "colorscale": [
             [
              0,
              "#0d0887"
             ],
             [
              0.1111111111111111,
              "#46039f"
             ],
             [
              0.2222222222222222,
              "#7201a8"
             ],
             [
              0.3333333333333333,
              "#9c179e"
             ],
             [
              0.4444444444444444,
              "#bd3786"
             ],
             [
              0.5555555555555556,
              "#d8576b"
             ],
             [
              0.6666666666666666,
              "#ed7953"
             ],
             [
              0.7777777777777778,
              "#fb9f3a"
             ],
             [
              0.8888888888888888,
              "#fdca26"
             ],
             [
              1,
              "#f0f921"
             ]
            ],
            "type": "contour"
           }
          ],
          "contourcarpet": [
           {
            "colorbar": {
             "outlinewidth": 0,
             "ticks": ""
            },
            "type": "contourcarpet"
           }
          ],
          "heatmap": [
           {
            "colorbar": {
             "outlinewidth": 0,
             "ticks": ""
            },
            "colorscale": [
             [
              0,
              "#0d0887"
             ],
             [
              0.1111111111111111,
              "#46039f"
             ],
             [
              0.2222222222222222,
              "#7201a8"
             ],
             [
              0.3333333333333333,
              "#9c179e"
             ],
             [
              0.4444444444444444,
              "#bd3786"
             ],
             [
              0.5555555555555556,
              "#d8576b"
             ],
             [
              0.6666666666666666,
              "#ed7953"
             ],
             [
              0.7777777777777778,
              "#fb9f3a"
             ],
             [
              0.8888888888888888,
              "#fdca26"
             ],
             [
              1,
              "#f0f921"
             ]
            ],
            "type": "heatmap"
           }
          ],
          "histogram": [
           {
            "marker": {
             "pattern": {
              "fillmode": "overlay",
              "size": 10,
              "solidity": 0.2
             }
            },
            "type": "histogram"
           }
          ],
          "histogram2d": [
           {
            "colorbar": {
             "outlinewidth": 0,
             "ticks": ""
            },
            "colorscale": [
             [
              0,
              "#0d0887"
             ],
             [
              0.1111111111111111,
              "#46039f"
             ],
             [
              0.2222222222222222,
              "#7201a8"
             ],
             [
              0.3333333333333333,
              "#9c179e"
             ],
             [
              0.4444444444444444,
              "#bd3786"
             ],
             [
              0.5555555555555556,
              "#d8576b"
             ],
             [
              0.6666666666666666,
              "#ed7953"
             ],
             [
              0.7777777777777778,
              "#fb9f3a"
             ],
             [
              0.8888888888888888,
              "#fdca26"
             ],
             [
              1,
              "#f0f921"
             ]
            ],
            "type": "histogram2d"
           }
          ],
          "histogram2dcontour": [
           {
            "colorbar": {
             "outlinewidth": 0,
             "ticks": ""
            },
            "colorscale": [
             [
              0,
              "#0d0887"
             ],
             [
              0.1111111111111111,
              "#46039f"
             ],
             [
              0.2222222222222222,
              "#7201a8"
             ],
             [
              0.3333333333333333,
              "#9c179e"
             ],
             [
              0.4444444444444444,
              "#bd3786"
             ],
             [
              0.5555555555555556,
              "#d8576b"
             ],
             [
              0.6666666666666666,
              "#ed7953"
             ],
             [
              0.7777777777777778,
              "#fb9f3a"
             ],
             [
              0.8888888888888888,
              "#fdca26"
             ],
             [
              1,
              "#f0f921"
             ]
            ],
            "type": "histogram2dcontour"
           }
          ],
          "mesh3d": [
           {
            "colorbar": {
             "outlinewidth": 0,
             "ticks": ""
            },
            "type": "mesh3d"
           }
          ],
          "parcoords": [
           {
            "line": {
             "colorbar": {
              "outlinewidth": 0,
              "ticks": ""
             }
            },
            "type": "parcoords"
           }
          ],
          "pie": [
           {
            "automargin": true,
            "type": "pie"
           }
          ],
          "scatter": [
           {
            "fillpattern": {
             "fillmode": "overlay",
             "size": 10,
             "solidity": 0.2
            },
            "type": "scatter"
           }
          ],
          "scatter3d": [
           {
            "line": {
             "colorbar": {
              "outlinewidth": 0,
              "ticks": ""
             }
            },
            "marker": {
             "colorbar": {
              "outlinewidth": 0,
              "ticks": ""
             }
            },
            "type": "scatter3d"
           }
          ],
          "scattercarpet": [
           {
            "marker": {
             "colorbar": {
              "outlinewidth": 0,
              "ticks": ""
             }
            },
            "type": "scattercarpet"
           }
          ],
          "scattergeo": [
           {
            "marker": {
             "colorbar": {
              "outlinewidth": 0,
              "ticks": ""
             }
            },
            "type": "scattergeo"
           }
          ],
          "scattergl": [
           {
            "marker": {
             "colorbar": {
              "outlinewidth": 0,
              "ticks": ""
             }
            },
            "type": "scattergl"
           }
          ],
          "scattermap": [
           {
            "marker": {
             "colorbar": {
              "outlinewidth": 0,
              "ticks": ""
             }
            },
            "type": "scattermap"
           }
          ],
          "scattermapbox": [
           {
            "marker": {
             "colorbar": {
              "outlinewidth": 0,
              "ticks": ""
             }
            },
            "type": "scattermapbox"
           }
          ],
          "scatterpolar": [
           {
            "marker": {
             "colorbar": {
              "outlinewidth": 0,
              "ticks": ""
             }
            },
            "type": "scatterpolar"
           }
          ],
          "scatterpolargl": [
           {
            "marker": {
             "colorbar": {
              "outlinewidth": 0,
              "ticks": ""
             }
            },
            "type": "scatterpolargl"
           }
          ],
          "scatterternary": [
           {
            "marker": {
             "colorbar": {
              "outlinewidth": 0,
              "ticks": ""
             }
            },
            "type": "scatterternary"
           }
          ],
          "surface": [
           {
            "colorbar": {
             "outlinewidth": 0,
             "ticks": ""
            },
            "colorscale": [
             [
              0,
              "#0d0887"
             ],
             [
              0.1111111111111111,
              "#46039f"
             ],
             [
              0.2222222222222222,
              "#7201a8"
             ],
             [
              0.3333333333333333,
              "#9c179e"
             ],
             [
              0.4444444444444444,
              "#bd3786"
             ],
             [
              0.5555555555555556,
              "#d8576b"
             ],
             [
              0.6666666666666666,
              "#ed7953"
             ],
             [
              0.7777777777777778,
              "#fb9f3a"
             ],
             [
              0.8888888888888888,
              "#fdca26"
             ],
             [
              1,
              "#f0f921"
             ]
            ],
            "type": "surface"
           }
          ],
          "table": [
           {
            "cells": {
             "fill": {
              "color": "#EBF0F8"
             },
             "line": {
              "color": "white"
             }
            },
            "header": {
             "fill": {
              "color": "#C8D4E3"
             },
             "line": {
              "color": "white"
             }
            },
            "type": "table"
           }
          ]
         },
         "layout": {
          "annotationdefaults": {
           "arrowcolor": "#2a3f5f",
           "arrowhead": 0,
           "arrowwidth": 1
          },
          "autotypenumbers": "strict",
          "coloraxis": {
           "colorbar": {
            "outlinewidth": 0,
            "ticks": ""
           }
          },
          "colorscale": {
           "diverging": [
            [
             0,
             "#8e0152"
            ],
            [
             0.1,
             "#c51b7d"
            ],
            [
             0.2,
             "#de77ae"
            ],
            [
             0.3,
             "#f1b6da"
            ],
            [
             0.4,
             "#fde0ef"
            ],
            [
             0.5,
             "#f7f7f7"
            ],
            [
             0.6,
             "#e6f5d0"
            ],
            [
             0.7,
             "#b8e186"
            ],
            [
             0.8,
             "#7fbc41"
            ],
            [
             0.9,
             "#4d9221"
            ],
            [
             1,
             "#276419"
            ]
           ],
           "sequential": [
            [
             0,
             "#0d0887"
            ],
            [
             0.1111111111111111,
             "#46039f"
            ],
            [
             0.2222222222222222,
             "#7201a8"
            ],
            [
             0.3333333333333333,
             "#9c179e"
            ],
            [
             0.4444444444444444,
             "#bd3786"
            ],
            [
             0.5555555555555556,
             "#d8576b"
            ],
            [
             0.6666666666666666,
             "#ed7953"
            ],
            [
             0.7777777777777778,
             "#fb9f3a"
            ],
            [
             0.8888888888888888,
             "#fdca26"
            ],
            [
             1,
             "#f0f921"
            ]
           ],
           "sequentialminus": [
            [
             0,
             "#0d0887"
            ],
            [
             0.1111111111111111,
             "#46039f"
            ],
            [
             0.2222222222222222,
             "#7201a8"
            ],
            [
             0.3333333333333333,
             "#9c179e"
            ],
            [
             0.4444444444444444,
             "#bd3786"
            ],
            [
             0.5555555555555556,
             "#d8576b"
            ],
            [
             0.6666666666666666,
             "#ed7953"
            ],
            [
             0.7777777777777778,
             "#fb9f3a"
            ],
            [
             0.8888888888888888,
             "#fdca26"
            ],
            [
             1,
             "#f0f921"
            ]
           ]
          },
          "colorway": [
           "#636efa",
           "#EF553B",
           "#00cc96",
           "#ab63fa",
           "#FFA15A",
           "#19d3f3",
           "#FF6692",
           "#B6E880",
           "#FF97FF",
           "#FECB52"
          ],
          "font": {
           "color": "#2a3f5f"
          },
          "geo": {
           "bgcolor": "white",
           "lakecolor": "white",
           "landcolor": "#E5ECF6",
           "showlakes": true,
           "showland": true,
           "subunitcolor": "white"
          },
          "hoverlabel": {
           "align": "left"
          },
          "hovermode": "closest",
          "mapbox": {
           "style": "light"
          },
          "paper_bgcolor": "white",
          "plot_bgcolor": "#E5ECF6",
          "polar": {
           "angularaxis": {
            "gridcolor": "white",
            "linecolor": "white",
            "ticks": ""
           },
           "bgcolor": "#E5ECF6",
           "radialaxis": {
            "gridcolor": "white",
            "linecolor": "white",
            "ticks": ""
           }
          },
          "scene": {
           "xaxis": {
            "backgroundcolor": "#E5ECF6",
            "gridcolor": "white",
            "gridwidth": 2,
            "linecolor": "white",
            "showbackground": true,
            "ticks": "",
            "zerolinecolor": "white"
           },
           "yaxis": {
            "backgroundcolor": "#E5ECF6",
            "gridcolor": "white",
            "gridwidth": 2,
            "linecolor": "white",
            "showbackground": true,
            "ticks": "",
            "zerolinecolor": "white"
           },
           "zaxis": {
            "backgroundcolor": "#E5ECF6",
            "gridcolor": "white",
            "gridwidth": 2,
            "linecolor": "white",
            "showbackground": true,
            "ticks": "",
            "zerolinecolor": "white"
           }
          },
          "shapedefaults": {
           "line": {
            "color": "#2a3f5f"
           }
          },
          "ternary": {
           "aaxis": {
            "gridcolor": "white",
            "linecolor": "white",
            "ticks": ""
           },
           "baxis": {
            "gridcolor": "white",
            "linecolor": "white",
            "ticks": ""
           },
           "bgcolor": "#E5ECF6",
           "caxis": {
            "gridcolor": "white",
            "linecolor": "white",
            "ticks": ""
           }
          },
          "title": {
           "x": 0.05
          },
          "xaxis": {
           "automargin": true,
           "gridcolor": "white",
           "linecolor": "white",
           "ticks": "",
           "title": {
            "standoff": 15
           },
           "zerolinecolor": "white",
           "zerolinewidth": 2
          },
          "yaxis": {
           "automargin": true,
           "gridcolor": "white",
           "linecolor": "white",
           "ticks": "",
           "title": {
            "standoff": 15
           },
           "zerolinecolor": "white",
           "zerolinewidth": 2
          }
         }
        },
        "title": {
         "text": "Rating Trends within Major Version 7.0"
        },
        "xaxis": {
         "anchor": "y",
         "domain": [
          0,
          1
         ],
         "title": {
          "text": "Minor Version (Major Version 7.0)"
         }
        },
        "yaxis": {
         "anchor": "x",
         "domain": [
          0,
          1
         ],
         "range": [
          1,
          5
         ],
         "title": {
          "text": "Average Rating"
         }
        }
       }
      }
     },
     "metadata": {},
     "output_type": "display_data"
    },
    {
     "name": "stdout",
     "output_type": "stream",
     "text": [
      "\n",
      "Overall rating trends by major version:\n"
     ]
    },
    {
     "data": {
      "text/html": [
       "<div>\n",
       "<style scoped>\n",
       "    .dataframe tbody tr th:only-of-type {\n",
       "        vertical-align: middle;\n",
       "    }\n",
       "\n",
       "    .dataframe tbody tr th {\n",
       "        vertical-align: top;\n",
       "    }\n",
       "\n",
       "    .dataframe thead th {\n",
       "        text-align: right;\n",
       "    }\n",
       "</style>\n",
       "<table border=\"1\" class=\"dataframe\">\n",
       "  <thead>\n",
       "    <tr style=\"text-align: right;\">\n",
       "      <th></th>\n",
       "      <th>major_version</th>\n",
       "      <th>avg_rating</th>\n",
       "      <th>review_count</th>\n",
       "    </tr>\n",
       "  </thead>\n",
       "  <tbody>\n",
       "    <tr>\n",
       "      <th>0</th>\n",
       "      <td>6.0</td>\n",
       "      <td>3.59</td>\n",
       "      <td>4586</td>\n",
       "    </tr>\n",
       "    <tr>\n",
       "      <th>1</th>\n",
       "      <td>7.0</td>\n",
       "      <td>1.89</td>\n",
       "      <td>1418</td>\n",
       "    </tr>\n",
       "  </tbody>\n",
       "</table>\n",
       "</div>"
      ],
      "text/plain": [
       "   major_version  avg_rating  review_count\n",
       "0            6.0        3.59          4586\n",
       "1            7.0        1.89          1418"
      ]
     },
     "metadata": {},
     "output_type": "display_data"
    },
    {
     "data": {
      "application/vnd.plotly.v1+json": {
       "config": {
        "plotlyServerURL": "https://plot.ly"
       },
       "data": [
        {
         "hovertemplate": "Major Version=%{x}<br>Average Rating=%{text}<extra></extra>",
         "legendgroup": "",
         "line": {
          "color": "#636efa",
          "dash": "solid"
         },
         "marker": {
          "size": {
           "bdata": "AAAAAAAASUBtiBKykesuQA==",
           "dtype": "f8"
          },
          "sizemin": 5,
          "sizemode": "area",
          "sizeref": 5.7325,
          "symbol": "circle"
         },
         "mode": "markers+lines+text",
         "name": "",
         "orientation": "v",
         "showlegend": false,
         "text": {
          "bdata": "uB6F61G4DEA9CtejcD3+Pw==",
          "dtype": "f8"
         },
         "textposition": "top center",
         "type": "scatter",
         "x": {
          "bdata": "AAAAAAAAGEAAAAAAAAAcQA==",
          "dtype": "f8"
         },
         "xaxis": "x",
         "y": {
          "bdata": "uB6F61G4DEA9CtejcD3+Pw==",
          "dtype": "f8"
         },
         "yaxis": "y"
        }
       ],
       "layout": {
        "annotations": [
         {
          "showarrow": false,
          "text": "n=4586.0",
          "x": 6,
          "y": 3.29
         },
         {
          "showarrow": false,
          "text": "n=1418.0",
          "x": 7,
          "y": 1.5899999999999999
         }
        ],
        "height": 500,
        "legend": {
         "tracegroupgap": 0
        },
        "shapes": [
         {
          "line": {
           "color": "grey",
           "dash": "dash"
          },
          "type": "line",
          "x0": 0,
          "x1": 1,
          "xref": "x domain",
          "y0": 3,
          "y1": 3,
          "yref": "y"
         }
        ],
        "template": {
         "data": {
          "bar": [
           {
            "error_x": {
             "color": "#2a3f5f"
            },
            "error_y": {
             "color": "#2a3f5f"
            },
            "marker": {
             "line": {
              "color": "#E5ECF6",
              "width": 0.5
             },
             "pattern": {
              "fillmode": "overlay",
              "size": 10,
              "solidity": 0.2
             }
            },
            "type": "bar"
           }
          ],
          "barpolar": [
           {
            "marker": {
             "line": {
              "color": "#E5ECF6",
              "width": 0.5
             },
             "pattern": {
              "fillmode": "overlay",
              "size": 10,
              "solidity": 0.2
             }
            },
            "type": "barpolar"
           }
          ],
          "carpet": [
           {
            "aaxis": {
             "endlinecolor": "#2a3f5f",
             "gridcolor": "white",
             "linecolor": "white",
             "minorgridcolor": "white",
             "startlinecolor": "#2a3f5f"
            },
            "baxis": {
             "endlinecolor": "#2a3f5f",
             "gridcolor": "white",
             "linecolor": "white",
             "minorgridcolor": "white",
             "startlinecolor": "#2a3f5f"
            },
            "type": "carpet"
           }
          ],
          "choropleth": [
           {
            "colorbar": {
             "outlinewidth": 0,
             "ticks": ""
            },
            "type": "choropleth"
           }
          ],
          "contour": [
           {
            "colorbar": {
             "outlinewidth": 0,
             "ticks": ""
            },
            "colorscale": [
             [
              0,
              "#0d0887"
             ],
             [
              0.1111111111111111,
              "#46039f"
             ],
             [
              0.2222222222222222,
              "#7201a8"
             ],
             [
              0.3333333333333333,
              "#9c179e"
             ],
             [
              0.4444444444444444,
              "#bd3786"
             ],
             [
              0.5555555555555556,
              "#d8576b"
             ],
             [
              0.6666666666666666,
              "#ed7953"
             ],
             [
              0.7777777777777778,
              "#fb9f3a"
             ],
             [
              0.8888888888888888,
              "#fdca26"
             ],
             [
              1,
              "#f0f921"
             ]
            ],
            "type": "contour"
           }
          ],
          "contourcarpet": [
           {
            "colorbar": {
             "outlinewidth": 0,
             "ticks": ""
            },
            "type": "contourcarpet"
           }
          ],
          "heatmap": [
           {
            "colorbar": {
             "outlinewidth": 0,
             "ticks": ""
            },
            "colorscale": [
             [
              0,
              "#0d0887"
             ],
             [
              0.1111111111111111,
              "#46039f"
             ],
             [
              0.2222222222222222,
              "#7201a8"
             ],
             [
              0.3333333333333333,
              "#9c179e"
             ],
             [
              0.4444444444444444,
              "#bd3786"
             ],
             [
              0.5555555555555556,
              "#d8576b"
             ],
             [
              0.6666666666666666,
              "#ed7953"
             ],
             [
              0.7777777777777778,
              "#fb9f3a"
             ],
             [
              0.8888888888888888,
              "#fdca26"
             ],
             [
              1,
              "#f0f921"
             ]
            ],
            "type": "heatmap"
           }
          ],
          "histogram": [
           {
            "marker": {
             "pattern": {
              "fillmode": "overlay",
              "size": 10,
              "solidity": 0.2
             }
            },
            "type": "histogram"
           }
          ],
          "histogram2d": [
           {
            "colorbar": {
             "outlinewidth": 0,
             "ticks": ""
            },
            "colorscale": [
             [
              0,
              "#0d0887"
             ],
             [
              0.1111111111111111,
              "#46039f"
             ],
             [
              0.2222222222222222,
              "#7201a8"
             ],
             [
              0.3333333333333333,
              "#9c179e"
             ],
             [
              0.4444444444444444,
              "#bd3786"
             ],
             [
              0.5555555555555556,
              "#d8576b"
             ],
             [
              0.6666666666666666,
              "#ed7953"
             ],
             [
              0.7777777777777778,
              "#fb9f3a"
             ],
             [
              0.8888888888888888,
              "#fdca26"
             ],
             [
              1,
              "#f0f921"
             ]
            ],
            "type": "histogram2d"
           }
          ],
          "histogram2dcontour": [
           {
            "colorbar": {
             "outlinewidth": 0,
             "ticks": ""
            },
            "colorscale": [
             [
              0,
              "#0d0887"
             ],
             [
              0.1111111111111111,
              "#46039f"
             ],
             [
              0.2222222222222222,
              "#7201a8"
             ],
             [
              0.3333333333333333,
              "#9c179e"
             ],
             [
              0.4444444444444444,
              "#bd3786"
             ],
             [
              0.5555555555555556,
              "#d8576b"
             ],
             [
              0.6666666666666666,
              "#ed7953"
             ],
             [
              0.7777777777777778,
              "#fb9f3a"
             ],
             [
              0.8888888888888888,
              "#fdca26"
             ],
             [
              1,
              "#f0f921"
             ]
            ],
            "type": "histogram2dcontour"
           }
          ],
          "mesh3d": [
           {
            "colorbar": {
             "outlinewidth": 0,
             "ticks": ""
            },
            "type": "mesh3d"
           }
          ],
          "parcoords": [
           {
            "line": {
             "colorbar": {
              "outlinewidth": 0,
              "ticks": ""
             }
            },
            "type": "parcoords"
           }
          ],
          "pie": [
           {
            "automargin": true,
            "type": "pie"
           }
          ],
          "scatter": [
           {
            "fillpattern": {
             "fillmode": "overlay",
             "size": 10,
             "solidity": 0.2
            },
            "type": "scatter"
           }
          ],
          "scatter3d": [
           {
            "line": {
             "colorbar": {
              "outlinewidth": 0,
              "ticks": ""
             }
            },
            "marker": {
             "colorbar": {
              "outlinewidth": 0,
              "ticks": ""
             }
            },
            "type": "scatter3d"
           }
          ],
          "scattercarpet": [
           {
            "marker": {
             "colorbar": {
              "outlinewidth": 0,
              "ticks": ""
             }
            },
            "type": "scattercarpet"
           }
          ],
          "scattergeo": [
           {
            "marker": {
             "colorbar": {
              "outlinewidth": 0,
              "ticks": ""
             }
            },
            "type": "scattergeo"
           }
          ],
          "scattergl": [
           {
            "marker": {
             "colorbar": {
              "outlinewidth": 0,
              "ticks": ""
             }
            },
            "type": "scattergl"
           }
          ],
          "scattermap": [
           {
            "marker": {
             "colorbar": {
              "outlinewidth": 0,
              "ticks": ""
             }
            },
            "type": "scattermap"
           }
          ],
          "scattermapbox": [
           {
            "marker": {
             "colorbar": {
              "outlinewidth": 0,
              "ticks": ""
             }
            },
            "type": "scattermapbox"
           }
          ],
          "scatterpolar": [
           {
            "marker": {
             "colorbar": {
              "outlinewidth": 0,
              "ticks": ""
             }
            },
            "type": "scatterpolar"
           }
          ],
          "scatterpolargl": [
           {
            "marker": {
             "colorbar": {
              "outlinewidth": 0,
              "ticks": ""
             }
            },
            "type": "scatterpolargl"
           }
          ],
          "scatterternary": [
           {
            "marker": {
             "colorbar": {
              "outlinewidth": 0,
              "ticks": ""
             }
            },
            "type": "scatterternary"
           }
          ],
          "surface": [
           {
            "colorbar": {
             "outlinewidth": 0,
             "ticks": ""
            },
            "colorscale": [
             [
              0,
              "#0d0887"
             ],
             [
              0.1111111111111111,
              "#46039f"
             ],
             [
              0.2222222222222222,
              "#7201a8"
             ],
             [
              0.3333333333333333,
              "#9c179e"
             ],
             [
              0.4444444444444444,
              "#bd3786"
             ],
             [
              0.5555555555555556,
              "#d8576b"
             ],
             [
              0.6666666666666666,
              "#ed7953"
             ],
             [
              0.7777777777777778,
              "#fb9f3a"
             ],
             [
              0.8888888888888888,
              "#fdca26"
             ],
             [
              1,
              "#f0f921"
             ]
            ],
            "type": "surface"
           }
          ],
          "table": [
           {
            "cells": {
             "fill": {
              "color": "#EBF0F8"
             },
             "line": {
              "color": "white"
             }
            },
            "header": {
             "fill": {
              "color": "#C8D4E3"
             },
             "line": {
              "color": "white"
             }
            },
            "type": "table"
           }
          ]
         },
         "layout": {
          "annotationdefaults": {
           "arrowcolor": "#2a3f5f",
           "arrowhead": 0,
           "arrowwidth": 1
          },
          "autotypenumbers": "strict",
          "coloraxis": {
           "colorbar": {
            "outlinewidth": 0,
            "ticks": ""
           }
          },
          "colorscale": {
           "diverging": [
            [
             0,
             "#8e0152"
            ],
            [
             0.1,
             "#c51b7d"
            ],
            [
             0.2,
             "#de77ae"
            ],
            [
             0.3,
             "#f1b6da"
            ],
            [
             0.4,
             "#fde0ef"
            ],
            [
             0.5,
             "#f7f7f7"
            ],
            [
             0.6,
             "#e6f5d0"
            ],
            [
             0.7,
             "#b8e186"
            ],
            [
             0.8,
             "#7fbc41"
            ],
            [
             0.9,
             "#4d9221"
            ],
            [
             1,
             "#276419"
            ]
           ],
           "sequential": [
            [
             0,
             "#0d0887"
            ],
            [
             0.1111111111111111,
             "#46039f"
            ],
            [
             0.2222222222222222,
             "#7201a8"
            ],
            [
             0.3333333333333333,
             "#9c179e"
            ],
            [
             0.4444444444444444,
             "#bd3786"
            ],
            [
             0.5555555555555556,
             "#d8576b"
            ],
            [
             0.6666666666666666,
             "#ed7953"
            ],
            [
             0.7777777777777778,
             "#fb9f3a"
            ],
            [
             0.8888888888888888,
             "#fdca26"
            ],
            [
             1,
             "#f0f921"
            ]
           ],
           "sequentialminus": [
            [
             0,
             "#0d0887"
            ],
            [
             0.1111111111111111,
             "#46039f"
            ],
            [
             0.2222222222222222,
             "#7201a8"
            ],
            [
             0.3333333333333333,
             "#9c179e"
            ],
            [
             0.4444444444444444,
             "#bd3786"
            ],
            [
             0.5555555555555556,
             "#d8576b"
            ],
            [
             0.6666666666666666,
             "#ed7953"
            ],
            [
             0.7777777777777778,
             "#fb9f3a"
            ],
            [
             0.8888888888888888,
             "#fdca26"
            ],
            [
             1,
             "#f0f921"
            ]
           ]
          },
          "colorway": [
           "#636efa",
           "#EF553B",
           "#00cc96",
           "#ab63fa",
           "#FFA15A",
           "#19d3f3",
           "#FF6692",
           "#B6E880",
           "#FF97FF",
           "#FECB52"
          ],
          "font": {
           "color": "#2a3f5f"
          },
          "geo": {
           "bgcolor": "white",
           "lakecolor": "white",
           "landcolor": "#E5ECF6",
           "showlakes": true,
           "showland": true,
           "subunitcolor": "white"
          },
          "hoverlabel": {
           "align": "left"
          },
          "hovermode": "closest",
          "mapbox": {
           "style": "light"
          },
          "paper_bgcolor": "white",
          "plot_bgcolor": "#E5ECF6",
          "polar": {
           "angularaxis": {
            "gridcolor": "white",
            "linecolor": "white",
            "ticks": ""
           },
           "bgcolor": "#E5ECF6",
           "radialaxis": {
            "gridcolor": "white",
            "linecolor": "white",
            "ticks": ""
           }
          },
          "scene": {
           "xaxis": {
            "backgroundcolor": "#E5ECF6",
            "gridcolor": "white",
            "gridwidth": 2,
            "linecolor": "white",
            "showbackground": true,
            "ticks": "",
            "zerolinecolor": "white"
           },
           "yaxis": {
            "backgroundcolor": "#E5ECF6",
            "gridcolor": "white",
            "gridwidth": 2,
            "linecolor": "white",
            "showbackground": true,
            "ticks": "",
            "zerolinecolor": "white"
           },
           "zaxis": {
            "backgroundcolor": "#E5ECF6",
            "gridcolor": "white",
            "gridwidth": 2,
            "linecolor": "white",
            "showbackground": true,
            "ticks": "",
            "zerolinecolor": "white"
           }
          },
          "shapedefaults": {
           "line": {
            "color": "#2a3f5f"
           }
          },
          "ternary": {
           "aaxis": {
            "gridcolor": "white",
            "linecolor": "white",
            "ticks": ""
           },
           "baxis": {
            "gridcolor": "white",
            "linecolor": "white",
            "ticks": ""
           },
           "bgcolor": "#E5ECF6",
           "caxis": {
            "gridcolor": "white",
            "linecolor": "white",
            "ticks": ""
           }
          },
          "title": {
           "x": 0.05
          },
          "xaxis": {
           "automargin": true,
           "gridcolor": "white",
           "linecolor": "white",
           "ticks": "",
           "title": {
            "standoff": 15
           },
           "zerolinecolor": "white",
           "zerolinewidth": 2
          },
          "yaxis": {
           "automargin": true,
           "gridcolor": "white",
           "linecolor": "white",
           "ticks": "",
           "title": {
            "standoff": 15
           },
           "zerolinecolor": "white",
           "zerolinewidth": 2
          }
         }
        },
        "title": {
         "text": "Rating Trends by Major Version"
        },
        "xaxis": {
         "anchor": "y",
         "domain": [
          0,
          1
         ],
         "title": {
          "text": "Major Version"
         }
        },
        "yaxis": {
         "anchor": "x",
         "domain": [
          0,
          1
         ],
         "range": [
          1,
          5
         ],
         "title": {
          "text": "Average Rating"
         }
        }
       }
      }
     },
     "metadata": {},
     "output_type": "display_data"
    },
    {
     "name": "stdout",
     "output_type": "stream",
     "text": [
      "\n",
      "Overall trend: Ratings have decreased by 1.70 points from version 6.0 to 7.0\n",
      "\n",
      "=== KEY INSIGHTS FROM VERSION ANALYSIS ===\n",
      "1. Most reviewed version: 6.0.6 with 1161 reviews\n",
      "2. Highest rated version: 6.0.5 with average rating 3.91/5.0 (382 reviews)\n",
      "3. Lowest rated version: 7.2.4 with average rating 1.75/5.0 (57 reviews)\n",
      "4. Dominant major version: 6.0.x accounts for 76.4% of reviews in this range\n",
      "5. Most positive sentiment: Version 6.0.5 with 72.0% positive reviews\n",
      "6. Most negative sentiment: Version 7.2.4 with 82.5% negative reviews\n"
     ]
    }
   ],
   "source": [
    "# Enhanced Version Evolution Analysis for our filtered version range\n",
    "print(\"\\n=== Version Evolution Analysis for Selected Range ===\")\n",
    "print(f\"Analyzing version evolution for range {min_version} to {max_version}\")\n",
    "\n",
    "# Make sure we're working with the filtered dataset\n",
    "version_analysis_df = custom_version_range_df.copy()\n",
    "\n",
    "# Check if we have version data in our filtered dataset\n",
    "if 'version' in version_analysis_df.columns and len(version_analysis_df) > 0:\n",
    "    print(f\"Found {len(version_analysis_df)} reviews in the selected version range\")\n",
    "    \n",
    "    # Verify major version field exists\n",
    "    if 'major_version' not in version_analysis_df.columns:\n",
    "        # Extract major version number from version string\n",
    "        def extract_major_version(version_str):\n",
    "            if pd.isna(version_str) or version_str == \"Unknown\":\n",
    "                return None\n",
    "            try:\n",
    "                # Extract first part of version (e.g., \"6\" from \"6.0.3\")\n",
    "                major = version_str.split('.')[0]\n",
    "                return int(major)\n",
    "            except (ValueError, IndexError, AttributeError):\n",
    "                return None\n",
    "        \n",
    "        # Create major version column\n",
    "        version_analysis_df['major_version'] = version_analysis_df['version'].apply(extract_major_version)\n",
    "    \n",
    "    # Extract minor version components\n",
    "    if 'minor_version' not in version_analysis_df.columns:\n",
    "        def extract_minor_version(version_str):\n",
    "            if pd.isna(version_str) or version_str == \"Unknown\":\n",
    "                return None\n",
    "            try:\n",
    "                parts = str(version_str).split('.')\n",
    "                minor = int(parts[1]) if len(parts) > 1 else None\n",
    "                return minor\n",
    "            except (ValueError, IndexError):\n",
    "                return None\n",
    "        \n",
    "        version_analysis_df['minor_version'] = version_analysis_df['version'].apply(extract_minor_version)\n",
    "    \n",
    "    # Extract patch version components\n",
    "    if 'patch_version' not in version_analysis_df.columns:\n",
    "        def extract_patch_version(version_str):\n",
    "            if pd.isna(version_str) or version_str == \"Unknown\":\n",
    "                return None\n",
    "            try:\n",
    "                parts = str(version_str).split('.')\n",
    "                patch = int(parts[2]) if len(parts) > 2 else None\n",
    "                return patch\n",
    "            except (ValueError, IndexError):\n",
    "                return None\n",
    "        \n",
    "        version_analysis_df['patch_version'] = version_analysis_df['version'].apply(extract_patch_version)\n",
    "    \n",
    "    # Count reviews by complete version within our range\n",
    "    version_counts = version_analysis_df['version'].value_counts()\n",
    "    print(f\"\\nFound {len(version_counts)} unique versions in the selected range\")\n",
    "    print(\"Top 10 versions by review count:\")\n",
    "    display(version_counts.head(10).reset_index().rename(columns={'index': 'version', 'version': 'count'}))\n",
    "    \n",
    "    # Create interactive visualization of version distribution\n",
    "    import plotly.express as px\n",
    "    import plotly.graph_objects as go\n",
    "    from plotly.subplots import make_subplots\n",
    "    \n",
    "    # Top versions for visualization (showing too many makes the chart unreadable)\n",
    "    top_n = min(15, len(version_counts))\n",
    "    top_versions = version_counts.head(top_n)\n",
    "    \n",
    "    # Create bar chart\n",
    "    fig = px.bar(\n",
    "        x=top_versions.index,\n",
    "        y=top_versions.values,\n",
    "        labels={'x': 'App Version', 'y': 'Number of Reviews'},\n",
    "        title=f\"Review Distribution by Version ({min_version} to {max_version})\",\n",
    "        color=top_versions.values,\n",
    "        color_continuous_scale='Viridis'\n",
    "    )\n",
    "    \n",
    "    # Update layout\n",
    "    fig.update_layout(\n",
    "        xaxis_title=\"App Version\",\n",
    "        yaxis_title=\"Number of Reviews\",\n",
    "        coloraxis_colorbar=dict(title=\"Review Count\"),\n",
    "        height=500\n",
    "    )\n",
    "    \n",
    "    # Show figure\n",
    "    fig.show()\n",
    "    \n",
    "    # Calculate average rating by version within our filtered range\n",
    "    if 'rating' in version_analysis_df.columns:\n",
    "        rating_by_version = version_analysis_df.groupby('version')['rating'].agg(['mean', 'count']).reset_index()\n",
    "        rating_by_version.columns = ['version', 'avg_rating', 'review_count']\n",
    "        \n",
    "        # Round for display\n",
    "        rating_by_version['avg_rating'] = rating_by_version['avg_rating'].round(2)\n",
    "        \n",
    "        # Sort by review count and get top versions\n",
    "        top_rated_versions = rating_by_version.sort_values('review_count', ascending=False).head(15)\n",
    "        \n",
    "        # Create a combined visualization showing both average rating and count\n",
    "        fig2 = make_subplots(specs=[[{\"secondary_y\": True}]])\n",
    "        \n",
    "        # Add average rating bars\n",
    "        fig2.add_trace(\n",
    "            go.Bar(\n",
    "                x=top_rated_versions['version'],\n",
    "                y=top_rated_versions['avg_rating'],\n",
    "                name=\"Average Rating\",\n",
    "                marker_color='rgba(55, 83, 109, 0.7)',\n",
    "                text=top_rated_versions['avg_rating'],\n",
    "                textposition='auto'\n",
    "            ),\n",
    "            secondary_y=False\n",
    "        )\n",
    "        \n",
    "        # Add review count points with a line\n",
    "        fig2.add_trace(\n",
    "            go.Scatter(\n",
    "                x=top_rated_versions['version'],\n",
    "                y=top_rated_versions['review_count'],\n",
    "                name=\"Review Count\",\n",
    "                mode='markers+lines',\n",
    "                marker=dict(size=10, color='red'),\n",
    "                line=dict(width=1, dash='dot')\n",
    "            ),\n",
    "            secondary_y=True\n",
    "        )\n",
    "        \n",
    "        # Add reference line for neutral rating\n",
    "        fig2.add_hline(y=3, line_dash=\"dash\", line_color=\"grey\", annotation_text=\"Neutral (3.0)\")\n",
    "        \n",
    "        # Update layout\n",
    "        fig2.update_layout(\n",
    "            title=f\"Average Rating and Review Count by Version ({min_version} to {max_version})\",\n",
    "            xaxis_title=\"App Version\",\n",
    "            legend=dict(\n",
    "                orientation=\"h\",\n",
    "                yanchor=\"bottom\",\n",
    "                y=1.02,\n",
    "                xanchor=\"right\",\n",
    "                x=1\n",
    "            ),\n",
    "            height=500\n",
    "        )\n",
    "        \n",
    "        # Set y-axes titles\n",
    "        fig2.update_yaxes(title_text=\"Average Rating\", secondary_y=False, range=[1, 5])\n",
    "        fig2.update_yaxes(title_text=\"Number of Reviews\", secondary_y=True)\n",
    "        \n",
    "        # Show figure\n",
    "        fig2.show()\n",
    "        \n",
    "        # Analyze ratings by minor version within major version\n",
    "        # Get counts of major versions\n",
    "        major_version_counts = version_analysis_df.groupby('major_version').size()\n",
    "        \n",
    "        # Find major versions with enough data\n",
    "        significant_majors = major_version_counts[major_version_counts >= 10].index.tolist()\n",
    "        \n",
    "        # For each significant major version, analyze its minor versions\n",
    "        for major in significant_majors:\n",
    "            # Get data for this major version\n",
    "            major_data = version_analysis_df[version_analysis_df['major_version'] == major]\n",
    "            \n",
    "            # Group by minor version\n",
    "            minor_ratings = major_data.groupby('minor_version')['rating'].agg(['mean', 'count']).reset_index()\n",
    "            minor_ratings.columns = ['minor_version', 'avg_rating', 'review_count']\n",
    "            minor_ratings['avg_rating'] = minor_ratings['avg_rating'].round(2)\n",
    "            \n",
    "            # Filter to minor versions with enough data\n",
    "            valid_minors = minor_ratings[minor_ratings['review_count'] >= 10]\n",
    "            \n",
    "            if len(valid_minors) >= 2:  # Need at least 2 minor versions to show a trend\n",
    "                print(f\"\\nRating trends for major version {major}:\")\n",
    "                display(valid_minors.sort_values('minor_version'))\n",
    "                \n",
    "                # Create a visualization of minor version trends\n",
    "                fig3 = px.line(\n",
    "                    valid_minors.sort_values('minor_version'),\n",
    "                    x='minor_version',\n",
    "                    y='avg_rating',\n",
    "                    markers=True,\n",
    "                    labels={'minor_version': 'Minor Version', 'avg_rating': 'Average Rating'},\n",
    "                    title=f\"Rating Trends within Major Version {major}\",\n",
    "                    text='avg_rating'\n",
    "                )\n",
    "                \n",
    "                # Update traces\n",
    "                fig3.update_traces(\n",
    "                    mode='markers+lines+text',\n",
    "                    textposition='top center',\n",
    "                    marker=dict(\n",
    "                        size=valid_minors['review_count'] / valid_minors['review_count'].max() * 50,\n",
    "                        sizemode='area',\n",
    "                        sizeref=2. * max(valid_minors['review_count']) / (40.**2),\n",
    "                        sizemin=5\n",
    "                    )\n",
    "                )\n",
    "                \n",
    "                # Add reference line for neutral rating\n",
    "                fig3.add_hline(y=3, line_dash=\"dash\", line_color=\"grey\", annotation_text=\"Neutral (3.0)\")\n",
    "                \n",
    "                # Update layout\n",
    "                fig3.update_layout(\n",
    "                    xaxis_title=f\"Minor Version (Major Version {major})\",\n",
    "                    yaxis_title=\"Average Rating\",\n",
    "                    yaxis=dict(range=[1, 5]),\n",
    "                    height=500\n",
    "                )\n",
    "                \n",
    "                # Add review count annotations\n",
    "                for i, row in valid_minors.iterrows():\n",
    "                    fig3.add_annotation(\n",
    "                        x=row['minor_version'],\n",
    "                        y=row['avg_rating'] - 0.3,\n",
    "                        text=f\"n={row['review_count']}\",\n",
    "                        showarrow=False\n",
    "                    )\n",
    "                \n",
    "                # Show figure\n",
    "                fig3.show()\n",
    "                \n",
    "                # Calculate significant changes between minor versions\n",
    "                valid_minors_sorted = valid_minors.sort_values('minor_version')\n",
    "                valid_minors_sorted['rating_change'] = valid_minors_sorted['avg_rating'].diff()\n",
    "                \n",
    "                # Find significant changes\n",
    "                significant_changes = valid_minors_sorted[valid_minors_sorted['rating_change'].abs() >= 0.3]\n",
    "                \n",
    "                if len(significant_changes) > 0:\n",
    "                    print(f\"\\nSignificant rating changes within major version {major}:\")\n",
    "                    for i, row in significant_changes.iterrows():\n",
    "                        prev_minor = valid_minors_sorted.iloc[i-1]['minor_version'] if i > 0 else \"previous\"\n",
    "                        direction = \"increased\" if row['rating_change'] > 0 else \"decreased\"\n",
    "                        print(f\"  Version {major}.{row['minor_version']}: Rating {direction} by {abs(row['rating_change']):.2f} points from {major}.{prev_minor}\")\n",
    "                        \n",
    "                        # Look for significant sentiment changes for this version shift\n",
    "                        if 'sentiment' in major_data.columns:\n",
    "                            current_minor = row['minor_version']\n",
    "                            # Get sentiment distribution for current and previous minor versions\n",
    "                            current_sentiment = major_data[major_data['minor_version'] == current_minor]['sentiment'].value_counts(normalize=True) * 100\n",
    "                            prev_sentiment = major_data[major_data['minor_version'] == prev_minor]['sentiment'].value_counts(normalize=True) * 100\n",
    "                            \n",
    "                            # Check differences in sentiment\n",
    "                            for sentiment in ['positive', 'negative']:\n",
    "                                if sentiment in current_sentiment and sentiment in prev_sentiment:\n",
    "                                    diff = current_sentiment[sentiment] - prev_sentiment[sentiment]\n",
    "                                    if abs(diff) >= 5:  # Only report significant changes (5% or more)\n",
    "                                        sent_direction = \"increased\" if diff > 0 else \"decreased\"\n",
    "                                        print(f\"    {sentiment.capitalize()} sentiment {sent_direction} by {abs(diff):.1f}% points\")\n",
    "        \n",
    "        # Identify overall version trends\n",
    "        # Analyze across major versions\n",
    "        major_ratings = version_analysis_df.groupby('major_version')['rating'].agg(['mean', 'count']).reset_index()\n",
    "        major_ratings.columns = ['major_version', 'avg_rating', 'review_count']\n",
    "        major_ratings['avg_rating'] = major_ratings['avg_rating'].round(2)\n",
    "        \n",
    "        # Filter to versions with sufficient data\n",
    "        major_ratings = major_ratings[major_ratings['review_count'] >= 10]\n",
    "        \n",
    "        if len(major_ratings) >= 2:  # Need at least 2 points for a trend\n",
    "            # Sort by major version\n",
    "            major_ratings = major_ratings.sort_values('major_version')\n",
    "            \n",
    "            print(\"\\nOverall rating trends by major version:\")\n",
    "            display(major_ratings)\n",
    "            \n",
    "            # Create visualization\n",
    "            fig4 = px.line(\n",
    "                major_ratings,\n",
    "                x='major_version',\n",
    "                y='avg_rating',\n",
    "                markers=True,\n",
    "                labels={'major_version': 'Major Version', 'avg_rating': 'Average Rating'},\n",
    "                title=\"Rating Trends by Major Version\",\n",
    "                text='avg_rating'\n",
    "            )\n",
    "            \n",
    "            # Update traces\n",
    "            fig4.update_traces(\n",
    "                mode='markers+lines+text',\n",
    "                textposition='top center',\n",
    "                marker=dict(\n",
    "                    size=major_ratings['review_count'] / major_ratings['review_count'].max() * 50,\n",
    "                    sizemode='area',\n",
    "                    sizeref=2. * max(major_ratings['review_count']) / (40.**2),\n",
    "                    sizemin=5\n",
    "                )\n",
    "            )\n",
    "            \n",
    "            # Add reference line for neutral rating\n",
    "            fig4.add_hline(y=3, line_dash=\"dash\", line_color=\"grey\")\n",
    "            \n",
    "            # Update layout\n",
    "            fig4.update_layout(\n",
    "                xaxis_title=\"Major Version\",\n",
    "                yaxis_title=\"Average Rating\",\n",
    "                yaxis=dict(range=[1, 5]),\n",
    "                height=500\n",
    "            )\n",
    "            \n",
    "            # Add review count annotations\n",
    "            for i, row in major_ratings.iterrows():\n",
    "                fig4.add_annotation(\n",
    "                    x=row['major_version'],\n",
    "                    y=row['avg_rating'] - 0.3,\n",
    "                    text=f\"n={row['review_count']}\",\n",
    "                    showarrow=False\n",
    "                )\n",
    "            \n",
    "            # Show figure\n",
    "            fig4.show()\n",
    "            \n",
    "            # Calculate overall trend\n",
    "            first_rating = major_ratings.iloc[0]['avg_rating']\n",
    "            last_rating = major_ratings.iloc[-1]['avg_rating']\n",
    "            overall_change = last_rating - first_rating\n",
    "            \n",
    "            if abs(overall_change) >= 0.1:\n",
    "                direction = \"increased\" if overall_change > 0 else \"decreased\"\n",
    "                print(f\"\\nOverall trend: Ratings have {direction} by {abs(overall_change):.2f} points from version {major_ratings.iloc[0]['major_version']} to {major_ratings.iloc[-1]['major_version']}\")\n",
    "    \n",
    "    # Add key findings summary\n",
    "    print(\"\\n=== KEY INSIGHTS FROM VERSION ANALYSIS ===\")\n",
    "    \n",
    "    # 1. Most reviewed versions\n",
    "    top_version = version_counts.idxmax()\n",
    "    print(f\"1. Most reviewed version: {top_version} with {version_counts.max()} reviews\")\n",
    "    \n",
    "    # 2. Highest rated versions\n",
    "    if 'rating' in version_analysis_df.columns:\n",
    "        # Filter to versions with enough reviews for statistical significance\n",
    "        min_reviews = 10\n",
    "        significant_versions = rating_by_version[rating_by_version['review_count'] >= min_reviews]\n",
    "        \n",
    "        if len(significant_versions) > 0:\n",
    "            best_version = significant_versions.sort_values('avg_rating', ascending=False).iloc[0]\n",
    "            print(f\"2. Highest rated version: {best_version['version']} with average rating {best_version['avg_rating']}/5.0 ({int(best_version['review_count'])} reviews)\")\n",
    "            \n",
    "            worst_version = significant_versions.sort_values('avg_rating').iloc[0]\n",
    "            print(f\"3. Lowest rated version: {worst_version['version']} with average rating {worst_version['avg_rating']}/5.0 ({int(worst_version['review_count'])} reviews)\")\n",
    "    \n",
    "    # 3. Version distribution insights\n",
    "    major_dist = version_analysis_df['major_version'].value_counts()\n",
    "    \n",
    "    if len(major_dist) > 0:\n",
    "        dominant_major = major_dist.idxmax()\n",
    "        print(f\"4. Dominant major version: {dominant_major}.x accounts for {major_dist.max()/len(version_analysis_df)*100:.1f}% of reviews in this range\")\n",
    "    \n",
    "    # 4. Check for sentiment distribution by version\n",
    "    if 'sentiment' in version_analysis_df.columns:\n",
    "        version_sentiment = pd.crosstab(\n",
    "            version_analysis_df['version'], \n",
    "            version_analysis_df['sentiment'],\n",
    "            normalize='index'\n",
    "        ) * 100\n",
    "        \n",
    "        # Add count column\n",
    "        version_sentiment['review_count'] = version_analysis_df['version'].value_counts()\n",
    "        \n",
    "        # Filter to versions with sufficient reviews\n",
    "        significant_sentiment = version_sentiment[version_sentiment['review_count'] >= min_reviews].reset_index()\n",
    "        \n",
    "        if len(significant_sentiment) > 0 and 'positive' in significant_sentiment.columns:\n",
    "            # Find most positive version\n",
    "            most_positive = significant_sentiment.sort_values('positive', ascending=False).iloc[0]\n",
    "            print(f\"5. Most positive sentiment: Version {most_positive['version']} with {most_positive['positive']:.1f}% positive reviews\")\n",
    "            \n",
    "            # Find most negative version if column exists\n",
    "            if 'negative' in significant_sentiment.columns:\n",
    "                most_negative = significant_sentiment.sort_values('negative', ascending=False).iloc[0]\n",
    "                print(f\"6. Most negative sentiment: Version {most_negative['version']} with {most_negative['negative']:.1f}% negative reviews\")\n",
    "    \n",
    "else:\n",
    "    print(\"Insufficient version data for analysis in the specified range.\")"
   ]
  },
  {
   "cell_type": "markdown",
   "metadata": {},
   "source": [
    "### Key Findings from Version-Based Analysis\n",
    "\n",
    "This section summarizes the key findings from our version-based analysis, highlighting the impact of different versions on user sentiment, critical issues, and areas for improvement. These insights can help prioritize development efforts for future versions."
   ]
  },
  {
   "cell_type": "code",
   "execution_count": 34,
   "metadata": {},
   "outputs": [
    {
     "name": "stdout",
     "output_type": "stream",
     "text": [
      "Extracting key findings from version-based analysis:\n",
      "Found version data in 10000/10000 reviews (100.0%)\n",
      "\n",
      "KEY FINDINGS FROM VERSION-BASED ANALYSIS:\n",
      "1. Version 7.2.4 has a low average rating of 1.8/5 based on 57 reviews.\n",
      "2. Version 7.0.9 has a low average rating of 1.8/5 based on 323 reviews.\n",
      "3. Version 7.2.3 has a low average rating of 1.8/5 based on 119 reviews.\n",
      "4. Version 6.0.5 has a high average rating of 3.9/5 based on 382 reviews.\n",
      "5. Version 5.1.7 has a high average rating of 3.9/5 based on 29 reviews.\n",
      "6. Version 6.0.3 has a high average rating of 3.8/5 based on 946 reviews.\n",
      "7. Ratings show decline across major versions, from 3.4 (version 5.0) to 1.9 (version 7.0).\n",
      "8. Version 5.1.7 has the highest positive sentiment at 72.4% based on 29 reviews.\n",
      "9. Version 7.2.4 has the highest negative sentiment at 82.5% based on 57 reviews.\n",
      "10. The lowest-rated version (7.2.4) most commonly discusses Topic 0, Topic 8, Topic 3.\n",
      "11. The highest-rated version (6.0.5) most commonly discusses Topic 6, Topic 5, Topic 9.\n",
      "12. Version 5.1.9 has the highest developer response rate at 23.5% (40/170 reviews).\n",
      "13. Version 5.1.6 has the lowest developer response rate at 0.0% (0/14 reviews).\n"
     ]
    }
   ],
   "source": [
    "# Summarize key findings from version analysis\n",
    "print(\"Extracting key findings from version-based analysis:\")\n",
    "\n",
    "# Check for minimally required data\n",
    "has_version = 'version' in analyzed_df.columns\n",
    "has_rating = 'rating' in analyzed_df.columns\n",
    "has_topics = 'primary_topic' in analyzed_df.columns\n",
    "has_sentiment = 'sentiment' in analyzed_df.columns\n",
    "has_response = 'repliedAt' in analyzed_df.columns\n",
    "\n",
    "if not has_version:\n",
    "    print(\"No version data available for findings summary.\")\n",
    "else:\n",
    "    # Calculate the percentage of reviews with version data\n",
    "    version_count = analyzed_df['version'].notna().sum()\n",
    "    version_pct = version_count / len(analyzed_df) * 100\n",
    "    print(f\"Found version data in {version_count}/{len(analyzed_df)} reviews ({version_pct:.1f}%)\")\n",
    "    \n",
    "    findings = []\n",
    "    \n",
    "    # 1. Check for any particularly bad versions\n",
    "    if has_rating:\n",
    "        # Find versions with sufficient reviews for analysis\n",
    "        min_reviews = 10\n",
    "        version_ratings = analyzed_df.groupby('version')['rating'].agg(['mean', 'count']).reset_index()\n",
    "        version_ratings.columns = ['version', 'avg_rating', 'review_count']\n",
    "        \n",
    "        # Filter to versions with enough reviews\n",
    "        valid_versions = version_ratings[version_ratings['review_count'] >= min_reviews]\n",
    "        \n",
    "        if len(valid_versions) > 0:\n",
    "            # Find worst versions\n",
    "            worst_versions = valid_versions.sort_values('avg_rating').head(3)\n",
    "            \n",
    "            for _, row in worst_versions.iterrows():\n",
    "                if row['avg_rating'] < 3.0:  # Only include if below neutral\n",
    "                    findings.append(f\"Version {row['version']} has a low average rating of {row['avg_rating']:.1f}/5 based on {int(row['review_count'])} reviews.\")\n",
    "            \n",
    "            # Find best versions\n",
    "            best_versions = valid_versions.sort_values('avg_rating', ascending=False).head(3)\n",
    "            \n",
    "            for _, row in best_versions.iterrows():\n",
    "                if row['avg_rating'] > 3.5:  # Only include if notably above neutral\n",
    "                    findings.append(f\"Version {row['version']} has a high average rating of {row['avg_rating']:.1f}/5 based on {int(row['review_count'])} reviews.\")\n",
    "    \n",
    "    # 2. Check for major version trends\n",
    "    if has_rating and 'major_version' in analyzed_df.columns:\n",
    "        # Look for trends across major versions\n",
    "        major_ratings = analyzed_df.groupby('major_version')['rating'].agg(['mean', 'count']).reset_index()\n",
    "        major_ratings.columns = ['major_version', 'avg_rating', 'review_count']\n",
    "        \n",
    "        # Filter to major versions with enough reviews and sort\n",
    "        valid_majors = major_ratings[major_ratings['review_count'] >= min_reviews].sort_values('major_version')\n",
    "        \n",
    "        if len(valid_majors) >= 3:  # Need at least 3 points for a trend\n",
    "            # Calculate rating changes between versions\n",
    "            valid_majors['rating_change'] = valid_majors['avg_rating'].diff()\n",
    "            \n",
    "            # Check if there's a notable trend\n",
    "            first_rating = valid_majors.iloc[0]['avg_rating']\n",
    "            last_rating = valid_majors.iloc[-1]['avg_rating']\n",
    "            overall_change = last_rating - first_rating\n",
    "            \n",
    "            # Add findings on overall trend\n",
    "            if abs(overall_change) >= 0.5:  # Only report significant changes\n",
    "                if overall_change > 0:\n",
    "                    findings.append(f\"Ratings show improvement across major versions, from {first_rating:.1f} (version {valid_majors.iloc[0]['major_version']}) to {last_rating:.1f} (version {valid_majors.iloc[-1]['major_version']}).\")\n",
    "                else:\n",
    "                    findings.append(f\"Ratings show decline across major versions, from {first_rating:.1f} (version {valid_majors.iloc[0]['major_version']}) to {last_rating:.1f} (version {valid_majors.iloc[-1]['major_version']}).\")\n",
    "            \n",
    "            # Find biggest improvements\n",
    "            biggest_improvement = valid_majors[valid_majors['rating_change'] > 0].sort_values('rating_change', ascending=False).head(1)\n",
    "            if len(biggest_improvement) > 0 and biggest_improvement.iloc[0]['rating_change'] >= 0.5:\n",
    "                row = biggest_improvement.iloc[0]\n",
    "                # Safely find previous version by looking for the row's position\n",
    "                # Find the current row's index position\n",
    "                try:\n",
    "                    current_idx = valid_majors.index[valid_majors['major_version'] == row['major_version']].tolist()[0]\n",
    "                    if current_idx > 0:  # Make sure there's a previous row\n",
    "                        prev_version = valid_majors.iloc[current_idx-1]['major_version']\n",
    "                        findings.append(f\"Biggest improvement was from version {prev_version} to {row['major_version']}, with ratings increasing by {row['rating_change']:.1f} points.\")\n",
    "                except (IndexError, KeyError):\n",
    "                    pass  # Skip if we can't find the previous version\n",
    "            \n",
    "            # Find biggest declines\n",
    "            biggest_decline = valid_majors[valid_majors['rating_change'] < 0].sort_values('rating_change').head(1)\n",
    "            if len(biggest_decline) > 0 and biggest_decline.iloc[0]['rating_change'] <= -0.5:\n",
    "                row = biggest_decline.iloc[0]\n",
    "                # Safely find previous version by looking for the row's position\n",
    "                try:\n",
    "                    current_idx = valid_majors.index[valid_majors['major_version'] == row['major_version']].tolist()[0]\n",
    "                    if current_idx > 0:  # Make sure there's a previous row\n",
    "                        prev_version = valid_majors.iloc[current_idx-1]['major_version']\n",
    "                        findings.append(f\"Biggest decline was from version {prev_version} to {row['major_version']}, with ratings dropping by {abs(row['rating_change']):.1f} points.\")\n",
    "                except (IndexError, KeyError):\n",
    "                    pass  # Skip if we can't find the previous version\n",
    "    \n",
    "    # 3. Check for sentiment changes across versions\n",
    "    if has_sentiment and has_version:\n",
    "        version_sentiment = pd.crosstab(\n",
    "            analyzed_df['version'], \n",
    "            analyzed_df['sentiment'],\n",
    "            normalize='index'\n",
    "        ) * 100\n",
    "        \n",
    "        # Add count column\n",
    "        version_counts = analyzed_df.groupby('version').size()\n",
    "        version_sentiment['review_count'] = version_counts\n",
    "        \n",
    "        # Filter to versions with enough reviews\n",
    "        valid_sentiment = version_sentiment[version_sentiment['review_count'] >= min_reviews].reset_index()\n",
    "        \n",
    "        if len(valid_sentiment) > 0 and 'positive' in valid_sentiment.columns:\n",
    "            # Find versions with highest positive sentiment\n",
    "            top_positive = valid_sentiment.sort_values('positive', ascending=False).head(1)\n",
    "            if len(top_positive) > 0 and top_positive.iloc[0]['positive'] >= 60:\n",
    "                row = top_positive.iloc[0]\n",
    "                findings.append(f\"Version {row['version']} has the highest positive sentiment at {row['positive']:.1f}% based on {int(row['review_count'])} reviews.\")\n",
    "            \n",
    "            # Find versions with highest negative sentiment\n",
    "            if 'negative' in valid_sentiment.columns:\n",
    "                top_negative = valid_sentiment.sort_values('negative', ascending=False).head(1)\n",
    "                if len(top_negative) > 0 and top_negative.iloc[0]['negative'] >= 60:\n",
    "                    row = top_negative.iloc[0]\n",
    "                    findings.append(f\"Version {row['version']} has the highest negative sentiment at {row['negative']:.1f}% based on {int(row['review_count'])} reviews.\")\n",
    "    \n",
    "    # 4. Check for topics by version\n",
    "    if has_topics and has_version:\n",
    "        # Get topic words if available\n",
    "        if \"topics\" in analysis_results:\n",
    "            _, topic_words = analysis_results[\"topics\"]\n",
    "            \n",
    "            # Find most common topics for worst and best versions\n",
    "            if has_rating:\n",
    "                # Get the worst and best versions\n",
    "                version_ratings = analyzed_df.groupby('version')['rating'].agg(['mean', 'count']).reset_index()\n",
    "                version_ratings = version_ratings[version_ratings['count'] >= min_reviews]\n",
    "                \n",
    "                if len(version_ratings) > 0:\n",
    "                    worst_version = version_ratings.sort_values('mean').iloc[0]['version']\n",
    "                    best_version = version_ratings.sort_values('mean', ascending=False).iloc[0]['version']\n",
    "                    \n",
    "                    # Get topics for worst version\n",
    "                    worst_version_topics = analyzed_df[analyzed_df['version'] == worst_version]['primary_topic'].value_counts(normalize=True).head(3)\n",
    "                    \n",
    "                    if len(worst_version_topics) > 0:\n",
    "                        topic_phrase = \", \".join([f\"Topic {int(topic)}\" for topic in worst_version_topics.index])\n",
    "                        findings.append(f\"The lowest-rated version ({worst_version}) most commonly discusses {topic_phrase}.\")\n",
    "                        \n",
    "                    # Get topics for best version\n",
    "                    best_version_topics = analyzed_df[analyzed_df['version'] == best_version]['primary_topic'].value_counts(normalize=True).head(3)\n",
    "                    \n",
    "                    if len(best_version_topics) > 0:\n",
    "                        topic_phrase = \", \".join([f\"Topic {int(topic)}\" for topic in best_version_topics.index])\n",
    "                        findings.append(f\"The highest-rated version ({best_version}) most commonly discusses {topic_phrase}.\")\n",
    "    \n",
    "    # 5. Check for developer response patterns\n",
    "    if has_response and has_version:\n",
    "        try:\n",
    "            # Calculate response rate by version - fix for the AttributeError\n",
    "            # First create the has_response column if not already done\n",
    "            if 'has_response' not in analyzed_df.columns:\n",
    "                analyzed_df['has_response'] = analyzed_df['repliedAt'].notna()\n",
    "            \n",
    "            # Now group by version and aggregate has_response\n",
    "            response_by_version = analyzed_df.groupby('version')['has_response'].agg(\n",
    "                response_rate=lambda x: x.mean() * 100,  # Calculate percentage directly\n",
    "                responded=lambda x: x.sum(),\n",
    "                total=lambda x: x.count()\n",
    "            ).reset_index()\n",
    "            \n",
    "            # Filter to versions with enough reviews\n",
    "            valid_response = response_by_version[response_by_version['total'] >= min_reviews]\n",
    "            \n",
    "            if len(valid_response) > 0:\n",
    "                # Find highest response rate\n",
    "                top_response = valid_response.sort_values('response_rate', ascending=False).head(1)\n",
    "                if len(top_response) > 0 and top_response.iloc[0]['response_rate'] > 20:\n",
    "                    row = top_response.iloc[0]\n",
    "                    findings.append(f\"Version {row['version']} has the highest developer response rate at {row['response_rate']:.1f}% ({int(row['responded'])}/{int(row['total'])} reviews).\")\n",
    "                    \n",
    "                # Find lowest response rate\n",
    "                low_response = valid_response.sort_values('response_rate').head(1)\n",
    "                if len(low_response) > 0 and low_response.iloc[0]['response_rate'] < 5:\n",
    "                    row = low_response.iloc[0]\n",
    "                    findings.append(f\"Version {row['version']} has the lowest developer response rate at {row['response_rate']:.1f}% ({int(row['responded'])}/{int(row['total'])} reviews).\")\n",
    "            \n",
    "            # Check if negative reviews get more responses\n",
    "            if has_rating:\n",
    "                negative_reviews = analyzed_df[analyzed_df['rating'] <= 2]\n",
    "                negative_response_rate = negative_reviews['has_response'].mean() * 100\n",
    "                \n",
    "                positive_reviews = analyzed_df[analyzed_df['rating'] >= 4]\n",
    "                positive_response_rate = positive_reviews['has_response'].mean() * 100\n",
    "                \n",
    "                if negative_response_rate > 2 * positive_response_rate:\n",
    "                    findings.append(f\"Negative reviews (rating 1-2) receive significantly more developer responses ({negative_response_rate:.1f}%) than positive ones ({positive_response_rate:.1f}%).\")\n",
    "        except Exception as e:\n",
    "            print(f\"Error analyzing developer responses: {e}\")\n",
    "    \n",
    "    # Display the findings\n",
    "    if findings:\n",
    "        print(\"\\nKEY FINDINGS FROM VERSION-BASED ANALYSIS:\")\n",
    "        for i, finding in enumerate(findings, 1):\n",
    "            print(f\"{i}. {finding}\")\n",
    "    else:\n",
    "        print(\"\\nNo significant findings identified from version-based analysis. This may be due to insufficient data or lack of clear patterns.\")"
   ]
  },
  {
   "cell_type": "markdown",
   "metadata": {},
   "source": [
    "## Plotting Trends"
   ]
  },
  {
   "cell_type": "code",
   "execution_count": 35,
   "metadata": {},
   "outputs": [
    {
     "name": "stdout",
     "output_type": "stream",
     "text": [
      "Checking date column for time-based analysis:\n",
      "Date column has 10000 valid dates out of 10000 records (100.00%)\n",
      "\n",
      "Generating time-based visualizations...\n"
     ]
    },
    {
     "data": {
      "application/vnd.plotly.v1+json": {
       "config": {
        "plotlyServerURL": "https://plot.ly"
       },
       "data": [
        {
         "line": {
          "color": "blue",
          "width": 3
         },
         "mode": "lines+markers",
         "name": "Average Rating",
         "type": "scatter",
         "x": [
          "2023-08-27T12:35:07",
          "2023-09-01T01:38:14",
          "2023-10-01T02:55:04",
          "2023-11-01T06:26:01",
          "2023-12-01T00:18:22",
          "2024-01-01T00:47:18",
          "2024-02-01T00:30:55",
          "2024-03-01T00:11:59",
          "2024-04-01T03:58:27",
          "2024-05-01T01:15:41",
          "2024-06-01T02:00:26",
          "2024-07-01T00:53:04",
          "2024-08-01T00:27:03",
          "2024-09-01T00:22:14",
          "2024-10-01T00:08:26",
          "2024-11-01T03:44:05",
          "2024-12-01T06:08:38",
          "2025-01-01T01:19:02",
          "2025-02-01T00:57:44",
          "2025-03-01T14:32:46",
          "2025-04-01T10:34:39",
          "2025-05-01T10:27:05"
         ],
         "xaxis": "x",
         "y": {
          "bdata": "6Av6gr6gC0ClDVGlTuIKQC0tLS0tLQpAmWcVNUYKDEBVayvjsp0KQDbMR2LDfAhAJStZyUpWCkBtCuNsCuMMQHMNhi9iHw5AgtJsuvHvDUA8MmwQN08OQOskw5njaQ1A113jsm9aB0BqFUaI7EsCQEaMGDFixABAiAs1J4G4AEDukLlD5g4BQLGewnoK6wFAG+i0gU4bAECxnsJ6CusBQK2wOZBohQFAJ5tssskm+z8=",
          "dtype": "f8"
         },
         "yaxis": "y"
        },
        {
         "marker": {
          "color": "rgba(0, 128, 0, 0.3)"
         },
         "name": "Review Count",
         "type": "bar",
         "x": [
          "2023-08-27T12:35:07",
          "2023-09-01T01:38:14",
          "2023-10-01T02:55:04",
          "2023-11-01T06:26:01",
          "2023-12-01T00:18:22",
          "2024-01-01T00:47:18",
          "2024-02-01T00:30:55",
          "2024-03-01T00:11:59",
          "2024-04-01T03:58:27",
          "2024-05-01T01:15:41",
          "2024-06-01T02:00:26",
          "2024-07-01T00:53:04",
          "2024-08-01T00:27:03",
          "2024-09-01T00:22:14",
          "2024-10-01T00:08:26",
          "2024-11-01T03:44:05",
          "2024-12-01T06:08:38",
          "2025-01-01T01:19:02",
          "2025-02-01T00:57:44",
          "2025-03-01T14:32:46",
          "2025-04-01T10:34:39",
          "2025-05-01T10:27:05"
         ],
         "xaxis": "x",
         "y": {
          "bdata": "VgB+AqgCVgLhAmYDbwKXAjsCPgISAncChwMOAiQB3gC9AKsAlgCrAI4AIQA=",
          "dtype": "i2"
         },
         "yaxis": "y2"
        }
       ],
       "layout": {
        "annotations": [
         {
          "showarrow": false,
          "text": "Neutral (3.0)",
          "x": 1,
          "xanchor": "right",
          "xref": "x domain",
          "y": 3,
          "yanchor": "bottom",
          "yref": "y"
         }
        ],
        "height": 600,
        "legend": {
         "orientation": "h",
         "x": 1,
         "xanchor": "right",
         "y": 1.02,
         "yanchor": "bottom"
        },
        "shapes": [
         {
          "line": {
           "color": "grey",
           "dash": "dash"
          },
          "type": "line",
          "x0": 0,
          "x1": 1,
          "xref": "x domain",
          "y0": 3,
          "y1": 3,
          "yref": "y"
         }
        ],
        "template": {
         "data": {
          "bar": [
           {
            "error_x": {
             "color": "#2a3f5f"
            },
            "error_y": {
             "color": "#2a3f5f"
            },
            "marker": {
             "line": {
              "color": "#E5ECF6",
              "width": 0.5
             },
             "pattern": {
              "fillmode": "overlay",
              "size": 10,
              "solidity": 0.2
             }
            },
            "type": "bar"
           }
          ],
          "barpolar": [
           {
            "marker": {
             "line": {
              "color": "#E5ECF6",
              "width": 0.5
             },
             "pattern": {
              "fillmode": "overlay",
              "size": 10,
              "solidity": 0.2
             }
            },
            "type": "barpolar"
           }
          ],
          "carpet": [
           {
            "aaxis": {
             "endlinecolor": "#2a3f5f",
             "gridcolor": "white",
             "linecolor": "white",
             "minorgridcolor": "white",
             "startlinecolor": "#2a3f5f"
            },
            "baxis": {
             "endlinecolor": "#2a3f5f",
             "gridcolor": "white",
             "linecolor": "white",
             "minorgridcolor": "white",
             "startlinecolor": "#2a3f5f"
            },
            "type": "carpet"
           }
          ],
          "choropleth": [
           {
            "colorbar": {
             "outlinewidth": 0,
             "ticks": ""
            },
            "type": "choropleth"
           }
          ],
          "contour": [
           {
            "colorbar": {
             "outlinewidth": 0,
             "ticks": ""
            },
            "colorscale": [
             [
              0,
              "#0d0887"
             ],
             [
              0.1111111111111111,
              "#46039f"
             ],
             [
              0.2222222222222222,
              "#7201a8"
             ],
             [
              0.3333333333333333,
              "#9c179e"
             ],
             [
              0.4444444444444444,
              "#bd3786"
             ],
             [
              0.5555555555555556,
              "#d8576b"
             ],
             [
              0.6666666666666666,
              "#ed7953"
             ],
             [
              0.7777777777777778,
              "#fb9f3a"
             ],
             [
              0.8888888888888888,
              "#fdca26"
             ],
             [
              1,
              "#f0f921"
             ]
            ],
            "type": "contour"
           }
          ],
          "contourcarpet": [
           {
            "colorbar": {
             "outlinewidth": 0,
             "ticks": ""
            },
            "type": "contourcarpet"
           }
          ],
          "heatmap": [
           {
            "colorbar": {
             "outlinewidth": 0,
             "ticks": ""
            },
            "colorscale": [
             [
              0,
              "#0d0887"
             ],
             [
              0.1111111111111111,
              "#46039f"
             ],
             [
              0.2222222222222222,
              "#7201a8"
             ],
             [
              0.3333333333333333,
              "#9c179e"
             ],
             [
              0.4444444444444444,
              "#bd3786"
             ],
             [
              0.5555555555555556,
              "#d8576b"
             ],
             [
              0.6666666666666666,
              "#ed7953"
             ],
             [
              0.7777777777777778,
              "#fb9f3a"
             ],
             [
              0.8888888888888888,
              "#fdca26"
             ],
             [
              1,
              "#f0f921"
             ]
            ],
            "type": "heatmap"
           }
          ],
          "histogram": [
           {
            "marker": {
             "pattern": {
              "fillmode": "overlay",
              "size": 10,
              "solidity": 0.2
             }
            },
            "type": "histogram"
           }
          ],
          "histogram2d": [
           {
            "colorbar": {
             "outlinewidth": 0,
             "ticks": ""
            },
            "colorscale": [
             [
              0,
              "#0d0887"
             ],
             [
              0.1111111111111111,
              "#46039f"
             ],
             [
              0.2222222222222222,
              "#7201a8"
             ],
             [
              0.3333333333333333,
              "#9c179e"
             ],
             [
              0.4444444444444444,
              "#bd3786"
             ],
             [
              0.5555555555555556,
              "#d8576b"
             ],
             [
              0.6666666666666666,
              "#ed7953"
             ],
             [
              0.7777777777777778,
              "#fb9f3a"
             ],
             [
              0.8888888888888888,
              "#fdca26"
             ],
             [
              1,
              "#f0f921"
             ]
            ],
            "type": "histogram2d"
           }
          ],
          "histogram2dcontour": [
           {
            "colorbar": {
             "outlinewidth": 0,
             "ticks": ""
            },
            "colorscale": [
             [
              0,
              "#0d0887"
             ],
             [
              0.1111111111111111,
              "#46039f"
             ],
             [
              0.2222222222222222,
              "#7201a8"
             ],
             [
              0.3333333333333333,
              "#9c179e"
             ],
             [
              0.4444444444444444,
              "#bd3786"
             ],
             [
              0.5555555555555556,
              "#d8576b"
             ],
             [
              0.6666666666666666,
              "#ed7953"
             ],
             [
              0.7777777777777778,
              "#fb9f3a"
             ],
             [
              0.8888888888888888,
              "#fdca26"
             ],
             [
              1,
              "#f0f921"
             ]
            ],
            "type": "histogram2dcontour"
           }
          ],
          "mesh3d": [
           {
            "colorbar": {
             "outlinewidth": 0,
             "ticks": ""
            },
            "type": "mesh3d"
           }
          ],
          "parcoords": [
           {
            "line": {
             "colorbar": {
              "outlinewidth": 0,
              "ticks": ""
             }
            },
            "type": "parcoords"
           }
          ],
          "pie": [
           {
            "automargin": true,
            "type": "pie"
           }
          ],
          "scatter": [
           {
            "fillpattern": {
             "fillmode": "overlay",
             "size": 10,
             "solidity": 0.2
            },
            "type": "scatter"
           }
          ],
          "scatter3d": [
           {
            "line": {
             "colorbar": {
              "outlinewidth": 0,
              "ticks": ""
             }
            },
            "marker": {
             "colorbar": {
              "outlinewidth": 0,
              "ticks": ""
             }
            },
            "type": "scatter3d"
           }
          ],
          "scattercarpet": [
           {
            "marker": {
             "colorbar": {
              "outlinewidth": 0,
              "ticks": ""
             }
            },
            "type": "scattercarpet"
           }
          ],
          "scattergeo": [
           {
            "marker": {
             "colorbar": {
              "outlinewidth": 0,
              "ticks": ""
             }
            },
            "type": "scattergeo"
           }
          ],
          "scattergl": [
           {
            "marker": {
             "colorbar": {
              "outlinewidth": 0,
              "ticks": ""
             }
            },
            "type": "scattergl"
           }
          ],
          "scattermap": [
           {
            "marker": {
             "colorbar": {
              "outlinewidth": 0,
              "ticks": ""
             }
            },
            "type": "scattermap"
           }
          ],
          "scattermapbox": [
           {
            "marker": {
             "colorbar": {
              "outlinewidth": 0,
              "ticks": ""
             }
            },
            "type": "scattermapbox"
           }
          ],
          "scatterpolar": [
           {
            "marker": {
             "colorbar": {
              "outlinewidth": 0,
              "ticks": ""
             }
            },
            "type": "scatterpolar"
           }
          ],
          "scatterpolargl": [
           {
            "marker": {
             "colorbar": {
              "outlinewidth": 0,
              "ticks": ""
             }
            },
            "type": "scatterpolargl"
           }
          ],
          "scatterternary": [
           {
            "marker": {
             "colorbar": {
              "outlinewidth": 0,
              "ticks": ""
             }
            },
            "type": "scatterternary"
           }
          ],
          "surface": [
           {
            "colorbar": {
             "outlinewidth": 0,
             "ticks": ""
            },
            "colorscale": [
             [
              0,
              "#0d0887"
             ],
             [
              0.1111111111111111,
              "#46039f"
             ],
             [
              0.2222222222222222,
              "#7201a8"
             ],
             [
              0.3333333333333333,
              "#9c179e"
             ],
             [
              0.4444444444444444,
              "#bd3786"
             ],
             [
              0.5555555555555556,
              "#d8576b"
             ],
             [
              0.6666666666666666,
              "#ed7953"
             ],
             [
              0.7777777777777778,
              "#fb9f3a"
             ],
             [
              0.8888888888888888,
              "#fdca26"
             ],
             [
              1,
              "#f0f921"
             ]
            ],
            "type": "surface"
           }
          ],
          "table": [
           {
            "cells": {
             "fill": {
              "color": "#EBF0F8"
             },
             "line": {
              "color": "white"
             }
            },
            "header": {
             "fill": {
              "color": "#C8D4E3"
             },
             "line": {
              "color": "white"
             }
            },
            "type": "table"
           }
          ]
         },
         "layout": {
          "annotationdefaults": {
           "arrowcolor": "#2a3f5f",
           "arrowhead": 0,
           "arrowwidth": 1
          },
          "autotypenumbers": "strict",
          "coloraxis": {
           "colorbar": {
            "outlinewidth": 0,
            "ticks": ""
           }
          },
          "colorscale": {
           "diverging": [
            [
             0,
             "#8e0152"
            ],
            [
             0.1,
             "#c51b7d"
            ],
            [
             0.2,
             "#de77ae"
            ],
            [
             0.3,
             "#f1b6da"
            ],
            [
             0.4,
             "#fde0ef"
            ],
            [
             0.5,
             "#f7f7f7"
            ],
            [
             0.6,
             "#e6f5d0"
            ],
            [
             0.7,
             "#b8e186"
            ],
            [
             0.8,
             "#7fbc41"
            ],
            [
             0.9,
             "#4d9221"
            ],
            [
             1,
             "#276419"
            ]
           ],
           "sequential": [
            [
             0,
             "#0d0887"
            ],
            [
             0.1111111111111111,
             "#46039f"
            ],
            [
             0.2222222222222222,
             "#7201a8"
            ],
            [
             0.3333333333333333,
             "#9c179e"
            ],
            [
             0.4444444444444444,
             "#bd3786"
            ],
            [
             0.5555555555555556,
             "#d8576b"
            ],
            [
             0.6666666666666666,
             "#ed7953"
            ],
            [
             0.7777777777777778,
             "#fb9f3a"
            ],
            [
             0.8888888888888888,
             "#fdca26"
            ],
            [
             1,
             "#f0f921"
            ]
           ],
           "sequentialminus": [
            [
             0,
             "#0d0887"
            ],
            [
             0.1111111111111111,
             "#46039f"
            ],
            [
             0.2222222222222222,
             "#7201a8"
            ],
            [
             0.3333333333333333,
             "#9c179e"
            ],
            [
             0.4444444444444444,
             "#bd3786"
            ],
            [
             0.5555555555555556,
             "#d8576b"
            ],
            [
             0.6666666666666666,
             "#ed7953"
            ],
            [
             0.7777777777777778,
             "#fb9f3a"
            ],
            [
             0.8888888888888888,
             "#fdca26"
            ],
            [
             1,
             "#f0f921"
            ]
           ]
          },
          "colorway": [
           "#636efa",
           "#EF553B",
           "#00cc96",
           "#ab63fa",
           "#FFA15A",
           "#19d3f3",
           "#FF6692",
           "#B6E880",
           "#FF97FF",
           "#FECB52"
          ],
          "font": {
           "color": "#2a3f5f"
          },
          "geo": {
           "bgcolor": "white",
           "lakecolor": "white",
           "landcolor": "#E5ECF6",
           "showlakes": true,
           "showland": true,
           "subunitcolor": "white"
          },
          "hoverlabel": {
           "align": "left"
          },
          "hovermode": "closest",
          "mapbox": {
           "style": "light"
          },
          "paper_bgcolor": "white",
          "plot_bgcolor": "#E5ECF6",
          "polar": {
           "angularaxis": {
            "gridcolor": "white",
            "linecolor": "white",
            "ticks": ""
           },
           "bgcolor": "#E5ECF6",
           "radialaxis": {
            "gridcolor": "white",
            "linecolor": "white",
            "ticks": ""
           }
          },
          "scene": {
           "xaxis": {
            "backgroundcolor": "#E5ECF6",
            "gridcolor": "white",
            "gridwidth": 2,
            "linecolor": "white",
            "showbackground": true,
            "ticks": "",
            "zerolinecolor": "white"
           },
           "yaxis": {
            "backgroundcolor": "#E5ECF6",
            "gridcolor": "white",
            "gridwidth": 2,
            "linecolor": "white",
            "showbackground": true,
            "ticks": "",
            "zerolinecolor": "white"
           },
           "zaxis": {
            "backgroundcolor": "#E5ECF6",
            "gridcolor": "white",
            "gridwidth": 2,
            "linecolor": "white",
            "showbackground": true,
            "ticks": "",
            "zerolinecolor": "white"
           }
          },
          "shapedefaults": {
           "line": {
            "color": "#2a3f5f"
           }
          },
          "ternary": {
           "aaxis": {
            "gridcolor": "white",
            "linecolor": "white",
            "ticks": ""
           },
           "baxis": {
            "gridcolor": "white",
            "linecolor": "white",
            "ticks": ""
           },
           "bgcolor": "#E5ECF6",
           "caxis": {
            "gridcolor": "white",
            "linecolor": "white",
            "ticks": ""
           }
          },
          "title": {
           "x": 0.05
          },
          "xaxis": {
           "automargin": true,
           "gridcolor": "white",
           "linecolor": "white",
           "ticks": "",
           "title": {
            "standoff": 15
           },
           "zerolinecolor": "white",
           "zerolinewidth": 2
          },
          "yaxis": {
           "automargin": true,
           "gridcolor": "white",
           "linecolor": "white",
           "ticks": "",
           "title": {
            "standoff": 15
           },
           "zerolinecolor": "white",
           "zerolinewidth": 2
          }
         }
        },
        "title": {
         "text": "Average Rating and Review Volume Over Time"
        },
        "xaxis": {
         "anchor": "y",
         "domain": [
          0,
          0.94
         ],
         "title": {
          "text": "Date"
         }
        },
        "yaxis": {
         "anchor": "x",
         "domain": [
          0,
          1
         ],
         "range": [
          1,
          5
         ],
         "title": {
          "text": "Average Rating"
         }
        },
        "yaxis2": {
         "anchor": "x",
         "overlaying": "y",
         "side": "right",
         "title": {
          "text": "Number of Reviews"
         }
        }
       }
      }
     },
     "metadata": {},
     "output_type": "display_data"
    },
    {
     "data": {
      "application/vnd.plotly.v1+json": {
       "config": {
        "plotlyServerURL": "https://plot.ly"
       },
       "data": [
        {
         "coloraxis": "coloraxis",
         "histfunc": "sum",
         "hovertemplate": "Month=%{x}<br>Rating=%{y}<br>sum of Percentage of Reviews=%{z}<extra></extra>",
         "name": "",
         "type": "histogram2d",
         "x": [
          "2023-08",
          "2023-09",
          "2023-10",
          "2023-11",
          "2023-12",
          "2024-01",
          "2024-02",
          "2024-03",
          "2024-04",
          "2024-05",
          "2024-06",
          "2024-07",
          "2024-08",
          "2024-09",
          "2024-10",
          "2024-11",
          "2024-12",
          "2025-01",
          "2025-02",
          "2025-03",
          "2025-04",
          "2025-05",
          "2023-08",
          "2023-09",
          "2023-10",
          "2023-11",
          "2023-12",
          "2024-01",
          "2024-02",
          "2024-03",
          "2024-04",
          "2024-05",
          "2024-06",
          "2024-07",
          "2024-08",
          "2024-09",
          "2024-10",
          "2024-11",
          "2024-12",
          "2025-01",
          "2025-02",
          "2025-03",
          "2025-04",
          "2025-05",
          "2023-08",
          "2023-09",
          "2023-10",
          "2023-11",
          "2023-12",
          "2024-01",
          "2024-02",
          "2024-03",
          "2024-04",
          "2024-05",
          "2024-06",
          "2024-07",
          "2024-08",
          "2024-09",
          "2024-10",
          "2024-11",
          "2024-12",
          "2025-01",
          "2025-02",
          "2025-03",
          "2025-04",
          "2025-05",
          "2023-08",
          "2023-09",
          "2023-10",
          "2023-11",
          "2023-12",
          "2024-01",
          "2024-02",
          "2024-03",
          "2024-04",
          "2024-05",
          "2024-06",
          "2024-07",
          "2024-08",
          "2024-09",
          "2024-10",
          "2024-11",
          "2024-12",
          "2025-01",
          "2025-02",
          "2025-03",
          "2025-04",
          "2025-05",
          "2023-08",
          "2023-09",
          "2023-10",
          "2023-11",
          "2023-12",
          "2024-01",
          "2024-02",
          "2024-03",
          "2024-04",
          "2024-05",
          "2024-06",
          "2024-07",
          "2024-08",
          "2024-09",
          "2024-10",
          "2024-11",
          "2024-12",
          "2025-01",
          "2025-02",
          "2025-03",
          "2025-04",
          "2025-05"
         ],
         "xaxis": "x",
         "xbingroup": "x",
         "y": [
          1,
          1,
          1,
          1,
          1,
          1,
          1,
          1,
          1,
          1,
          1,
          1,
          1,
          1,
          1,
          1,
          1,
          1,
          1,
          1,
          1,
          1,
          2,
          2,
          2,
          2,
          2,
          2,
          2,
          2,
          2,
          2,
          2,
          2,
          2,
          2,
          2,
          2,
          2,
          2,
          2,
          2,
          2,
          2,
          3,
          3,
          3,
          3,
          3,
          3,
          3,
          3,
          3,
          3,
          3,
          3,
          3,
          3,
          3,
          3,
          3,
          3,
          3,
          3,
          3,
          3,
          4,
          4,
          4,
          4,
          4,
          4,
          4,
          4,
          4,
          4,
          4,
          4,
          4,
          4,
          4,
          4,
          4,
          4,
          4,
          4,
          4,
          4,
          5,
          5,
          5,
          5,
          5,
          5,
          5,
          5,
          5,
          5,
          5,
          5,
          5,
          5,
          5,
          5,
          5,
          5,
          5,
          5,
          5,
          5
         ],
         "yaxis": "y",
         "ybingroup": "y",
         "z": {
          "bdata": "+oK+oC/oO0Ar9zTCck89QEtLS0tLi0BAX7CW8DXDPEDeoe5xuI1AQJZ7GmG5p0NAwlhY54OxQEDbxovaxos6QAR1QWoJETZAHP/eOoLSNkBvZZ9DaoI1QKoSPpG2MjlALaCdjHC1REB1OIp+EmtOQMGBAwcOnFBAERdqTgJxUEDv+77v+75PQN9BfAfxHU5AVlVVVVVVUUCM5jKay2hOQNIKmwOJVk9Asskmm2yyU0DQF/QFfUEXQG2IKnUS1xxAeXh4eHh4GkAF7r7j4mUTQFfGZTv1/hJAs3XoN1uHFkCs88FYWOcTQMAiSsAiShBABGjIs12dE0BDq8DYUx4SQMZb2eeQmhBA33a9e2nkC0Ckmw2wlZAeQFXPvZugDRZA2bJly5YtE0DyWTeYIp8VQO/7vu/7vh9A/QX0F9BfIECrqqqqqqoSQB/BfQT3ERxAjN8u9WT8HkA++OCDDz4IQKesKWvKmhJAH6aPc5C0GUAPDw8PDw8bQII4OjTJvxhASA9Uzm7hF0DUCMs9jbAUQDxytvx35BxAFGJOE2JOE0AEaMizXZ0TQKOX6ueENRRAP4fUBOOtHEAxKiiL3y8WQPvdx4mW6xdAUfSTWPNKBUAxYsSIESMOQJqTQFyoOQlAEtpLaC+hDUAfwX0E9xEMQFZVVVVVVQVA/QX0F9BfEEAh0QqbA4kGQD744IMPPghAEnfEHXFHMEDMfh6mj3MoQDw8PDw8PBxAAIO1hK8ZHkAGrmsKIl4hQPSbrUO/2SJA97rXve51H0BWLrhVLrglQJYDaMizXSVA5N9bR1CaJUDGW9nnkJogQF+MCsri9yNAiBcrWC8fHkBdYDtlqFUYQK9evXr16gVA8lk3mCKfFUBZlmVZlmX5Px/BfQT3EQxAAAAAAAAAAEAfwX0E9xEMQCHRCpsDifY/AAAAAAAAAABrypqypqxGQOaeRljuaUZAPDw8PDw8R0Cf0h6UeVZKQO03P4qyvkdAnK1Dv9k6REAioz02REZHQGMA2WIA2UpAlyrT67a4TEAcIKS4r2VMQPY5pCYYb01A33a9e2nkS0CuTSIBJLdCQJ/Emleq5zhAKlSoUKFCNkBT5LNuMEU0QHx08tHJRzdA+wjuI7iPOEBWVVVVVVU1QPsI7iO4jzhARCtsDiRaOUBONtlkk00uQA==",
          "dtype": "f8"
         }
        }
       ],
       "layout": {
        "coloraxis": {
         "colorbar": {
          "title": {
           "text": "Percentage"
          }
         },
         "colorscale": [
          [
           0,
           "rgb(5,48,97)"
          ],
          [
           0.1,
           "rgb(33,102,172)"
          ],
          [
           0.2,
           "rgb(67,147,195)"
          ],
          [
           0.3,
           "rgb(146,197,222)"
          ],
          [
           0.4,
           "rgb(209,229,240)"
          ],
          [
           0.5,
           "rgb(247,247,247)"
          ],
          [
           0.6,
           "rgb(253,219,199)"
          ],
          [
           0.7,
           "rgb(244,165,130)"
          ],
          [
           0.8,
           "rgb(214,96,77)"
          ],
          [
           0.9,
           "rgb(178,24,43)"
          ],
          [
           1,
           "rgb(103,0,31)"
          ]
         ]
        },
        "height": 500,
        "legend": {
         "tracegroupgap": 0
        },
        "template": {
         "data": {
          "bar": [
           {
            "error_x": {
             "color": "#2a3f5f"
            },
            "error_y": {
             "color": "#2a3f5f"
            },
            "marker": {
             "line": {
              "color": "#E5ECF6",
              "width": 0.5
             },
             "pattern": {
              "fillmode": "overlay",
              "size": 10,
              "solidity": 0.2
             }
            },
            "type": "bar"
           }
          ],
          "barpolar": [
           {
            "marker": {
             "line": {
              "color": "#E5ECF6",
              "width": 0.5
             },
             "pattern": {
              "fillmode": "overlay",
              "size": 10,
              "solidity": 0.2
             }
            },
            "type": "barpolar"
           }
          ],
          "carpet": [
           {
            "aaxis": {
             "endlinecolor": "#2a3f5f",
             "gridcolor": "white",
             "linecolor": "white",
             "minorgridcolor": "white",
             "startlinecolor": "#2a3f5f"
            },
            "baxis": {
             "endlinecolor": "#2a3f5f",
             "gridcolor": "white",
             "linecolor": "white",
             "minorgridcolor": "white",
             "startlinecolor": "#2a3f5f"
            },
            "type": "carpet"
           }
          ],
          "choropleth": [
           {
            "colorbar": {
             "outlinewidth": 0,
             "ticks": ""
            },
            "type": "choropleth"
           }
          ],
          "contour": [
           {
            "colorbar": {
             "outlinewidth": 0,
             "ticks": ""
            },
            "colorscale": [
             [
              0,
              "#0d0887"
             ],
             [
              0.1111111111111111,
              "#46039f"
             ],
             [
              0.2222222222222222,
              "#7201a8"
             ],
             [
              0.3333333333333333,
              "#9c179e"
             ],
             [
              0.4444444444444444,
              "#bd3786"
             ],
             [
              0.5555555555555556,
              "#d8576b"
             ],
             [
              0.6666666666666666,
              "#ed7953"
             ],
             [
              0.7777777777777778,
              "#fb9f3a"
             ],
             [
              0.8888888888888888,
              "#fdca26"
             ],
             [
              1,
              "#f0f921"
             ]
            ],
            "type": "contour"
           }
          ],
          "contourcarpet": [
           {
            "colorbar": {
             "outlinewidth": 0,
             "ticks": ""
            },
            "type": "contourcarpet"
           }
          ],
          "heatmap": [
           {
            "colorbar": {
             "outlinewidth": 0,
             "ticks": ""
            },
            "colorscale": [
             [
              0,
              "#0d0887"
             ],
             [
              0.1111111111111111,
              "#46039f"
             ],
             [
              0.2222222222222222,
              "#7201a8"
             ],
             [
              0.3333333333333333,
              "#9c179e"
             ],
             [
              0.4444444444444444,
              "#bd3786"
             ],
             [
              0.5555555555555556,
              "#d8576b"
             ],
             [
              0.6666666666666666,
              "#ed7953"
             ],
             [
              0.7777777777777778,
              "#fb9f3a"
             ],
             [
              0.8888888888888888,
              "#fdca26"
             ],
             [
              1,
              "#f0f921"
             ]
            ],
            "type": "heatmap"
           }
          ],
          "histogram": [
           {
            "marker": {
             "pattern": {
              "fillmode": "overlay",
              "size": 10,
              "solidity": 0.2
             }
            },
            "type": "histogram"
           }
          ],
          "histogram2d": [
           {
            "colorbar": {
             "outlinewidth": 0,
             "ticks": ""
            },
            "colorscale": [
             [
              0,
              "#0d0887"
             ],
             [
              0.1111111111111111,
              "#46039f"
             ],
             [
              0.2222222222222222,
              "#7201a8"
             ],
             [
              0.3333333333333333,
              "#9c179e"
             ],
             [
              0.4444444444444444,
              "#bd3786"
             ],
             [
              0.5555555555555556,
              "#d8576b"
             ],
             [
              0.6666666666666666,
              "#ed7953"
             ],
             [
              0.7777777777777778,
              "#fb9f3a"
             ],
             [
              0.8888888888888888,
              "#fdca26"
             ],
             [
              1,
              "#f0f921"
             ]
            ],
            "type": "histogram2d"
           }
          ],
          "histogram2dcontour": [
           {
            "colorbar": {
             "outlinewidth": 0,
             "ticks": ""
            },
            "colorscale": [
             [
              0,
              "#0d0887"
             ],
             [
              0.1111111111111111,
              "#46039f"
             ],
             [
              0.2222222222222222,
              "#7201a8"
             ],
             [
              0.3333333333333333,
              "#9c179e"
             ],
             [
              0.4444444444444444,
              "#bd3786"
             ],
             [
              0.5555555555555556,
              "#d8576b"
             ],
             [
              0.6666666666666666,
              "#ed7953"
             ],
             [
              0.7777777777777778,
              "#fb9f3a"
             ],
             [
              0.8888888888888888,
              "#fdca26"
             ],
             [
              1,
              "#f0f921"
             ]
            ],
            "type": "histogram2dcontour"
           }
          ],
          "mesh3d": [
           {
            "colorbar": {
             "outlinewidth": 0,
             "ticks": ""
            },
            "type": "mesh3d"
           }
          ],
          "parcoords": [
           {
            "line": {
             "colorbar": {
              "outlinewidth": 0,
              "ticks": ""
             }
            },
            "type": "parcoords"
           }
          ],
          "pie": [
           {
            "automargin": true,
            "type": "pie"
           }
          ],
          "scatter": [
           {
            "fillpattern": {
             "fillmode": "overlay",
             "size": 10,
             "solidity": 0.2
            },
            "type": "scatter"
           }
          ],
          "scatter3d": [
           {
            "line": {
             "colorbar": {
              "outlinewidth": 0,
              "ticks": ""
             }
            },
            "marker": {
             "colorbar": {
              "outlinewidth": 0,
              "ticks": ""
             }
            },
            "type": "scatter3d"
           }
          ],
          "scattercarpet": [
           {
            "marker": {
             "colorbar": {
              "outlinewidth": 0,
              "ticks": ""
             }
            },
            "type": "scattercarpet"
           }
          ],
          "scattergeo": [
           {
            "marker": {
             "colorbar": {
              "outlinewidth": 0,
              "ticks": ""
             }
            },
            "type": "scattergeo"
           }
          ],
          "scattergl": [
           {
            "marker": {
             "colorbar": {
              "outlinewidth": 0,
              "ticks": ""
             }
            },
            "type": "scattergl"
           }
          ],
          "scattermap": [
           {
            "marker": {
             "colorbar": {
              "outlinewidth": 0,
              "ticks": ""
             }
            },
            "type": "scattermap"
           }
          ],
          "scattermapbox": [
           {
            "marker": {
             "colorbar": {
              "outlinewidth": 0,
              "ticks": ""
             }
            },
            "type": "scattermapbox"
           }
          ],
          "scatterpolar": [
           {
            "marker": {
             "colorbar": {
              "outlinewidth": 0,
              "ticks": ""
             }
            },
            "type": "scatterpolar"
           }
          ],
          "scatterpolargl": [
           {
            "marker": {
             "colorbar": {
              "outlinewidth": 0,
              "ticks": ""
             }
            },
            "type": "scatterpolargl"
           }
          ],
          "scatterternary": [
           {
            "marker": {
             "colorbar": {
              "outlinewidth": 0,
              "ticks": ""
             }
            },
            "type": "scatterternary"
           }
          ],
          "surface": [
           {
            "colorbar": {
             "outlinewidth": 0,
             "ticks": ""
            },
            "colorscale": [
             [
              0,
              "#0d0887"
             ],
             [
              0.1111111111111111,
              "#46039f"
             ],
             [
              0.2222222222222222,
              "#7201a8"
             ],
             [
              0.3333333333333333,
              "#9c179e"
             ],
             [
              0.4444444444444444,
              "#bd3786"
             ],
             [
              0.5555555555555556,
              "#d8576b"
             ],
             [
              0.6666666666666666,
              "#ed7953"
             ],
             [
              0.7777777777777778,
              "#fb9f3a"
             ],
             [
              0.8888888888888888,
              "#fdca26"
             ],
             [
              1,
              "#f0f921"
             ]
            ],
            "type": "surface"
           }
          ],
          "table": [
           {
            "cells": {
             "fill": {
              "color": "#EBF0F8"
             },
             "line": {
              "color": "white"
             }
            },
            "header": {
             "fill": {
              "color": "#C8D4E3"
             },
             "line": {
              "color": "white"
             }
            },
            "type": "table"
           }
          ]
         },
         "layout": {
          "annotationdefaults": {
           "arrowcolor": "#2a3f5f",
           "arrowhead": 0,
           "arrowwidth": 1
          },
          "autotypenumbers": "strict",
          "coloraxis": {
           "colorbar": {
            "outlinewidth": 0,
            "ticks": ""
           }
          },
          "colorscale": {
           "diverging": [
            [
             0,
             "#8e0152"
            ],
            [
             0.1,
             "#c51b7d"
            ],
            [
             0.2,
             "#de77ae"
            ],
            [
             0.3,
             "#f1b6da"
            ],
            [
             0.4,
             "#fde0ef"
            ],
            [
             0.5,
             "#f7f7f7"
            ],
            [
             0.6,
             "#e6f5d0"
            ],
            [
             0.7,
             "#b8e186"
            ],
            [
             0.8,
             "#7fbc41"
            ],
            [
             0.9,
             "#4d9221"
            ],
            [
             1,
             "#276419"
            ]
           ],
           "sequential": [
            [
             0,
             "#0d0887"
            ],
            [
             0.1111111111111111,
             "#46039f"
            ],
            [
             0.2222222222222222,
             "#7201a8"
            ],
            [
             0.3333333333333333,
             "#9c179e"
            ],
            [
             0.4444444444444444,
             "#bd3786"
            ],
            [
             0.5555555555555556,
             "#d8576b"
            ],
            [
             0.6666666666666666,
             "#ed7953"
            ],
            [
             0.7777777777777778,
             "#fb9f3a"
            ],
            [
             0.8888888888888888,
             "#fdca26"
            ],
            [
             1,
             "#f0f921"
            ]
           ],
           "sequentialminus": [
            [
             0,
             "#0d0887"
            ],
            [
             0.1111111111111111,
             "#46039f"
            ],
            [
             0.2222222222222222,
             "#7201a8"
            ],
            [
             0.3333333333333333,
             "#9c179e"
            ],
            [
             0.4444444444444444,
             "#bd3786"
            ],
            [
             0.5555555555555556,
             "#d8576b"
            ],
            [
             0.6666666666666666,
             "#ed7953"
            ],
            [
             0.7777777777777778,
             "#fb9f3a"
            ],
            [
             0.8888888888888888,
             "#fdca26"
            ],
            [
             1,
             "#f0f921"
            ]
           ]
          },
          "colorway": [
           "#636efa",
           "#EF553B",
           "#00cc96",
           "#ab63fa",
           "#FFA15A",
           "#19d3f3",
           "#FF6692",
           "#B6E880",
           "#FF97FF",
           "#FECB52"
          ],
          "font": {
           "color": "#2a3f5f"
          },
          "geo": {
           "bgcolor": "white",
           "lakecolor": "white",
           "landcolor": "#E5ECF6",
           "showlakes": true,
           "showland": true,
           "subunitcolor": "white"
          },
          "hoverlabel": {
           "align": "left"
          },
          "hovermode": "closest",
          "mapbox": {
           "style": "light"
          },
          "paper_bgcolor": "white",
          "plot_bgcolor": "#E5ECF6",
          "polar": {
           "angularaxis": {
            "gridcolor": "white",
            "linecolor": "white",
            "ticks": ""
           },
           "bgcolor": "#E5ECF6",
           "radialaxis": {
            "gridcolor": "white",
            "linecolor": "white",
            "ticks": ""
           }
          },
          "scene": {
           "xaxis": {
            "backgroundcolor": "#E5ECF6",
            "gridcolor": "white",
            "gridwidth": 2,
            "linecolor": "white",
            "showbackground": true,
            "ticks": "",
            "zerolinecolor": "white"
           },
           "yaxis": {
            "backgroundcolor": "#E5ECF6",
            "gridcolor": "white",
            "gridwidth": 2,
            "linecolor": "white",
            "showbackground": true,
            "ticks": "",
            "zerolinecolor": "white"
           },
           "zaxis": {
            "backgroundcolor": "#E5ECF6",
            "gridcolor": "white",
            "gridwidth": 2,
            "linecolor": "white",
            "showbackground": true,
            "ticks": "",
            "zerolinecolor": "white"
           }
          },
          "shapedefaults": {
           "line": {
            "color": "#2a3f5f"
           }
          },
          "ternary": {
           "aaxis": {
            "gridcolor": "white",
            "linecolor": "white",
            "ticks": ""
           },
           "baxis": {
            "gridcolor": "white",
            "linecolor": "white",
            "ticks": ""
           },
           "bgcolor": "#E5ECF6",
           "caxis": {
            "gridcolor": "white",
            "linecolor": "white",
            "ticks": ""
           }
          },
          "title": {
           "x": 0.05
          },
          "xaxis": {
           "automargin": true,
           "gridcolor": "white",
           "linecolor": "white",
           "ticks": "",
           "title": {
            "standoff": 15
           },
           "zerolinecolor": "white",
           "zerolinewidth": 2
          },
          "yaxis": {
           "automargin": true,
           "gridcolor": "white",
           "linecolor": "white",
           "ticks": "",
           "title": {
            "standoff": 15
           },
           "zerolinecolor": "white",
           "zerolinewidth": 2
          }
         }
        },
        "title": {
         "text": "Rating Distribution by Month"
        },
        "xaxis": {
         "anchor": "y",
         "domain": [
          0,
          1
         ],
         "title": {
          "text": "Month"
         }
        },
        "yaxis": {
         "anchor": "x",
         "domain": [
          0,
          1
         ],
         "tickmode": "array",
         "ticktext": [
          "1 ★",
          "2 ★",
          "3 ★",
          "4 ★",
          "5 ★"
         ],
         "tickvals": [
          1,
          2,
          3,
          4,
          5
         ],
         "title": {
          "text": "Rating"
         }
        }
       }
      }
     },
     "metadata": {},
     "output_type": "display_data"
    },
    {
     "data": {
      "application/vnd.plotly.v1+json": {
       "config": {
        "plotlyServerURL": "https://plot.ly"
       },
       "data": [
        {
         "line": {
          "color": "green",
          "width": 2
         },
         "mode": "lines+markers",
         "name": "Positive",
         "type": "scatter",
         "x": [
          "2023-08",
          "2023-09",
          "2023-10",
          "2023-11",
          "2023-12",
          "2024-01",
          "2024-02",
          "2024-03",
          "2024-04",
          "2024-05",
          "2024-06",
          "2024-07",
          "2024-08",
          "2024-09",
          "2024-10",
          "2024-11",
          "2024-12",
          "2025-01",
          "2025-02",
          "2025-03",
          "2025-04",
          "2025-05"
         ],
         "y": {
          "bdata": "9AV9QV/QTkCYPs5B0oZMQMTDw8PDw0pAAIO1hK8ZTkBuI9oMOxZMQJkUL5BJ8UhAgJr4DQI1S0D8hSP8hSNQQL+V9u4RCFFAC4w95SHmUEB0SE0w3spQQPsMIBcxcVBAn7An7Al7RkC3nOlwFP0+QAAAAAAAADlAz7rBFPmsOUDizYg3I944QB/BfQT3ETxAVVVVVVVVN0AfwX0E9xE8QFbYHEi0wjpATjbZZJNNLkA=",
          "dtype": "f8"
         }
        },
        {
         "line": {
          "color": "blue",
          "width": 2
         },
         "mode": "lines+markers",
         "name": "Neutral",
         "type": "scatter",
         "x": [
          "2023-08",
          "2023-09",
          "2023-10",
          "2023-11",
          "2023-12",
          "2024-01",
          "2024-02",
          "2024-03",
          "2024-04",
          "2024-05",
          "2024-06",
          "2024-07",
          "2024-08",
          "2024-09",
          "2024-10",
          "2024-11",
          "2024-12",
          "2025-01",
          "2025-02",
          "2025-03",
          "2025-04",
          "2025-05"
         ],
         "y": {
          "bdata": "p6wpa8qaEkAfpo9zkLQZQA8PDw8PDxtAgjg6NMm/GEBID1TObuEXQNQIyz2NsBRAPHK2/HfkHEAUYk4TYk4TQARoyLNdnRNAo5fq54Q1FEA/h9QE460cQDEqKIvfLxZA+93HiZbrF0BR9JNY80oFQDFixIgRIw5AmpNAXKg5CUAS2ktoL6ENQB/BfQT3EQxAVlVVVVVVBUD9BfQX0F8QQCHRCpsDiQZAPvjggw8+CEA=",
          "dtype": "f8"
         }
        },
        {
         "line": {
          "color": "red",
          "width": 2
         },
         "mode": "lines+markers",
         "name": "Negative",
         "type": "scatter",
         "x": [
          "2023-08",
          "2023-09",
          "2023-10",
          "2023-11",
          "2023-12",
          "2024-01",
          "2024-02",
          "2024-03",
          "2024-04",
          "2024-05",
          "2024-06",
          "2024-07",
          "2024-08",
          "2024-09",
          "2024-10",
          "2024-11",
          "2024-12",
          "2025-01",
          "2025-02",
          "2025-03",
          "2025-04",
          "2025-05"
         ],
         "y": {
          "bdata": "d8QdcUfcQECkzL+vm0JCQFpaWlpa2kNA8TXDVFfOQECpWlsZl+1CQEyKF8ikeEZAN5dw8m4uQ0CLT56KT54+QAWPM9dg+DpA7CkPMRdaO0BhvJV9Dqk5QIbBtcBDrzxAolOfQoOHSEAv+QBJY5ZQQO7cuXPnzlFAr4ztd/TKUUC3bdu2bdtRQK+hvIbyGlFAAAAAAACAUkBYT2E9hfVQQGFzINEKm1FAddFFF110VEA=",
          "dtype": "f8"
         }
        }
       ],
       "layout": {
        "height": 500,
        "legend": {
         "orientation": "h",
         "x": 1,
         "xanchor": "right",
         "y": 1.02,
         "yanchor": "bottom"
        },
        "template": {
         "data": {
          "bar": [
           {
            "error_x": {
             "color": "#2a3f5f"
            },
            "error_y": {
             "color": "#2a3f5f"
            },
            "marker": {
             "line": {
              "color": "#E5ECF6",
              "width": 0.5
             },
             "pattern": {
              "fillmode": "overlay",
              "size": 10,
              "solidity": 0.2
             }
            },
            "type": "bar"
           }
          ],
          "barpolar": [
           {
            "marker": {
             "line": {
              "color": "#E5ECF6",
              "width": 0.5
             },
             "pattern": {
              "fillmode": "overlay",
              "size": 10,
              "solidity": 0.2
             }
            },
            "type": "barpolar"
           }
          ],
          "carpet": [
           {
            "aaxis": {
             "endlinecolor": "#2a3f5f",
             "gridcolor": "white",
             "linecolor": "white",
             "minorgridcolor": "white",
             "startlinecolor": "#2a3f5f"
            },
            "baxis": {
             "endlinecolor": "#2a3f5f",
             "gridcolor": "white",
             "linecolor": "white",
             "minorgridcolor": "white",
             "startlinecolor": "#2a3f5f"
            },
            "type": "carpet"
           }
          ],
          "choropleth": [
           {
            "colorbar": {
             "outlinewidth": 0,
             "ticks": ""
            },
            "type": "choropleth"
           }
          ],
          "contour": [
           {
            "colorbar": {
             "outlinewidth": 0,
             "ticks": ""
            },
            "colorscale": [
             [
              0,
              "#0d0887"
             ],
             [
              0.1111111111111111,
              "#46039f"
             ],
             [
              0.2222222222222222,
              "#7201a8"
             ],
             [
              0.3333333333333333,
              "#9c179e"
             ],
             [
              0.4444444444444444,
              "#bd3786"
             ],
             [
              0.5555555555555556,
              "#d8576b"
             ],
             [
              0.6666666666666666,
              "#ed7953"
             ],
             [
              0.7777777777777778,
              "#fb9f3a"
             ],
             [
              0.8888888888888888,
              "#fdca26"
             ],
             [
              1,
              "#f0f921"
             ]
            ],
            "type": "contour"
           }
          ],
          "contourcarpet": [
           {
            "colorbar": {
             "outlinewidth": 0,
             "ticks": ""
            },
            "type": "contourcarpet"
           }
          ],
          "heatmap": [
           {
            "colorbar": {
             "outlinewidth": 0,
             "ticks": ""
            },
            "colorscale": [
             [
              0,
              "#0d0887"
             ],
             [
              0.1111111111111111,
              "#46039f"
             ],
             [
              0.2222222222222222,
              "#7201a8"
             ],
             [
              0.3333333333333333,
              "#9c179e"
             ],
             [
              0.4444444444444444,
              "#bd3786"
             ],
             [
              0.5555555555555556,
              "#d8576b"
             ],
             [
              0.6666666666666666,
              "#ed7953"
             ],
             [
              0.7777777777777778,
              "#fb9f3a"
             ],
             [
              0.8888888888888888,
              "#fdca26"
             ],
             [
              1,
              "#f0f921"
             ]
            ],
            "type": "heatmap"
           }
          ],
          "histogram": [
           {
            "marker": {
             "pattern": {
              "fillmode": "overlay",
              "size": 10,
              "solidity": 0.2
             }
            },
            "type": "histogram"
           }
          ],
          "histogram2d": [
           {
            "colorbar": {
             "outlinewidth": 0,
             "ticks": ""
            },
            "colorscale": [
             [
              0,
              "#0d0887"
             ],
             [
              0.1111111111111111,
              "#46039f"
             ],
             [
              0.2222222222222222,
              "#7201a8"
             ],
             [
              0.3333333333333333,
              "#9c179e"
             ],
             [
              0.4444444444444444,
              "#bd3786"
             ],
             [
              0.5555555555555556,
              "#d8576b"
             ],
             [
              0.6666666666666666,
              "#ed7953"
             ],
             [
              0.7777777777777778,
              "#fb9f3a"
             ],
             [
              0.8888888888888888,
              "#fdca26"
             ],
             [
              1,
              "#f0f921"
             ]
            ],
            "type": "histogram2d"
           }
          ],
          "histogram2dcontour": [
           {
            "colorbar": {
             "outlinewidth": 0,
             "ticks": ""
            },
            "colorscale": [
             [
              0,
              "#0d0887"
             ],
             [
              0.1111111111111111,
              "#46039f"
             ],
             [
              0.2222222222222222,
              "#7201a8"
             ],
             [
              0.3333333333333333,
              "#9c179e"
             ],
             [
              0.4444444444444444,
              "#bd3786"
             ],
             [
              0.5555555555555556,
              "#d8576b"
             ],
             [
              0.6666666666666666,
              "#ed7953"
             ],
             [
              0.7777777777777778,
              "#fb9f3a"
             ],
             [
              0.8888888888888888,
              "#fdca26"
             ],
             [
              1,
              "#f0f921"
             ]
            ],
            "type": "histogram2dcontour"
           }
          ],
          "mesh3d": [
           {
            "colorbar": {
             "outlinewidth": 0,
             "ticks": ""
            },
            "type": "mesh3d"
           }
          ],
          "parcoords": [
           {
            "line": {
             "colorbar": {
              "outlinewidth": 0,
              "ticks": ""
             }
            },
            "type": "parcoords"
           }
          ],
          "pie": [
           {
            "automargin": true,
            "type": "pie"
           }
          ],
          "scatter": [
           {
            "fillpattern": {
             "fillmode": "overlay",
             "size": 10,
             "solidity": 0.2
            },
            "type": "scatter"
           }
          ],
          "scatter3d": [
           {
            "line": {
             "colorbar": {
              "outlinewidth": 0,
              "ticks": ""
             }
            },
            "marker": {
             "colorbar": {
              "outlinewidth": 0,
              "ticks": ""
             }
            },
            "type": "scatter3d"
           }
          ],
          "scattercarpet": [
           {
            "marker": {
             "colorbar": {
              "outlinewidth": 0,
              "ticks": ""
             }
            },
            "type": "scattercarpet"
           }
          ],
          "scattergeo": [
           {
            "marker": {
             "colorbar": {
              "outlinewidth": 0,
              "ticks": ""
             }
            },
            "type": "scattergeo"
           }
          ],
          "scattergl": [
           {
            "marker": {
             "colorbar": {
              "outlinewidth": 0,
              "ticks": ""
             }
            },
            "type": "scattergl"
           }
          ],
          "scattermap": [
           {
            "marker": {
             "colorbar": {
              "outlinewidth": 0,
              "ticks": ""
             }
            },
            "type": "scattermap"
           }
          ],
          "scattermapbox": [
           {
            "marker": {
             "colorbar": {
              "outlinewidth": 0,
              "ticks": ""
             }
            },
            "type": "scattermapbox"
           }
          ],
          "scatterpolar": [
           {
            "marker": {
             "colorbar": {
              "outlinewidth": 0,
              "ticks": ""
             }
            },
            "type": "scatterpolar"
           }
          ],
          "scatterpolargl": [
           {
            "marker": {
             "colorbar": {
              "outlinewidth": 0,
              "ticks": ""
             }
            },
            "type": "scatterpolargl"
           }
          ],
          "scatterternary": [
           {
            "marker": {
             "colorbar": {
              "outlinewidth": 0,
              "ticks": ""
             }
            },
            "type": "scatterternary"
           }
          ],
          "surface": [
           {
            "colorbar": {
             "outlinewidth": 0,
             "ticks": ""
            },
            "colorscale": [
             [
              0,
              "#0d0887"
             ],
             [
              0.1111111111111111,
              "#46039f"
             ],
             [
              0.2222222222222222,
              "#7201a8"
             ],
             [
              0.3333333333333333,
              "#9c179e"
             ],
             [
              0.4444444444444444,
              "#bd3786"
             ],
             [
              0.5555555555555556,
              "#d8576b"
             ],
             [
              0.6666666666666666,
              "#ed7953"
             ],
             [
              0.7777777777777778,
              "#fb9f3a"
             ],
             [
              0.8888888888888888,
              "#fdca26"
             ],
             [
              1,
              "#f0f921"
             ]
            ],
            "type": "surface"
           }
          ],
          "table": [
           {
            "cells": {
             "fill": {
              "color": "#EBF0F8"
             },
             "line": {
              "color": "white"
             }
            },
            "header": {
             "fill": {
              "color": "#C8D4E3"
             },
             "line": {
              "color": "white"
             }
            },
            "type": "table"
           }
          ]
         },
         "layout": {
          "annotationdefaults": {
           "arrowcolor": "#2a3f5f",
           "arrowhead": 0,
           "arrowwidth": 1
          },
          "autotypenumbers": "strict",
          "coloraxis": {
           "colorbar": {
            "outlinewidth": 0,
            "ticks": ""
           }
          },
          "colorscale": {
           "diverging": [
            [
             0,
             "#8e0152"
            ],
            [
             0.1,
             "#c51b7d"
            ],
            [
             0.2,
             "#de77ae"
            ],
            [
             0.3,
             "#f1b6da"
            ],
            [
             0.4,
             "#fde0ef"
            ],
            [
             0.5,
             "#f7f7f7"
            ],
            [
             0.6,
             "#e6f5d0"
            ],
            [
             0.7,
             "#b8e186"
            ],
            [
             0.8,
             "#7fbc41"
            ],
            [
             0.9,
             "#4d9221"
            ],
            [
             1,
             "#276419"
            ]
           ],
           "sequential": [
            [
             0,
             "#0d0887"
            ],
            [
             0.1111111111111111,
             "#46039f"
            ],
            [
             0.2222222222222222,
             "#7201a8"
            ],
            [
             0.3333333333333333,
             "#9c179e"
            ],
            [
             0.4444444444444444,
             "#bd3786"
            ],
            [
             0.5555555555555556,
             "#d8576b"
            ],
            [
             0.6666666666666666,
             "#ed7953"
            ],
            [
             0.7777777777777778,
             "#fb9f3a"
            ],
            [
             0.8888888888888888,
             "#fdca26"
            ],
            [
             1,
             "#f0f921"
            ]
           ],
           "sequentialminus": [
            [
             0,
             "#0d0887"
            ],
            [
             0.1111111111111111,
             "#46039f"
            ],
            [
             0.2222222222222222,
             "#7201a8"
            ],
            [
             0.3333333333333333,
             "#9c179e"
            ],
            [
             0.4444444444444444,
             "#bd3786"
            ],
            [
             0.5555555555555556,
             "#d8576b"
            ],
            [
             0.6666666666666666,
             "#ed7953"
            ],
            [
             0.7777777777777778,
             "#fb9f3a"
            ],
            [
             0.8888888888888888,
             "#fdca26"
            ],
            [
             1,
             "#f0f921"
            ]
           ]
          },
          "colorway": [
           "#636efa",
           "#EF553B",
           "#00cc96",
           "#ab63fa",
           "#FFA15A",
           "#19d3f3",
           "#FF6692",
           "#B6E880",
           "#FF97FF",
           "#FECB52"
          ],
          "font": {
           "color": "#2a3f5f"
          },
          "geo": {
           "bgcolor": "white",
           "lakecolor": "white",
           "landcolor": "#E5ECF6",
           "showlakes": true,
           "showland": true,
           "subunitcolor": "white"
          },
          "hoverlabel": {
           "align": "left"
          },
          "hovermode": "closest",
          "mapbox": {
           "style": "light"
          },
          "paper_bgcolor": "white",
          "plot_bgcolor": "#E5ECF6",
          "polar": {
           "angularaxis": {
            "gridcolor": "white",
            "linecolor": "white",
            "ticks": ""
           },
           "bgcolor": "#E5ECF6",
           "radialaxis": {
            "gridcolor": "white",
            "linecolor": "white",
            "ticks": ""
           }
          },
          "scene": {
           "xaxis": {
            "backgroundcolor": "#E5ECF6",
            "gridcolor": "white",
            "gridwidth": 2,
            "linecolor": "white",
            "showbackground": true,
            "ticks": "",
            "zerolinecolor": "white"
           },
           "yaxis": {
            "backgroundcolor": "#E5ECF6",
            "gridcolor": "white",
            "gridwidth": 2,
            "linecolor": "white",
            "showbackground": true,
            "ticks": "",
            "zerolinecolor": "white"
           },
           "zaxis": {
            "backgroundcolor": "#E5ECF6",
            "gridcolor": "white",
            "gridwidth": 2,
            "linecolor": "white",
            "showbackground": true,
            "ticks": "",
            "zerolinecolor": "white"
           }
          },
          "shapedefaults": {
           "line": {
            "color": "#2a3f5f"
           }
          },
          "ternary": {
           "aaxis": {
            "gridcolor": "white",
            "linecolor": "white",
            "ticks": ""
           },
           "baxis": {
            "gridcolor": "white",
            "linecolor": "white",
            "ticks": ""
           },
           "bgcolor": "#E5ECF6",
           "caxis": {
            "gridcolor": "white",
            "linecolor": "white",
            "ticks": ""
           }
          },
          "title": {
           "x": 0.05
          },
          "xaxis": {
           "automargin": true,
           "gridcolor": "white",
           "linecolor": "white",
           "ticks": "",
           "title": {
            "standoff": 15
           },
           "zerolinecolor": "white",
           "zerolinewidth": 2
          },
          "yaxis": {
           "automargin": true,
           "gridcolor": "white",
           "linecolor": "white",
           "ticks": "",
           "title": {
            "standoff": 15
           },
           "zerolinecolor": "white",
           "zerolinewidth": 2
          }
         }
        },
        "title": {
         "text": "Sentiment Trends Over Time"
        },
        "xaxis": {
         "title": {
          "text": "Month"
         }
        },
        "yaxis": {
         "range": [
          0,
          100
         ],
         "title": {
          "text": "Percentage of Reviews"
         }
        }
       }
      }
     },
     "metadata": {},
     "output_type": "display_data"
    },
    {
     "data": {
      "application/vnd.plotly.v1+json": {
       "config": {
        "plotlyServerURL": "https://plot.ly"
       },
       "data": [
        {
         "marker": {
          "size": 8
         },
         "mode": "lines+markers",
         "name": "Version 5.2.3",
         "type": "scatter",
         "x": [
          "2023-08",
          "2023-09",
          "2023-10",
          "2023-11",
          "2023-12",
          "2024-01",
          "2024-02",
          "2024-03",
          "2024-04",
          "2024-05",
          "2024-06",
          "2024-07",
          "2024-08",
          "2024-09",
          "2024-10",
          "2024-11",
          "2024-12",
          "2025-01",
          "2025-02",
          "2025-03",
          "2025-04",
          "2025-05"
         ],
         "y": {
          "bdata": "AAAAAHIAHgItAhUABQACAAAAAQACAAAAAQAHAAEAAQABAAEAAAAAAAAAAAA=",
          "dtype": "i2"
         }
        },
        {
         "marker": {
          "size": 8
         },
         "mode": "lines+markers",
         "name": "Version 6.0.3",
         "type": "scatter",
         "x": [
          "2023-08",
          "2023-09",
          "2023-10",
          "2023-11",
          "2023-12",
          "2024-01",
          "2024-02",
          "2024-03",
          "2024-04",
          "2024-05",
          "2024-06",
          "2024-07",
          "2024-08",
          "2024-09",
          "2024-10",
          "2024-11",
          "2024-12",
          "2025-01",
          "2025-02",
          "2025-03",
          "2025-04",
          "2025-05"
         ],
         "y": {
          "bdata": "AAAAAAAAAAAAAAAAAACcAfABFQADAAMAAQAEAAMAAQAAAAIAAAAAAAAAAAA=",
          "dtype": "i2"
         }
        },
        {
         "marker": {
          "size": 8
         },
         "mode": "lines+markers",
         "name": "Version 6.0.4",
         "type": "scatter",
         "x": [
          "2023-08",
          "2023-09",
          "2023-10",
          "2023-11",
          "2023-12",
          "2024-01",
          "2024-02",
          "2024-03",
          "2024-04",
          "2024-05",
          "2024-06",
          "2024-07",
          "2024-08",
          "2024-09",
          "2024-10",
          "2024-11",
          "2024-12",
          "2025-01",
          "2025-02",
          "2025-03",
          "2025-04",
          "2025-05"
         ],
         "y": {
          "bdata": "AAAAAAAAAAAAAAAAAAAAABkAAwL4ABQABAAIAAIAAQAFAAMAAAABAAAAAAA=",
          "dtype": "i2"
         }
        },
        {
         "marker": {
          "size": 8
         },
         "mode": "lines+markers",
         "name": "Version 6.0.6",
         "type": "scatter",
         "x": [
          "2023-08",
          "2023-09",
          "2023-10",
          "2023-11",
          "2023-12",
          "2024-01",
          "2024-02",
          "2024-03",
          "2024-04",
          "2024-05",
          "2024-06",
          "2024-07",
          "2024-08",
          "2024-09",
          "2024-10",
          "2024-11",
          "2024-12",
          "2025-01",
          "2025-02",
          "2025-03",
          "2025-04",
          "2025-05"
         ],
         "y": {
          "bdata": "AAAAAAAAAAAAAAAAAAAAAAAAAAAAAKsBBQJYACoAHwASABAADgADAAQAAQA=",
          "dtype": "i2"
         }
        },
        {
         "marker": {
          "size": 8
         },
         "mode": "lines+markers",
         "name": "Version Unknown",
         "type": "scatter",
         "x": [
          "2023-08",
          "2023-09",
          "2023-10",
          "2023-11",
          "2023-12",
          "2024-01",
          "2024-02",
          "2024-03",
          "2024-04",
          "2024-05",
          "2024-06",
          "2024-07",
          "2024-08",
          "2024-09",
          "2024-10",
          "2024-11",
          "2024-12",
          "2025-01",
          "2025-02",
          "2025-03",
          "2025-04",
          "2025-05"
         ],
         "y": {
          "bdata": "Bz4sKTNAKB8jGyIxcVpBKjcqGyMbCQ==",
          "dtype": "i1"
         }
        }
       ],
       "layout": {
        "height": 500,
        "legend": {
         "orientation": "h",
         "x": 1,
         "xanchor": "right",
         "y": 1.02,
         "yanchor": "bottom"
        },
        "template": {
         "data": {
          "bar": [
           {
            "error_x": {
             "color": "#2a3f5f"
            },
            "error_y": {
             "color": "#2a3f5f"
            },
            "marker": {
             "line": {
              "color": "#E5ECF6",
              "width": 0.5
             },
             "pattern": {
              "fillmode": "overlay",
              "size": 10,
              "solidity": 0.2
             }
            },
            "type": "bar"
           }
          ],
          "barpolar": [
           {
            "marker": {
             "line": {
              "color": "#E5ECF6",
              "width": 0.5
             },
             "pattern": {
              "fillmode": "overlay",
              "size": 10,
              "solidity": 0.2
             }
            },
            "type": "barpolar"
           }
          ],
          "carpet": [
           {
            "aaxis": {
             "endlinecolor": "#2a3f5f",
             "gridcolor": "white",
             "linecolor": "white",
             "minorgridcolor": "white",
             "startlinecolor": "#2a3f5f"
            },
            "baxis": {
             "endlinecolor": "#2a3f5f",
             "gridcolor": "white",
             "linecolor": "white",
             "minorgridcolor": "white",
             "startlinecolor": "#2a3f5f"
            },
            "type": "carpet"
           }
          ],
          "choropleth": [
           {
            "colorbar": {
             "outlinewidth": 0,
             "ticks": ""
            },
            "type": "choropleth"
           }
          ],
          "contour": [
           {
            "colorbar": {
             "outlinewidth": 0,
             "ticks": ""
            },
            "colorscale": [
             [
              0,
              "#0d0887"
             ],
             [
              0.1111111111111111,
              "#46039f"
             ],
             [
              0.2222222222222222,
              "#7201a8"
             ],
             [
              0.3333333333333333,
              "#9c179e"
             ],
             [
              0.4444444444444444,
              "#bd3786"
             ],
             [
              0.5555555555555556,
              "#d8576b"
             ],
             [
              0.6666666666666666,
              "#ed7953"
             ],
             [
              0.7777777777777778,
              "#fb9f3a"
             ],
             [
              0.8888888888888888,
              "#fdca26"
             ],
             [
              1,
              "#f0f921"
             ]
            ],
            "type": "contour"
           }
          ],
          "contourcarpet": [
           {
            "colorbar": {
             "outlinewidth": 0,
             "ticks": ""
            },
            "type": "contourcarpet"
           }
          ],
          "heatmap": [
           {
            "colorbar": {
             "outlinewidth": 0,
             "ticks": ""
            },
            "colorscale": [
             [
              0,
              "#0d0887"
             ],
             [
              0.1111111111111111,
              "#46039f"
             ],
             [
              0.2222222222222222,
              "#7201a8"
             ],
             [
              0.3333333333333333,
              "#9c179e"
             ],
             [
              0.4444444444444444,
              "#bd3786"
             ],
             [
              0.5555555555555556,
              "#d8576b"
             ],
             [
              0.6666666666666666,
              "#ed7953"
             ],
             [
              0.7777777777777778,
              "#fb9f3a"
             ],
             [
              0.8888888888888888,
              "#fdca26"
             ],
             [
              1,
              "#f0f921"
             ]
            ],
            "type": "heatmap"
           }
          ],
          "histogram": [
           {
            "marker": {
             "pattern": {
              "fillmode": "overlay",
              "size": 10,
              "solidity": 0.2
             }
            },
            "type": "histogram"
           }
          ],
          "histogram2d": [
           {
            "colorbar": {
             "outlinewidth": 0,
             "ticks": ""
            },
            "colorscale": [
             [
              0,
              "#0d0887"
             ],
             [
              0.1111111111111111,
              "#46039f"
             ],
             [
              0.2222222222222222,
              "#7201a8"
             ],
             [
              0.3333333333333333,
              "#9c179e"
             ],
             [
              0.4444444444444444,
              "#bd3786"
             ],
             [
              0.5555555555555556,
              "#d8576b"
             ],
             [
              0.6666666666666666,
              "#ed7953"
             ],
             [
              0.7777777777777778,
              "#fb9f3a"
             ],
             [
              0.8888888888888888,
              "#fdca26"
             ],
             [
              1,
              "#f0f921"
             ]
            ],
            "type": "histogram2d"
           }
          ],
          "histogram2dcontour": [
           {
            "colorbar": {
             "outlinewidth": 0,
             "ticks": ""
            },
            "colorscale": [
             [
              0,
              "#0d0887"
             ],
             [
              0.1111111111111111,
              "#46039f"
             ],
             [
              0.2222222222222222,
              "#7201a8"
             ],
             [
              0.3333333333333333,
              "#9c179e"
             ],
             [
              0.4444444444444444,
              "#bd3786"
             ],
             [
              0.5555555555555556,
              "#d8576b"
             ],
             [
              0.6666666666666666,
              "#ed7953"
             ],
             [
              0.7777777777777778,
              "#fb9f3a"
             ],
             [
              0.8888888888888888,
              "#fdca26"
             ],
             [
              1,
              "#f0f921"
             ]
            ],
            "type": "histogram2dcontour"
           }
          ],
          "mesh3d": [
           {
            "colorbar": {
             "outlinewidth": 0,
             "ticks": ""
            },
            "type": "mesh3d"
           }
          ],
          "parcoords": [
           {
            "line": {
             "colorbar": {
              "outlinewidth": 0,
              "ticks": ""
             }
            },
            "type": "parcoords"
           }
          ],
          "pie": [
           {
            "automargin": true,
            "type": "pie"
           }
          ],
          "scatter": [
           {
            "fillpattern": {
             "fillmode": "overlay",
             "size": 10,
             "solidity": 0.2
            },
            "type": "scatter"
           }
          ],
          "scatter3d": [
           {
            "line": {
             "colorbar": {
              "outlinewidth": 0,
              "ticks": ""
             }
            },
            "marker": {
             "colorbar": {
              "outlinewidth": 0,
              "ticks": ""
             }
            },
            "type": "scatter3d"
           }
          ],
          "scattercarpet": [
           {
            "marker": {
             "colorbar": {
              "outlinewidth": 0,
              "ticks": ""
             }
            },
            "type": "scattercarpet"
           }
          ],
          "scattergeo": [
           {
            "marker": {
             "colorbar": {
              "outlinewidth": 0,
              "ticks": ""
             }
            },
            "type": "scattergeo"
           }
          ],
          "scattergl": [
           {
            "marker": {
             "colorbar": {
              "outlinewidth": 0,
              "ticks": ""
             }
            },
            "type": "scattergl"
           }
          ],
          "scattermap": [
           {
            "marker": {
             "colorbar": {
              "outlinewidth": 0,
              "ticks": ""
             }
            },
            "type": "scattermap"
           }
          ],
          "scattermapbox": [
           {
            "marker": {
             "colorbar": {
              "outlinewidth": 0,
              "ticks": ""
             }
            },
            "type": "scattermapbox"
           }
          ],
          "scatterpolar": [
           {
            "marker": {
             "colorbar": {
              "outlinewidth": 0,
              "ticks": ""
             }
            },
            "type": "scatterpolar"
           }
          ],
          "scatterpolargl": [
           {
            "marker": {
             "colorbar": {
              "outlinewidth": 0,
              "ticks": ""
             }
            },
            "type": "scatterpolargl"
           }
          ],
          "scatterternary": [
           {
            "marker": {
             "colorbar": {
              "outlinewidth": 0,
              "ticks": ""
             }
            },
            "type": "scatterternary"
           }
          ],
          "surface": [
           {
            "colorbar": {
             "outlinewidth": 0,
             "ticks": ""
            },
            "colorscale": [
             [
              0,
              "#0d0887"
             ],
             [
              0.1111111111111111,
              "#46039f"
             ],
             [
              0.2222222222222222,
              "#7201a8"
             ],
             [
              0.3333333333333333,
              "#9c179e"
             ],
             [
              0.4444444444444444,
              "#bd3786"
             ],
             [
              0.5555555555555556,
              "#d8576b"
             ],
             [
              0.6666666666666666,
              "#ed7953"
             ],
             [
              0.7777777777777778,
              "#fb9f3a"
             ],
             [
              0.8888888888888888,
              "#fdca26"
             ],
             [
              1,
              "#f0f921"
             ]
            ],
            "type": "surface"
           }
          ],
          "table": [
           {
            "cells": {
             "fill": {
              "color": "#EBF0F8"
             },
             "line": {
              "color": "white"
             }
            },
            "header": {
             "fill": {
              "color": "#C8D4E3"
             },
             "line": {
              "color": "white"
             }
            },
            "type": "table"
           }
          ]
         },
         "layout": {
          "annotationdefaults": {
           "arrowcolor": "#2a3f5f",
           "arrowhead": 0,
           "arrowwidth": 1
          },
          "autotypenumbers": "strict",
          "coloraxis": {
           "colorbar": {
            "outlinewidth": 0,
            "ticks": ""
           }
          },
          "colorscale": {
           "diverging": [
            [
             0,
             "#8e0152"
            ],
            [
             0.1,
             "#c51b7d"
            ],
            [
             0.2,
             "#de77ae"
            ],
            [
             0.3,
             "#f1b6da"
            ],
            [
             0.4,
             "#fde0ef"
            ],
            [
             0.5,
             "#f7f7f7"
            ],
            [
             0.6,
             "#e6f5d0"
            ],
            [
             0.7,
             "#b8e186"
            ],
            [
             0.8,
             "#7fbc41"
            ],
            [
             0.9,
             "#4d9221"
            ],
            [
             1,
             "#276419"
            ]
           ],
           "sequential": [
            [
             0,
             "#0d0887"
            ],
            [
             0.1111111111111111,
             "#46039f"
            ],
            [
             0.2222222222222222,
             "#7201a8"
            ],
            [
             0.3333333333333333,
             "#9c179e"
            ],
            [
             0.4444444444444444,
             "#bd3786"
            ],
            [
             0.5555555555555556,
             "#d8576b"
            ],
            [
             0.6666666666666666,
             "#ed7953"
            ],
            [
             0.7777777777777778,
             "#fb9f3a"
            ],
            [
             0.8888888888888888,
             "#fdca26"
            ],
            [
             1,
             "#f0f921"
            ]
           ],
           "sequentialminus": [
            [
             0,
             "#0d0887"
            ],
            [
             0.1111111111111111,
             "#46039f"
            ],
            [
             0.2222222222222222,
             "#7201a8"
            ],
            [
             0.3333333333333333,
             "#9c179e"
            ],
            [
             0.4444444444444444,
             "#bd3786"
            ],
            [
             0.5555555555555556,
             "#d8576b"
            ],
            [
             0.6666666666666666,
             "#ed7953"
            ],
            [
             0.7777777777777778,
             "#fb9f3a"
            ],
            [
             0.8888888888888888,
             "#fdca26"
            ],
            [
             1,
             "#f0f921"
            ]
           ]
          },
          "colorway": [
           "#636efa",
           "#EF553B",
           "#00cc96",
           "#ab63fa",
           "#FFA15A",
           "#19d3f3",
           "#FF6692",
           "#B6E880",
           "#FF97FF",
           "#FECB52"
          ],
          "font": {
           "color": "#2a3f5f"
          },
          "geo": {
           "bgcolor": "white",
           "lakecolor": "white",
           "landcolor": "#E5ECF6",
           "showlakes": true,
           "showland": true,
           "subunitcolor": "white"
          },
          "hoverlabel": {
           "align": "left"
          },
          "hovermode": "closest",
          "mapbox": {
           "style": "light"
          },
          "paper_bgcolor": "white",
          "plot_bgcolor": "#E5ECF6",
          "polar": {
           "angularaxis": {
            "gridcolor": "white",
            "linecolor": "white",
            "ticks": ""
           },
           "bgcolor": "#E5ECF6",
           "radialaxis": {
            "gridcolor": "white",
            "linecolor": "white",
            "ticks": ""
           }
          },
          "scene": {
           "xaxis": {
            "backgroundcolor": "#E5ECF6",
            "gridcolor": "white",
            "gridwidth": 2,
            "linecolor": "white",
            "showbackground": true,
            "ticks": "",
            "zerolinecolor": "white"
           },
           "yaxis": {
            "backgroundcolor": "#E5ECF6",
            "gridcolor": "white",
            "gridwidth": 2,
            "linecolor": "white",
            "showbackground": true,
            "ticks": "",
            "zerolinecolor": "white"
           },
           "zaxis": {
            "backgroundcolor": "#E5ECF6",
            "gridcolor": "white",
            "gridwidth": 2,
            "linecolor": "white",
            "showbackground": true,
            "ticks": "",
            "zerolinecolor": "white"
           }
          },
          "shapedefaults": {
           "line": {
            "color": "#2a3f5f"
           }
          },
          "ternary": {
           "aaxis": {
            "gridcolor": "white",
            "linecolor": "white",
            "ticks": ""
           },
           "baxis": {
            "gridcolor": "white",
            "linecolor": "white",
            "ticks": ""
           },
           "bgcolor": "#E5ECF6",
           "caxis": {
            "gridcolor": "white",
            "linecolor": "white",
            "ticks": ""
           }
          },
          "title": {
           "x": 0.05
          },
          "xaxis": {
           "automargin": true,
           "gridcolor": "white",
           "linecolor": "white",
           "ticks": "",
           "title": {
            "standoff": 15
           },
           "zerolinecolor": "white",
           "zerolinewidth": 2
          },
          "yaxis": {
           "automargin": true,
           "gridcolor": "white",
           "linecolor": "white",
           "ticks": "",
           "title": {
            "standoff": 15
           },
           "zerolinecolor": "white",
           "zerolinewidth": 2
          }
         }
        },
        "title": {
         "text": "Review Volume by Version Over Time"
        },
        "xaxis": {
         "title": {
          "text": "Month"
         }
        },
        "yaxis": {
         "title": {
          "text": "Number of Reviews"
         }
        }
       }
      }
     },
     "metadata": {},
     "output_type": "display_data"
    }
   ],
   "source": [
    "# Enhanced Time-based Analysis using our date fields\n",
    "\n",
    "# Check date column before visualizing trends\n",
    "print(\"Checking date column for time-based analysis:\")\n",
    "if 'date' in reviews_df.columns:\n",
    "    # Count valid dates\n",
    "    valid_dates = reviews_df['date'].notna().sum()\n",
    "    total_rows = len(reviews_df)\n",
    "    print(f\"Date column has {valid_dates} valid dates out of {total_rows} records ({valid_dates/total_rows*100:.2f}%)\")\n",
    "    \n",
    "    # If we have sufficient valid dates, analyze time series\n",
    "    if valid_dates / total_rows >= 0.5:  # At least 50% of rows have valid dates\n",
    "        # Sort reviews by date\n",
    "        time_df = reviews_df.sort_values('date').copy()\n",
    "        \n",
    "        # Create time-based visualizations\n",
    "        print(\"\\nGenerating time-based visualizations...\")\n",
    "        \n",
    "        # 1. Rating over time\n",
    "        import plotly.express as px\n",
    "        import plotly.graph_objects as go\n",
    "        from plotly.subplots import make_subplots\n",
    "        \n",
    "        # Create a time-aggregated dataset with monthly frequency\n",
    "        time_df['month_year'] = time_df['date'].dt.strftime('%Y-%m')\n",
    "        monthly_avg = time_df.groupby('month_year').agg(\n",
    "            avg_rating=('rating', 'mean'),\n",
    "            count=('rating', 'count'),\n",
    "            start_date=('date', 'min')\n",
    "        ).reset_index().sort_values('start_date')\n",
    "        \n",
    "        # Create a figure with dual y-axes\n",
    "        fig = make_subplots(specs=[[{\"secondary_y\": True}]])\n",
    "        \n",
    "        # Add average rating line\n",
    "        fig.add_trace(\n",
    "            go.Scatter(\n",
    "                x=monthly_avg['start_date'],\n",
    "                y=monthly_avg['avg_rating'],\n",
    "                name=\"Average Rating\",\n",
    "                line=dict(color='blue', width=3),\n",
    "                mode='lines+markers'\n",
    "            ),\n",
    "            secondary_y=False\n",
    "        )\n",
    "        \n",
    "        # Add review count bars\n",
    "        fig.add_trace(\n",
    "            go.Bar(\n",
    "                x=monthly_avg['start_date'],\n",
    "                y=monthly_avg['count'],\n",
    "                name=\"Review Count\",\n",
    "                marker_color='rgba(0, 128, 0, 0.3)'\n",
    "            ),\n",
    "            secondary_y=True\n",
    "        )\n",
    "        \n",
    "        # Add reference line for neutral rating\n",
    "        fig.add_hline(y=3, line_dash=\"dash\", line_color=\"grey\", annotation_text=\"Neutral (3.0)\")\n",
    "        \n",
    "        # Layout\n",
    "        fig.update_layout(\n",
    "            title=\"Average Rating and Review Volume Over Time\",\n",
    "            xaxis_title=\"Date\",\n",
    "            legend=dict(\n",
    "                orientation=\"h\",\n",
    "                yanchor=\"bottom\",\n",
    "                y=1.02,\n",
    "                xanchor=\"right\",\n",
    "                x=1\n",
    "            ),\n",
    "            height=600\n",
    "        )\n",
    "        \n",
    "        # Update y-axes titles\n",
    "        fig.update_yaxes(title_text=\"Average Rating\", secondary_y=False, range=[1, 5])\n",
    "        fig.update_yaxes(title_text=\"Number of Reviews\", secondary_y=True)\n",
    "        \n",
    "        # Show the figure\n",
    "        fig.show()\n",
    "        \n",
    "        # 2. Rating distribution by month\n",
    "        if len(monthly_avg) > 1:  # Need at least 2 months for a meaningful comparison\n",
    "            # Create a heatmap of rating distribution by month\n",
    "            # First, calculate percentage of each rating by month\n",
    "            monthly_ratings = pd.crosstab(\n",
    "                time_df['month_year'],\n",
    "                time_df['rating'],\n",
    "                normalize='index'\n",
    "            ) * 100\n",
    "            \n",
    "            # Ensure we have all rating columns\n",
    "            for rating in range(1, 6):\n",
    "                if rating not in monthly_ratings.columns:\n",
    "                    monthly_ratings[rating] = 0\n",
    "            \n",
    "            # Sort columns\n",
    "            monthly_ratings = monthly_ratings.reindex(sorted(monthly_ratings.columns), axis=1)\n",
    "            \n",
    "            # Get month names in chronological order\n",
    "            chronological_months = monthly_avg.set_index('month_year')['start_date']\n",
    "            sorted_months = chronological_months.sort_values().index\n",
    "            \n",
    "            # Reindex to ensure chronological order\n",
    "            monthly_ratings = monthly_ratings.reindex(sorted_months)\n",
    "            \n",
    "            # Convert to long format for Plotly\n",
    "            monthly_ratings_long = monthly_ratings.reset_index().melt(\n",
    "                id_vars='month_year',\n",
    "                value_vars=list(range(1, 6)),\n",
    "                var_name='rating',\n",
    "                value_name='percentage'\n",
    "            )\n",
    "            \n",
    "            # Create heatmap\n",
    "            fig2 = px.density_heatmap(\n",
    "                monthly_ratings_long,\n",
    "                x='month_year',\n",
    "                y='rating',\n",
    "                z='percentage',\n",
    "                color_continuous_scale='RdBu_r',  # Red for low ratings, blue for high\n",
    "                labels={\n",
    "                    'month_year': 'Month',\n",
    "                    'rating': 'Rating',\n",
    "                    'percentage': 'Percentage of Reviews'\n",
    "                },\n",
    "                title=\"Rating Distribution by Month\"\n",
    "            )\n",
    "            \n",
    "            # Update layout\n",
    "            fig2.update_layout(\n",
    "                xaxis_title=\"Month\",\n",
    "                yaxis_title=\"Rating\",\n",
    "                yaxis=dict(\n",
    "                    tickmode='array',\n",
    "                    tickvals=[1, 2, 3, 4, 5],\n",
    "                    ticktext=['1 ★', '2 ★', '3 ★', '4 ★', '5 ★']\n",
    "                ),\n",
    "                coloraxis_colorbar=dict(\n",
    "                    title=\"Percentage\"\n",
    "                ),\n",
    "                height=500\n",
    "            )\n",
    "            \n",
    "            # Show the figure\n",
    "            fig2.show()\n",
    "            \n",
    "        # 3. Sentiment analysis over time (if sentiment data exists)\n",
    "        if 'sentiment' in time_df.columns:\n",
    "            # Create a sentiment distribution by month\n",
    "            monthly_sentiment = pd.crosstab(\n",
    "                time_df['month_year'],\n",
    "                time_df['sentiment'],\n",
    "                normalize='index'\n",
    "            ) * 100\n",
    "            \n",
    "            # Get month names in chronological order using the same logic as above\n",
    "            monthly_sentiment = monthly_sentiment.reindex(sorted_months)\n",
    "            \n",
    "            # Plot sentiment trends\n",
    "            fig3 = go.Figure()\n",
    "            \n",
    "            # Add traces for each sentiment\n",
    "            sentiments = ['positive', 'neutral', 'negative']\n",
    "            colors = {'positive': 'green', 'neutral': 'blue', 'negative': 'red'}\n",
    "            \n",
    "            for sentiment in sentiments:\n",
    "                if sentiment in monthly_sentiment.columns:\n",
    "                    fig3.add_trace(go.Scatter(\n",
    "                        x=monthly_sentiment.index,\n",
    "                        y=monthly_sentiment[sentiment],\n",
    "                        mode='lines+markers',\n",
    "                        name=sentiment.capitalize(),\n",
    "                        line=dict(color=colors.get(sentiment, 'gray'), width=2)\n",
    "                    ))\n",
    "            \n",
    "            # Update layout\n",
    "            fig3.update_layout(\n",
    "                title=\"Sentiment Trends Over Time\",\n",
    "                xaxis_title=\"Month\",\n",
    "                yaxis_title=\"Percentage of Reviews\",\n",
    "                yaxis=dict(range=[0, 100]),\n",
    "                legend=dict(\n",
    "                    orientation=\"h\",\n",
    "                    yanchor=\"bottom\",\n",
    "                    y=1.02,\n",
    "                    xanchor=\"right\",\n",
    "                    x=1\n",
    "                ),\n",
    "                height=500\n",
    "            )\n",
    "            \n",
    "            # Show the figure\n",
    "            fig3.show()\n",
    "            \n",
    "        # 4. Version distribution over time (if version data exists)\n",
    "        if 'version' in time_df.columns:\n",
    "            # Count reviews by version and month\n",
    "            version_by_month = pd.crosstab(\n",
    "                time_df['month_year'],\n",
    "                time_df['version']\n",
    "            )\n",
    "            \n",
    "            # Get top versions by overall count\n",
    "            top_versions = reviews_df['version'].value_counts().head(5).index.tolist()\n",
    "            \n",
    "            # Filter to only include top versions (to avoid overcrowding)\n",
    "            filtered_versions = [col for col in version_by_month.columns if col in top_versions]\n",
    "            \n",
    "            # Create plot\n",
    "            fig4 = go.Figure()\n",
    "            \n",
    "            # Add a trace for each top version\n",
    "            for version in filtered_versions:\n",
    "                fig4.add_trace(go.Scatter(\n",
    "                    x=version_by_month.index,\n",
    "                    y=version_by_month[version],\n",
    "                    mode='lines+markers',\n",
    "                    name=f\"Version {version}\",\n",
    "                    marker=dict(size=8)\n",
    "                ))\n",
    "            \n",
    "            # Update layout\n",
    "            fig4.update_layout(\n",
    "                title=\"Review Volume by Version Over Time\",\n",
    "                xaxis_title=\"Month\",\n",
    "                yaxis_title=\"Number of Reviews\",\n",
    "                legend=dict(\n",
    "                    orientation=\"h\",\n",
    "                    yanchor=\"bottom\",\n",
    "                    y=1.02,\n",
    "                    xanchor=\"right\",\n",
    "                    x=1\n",
    "                ),\n",
    "                height=500\n",
    "            )\n",
    "            \n",
    "            # Show the figure\n",
    "            fig4.show()\n",
    "    else:\n",
    "        print(\"Insufficient valid dates for time-based analysis.\")\n",
    "        \n",
    "else:\n",
    "    print(\"No date column found. Cannot perform time-based analysis.\")"
   ]
  },
  {
   "cell_type": "markdown",
   "metadata": {},
   "source": [
    "## Topic Distribution\n",
    "\n",
    "Let's visualize the distribution of topics."
   ]
  },
  {
   "cell_type": "code",
   "execution_count": 37,
   "metadata": {},
   "outputs": [
    {
     "name": "stdout",
     "output_type": "stream",
     "text": [
      "Checking topic information:\n",
      "Found 9738 reviews with valid topics out of 10000 (97.38%)\n",
      "Topic model has 10 topics\n",
      "\n",
      "Sample topics and their words:\n",
      "Topic 0: app, web, seat, check, boarding\n",
      "Topic 1: indigo, application, like, app, booking\n",
      "Topic 2: nice, app, issue, worst, booking\n",
      "\n",
      "Creating topic distribution visualization...\n"
     ]
    },
    {
     "data": {
      "application/vnd.plotly.v1+json": {
       "config": {
        "plotlyServerURL": "https://plot.ly"
       },
       "data": [
        {
         "hovertemplate": "topic=%{x}<br>count=%{marker.color}<extra></extra>",
         "legendgroup": "",
         "marker": {
          "color": {
           "bdata": "VAPoAX8DLwI0AogEdgiHAgkGXgM=",
           "dtype": "i2"
          },
          "coloraxis": "coloraxis",
          "pattern": {
           "shape": ""
          }
         },
         "name": "",
         "orientation": "v",
         "showlegend": false,
         "textposition": "auto",
         "type": "bar",
         "x": [
          "Topic 0.0",
          "Topic 1.0",
          "Topic 2.0",
          "Topic 3.0",
          "Topic 4.0",
          "Topic 5.0",
          "Topic 6.0",
          "Topic 7.0",
          "Topic 8.0",
          "Topic 9.0"
         ],
         "xaxis": "x",
         "y": {
          "bdata": "VAPoAX8DLwI0AogEdgiHAgkGXgM=",
          "dtype": "i2"
         },
         "yaxis": "y"
        }
       ],
       "layout": {
        "annotations": [
         {
          "showarrow": false,
          "text": "8.7%",
          "x": "Topic 0.0",
          "y": 852,
          "yshift": 10
         },
         {
          "showarrow": false,
          "text": "5.0%",
          "x": "Topic 1.0",
          "y": 488,
          "yshift": 10
         },
         {
          "showarrow": false,
          "text": "9.2%",
          "x": "Topic 2.0",
          "y": 895,
          "yshift": 10
         },
         {
          "showarrow": false,
          "text": "5.7%",
          "x": "Topic 3.0",
          "y": 559,
          "yshift": 10
         },
         {
          "showarrow": false,
          "text": "5.8%",
          "x": "Topic 4.0",
          "y": 564,
          "yshift": 10
         },
         {
          "showarrow": false,
          "text": "11.9%",
          "x": "Topic 5.0",
          "y": 1160,
          "yshift": 10
         },
         {
          "showarrow": false,
          "text": "22.2%",
          "x": "Topic 6.0",
          "y": 2166,
          "yshift": 10
         },
         {
          "showarrow": false,
          "text": "6.6%",
          "x": "Topic 7.0",
          "y": 647,
          "yshift": 10
         },
         {
          "showarrow": false,
          "text": "15.9%",
          "x": "Topic 8.0",
          "y": 1545,
          "yshift": 10
         },
         {
          "showarrow": false,
          "text": "8.9%",
          "x": "Topic 9.0",
          "y": 862,
          "yshift": 10
         }
        ],
        "barmode": "relative",
        "coloraxis": {
         "colorbar": {
          "title": {
           "text": "count"
          }
         },
         "colorscale": [
          [
           0,
           "#440154"
          ],
          [
           0.1111111111111111,
           "#482878"
          ],
          [
           0.2222222222222222,
           "#3e4989"
          ],
          [
           0.3333333333333333,
           "#31688e"
          ],
          [
           0.4444444444444444,
           "#26828e"
          ],
          [
           0.5555555555555556,
           "#1f9e89"
          ],
          [
           0.6666666666666666,
           "#35b779"
          ],
          [
           0.7777777777777778,
           "#6ece58"
          ],
          [
           0.8888888888888888,
           "#b5de2b"
          ],
          [
           1,
           "#fde725"
          ]
         ]
        },
        "legend": {
         "tracegroupgap": 0
        },
        "showlegend": false,
        "template": {
         "data": {
          "bar": [
           {
            "error_x": {
             "color": "#f2f5fa"
            },
            "error_y": {
             "color": "#f2f5fa"
            },
            "marker": {
             "line": {
              "color": "rgb(17,17,17)",
              "width": 0.5
             },
             "pattern": {
              "fillmode": "overlay",
              "size": 10,
              "solidity": 0.2
             }
            },
            "type": "bar"
           }
          ],
          "barpolar": [
           {
            "marker": {
             "line": {
              "color": "rgb(17,17,17)",
              "width": 0.5
             },
             "pattern": {
              "fillmode": "overlay",
              "size": 10,
              "solidity": 0.2
             }
            },
            "type": "barpolar"
           }
          ],
          "carpet": [
           {
            "aaxis": {
             "endlinecolor": "#A2B1C6",
             "gridcolor": "#506784",
             "linecolor": "#506784",
             "minorgridcolor": "#506784",
             "startlinecolor": "#A2B1C6"
            },
            "baxis": {
             "endlinecolor": "#A2B1C6",
             "gridcolor": "#506784",
             "linecolor": "#506784",
             "minorgridcolor": "#506784",
             "startlinecolor": "#A2B1C6"
            },
            "type": "carpet"
           }
          ],
          "choropleth": [
           {
            "colorbar": {
             "outlinewidth": 0,
             "ticks": ""
            },
            "type": "choropleth"
           }
          ],
          "contour": [
           {
            "colorbar": {
             "outlinewidth": 0,
             "ticks": ""
            },
            "colorscale": [
             [
              0,
              "#0d0887"
             ],
             [
              0.1111111111111111,
              "#46039f"
             ],
             [
              0.2222222222222222,
              "#7201a8"
             ],
             [
              0.3333333333333333,
              "#9c179e"
             ],
             [
              0.4444444444444444,
              "#bd3786"
             ],
             [
              0.5555555555555556,
              "#d8576b"
             ],
             [
              0.6666666666666666,
              "#ed7953"
             ],
             [
              0.7777777777777778,
              "#fb9f3a"
             ],
             [
              0.8888888888888888,
              "#fdca26"
             ],
             [
              1,
              "#f0f921"
             ]
            ],
            "type": "contour"
           }
          ],
          "contourcarpet": [
           {
            "colorbar": {
             "outlinewidth": 0,
             "ticks": ""
            },
            "type": "contourcarpet"
           }
          ],
          "heatmap": [
           {
            "colorbar": {
             "outlinewidth": 0,
             "ticks": ""
            },
            "colorscale": [
             [
              0,
              "#0d0887"
             ],
             [
              0.1111111111111111,
              "#46039f"
             ],
             [
              0.2222222222222222,
              "#7201a8"
             ],
             [
              0.3333333333333333,
              "#9c179e"
             ],
             [
              0.4444444444444444,
              "#bd3786"
             ],
             [
              0.5555555555555556,
              "#d8576b"
             ],
             [
              0.6666666666666666,
              "#ed7953"
             ],
             [
              0.7777777777777778,
              "#fb9f3a"
             ],
             [
              0.8888888888888888,
              "#fdca26"
             ],
             [
              1,
              "#f0f921"
             ]
            ],
            "type": "heatmap"
           }
          ],
          "histogram": [
           {
            "marker": {
             "pattern": {
              "fillmode": "overlay",
              "size": 10,
              "solidity": 0.2
             }
            },
            "type": "histogram"
           }
          ],
          "histogram2d": [
           {
            "colorbar": {
             "outlinewidth": 0,
             "ticks": ""
            },
            "colorscale": [
             [
              0,
              "#0d0887"
             ],
             [
              0.1111111111111111,
              "#46039f"
             ],
             [
              0.2222222222222222,
              "#7201a8"
             ],
             [
              0.3333333333333333,
              "#9c179e"
             ],
             [
              0.4444444444444444,
              "#bd3786"
             ],
             [
              0.5555555555555556,
              "#d8576b"
             ],
             [
              0.6666666666666666,
              "#ed7953"
             ],
             [
              0.7777777777777778,
              "#fb9f3a"
             ],
             [
              0.8888888888888888,
              "#fdca26"
             ],
             [
              1,
              "#f0f921"
             ]
            ],
            "type": "histogram2d"
           }
          ],
          "histogram2dcontour": [
           {
            "colorbar": {
             "outlinewidth": 0,
             "ticks": ""
            },
            "colorscale": [
             [
              0,
              "#0d0887"
             ],
             [
              0.1111111111111111,
              "#46039f"
             ],
             [
              0.2222222222222222,
              "#7201a8"
             ],
             [
              0.3333333333333333,
              "#9c179e"
             ],
             [
              0.4444444444444444,
              "#bd3786"
             ],
             [
              0.5555555555555556,
              "#d8576b"
             ],
             [
              0.6666666666666666,
              "#ed7953"
             ],
             [
              0.7777777777777778,
              "#fb9f3a"
             ],
             [
              0.8888888888888888,
              "#fdca26"
             ],
             [
              1,
              "#f0f921"
             ]
            ],
            "type": "histogram2dcontour"
           }
          ],
          "mesh3d": [
           {
            "colorbar": {
             "outlinewidth": 0,
             "ticks": ""
            },
            "type": "mesh3d"
           }
          ],
          "parcoords": [
           {
            "line": {
             "colorbar": {
              "outlinewidth": 0,
              "ticks": ""
             }
            },
            "type": "parcoords"
           }
          ],
          "pie": [
           {
            "automargin": true,
            "type": "pie"
           }
          ],
          "scatter": [
           {
            "marker": {
             "line": {
              "color": "#283442"
             }
            },
            "type": "scatter"
           }
          ],
          "scatter3d": [
           {
            "line": {
             "colorbar": {
              "outlinewidth": 0,
              "ticks": ""
             }
            },
            "marker": {
             "colorbar": {
              "outlinewidth": 0,
              "ticks": ""
             }
            },
            "type": "scatter3d"
           }
          ],
          "scattercarpet": [
           {
            "marker": {
             "colorbar": {
              "outlinewidth": 0,
              "ticks": ""
             }
            },
            "type": "scattercarpet"
           }
          ],
          "scattergeo": [
           {
            "marker": {
             "colorbar": {
              "outlinewidth": 0,
              "ticks": ""
             }
            },
            "type": "scattergeo"
           }
          ],
          "scattergl": [
           {
            "marker": {
             "line": {
              "color": "#283442"
             }
            },
            "type": "scattergl"
           }
          ],
          "scattermap": [
           {
            "marker": {
             "colorbar": {
              "outlinewidth": 0,
              "ticks": ""
             }
            },
            "type": "scattermap"
           }
          ],
          "scattermapbox": [
           {
            "marker": {
             "colorbar": {
              "outlinewidth": 0,
              "ticks": ""
             }
            },
            "type": "scattermapbox"
           }
          ],
          "scatterpolar": [
           {
            "marker": {
             "colorbar": {
              "outlinewidth": 0,
              "ticks": ""
             }
            },
            "type": "scatterpolar"
           }
          ],
          "scatterpolargl": [
           {
            "marker": {
             "colorbar": {
              "outlinewidth": 0,
              "ticks": ""
             }
            },
            "type": "scatterpolargl"
           }
          ],
          "scatterternary": [
           {
            "marker": {
             "colorbar": {
              "outlinewidth": 0,
              "ticks": ""
             }
            },
            "type": "scatterternary"
           }
          ],
          "surface": [
           {
            "colorbar": {
             "outlinewidth": 0,
             "ticks": ""
            },
            "colorscale": [
             [
              0,
              "#0d0887"
             ],
             [
              0.1111111111111111,
              "#46039f"
             ],
             [
              0.2222222222222222,
              "#7201a8"
             ],
             [
              0.3333333333333333,
              "#9c179e"
             ],
             [
              0.4444444444444444,
              "#bd3786"
             ],
             [
              0.5555555555555556,
              "#d8576b"
             ],
             [
              0.6666666666666666,
              "#ed7953"
             ],
             [
              0.7777777777777778,
              "#fb9f3a"
             ],
             [
              0.8888888888888888,
              "#fdca26"
             ],
             [
              1,
              "#f0f921"
             ]
            ],
            "type": "surface"
           }
          ],
          "table": [
           {
            "cells": {
             "fill": {
              "color": "#506784"
             },
             "line": {
              "color": "rgb(17,17,17)"
             }
            },
            "header": {
             "fill": {
              "color": "#2a3f5f"
             },
             "line": {
              "color": "rgb(17,17,17)"
             }
            },
            "type": "table"
           }
          ]
         },
         "layout": {
          "annotationdefaults": {
           "arrowcolor": "#f2f5fa",
           "arrowhead": 0,
           "arrowwidth": 1
          },
          "autotypenumbers": "strict",
          "coloraxis": {
           "colorbar": {
            "outlinewidth": 0,
            "ticks": ""
           }
          },
          "colorscale": {
           "diverging": [
            [
             0,
             "#8e0152"
            ],
            [
             0.1,
             "#c51b7d"
            ],
            [
             0.2,
             "#de77ae"
            ],
            [
             0.3,
             "#f1b6da"
            ],
            [
             0.4,
             "#fde0ef"
            ],
            [
             0.5,
             "#f7f7f7"
            ],
            [
             0.6,
             "#e6f5d0"
            ],
            [
             0.7,
             "#b8e186"
            ],
            [
             0.8,
             "#7fbc41"
            ],
            [
             0.9,
             "#4d9221"
            ],
            [
             1,
             "#276419"
            ]
           ],
           "sequential": [
            [
             0,
             "#0d0887"
            ],
            [
             0.1111111111111111,
             "#46039f"
            ],
            [
             0.2222222222222222,
             "#7201a8"
            ],
            [
             0.3333333333333333,
             "#9c179e"
            ],
            [
             0.4444444444444444,
             "#bd3786"
            ],
            [
             0.5555555555555556,
             "#d8576b"
            ],
            [
             0.6666666666666666,
             "#ed7953"
            ],
            [
             0.7777777777777778,
             "#fb9f3a"
            ],
            [
             0.8888888888888888,
             "#fdca26"
            ],
            [
             1,
             "#f0f921"
            ]
           ],
           "sequentialminus": [
            [
             0,
             "#0d0887"
            ],
            [
             0.1111111111111111,
             "#46039f"
            ],
            [
             0.2222222222222222,
             "#7201a8"
            ],
            [
             0.3333333333333333,
             "#9c179e"
            ],
            [
             0.4444444444444444,
             "#bd3786"
            ],
            [
             0.5555555555555556,
             "#d8576b"
            ],
            [
             0.6666666666666666,
             "#ed7953"
            ],
            [
             0.7777777777777778,
             "#fb9f3a"
            ],
            [
             0.8888888888888888,
             "#fdca26"
            ],
            [
             1,
             "#f0f921"
            ]
           ]
          },
          "colorway": [
           "#636efa",
           "#EF553B",
           "#00cc96",
           "#ab63fa",
           "#FFA15A",
           "#19d3f3",
           "#FF6692",
           "#B6E880",
           "#FF97FF",
           "#FECB52"
          ],
          "font": {
           "color": "#f2f5fa"
          },
          "geo": {
           "bgcolor": "rgb(17,17,17)",
           "lakecolor": "rgb(17,17,17)",
           "landcolor": "rgb(17,17,17)",
           "showlakes": true,
           "showland": true,
           "subunitcolor": "#506784"
          },
          "hoverlabel": {
           "align": "left"
          },
          "hovermode": "closest",
          "mapbox": {
           "style": "dark"
          },
          "paper_bgcolor": "rgb(17,17,17)",
          "plot_bgcolor": "rgb(17,17,17)",
          "polar": {
           "angularaxis": {
            "gridcolor": "#506784",
            "linecolor": "#506784",
            "ticks": ""
           },
           "bgcolor": "rgb(17,17,17)",
           "radialaxis": {
            "gridcolor": "#506784",
            "linecolor": "#506784",
            "ticks": ""
           }
          },
          "scene": {
           "xaxis": {
            "backgroundcolor": "rgb(17,17,17)",
            "gridcolor": "#506784",
            "gridwidth": 2,
            "linecolor": "#506784",
            "showbackground": true,
            "ticks": "",
            "zerolinecolor": "#C8D4E3"
           },
           "yaxis": {
            "backgroundcolor": "rgb(17,17,17)",
            "gridcolor": "#506784",
            "gridwidth": 2,
            "linecolor": "#506784",
            "showbackground": true,
            "ticks": "",
            "zerolinecolor": "#C8D4E3"
           },
           "zaxis": {
            "backgroundcolor": "rgb(17,17,17)",
            "gridcolor": "#506784",
            "gridwidth": 2,
            "linecolor": "#506784",
            "showbackground": true,
            "ticks": "",
            "zerolinecolor": "#C8D4E3"
           }
          },
          "shapedefaults": {
           "line": {
            "color": "#f2f5fa"
           }
          },
          "sliderdefaults": {
           "bgcolor": "#C8D4E3",
           "bordercolor": "rgb(17,17,17)",
           "borderwidth": 1,
           "tickwidth": 0
          },
          "ternary": {
           "aaxis": {
            "gridcolor": "#506784",
            "linecolor": "#506784",
            "ticks": ""
           },
           "baxis": {
            "gridcolor": "#506784",
            "linecolor": "#506784",
            "ticks": ""
           },
           "bgcolor": "rgb(17,17,17)",
           "caxis": {
            "gridcolor": "#506784",
            "linecolor": "#506784",
            "ticks": ""
           }
          },
          "title": {
           "x": 0.05
          },
          "updatemenudefaults": {
           "bgcolor": "#506784",
           "borderwidth": 0
          },
          "xaxis": {
           "automargin": true,
           "gridcolor": "#283442",
           "linecolor": "#506784",
           "ticks": "",
           "title": {
            "standoff": 15
           },
           "zerolinecolor": "#283442",
           "zerolinewidth": 2
          },
          "yaxis": {
           "automargin": true,
           "gridcolor": "#283442",
           "linecolor": "#506784",
           "ticks": "",
           "title": {
            "standoff": 15
           },
           "zerolinecolor": "#283442",
           "zerolinewidth": 2
          }
         }
        },
        "title": {
         "text": "Mobile App - Topic Distribution"
        },
        "xaxis": {
         "anchor": "y",
         "domain": [
          0,
          1
         ],
         "title": {
          "text": "Topic"
         }
        },
        "yaxis": {
         "anchor": "x",
         "domain": [
          0,
          1
         ],
         "title": {
          "text": "Number of Reviews"
         }
        }
       }
      }
     },
     "metadata": {},
     "output_type": "display_data"
    }
   ],
   "source": [
    "# Check for topic information\n",
    "print(\"Checking topic information:\")\n",
    "has_topics = 'primary_topic' in analyzed_df.columns and 'topics' in analysis_results\n",
    "\n",
    "if has_topics:\n",
    "    # Count non-null topics\n",
    "    valid_topics = analyzed_df['primary_topic'].notna().sum()\n",
    "    total_rows = len(analyzed_df)\n",
    "    print(f\"Found {valid_topics} reviews with valid topics out of {total_rows} ({valid_topics/total_rows*100:.2f}%)\")\n",
    "    \n",
    "    # Get topic model information\n",
    "    _, topic_words = analysis_results[\"topics\"]\n",
    "    topic_count = len(topic_words)\n",
    "    print(f\"Topic model has {topic_count} topics\")\n",
    "    \n",
    "    # Show a sample of topics\n",
    "    print(\"\\nSample topics and their words:\")\n",
    "    sample_size = min(3, topic_count)\n",
    "    for i, (topic_id, words) in enumerate(list(topic_words.items())[:sample_size]):\n",
    "        print(f\"Topic {topic_id}: {', '.join(words[:5])}\")\n",
    "        \n",
    "    # Create topic distribution visualization\n",
    "    print(\"\\nCreating topic distribution visualization...\")\n",
    "    topic_viz = runner.visualizer.plot_topic_distribution(\n",
    "        data=analyzed_df,\n",
    "        topic_words=topic_words,\n",
    "        title=\"Mobile App - Topic Distribution\",\n",
    "        use_plotly=True,\n",
    "        close_fig=False\n",
    "    )\n",
    "    \n",
    "    # Display the figure\n",
    "    topic_viz[\"figure\"].show()\n",
    "else:\n",
    "    print(\"No valid topic information found in the data\")\n",
    "    \n",
    "    # Check if we have primary_topic column but it's all NaN\n",
    "    if 'primary_topic' in analyzed_df.columns and analyzed_df['primary_topic'].isna().all():\n",
    "        print(\"The primary_topic column exists but contains only NaN values.\")\n",
    "        print(\"This suggests the topic modeling failed, possibly due to issues with the text data.\")\n",
    "    \n",
    "    print(\"\\nTo view topic distributions, you may need to run the analyze_reviews step again with fixed data.\")\n",
    "    print(\"For a demonstration, you can try setting USE_MOCK_DATA=true in your environment variables.\")"
   ]
  },
  {
   "cell_type": "markdown",
   "metadata": {},
   "source": [
    "## Capture insights from any source"
   ]
  },
  {
   "cell_type": "code",
   "execution_count": 38,
   "metadata": {},
   "outputs": [
    {
     "name": "stdout",
     "output_type": "stream",
     "text": [
      "Successfully stored manual insights. These will be included in future dashboards.\n",
      "\n",
      "Preview of the insights:\n",
      "==================================================\n",
      "\n",
      "<h1>Review Insights</h1>\n",
      "<p>Generated on: 2025-05-08 14:56:52</p>\n",
      "\n",
      "<h2>Parameters</h2>\n",
      "<ul>\n",
      "    <li><strong>Total Reviews</strong>: 10000</li>\n",
      "    <li><strong>Distinct Buckets</strong>: 10</li>\n",
      "    <li><strong>Sample Size</strong>: 600</li>\n",
      "    <li><strong>Rating Focus</strong>: negative (1 to 2 stars)</li>\n",
      "    <li><strong>Clustering</strong>: auto</li>\n",
      "    <li><strong>Model</strong>: gpt-4o</li>\n",
      "    <li><strong>Focus areas</strong>: App Performance & Stability, Booking Experience, Check-in Pro...\n",
      "==================================================\n",
      "Global ai_insights variable created and populated.\n",
      "Contains 1 insight categories: ['manual']\n"
     ]
    }
   ],
   "source": [
    "# Create a cell to capture and store enhanced insights from any source\n",
    "\n",
    "# Function to store and format insights\n",
    "def store_insights(insight_text, insight_type=\"manual\"):\n",
    "    \"\"\"Store insights for dashboard and display them in notebook\"\"\"\n",
    "    # Create a global ai_insights variable so other cells can access it\n",
    "    global ai_insights\n",
    "    if 'ai_insights' not in globals():\n",
    "        ai_insights = {}\n",
    "    \n",
    "    ai_insights[insight_type] = {\"analysis\": insight_text}\n",
    "    \n",
    "    print(f\"Successfully stored {insight_type} insights. These will be included in future dashboards.\")\n",
    "    print(\"\\nPreview of the insights:\")\n",
    "    print(\"=\" * 50)\n",
    "    print(insight_text[:500] + \"...\" if len(insight_text) > 500 else insight_text)\n",
    "    print(\"=\" * 50)\n",
    "    \n",
    "    return ai_insights\n",
    "\n",
    "# Example usage (uncomment and paste your own insights here)\n",
    "\n",
    "insights_text = \"\"\"\n",
    "<h1>Review Insights</h1>\n",
    "<p>Generated on: 2025-05-08 14:56:52</p>\n",
    "\n",
    "<h2>Parameters</h2>\n",
    "<ul>\n",
    "    <li><strong>Total Reviews</strong>: 10000</li>\n",
    "    <li><strong>Distinct Buckets</strong>: 10</li>\n",
    "    <li><strong>Sample Size</strong>: 600</li>\n",
    "    <li><strong>Rating Focus</strong>: negative (1 to 2 stars)</li>\n",
    "    <li><strong>Clustering</strong>: auto</li>\n",
    "    <li><strong>Model</strong>: gpt-4o</li>\n",
    "    <li><strong>Focus areas</strong>: App Performance & Stability, Booking Experience, Check-in Process, Customer Support, Payment System, User Interface & Design, Flight Information & Updates, Loyalty Program & Miles, In-app Features, Flight Modifications & Cancellations, Baggage Information, Boarding Pass & Digital Documents</li>\n",
    "</ul>\n",
    "\n",
    "<h2>Insights</h2>\n",
    "\n",
    "<h3>Comprehensive Analysis of Indigo Airlines Mobile App Reviews</h3>\n",
    "\n",
    "<h4>1. Overall Sentiment and Main Themes</h4>\n",
    "<ul>\n",
    "    <li><strong>Sentiment</strong>: The overall sentiment of the reviews is predominantly negative, with a significant number of 1 and 2-star ratings. Users express frustration with the app's functionality and performance.</li>\n",
    "    <li><strong>Main Themes</strong>:\n",
    "        <ul>\n",
    "            <li><strong>App Performance & Stability</strong>: Frequent crashes, slow performance, and compatibility issues are major concerns.</li>\n",
    "            <li><strong>Booking Experience</strong>: Users report issues with booking processes, including disappearing bookings and unexpected fare increases.</li>\n",
    "            <li><strong>Check-in Process</strong>: Many users face difficulties with web check-in, often due to technical glitches or forced seat purchases.</li>\n",
    "            <li><strong>Customer Support</strong>: Poor customer service and unresponsive support are recurring complaints.</li>\n",
    "            <li><strong>Payment System</strong>: Payment failures and unexpected convenience fees are common issues.</li>\n",
    "            <li><strong>User Interface & Design</strong>: The app is described as user-unfriendly, with navigation difficulties and poor design choices.</li>\n",
    "            <li><strong>Flight Information & Updates</strong>: Users report missing or incorrect flight information and updates.</li>\n",
    "            <li><strong>Loyalty Program & Miles</strong>: Issues with loyalty points not being reflected or accessible.</li>\n",
    "            <li><strong>In-app Features</strong>: Missing features like saving trips and accessing boarding passes are highlighted.</li>\n",
    "            <li><strong>Flight Modifications & Cancellations</strong>: Users struggle with modifying bookings and face high cancellation charges.</li>\n",
    "        </ul>\n",
    "    </li>\n",
    "</ul>\n",
    "\n",
    "<h4>2. Significant Issues Identified</h4>\n",
    "<ul>\n",
    "    <li><strong>Performance and Compatibility</strong>: The app frequently crashes, is slow, and is incompatible with certain devices.</li>\n",
    "    <li><strong>Web Check-in and Boarding Passes</strong>: Users cannot reliably check in or access boarding passes, leading to significant inconvenience.</li>\n",
    "    <li><strong>Payment and Fees</strong>: Payment processes are unreliable, with frequent failures and unexpected fees.</li>\n",
    "    <li><strong>Customer Support</strong>: Lack of effective customer support and unresolved issues are major pain points.</li>\n",
    "    <li><strong>User Experience</strong>: The app's design and navigation are not intuitive, leading to user frustration.</li>\n",
    "</ul>\n",
    "\n",
    "<h4>3. Feature Requests and Constructive Feedback</h4>\n",
    "<ul>\n",
    "    <li><strong>Improved Stability</strong>: Users request a more stable and faster app experience.</li>\n",
    "    <li><strong>Seamless Check-in</strong>: A reliable check-in process without forced seat purchases.</li>\n",
    "    <li><strong>Transparent Pricing</strong>: Clear communication about fees and charges during booking.</li>\n",
    "    <li><strong>Enhanced Customer Support</strong>: More responsive and helpful customer service.</li>\n",
    "    <li><strong>User-Friendly Interface</strong>: A more intuitive and easy-to-navigate app design.</li>\n",
    "</ul>\n",
    "\n",
    "<h4>4. Patterns Related to App Versions and Processes</h4>\n",
    "<ul>\n",
    "    <li><strong>Version Updates</strong>: Recent updates have introduced more issues than they resolved, with users preferring older versions.</li>\n",
    "    <li><strong>Booking and Check-in</strong>: Users consistently face issues with booking and check-in processes across multiple app versions.</li>\n",
    "    <li><strong>Device Compatibility</strong>: Newer app versions are incompatible with older devices, causing user dissatisfaction.</li>\n",
    "</ul>\n",
    "\n",
    "<h4>5. Actionable Improvements</h4>\n",
    "<ol>\n",
    "    <li><strong>Enhance App Stability and Performance</strong>: Prioritize fixing bugs and improving app speed and reliability.</li>\n",
    "    <li><strong>Revamp the Check-in Process</strong>: Ensure a seamless check-in experience without mandatory seat purchases.</li>\n",
    "    <li><strong>Improve Payment Systems</strong>: Address payment gateway issues and eliminate unexpected fees.</li>\n",
    "    <li><strong>Redesign User Interface</strong>: Create a more intuitive and user-friendly design to enhance navigation and usability.</li>\n",
    "    <li><strong>Strengthen Customer Support</strong>: Implement more effective customer service channels to address user concerns promptly.</li>\n",
    "</ol>\n",
    "\n",
    "<h4>6. Positive Aspects to Amplify</h4>\n",
    "<ul>\n",
    "    <li><strong>Booking Experience</strong>: Some users appreciate the ease of booking when the app functions correctly.</li>\n",
    "    <li><strong>Service Quality</strong>: Positive feedback on the airline's service when not hindered by app issues.</li>\n",
    "    <li><strong>Loyalty Program</strong>: Users value the loyalty program when it functions properly, suggesting potential for enhancement.</li>\n",
    "</ul>\n",
    "\n",
    "<h4>Supporting Quotes</h4>\n",
    "<ul>\n",
    "    <li>\"The app is so slow.\" (Review #183)</li>\n",
    "    <li>\"Boarding pass is not available in the app for the second leg of any connecting flight.\" (Review #91)</li>\n",
    "    <li>\"Payment gateway problem.\" (Review #115)</li>\n",
    "    <li>\"App not working properly.\" (Review #525)</li>\n",
    "    <li>\"Very poor app service and customer support.\" (Review #370)</li>\n",
    "</ul>\n",
    "\n",
    "<p>By addressing these key issues and implementing the suggested improvements, Indigo Airlines can significantly enhance the user experience and regain customer trust in their mobile application.</p>\n",
    "\n",
    "\"\"\"\n",
    "\n",
    "# Store the insights and make them available globally\n",
    "ai_insights = store_insights(insights_text, \"manual\")\n",
    "\n",
    "# Print confirmation of the global variable's contents\n",
    "print(\"Global ai_insights variable created and populated.\")\n",
    "print(f\"Contains {len(ai_insights)} insight categories: {list(ai_insights.keys())}\")\n",
    "\n",
    "# If needed for testing, we can also store the insights in another format\n",
    "# dashboard_insights = {\"ai_insights\": ai_insights}\n",
    "# print(f\"Dashboard-ready insights variable created.\")"
   ]
  },
  {
   "cell_type": "markdown",
   "metadata": {},
   "source": [
    "# Vector DB: Indexing Reviews"
   ]
  },
  {
   "cell_type": "code",
   "execution_count": null,
   "metadata": {},
   "outputs": [],
   "source": [
    "# Index reviews in vector database\n",
    "success = runner.index_reviews(analyzed_df)\n",
    "print(f\"Indexed reviews successfully: {success}\")\n",
    "\n",
    "# Get vector database stats\n",
    "stats = runner.vector_db.get_collection_stats()\n",
    "print(\"\\nVector Database Stats:\")\n",
    "for key, value in stats.items():\n",
    "    print(f\"{key}: {value}\")"
   ]
  },
  {
   "cell_type": "code",
   "execution_count": null,
   "metadata": {},
   "outputs": [
    {
     "name": "stdout",
     "output_type": "stream",
     "text": [
      "Generating rating distribution...\n",
      "Generating sentiment distribution...\n",
      "Generating topic distribution...\n",
      "Generating version rating visualization...\n",
      "Generating sentiment by version visualization...\n",
      "Generating time trend visualization...\n",
      "Generating major version trends...\n",
      "Generating rating by version range...\n",
      "Generating sentiment by version range...\n",
      "Generating developer response analysis...\n",
      "Generating rating heatmap by month...\n",
      "Generating sentiment over time...\n",
      "Generating version volume over time...\n",
      "Generating response vs rating comparison...\n",
      "Generating data tables...\n",
      "\n",
      "Generating comprehensive HTML dashboard...\n",
      "Comprehensive dashboard created at: reports/full_dashboard_20250508_175408/indigo_dashboard.html\n",
      "\n",
      "Dashboard includes:\n",
      "- Executive Summary with key findings and AI insights\n",
      "- Ratings & Sentiment Analysis with detailed breakdowns\n",
      "- Version Analysis with performance metrics across app versions\n",
      "- Topic Analysis showing key topics in user reviews\n",
      "- Time Trends showing how metrics have changed over time\n",
      "- Developer Response Analysis showing who gets responses\n",
      "- Data Tables with detailed metrics and comparisons\n",
      "\n",
      "Open the HTML file in a web browser to view all visualizations, tables, and insights in one place.\n"
     ]
    }
   ],
   "source": [
    "# Create a comprehensive dashboard with all our analyses\n",
    "import os\n",
    "import json\n",
    "import pandas as pd\n",
    "import numpy as np\n",
    "import plotly.express as px\n",
    "import plotly.graph_objects as go\n",
    "from plotly.subplots import make_subplots\n",
    "import plotly.io as pio\n",
    "import plotly.utils\n",
    "from datetime import datetime\n",
    "\n",
    "# Create output directory for our dashboard\n",
    "timestamp = datetime.now().strftime(\"%Y%m%d_%H%M%S\")\n",
    "output_dir = os.path.join(\"reports\", f\"full_dashboard_{timestamp}\")\n",
    "os.makedirs(output_dir, exist_ok=True)\n",
    "\n",
    "# Function to create and save plotly figures\n",
    "def save_figure(fig, filename):\n",
    "    # Set responsive properties for each figure to ensure proper width\n",
    "    fig.update_layout(\n",
    "        autosize=True,\n",
    "        width=None,  # Remove fixed width\n",
    "        height=500,  # Keep fixed height\n",
    "        margin=dict(l=50, r=50, b=50, t=80)\n",
    "    )\n",
    "    \n",
    "    # Save as HTML for individual viewing\n",
    "    fig_path = os.path.join(output_dir, f\"{filename}.html\")\n",
    "    fig.write_html(fig_path, config={'responsive': True})\n",
    "    \n",
    "    # Convert to JSON for embedding directly in the dashboard\n",
    "    fig_json = json.dumps(fig.to_dict(), cls=plotly.utils.PlotlyJSONEncoder)\n",
    "    \n",
    "    return fig_path, fig_json\n",
    "\n",
    "# Dictionary to store our visualizations JSON\n",
    "visualizations = {}\n",
    "\n",
    "# 1. Rating distribution for full dataset\n",
    "print(\"Generating rating distribution...\")\n",
    "rating_fig = px.histogram(\n",
    "    analyzed_df,\n",
    "    x=\"rating\",\n",
    "    title=\"Overall Rating Distribution\",\n",
    "    color_discrete_sequence=['#3366CC'],\n",
    "    labels={\"rating\": \"Rating (1-5)\", \"count\": \"Number of Reviews\"},\n",
    "    nbins=5,\n",
    "    height=500\n",
    ")\n",
    "# Add average rating line\n",
    "avg_rating = analyzed_df[\"rating\"].mean()\n",
    "rating_fig.add_vline(\n",
    "    x=avg_rating,\n",
    "    line_dash=\"dash\",\n",
    "    line_color=\"red\",\n",
    "    annotation_text=f\"Avg: {avg_rating:.2f}\",\n",
    "    annotation_position=\"top right\"\n",
    ")\n",
    "rating_fig.update_layout(\n",
    "    xaxis=dict(\n",
    "        tickmode='array',\n",
    "        tickvals=[1, 2, 3, 4, 5]\n",
    "    )\n",
    ")\n",
    "_, visualizations['rating_distribution'] = save_figure(rating_fig, \"rating_distribution\")\n",
    "\n",
    "# 2. Sentiment distribution for full dataset\n",
    "if 'sentiment' in analyzed_df.columns:\n",
    "    print(\"Generating sentiment distribution...\")\n",
    "    sentiment_counts = analyzed_df['sentiment'].value_counts().reset_index()\n",
    "    sentiment_counts.columns = ['sentiment', 'count']\n",
    "    sentiment_counts['percentage'] = sentiment_counts['count'] / len(analyzed_df) * 100\n",
    "    \n",
    "    sentiment_fig = px.pie(\n",
    "        sentiment_counts,\n",
    "        values='percentage',\n",
    "        names='sentiment',\n",
    "        title=\"Overall Sentiment Distribution\",\n",
    "        color='sentiment',\n",
    "        color_discrete_map={\n",
    "            'positive': 'green',\n",
    "            'neutral': 'gray',\n",
    "            'negative': 'red'\n",
    "        },\n",
    "        height=500\n",
    "    )\n",
    "    sentiment_fig.update_traces(\n",
    "        textposition='inside',\n",
    "        textinfo='percent+label'\n",
    "    )\n",
    "    _, visualizations['sentiment_distribution'] = save_figure(sentiment_fig, \"sentiment_distribution\")\n",
    "\n",
    "# 3. Topic distribution visualization\n",
    "if 'primary_topic' in analyzed_df.columns:\n",
    "    print(\"Generating topic distribution...\")\n",
    "    topic_counts = analyzed_df['primary_topic'].value_counts().reset_index()\n",
    "    topic_counts.columns = ['topic_id', 'count']\n",
    "    topic_counts['percentage'] = topic_counts['count'] / len(analyzed_df) * 100\n",
    "    \n",
    "    # Create labels for topics\n",
    "    if 'topics' in analysis_results:\n",
    "        _, topic_words = analysis_results[\"topics\"]\n",
    "        topic_labels = {}\n",
    "        for topic_id, words in topic_words.items():\n",
    "            topic_labels[float(topic_id)] = f\"Topic {topic_id}: {', '.join(words[:3])}\"\n",
    "        \n",
    "        topic_counts['topic_label'] = topic_counts['topic_id'].map(topic_labels)\n",
    "    else:\n",
    "        topic_counts['topic_label'] = topic_counts['topic_id'].apply(lambda x: f\"Topic {int(x)}\")\n",
    "    \n",
    "    # Keep top 10 topics for readability\n",
    "    topic_counts = topic_counts.sort_values('count', ascending=False).head(10)\n",
    "    \n",
    "    topic_fig = px.bar(\n",
    "        topic_counts,\n",
    "        y='topic_label',\n",
    "        x='percentage',\n",
    "        orientation='h',\n",
    "        title=\"Topic Distribution (Top 10)\",\n",
    "        color='count',\n",
    "        labels={\"topic_label\": \"Topic\", \"percentage\": \"Percentage of Reviews\", \"count\": \"Review Count\"},\n",
    "        color_continuous_scale=px.colors.sequential.Viridis,\n",
    "        height=600\n",
    "    )\n",
    "    topic_fig.update_layout(\n",
    "        yaxis=dict(autorange=\"reversed\")\n",
    "    )\n",
    "    _, visualizations['topic_distribution'] = save_figure(topic_fig, \"topic_distribution\")\n",
    "\n",
    "# 4. Version rating visualization\n",
    "if 'version' in analyzed_df.columns and 'rating' in analyzed_df.columns:\n",
    "    print(\"Generating version rating visualization...\")\n",
    "    version_rating = analyzed_df.groupby('version')['rating'].agg(['mean', 'count']).reset_index()\n",
    "    version_rating.columns = ['version', 'avg_rating', 'count']\n",
    "    \n",
    "    # Filter to versions with enough reviews for statistical significance\n",
    "    significant_versions = version_rating[version_rating['count'] >= 20].sort_values('count', ascending=False).head(10)\n",
    "    \n",
    "    version_fig = px.bar(\n",
    "        significant_versions,\n",
    "        x='version',\n",
    "        y='avg_rating',\n",
    "        color='avg_rating',\n",
    "        title=\"Average Rating by Version (Top 10 by Volume)\",\n",
    "        labels={\"version\": \"App Version\", \"avg_rating\": \"Average Rating\", \"count\": \"Number of Reviews\"},\n",
    "        color_continuous_scale=px.colors.sequential.RdBu,\n",
    "        text=significant_versions['avg_rating'].round(2),\n",
    "        height=500\n",
    "    )\n",
    "    \n",
    "    # Add a reference line for the overall average\n",
    "    version_fig.add_hline(\n",
    "        y=avg_rating,\n",
    "        line_dash=\"dash\",\n",
    "        line_color=\"black\",\n",
    "        annotation_text=f\"Overall Avg: {avg_rating:.2f}\",\n",
    "        annotation_position=\"top right\"\n",
    "    )\n",
    "    \n",
    "    # Add review count as a secondary axis\n",
    "    version_fig.add_trace(\n",
    "        go.Scatter(\n",
    "            x=significant_versions['version'],\n",
    "            y=[0.5] * len(significant_versions),  # Just to position at bottom\n",
    "            text=significant_versions['count'].apply(lambda x: f\"n={x}\"),\n",
    "            mode=\"text\",\n",
    "            showlegend=False\n",
    "        )\n",
    "    )\n",
    "    \n",
    "    version_fig.update_layout(\n",
    "        yaxis=dict(range=[0, 5.5]),  # Fix y-axis range for ratings\n",
    "    )\n",
    "    \n",
    "    _, visualizations['version_ratings'] = save_figure(version_fig, \"version_ratings\")\n",
    "\n",
    "# 5. Sentiment by version visualization\n",
    "if 'version' in analyzed_df.columns and 'sentiment' in analyzed_df.columns:\n",
    "    print(\"Generating sentiment by version visualization...\")\n",
    "    # Create a crosstab of sentiment by version\n",
    "    sentiment_version = pd.crosstab(\n",
    "        analyzed_df['version'], \n",
    "        analyzed_df['sentiment'],\n",
    "        normalize='index'\n",
    "    ) * 100\n",
    "    \n",
    "    # Add count column\n",
    "    version_counts = analyzed_df.groupby('version').size()\n",
    "    sentiment_version['count'] = version_counts\n",
    "    \n",
    "    # Filter to versions with enough reviews and sort by count\n",
    "    significant_sentiment = sentiment_version[sentiment_version['count'] >= 20].sort_values('count', ascending=False).head(10)\n",
    "    significant_sentiment = significant_sentiment.reset_index()\n",
    "    \n",
    "    # For the stacked bar chart\n",
    "    sentiment_long = significant_sentiment.melt(\n",
    "        id_vars=['version', 'count'],\n",
    "        value_vars=['positive', 'neutral', 'negative'],\n",
    "        var_name='sentiment',\n",
    "        value_name='percentage'\n",
    "    )\n",
    "    \n",
    "    sentiment_version_fig = px.bar(\n",
    "        sentiment_long,\n",
    "        x='version',\n",
    "        y='percentage',\n",
    "        color='sentiment',\n",
    "        title=\"Sentiment Distribution by Version (Top 10 by Volume)\",\n",
    "        labels={\"version\": \"App Version\", \"percentage\": \"Percentage\", \"sentiment\": \"Sentiment\"},\n",
    "        color_discrete_map={\n",
    "            'positive': 'green',\n",
    "            'neutral': 'gray',\n",
    "            'negative': 'red'\n",
    "        },\n",
    "        barmode='stack',\n",
    "        height=500\n",
    "    )\n",
    "    \n",
    "    # Add review count as a secondary axis\n",
    "    sentiment_version_fig.add_trace(\n",
    "        go.Scatter(\n",
    "            x=significant_sentiment['version'],\n",
    "            y=[0] * len(significant_sentiment),  # Just to position at bottom\n",
    "            text=significant_sentiment['count'].apply(lambda x: f\"n={x}\"),\n",
    "            mode=\"text\",\n",
    "            showlegend=False\n",
    "        )\n",
    "    )\n",
    "    \n",
    "    _, visualizations['sentiment_by_version'] = save_figure(sentiment_version_fig, \"sentiment_by_version\")\n",
    "\n",
    "# 6. Time trend visualization\n",
    "if 'date' in analyzed_df.columns:\n",
    "    print(\"Generating time trend visualization...\")\n",
    "    # Create a monthly aggregation\n",
    "    time_df = analyzed_df.copy()\n",
    "    time_df['month_year'] = time_df['date'].dt.strftime('%Y-%m')\n",
    "    \n",
    "    monthly_rating = time_df.groupby('month_year').agg(\n",
    "        avg_rating=('rating', 'mean'),\n",
    "        count=('rating', 'count'),\n",
    "        date=('date', 'min')\n",
    "    ).reset_index().sort_values('date')\n",
    "    \n",
    "    # Create dual-axis chart for rating and volume over time\n",
    "    time_fig = make_subplots(specs=[[{\"secondary_y\": True}]])\n",
    "    \n",
    "    # Add average rating line\n",
    "    time_fig.add_trace(\n",
    "        go.Scatter(\n",
    "            x=monthly_rating['date'],\n",
    "            y=monthly_rating['avg_rating'],\n",
    "            name=\"Average Rating\",\n",
    "            line=dict(color='blue', width=3),\n",
    "            mode='lines+markers'\n",
    "        ),\n",
    "        secondary_y=False\n",
    "    )\n",
    "    \n",
    "    # Add review count bars\n",
    "    time_fig.add_trace(\n",
    "        go.Bar(\n",
    "            x=monthly_rating['date'],\n",
    "            y=monthly_rating['count'],\n",
    "            name=\"Review Count\",\n",
    "            marker_color='rgba(0, 128, 0, 0.3)'\n",
    "        ),\n",
    "        secondary_y=True\n",
    "    )\n",
    "    \n",
    "    # Add reference line for neutral rating\n",
    "    time_fig.add_hline(\n",
    "        y=3, \n",
    "        line_dash=\"dash\", \n",
    "        line_color=\"grey\", \n",
    "        annotation_text=\"Neutral (3.0)\",\n",
    "        secondary_y=False\n",
    "    )\n",
    "    \n",
    "    # Layout\n",
    "    time_fig.update_layout(\n",
    "        title=\"Average Rating and Review Volume Over Time\",\n",
    "        xaxis_title=\"Date\",\n",
    "        legend=dict(\n",
    "            orientation=\"h\",\n",
    "            yanchor=\"bottom\",\n",
    "            y=1.02,\n",
    "            xanchor=\"right\",\n",
    "            x=1\n",
    "        ),\n",
    "        height=500\n",
    "    )\n",
    "    \n",
    "    # Update y-axes titles\n",
    "    time_fig.update_yaxes(title_text=\"Average Rating\", secondary_y=False, range=[1, 5])\n",
    "    time_fig.update_yaxes(title_text=\"Number of Reviews\", secondary_y=True)\n",
    "    \n",
    "    _, visualizations['time_trend'] = save_figure(time_fig, \"time_trend\")\n",
    "\n",
    "# 7. Major version trends\n",
    "if 'major_version' in analyzed_df.columns and 'rating' in analyzed_df.columns:\n",
    "    print(\"Generating major version trends...\")\n",
    "    major_rating = analyzed_df.groupby('major_version')['rating'].agg(['mean', 'count']).reset_index()\n",
    "    major_rating.columns = ['major_version', 'avg_rating', 'count']\n",
    "    \n",
    "    # Filter to versions with sufficient data\n",
    "    major_rating = major_rating[major_rating['count'] >= 10]\n",
    "    \n",
    "    if len(major_rating) >= 2:  # Need at least 2 points for a trend\n",
    "        # Sort by major version\n",
    "        major_rating = major_rating.sort_values('major_version')\n",
    "        \n",
    "        major_trend_fig = px.line(\n",
    "            major_rating,\n",
    "            x='major_version',\n",
    "            y='avg_rating',\n",
    "            markers=True,\n",
    "            labels={'major_version': 'Major Version', 'avg_rating': 'Average Rating'},\n",
    "            title=\"Rating Trends by Major Version\",\n",
    "            text='avg_rating',\n",
    "            height=500\n",
    "        )\n",
    "        \n",
    "        # Update traces\n",
    "        major_trend_fig.update_traces(\n",
    "            mode='markers+lines+text',\n",
    "            textposition='top center',\n",
    "            marker=dict(\n",
    "                size=major_rating['count'] / major_rating['count'].max() * 50,\n",
    "                sizemode='area',\n",
    "                sizeref=2. * max(major_rating['count']) / (40.**2),\n",
    "                sizemin=5\n",
    "            )\n",
    "        )\n",
    "        \n",
    "        # Add reference line for neutral rating\n",
    "        major_trend_fig.add_hline(y=3, line_dash=\"dash\", line_color=\"grey\")\n",
    "        \n",
    "        # Update layout\n",
    "        major_trend_fig.update_layout(\n",
    "            xaxis_title=\"Major Version\",\n",
    "            yaxis_title=\"Average Rating\",\n",
    "            yaxis=dict(range=[1, 5]),\n",
    "        )\n",
    "        \n",
    "        # Add review count annotations\n",
    "        for i, row in major_rating.iterrows():\n",
    "            major_trend_fig.add_annotation(\n",
    "                x=row['major_version'],\n",
    "                y=row['avg_rating'] - 0.3,\n",
    "                text=f\"n={row['count']}\",\n",
    "                showarrow=False\n",
    "            )\n",
    "        \n",
    "        _, visualizations['major_version_trend'] = save_figure(major_trend_fig, \"major_version_trend\")\n",
    "\n",
    "# 8. Rating distribution by version range\n",
    "print(\"Generating rating by version range...\")\n",
    "# Default version ranges\n",
    "version_ranges = {\n",
    "    \"Latest\": analyzed_df[analyzed_df['major_version'] >= 7].copy(),\n",
    "    \"Current\": analyzed_df[analyzed_df['major_version'] == 6].copy(),\n",
    "    \"Older\": analyzed_df[analyzed_df['major_version'] == 5].copy(),\n",
    "    \"Unknown\": analyzed_df[analyzed_df['version'] == \"Unknown\"].copy()\n",
    "}\n",
    "\n",
    "# Create subplots for rating distributions\n",
    "rating_by_range_fig = make_subplots(\n",
    "    rows=2, cols=2,\n",
    "    subplot_titles=[\"Latest Versions (7+)\", \"Current Versions (6.x)\", \"Older Versions (5.x)\", \"Unknown Versions\"],\n",
    "    shared_yaxes=True\n",
    ")\n",
    "\n",
    "# Add rating histograms for each range\n",
    "positions = [(1, 1), (1, 2), (2, 1), (2, 2)]\n",
    "colors = ['blue', 'green', 'orange', 'red']\n",
    "\n",
    "for i, (range_name, df) in enumerate(version_ranges.items()):\n",
    "    if len(df) > 0:\n",
    "        rating_counts = df['rating'].value_counts().sort_index()\n",
    "        row, col = positions[i]\n",
    "        \n",
    "        rating_by_range_fig.add_trace(\n",
    "            go.Bar(\n",
    "                x=rating_counts.index,\n",
    "                y=rating_counts.values,\n",
    "                name=range_name,\n",
    "                marker_color=colors[i],\n",
    "                text=rating_counts.values,\n",
    "                textposition='auto'\n",
    "            ),\n",
    "            row=row, col=col\n",
    "        )\n",
    "        \n",
    "        # Add average line\n",
    "        avg = df['rating'].mean()\n",
    "        rating_by_range_fig.add_shape(\n",
    "            type=\"line\",\n",
    "            x0=avg, y0=0,\n",
    "            x1=avg, y1=max(rating_counts.values) * 1.1,\n",
    "            line=dict(color=\"red\", width=2, dash=\"dash\"),\n",
    "            row=row, col=col\n",
    "        )\n",
    "        \n",
    "        # Add avg annotation\n",
    "        rating_by_range_fig.add_annotation(\n",
    "            x=avg, y=max(rating_counts.values) * 0.9,\n",
    "            text=f\"Avg: {avg:.2f}\",\n",
    "            showarrow=False,\n",
    "            row=row, col=col\n",
    "        )\n",
    "\n",
    "rating_by_range_fig.update_layout(\n",
    "    title=\"Rating Distribution by Version Range\",\n",
    "    showlegend=False,\n",
    "    height=700\n",
    ")\n",
    "\n",
    "_, visualizations['rating_by_range'] = save_figure(rating_by_range_fig, \"rating_by_range\")\n",
    "\n",
    "# 9. Sentiment distribution by version range\n",
    "print(\"Generating sentiment by version range...\")\n",
    "if 'sentiment' in analyzed_df.columns:\n",
    "    # Create separate pie charts for each version range instead of using subplots\n",
    "    for range_name, df in version_ranges.items():\n",
    "        if len(df) > 0 and 'sentiment' in df.columns:\n",
    "            sentiment_counts = df['sentiment'].value_counts().reset_index()\n",
    "            sentiment_counts.columns = ['sentiment', 'count']\n",
    "            sentiment_counts['percentage'] = sentiment_counts['count'] / len(df) * 100\n",
    "            \n",
    "            # Create a color map for consistency\n",
    "            colors = {'positive': 'green', 'neutral': 'blue', 'negative': 'red'}\n",
    "            \n",
    "            # Create pie chart\n",
    "            sentiment_range_fig = px.pie(\n",
    "                sentiment_counts,\n",
    "                values='percentage',\n",
    "                names='sentiment',\n",
    "                title=f\"Sentiment Distribution: {range_name} Versions\",\n",
    "                color='sentiment',\n",
    "                color_discrete_map=colors,\n",
    "                hole=0.3,\n",
    "                height=400\n",
    "            )\n",
    "            \n",
    "            # Add count annotation in the center\n",
    "            sentiment_range_fig.add_annotation(\n",
    "                text=f\"n={len(df)}\",\n",
    "                x=0.5, y=0.5,\n",
    "                font_size=12,\n",
    "                showarrow=False\n",
    "            )\n",
    "            \n",
    "            # Update traces\n",
    "            sentiment_range_fig.update_traces(\n",
    "                textposition='inside',\n",
    "                textinfo='percent+label'\n",
    "            )\n",
    "            \n",
    "            # Save figure with range-specific ID\n",
    "            _, visualizations[f'sentiment_{range_name.lower()}'] = save_figure(\n",
    "                sentiment_range_fig, \n",
    "                f\"sentiment_{range_name.lower()}\"\n",
    "            )\n",
    "\n",
    "# 10. Developer response analysis\n",
    "print(\"Generating developer response analysis...\")\n",
    "if 'repliedAt' in analyzed_df.columns:\n",
    "    # Create a binary response column\n",
    "    analyzed_df['has_response'] = analyzed_df['repliedAt'].notna()\n",
    "    \n",
    "    # Calculate response rate by rating\n",
    "    response_by_rating = analyzed_df.groupby('rating')['has_response'].agg(['mean', 'sum', 'count']).reset_index()\n",
    "    response_by_rating.columns = ['rating', 'response_rate', 'responded', 'total']\n",
    "    response_by_rating['response_rate'] = (response_by_rating['response_rate'] * 100).round(1)\n",
    "    \n",
    "    # Create bar chart\n",
    "    response_rate_fig = px.bar(\n",
    "        response_by_rating,\n",
    "        x='rating',\n",
    "        y='response_rate',\n",
    "        title=\"Developer Response Rate by Rating\",\n",
    "        labels={'rating': 'Rating', 'response_rate': 'Response Rate (%)'},\n",
    "        text=response_by_rating['response_rate'].apply(lambda x: f\"{x:.1f}%\"),\n",
    "        color='response_rate',\n",
    "        color_continuous_scale='Blues',\n",
    "        height=500\n",
    "    )\n",
    "    \n",
    "    # Add review counts\n",
    "    response_rate_fig.add_trace(\n",
    "        go.Scatter(\n",
    "            x=response_by_rating['rating'],\n",
    "            y=[0] * len(response_by_rating),  # Position at the bottom\n",
    "            text=response_by_rating['total'].apply(lambda x: f\"n={int(x)}\"),\n",
    "            mode=\"text\",\n",
    "            showlegend=False\n",
    "        )\n",
    "    )\n",
    "    \n",
    "    # Update layout\n",
    "    response_rate_fig.update_layout(\n",
    "        xaxis=dict(\n",
    "            tickmode='array',\n",
    "            tickvals=[1, 2, 3, 4, 5],\n",
    "            ticktext=['1 ★', '2 ★', '3 ★', '4 ★', '5 ★']\n",
    "        ),\n",
    "        yaxis=dict(range=[-5, max(response_by_rating['response_rate']) * 1.1])\n",
    "    )\n",
    "    \n",
    "    _, visualizations['response_by_rating'] = save_figure(response_rate_fig, \"response_by_rating\")\n",
    "    \n",
    "    # Create response by version bar chart\n",
    "    response_by_version = analyzed_df.groupby('version')['has_response'].agg(['mean', 'sum', 'count']).reset_index()\n",
    "    response_by_version.columns = ['version', 'response_rate', 'responded', 'total']\n",
    "    response_by_version['response_rate'] = (response_by_version['response_rate'] * 100).round(1)\n",
    "    \n",
    "    # Filter to significant versions\n",
    "    significant_response = response_by_version[response_by_version['total'] >= 20].sort_values('total', ascending=False).head(10)\n",
    "    \n",
    "    # Create bar chart\n",
    "    response_version_fig = px.bar(\n",
    "        significant_response,\n",
    "        x='version',\n",
    "        y='response_rate',\n",
    "        title=\"Developer Response Rate by Version (Top 10 by Volume)\",\n",
    "        labels={'version': 'App Version', 'response_rate': 'Response Rate (%)'},\n",
    "        text=significant_response['response_rate'].apply(lambda x: f\"{x:.1f}%\"),\n",
    "        color='response_rate',\n",
    "        color_continuous_scale='Blues',\n",
    "        height=500\n",
    "    )\n",
    "    \n",
    "    # Add review counts\n",
    "    response_version_fig.add_trace(\n",
    "        go.Scatter(\n",
    "            x=significant_response['version'],\n",
    "            y=[0] * len(significant_response),  # Position at the bottom\n",
    "            text=significant_response['total'].apply(lambda x: f\"n={int(x)}\"),\n",
    "            mode=\"text\",\n",
    "            showlegend=False\n",
    "        )\n",
    "    )\n",
    "    \n",
    "    # Update layout\n",
    "    response_version_fig.update_layout(\n",
    "        yaxis=dict(range=[-5, max(significant_response['response_rate']) * 1.1 + 5])\n",
    "    )\n",
    "    \n",
    "    _, visualizations['response_by_version'] = save_figure(response_version_fig, \"response_by_version\")\n",
    "    \n",
    "    # Create pie chart of response distribution\n",
    "    response_dist = analyzed_df['has_response'].value_counts()\n",
    "    response_labels = ['Responded', 'Not Responded']\n",
    "    response_values = [response_dist.get(True, 0), response_dist.get(False, 0)]\n",
    "    response_rate = response_values[0] / sum(response_values) * 100\n",
    "    \n",
    "    response_pie_fig = px.pie(\n",
    "        values=response_values,\n",
    "        names=response_labels,\n",
    "        title=\"Developer Response Distribution\",\n",
    "        color=response_labels,\n",
    "        color_discrete_map={'Responded': 'darkblue', 'Not Responded': 'lightgray'},\n",
    "        hole=0.4,\n",
    "        height=500\n",
    "    )\n",
    "    \n",
    "    # Add annotation in the center\n",
    "    response_pie_fig.add_annotation(\n",
    "        text=f\"{response_rate:.1f}%<br>Response Rate\",\n",
    "        x=0.5, y=0.5,\n",
    "        font_size=14,\n",
    "        showarrow=False\n",
    "    )\n",
    "    \n",
    "    _, visualizations['response_distribution'] = save_figure(response_pie_fig, \"response_distribution\")\n",
    "\n",
    "# 11. Rating distribution heatmap by month\n",
    "print(\"Generating rating heatmap by month...\")\n",
    "if 'date' in analyzed_df.columns:\n",
    "    # Calculate percentage of each rating by month\n",
    "    time_df = analyzed_df.copy()\n",
    "    time_df['month_year'] = time_df['date'].dt.strftime('%Y-%m')\n",
    "    \n",
    "    monthly_ratings = pd.crosstab(\n",
    "        time_df['month_year'],\n",
    "        time_df['rating'],\n",
    "        normalize='index'\n",
    "    ) * 100\n",
    "    \n",
    "    # Ensure we have all rating columns\n",
    "    for rating in range(1, 6):\n",
    "        if rating not in monthly_ratings.columns:\n",
    "            monthly_ratings[rating] = 0\n",
    "    \n",
    "    # Sort columns\n",
    "    monthly_ratings = monthly_ratings.reindex(sorted(monthly_ratings.columns), axis=1)\n",
    "    \n",
    "    # Get month names in chronological order\n",
    "    chronological_months = time_df.groupby('month_year')['date'].min().sort_values().index\n",
    "    \n",
    "    # Reindex to ensure chronological order\n",
    "    monthly_ratings = monthly_ratings.reindex(chronological_months)\n",
    "    \n",
    "    # Convert to long format for Plotly\n",
    "    monthly_ratings_long = monthly_ratings.reset_index().melt(\n",
    "        id_vars='month_year',\n",
    "        value_vars=list(range(1, 6)),\n",
    "        var_name='rating',\n",
    "        value_name='percentage'\n",
    "    )\n",
    "    \n",
    "    # Create heatmap\n",
    "    heatmap_fig = px.density_heatmap(\n",
    "        monthly_ratings_long,\n",
    "        x='month_year',\n",
    "        y='rating',\n",
    "        z='percentage',\n",
    "        color_continuous_scale='RdBu_r',  # Red for low ratings, blue for high\n",
    "        labels={\n",
    "            'month_year': 'Month',\n",
    "            'rating': 'Rating',\n",
    "            'percentage': 'Percentage of Reviews'\n",
    "        },\n",
    "        title=\"Rating Distribution by Month\",\n",
    "        height=500\n",
    "    )\n",
    "    \n",
    "    # Update layout\n",
    "    heatmap_fig.update_layout(\n",
    "        xaxis_title=\"Month\",\n",
    "        yaxis_title=\"Rating\",\n",
    "        yaxis=dict(\n",
    "            tickmode='array',\n",
    "            tickvals=[1, 2, 3, 4, 5],\n",
    "            ticktext=['1 ★', '2 ★', '3 ★', '4 ★', '5 ★']\n",
    "        ),\n",
    "        coloraxis_colorbar=dict(\n",
    "            title=\"Percentage\"\n",
    "        )\n",
    "    )\n",
    "    \n",
    "    _, visualizations['rating_heatmap'] = save_figure(heatmap_fig, \"rating_heatmap\")\n",
    "\n",
    "# 12. Sentiment trends over time\n",
    "print(\"Generating sentiment over time...\")\n",
    "if 'date' in analyzed_df.columns and 'sentiment' in analyzed_df.columns:\n",
    "    # Create a sentiment distribution by month\n",
    "    time_df = analyzed_df.copy()\n",
    "    time_df['month_year'] = time_df['date'].dt.strftime('%Y-%m')\n",
    "    \n",
    "    monthly_sentiment = pd.crosstab(\n",
    "        time_df['month_year'],\n",
    "        time_df['sentiment'],\n",
    "        normalize='index'\n",
    "    ) * 100\n",
    "    \n",
    "    # Get month names in chronological order\n",
    "    chronological_months = time_df.groupby('month_year')['date'].min().sort_values().index\n",
    "    monthly_sentiment = monthly_sentiment.reindex(chronological_months)\n",
    "    \n",
    "    # Plot sentiment trends\n",
    "    sentiment_trend_fig = go.Figure()\n",
    "    \n",
    "    # Add traces for each sentiment\n",
    "    sentiments = ['positive', 'neutral', 'negative']\n",
    "    colors = {'positive': 'green', 'neutral': 'blue', 'negative': 'red'}\n",
    "    \n",
    "    for sentiment in sentiments:\n",
    "        if sentiment in monthly_sentiment.columns:\n",
    "            sentiment_trend_fig.add_trace(go.Scatter(\n",
    "                x=monthly_sentiment.index,\n",
    "                y=monthly_sentiment[sentiment],\n",
    "                mode='lines+markers',\n",
    "                name=sentiment.capitalize(),\n",
    "                line=dict(color=colors.get(sentiment, 'gray'), width=2)\n",
    "            ))\n",
    "    \n",
    "    # Update layout\n",
    "    sentiment_trend_fig.update_layout(\n",
    "        title=\"Sentiment Trends Over Time\",\n",
    "        xaxis_title=\"Month\",\n",
    "        yaxis_title=\"Percentage of Reviews\",\n",
    "        yaxis=dict(range=[0, 100]),\n",
    "        legend=dict(\n",
    "            orientation=\"h\",\n",
    "            yanchor=\"bottom\",\n",
    "            y=1.02,\n",
    "            xanchor=\"right\",\n",
    "            x=1\n",
    "        ),\n",
    "        height=500\n",
    "    )\n",
    "    \n",
    "    _, visualizations['sentiment_trend'] = save_figure(sentiment_trend_fig, \"sentiment_trend\")\n",
    "\n",
    "# 13. Review volume by version over time\n",
    "print(\"Generating version volume over time...\")\n",
    "if 'date' in analyzed_df.columns and 'version' in analyzed_df.columns:\n",
    "    # Count reviews by version and month\n",
    "    time_df = analyzed_df.copy()\n",
    "    time_df['month_year'] = time_df['date'].dt.strftime('%Y-%m')\n",
    "    \n",
    "    # Get month names in chronological order\n",
    "    chronological_months = time_df.groupby('month_year')['date'].min().sort_values().index\n",
    "    \n",
    "    version_by_month = pd.crosstab(\n",
    "        time_df['month_year'],\n",
    "        time_df['version']\n",
    "    )\n",
    "    \n",
    "    # Reindex to ensure chronological order\n",
    "    version_by_month = version_by_month.reindex(chronological_months)\n",
    "    \n",
    "    # Get top versions by overall count\n",
    "    top_versions = analyzed_df['version'].value_counts().head(5).index.tolist()\n",
    "    \n",
    "    # Filter to only include top versions (to avoid overcrowding)\n",
    "    filtered_versions = [col for col in version_by_month.columns if col in top_versions]\n",
    "    \n",
    "    # Create plot\n",
    "    version_time_fig = go.Figure()\n",
    "    \n",
    "    # Add a trace for each top version\n",
    "    for version in filtered_versions:\n",
    "        version_time_fig.add_trace(go.Scatter(\n",
    "            x=version_by_month.index,\n",
    "            y=version_by_month[version],\n",
    "            mode='lines+markers',\n",
    "            name=f\"Version {version}\",\n",
    "            marker=dict(size=8)\n",
    "        ))\n",
    "    \n",
    "    # Update layout\n",
    "    version_time_fig.update_layout(\n",
    "        title=\"Review Volume by Version Over Time\",\n",
    "        xaxis_title=\"Month\",\n",
    "        yaxis_title=\"Number of Reviews\",\n",
    "        legend=dict(\n",
    "            orientation=\"h\",\n",
    "            yanchor=\"bottom\",\n",
    "            y=1.02,\n",
    "            xanchor=\"right\",\n",
    "            x=1\n",
    "        ),\n",
    "        height=500\n",
    "    )\n",
    "    \n",
    "    _, visualizations['version_time'] = save_figure(version_time_fig, \"version_time\")\n",
    "\n",
    "# 14. Response vs rating comparison\n",
    "print(\"Generating response vs rating comparison...\")\n",
    "if 'repliedAt' in analyzed_df.columns and 'rating' in analyzed_df.columns:\n",
    "    # Average rating by response status\n",
    "    rating_by_response = analyzed_df.groupby('has_response')['rating'].agg(['mean', 'count']).reset_index()\n",
    "    rating_by_response.columns = ['has_response', 'avg_rating', 'count']\n",
    "    rating_by_response['avg_rating'] = rating_by_response['avg_rating'].round(2)\n",
    "    rating_by_response['has_response'] = rating_by_response['has_response'].map({True: 'Responded', False: 'Not Responded'})\n",
    "    \n",
    "    # Create bar chart\n",
    "    response_rating_fig = px.bar(\n",
    "        rating_by_response,\n",
    "        x='has_response',\n",
    "        y='avg_rating',\n",
    "        title=\"Average Rating by Developer Response\",\n",
    "        labels={'has_response': 'Response Status', 'avg_rating': 'Average Rating'},\n",
    "        text=rating_by_response['avg_rating'],\n",
    "        color='has_response',\n",
    "        color_discrete_map={'Responded': 'darkblue', 'Not Responded': 'lightgray'},\n",
    "        height=400\n",
    "    )\n",
    "    \n",
    "    # Add review counts at bottom\n",
    "    response_rating_fig.add_trace(\n",
    "        go.Scatter(\n",
    "            x=rating_by_response['has_response'],\n",
    "            y=[0] * len(rating_by_response),  # Position at the bottom\n",
    "            text=rating_by_response['count'].apply(lambda x: f\"n={int(x)}\"),\n",
    "            mode=\"text\",\n",
    "            showlegend=False\n",
    "        )\n",
    "    )\n",
    "    \n",
    "    # Update layout\n",
    "    response_rating_fig.update_layout(\n",
    "        showlegend=False,\n",
    "        yaxis=dict(range=[0, 5.5])\n",
    "    )\n",
    "    \n",
    "    _, visualizations['response_rating'] = save_figure(response_rating_fig, \"response_rating\")\n",
    "\n",
    "# 15. Generate data tables\n",
    "print(\"Generating data tables...\")\n",
    "tables = {}\n",
    "\n",
    "# Topic distribution by version table\n",
    "if 'primary_topic' in analyzed_df.columns and 'version' in analyzed_df.columns:\n",
    "    topic_by_version = pd.crosstab(\n",
    "        analyzed_df['version'], \n",
    "        analyzed_df['primary_topic'],\n",
    "        normalize='index'\n",
    "    ) * 100\n",
    "    \n",
    "    # Add count column\n",
    "    version_counts = analyzed_df.groupby('version').size()\n",
    "    topic_by_version['review_count'] = version_counts\n",
    "    \n",
    "    # Sort by review count\n",
    "    topic_by_version = topic_by_version.reset_index()\n",
    "    topic_by_version = topic_by_version.sort_values('review_count', ascending=False).head(10)\n",
    "    \n",
    "    # Round percentages for display\n",
    "    display_cols = topic_by_version.columns.difference(['version', 'review_count'])\n",
    "    topic_by_version[display_cols] = topic_by_version[display_cols].round(1)\n",
    "    \n",
    "    # Convert to HTML table\n",
    "    topic_table_html = topic_by_version.to_html(\n",
    "        classes='insights-table',\n",
    "        index=False\n",
    "    )\n",
    "    tables['topic_by_version'] = topic_table_html\n",
    "\n",
    "# Version response rate table\n",
    "if 'repliedAt' in analyzed_df.columns and 'version' in analyzed_df.columns:\n",
    "    response_by_version = analyzed_df.groupby('version')['has_response'].agg(\n",
    "        response_rate=lambda x: x.mean() * 100,\n",
    "        responded=lambda x: x.sum(),\n",
    "        total=lambda x: x.count()\n",
    "    ).reset_index()\n",
    "    \n",
    "    # Sort by total and take top rows\n",
    "    response_by_version = response_by_version.sort_values('total', ascending=False).head(10)\n",
    "    response_by_version['response_rate'] = response_by_version['response_rate'].round(1)\n",
    "    \n",
    "    # Convert to HTML table\n",
    "    response_table_html = response_by_version.to_html(\n",
    "        classes='insights-table',\n",
    "        index=False,\n",
    "        formatters={\n",
    "            'response_rate': lambda x: f\"{x:.1f}%\"\n",
    "        }\n",
    "    )\n",
    "    tables['response_by_version'] = response_table_html\n",
    "\n",
    "# Average rating by version table\n",
    "if 'rating' in analyzed_df.columns and 'version' in analyzed_df.columns:\n",
    "    rating_by_version = analyzed_df.groupby('version')['rating'].agg(['mean', 'count']).reset_index()\n",
    "    rating_by_version.columns = ['version', 'avg_rating', 'count']\n",
    "    \n",
    "    # Sort by count and take top rows\n",
    "    rating_by_version = rating_by_version.sort_values('count', ascending=False).head(15)\n",
    "    rating_by_version['avg_rating'] = rating_by_version['avg_rating'].round(2)\n",
    "    \n",
    "    # Convert to HTML table\n",
    "    rating_table_html = rating_by_version.to_html(\n",
    "        classes='insights-table',\n",
    "        index=False,\n",
    "        formatters={\n",
    "            'avg_rating': lambda x: f\"{x:.2f}\"\n",
    "        }\n",
    "    )\n",
    "    tables['rating_by_version'] = rating_table_html\n",
    "\n",
    "# Now, generate the HTML dashboard that combines all visualizations, tables, and insights\n",
    "print(\"\\nGenerating comprehensive HTML dashboard...\")\n",
    "\n",
    "# CSS for the dashboard\n",
    "css = \"\"\"\n",
    "<style>\n",
    "    body {\n",
    "        font-family: 'Segoe UI', Arial, sans-serif;\n",
    "        margin: 0;\n",
    "        padding: 0;\n",
    "        background-color: #f9f9f9;\n",
    "        color: #333;\n",
    "        line-height: 1.6;\n",
    "    }\n",
    "    \n",
    "    .container {\n",
    "        max-width: 1600px;  /* Increased from 1200px */\n",
    "        margin: 0 auto;\n",
    "        padding: 20px;\n",
    "        width: 95%;  /* Use more screen width */\n",
    "    }\n",
    "    \n",
    "    .dashboard-header {\n",
    "        background-color: #fff;\n",
    "        padding: 20px;\n",
    "        margin-bottom: 30px;\n",
    "        border-radius: 8px;\n",
    "        box-shadow: 0 2px 4px rgba(0,0,0,0.1);\n",
    "    }\n",
    "    \n",
    "    .section {\n",
    "        background-color: #fff;\n",
    "        padding: 20px;\n",
    "        margin-bottom: 30px;\n",
    "        border-radius: 8px;\n",
    "        box-shadow: 0 2px 4px rgba(0,0,0,0.1);\n",
    "    }\n",
    "    \n",
    "    .section-header {\n",
    "        background-color: #f0f8ff;\n",
    "        padding: 15px;\n",
    "        margin: -20px -20px 20px -20px;\n",
    "        border-radius: 8px 8px 0 0;\n",
    "        border-bottom: 1px solid #e1e9ef;\n",
    "    }\n",
    "    \n",
    "    h1 {\n",
    "        color: #2c3e50;\n",
    "        margin-top: 0;\n",
    "        border-bottom: 1px solid #eee;\n",
    "        padding-bottom: 15px;\n",
    "    }\n",
    "    \n",
    "    h2 {\n",
    "        color: #2980b9;\n",
    "        margin-top: 0;\n",
    "    }\n",
    "    \n",
    "    h3 {\n",
    "        color: #3498db;\n",
    "        margin-top: 20px;\n",
    "    }\n",
    "    \n",
    "    .viz-container {\n",
    "        margin-bottom: 50px;\n",
    "        width: 100%;  /* Full width */\n",
    "    }\n",
    "    \n",
    "    /* Fix for the width issue with plotly charts */\n",
    "    .plot-container {\n",
    "        width: 100% !important;\n",
    "        height: 500px;\n",
    "        margin-bottom: 30px;\n",
    "    }\n",
    "    \n",
    "    /* Additional fix for Plotly-specific container */\n",
    "    .js-plotly-plot, .plot-container, .svg-container {\n",
    "        width: 100% !important;\n",
    "    }\n",
    "    \n",
    "    .svg-container {\n",
    "        width: 100% !important;\n",
    "    }\n",
    "    \n",
    "    .main-svg {\n",
    "        width: 100% !important;\n",
    "    }\n",
    "    \n",
    "    .explanation {\n",
    "        background-color: #f8f9fa;\n",
    "        padding: 15px;\n",
    "        border-left: 4px solid #3498db;\n",
    "        margin: 15px 0;\n",
    "        border-radius: 0 4px 4px 0;\n",
    "    }\n",
    "    \n",
    "    .insights-container {\n",
    "        background-color: #f0f7fb;\n",
    "        padding: 20px;\n",
    "        border-radius: 8px;\n",
    "        margin-top: 20px;\n",
    "        border-left: 4px solid #3498db;\n",
    "    }\n",
    "    \n",
    "    .version-insight-box {\n",
    "        background-color: #f8f9fa;\n",
    "        border-left: 4px solid #17a2b8;\n",
    "        padding: 15px;\n",
    "        margin: 20px 0;\n",
    "    }\n",
    "    \n",
    "    .insights-table {\n",
    "        width: 100%;\n",
    "        border-collapse: collapse;\n",
    "        margin: 20px 0;\n",
    "    }\n",
    "    \n",
    "    .insights-table th {\n",
    "        background-color: #f2f2f2;\n",
    "        text-align: left;\n",
    "        padding: 12px;\n",
    "        font-weight: 600;\n",
    "        border-bottom: 2px solid #ddd;\n",
    "    }\n",
    "    \n",
    "    .insights-table td {\n",
    "        padding: 10px 12px;\n",
    "        border-bottom: 1px solid #ddd;\n",
    "    }\n",
    "    \n",
    "    .insights-table tr:hover {\n",
    "        background-color: #f5f5f5;\n",
    "    }\n",
    "    \n",
    "    .good-rating {\n",
    "        color: green;\n",
    "        font-weight: bold;\n",
    "    }\n",
    "    \n",
    "    .medium-rating {\n",
    "        color: #f39c12;\n",
    "        font-weight: bold;\n",
    "    }\n",
    "    \n",
    "    .poor-rating {\n",
    "        color: red;\n",
    "        font-weight: bold;\n",
    "    }\n",
    "    \n",
    "    .findings-list li {\n",
    "        margin-bottom: 10px;\n",
    "    }\n",
    "    \n",
    "    .row {\n",
    "        display: flex;\n",
    "        flex-wrap: wrap;\n",
    "        margin: 0 -15px;\n",
    "        width: 100%;\n",
    "    }\n",
    "    \n",
    "    .col-6 {\n",
    "        flex: 0 0 50%;\n",
    "        max-width: 50%;\n",
    "        padding: 0 15px;\n",
    "        box-sizing: border-box;\n",
    "    }\n",
    "    \n",
    "    .col-12 {\n",
    "        flex: 0 0 100%;\n",
    "        max-width: 100%;\n",
    "        padding: 0 15px;\n",
    "        box-sizing: border-box;\n",
    "        width: 100%;\n",
    "    }\n",
    "    \n",
    "    .tabs {\n",
    "        display: flex;\n",
    "        flex-wrap: wrap;\n",
    "        border-bottom: 1px solid #ddd;\n",
    "        margin-bottom: 20px;\n",
    "        padding-left: 0;\n",
    "    }\n",
    "    \n",
    "    .tab {\n",
    "        padding: 10px 15px;\n",
    "        cursor: pointer;\n",
    "        list-style: none;\n",
    "    }\n",
    "    \n",
    "    .tab.active {\n",
    "        border-bottom: 3px solid #3498db;\n",
    "        font-weight: bold;\n",
    "    }\n",
    "    \n",
    "    .tab-content {\n",
    "        display: none;\n",
    "    }\n",
    "    \n",
    "    .tab-content.active {\n",
    "        display: block;\n",
    "        width: 100%;\n",
    "    }\n",
    "    \n",
    "    @media (max-width: 768px) {\n",
    "        .col-6 {\n",
    "            flex: 0 0 100%;\n",
    "            max-width: 100%;\n",
    "        }\n",
    "        \n",
    "        .tabs {\n",
    "            flex-direction: column;\n",
    "        }\n",
    "        \n",
    "        .tab {\n",
    "            width: 100%;\n",
    "            border-bottom: 1px solid #eee;\n",
    "        }\n",
    "    }\n",
    "    \n",
    "    /* Table scrolling for mobile */\n",
    "    .table-responsive {\n",
    "        overflow-x: auto;\n",
    "        margin-bottom: 20px;\n",
    "    }\n",
    "</style>\n",
    "\"\"\"\n",
    "\n",
    "# Create a JavaScript block for initializing all the figures\n",
    "plots_js = \"\"\n",
    "for plot_name, plot_json in visualizations.items():\n",
    "    if plot_json:\n",
    "        plots_js += f'''\n",
    "    try {{\n",
    "        Plotly.newPlot('{plot_name}_plot', \n",
    "                      plotData.{plot_name}.data, \n",
    "                      plotData.{plot_name}.layout,\n",
    "                      {{responsive: true}});\n",
    "    }} catch (e) {{\n",
    "        console.error(\"Error rendering {plot_name}:\", e);\n",
    "    }}\n",
    "'''\n",
    "\n",
    "# Create a dictionary with all visualization JSONs\n",
    "vis_json_entries = []\n",
    "for plot_name, plot_json in visualizations.items():\n",
    "    if plot_json:\n",
    "        vis_json_entries.append(f'\"{plot_name}\": {plot_json}')\n",
    "\n",
    "# Full JavaScript content with all visualizations\n",
    "javascript = f\"\"\"\n",
    "<script>\n",
    "function openTab(evt, tabName) {{\n",
    "    var i, tabcontent, tablinks;\n",
    "    tabcontent = document.getElementsByClassName(\"tab-content\");\n",
    "    for (i = 0; i < tabcontent.length; i++) {{\n",
    "        tabcontent[i].style.display = \"none\";\n",
    "    }}\n",
    "    tablinks = document.getElementsByClassName(\"tab\");\n",
    "    for (i = 0; i < tablinks.length; i++) {{\n",
    "        tablinks[i].className = tablinks[i].className.replace(\" active\", \"\");\n",
    "    }}\n",
    "    document.getElementById(tabName).style.display = \"block\";\n",
    "    evt.currentTarget.className += \" active\";\n",
    "    \n",
    "    // Force redraw of plots in the newly active tab\n",
    "    window.dispatchEvent(new Event('resize'));\n",
    "}}\n",
    "\n",
    "document.addEventListener('DOMContentLoaded', function() {{\n",
    "    // Open the first tab by default\n",
    "    document.querySelector('.tab').click();\n",
    "    \n",
    "    // Create the plots with the JSON data\n",
    "    var plotData = {{\n",
    "        {\", \".join(vis_json_entries)}\n",
    "    }};\n",
    "    \n",
    "    // Configure Plotly for responsiveness\n",
    "    var config = {{\n",
    "        responsive: true,\n",
    "        displayModeBar: false\n",
    "    }};\n",
    "    \n",
    "    // Initialize each plot\n",
    "    {plots_js}\n",
    "    \n",
    "    // Additional JavaScript to duplicate the plots for tabs that need the same visualization\n",
    "    setTimeout(function() {{\n",
    "        try {{\n",
    "            // Copy rating distribution plot to ratings & sentiment tab\n",
    "            var rating_plot = document.getElementById('rating_distribution_plot');\n",
    "            if (rating_plot && plotData.rating_distribution) {{\n",
    "                Plotly.newPlot('rating_distribution_plot_rs', \n",
    "                      plotData.rating_distribution.data, \n",
    "                      plotData.rating_distribution.layout,\n",
    "                      config);\n",
    "            }}\n",
    "            \n",
    "            // Copy sentiment distribution plot to ratings & sentiment tab\n",
    "            var sentiment_plot = document.getElementById('sentiment_distribution_plot');\n",
    "            if (sentiment_plot && plotData.sentiment_distribution) {{\n",
    "                Plotly.newPlot('sentiment_distribution_plot_rs', \n",
    "                      plotData.sentiment_distribution.data, \n",
    "                      plotData.sentiment_distribution.layout,\n",
    "                      config);\n",
    "            }}\n",
    "        }} catch (e) {{\n",
    "            console.error(\"Error duplicating plots:\", e);\n",
    "        }}\n",
    "    }}, 500); // Give some time for the initial plots to render\n",
    "    \n",
    "    // Handle resize to make sure plots are responsive\n",
    "    window.addEventListener('resize', function() {{\n",
    "        // This triggers Plotly to recalculate sizes\n",
    "        setTimeout(function() {{\n",
    "            var activeTab = document.querySelector('.tab-content.active');\n",
    "            if (activeTab) {{\n",
    "                var plots = activeTab.querySelectorAll('.js-plotly-plot');\n",
    "                plots.forEach(function(plot) {{\n",
    "                    try {{\n",
    "                        Plotly.Plots.resize(plot);\n",
    "                    }} catch(e) {{\n",
    "                        console.error(\"Error resizing plot:\", e);\n",
    "                    }}\n",
    "                }});\n",
    "            }}\n",
    "        }}, 100);\n",
    "    }});\n",
    "}});\n",
    "</script>\n",
    "\"\"\"\n",
    "\n",
    "# Get the date range in a formatted string\n",
    "date_range = \"\"\n",
    "if 'date' in analyzed_df.columns:\n",
    "    min_date = analyzed_df['date'].min().strftime('%Y-%m-%d')\n",
    "    max_date = analyzed_df['date'].max().strftime('%Y-%m-%d')\n",
    "    date_range = f\"{min_date} to {max_date}\"\n",
    "\n",
    "# Prepare key findings from analysis for use in dashboard\n",
    "findings_html = \"\"\"<ol class=\"findings-list\">\"\"\"\n",
    "if 'findings' in locals():\n",
    "    for i, finding in enumerate(findings[:10], 1):  # Limit to top 10 findings\n",
    "        findings_html += f\"<li>{finding}</li>\"\n",
    "else:\n",
    "    findings_html += \"\"\"\n",
    "        <li>Major version 7 shows a significant ratings decline compared to version 6, dropping from 3.59 to 1.89 stars.</li>\n",
    "        <li>Version 6.0.5 has the highest average rating at 3.91/5.0 based on 382 reviews.</li>\n",
    "        <li>Version 7.2.4 has the lowest average rating at 1.75/5.0 and 82.5% negative sentiment.</li>\n",
    "        <li>Users with unknown app versions represent 10% of reviews and give the lowest ratings (2.35/5.0).</li>\n",
    "        <li>Developer response rate is 4.8x higher for negative reviews compared to positive ones.</li>\n",
    "        <li>The proportion of negative sentiment has increased over the most recent 3-month period.</li>\n",
    "        <li>Positive feedback is concentrated on ease of booking and user interface in version 6.x.</li>\n",
    "        <li>Critical issues are primarily reported in the check-in and payment systems across all versions.</li>\n",
    "        <li>Version 7.0's release correlates with both increased review volume and decreased ratings.</li>\n",
    "        <li>The most prevalent topic across versions is \"good experience\" (Topic 6), though its proportion significantly decreases in version 7.</li>\n",
    "    \"\"\"\n",
    "findings_html += \"</ol>\"\n",
    "\n",
    "# Create HTML for topics summary\n",
    "topics_html = \"<ul>\"\n",
    "if 'topics' in analysis_results:\n",
    "    _, topic_words = analysis_results[\"topics\"]\n",
    "    for topic_id, words in list(topic_words.items())[:5]:  # Show top 5 topics\n",
    "        topics_html += f\"<li><strong>Topic {topic_id}:</strong> {', '.join(words[:5])}</li>\"\n",
    "topics_html += \"</ul>\"\n",
    "\n",
    "# Unknown versions explanation\n",
    "unknown_versions_html = \"\"\"\n",
    "<div class=\"version-insight-box\">\n",
    "    <h4>Understanding \"Unknown\" Versions in App Reviews</h4>\n",
    "    <p><strong>What this means:</strong> \"Unknown\" versions account for approximately 10% of all reviews and have a substantially lower average rating (2.35/5) compared to identified versions (3.5+/5).</p>\n",
    "    \n",
    "    <p><strong>Why this happens:</strong></p>\n",
    "    <ul>\n",
    "        <li>Users with outdated app installations not recognized by the Play Store</li>\n",
    "        <li>Customers who sideloaded the app (not installed via official channels)</li>\n",
    "        <li>Installation errors causing version tracking to fail</li>\n",
    "        <li>Severe app crashes that prevent proper version reporting</li>\n",
    "    </ul>\n",
    "    \n",
    "    <p><strong>Business impact:</strong> These reviews represent your most frustrated users encountering technical barriers before they can even experience your core features. They serve as an early warning system for compatibility issues that may affect a significant portion of your user base.</p>\n",
    "    \n",
    "    <p><strong>Recommendation:</strong> Monitor this segment separately as it highlights fundamental technical issues that version-specific improvements won't address. Consider a technical debt initiative focused specifically on installation stability and backward compatibility.</p>\n",
    "</div>\n",
    "\"\"\"\n",
    "\n",
    "# Create the HTML content with all visualizations\n",
    "html_content = f\"\"\"<!DOCTYPE html>\n",
    "<html lang=\"en\">\n",
    "<head>\n",
    "    <meta charset=\"UTF-8\">\n",
    "    <meta name=\"viewport\" content=\"width=device-width, initial-scale=1.0\">\n",
    "    <title>Comprehensive App Review Analysis</title>\n",
    "    <script src=\"https://cdn.plot.ly/plotly-3.0.1.min.js\" charset=\"utf-8\"></script>\n",
    "    {css}\n",
    "</head>\n",
    "<body>\n",
    "    <div class=\"container\">\n",
    "        <div class=\"dashboard-header\">\n",
    "            <h1>Indigo Airlines App Review Analysis Dashboard</h1>\n",
    "            <p>This comprehensive dashboard provides a detailed analysis of 10,000+ user reviews including sentiment analysis, \n",
    "            version-specific performance, and trending patterns that can help guide app development priorities.</p>\n",
    "            \n",
    "            <div class=\"overview-stats\">\n",
    "                <p><strong>Total Reviews:</strong> {len(analyzed_df)} | \n",
    "                <strong>Average Rating:</strong> {analyzed_df['rating'].mean():.2f}/5.0 |\n",
    "                <strong>Date Range:</strong> {date_range}</p>\n",
    "            </div>\n",
    "        </div>\n",
    "        \n",
    "        <div class=\"section\">\n",
    "            <div class=\"section-header\">\n",
    "                <h2>Navigation</h2>\n",
    "            </div>\n",
    "            <ul class=\"tabs\">\n",
    "                <li class=\"tab\" onclick=\"openTab(event, 'executive-summary')\">Executive Summary</li>\n",
    "                <li class=\"tab\" onclick=\"openTab(event, 'ratings-sentiment')\">Ratings & Sentiment</li>\n",
    "                <li class=\"tab\" onclick=\"openTab(event, 'version-analysis')\">Version Analysis</li>\n",
    "                <li class=\"tab\" onclick=\"openTab(event, 'topic-analysis')\">Topic Analysis</li>\n",
    "                <li class=\"tab\" onclick=\"openTab(event, 'time-analysis')\">Time Trends</li>\n",
    "                <li class=\"tab\" onclick=\"openTab(event, 'dev-response')\">Developer Response</li>\n",
    "                <li class=\"tab\" onclick=\"openTab(event, 'data-tables')\">Data Tables</li>\n",
    "            </ul>\n",
    "            \n",
    "            <!-- Executive Summary Tab -->\n",
    "            <div id=\"executive-summary\" class=\"tab-content\">\n",
    "                <h3>Executive Summary</h3>\n",
    "                \n",
    "                <div class=\"explanation\">\n",
    "                    <h4>Dashboard Overview</h4>\n",
    "                    <p>This dashboard analyzes {len(analyzed_df)} reviews of the Indigo Airlines mobile app. The analysis includes \n",
    "                    sentiment classification, version performance tracking, topic modeling, and time trend analysis to provide \n",
    "                    actionable insights for app improvement and development prioritization.</p>\n",
    "                    \n",
    "                    <p>Use the tabs above to explore different aspects of the analysis:</p>\n",
    "                    <ul>\n",
    "                        <li><strong>Executive Summary:</strong> Overview and key findings</li>\n",
    "                        <li><strong>Ratings & Sentiment:</strong> Detailed breakdown of ratings and sentiment analysis</li>\n",
    "                        <li><strong>Version Analysis:</strong> Performance metrics across app versions</li>\n",
    "                        <li><strong>Topic Analysis:</strong> Key topics discovered in user reviews</li>\n",
    "                        <li><strong>Time Trends:</strong> How metrics have changed over time</li>\n",
    "                        <li><strong>Developer Response:</strong> Analysis of developer responses to reviews</li>\n",
    "                        <li><strong>Data Tables:</strong> Detailed data tables with metrics and comparisons</li>\n",
    "                    </ul>\n",
    "                </div>\n",
    "\n",
    "                <div class=\"insights-container\">\n",
    "                    <h3>Key Findings</h3>\n",
    "                    {findings_html}\n",
    "                </div>\n",
    "            </div>\n",
    "            \n",
    "            <!-- Ratings & Sentiment Tab -->\n",
    "            <div id=\"ratings-sentiment\" class=\"tab-content\">\n",
    "                <h3>Ratings & Sentiment Analysis</h3>\n",
    "                \n",
    "                <div class=\"row\">\n",
    "                    <div class=\"col-12\">\n",
    "                        <div class=\"viz-container\">\n",
    "                            <h4>Overall Rating Distribution</h4>\n",
    "                            <div id=\"rating_distribution_plot\" class=\"plot-container\"></div>\n",
    "                            <div class=\"explanation\">\n",
    "                                <p>This chart shows the distribution of user ratings (1-5 stars).\n",
    "                                The average rating is {analyzed_df['rating'].mean():.2f} across all {len(analyzed_df)} reviews.</p>\n",
    "                                \n",
    "                                <p>The distribution shows a bimodal pattern with peaks at 1-star and 5-star ratings, \n",
    "                                indicating strong polarization in user opinions about the app.</p>\n",
    "                            </div>\n",
    "                        </div>\n",
    "                    </div>\n",
    "                </div>\n",
    "                \n",
    "                <div class=\"row\">\n",
    "                    <div class=\"col-12\">\n",
    "                        <div class=\"viz-container\">\n",
    "                            <h4>Overall Sentiment Distribution</h4>\n",
    "                            <div id=\"sentiment_distribution_plot\" class=\"plot-container\"></div>\n",
    "                            <div class=\"explanation\">\n",
    "                                <p>This chart shows the distribution of sentiment (positive, neutral, negative) \n",
    "                                across all reviews. The sentiment is determined through detailed text analysis.</p>\n",
    "                                \n",
    "                                <p>Sentiment distribution helps identify the emotional tone of reviews beyond \n",
    "                                just star ratings, revealing user satisfaction patterns.</p>\n",
    "                            </div>\n",
    "                        </div>\n",
    "                    </div>\n",
    "                </div>\n",
    "                \n",
    "                <div class=\"row\">\n",
    "                    <div class=\"col-12\">\n",
    "                        <div class=\"viz-container\">\n",
    "                            <h4>Rating by Version Range</h4>\n",
    "                            <div id=\"rating_by_range_plot\" class=\"plot-container\"></div>\n",
    "                        </div>\n",
    "                    </div>\n",
    "                </div>\n",
    "                \n",
    "                <div class=\"row\">\n",
    "                    <div class=\"col-6\">\n",
    "                        <div class=\"viz-container\">\n",
    "                            <h4>Sentiment Distribution: Latest Versions (7+)</h4>\n",
    "                            <div id=\"sentiment_latest_plot\" class=\"plot-container\"></div>\n",
    "                        </div>\n",
    "                    </div>\n",
    "                    <div class=\"col-6\">\n",
    "                        <div class=\"viz-container\">\n",
    "                            <h4>Sentiment Distribution: Current Versions (6.x)</h4>\n",
    "                            <div id=\"sentiment_current_plot\" class=\"plot-container\"></div>\n",
    "                        </div>\n",
    "                    </div>\n",
    "                </div>\n",
    "                \n",
    "                <div class=\"version-insight-box\">\n",
    "                    <h4>Rating vs. Sentiment Analysis</h4>\n",
    "                    <p>While ratings provide a numerical measure of user satisfaction, sentiment analysis \n",
    "                    captures emotional aspects from review text. Key insights:</p>\n",
    "                    <ul>\n",
    "                        <li>Most 1-2 star reviews express negative sentiment about technical issues</li>\n",
    "                        <li>4-5 star reviews with mixed sentiment often praise core functionality while noting specific improvements</li>\n",
    "                        <li>The high proportion of neutral sentiment (5.39%) indicates reviews that factually describe experiences without strong emotion</li>\n",
    "                    </ul>\n",
    "                </div>\n",
    "                \n",
    "                {unknown_versions_html}\n",
    "            </div>\n",
    "            \n",
    "            <!-- Version Analysis Tab -->\n",
    "            <div id=\"version-analysis\" class=\"tab-content\">\n",
    "                <h3>Version Analysis</h3>\n",
    "                \n",
    "                <div class=\"row\">\n",
    "                    <div class=\"col-12\">\n",
    "                        <div class=\"viz-container\">\n",
    "                            <h4>Average Rating by Version</h4>\n",
    "                            <div id=\"version_ratings_plot\" class=\"plot-container\"></div>\n",
    "                        </div>\n",
    "                    </div>\n",
    "                </div>\n",
    "                \n",
    "                <div class=\"row\">\n",
    "                    <div class=\"col-12\">\n",
    "                        <div class=\"viz-container\">\n",
    "                            <h4>Sentiment by Version</h4>\n",
    "                            <div id=\"sentiment_by_version_plot\" class=\"plot-container\"></div>\n",
    "                        </div>\n",
    "                    </div>\n",
    "                </div>\n",
    "                \n",
    "                <div class=\"row\">\n",
    "                    <div class=\"col-12\">\n",
    "                        <div class=\"viz-container\">\n",
    "                            <h4>Major Version Rating Trends</h4>\n",
    "                            <div id=\"major_version_trend_plot\" class=\"plot-container\"></div>\n",
    "                        </div>\n",
    "                    </div>\n",
    "                </div>\n",
    "                \n",
    "                <div class=\"version-insight-box\">\n",
    "                    <h4>Critical Version Insights</h4>\n",
    "                    <p>Analysis of version performance reveals:</p>\n",
    "                    <ul>\n",
    "                        <li>A significant decline in ratings from version 6.x (3.59/5.0) to version 7.x (1.89/5.0)</li>\n",
    "                        <li>Version 6.0.5 maintains the highest user satisfaction with 72.0% positive sentiment</li>\n",
    "                        <li>Version 7.2.4 shows critical issues with 82.5% negative sentiment, indicating serious regression</li>\n",
    "                        <li>Reviews from users with \"Unknown\" versions consistently show lower ratings (2.35/5.0), suggesting compatibility or update issues</li>\n",
    "                    </ul>\n",
    "                </div>\n",
    "            </div>\n",
    "            \n",
    "            <!-- Topic Analysis Tab -->\n",
    "            <div id=\"topic-analysis\" class=\"tab-content\">\n",
    "                <h3>Topic Analysis</h3>\n",
    "                \n",
    "                <div class=\"row\">\n",
    "                    <div class=\"col-12\">\n",
    "                        <div class=\"viz-container\">\n",
    "                            <h4>Topic Distribution</h4>\n",
    "                            <div id=\"topic_distribution_plot\" class=\"plot-container\"></div>\n",
    "                        </div>\n",
    "                    </div>\n",
    "                </div>\n",
    "                \n",
    "                <div class=\"version-insight-box\">\n",
    "                    <h4>Key Topics in User Reviews</h4>\n",
    "                    <p>Topic modeling has identified these key discussion areas in user reviews:</p>\n",
    "                    {topics_html}\n",
    "                    <p>Most concerning topics relate to payment systems, flight booking experiences, and customer service issues.</p>\n",
    "                </div>\n",
    "                \n",
    "                <div class=\"row\">\n",
    "                    <div class=\"col-12\">\n",
    "                        <h4>Version-Specific Topic Analysis</h4>\n",
    "                        <p>Analysis reveals that:</p>\n",
    "                        <ul>\n",
    "                            <li>The lowest-rated version (7.2.4) most commonly discusses issues related to app functionality, booking problems, and customer service errors</li>\n",
    "                            <li>The highest-rated version (6.0.5) receives more positive comments about user experience, successful bookings, and app performance</li>\n",
    "                            <li>Across all versions, \"good experience\" (Topic 6) remains the most discussed topic, but its proportion decreases significantly in version 7</li>\n",
    "                        </ul>\n",
    "                    </div>\n",
    "                </div>\n",
    "                \n",
    "                <div class=\"table-responsive\">\n",
    "                    <h4>Topic Distribution by Version (Top 10)</h4>\n",
    "                    {tables.get('topic_by_version', '<p>Topic distribution table not available</p>')}\n",
    "                </div>\n",
    "            </div>\n",
    "            \n",
    "            <!-- Time Analysis Tab -->\n",
    "            <div id=\"time-analysis\" class=\"tab-content\">\n",
    "                <h3>Time Trend Analysis</h3>\n",
    "                \n",
    "                <div class=\"row\">\n",
    "                    <div class=\"col-12\">\n",
    "                        <div class=\"viz-container\">\n",
    "                            <h4>Ratings & Volume Over Time</h4>\n",
    "                            <div id=\"time_trend_plot\" class=\"plot-container\"></div>\n",
    "                        </div>\n",
    "                    </div>\n",
    "                </div>\n",
    "                \n",
    "                <div class=\"row\">\n",
    "                    <div class=\"col-12\">\n",
    "                        <div class=\"viz-container\">\n",
    "                            <h4>Rating Distribution Heatmap by Month</h4>\n",
    "                            <div id=\"rating_heatmap_plot\" class=\"plot-container\"></div>\n",
    "                        </div>\n",
    "                    </div>\n",
    "                </div>\n",
    "                \n",
    "                <div class=\"row\">\n",
    "                    <div class=\"col-12\">\n",
    "                        <div class=\"viz-container\">\n",
    "                            <h4>Sentiment Trends Over Time</h4>\n",
    "                            <div id=\"sentiment_trend_plot\" class=\"plot-container\"></div>\n",
    "                        </div>\n",
    "                    </div>\n",
    "                </div>\n",
    "                \n",
    "                <div class=\"row\">\n",
    "                    <div class=\"col-12\">\n",
    "                        <div class=\"viz-container\">\n",
    "                            <h4>Review Volume by Version Over Time</h4>\n",
    "                            <div id=\"version_time_plot\" class=\"plot-container\"></div>\n",
    "                        </div>\n",
    "                    </div>\n",
    "                </div>\n",
    "                \n",
    "                <div class=\"version-insight-box\">\n",
    "                    <h4>Temporal Patterns</h4>\n",
    "                    <p>Analysis of review trends over time reveals:</p>\n",
    "                    <ul>\n",
    "                        <li>Recent months show a concerning downward trend in average rating, coinciding with the release of version 7.x</li>\n",
    "                        <li>Review volume spikes correlate with major version releases, particularly the 7.0 release which saw both increased volume and decreased ratings</li>\n",
    "                        <li>Weekend reviews tend to be slightly more negative than weekday reviews, suggesting different usage patterns</li>\n",
    "                        <li>The proportion of negative sentiment has increased over the most recent 3-month period</li>\n",
    "                    </ul>\n",
    "                </div>\n",
    "            </div>\n",
    "            \n",
    "            <!-- Developer Response Tab -->\n",
    "            <div id=\"dev-response\" class=\"tab-content\">\n",
    "                <h3>Developer Response Analysis</h3>\n",
    "                \n",
    "                <div class=\"row\">\n",
    "                    <div class=\"col-12\">\n",
    "                        <div class=\"viz-container\">\n",
    "                            <h4>Response Rate by Rating</h4>\n",
    "                            <div id=\"response_by_rating_plot\" class=\"plot-container\"></div>\n",
    "                        </div>\n",
    "                    </div>\n",
    "                </div>\n",
    "                \n",
    "                <div class=\"row\">\n",
    "                    <div class=\"col-12\">\n",
    "                        <div class=\"viz-container\">\n",
    "                            <h4>Response Rate by Version</h4>\n",
    "                            <div id=\"response_by_version_plot\" class=\"plot-container\"></div>\n",
    "                        </div>\n",
    "                    </div>\n",
    "                </div>\n",
    "                \n",
    "                <div class=\"row\">\n",
    "                    <div class=\"col-12\">\n",
    "                        <div class=\"viz-container\">\n",
    "                            <h4>Response Distribution</h4>\n",
    "                            <div id=\"response_distribution_plot\" class=\"plot-container\"></div>\n",
    "                        </div>\n",
    "                    </div>\n",
    "                </div>\n",
    "                \n",
    "                <div class=\"row\">\n",
    "                    <div class=\"col-12\">\n",
    "                        <div class=\"viz-container\">\n",
    "                            <h4>Average Rating by Response</h4>\n",
    "                            <div id=\"response_rating_plot\" class=\"plot-container\"></div>\n",
    "                        </div>\n",
    "                    </div>\n",
    "                </div>\n",
    "                \n",
    "                <div class=\"version-insight-box\">\n",
    "                    <h4>Developer Response Insights</h4>\n",
    "                    <p>Analysis of developer response patterns reveals:</p>\n",
    "                    <ul>\n",
    "                        <li>Only {analyzed_df['repliedAt'].notna().sum()}/{len(analyzed_df)} reviews ({analyzed_df['repliedAt'].notna().mean()*100:.1f}%) received a developer response</li>\n",
    "                        <li>Negative reviews (1-2 stars) are 4.8x more likely to receive a response than positive reviews</li>\n",
    "                        <li>Version 5.1.9 has the highest developer response rate at 23.5% (40/170 reviews)</li>\n",
    "                        <li>Response rates dropped significantly for version 7.x releases</li>\n",
    "                        <li>Reviews that received responses have a lower average rating ({analyzed_df[analyzed_df['repliedAt'].notna()]['rating'].mean():.2f}) than those that did not ({analyzed_df[analyzed_df['repliedAt'].isna()]['rating'].mean():.2f})</li>\n",
    "                    </ul>\n",
    "                </div>\n",
    "            </div>\n",
    "            \n",
    "            <!-- Data Tables Tab -->\n",
    "            <div id=\"data-tables\" class=\"tab-content\">\n",
    "                <h3>Data Tables</h3>\n",
    "                \n",
    "                <div class=\"table-responsive\">\n",
    "                    <h4>Average Rating by Version (Top 15)</h4>\n",
    "                    {tables.get('rating_by_version', '<p>Rating table not available</p>')}\n",
    "                </div>\n",
    "                \n",
    "                <div class=\"table-responsive\">\n",
    "                    <h4>Topic Distribution by Version (Top 10)</h4>\n",
    "                    {tables.get('topic_by_version', '<p>Topic distribution table not available</p>')}\n",
    "                </div>\n",
    "                \n",
    "                <div class=\"table-responsive\">\n",
    "                    <h4>Developer Response Rate by Version (Top 10)</h4>\n",
    "                    {tables.get('response_by_version', '<p>Response rate table not available</p>')}\n",
    "                </div>\n",
    "            </div>\n",
    "        </div>\n",
    "    </div>\n",
    "    \n",
    "    <!-- AI Insights Section -->\n",
    "    <div class=\"container\">\n",
    "      <div class=\"section\">\n",
    "        <div class=\"section-header\">\n",
    "          <h2>Review Insights</h2>\n",
    "          <p>Generated on: 2025-05-08 14:56:52</p>\n",
    "          <h3>Parameters</h3>\n",
    "          <ul>\n",
    "            <li><strong>Total Reviews</strong>: 10000</li>\n",
    "            <li><strong>Distinct Buckets</strong>: 10</li>\n",
    "            <li><strong>Sample Size</strong>: 600</li>\n",
    "            <li><strong>Rating Focus</strong>: negative (1 to 2 stars)</li>\n",
    "            <li><strong>Clustering</strong>: auto</li>\n",
    "            <li><strong>Model</strong>: gpt-4o</li>\n",
    "            <li>\n",
    "              <strong>Focus areas</strong>: App Performance & Stability, Booking\n",
    "              Experience, Check-in Process, Customer Support, Payment System,\n",
    "              User Interface & Design, Flight Information & Updates, Loyalty\n",
    "              Program & Miles, In-app Features, Flight Modifications &\n",
    "              Cancellations, Baggage Information, Boarding Pass & Digital\n",
    "              Documents\n",
    "            </li>\n",
    "          </ul>\n",
    "        </div>\n",
    "        <div id=\"ai-insights\">\n",
    "          <h3>Comprehensive Analysis of Indigo Airlines Mobile App Reviews</h3>\n",
    "\n",
    "          <h4>1. Overall Sentiment and Main Themes</h4>\n",
    "          <ul>\n",
    "            <li>\n",
    "              <strong>Sentiment</strong>: The overall sentiment of the reviews\n",
    "              is predominantly negative, with a significant number of 1 and\n",
    "              2-star ratings. Users express frustration with the app's\n",
    "              functionality and performance.\n",
    "            </li>\n",
    "            <li>\n",
    "              <strong>Main Themes</strong>:\n",
    "              <ul>\n",
    "                <li>\n",
    "                  <strong>App Performance & Stability</strong>: Frequent\n",
    "                  crashes, slow performance, and compatibility issues are major\n",
    "                  concerns.\n",
    "                </li>\n",
    "                <li>\n",
    "                  <strong>Booking Experience</strong>: Users report issues with\n",
    "                  booking processes, including disappearing bookings and\n",
    "                  unexpected fare increases.\n",
    "                </li>\n",
    "                <li>\n",
    "                  <strong>Check-in Process</strong>: Many users face\n",
    "                  difficulties with web check-in, often due to technical\n",
    "                  glitches or forced seat purchases.\n",
    "                </li>\n",
    "                <li>\n",
    "                  <strong>Customer Support</strong>: Poor customer service and\n",
    "                  unresponsive support are recurring complaints.\n",
    "                </li>\n",
    "                <li>\n",
    "                  <strong>Payment System</strong>: Payment failures and\n",
    "                  unexpected convenience fees are common issues.\n",
    "                </li>\n",
    "                <li>\n",
    "                  <strong>User Interface & Design</strong>: The app is described\n",
    "                  as user-unfriendly, with navigation difficulties and poor\n",
    "                  design choices.\n",
    "                </li>\n",
    "                <li>\n",
    "                  <strong>Flight Information & Updates</strong>: Users report\n",
    "                  missing or incorrect flight information and updates.\n",
    "                </li>\n",
    "                <li>\n",
    "                  <strong>Loyalty Program & Miles</strong>: Issues with loyalty\n",
    "                  points not being reflected or accessible.\n",
    "                </li>\n",
    "                <li>\n",
    "                  <strong>In-app Features</strong>: Missing features like saving\n",
    "                  trips and accessing boarding passes are highlighted.\n",
    "                </li>\n",
    "                <li>\n",
    "                  <strong>Flight Modifications & Cancellations</strong>: Users\n",
    "                  struggle with modifying bookings and face high cancellation\n",
    "                  charges.\n",
    "                </li>\n",
    "              </ul>\n",
    "            </li>\n",
    "          </ul>\n",
    "\n",
    "          <h4>2. Significant Issues Identified</h4>\n",
    "          <ul>\n",
    "            <li>\n",
    "              <strong>Performance and Compatibility</strong>: The app frequently\n",
    "              crashes, is slow, and is incompatible with certain devices.\n",
    "            </li>\n",
    "            <li>\n",
    "              <strong>Web Check-in and Boarding Passes</strong>: Users cannot\n",
    "              reliably check in or access boarding passes, leading to\n",
    "              significant inconvenience.\n",
    "            </li>\n",
    "            <li>\n",
    "              <strong>Payment and Fees</strong>: Payment processes are\n",
    "              unreliable, with frequent failures and unexpected fees.\n",
    "            </li>\n",
    "            <li>\n",
    "              <strong>Customer Support</strong>: Lack of effective customer\n",
    "              support and unresolved issues are major pain points.\n",
    "            </li>\n",
    "            <li>\n",
    "              <strong>User Experience</strong>: The app's design and navigation\n",
    "              are not intuitive, leading to user frustration.\n",
    "            </li>\n",
    "          </ul>\n",
    "\n",
    "          <h4>3. Feature Requests and Constructive Feedback</h4>\n",
    "          <ul>\n",
    "            <li>\n",
    "              <strong>Improved Stability</strong>: Users request a more stable\n",
    "              and faster app experience.\n",
    "            </li>\n",
    "            <li>\n",
    "              <strong>Seamless Check-in</strong>: A reliable check-in process\n",
    "              without forced seat purchases.\n",
    "            </li>\n",
    "            <li>\n",
    "              <strong>Transparent Pricing</strong>: Clear communication about\n",
    "              fees and charges during booking.\n",
    "            </li>\n",
    "            <li>\n",
    "              <strong>Enhanced Customer Support</strong>: More responsive and\n",
    "              helpful customer service.\n",
    "            </li>\n",
    "            <li>\n",
    "              <strong>User-Friendly Interface</strong>: A more intuitive and\n",
    "              easy-to-navigate app design.\n",
    "            </li>\n",
    "          </ul>\n",
    "\n",
    "          <h4>4. Patterns Related to App Versions and Processes</h4>\n",
    "          <ul>\n",
    "            <li>\n",
    "              <strong>Version Updates</strong>: Recent updates have introduced\n",
    "              more issues than they resolved, with users preferring older\n",
    "              versions.\n",
    "            </li>\n",
    "            <li>\n",
    "              <strong>Booking and Check-in</strong>: Users consistently face\n",
    "              issues with booking and check-in processes across multiple app\n",
    "              versions.\n",
    "            </li>\n",
    "            <li>\n",
    "              <strong>Device Compatibility</strong>: Newer app versions are\n",
    "              incompatible with older devices, causing user dissatisfaction.\n",
    "            </li>\n",
    "          </ul>\n",
    "\n",
    "          <h4>5. Actionable Improvements</h4>\n",
    "          <ol>\n",
    "            <li>\n",
    "              <strong>Enhance App Stability and Performance</strong>: Prioritize\n",
    "              fixing bugs and improving app speed and reliability.\n",
    "            </li>\n",
    "            <li>\n",
    "              <strong>Revamp the Check-in Process</strong>: Ensure a seamless\n",
    "              check-in experience without mandatory seat purchases.\n",
    "            </li>\n",
    "            <li>\n",
    "              <strong>Improve Payment Systems</strong>: Address payment gateway\n",
    "              issues and eliminate unexpected fees.\n",
    "            </li>\n",
    "            <li>\n",
    "              <strong>Redesign User Interface</strong>: Create a more intuitive\n",
    "              and user-friendly design to enhance navigation and usability.\n",
    "            </li>\n",
    "            <li>\n",
    "              <strong>Strengthen Customer Support</strong>: Implement more\n",
    "              effective customer service channels to address user concerns\n",
    "              promptly.\n",
    "            </li>\n",
    "          </ol>\n",
    "\n",
    "          <h4>6. Positive Aspects to Amplify</h4>\n",
    "          <ul>\n",
    "            <li>\n",
    "              <strong>Booking Experience</strong>: Some users appreciate the\n",
    "              ease of booking when the app functions correctly.\n",
    "            </li>\n",
    "            <li>\n",
    "              <strong>Service Quality</strong>: Positive feedback on the\n",
    "              airline's service when not hindered by app issues.\n",
    "            </li>\n",
    "            <li>\n",
    "              <strong>Loyalty Program</strong>: Users value the loyalty program\n",
    "              when it functions properly, suggesting potential for enhancement.\n",
    "            </li>\n",
    "          </ul>\n",
    "\n",
    "          <h4>Supporting Quotes</h4>\n",
    "          <ul>\n",
    "            <li>\"The app is so slow.\" (Review #183)</li>\n",
    "            <li>\n",
    "              \"Boarding pass is not available in the app for the second leg of\n",
    "              any connecting flight.\" (Review #91)\n",
    "            </li>\n",
    "            <li>\"Payment gateway problem.\" (Review #115)</li>\n",
    "            <li>\"App not working properly.\" (Review #525)</li>\n",
    "            <li>\"Very poor app service and customer support.\" (Review #370)</li>\n",
    "          </ul>\n",
    "\n",
    "          <p>\n",
    "            By addressing these key issues and implementing the suggested\n",
    "            improvements, Indigo Airlines can significantly enhance the user\n",
    "            experience and regain customer trust in their mobile application.\n",
    "          </p>\n",
    "        </div>\n",
    "      </div>\n",
    "    </div>\n",
    "    \n",
    "    <!-- Footer -->\n",
    "    <div class=\"container\">\n",
    "        <div class=\"section\">\n",
    "            <p style=\"text-align: center; color: #666;\">\n",
    "                Generated on {datetime.now().strftime('%Y-%m-%d %H:%M:%S')} | \n",
    "                Total Reviews: {len(analyzed_df)} |\n",
    "                Analysis by Indigo Reviews AI\n",
    "            </p>\n",
    "        </div>\n",
    "    </div>\n",
    "    \n",
    "    {javascript}\n",
    "</body>\n",
    "</html>\n",
    "\"\"\"\n",
    "\n",
    "# Write the dashboard HTML file\n",
    "dashboard_path = os.path.join(output_dir, \"indigo_dashboard.html\")\n",
    "with open(dashboard_path, \"w\") as f:\n",
    "    f.write(html_content)\n",
    "\n",
    "print(f\"Comprehensive dashboard created at: {dashboard_path}\")\n",
    "print(\"\\nDashboard includes:\")\n",
    "print(\"- Executive Summary with key findings and AI insights\")\n",
    "print(\"- Ratings & Sentiment Analysis with detailed breakdowns\")\n",
    "print(\"- Version Analysis with performance metrics across app versions\")\n",
    "print(\"- Topic Analysis showing key topics in user reviews\")\n",
    "print(\"- Time Trends showing how metrics have changed over time\")\n",
    "print(\"- Developer Response Analysis showing who gets responses\")\n",
    "print(\"- Data Tables with detailed metrics and comparisons\")\n",
    "print(\"\\nOpen the HTML file in a web browser to view all visualizations, tables, and insights in one place.\")"
   ]
  },
  {
   "cell_type": "code",
   "execution_count": null,
   "metadata": {},
   "outputs": [],
   "source": [
    "# Alternative dashboard creation method using insights_data parameter\n",
    "# This is included for backward compatibility with older versions of simple_dashboard.py\n",
    "\n",
    "# First import the module and force reload to ensure we have the latest version\n",
    "import sys\n",
    "sys.path.append('notebooks')  # Add notebooks to path\n",
    "import importlib\n",
    "import simple_dashboard\n",
    "importlib.reload(simple_dashboard)  # Force reload the module\n",
    "\n",
    "# Create output directory\n",
    "import os\n",
    "from datetime import datetime\n",
    "output_dir = os.path.join(\"reports\", datetime.now().strftime(\"%Y%m%d_%H%M%S\"))\n",
    "os.makedirs(output_dir, exist_ok=True)\n",
    "\n",
    "# Get topic words and build enhanced metadata for dashboard\n",
    "insights_data = {}\n",
    "\n",
    "# Add topic information if available\n",
    "if \"topics\" in locals() and isinstance(topics, tuple):\n",
    "    _, topic_words = topics\n",
    "    insights_data[\"topic_words\"] = topic_words\n",
    "elif \"analysis_results\" in locals() and \"topics\" in analysis_results:\n",
    "    _, topic_words = analysis_results[\"topics\"]\n",
    "    insights_data[\"topic_words\"] = topic_words\n",
    "else:\n",
    "    topic_words = {}\n",
    "    insights_data[\"topic_words\"] = topic_words\n",
    "\n",
    "# Add version findings if available\n",
    "if 'findings' in locals():\n",
    "    insights_data[\"version_findings\"] = findings\n",
    "\n",
    "# Add AI insights if available\n",
    "if 'ai_insights' in globals():\n",
    "    insights_data[\"ai_insights\"] = ai_insights\n",
    "\n",
    "# Add information about the processed data\n",
    "insights_data[\"data_info\"] = {\n",
    "    \"total_reviews\": len(reviews_df),\n",
    "    \"date_range\": {\n",
    "        \"start\": reviews_df['date'].min().strftime('%Y-%m-%d') if 'date' in reviews_df.columns and reviews_df['date'].notna().any() else \"Unknown\",\n",
    "        \"end\": reviews_df['date'].max().strftime('%Y-%m-%d') if 'date' in reviews_df.columns and reviews_df['date'].notna().any() else \"Unknown\"\n",
    "    },\n",
    "    \"top_versions\": reviews_df['version'].value_counts().head(5).to_dict() if 'version' in reviews_df.columns else {},\n",
    "    \"sentiment_distribution\": reviews_df['sentiment'].value_counts(normalize=True).multiply(100).round(1).to_dict() if 'sentiment' in reviews_df.columns else {},\n",
    "    \"rating_distribution\": reviews_df['rating'].value_counts(normalize=True).multiply(100).round(1).to_dict() if 'rating' in reviews_df.columns else {}\n",
    "}\n",
    "\n",
    "# Try to create the dashboard with both parameter options\n",
    "try:\n",
    "    # First try with standard parameters (as done in cell 34)\n",
    "    dashboard_path = simple_dashboard.create_dashboard(\n",
    "        analyzed_df=reviews_df,\n",
    "        output_dir=output_dir,\n",
    "        topic_words=topic_words,\n",
    "        findings=findings if 'findings' in locals() else None,\n",
    "        ai_insights=ai_insights if 'ai_insights' in globals() else None,\n",
    "        single_file=True\n",
    "    )\n",
    "    print(\"Created dashboard using standard parameters\")\n",
    "except Exception as e:\n",
    "    print(f\"Error with standard parameters: {e}\")\n",
    "    try:\n",
    "        # Then try with insights_data (if this is an older version of the module)\n",
    "        dashboard_path = simple_dashboard.create_dashboard(\n",
    "            analyzed_df=reviews_df,\n",
    "            output_dir=output_dir,\n",
    "            topic_words=topic_words,\n",
    "            insights_data=insights_data,\n",
    "            app_name=\"Indigo Airlines Mobile App\",\n",
    "            include_date_analysis=True,\n",
    "            include_version_analysis=True,\n",
    "            include_text_analysis=True\n",
    "        )\n",
    "        print(\"Created dashboard using insights_data parameter\")\n",
    "    except Exception as e2:\n",
    "        print(f\"Error with insights_data parameter: {e2}\")\n",
    "        dashboard_path = None\n",
    "\n",
    "if dashboard_path:\n",
    "    print(f\"Enhanced dashboard created at: {dashboard_path}\")\n",
    "    print(\"\\nThis comprehensive interactive dashboard includes:\")\n",
    "    print(\"- Analysis of 10,000+ reviews from the processed dataset\")\n",
    "    print(\"- Time-based analysis showing rating trends over time\")\n",
    "    print(\"- Version analysis with major/minor version breakdowns\")\n",
    "    print(\"- Sentiment analysis with key positive and negative phrases\")\n",
    "    print(\"- Topic modeling with detailed breakdowns\")\n",
    "    print(\"- Text analysis showing distinctive words by sentiment\")\n",
    "    print(\"\\nOpen this HTML file in a web browser to view all visualizations in a single file,\")\n",
    "    print(\"ready to share with stakeholders.\")\n",
    "else:\n",
    "    print(\"Failed to create dashboard. Please check the 'simple_dashboard.py' file and update your approach accordingly.\")"
   ]
  }
 ],
 "metadata": {
  "kernelspec": {
   "display_name": "Python 3",
   "language": "python",
   "name": "python3"
  },
  "language_info": {
   "codemirror_mode": {
    "name": "ipython",
    "version": 3
   },
   "file_extension": ".py",
   "mimetype": "text/x-python",
   "name": "python",
   "nbconvert_exporter": "python",
   "pygments_lexer": "ipython3",
   "version": "3.10.12"
  }
 },
 "nbformat": 4,
 "nbformat_minor": 4
}
