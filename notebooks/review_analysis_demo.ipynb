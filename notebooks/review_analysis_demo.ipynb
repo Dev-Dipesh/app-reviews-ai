{
 "cells": [
  {
   "cell_type": "markdown",
   "metadata": {},
   "source": "# App Reviews AI - Demo Notebook\n\nThis notebook demonstrates how to use the App Reviews AI system to analyze app reviews from the Google Play Store.",
   "outputs": []
  },
  {
   "cell_type": "markdown",
   "metadata": {},
   "source": [
    "## Setup\n",
    "\n",
    "First, let's set up the environment and import the necessary modules."
   ]
  },
  {
   "cell_type": "code",
   "execution_count": null,
   "metadata": {},
   "outputs": [],
   "source": [
    "# Import required libraries\n",
    "import os\n",
    "import sys\n",
    "import pandas as pd\n",
    "import matplotlib.pyplot as plt\n",
    "import seaborn as sns\n",
    "from datetime import datetime\n",
    "from dotenv import load_dotenv\n",
    "\n",
    "# Add the project root to the path so we can import our modules\n",
    "sys.path.insert(0, '..')\n",
    "\n",
    "# Load environment variables from .env file\n",
    "load_dotenv()\n",
    "\n",
    "# Check if OpenAI API key is available\n",
    "if not os.environ.get(\"OPENAI_API_KEY\"):\n",
    "    print(\"⚠️ WARNING: OPENAI_API_KEY not found in environment variables. Some features may not work.\")"
   ]
  },
  {
   "cell_type": "markdown",
   "metadata": {},
   "source": [
    "## Initialize the Runner\n",
    "\n",
    "Now let's import and initialize our review analysis runner."
   ]
  },
  {
   "cell_type": "code",
   "execution_count": null,
   "metadata": {},
   "outputs": [],
   "source": [
    "from src.runner import ReviewAnalysisRunner\n",
    "\n",
    "# Initialize the runner\n",
    "runner = ReviewAnalysisRunner()\n",
    "\n",
    "# Initialize the modules\n",
    "runner._initialize_modules()"
   ]
  },
  {
   "cell_type": "markdown",
   "metadata": {},
   "source": "## Fetch App Reviews\n\nLet's fetch reviews for an example mobile app from the Google Play Store. You can adjust the parameters as needed.",
   "outputs": []
  },
  {
   "cell_type": "code",
   "metadata": {},
   "outputs": [],
   "source": "# Fetch reviews\napp_id = \"com.example.app\"  # Example mobile app ID\nstart_date = \"6 months ago\"     # Fetch reviews from 6 months ago\nend_date = \"now\"                # Up to today\nmax_reviews = 1000              # Limit to 1000 reviews for demonstration purposes\n\nreviews_df = runner.fetch_reviews(\n    app_id=app_id,\n    start_date=start_date,\n    end_date=end_date,\n    max_reviews=max_reviews\n)\n\n# Display app info\napp_info = runner.pipeline_metadata.get(\"app_info\", {})\nprint(f\"App: {app_info.get('name')}\")\nprint(f\"Developer: {app_info.get('developer')}\")\nprint(f\"Total reviews: {app_info.get('total_reviews')}\")\nprint(f\"Average rating: {app_info.get('average_rating')}\")\n\n# Show the first few reviews\nreviews_df.head()"
  },
  {
   "cell_type": "markdown",
   "metadata": {},
   "source": [
    "## Preprocess Reviews\n",
    "\n",
    "Now let's preprocess the reviews to clean and normalize the text."
   ]
  },
  {
   "cell_type": "code",
   "execution_count": null,
   "metadata": {},
   "outputs": [],
   "source": [
    "# Preprocess reviews\n",
    "processed_df = runner.preprocess_reviews(reviews_df)\n",
    "\n",
    "# Show the preprocessed data\n",
    "processed_df[[\"text\", \"cleaned_text\", \"normalized_text\"]].head()"
   ]
  },
  {
   "cell_type": "markdown",
   "metadata": {},
   "source": [
    "## Analyze Reviews\n",
    "\n",
    "Let's run various analyses on the reviews."
   ]
  },
  {
   "cell_type": "code",
   "execution_count": null,
   "metadata": {},
   "outputs": [],
   "source": [
    "# Analyze reviews\n",
    "analysis_output = runner.analyze_reviews(\n",
    "    reviews_df=processed_df,\n",
    "    analysis_types=[\"sentiment\", \"topics\", \"keywords\", \"trends\"]\n",
    ")\n",
    "\n",
    "# Extract updated DataFrame and analysis results\n",
    "analyzed_df = analysis_output[\"reviews_df\"]\n",
    "analysis_results = analysis_output[\"analysis_results\"]\n",
    "\n",
    "# Show sentiment analysis results\n",
    "if \"sentiment\" in analysis_results:\n",
    "    print(\"=== Sentiment Analysis ===\\n\")\n",
    "    sentiment_counts = analyzed_df[\"sentiment\"].value_counts()\n",
    "    print(sentiment_counts)\n",
    "    print(f\"\\nPositive percentage: {sentiment_counts.get('positive', 0) / len(analyzed_df) * 100:.2f}%\")\n",
    "    print(f\"Neutral percentage: {sentiment_counts.get('neutral', 0) / len(analyzed_df) * 100:.2f}%\")\n",
    "    print(f\"Negative percentage: {sentiment_counts.get('negative', 0) / len(analyzed_df) * 100:.2f}%\")\n",
    "\n",
    "# Show topic modeling results\n",
    "if \"topics\" in analysis_results:\n",
    "    print(\"\\n=== Topic Modeling ===\\n\")\n",
    "    _, topic_words = analysis_results[\"topics\"]\n",
    "    for topic_id, words in topic_words.items():\n",
    "        print(f\"Topic {topic_id}: {', '.join(words[:10])}\")\n",
    "\n",
    "# Show some analyzed reviews with sentiment and topics\n",
    "analyzed_df[[\"text\", \"sentiment\", \"primary_topic\", \"rating\"]].head()"
   ]
  },
  {
   "cell_type": "markdown",
   "metadata": {},
   "source": [
    "## Keyword Analysis\n",
    "\n",
    "Let's examine the top keywords extracted from the reviews."
   ]
  },
  {
   "cell_type": "code",
   "execution_count": null,
   "metadata": {},
   "outputs": [],
   "source": [
    "# Display keyword analysis results\n",
    "if \"keywords\" in analysis_results:\n",
    "    keywords_df = analysis_results[\"keywords\"]\n",
    "    print(\"Top 20 Keywords:\")\n",
    "    keywords_df.head(20)"
   ]
  },
  {
   "cell_type": "markdown",
   "metadata": {},
   "source": [
    "## Rating Distribution Visualization\n",
    "\n",
    "Let's create a visualization of the rating distribution."
   ]
  },
  {
   "cell_type": "code",
   "metadata": {},
   "outputs": [],
   "source": "# Create rating distribution visualization\nrating_viz = runner.visualizer.plot_rating_distribution(\n    data=analyzed_df,\n    title=\"Mobile App - Rating Distribution\",\n    use_plotly=True,\n    close_fig=False\n)\n\n# Display the figure\nrating_viz[\"figure\"].show()"
  },
  {
   "cell_type": "markdown",
   "metadata": {},
   "source": [
    "## Rating Trend Over Time\n",
    "\n",
    "Let's examine how ratings have changed over time."
   ]
  },
  {
   "cell_type": "code",
   "metadata": {},
   "outputs": [],
   "source": "# Create rating trend visualization\ntrend_viz = runner.visualizer.plot_rating_trend(\n    data=analyzed_df,\n    title=\"Mobile App - Rating Trend\",\n    freq=\"W\",  # Weekly\n    use_plotly=True,\n    close_fig=False\n)\n\n# Display the figure\ntrend_viz[\"figure\"].show()"
  },
  {
   "cell_type": "markdown",
   "metadata": {},
   "source": [
    "## Sentiment Distribution\n",
    "\n",
    "Let's visualize the sentiment distribution."
   ]
  },
  {
   "cell_type": "code",
   "metadata": {},
   "outputs": [],
   "source": "# Create sentiment distribution visualization\nsentiment_viz = runner.visualizer.plot_sentiment_distribution(\n    data=analyzed_df,\n    title=\"Mobile App - Sentiment Distribution\",\n    use_plotly=True,\n    close_fig=False\n)\n\n# Display the figure\nsentiment_viz[\"figure\"].show()"
  },
  {
   "cell_type": "markdown",
   "metadata": {},
   "source": [
    "## Word Cloud\n",
    "\n",
    "Let's create a word cloud to visualize the most common terms in the reviews."
   ]
  },
  {
   "cell_type": "code",
   "metadata": {},
   "outputs": [],
   "source": "# Create word cloud visualization\nwordcloud_viz = runner.visualizer.plot_word_cloud(\n    data=analyzed_df,\n    title=\"Mobile App - Word Cloud\",\n    close_fig=False\n)\n\n# Display the figure\nplt.figure(figsize=(12, 8))\nplt.imshow(wordcloud_viz[\"figure\"])\nplt.axis(\"off\")\nplt.title(\"Mobile App - Word Cloud\")\nplt.show()"
  },
  {
   "cell_type": "markdown",
   "metadata": {},
   "source": [
    "## Topic Distribution\n",
    "\n",
    "Let's visualize the distribution of topics."
   ]
  },
  {
   "cell_type": "code",
   "metadata": {},
   "outputs": [],
   "source": "# Create topic distribution visualization\nif \"topics\" in analysis_results:\n    _, topic_words = analysis_results[\"topics\"]\n    \n    topic_viz = runner.visualizer.plot_topic_distribution(\n        data=analyzed_df,\n        topic_words=topic_words,\n        title=\"Mobile App - Topic Distribution\",\n        use_plotly=True,\n        close_fig=False\n    )\n    \n    # Display the figure\n    topic_viz[\"figure\"].show()"
  },
  {
   "cell_type": "markdown",
   "metadata": {},
   "source": [
    "## Generate Insights with LLM\n",
    "\n",
    "Let's use the LLM to generate insights from the reviews."
   ]
  },
  {
   "cell_type": "code",
   "execution_count": null,
   "metadata": {},
   "outputs": [],
   "source": [
    "# Generate insights\n",
    "insights = runner.generate_insights(\n",
    "    reviews_df=analyzed_df,\n",
    "    analysis_results=analysis_results,\n",
    "    insight_types=[\"general\", \"issues\", \"suggestions\"]\n",
    ")\n",
    "\n",
    "# Display general insights\n",
    "if \"general\" in insights:\n",
    "    print(\"=== General Insights ===\\n\")\n",
    "    print(insights[\"general\"][\"analysis\"])\n",
    "\n",
    "# Display identified issues\n",
    "if \"issues\" in insights:\n",
    "    print(\"\\n=== Identified Issues ===\\n\")\n",
    "    print(insights[\"issues\"][\"analysis\"])\n",
    "\n",
    "# Display suggestions\n",
    "if \"suggestions\" in insights:\n",
    "    print(\"\\n=== Suggestions for Improvement ===\\n\")\n",
    "    print(insights[\"suggestions\"][\"analysis\"])"
   ]
  },
  {
   "cell_type": "markdown",
   "metadata": {},
   "source": [
    "## Save Reviews to Storage\n",
    "\n",
    "Let's save the analyzed reviews to our storage system."
   ]
  },
  {
   "cell_type": "code",
   "execution_count": null,
   "metadata": {},
   "outputs": [],
   "source": [
    "# Store reviews\n",
    "success = runner.store_reviews(analyzed_df)\n",
    "print(f\"Stored reviews successfully: {success}\")"
   ]
  },
  {
   "cell_type": "markdown",
   "metadata": {},
   "source": [
    "## Index Reviews in Vector Database\n",
    "\n",
    "Let's index the reviews in our vector database for semantic search."
   ]
  },
  {
   "cell_type": "code",
   "execution_count": null,
   "metadata": {},
   "outputs": [],
   "source": [
    "# Index reviews in vector database\n",
    "success = runner.index_reviews(analyzed_df)\n",
    "print(f\"Indexed reviews successfully: {success}\")\n",
    "\n",
    "# Get vector database stats\n",
    "stats = runner.vector_db.get_collection_stats()\n",
    "print(\"\\nVector Database Stats:\")\n",
    "for key, value in stats.items():\n",
    "    print(f\"{key}: {value}\")"
   ]
  },
  {
   "cell_type": "markdown",
   "metadata": {},
   "source": [
    "## Semantic Search\n",
    "\n",
    "Let's search for reviews semantically using the vector database."
   ]
  },
  {
   "cell_type": "code",
   "execution_count": null,
   "metadata": {},
   "outputs": [],
   "source": [
    "# Perform semantic searches\n",
    "search_queries = [\n",
    "    \"Problems with booking flights\",\n",
    "    \"Issues with customer service\",\n",
    "    \"Compliments about the app's user interface\",\n",
    "    \"Problems with check-in process\"\n",
    "]\n",
    "\n",
    "for query in search_queries:\n",
    "    print(f\"\\n=== Search: '{query}' ===\\n\")\n",
    "    results = runner.vector_db.search(query, n_results=5)\n",
    "    \n",
    "    for i, result in enumerate(results):\n",
    "        print(f\"Result {i+1} (Score: {result.get('score', 'N/A')})\")\n",
    "        print(f\"Rating: {result.get('rating', 'N/A')}\")\n",
    "        print(f\"Sentiment: {result.get('sentiment', 'N/A')}\")\n",
    "        print(f\"Text: {result.get('text', 'N/A')[:200]}...\" if len(result.get('text', '')) > 200 else f\"Text: {result.get('text', 'N/A')}\")\n",
    "        print()"
   ]
  },
  {
   "cell_type": "markdown",
   "metadata": {},
   "source": [
    "## Create a Dashboard\n",
    "\n",
    "Finally, let's create a comprehensive dashboard with all our visualizations."
   ]
  },
  {
   "cell_type": "code",
   "metadata": {},
   "outputs": [],
   "source": "# Create dashboard\nif \"topics\" in analysis_results:\n    _, topic_words = analysis_results[\"topics\"]\nelse:\n    topic_words = None\n\ndashboard = runner.visualizer.create_dashboard(\n    data=analyzed_df,\n    topic_words=topic_words,\n    title=\"Mobile App Review Analysis Dashboard\"\n)\n\n# Display dashboard file path\nprint(f\"Dashboard created at: {dashboard['file_path']}\")\nprint(\"\\nOpen this file in a web browser to view the interactive dashboard.\")"
  },
  {
   "cell_type": "markdown",
   "metadata": {},
   "source": "## Summary\n\nIn this notebook, we've demonstrated the capabilities of the App Reviews AI system:\n\n1. Fetching reviews from the Google Play Store\n2. Preprocessing and cleaning review text\n3. Analyzing reviews for sentiment and topics\n4. Extracting keywords and trends\n5. Creating visualizations\n6. Generating insights using LLM\n7. Storing and indexing reviews for semantic search\n8. Creating a comprehensive dashboard\n\nTo run the full pipeline in one go, you can use the `run_pipeline()` method from the runner, or use the command-line interface by running `python src/runner.py` with the appropriate arguments.",
   "outputs": []
  }
 ],
 "metadata": {
  "kernelspec": {
   "display_name": "Python 3",
   "language": "python",
   "name": "python3"
  },
  "language_info": {
   "codemirror_mode": {
    "name": "ipython",
    "version": 3
   },
   "file_extension": ".py",
   "mimetype": "text/x-python",
   "name": "python",
   "nbconvert_exporter": "python",
   "pygments_lexer": "ipython3",
   "version": "3.10.12"
  }
 },
 "nbformat": 4,
 "nbformat_minor": 4
}